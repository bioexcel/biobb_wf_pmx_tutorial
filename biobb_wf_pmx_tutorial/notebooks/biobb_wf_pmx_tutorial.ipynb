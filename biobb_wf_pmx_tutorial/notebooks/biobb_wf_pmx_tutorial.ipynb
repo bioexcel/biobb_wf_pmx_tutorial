{
 "cells": [
  {
   "cell_type": "markdown",
   "metadata": {},
   "source": [
    "# Mutation Free Energy Calculations using BioExcel Building Blocks (biobb)\n",
    "### Based on the official pmx tutorial: http://pmx.mpibpc.mpg.de/sardinia2018_tutorial1/index.html\n",
    "***"
   ]
  },
  {
   "cell_type": "markdown",
   "metadata": {},
   "source": [
    "<div style=\"background:#b5e0dd;padding:15px;\"><strong>Important:</strong> This tutorial is using a <strong>Docker container</strong> to run <strong>pmx</strong>. To use a local installation of <strong>pmx</strong>, just modify the appropriate properties parameter <strong>pmx_cli_path</strong>.</div>"
   ]
  },
  {
   "cell_type": "markdown",
   "metadata": {},
   "source": [
    "This tutorial aims to illustrate how to compute a **fast-growth** **mutation free energy** calculation, step by step, using the **BioExcel Building Blocks library (biobb)**. The particular example used is the **Staphylococcal nuclease** protein (PDB code 1STN), a small, minimal protein, appropriate for a short tutorial. \n",
    "\n",
    "The **non-equilibrium free energy calculation** protocol performs a **fast alchemical transition** in the direction **WT->Mut** and back **Mut->WT**. The two **equilibrium trajectories** needed for the tutorial, one for **Wild Type (WT)** and another for the **Mutated (Mut)** protein (Isoleucine 10 to Alanine -I10A-), have already been generated and are included in this example.  We will name **WT as stateA** and **Mut as stateB**."
   ]
  },
  {
   "cell_type": "markdown",
   "metadata": {},
   "source": [
    "<img src=\"schema.png\" />"
   ]
  },
  {
   "cell_type": "markdown",
   "metadata": {},
   "source": [
    "The tutorial calculates the **free energy difference** in the folded state of a protein. Starting from **two 1ns-length independent equilibrium simulations** (WT and mutant), snapshots are selected to start **fast (50ps) transitions** driving the system in the **forward** (WT to mutant) and **reverse** (mutant to WT) directions, and the **work values** required to perform these transitions are collected. With these values, **Crooks Gaussian Intersection** (CGI), **Bennett Acceptance Ratio** (BAR) and **Jarzynski estimator** methods are used to calculate the **free energy difference** between the two states.\n",
    "\n",
    "*Please note that for the sake of disk space this tutorial is using 1ns-length equilibrium trajectories, whereas in the [original example](http://pmx.mpibpc.mpg.de/sardinia2018_tutorial1/eq.mdp) the equilibrium trajectories used were obtained from 10ns-length simulations.*\n",
    "***\n",
    "**Biobb modules** used:\n",
    "\n",
    " - [biobb_pmx](https://github.com/bioexcel/biobb_pmx): Tools to setup and run Alchemical Free Energy calculations.\n",
    " - [biobb_md](https://github.com/bioexcel/biobb_md): Tools to setup and run Molecular Dynamics simulations.\n",
    " - [biobb_analysis](https://github.com/bioexcel/biobb_analysis): Tools to analyse Molecular Dynamics trajectories.\n",
    " \n",
    "**Auxiliar libraries** used:\n",
    "\n",
    " - [nb_conda_kernels](https://github.com/Anaconda-Platform/nb_conda_kernels): Enables a Jupyter Notebook or JupyterLab application in one conda environment to access kernels for Python, R, and other languages found in other environments.\n",
    " - [os](https://docs.python.org/3/library/os.html): Python miscellaneous operating system interfaces\n",
    " - [plotly](https://plot.ly/python/offline/): Python interactive graphing library integrated in Jupyter notebooks.\n",
    "\n",
    "### Conda Installation and Launch\n",
    "\n",
    "```console\n",
    "git clone https://github.com/bioexcel/biobb_wf_pmx_tutorial.git\n",
    "cd biobb_wf_pmx_tutorial\n",
    "conda env create -f conda_env/environment.yml\n",
    "conda activate biobb_wf_pmx_tutorial\n",
    "jupyter-notebook biobb_wf_pmx_tutorial/notebooks/biobb_wf_pmx_tutorial.ipynb\n",
    "  ``` \n",
    "\n",
    "***\n",
    "### Pipeline steps:\n",
    " 1. [Workflow required files](#input)\n",
    " 2. [Extract Snapshots from Equilibrium Trajectories](#extract)\n",
    " 3. [Modelling mutated structure](#mut)\n",
    " 4. [Create Protein System Topology](#top)\n",
    " 5. [Generate Hybrid Topology](#hybridtop)\n",
    " 6. [Creating an index file for the dummy atoms in the morphed structure](#index)\n",
    " 7. [Energetically Minimize the System](#min)\n",
    " 8. [Equilibrate the System (NPT)](#npt)\n",
    " 9. [Free Energy Simulation](#free)\n",
    " 10. [Free Energy Estimation](#post)\n",
    " 11. [Output Files](#output)\n",
    " 12. [Questions & Comments](#questions)"
   ]
  },
  {
   "cell_type": "markdown",
   "metadata": {},
   "source": [
    "***\n",
    "<img style=\"width:400px;\" src=\"logo.png\" />\n",
    "\n",
    "***"
   ]
  },
  {
   "cell_type": "markdown",
   "metadata": {},
   "source": [
    "<a id=\"input\"></a>\n",
    "## Workflow required files\n",
    "Workflow **Input files** needed:\n",
    " - **stateA_traj**: Equilibrium trajectory for the **WT protein**.\n",
    " - **stateB_traj**: Equilibrium trajectory for the **Mutated protein**.\n",
    " - **stateA_tpr**: **WT protein topology** (GROMACS tpr format).\n",
    " - **stateB_tpr**: **Mutated protein topology** (GROMACS tpr format).\n",
    " \n",
    "Auxiliar **force field libraries** needed:\n",
    " - **mutff45** (folder): pmx mutation force field libraries. \n",
    " \n",
    "Collected **transitions work values**:  \n",
    " - **dhdlA.zip**: **Forward** work values required to illustrate how to perform the last step of the pmx workflow with real values, to extract the **free energy**.\n",
    " - **dhdlB.zip**: **Reverse** work values required to illustrate how to perform the last step of the pmx workflow with real values, to extract the **free energy**.\n",
    " "
   ]
  },
  {
   "cell_type": "code",
   "execution_count": 1,
   "metadata": {},
   "outputs": [],
   "source": [
    "import os\n",
    "import zipfile\n",
    "\n",
    "cwd = os.getcwd()\n",
    "gmxlib = os.getenv('CONDA_PREFIX')+'/lib/python3.7/site-packages/pmx/data/mutff45/'\n",
    "\n",
    "stateA_traj = cwd + \"/pmx_tutorial/stateA_1ns.xtc\"\n",
    "stateA_tpr = cwd + \"/pmx_tutorial/stateA.tpr\"\n",
    "\n",
    "stateB_traj = cwd + \"/pmx_tutorial/stateB_1ns.xtc\"\n",
    "stateB_tpr = cwd + \"/pmx_tutorial/stateB.tpr\""
   ]
  },
  {
   "cell_type": "markdown",
   "metadata": {},
   "source": [
    "<a id=\"extract\"></a>\n",
    "## Extract Snapshots from Equilibrium Trajectories\n",
    "**Extract snapshots** from **equilibrium trajectories** (stateA, stateB).\n",
    "\n",
    "In the **fast-growth method**, the **free energy difference** in the folded state of a protein is calculated from **two independent equilibrium simulations**, **WT** and **mutant**. These simulations need to **sufficiently sample** the **end state ensembles**, as the **free energy accuracy** will depend on the **sampling convergence**. Typically the equilibrium simulations are in the **nanosecond to microsecond time range**. From the generated trajectories, a suitable number of **snapshots** are selected to start **fast (typically 10 - 200 ps) transitions** driving the system in the **forward (WT to mutant)** and **reverse (mutant to WT)** directions. This particular step **extracts the snapshots** from the **input equilibrium trajectories**. \n",
    "\n",
    "In this tutorial, just **5 snapshots** for each state (forward, reverse) are generated, for **illustration purposes**. In a real example, both **input trajectories should be longer** (10ns upwards) and the **number of extracted snapshots higher**. The number of suitable number of snapshots depend on the **complexity of the mutation**. Larger perturbations will take **longer to converge** in the simulation, so a smaller or more conservative change might be more promising. \n",
    "\n",
    "**WT snapshots**: **stateA**   //    **Mutant snapshots**: **stateB**\n",
    "***\n",
    "**Building Blocks** used:\n",
    " - [GMXTrjConvStrEns](https://biobb-analysis.readthedocs.io/en/latest/gromacs.html#gromacs-gmx-trjconv-str-ens-module) from **biobb_analysis.gromacs.gmx_trjconv_str_ens**\n",
    "***"
   ]
  },
  {
   "cell_type": "code",
   "execution_count": 2,
   "metadata": {},
   "outputs": [
    {
     "name": "stderr",
     "output_type": "stream",
     "text": [
      "2020-10-13 17:18:16,515 [MainThread  ] [INFO ]  Creating 358c3317-6d8f-4ce1-831c-07dfe5992f6f temporary folder\n",
      "2020-10-13 17:18:16,516 [MainThread  ] [INFO ]  Not using any container\n",
      "2020-10-13 17:18:17,802 [MainThread  ] [INFO ]  echo \"System\" | gmx trjconv -f /Users/pau/projects/biobb_wf_pmx_tutorial/biobb_wf_pmx_tutorial/notebooks/pmx_tutorial/stateA_1ns.xtc -s /Users/pau/projects/biobb_wf_pmx_tutorial/biobb_wf_pmx_tutorial/notebooks/pmx_tutorial/stateA.tpr -skip 1 -b 1 -dt 200 -sep -o 358c3317-6d8f-4ce1-831c-07dfe5992f6f/frameA.pdb -e 1000\n",
      "\n",
      "2020-10-13 17:18:17,803 [MainThread  ] [INFO ]  Exit code 0\n",
      "\n",
      "2020-10-13 17:18:17,804 [MainThread  ] [INFO ]  Note that major changes are planned in future for trjconv, to improve usability and utility.Select group for output\n",
      "Selected 0: 'System'\n",
      "\n",
      "2020-10-13 17:18:17,805 [MainThread  ] [INFO ]                       :-) GROMACS - gmx trjconv, 2019.1 (-:\n",
      "\n",
      "                            GROMACS is written by:\n",
      "     Emile Apol      Rossen Apostolov      Paul Bauer     Herman J.C. Berendsen\n",
      "    Par Bjelkmar      Christian Blau   Viacheslav Bolnykh     Kevin Boyd    \n",
      " Aldert van Buuren   Rudi van Drunen     Anton Feenstra       Alan Gray     \n",
      "  Gerrit Groenhof     Anca Hamuraru    Vincent Hindriksen  M. Eric Irrgang  \n",
      "  Aleksei Iupinov   Christoph Junghans     Joe Jordan     Dimitrios Karkoulis\n",
      "    Peter Kasson        Jiri Kraus      Carsten Kutzner      Per Larsson    \n",
      "  Justin A. Lemkul    Viveca Lindahl    Magnus Lundborg     Erik Marklund   \n",
      "    Pascal Merz     Pieter Meulenhoff    Teemu Murtola       Szilard Pall   \n",
      "    Sander Pronk      Roland Schulz      Michael Shirts    Alexey Shvetsov  \n",
      "   Alfons Sijbers     Peter Tieleman      Jon Vincent      Teemu Virolainen \n",
      " Christian Wennberg    Maarten Wolf   \n",
      "                           and the project leaders:\n",
      "        Mark Abraham, Berk Hess, Erik Lindahl, and David van der Spoel\n",
      "\n",
      "Copyright (c) 1991-2000, University of Groningen, The Netherlands.\n",
      "Copyright (c) 2001-2018, The GROMACS development team at\n",
      "Uppsala University, Stockholm University and\n",
      "the Royal Institute of Technology, Sweden.\n",
      "check out http://www.gromacs.org for more information.\n",
      "\n",
      "GROMACS is free software; you can redistribute it and/or modify it\n",
      "under the terms of the GNU Lesser General Public License\n",
      "as published by the Free Software Foundation; either version 2.1\n",
      "of the License, or (at your option) any later version.\n",
      "\n",
      "GROMACS:      gmx trjconv, version 2019.1\n",
      "Executable:   /anaconda3/envs/biobb/bin/gmx\n",
      "Data prefix:  /anaconda3/envs/biobb\n",
      "Working dir:  /Users/pau/projects/biobb_wf_pmx_tutorial/biobb_wf_pmx_tutorial/notebooks\n",
      "Command line:\n",
      "  gmx trjconv -f /Users/pau/projects/biobb_wf_pmx_tutorial/biobb_wf_pmx_tutorial/notebooks/pmx_tutorial/stateA_1ns.xtc -s /Users/pau/projects/biobb_wf_pmx_tutorial/biobb_wf_pmx_tutorial/notebooks/pmx_tutorial/stateA.tpr -skip 1 -b 1 -dt 200 -sep -o 358c3317-6d8f-4ce1-831c-07dfe5992f6f/frameA.pdb -e 1000\n",
      "\n",
      "Will write pdb: Protein data bank file\n",
      "Reading file /Users/pau/projects/biobb_wf_pmx_tutorial/biobb_wf_pmx_tutorial/notebooks/pmx_tutorial/stateA.tpr, VERSION 4.6.4-dev-20131114-c1cb6d2 (single precision)\n",
      "Reading file /Users/pau/projects/biobb_wf_pmx_tutorial/biobb_wf_pmx_tutorial/notebooks/pmx_tutorial/stateA.tpr, VERSION 4.6.4-dev-20131114-c1cb6d2 (single precision)\n",
      "Group     0 (         System) has 35144 elements\n",
      "Group     1 (        Protein) has  2226 elements\n",
      "Group     2 (      Protein-H) has  1092 elements\n",
      "Group     3 (        C-alpha) has   136 elements\n",
      "Group     4 (       Backbone) has   408 elements\n",
      "Group     5 (      MainChain) has   545 elements\n",
      "Group     6 (   MainChain+Cb) has   672 elements\n",
      "Group     7 (    MainChain+H) has   677 elements\n",
      "Group     8 (      SideChain) has  1549 elements\n",
      "Group     9 (    SideChain-H) has   547 elements\n",
      "Group    10 (    Prot-Masses) has  2226 elements\n",
      "Group    11 (    non-Protein) has 32918 elements\n",
      "Group    12 (          Water) has 32844 elements\n",
      "Group    13 (            SOL) has 32844 elements\n",
      "Group    14 (      non-Water) has  2300 elements\n",
      "Group    15 (          Other) has    74 elements\n",
      "Group    16 (            NaJ) has    32 elements\n",
      "Group    17 (            ClJ) has    42 elements\n",
      "Reading frame       0 time   20.000   \n",
      "Precision of /Users/pau/projects/biobb_wf_pmx_tutorial/biobb_wf_pmx_tutorial/notebooks/pmx_tutorial/stateA_1ns.xtc is 0.001 (nm)\n",
      "Reading frame      40 time  820.000    ->  frame      4 time  820.000      \n",
      "\n",
      "\n",
      "GROMACS reminds you: \"Science, my lad, is made up of mistakes, but they are mistakes which it is useful to make, because they lead little by little to the truth.\" (Jules Verne)\n",
      "\n",
      "\n",
      "2020-10-13 17:18:17,848 [MainThread  ] [INFO ]  Adding:\n",
      "2020-10-13 17:18:17,849 [MainThread  ] [INFO ]  [PosixPath('358c3317-6d8f-4ce1-831c-07dfe5992f6f/frameA0.pdb'), PosixPath('358c3317-6d8f-4ce1-831c-07dfe5992f6f/frameA1.pdb'), PosixPath('358c3317-6d8f-4ce1-831c-07dfe5992f6f/frameA2.pdb'), PosixPath('358c3317-6d8f-4ce1-831c-07dfe5992f6f/frameA3.pdb'), PosixPath('358c3317-6d8f-4ce1-831c-07dfe5992f6f/frameA4.pdb')]\n",
      "2020-10-13 17:18:17,850 [MainThread  ] [INFO ]  to: /Users/pau/projects/biobb_wf_pmx_tutorial/biobb_wf_pmx_tutorial/notebooks/stateA_frames.zip\n",
      "2020-10-13 17:18:17,853 [MainThread  ] [INFO ]  Removed temporary folder: 358c3317-6d8f-4ce1-831c-07dfe5992f6f\n",
      "2020-10-13 17:18:17,918 [MainThread  ] [INFO ]  Creating 6beb4182-eb06-4133-8183-62ffdb95cde7 temporary folder\n",
      "2020-10-13 17:18:17,919 [MainThread  ] [INFO ]  Not using any container\n",
      "2020-10-13 17:18:19,247 [MainThread  ] [INFO ]  echo \"System\" | gmx trjconv -f /Users/pau/projects/biobb_wf_pmx_tutorial/biobb_wf_pmx_tutorial/notebooks/pmx_tutorial/stateB_1ns.xtc -s /Users/pau/projects/biobb_wf_pmx_tutorial/biobb_wf_pmx_tutorial/notebooks/pmx_tutorial/stateB.tpr -skip 1 -b 1 -dt 200 -sep -o 6beb4182-eb06-4133-8183-62ffdb95cde7/frameB.pdb -e 1000\n",
      "\n",
      "2020-10-13 17:18:19,248 [MainThread  ] [INFO ]  Exit code 0\n",
      "\n",
      "2020-10-13 17:18:19,249 [MainThread  ] [INFO ]  Note that major changes are planned in future for trjconv, to improve usability and utility.Select group for output\n",
      "Selected 0: 'System'\n",
      "\n",
      "2020-10-13 17:18:19,249 [MainThread  ] [INFO ]                       :-) GROMACS - gmx trjconv, 2019.1 (-:\n",
      "\n",
      "                            GROMACS is written by:\n",
      "     Emile Apol      Rossen Apostolov      Paul Bauer     Herman J.C. Berendsen\n",
      "    Par Bjelkmar      Christian Blau   Viacheslav Bolnykh     Kevin Boyd    \n",
      " Aldert van Buuren   Rudi van Drunen     Anton Feenstra       Alan Gray     \n",
      "  Gerrit Groenhof     Anca Hamuraru    Vincent Hindriksen  M. Eric Irrgang  \n",
      "  Aleksei Iupinov   Christoph Junghans     Joe Jordan     Dimitrios Karkoulis\n",
      "    Peter Kasson        Jiri Kraus      Carsten Kutzner      Per Larsson    \n",
      "  Justin A. Lemkul    Viveca Lindahl    Magnus Lundborg     Erik Marklund   \n",
      "    Pascal Merz     Pieter Meulenhoff    Teemu Murtola       Szilard Pall   \n",
      "    Sander Pronk      Roland Schulz      Michael Shirts    Alexey Shvetsov  \n",
      "   Alfons Sijbers     Peter Tieleman      Jon Vincent      Teemu Virolainen \n",
      " Christian Wennberg    Maarten Wolf   \n",
      "                           and the project leaders:\n",
      "        Mark Abraham, Berk Hess, Erik Lindahl, and David van der Spoel\n",
      "\n",
      "Copyright (c) 1991-2000, University of Groningen, The Netherlands.\n",
      "Copyright (c) 2001-2018, The GROMACS development team at\n",
      "Uppsala University, Stockholm University and\n",
      "the Royal Institute of Technology, Sweden.\n",
      "check out http://www.gromacs.org for more information.\n",
      "\n",
      "GROMACS is free software; you can redistribute it and/or modify it\n",
      "under the terms of the GNU Lesser General Public License\n",
      "as published by the Free Software Foundation; either version 2.1\n",
      "of the License, or (at your option) any later version.\n",
      "\n",
      "GROMACS:      gmx trjconv, version 2019.1\n",
      "Executable:   /anaconda3/envs/biobb/bin/gmx\n",
      "Data prefix:  /anaconda3/envs/biobb\n",
      "Working dir:  /Users/pau/projects/biobb_wf_pmx_tutorial/biobb_wf_pmx_tutorial/notebooks\n",
      "Command line:\n",
      "  gmx trjconv -f /Users/pau/projects/biobb_wf_pmx_tutorial/biobb_wf_pmx_tutorial/notebooks/pmx_tutorial/stateB_1ns.xtc -s /Users/pau/projects/biobb_wf_pmx_tutorial/biobb_wf_pmx_tutorial/notebooks/pmx_tutorial/stateB.tpr -skip 1 -b 1 -dt 200 -sep -o 6beb4182-eb06-4133-8183-62ffdb95cde7/frameB.pdb -e 1000\n",
      "\n",
      "Will write pdb: Protein data bank file\n",
      "Reading file /Users/pau/projects/biobb_wf_pmx_tutorial/biobb_wf_pmx_tutorial/notebooks/pmx_tutorial/stateB.tpr, VERSION 4.6.4-dev-20131114-c1cb6d2 (single precision)\n",
      "Reading file /Users/pau/projects/biobb_wf_pmx_tutorial/biobb_wf_pmx_tutorial/notebooks/pmx_tutorial/stateB.tpr, VERSION 4.6.4-dev-20131114-c1cb6d2 (single precision)\n",
      "Group     0 (         System) has 35138 elements\n",
      "Group     1 (        Protein) has  2217 elements\n",
      "Group     2 (      Protein-H) has  1089 elements\n",
      "Group     3 (        C-alpha) has   136 elements\n",
      "Group     4 (       Backbone) has   408 elements\n",
      "Group     5 (      MainChain) has   545 elements\n",
      "Group     6 (   MainChain+Cb) has   672 elements\n",
      "Group     7 (    MainChain+H) has   677 elements\n",
      "Group     8 (      SideChain) has  1540 elements\n",
      "Group     9 (    SideChain-H) has   544 elements\n",
      "Group    10 (    Prot-Masses) has  2217 elements\n",
      "Group    11 (    non-Protein) has 32921 elements\n",
      "Group    12 (          Water) has 32847 elements\n",
      "Group    13 (            SOL) has 32847 elements\n",
      "Group    14 (      non-Water) has  2291 elements\n",
      "Group    15 (          Other) has    74 elements\n",
      "Group    16 (            NaJ) has    32 elements\n",
      "Group    17 (            ClJ) has    42 elements\n",
      "Reading frame       0 time   20.000   \n",
      "Precision of /Users/pau/projects/biobb_wf_pmx_tutorial/biobb_wf_pmx_tutorial/notebooks/pmx_tutorial/stateB_1ns.xtc is 0.001 (nm)\n",
      "Reading frame      40 time  820.000    ->  frame      4 time  820.000      \n",
      "\n",
      "\n",
      "GROMACS reminds you: \"I believe in miracles cause I'm one\" (The Ramones)\n",
      "\n",
      "\n"
     ]
    },
    {
     "name": "stderr",
     "output_type": "stream",
     "text": [
      "2020-10-13 17:18:19,298 [MainThread  ] [INFO ]  Adding:\n",
      "2020-10-13 17:18:19,299 [MainThread  ] [INFO ]  [PosixPath('6beb4182-eb06-4133-8183-62ffdb95cde7/frameB0.pdb'), PosixPath('6beb4182-eb06-4133-8183-62ffdb95cde7/frameB1.pdb'), PosixPath('6beb4182-eb06-4133-8183-62ffdb95cde7/frameB2.pdb'), PosixPath('6beb4182-eb06-4133-8183-62ffdb95cde7/frameB3.pdb'), PosixPath('6beb4182-eb06-4133-8183-62ffdb95cde7/frameB4.pdb')]\n",
      "2020-10-13 17:18:19,301 [MainThread  ] [INFO ]  to: /Users/pau/projects/biobb_wf_pmx_tutorial/biobb_wf_pmx_tutorial/notebooks/stateB_frames.zip\n",
      "2020-10-13 17:18:19,304 [MainThread  ] [INFO ]  Removed temporary folder: 6beb4182-eb06-4133-8183-62ffdb95cde7\n"
     ]
    }
   ],
   "source": [
    "# GMXTrjConvStrEns: extract an ensemble of snapshots from a GROMACS trajectory file\n",
    "# Import module\n",
    "from biobb_analysis.gromacs.gmx_trjconv_str_ens import GMXTrjConvStrEns\n",
    "\n",
    "#### State A ####\n",
    "\n",
    "# Create prop dict and inputs/outputs (StateA)                          \n",
    "output_framesA = 'stateA_frames.zip'\n",
    "\n",
    "prop = {\n",
    "    'selection' : 'System',\n",
    "    'start': 1,    # To be changed to generate as many snapshots as needed\n",
    "    'end': 1000,   # To be changed to generate as many snapshots as needed\n",
    "    'dt': 200,     # To be changed to generate as many snapshots as needed\n",
    "    'output_name': 'frameA',\n",
    "    'output_type': 'pdb'\n",
    "}\n",
    "\n",
    "# Create and launch bb (StateA)        \n",
    "GMXTrjConvStrEns(input_traj_path=stateA_traj,\n",
    "                 input_top_path=stateA_tpr,\n",
    "                 output_str_ens_path=output_framesA,\n",
    "                 properties=prop).launch()\n",
    "\n",
    "# Extract stateA (WT) frames\n",
    "with zipfile.ZipFile(output_framesA, 'r') as zip_f:\n",
    "    zip_f.extractall()\n",
    "    stateA_pdb_list = zip_f.namelist()\n",
    "    \n",
    "#### State B #### \n",
    "    \n",
    "# Create prop dict and inputs/outputs (StateB)                                \n",
    "output_framesB = 'stateB_frames.zip'  \n",
    "    \n",
    "prop = {\n",
    "    'selection' : 'System',\n",
    "    'start': 1,   # To be changed to generate as many snapshots as needed\n",
    "    'end': 1000,  # To be changed to generate as many snapshots as needed\n",
    "    'dt': 200,    # To be changed to generate as many snapshots as needed\n",
    "    'output_name': 'frameB',\n",
    "    'output_type': 'pdb'\n",
    "}\n",
    "\n",
    "# Create and launch bb (StateB)\n",
    "GMXTrjConvStrEns(input_traj_path=stateB_traj,\n",
    "                 input_top_path=stateB_tpr,\n",
    "                 output_str_ens_path=output_framesB,\n",
    "                 properties=prop).launch()\n",
    "    \n",
    "# # Extract stateB (Mutant) frames\n",
    "with zipfile.ZipFile(output_framesB, 'r') as zip_f:\n",
    "    zip_f.extractall()\n",
    "    stateB_pdb_list = zip_f.namelist()"
   ]
  },
  {
   "cell_type": "markdown",
   "metadata": {},
   "source": [
    "***\n",
    "\n",
    "## WARNING\n",
    "For the sake of **time**, this tutorial will only compute the work values for **ONE PARTICULAR frame** of each state. In order to reproduce a **real calculation**, the steps presented in this notebook should be **repeated for the rest of the frames**. The **ensemble of computed work values** should then be used in the **final step of the workflow**, the [free energy calculation](#post).    \n",
    "***"
   ]
  },
  {
   "cell_type": "code",
   "execution_count": 3,
   "metadata": {},
   "outputs": [],
   "source": [
    "# Prepare Mutation Free Energy calculation for ONE PARTICULAR frame of each state\n",
    "# (to be repeated for the rest of the frames)\n",
    "pdbA = stateA_pdb_list[0]\n",
    "pdbB = stateB_pdb_list[0]"
   ]
  },
  {
   "cell_type": "markdown",
   "metadata": {},
   "source": [
    "<a id=\"mut\"></a>\n",
    "## Modelling mutated structures\n",
    "**Modelling mutated structures** with the desired new residues using **pmx** package. In this case:\n",
    "\n",
    "**Isoleucine** residue nº10 will be mutated to an **Alanine** in the **forward** transition.\n",
    "\n",
    "**Alanine** residue nº10 will be mutated to an **Isoleucine** in the **reverse** transition.\n",
    "\n",
    "*Note:* This tutorial is using a **Docker container** to run **pmx**. To use a local installation of **pmx**, just modify the appropriate properties parameter **pmx_cli_path**. \n",
    "***\n",
    "**Building Blocks** used:\n",
    " - [Pmxmutate](https://biobb-pmx.readthedocs.io/en/latest/pmx.html#module-pmx.pmxmutate) from **biobb_pmx.pmx.pmxmutate**\n",
    "***"
   ]
  },
  {
   "cell_type": "markdown",
   "metadata": {},
   "source": [
    "## WARNING\n",
    "The first time that **pmx Docker** container is used, it will be **automatically downloaded** and integrated in the Docker system. This can take **some time, in the order of minutes**, depending on the available **network**. Please, be patient if the workflow gets stuck in this step. \n",
    "\n",
    "This process is **only done once**. When the docker is downloaded, the system will locate it and **it will not be required to download again**.     \n",
    "***"
   ]
  },
  {
   "cell_type": "code",
   "execution_count": 4,
   "metadata": {},
   "outputs": [
    {
     "name": "stderr",
     "output_type": "stream",
     "text": [
      "2020-10-13 17:18:26,260 [MainThread  ] [INFO ]  Not using any container\n"
     ]
    },
    {
     "name": "stdout",
     "output_type": "stream",
     "text": [
      "Ile10Ala\n"
     ]
    },
    {
     "name": "stderr",
     "output_type": "stream",
     "text": [
      "2020-10-13 17:18:28,824 [MainThread  ] [INFO ]  pmx mutate -f frameA0.pdb -o mutA.pdb -ff amber99sb-star-ildn-mut --script /Users/pau/projects/biobb_wf_pmx_tutorial/biobb_wf_pmx_tutorial/notebooks/134f5592-7b69-447d-bd2b-456e7e91751d/mutations.txt\n",
      "\n",
      "2020-10-13 17:18:28,826 [MainThread  ] [INFO ]  Exit code 0\n",
      "\n",
      "2020-10-13 17:18:28,827 [MainThread  ] [INFO ]  log_> Residue to mutate: 10 | ILE | A \n",
      "log_> Mutation to apply: I->A\n",
      "log_> Hybrid residue name: I2A\n",
      "log_> Inserted hybrid residue I2A at position 10 (chain A)\n",
      "\n",
      "mutations done...........\n",
      "\n",
      "\n",
      "2020-10-13 17:18:28,830 [MainThread  ] [INFO ]  Removed: ['/Users/pau/projects/biobb_wf_pmx_tutorial/biobb_wf_pmx_tutorial/notebooks/134f5592-7b69-447d-bd2b-456e7e91751d']\n",
      "2020-10-13 17:18:28,852 [MainThread  ] [INFO ]  Not using any container\n"
     ]
    },
    {
     "name": "stdout",
     "output_type": "stream",
     "text": [
      "Ala10Ile\n"
     ]
    },
    {
     "name": "stderr",
     "output_type": "stream",
     "text": [
      "2020-10-13 17:18:31,278 [MainThread  ] [INFO ]  pmx mutate -f frameB0.pdb -o mutB.pdb -ff amber99sb-star-ildn-mut --script /Users/pau/projects/biobb_wf_pmx_tutorial/biobb_wf_pmx_tutorial/notebooks/79910e7d-1b19-4de0-8224-dc4c991fd9a7/mutations.txt\n",
      "\n",
      "2020-10-13 17:18:31,279 [MainThread  ] [INFO ]  Exit code 0\n",
      "\n",
      "2020-10-13 17:18:31,280 [MainThread  ] [INFO ]  log_> Residue to mutate: 10 | ALA | A \n",
      "log_> Mutation to apply: A->I\n",
      "log_> Hybrid residue name: A2I\n",
      "log_> Inserted hybrid residue A2I at position 10 (chain A)\n",
      "\n",
      "mutations done...........\n",
      "\n",
      "\n",
      "2020-10-13 17:18:31,282 [MainThread  ] [INFO ]  Removed: ['/Users/pau/projects/biobb_wf_pmx_tutorial/biobb_wf_pmx_tutorial/notebooks/79910e7d-1b19-4de0-8224-dc4c991fd9a7']\n"
     ]
    },
    {
     "data": {
      "text/plain": [
       "0"
      ]
     },
     "execution_count": 4,
     "metadata": {},
     "output_type": "execute_result"
    }
   ],
   "source": [
    "# pmx mutate: Mutate command from pmx package\n",
    "\n",
    "# Import module\n",
    "from biobb_pmx.pmx.pmxmutate import Pmxmutate\n",
    "\n",
    "#### State A (WT->Mut) ####\n",
    "\n",
    "# Create prop dict and inputs/outputs\n",
    "output_structure_mutA = 'mutA.pdb'\n",
    "  \n",
    "prop = {\n",
    "    'force_field' : 'amber99sb-star-ildn-mut',\n",
    "    'mutation_list' : 'Ile10Ala',\n",
    "    'pmx_path' : 'pmx',\n",
    "    'gmxlib' : gmxlib\n",
    "}\n",
    "# Create and launch bb\n",
    "Pmxmutate(input_structure_path=pdbA,\n",
    "       output_structure_path=output_structure_mutA,\n",
    "       properties=prop).launch()\n",
    "\n",
    "#### State B (Mut->WT) ####\n",
    "\n",
    "# Create prop dict and inputs/outputs\n",
    "output_structure_mutB = 'mutB.pdb'\n",
    "  \n",
    "prop = {\n",
    "    'force_field' : 'amber99sb-star-ildn-mut',\n",
    "    'mutation_list' : 'Ala10Ile',\n",
    "    'pmx_path' : 'pmx',\n",
    "    'gmxlib' : gmxlib\n",
    "}\n",
    "# Create and launch bb\n",
    "Pmxmutate(input_structure_path=pdbB,\n",
    "       output_structure_path=output_structure_mutB,\n",
    "       properties=prop).launch()\n"
   ]
  },
  {
   "cell_type": "markdown",
   "metadata": {},
   "source": [
    "<a id=\"top\"></a>\n",
    "***\n",
    "## Create protein system topology\n",
    "**Building GROMACS topology** for the mutated structures.\n",
    "\n",
    "The force field used in this tutorial is [**amber99sb-ildn-mut**](https://dx.doi.org/10.1002%2Fprot.22711): AMBER **parm99** force field with **corrections on backbone** (sb) and **side-chain torsion potentials** (ildn), with **pmx library of modelled mutations** (mut). The path to the particular force field used is given as a property to the building block (**gmxlib**), and can be changed to the appropriate location.\n",
    "\n",
    "Generating two output files: \n",
    "- **GROMACS structure** (gro file)\n",
    "- **GROMACS topology** ZIP compressed file containing:\n",
    "    - *GROMACS topology top file* (top file)\n",
    "    - *GROMACS position restraint file/s* (itp file/s)\n",
    "***\n",
    "**Building Blocks** used:\n",
    " - [Pdb2gmx](https://biobb-md.readthedocs.io/en/latest/gromacs.html#module-gromacs.pdb2gmx) from **biobb_md.gromacs.pdb2gmx**\n",
    "***"
   ]
  },
  {
   "cell_type": "code",
   "execution_count": 5,
   "metadata": {},
   "outputs": [
    {
     "name": "stderr",
     "output_type": "stream",
     "text": [
      "2020-10-13 17:18:33,861 [MainThread  ] [INFO ]  GROMACS Pdb2gmx 20191 version detected\n",
      "2020-10-13 17:18:33,863 [MainThread  ] [INFO ]  Not using any container\n",
      "2020-10-13 17:18:36,970 [MainThread  ] [INFO ]  gmx -nobackup -nocopyright pdb2gmx -f mutA.pdb -o pdb2gmxA.gro -p p2g.top -water spce -ff amber99sb-star-ildn-mut -i posre.itp\n",
      "\n",
      "2020-10-13 17:18:36,971 [MainThread  ] [INFO ]  Exit code 0\n",
      "\n",
      "2020-10-13 17:18:36,971 [MainThread  ] [INFO ]  \n",
      "Using the Amber99sb-star-ildn-mut force field in directory /anaconda3/envs/biobb/lib/python3.7/site-packages/pmx/data/mutff45//amber99sb-star-ildn-mut.ff\n",
      "\n",
      "going to rename /anaconda3/envs/biobb/lib/python3.7/site-packages/pmx/data/mutff45//amber99sb-star-ildn-mut.ff/aminoacids.r2b\n",
      "going to rename /anaconda3/envs/biobb/lib/python3.7/site-packages/pmx/data/mutff45//amber99sb-star-ildn-mut.ff/dna.r2b\n",
      "going to rename /anaconda3/envs/biobb/lib/python3.7/site-packages/pmx/data/mutff45//amber99sb-star-ildn-mut.ff/rna.r2b\n",
      "Reading mutA.pdb...\n",
      "Read 'PMX MODEL', 35144 atoms\n",
      "Analyzing pdb file\n",
      "Splitting chemical chains based on TER records or chain id changing.\n",
      "Moved all the water blocks to the end\n",
      "There are 2 chains and 2 blocks of water and 11158 residues with 35144 atoms\n",
      "\n",
      "  chain  #res #atoms\n",
      "  1 'A'   136   2226  \n",
      "  2 'C'    74     74  \n",
      "  3 ' '  9863  29589  (only water)\n",
      "  4 ' '  1085   3255  (only water)\n",
      "\n",
      "Reading residue database... (Amber99sb-star-ildn-mut)\n",
      "Processing chain 1 'A' (2226 atoms, 136 residues)\n",
      "Identified residue LYS1 as a starting terminus.\n",
      "Identified residue SER136 as a ending terminus.\n",
      "Checking for duplicate atoms....\n",
      "Generating any missing hydrogen atoms and/or adding termini.\n",
      "Now there are 136 residues with 2226 atoms\n",
      "Chain time...\n",
      "Processing chain 2 'C' (74 atoms, 74 residues)\n",
      "Residue NaJ1085 has type 'Ion', assuming it is not linked into a chain.\n",
      "Residue NaJ1086 has type 'Ion', assuming it is not linked into a chain.\n",
      "Residue NaJ1087 has type 'Ion', assuming it is not linked into a chain.\n",
      "Residue NaJ1088 has type 'Ion', assuming it is not linked into a chain.\n",
      "Residue NaJ1089 has type 'Ion', assuming it is not linked into a chain.\n",
      "Disabling further notes about ions.\n",
      "Problem with chain definition, or missing terminal residues.\n",
      "This chain does not appear to contain a recognized chain molecule.\n",
      "If this is incorrect, you can edit residuetypes.dat to modify the behavior.\n",
      "Checking for duplicate atoms....\n",
      "Generating any missing hydrogen atoms and/or adding termini.\n",
      "Now there are 74 residues with 74 atoms\n",
      "Chain time...\n",
      "Processing chain 3 (29589 atoms, 9863 residues)\n",
      "Problem with chain definition, or missing terminal residues.\n",
      "This chain does not appear to contain a recognized chain molecule.\n",
      "If this is incorrect, you can edit residuetypes.dat to modify the behavior.\n",
      "Checking for duplicate atoms....\n",
      "Generating any missing hydrogen atoms and/or adding termini.\n",
      "Now there are 9863 residues with 29589 atoms\n",
      "Processing chain 4 (3255 atoms, 1085 residues)\n",
      "Problem with chain definition, or missing terminal residues.\n",
      "This chain does not appear to contain a recognized chain molecule.\n",
      "If this is incorrect, you can edit residuetypes.dat to modify the behavior.\n",
      "Checking for duplicate atoms....\n",
      "Generating any missing hydrogen atoms and/or adding termini.\n",
      "Now there are 1085 residues with 3255 atoms\n",
      "Including chain 1 in system: 2226 atoms 136 residues\n",
      "Including chain 2 in system: 74 atoms 74 residues\n",
      "Including chain 3 in system: 29589 atoms 9863 residues\n",
      "Including chain 4 in system: 3255 atoms 1085 residues\n",
      "\t\t--------- PLEASE NOTE ------------\n",
      "You have successfully generated a topology from: mutA.pdb.\n",
      "The Amber99sb-star-ildn-mut force field and the spce water model are used.\n",
      "\t\t--------- ETON ESAELP ------------\n",
      "\n",
      "2020-10-13 17:18:36,972 [MainThread  ] [INFO ]                       :-) GROMACS - gmx pdb2gmx, 2019.1 (-:\n",
      "\n",
      "Executable:   /anaconda3/envs/biobb/bin/gmx\n",
      "Data prefix:  /anaconda3/envs/biobb\n",
      "Working dir:  /Users/pau/projects/biobb_wf_pmx_tutorial/biobb_wf_pmx_tutorial/notebooks\n",
      "Command line:\n",
      "  gmx -nobackup -nocopyright pdb2gmx -f mutA.pdb -o pdb2gmxA.gro -p p2g.top -water spce -ff amber99sb-star-ildn-mut -i posre.itp\n",
      "\n",
      "Opening force field file /anaconda3/envs/biobb/lib/python3.7/site-packages/pmx/data/mutff45//amber99sb-star-ildn-mut.ff/aminoacids.r2b\n",
      "Opening force field file /anaconda3/envs/biobb/lib/python3.7/site-packages/pmx/data/mutff45//amber99sb-star-ildn-mut.ff/dna.r2b\n",
      "Opening force field file /anaconda3/envs/biobb/lib/python3.7/site-packages/pmx/data/mutff45//amber99sb-star-ildn-mut.ff/rna.r2b\n",
      "All occupancies are one\n",
      "Opening force field file /anaconda3/envs/biobb/lib/python3.7/site-packages/pmx/data/mutff45//amber99sb-star-ildn-mut.ff/atomtypes.atp\n",
      "Atomtype 103\n",
      "Opening force field file /anaconda3/envs/biobb/lib/python3.7/site-packages/pmx/data/mutff45//amber99sb-star-ildn-mut.ff/aminoacids.rtp\n",
      "Residue 103\n",
      "Sorting it all out...\n",
      "Opening force field file /anaconda3/envs/biobb/lib/python3.7/site-packages/pmx/data/mutff45//amber99sb-star-ildn-mut.ff/dna.rtp\n",
      "Residue 119\n",
      "Sorting it all out...\n",
      "Opening force field file /anaconda3/envs/biobb/lib/python3.7/site-packages/pmx/data/mutff45//amber99sb-star-ildn-mut.ff/mutres.rtp\n",
      "Residue 671\n",
      "Sorting it all out...\n",
      "Opening force field file /anaconda3/envs/biobb/lib/python3.7/site-packages/pmx/data/mutff45//amber99sb-star-ildn-mut.ff/rna.rtp\n",
      "Residue 687\n",
      "Sorting it all out...\n",
      "Opening force field file /anaconda3/envs/biobb/lib/python3.7/site-packages/pmx/data/mutff45//amber99sb-star-ildn-mut.ff/aminoacids.hdb\n",
      "Opening force field file /anaconda3/envs/biobb/lib/python3.7/site-packages/pmx/data/mutff45//amber99sb-star-ildn-mut.ff/dna.hdb\n",
      "Opening force field file /anaconda3/envs/biobb/lib/python3.7/site-packages/pmx/data/mutff45//amber99sb-star-ildn-mut.ff/rna.hdb\n",
      "Opening force field file /anaconda3/envs/biobb/lib/python3.7/site-packages/pmx/data/mutff45//amber99sb-star-ildn-mut.ff/aminoacids.n.tdb\n",
      "Opening force field file /anaconda3/envs/biobb/lib/python3.7/site-packages/pmx/data/mutff45//amber99sb-star-ildn-mut.ff/aminoacids.c.tdb\n",
      "Analysing hydrogen-bonding network for automated assignment of histidine\n",
      " protonation. 210 donors and 198 acceptors were found.\n",
      "There are 298 hydrogen bonds\n",
      "Will use HISE for residue 3\n",
      "Will use HISE for residue 41\n",
      "Will use HISE for residue 116\n",
      "Will use HISE for residue 119\n",
      "8 out of 8 lines of specbond.dat converted successfully\n",
      "Special Atom Distance matrix:\n",
      "                    HIS3   MET21   MET27   HIS41   MET60   MET93  HIS116\n",
      "                   NE255   SD337   SD435  NE2675   SD975  SD1506 NE21875\n",
      "   MET21   SD337   1.570\n",
      "   MET27   SD435   0.902   1.059\n",
      "   HIS41  NE2675   2.903   2.796   2.200\n",
      "   MET60   SD975   2.057   2.210   1.909   2.403\n",
      "   MET93  SD1506   1.532   2.338   1.673   2.458   0.926\n",
      "  HIS116 NE21875   1.254   2.411   1.637   2.700   1.436   0.535\n",
      "  HIS119 NE21924   1.961   2.850   2.206   2.811   1.159   0.541   0.770\n",
      "                \n",
      "                \n",
      "Opening force field file /anaconda3/envs/biobb/lib/python3.7/site-packages/pmx/data/mutff45//amber99sb-star-ildn-mut.ff/aminoacids.arn\n",
      "Opening force field file /anaconda3/envs/biobb/lib/python3.7/site-packages/pmx/data/mutff45//amber99sb-star-ildn-mut.ff/dna.arn\n",
      "Opening force field file /anaconda3/envs/biobb/lib/python3.7/site-packages/pmx/data/mutff45//amber99sb-star-ildn-mut.ff/rna.arn\n",
      "Making bonds...\n",
      "Number of bonds was 2248, now 2247\n",
      "Generating angles, dihedrals and pairs...\n",
      "Before cleaning: 5932 pairs\n",
      "Before cleaning: 6154 dihedrals\n",
      "Keeping all generated dihedrals\n",
      "Making cmap torsions...\n",
      "There are 6154 dihedrals,  531 impropers, 4097 angles\n",
      "          5899 pairs,     2247 bonds and     0 virtual sites\n",
      "Total mass 15516.202 a.m.u.\n",
      "Total charge 10.000 e\n",
      "Writing topology\n",
      "8 out of 8 lines of specbond.dat converted successfully\n",
      "Opening force field file /anaconda3/envs/biobb/lib/python3.7/site-packages/pmx/data/mutff45//amber99sb-star-ildn-mut.ff/aminoacids.arn\n",
      "Opening force field file /anaconda3/envs/biobb/lib/python3.7/site-packages/pmx/data/mutff45//amber99sb-star-ildn-mut.ff/dna.arn\n",
      "Opening force field file /anaconda3/envs/biobb/lib/python3.7/site-packages/pmx/data/mutff45//amber99sb-star-ildn-mut.ff/rna.arn\n",
      "Making bonds...\n",
      "No bonds\n",
      "Generating angles, dihedrals and pairs...\n",
      "Making cmap torsions...\n",
      "There are    0 dihedrals,    0 impropers,    0 angles\n",
      "             0 pairs,        0 bonds and     0 virtual sites\n",
      "Total mass 2224.580 a.m.u.\n",
      "Total charge -10.000 e\n",
      "Writing topology\n",
      "8 out of 8 lines of specbond.dat converted successfully\n",
      "Opening force field file /anaconda3/envs/biobb/lib/python3.7/site-packages/pmx/data/mutff45//amber99sb-star-ildn-mut.ff/aminoacids.arn\n",
      "Opening force field file /anaconda3/envs/biobb/lib/python3.7/site-packages/pmx/data/mutff45//amber99sb-star-ildn-mut.ff/dna.arn\n",
      "Opening force field file /anaconda3/envs/biobb/lib/python3.7/site-packages/pmx/data/mutff45//amber99sb-star-ildn-mut.ff/rna.arn\n",
      "Making bonds...\n",
      "Number of bonds was 19726, now 19726\n",
      "Generating angles, dihedrals and pairs...\n",
      "Making cmap torsions...\n",
      "There are    0 dihedrals,    0 impropers, 9863 angles\n",
      "             0 pairs,     19726 bonds and     0 virtual sites\n",
      "Total mass 177691.808 a.m.u.\n",
      "Total charge 0.000 e\n",
      "8 out of 8 lines of specbond.dat converted successfully\n",
      "Opening force field file /anaconda3/envs/biobb/lib/python3.7/site-packages/pmx/data/mutff45//amber99sb-star-ildn-mut.ff/aminoacids.arn\n",
      "Opening force field file /anaconda3/envs/biobb/lib/python3.7/site-packages/pmx/data/mutff45//amber99sb-star-ildn-mut.ff/dna.arn\n",
      "Opening force field file /anaconda3/envs/biobb/lib/python3.7/site-packages/pmx/data/mutff45//amber99sb-star-ildn-mut.ff/rna.arn\n",
      "Making bonds...\n",
      "Number of bonds was 2170, now 2170\n",
      "Generating angles, dihedrals and pairs...\n",
      "Making cmap torsions...\n",
      "There are    0 dihedrals,    0 impropers, 1085 angles\n",
      "             0 pairs,     2170 bonds and     0 virtual sites\n",
      "Total mass 19547.360 a.m.u.\n",
      "Total charge 0.000 e\n",
      "Now there are 35144 atoms and 11158 residues\n",
      "Total mass in system 214979.951 a.m.u.\n",
      "Total charge in system 0.000 e\n",
      "\n",
      "Writing coordinate file...\n",
      "\n",
      "GROMACS reminds you: \"I'd be Safe and Warm if I was in L.A.\" (The Mamas and the Papas)\n",
      "\n",
      "\n"
     ]
    },
    {
     "name": "stderr",
     "output_type": "stream",
     "text": [
      "2020-10-13 17:18:36,973 [MainThread  ] [INFO ]  Compressing topology to: pdb2gmxA_top.zip\n",
      "2020-10-13 17:18:36,975 [MainThread  ] [INFO ]  Ignored file amber99sb-star-ildn-mut.ff/forcefield.itp\n",
      "2020-10-13 17:18:36,988 [MainThread  ] [INFO ]  Ignored file amber99sb-star-ildn-mut.ff/spce.itp\n",
      "2020-10-13 17:18:36,989 [MainThread  ] [INFO ]  Ignored file amber99sb-star-ildn-mut.ff/ions.itp\n",
      "2020-10-13 17:18:36,993 [MainThread  ] [INFO ]  Adding:\n",
      "2020-10-13 17:18:36,994 [MainThread  ] [INFO ]  ['p2g.top', 'p2g_Ion_chain_C.itp', 'p2g_Protein_chain_A.itp', 'posre_Ion_chain_C.itp', 'posre_Protein_chain_A.itp']\n",
      "2020-10-13 17:18:36,995 [MainThread  ] [INFO ]  to: /Users/pau/projects/biobb_wf_pmx_tutorial/biobb_wf_pmx_tutorial/notebooks/pdb2gmxA_top.zip\n",
      "2020-10-13 17:18:36,996 [MainThread  ] [INFO ]  Removed: ['p2g.top']\n",
      "2020-10-13 17:18:37,034 [MainThread  ] [INFO ]  GROMACS Pdb2gmx 20191 version detected\n",
      "2020-10-13 17:18:37,035 [MainThread  ] [INFO ]  Not using any container\n",
      "2020-10-13 17:18:40,141 [MainThread  ] [INFO ]  gmx -nobackup -nocopyright pdb2gmx -f mutB.pdb -o pdb2gmxB.gro -p p2g.top -water spce -ff amber99sb-star-ildn-mut -i posre.itp\n",
      "\n",
      "2020-10-13 17:18:40,142 [MainThread  ] [INFO ]  Exit code 0\n",
      "\n",
      "2020-10-13 17:18:40,143 [MainThread  ] [INFO ]  \n",
      "Using the Amber99sb-star-ildn-mut force field in directory /anaconda3/envs/biobb/lib/python3.7/site-packages/pmx/data/mutff45//amber99sb-star-ildn-mut.ff\n",
      "\n",
      "going to rename /anaconda3/envs/biobb/lib/python3.7/site-packages/pmx/data/mutff45//amber99sb-star-ildn-mut.ff/aminoacids.r2b\n",
      "going to rename /anaconda3/envs/biobb/lib/python3.7/site-packages/pmx/data/mutff45//amber99sb-star-ildn-mut.ff/dna.r2b\n",
      "going to rename /anaconda3/envs/biobb/lib/python3.7/site-packages/pmx/data/mutff45//amber99sb-star-ildn-mut.ff/rna.r2b\n",
      "Reading mutB.pdb...\n",
      "Read 'PMX MODEL', 35147 atoms\n",
      "Analyzing pdb file\n",
      "Splitting chemical chains based on TER records or chain id changing.\n",
      "Moved all the water blocks to the end\n",
      "There are 2 chains and 2 blocks of water and 11159 residues with 35147 atoms\n",
      "\n",
      "  chain  #res #atoms\n",
      "  1 'A'   136   2226  \n",
      "  2 'C'    74     74  \n",
      "  3 ' '  9863  29589  (only water)\n",
      "  4 ' '  1086   3258  (only water)\n",
      "\n",
      "Reading residue database... (Amber99sb-star-ildn-mut)\n",
      "Processing chain 1 'A' (2226 atoms, 136 residues)\n",
      "Identified residue LYS1 as a starting terminus.\n",
      "Identified residue SER136 as a ending terminus.\n",
      "Checking for duplicate atoms....\n",
      "Generating any missing hydrogen atoms and/or adding termini.\n",
      "Now there are 136 residues with 2226 atoms\n",
      "Chain time...\n",
      "Processing chain 2 'C' (74 atoms, 74 residues)\n",
      "Residue NaJ1086 has type 'Ion', assuming it is not linked into a chain.\n",
      "Residue NaJ1087 has type 'Ion', assuming it is not linked into a chain.\n",
      "Residue NaJ1088 has type 'Ion', assuming it is not linked into a chain.\n",
      "Residue NaJ1089 has type 'Ion', assuming it is not linked into a chain.\n",
      "Residue NaJ1090 has type 'Ion', assuming it is not linked into a chain.\n",
      "Disabling further notes about ions.\n",
      "Problem with chain definition, or missing terminal residues.\n",
      "This chain does not appear to contain a recognized chain molecule.\n",
      "If this is incorrect, you can edit residuetypes.dat to modify the behavior.\n",
      "Checking for duplicate atoms....\n",
      "Generating any missing hydrogen atoms and/or adding termini.\n",
      "Now there are 74 residues with 74 atoms\n",
      "Chain time...\n",
      "Processing chain 3 (29589 atoms, 9863 residues)\n",
      "Problem with chain definition, or missing terminal residues.\n",
      "This chain does not appear to contain a recognized chain molecule.\n",
      "If this is incorrect, you can edit residuetypes.dat to modify the behavior.\n",
      "Checking for duplicate atoms....\n",
      "Generating any missing hydrogen atoms and/or adding termini.\n",
      "Now there are 9863 residues with 29589 atoms\n",
      "Processing chain 4 (3258 atoms, 1086 residues)\n",
      "Problem with chain definition, or missing terminal residues.\n",
      "This chain does not appear to contain a recognized chain molecule.\n",
      "If this is incorrect, you can edit residuetypes.dat to modify the behavior.\n",
      "Checking for duplicate atoms....\n",
      "Generating any missing hydrogen atoms and/or adding termini.\n",
      "Now there are 1086 residues with 3258 atoms\n",
      "Including chain 1 in system: 2226 atoms 136 residues\n",
      "Including chain 2 in system: 74 atoms 74 residues\n",
      "Including chain 3 in system: 29589 atoms 9863 residues\n",
      "Including chain 4 in system: 3258 atoms 1086 residues\n",
      "\t\t--------- PLEASE NOTE ------------\n",
      "You have successfully generated a topology from: mutB.pdb.\n",
      "The Amber99sb-star-ildn-mut force field and the spce water model are used.\n",
      "\t\t--------- ETON ESAELP ------------\n",
      "\n",
      "2020-10-13 17:18:40,144 [MainThread  ] [INFO ]                       :-) GROMACS - gmx pdb2gmx, 2019.1 (-:\n",
      "\n",
      "Executable:   /anaconda3/envs/biobb/bin/gmx\n",
      "Data prefix:  /anaconda3/envs/biobb\n",
      "Working dir:  /Users/pau/projects/biobb_wf_pmx_tutorial/biobb_wf_pmx_tutorial/notebooks\n",
      "Command line:\n",
      "  gmx -nobackup -nocopyright pdb2gmx -f mutB.pdb -o pdb2gmxB.gro -p p2g.top -water spce -ff amber99sb-star-ildn-mut -i posre.itp\n",
      "\n",
      "Opening force field file /anaconda3/envs/biobb/lib/python3.7/site-packages/pmx/data/mutff45//amber99sb-star-ildn-mut.ff/aminoacids.r2b\n",
      "Opening force field file /anaconda3/envs/biobb/lib/python3.7/site-packages/pmx/data/mutff45//amber99sb-star-ildn-mut.ff/dna.r2b\n",
      "Opening force field file /anaconda3/envs/biobb/lib/python3.7/site-packages/pmx/data/mutff45//amber99sb-star-ildn-mut.ff/rna.r2b\n",
      "All occupancies are one\n",
      "Opening force field file /anaconda3/envs/biobb/lib/python3.7/site-packages/pmx/data/mutff45//amber99sb-star-ildn-mut.ff/atomtypes.atp\n",
      "Atomtype 103\n",
      "Opening force field file /anaconda3/envs/biobb/lib/python3.7/site-packages/pmx/data/mutff45//amber99sb-star-ildn-mut.ff/aminoacids.rtp\n",
      "Residue 103\n",
      "Sorting it all out...\n",
      "Opening force field file /anaconda3/envs/biobb/lib/python3.7/site-packages/pmx/data/mutff45//amber99sb-star-ildn-mut.ff/dna.rtp\n",
      "Residue 119\n",
      "Sorting it all out...\n",
      "Opening force field file /anaconda3/envs/biobb/lib/python3.7/site-packages/pmx/data/mutff45//amber99sb-star-ildn-mut.ff/mutres.rtp\n",
      "Residue 671\n",
      "Sorting it all out...\n",
      "Opening force field file /anaconda3/envs/biobb/lib/python3.7/site-packages/pmx/data/mutff45//amber99sb-star-ildn-mut.ff/rna.rtp\n",
      "Residue 687\n",
      "Sorting it all out...\n",
      "Opening force field file /anaconda3/envs/biobb/lib/python3.7/site-packages/pmx/data/mutff45//amber99sb-star-ildn-mut.ff/aminoacids.hdb\n",
      "Opening force field file /anaconda3/envs/biobb/lib/python3.7/site-packages/pmx/data/mutff45//amber99sb-star-ildn-mut.ff/dna.hdb\n",
      "Opening force field file /anaconda3/envs/biobb/lib/python3.7/site-packages/pmx/data/mutff45//amber99sb-star-ildn-mut.ff/rna.hdb\n",
      "Opening force field file /anaconda3/envs/biobb/lib/python3.7/site-packages/pmx/data/mutff45//amber99sb-star-ildn-mut.ff/aminoacids.n.tdb\n",
      "Opening force field file /anaconda3/envs/biobb/lib/python3.7/site-packages/pmx/data/mutff45//amber99sb-star-ildn-mut.ff/aminoacids.c.tdb\n",
      "Analysing hydrogen-bonding network for automated assignment of histidine\n",
      " protonation. 210 donors and 198 acceptors were found.\n",
      "There are 297 hydrogen bonds\n",
      "Will use HISE for residue 3\n",
      "Will use HISE for residue 41\n",
      "Will use HISE for residue 116\n",
      "Will use HISE for residue 119\n",
      "8 out of 8 lines of specbond.dat converted successfully\n",
      "Special Atom Distance matrix:\n",
      "                    HIS3   MET21   MET27   HIS41   MET60   MET93  HIS116\n",
      "                   NE255   SD337   SD435  NE2675   SD975  SD1506 NE21875\n",
      "   MET21   SD337   2.016\n",
      "   MET27   SD435   1.595   1.007\n",
      "   HIS41  NE2675   3.557   3.050   2.486\n",
      "   MET60   SD975   2.116   2.166   2.004   2.431\n",
      "   MET93  SD1506   1.559   2.354   1.840   2.503   0.925\n",
      "  HIS116 NE21875   1.133   2.478   1.896   2.946   1.470   0.612\n",
      "  HIS119 NE21924   1.876   2.831   2.384   2.834   1.082   0.553   0.831\n",
      "                \n",
      "                \n",
      "Opening force field file /anaconda3/envs/biobb/lib/python3.7/site-packages/pmx/data/mutff45//amber99sb-star-ildn-mut.ff/aminoacids.arn\n",
      "Opening force field file /anaconda3/envs/biobb/lib/python3.7/site-packages/pmx/data/mutff45//amber99sb-star-ildn-mut.ff/dna.arn\n",
      "Opening force field file /anaconda3/envs/biobb/lib/python3.7/site-packages/pmx/data/mutff45//amber99sb-star-ildn-mut.ff/rna.arn\n",
      "Making bonds...\n",
      "Number of bonds was 2248, now 2247\n",
      "Generating angles, dihedrals and pairs...\n",
      "Before cleaning: 5932 pairs\n",
      "Before cleaning: 6154 dihedrals\n",
      "Keeping all generated dihedrals\n",
      "Making cmap torsions...\n",
      "There are 6154 dihedrals,  531 impropers, 4097 angles\n",
      "          5899 pairs,     2247 bonds and     0 virtual sites\n",
      "Total mass 15494.198 a.m.u.\n",
      "Total charge 10.000 e\n",
      "Writing topology\n",
      "8 out of 8 lines of specbond.dat converted successfully\n",
      "Opening force field file /anaconda3/envs/biobb/lib/python3.7/site-packages/pmx/data/mutff45//amber99sb-star-ildn-mut.ff/aminoacids.arn\n",
      "Opening force field file /anaconda3/envs/biobb/lib/python3.7/site-packages/pmx/data/mutff45//amber99sb-star-ildn-mut.ff/dna.arn\n",
      "Opening force field file /anaconda3/envs/biobb/lib/python3.7/site-packages/pmx/data/mutff45//amber99sb-star-ildn-mut.ff/rna.arn\n",
      "Making bonds...\n",
      "No bonds\n",
      "Generating angles, dihedrals and pairs...\n",
      "Making cmap torsions...\n",
      "There are    0 dihedrals,    0 impropers,    0 angles\n",
      "             0 pairs,        0 bonds and     0 virtual sites\n",
      "Total mass 2224.580 a.m.u.\n",
      "Total charge -10.000 e\n",
      "Writing topology\n",
      "8 out of 8 lines of specbond.dat converted successfully\n",
      "Opening force field file /anaconda3/envs/biobb/lib/python3.7/site-packages/pmx/data/mutff45//amber99sb-star-ildn-mut.ff/aminoacids.arn\n",
      "Opening force field file /anaconda3/envs/biobb/lib/python3.7/site-packages/pmx/data/mutff45//amber99sb-star-ildn-mut.ff/dna.arn\n",
      "Opening force field file /anaconda3/envs/biobb/lib/python3.7/site-packages/pmx/data/mutff45//amber99sb-star-ildn-mut.ff/rna.arn\n",
      "Making bonds...\n",
      "Number of bonds was 19726, now 19726\n",
      "Generating angles, dihedrals and pairs...\n",
      "Making cmap torsions...\n",
      "There are    0 dihedrals,    0 impropers, 9863 angles\n",
      "             0 pairs,     19726 bonds and     0 virtual sites\n",
      "Total mass 177691.808 a.m.u.\n",
      "Total charge 0.000 e\n",
      "8 out of 8 lines of specbond.dat converted successfully\n",
      "Opening force field file /anaconda3/envs/biobb/lib/python3.7/site-packages/pmx/data/mutff45//amber99sb-star-ildn-mut.ff/aminoacids.arn\n",
      "Opening force field file /anaconda3/envs/biobb/lib/python3.7/site-packages/pmx/data/mutff45//amber99sb-star-ildn-mut.ff/dna.arn\n",
      "Opening force field file /anaconda3/envs/biobb/lib/python3.7/site-packages/pmx/data/mutff45//amber99sb-star-ildn-mut.ff/rna.arn\n",
      "Making bonds...\n",
      "Number of bonds was 2172, now 2172\n",
      "Generating angles, dihedrals and pairs...\n",
      "Making cmap torsions...\n",
      "There are    0 dihedrals,    0 impropers, 1086 angles\n",
      "             0 pairs,     2172 bonds and     0 virtual sites\n",
      "Total mass 19565.376 a.m.u.\n",
      "Total charge 0.000 e\n",
      "Now there are 35147 atoms and 11159 residues\n",
      "Total mass in system 214975.963 a.m.u.\n",
      "Total charge in system 0.000 e\n",
      "\n",
      "Writing coordinate file...\n",
      "\n",
      "GROMACS reminds you: \"I used to be blond and stupid, but now I dyed it black\" (Miss Li)\n",
      "\n",
      "\n"
     ]
    },
    {
     "name": "stderr",
     "output_type": "stream",
     "text": [
      "2020-10-13 17:18:40,146 [MainThread  ] [INFO ]  Compressing topology to: pdb2gmxB_top.zip\n",
      "2020-10-13 17:18:40,148 [MainThread  ] [INFO ]  Ignored file amber99sb-star-ildn-mut.ff/forcefield.itp\n",
      "2020-10-13 17:18:40,159 [MainThread  ] [INFO ]  Ignored file amber99sb-star-ildn-mut.ff/spce.itp\n",
      "2020-10-13 17:18:40,160 [MainThread  ] [INFO ]  Ignored file amber99sb-star-ildn-mut.ff/ions.itp\n",
      "2020-10-13 17:18:40,164 [MainThread  ] [INFO ]  Adding:\n",
      "2020-10-13 17:18:40,164 [MainThread  ] [INFO ]  ['p2g.top', 'p2g_Ion_chain_C.itp', 'p2g_Protein_chain_A.itp', 'posre_Ion_chain_C.itp', 'posre_Protein_chain_A.itp']\n",
      "2020-10-13 17:18:40,165 [MainThread  ] [INFO ]  to: /Users/pau/projects/biobb_wf_pmx_tutorial/biobb_wf_pmx_tutorial/notebooks/pdb2gmxB_top.zip\n",
      "2020-10-13 17:18:40,166 [MainThread  ] [INFO ]  Removed: ['p2g.top']\n"
     ]
    },
    {
     "data": {
      "text/plain": [
       "0"
      ]
     },
     "execution_count": 5,
     "metadata": {},
     "output_type": "execute_result"
    }
   ],
   "source": [
    "# Create system topology\n",
    "\n",
    "# Import module\n",
    "from biobb_md.gromacs.pdb2gmx import Pdb2gmx\n",
    "\n",
    "#### State A (WT->Mut) ####\n",
    "\n",
    "# Create inputs/outputs\n",
    "output_pdb2gmxA_gro = 'pdb2gmxA.gro'\n",
    "output_pdb2gmxA_top_zip = 'pdb2gmxA_top.zip'\n",
    "  \n",
    "prop = {\n",
    "    'force_field' : 'amber99sb-star-ildn-mut',\n",
    "    'gmxlib' : gmxlib\n",
    "}\n",
    "\n",
    "# Create and launch bb\n",
    "Pdb2gmx(input_pdb_path=output_structure_mutA,\n",
    "        output_gro_path=output_pdb2gmxA_gro,\n",
    "        output_top_zip_path=output_pdb2gmxA_top_zip,\n",
    "        properties=prop).launch()\n",
    "\n",
    "#### State B (Mut->WT) ####\n",
    "\n",
    "# Create inputs/outputs\n",
    "output_pdb2gmxB_gro = 'pdb2gmxB.gro'\n",
    "output_pdb2gmxB_top_zip = 'pdb2gmxB_top.zip'\n",
    "  \n",
    "prop = {\n",
    "    'force_field' : 'amber99sb-star-ildn-mut',\n",
    "    'gmxlib' : gmxlib\n",
    "}\n",
    "\n",
    "# Create and launch bb\n",
    "Pdb2gmx(input_pdb_path=output_structure_mutB,\n",
    "        output_gro_path=output_pdb2gmxB_gro,\n",
    "        output_top_zip_path=output_pdb2gmxB_top_zip,\n",
    "        properties=prop).launch()"
   ]
  },
  {
   "cell_type": "markdown",
   "metadata": {},
   "source": [
    "<a id=\"hybridtop\"></a>\n",
    "## Generate Hybrid Topology\n",
    "**Generate Hybrid Topology** for the mutated structure using **pmx** package, adding the **morphing parameters**. \n",
    "\n",
    "*Note:* This tutorial is using a **Docker container** to run **pmx**. To use a local installation of **pmx**, just modify the appropriate properties parameter **pmx_cli_path**. \n",
    "***\n",
    "**Building Blocks** used:\n",
    " - [Pmxgentop](https://biobb-pmx.readthedocs.io/en/latest/pmx.html#module-pmx.pmxgentop) from **biobb_pmx.pmx.pmxgentop**\n",
    "***"
   ]
  },
  {
   "cell_type": "code",
   "execution_count": 6,
   "metadata": {},
   "outputs": [
    {
     "name": "stderr",
     "output_type": "stream",
     "text": [
      "2020-10-13 17:18:41,576 [MainThread  ] [INFO ]  Extracting: /Users/pau/projects/biobb_wf_pmx_tutorial/biobb_wf_pmx_tutorial/notebooks/pdb2gmxA_top.zip\n",
      "2020-10-13 17:18:41,576 [MainThread  ] [INFO ]  to:\n",
      "2020-10-13 17:18:41,577 [MainThread  ] [INFO ]  ['095258c4-9e16-4db8-8248-646873c3eadc/p2g.top', '095258c4-9e16-4db8-8248-646873c3eadc/p2g_Ion_chain_C.itp', '095258c4-9e16-4db8-8248-646873c3eadc/p2g_Protein_chain_A.itp', '095258c4-9e16-4db8-8248-646873c3eadc/posre_Ion_chain_C.itp', '095258c4-9e16-4db8-8248-646873c3eadc/posre_Protein_chain_A.itp']\n",
      "2020-10-13 17:18:41,578 [MainThread  ] [INFO ]  Unzipping: \n",
      "2020-10-13 17:18:41,579 [MainThread  ] [INFO ]  pdb2gmxA_top.zip\n",
      "2020-10-13 17:18:41,581 [MainThread  ] [INFO ]  To: \n",
      "2020-10-13 17:18:41,582 [MainThread  ] [INFO ]  095258c4-9e16-4db8-8248-646873c3eadc/p2g.top\n",
      "2020-10-13 17:18:41,583 [MainThread  ] [INFO ]  095258c4-9e16-4db8-8248-646873c3eadc/p2g_Ion_chain_C.itp\n",
      "2020-10-13 17:18:41,584 [MainThread  ] [INFO ]  095258c4-9e16-4db8-8248-646873c3eadc/p2g_Protein_chain_A.itp\n",
      "2020-10-13 17:18:41,585 [MainThread  ] [INFO ]  095258c4-9e16-4db8-8248-646873c3eadc/posre_Ion_chain_C.itp\n",
      "2020-10-13 17:18:41,585 [MainThread  ] [INFO ]  095258c4-9e16-4db8-8248-646873c3eadc/posre_Protein_chain_A.itp\n",
      "2020-10-13 17:18:41,586 [MainThread  ] [INFO ]  top_file: 095258c4-9e16-4db8-8248-646873c3eadc/p2g.top\n",
      "2020-10-13 17:18:41,587 [MainThread  ] [INFO ]  unique_dir_output_file: 23540754-5e33-4f94-ae96-1b358893c9f8/p2g.top\n",
      "2020-10-13 17:18:41,588 [MainThread  ] [INFO ]  Not using any container\n",
      "2020-10-13 17:18:46,412 [MainThread  ] [INFO ]  pmx gentop -o 23540754-5e33-4f94-ae96-1b358893c9f8/p2g.top -ff amber99sb-star-ildn-mut -p 095258c4-9e16-4db8-8248-646873c3eadc/p2g.top\n",
      "\n",
      "2020-10-13 17:18:46,414 [MainThread  ] [INFO ]  Exit code 0\n",
      "\n",
      "2020-10-13 17:18:46,416 [MainThread  ] [INFO ]  \n",
      "log_> Reading input top file \"095258c4-9e16-4db8-8248-646873c3eadc/p2g.top\"\n",
      "log_> Making bonds for state B -> 0 bonds with perturbed atoms\n",
      "log_> Making angles for state B -> 0 angles with perturbed atoms\n",
      "log_> Making dihedrals for state B -> 0 dihedrals with perturbed atoms\n",
      "log_> Removed 0 fake dihedrals\n",
      "log_> Total charge of state A = 0\n",
      "log_> Total charge of state B = 0\n",
      "\n",
      "log_> Reading input itp file \"p2g_Protein_chain_A.itp\"\"\n",
      "log_> Scanning database for I2A \n",
      "log_> Hybrid Residue -> 10 | I2A \n",
      "log_> Making bonds for state B -> 20 bonds with perturbed atoms\n",
      "log_> Making angles for state B -> 40 angles with perturbed atoms\n",
      "log_> Making dihedrals for state B -> 52 dihedrals with perturbed atoms\n",
      "log_> Removed 0 fake dihedrals\n",
      "log_> Total charge of state A = 10\n",
      "log_> Total charge of state B = 10\n",
      "\n",
      "log_> Reading input itp file \"p2g_Ion_chain_C.itp\"\"\n",
      "log_> Making bonds for state B -> 0 bonds with perturbed atoms\n",
      "log_> Making angles for state B -> 0 angles with perturbed atoms\n",
      "log_> Making dihedrals for state B -> 0 dihedrals with perturbed atoms\n",
      "log_> Removed 0 fake dihedrals\n",
      "log_> Total charge of state A = -10\n",
      "log_> Total charge of state B = -10\n",
      "\n",
      "log_> Writing itp file \"23540754-5e33-4f94-ae96-1b358893c9f8/pmx_p2g_Protein_chain_A.itp\"\"\n",
      "\n",
      "log_> Writing itp file \"23540754-5e33-4f94-ae96-1b358893c9f8/pmx_p2g_Ion_chain_C.itp\"\"\n",
      "\n",
      "log_> Writing topology file \"23540754-5e33-4f94-ae96-1b358893c9f8/p2g.top\"\"\n",
      "\n",
      "b-states filled...........\n",
      "\n",
      "\n",
      "2020-10-13 17:18:46,417 [MainThread  ] [INFO ]  In file included from 095258c4-9e16-4db8-8248-646873c3eadc/p2g.top:27:\n",
      "/anaconda3/envs/biobb/lib/python3.7/site-packages/pmx/data/mutff45/amber99sb-star-ildn-mut.ff/forcefield.itp:5:14: warning: missing terminating ' character [-Winvalid-pp-token]\n",
      "* (Please don't blame Eric for errors we might have introduced.)   *\n",
      "             ^\n",
      "In file included from 095258c4-9e16-4db8-8248-646873c3eadc/p2g.top:27:\n",
      "In file included from /anaconda3/envs/biobb/lib/python3.7/site-packages/pmx/data/mutff45/amber99sb-star-ildn-mut.ff/forcefield.itp:20:\n",
      "/anaconda3/envs/biobb/lib/python3.7/site-packages/pmx/data/mutff45/amber99sb-star-ildn-mut.ff/ffbonded.itp:503:71: warning: missing terminating ' character [-Winvalid-pp-token]\n",
      " X   CA  N2  X     9     180.0     10.04160     2  ; reinterpolated 93'\n",
      "                                                                      ^\n",
      "/anaconda3/envs/biobb/lib/python3.7/site-packages/pmx/data/mutff45/amber99sb-star-ildn-mut.ff/ffbonded.itp:531:71: warning: missing terminating ' character [-Winvalid-pp-token]\n",
      " X   CA  CN  X     9     180.0     15.16700     2  ; reinterpolated 93'\n",
      "                                                                      ^\n",
      "/anaconda3/envs/biobb/lib/python3.7/site-packages/pmx/data/mutff45/amber99sb-star-ildn-mut.ff/ffbonded.itp:532:71: warning: missing terminating ' character [-Winvalid-pp-token]\n",
      " X   CB  CN  X     9     180.0     12.55200     2  ; reinterpolated 93'\n",
      "                                                                      ^\n",
      "/anaconda3/envs/biobb/lib/python3.7/site-packages/pmx/data/mutff45/amber99sb-star-ildn-mut.ff/ffbonded.itp:538:71: warning: missing terminating ' character [-Winvalid-pp-token]\n",
      " X   CN  NA  X     9     180.0      6.38060     2  ; reinterpolated 93'\n",
      "                                                                      ^\n",
      "5 warnings generated.\n",
      "/anaconda3/envs/biobb/lib/python3.7/site-packages/pmx/data/mutff45/amber99sb-star-ildn-mut.ff/forcefield.itp:5:14: warning: missing terminating ' character [-Winvalid-pp-token]\n",
      "* (Please don't blame Eric for errors we might have introduced.)   *\n",
      "             ^\n",
      "In file included from /anaconda3/envs/biobb/lib/python3.7/site-packages/pmx/data/mutff45/amber99sb-star-ildn-mut.ff/forcefield.itp:20:\n",
      "/anaconda3/envs/biobb/lib/python3.7/site-packages/pmx/data/mutff45/amber99sb-star-ildn-mut.ff/ffbonded.itp:503:71: warning: missing terminating ' character [-Winvalid-pp-token]\n",
      " X   CA  N2  X     9     180.0     10.04160     2  ; reinterpolated 93'\n",
      "                                                                      ^\n",
      "/anaconda3/envs/biobb/lib/python3.7/site-packages/pmx/data/mutff45/amber99sb-star-ildn-mut.ff/ffbonded.itp:531:71: warning: missing terminating ' character [-Winvalid-pp-token]\n",
      " X   CA  CN  X     9     180.0     15.16700     2  ; reinterpolated 93'\n",
      "                                                                      ^\n",
      "/anaconda3/envs/biobb/lib/python3.7/site-packages/pmx/data/mutff45/amber99sb-star-ildn-mut.ff/ffbonded.itp:532:71: warning: missing terminating ' character [-Winvalid-pp-token]\n",
      " X   CB  CN  X     9     180.0     12.55200     2  ; reinterpolated 93'\n",
      "                                                                      ^\n",
      "/anaconda3/envs/biobb/lib/python3.7/site-packages/pmx/data/mutff45/amber99sb-star-ildn-mut.ff/ffbonded.itp:538:71: warning: missing terminating ' character [-Winvalid-pp-token]\n",
      " X   CN  NA  X     9     180.0      6.38060     2  ; reinterpolated 93'\n",
      "                                                                      ^\n",
      "5 warnings generated.\n",
      "/anaconda3/envs/biobb/lib/python3.7/site-packages/pmx/data/mutff45/amber99sb-star-ildn-mut.ff/forcefield.itp:5:14: warning: missing terminating ' character [-Winvalid-pp-token]\n",
      "* (Please don't blame Eric for errors we might have introduced.)   *\n",
      "             ^\n",
      "In file included from /anaconda3/envs/biobb/lib/python3.7/site-packages/pmx/data/mutff45/amber99sb-star-ildn-mut.ff/forcefield.itp:20:\n",
      "/anaconda3/envs/biobb/lib/python3.7/site-packages/pmx/data/mutff45/amber99sb-star-ildn-mut.ff/ffbonded.itp:503:71: warning: missing terminating ' character [-Winvalid-pp-token]\n",
      " X   CA  N2  X     9     180.0     10.04160     2  ; reinterpolated 93'\n",
      "                                                                      ^\n",
      "/anaconda3/envs/biobb/lib/python3.7/site-packages/pmx/data/mutff45/amber99sb-star-ildn-mut.ff/ffbonded.itp:531:71: warning: missing terminating ' character [-Winvalid-pp-token]\n",
      " X   CA  CN  X     9     180.0     15.16700     2  ; reinterpolated 93'\n",
      "                                                                      ^\n",
      "/anaconda3/envs/biobb/lib/python3.7/site-packages/pmx/data/mutff45/amber99sb-star-ildn-mut.ff/ffbonded.itp:532:71: warning: missing terminating ' character [-Winvalid-pp-token]\n",
      " X   CB  CN  X     9     180.0     12.55200     2  ; reinterpolated 93'\n",
      "                                                                      ^\n",
      "/anaconda3/envs/biobb/lib/python3.7/site-packages/pmx/data/mutff45/amber99sb-star-ildn-mut.ff/ffbonded.itp:538:71: warning: missing terminating ' character [-Winvalid-pp-token]\n",
      " X   CN  NA  X     9     180.0      6.38060     2  ; reinterpolated 93'\n",
      "                                                                      ^\n",
      "5 warnings generated.\n",
      "\n"
     ]
    },
    {
     "name": "stderr",
     "output_type": "stream",
     "text": [
      "2020-10-13 17:18:46,420 [MainThread  ] [INFO ]  Check if 23540754-5e33-4f94-ae96-1b358893c9f8/posre_Protein_chain_A.itp exists\n",
      "2020-10-13 17:18:46,422 [MainThread  ] [INFO ]  Copying 095258c4-9e16-4db8-8248-646873c3eadc/posre_Protein_chain_A.itp to: 23540754-5e33-4f94-ae96-1b358893c9f8\n",
      "2020-10-13 17:18:46,423 [MainThread  ] [INFO ]  Check if 23540754-5e33-4f94-ae96-1b358893c9f8/p2g_Protein_chain_A.itp exists\n",
      "2020-10-13 17:18:46,427 [MainThread  ] [INFO ]  Copying 095258c4-9e16-4db8-8248-646873c3eadc/p2g_Protein_chain_A.itp to: 23540754-5e33-4f94-ae96-1b358893c9f8\n",
      "2020-10-13 17:18:46,428 [MainThread  ] [INFO ]  Check if 23540754-5e33-4f94-ae96-1b358893c9f8/posre_Ion_chain_C.itp exists\n",
      "2020-10-13 17:18:46,429 [MainThread  ] [INFO ]  Copying 095258c4-9e16-4db8-8248-646873c3eadc/posre_Ion_chain_C.itp to: 23540754-5e33-4f94-ae96-1b358893c9f8\n",
      "2020-10-13 17:18:46,430 [MainThread  ] [INFO ]  Check if 23540754-5e33-4f94-ae96-1b358893c9f8/p2g.top exists\n",
      "2020-10-13 17:18:46,432 [MainThread  ] [INFO ]  Check if 23540754-5e33-4f94-ae96-1b358893c9f8/p2g_Ion_chain_C.itp exists\n",
      "2020-10-13 17:18:46,434 [MainThread  ] [INFO ]  Copying 095258c4-9e16-4db8-8248-646873c3eadc/p2g_Ion_chain_C.itp to: 23540754-5e33-4f94-ae96-1b358893c9f8\n",
      "2020-10-13 17:18:46,434 [MainThread  ] [INFO ]  Compressing topology to: pmxA_top.zip\n",
      "2020-10-13 17:18:46,436 [MainThread  ] [INFO ]  Ignored file 23540754-5e33-4f94-ae96-1b358893c9f8/amber99sb-star-ildn-mut.ff/forcefield.itp\n",
      "2020-10-13 17:18:46,449 [MainThread  ] [INFO ]  Ignored file 23540754-5e33-4f94-ae96-1b358893c9f8/amber99sb-star-ildn-mut.ff/spce.itp\n",
      "2020-10-13 17:18:46,450 [MainThread  ] [INFO ]  Ignored file 23540754-5e33-4f94-ae96-1b358893c9f8/amber99sb-star-ildn-mut.ff/ions.itp\n",
      "2020-10-13 17:18:46,455 [MainThread  ] [INFO ]  Adding:\n",
      "2020-10-13 17:18:46,456 [MainThread  ] [INFO ]  ['23540754-5e33-4f94-ae96-1b358893c9f8/p2g.top', '23540754-5e33-4f94-ae96-1b358893c9f8/pmx_p2g_Ion_chain_C.itp', '23540754-5e33-4f94-ae96-1b358893c9f8/pmx_p2g_Protein_chain_A.itp', '23540754-5e33-4f94-ae96-1b358893c9f8/posre_Ion_chain_C.itp', '23540754-5e33-4f94-ae96-1b358893c9f8/posre_Protein_chain_A.itp']\n",
      "2020-10-13 17:18:46,457 [MainThread  ] [INFO ]  to: /Users/pau/projects/biobb_wf_pmx_tutorial/biobb_wf_pmx_tutorial/notebooks/pmxA_top.zip\n",
      "2020-10-13 17:18:46,459 [MainThread  ] [INFO ]  Removed: ['095258c4-9e16-4db8-8248-646873c3eadc']\n",
      "2020-10-13 17:18:46,486 [MainThread  ] [INFO ]  Extracting: /Users/pau/projects/biobb_wf_pmx_tutorial/biobb_wf_pmx_tutorial/notebooks/pdb2gmxB_top.zip\n",
      "2020-10-13 17:18:46,488 [MainThread  ] [INFO ]  to:\n",
      "2020-10-13 17:18:46,488 [MainThread  ] [INFO ]  ['3b2654d8-0b7d-4e05-bec4-6876656206f8/p2g.top', '3b2654d8-0b7d-4e05-bec4-6876656206f8/p2g_Ion_chain_C.itp', '3b2654d8-0b7d-4e05-bec4-6876656206f8/p2g_Protein_chain_A.itp', '3b2654d8-0b7d-4e05-bec4-6876656206f8/posre_Ion_chain_C.itp', '3b2654d8-0b7d-4e05-bec4-6876656206f8/posre_Protein_chain_A.itp']\n",
      "2020-10-13 17:18:46,490 [MainThread  ] [INFO ]  Unzipping: \n",
      "2020-10-13 17:18:46,491 [MainThread  ] [INFO ]  pdb2gmxB_top.zip\n",
      "2020-10-13 17:18:46,492 [MainThread  ] [INFO ]  To: \n",
      "2020-10-13 17:18:46,493 [MainThread  ] [INFO ]  3b2654d8-0b7d-4e05-bec4-6876656206f8/p2g.top\n",
      "2020-10-13 17:18:46,494 [MainThread  ] [INFO ]  3b2654d8-0b7d-4e05-bec4-6876656206f8/p2g_Ion_chain_C.itp\n",
      "2020-10-13 17:18:46,495 [MainThread  ] [INFO ]  3b2654d8-0b7d-4e05-bec4-6876656206f8/p2g_Protein_chain_A.itp\n",
      "2020-10-13 17:18:46,496 [MainThread  ] [INFO ]  3b2654d8-0b7d-4e05-bec4-6876656206f8/posre_Ion_chain_C.itp\n",
      "2020-10-13 17:18:46,497 [MainThread  ] [INFO ]  3b2654d8-0b7d-4e05-bec4-6876656206f8/posre_Protein_chain_A.itp\n",
      "2020-10-13 17:18:46,498 [MainThread  ] [INFO ]  top_file: 3b2654d8-0b7d-4e05-bec4-6876656206f8/p2g.top\n",
      "2020-10-13 17:18:46,500 [MainThread  ] [INFO ]  unique_dir_output_file: 27464062-a195-4b72-8c84-79018c1cd28c/p2g.top\n",
      "2020-10-13 17:18:46,500 [MainThread  ] [INFO ]  Not using any container\n",
      "2020-10-13 17:18:51,311 [MainThread  ] [INFO ]  pmx gentop -o 27464062-a195-4b72-8c84-79018c1cd28c/p2g.top -ff amber99sb-star-ildn-mut -p 3b2654d8-0b7d-4e05-bec4-6876656206f8/p2g.top\n",
      "\n",
      "2020-10-13 17:18:51,313 [MainThread  ] [INFO ]  Exit code 0\n",
      "\n",
      "2020-10-13 17:18:51,314 [MainThread  ] [INFO ]  \n",
      "log_> Reading input top file \"3b2654d8-0b7d-4e05-bec4-6876656206f8/p2g.top\"\n",
      "log_> Making bonds for state B -> 0 bonds with perturbed atoms\n",
      "log_> Making angles for state B -> 0 angles with perturbed atoms\n",
      "log_> Making dihedrals for state B -> 0 dihedrals with perturbed atoms\n",
      "log_> Removed 0 fake dihedrals\n",
      "log_> Total charge of state A = 0\n",
      "log_> Total charge of state B = 0\n",
      "\n",
      "log_> Reading input itp file \"p2g_Protein_chain_A.itp\"\"\n",
      "log_> Scanning database for A2I \n",
      "log_> Hybrid Residue -> 10 | A2I \n",
      "log_> Making bonds for state B -> 20 bonds with perturbed atoms\n",
      "log_> Making angles for state B -> 40 angles with perturbed atoms\n",
      "log_> Making dihedrals for state B -> 52 dihedrals with perturbed atoms\n",
      "log_> Removed 0 fake dihedrals\n",
      "log_> Total charge of state A = 10\n",
      "log_> Total charge of state B = 10\n",
      "\n",
      "log_> Reading input itp file \"p2g_Ion_chain_C.itp\"\"\n",
      "log_> Making bonds for state B -> 0 bonds with perturbed atoms\n",
      "log_> Making angles for state B -> 0 angles with perturbed atoms\n",
      "log_> Making dihedrals for state B -> 0 dihedrals with perturbed atoms\n",
      "log_> Removed 0 fake dihedrals\n",
      "log_> Total charge of state A = -10\n",
      "log_> Total charge of state B = -10\n",
      "\n",
      "log_> Writing itp file \"27464062-a195-4b72-8c84-79018c1cd28c/pmx_p2g_Protein_chain_A.itp\"\"\n",
      "\n",
      "log_> Writing itp file \"27464062-a195-4b72-8c84-79018c1cd28c/pmx_p2g_Ion_chain_C.itp\"\"\n",
      "\n",
      "log_> Writing topology file \"27464062-a195-4b72-8c84-79018c1cd28c/p2g.top\"\"\n",
      "\n",
      "b-states filled...........\n",
      "\n",
      "\n",
      "2020-10-13 17:18:51,315 [MainThread  ] [INFO ]  In file included from 3b2654d8-0b7d-4e05-bec4-6876656206f8/p2g.top:27:\n",
      "/anaconda3/envs/biobb/lib/python3.7/site-packages/pmx/data/mutff45/amber99sb-star-ildn-mut.ff/forcefield.itp:5:14: warning: missing terminating ' character [-Winvalid-pp-token]\n",
      "* (Please don't blame Eric for errors we might have introduced.)   *\n",
      "             ^\n",
      "In file included from 3b2654d8-0b7d-4e05-bec4-6876656206f8/p2g.top:27:\n",
      "In file included from /anaconda3/envs/biobb/lib/python3.7/site-packages/pmx/data/mutff45/amber99sb-star-ildn-mut.ff/forcefield.itp:20:\n",
      "/anaconda3/envs/biobb/lib/python3.7/site-packages/pmx/data/mutff45/amber99sb-star-ildn-mut.ff/ffbonded.itp:503:71: warning: missing terminating ' character [-Winvalid-pp-token]\n",
      " X   CA  N2  X     9     180.0     10.04160     2  ; reinterpolated 93'\n",
      "                                                                      ^\n",
      "/anaconda3/envs/biobb/lib/python3.7/site-packages/pmx/data/mutff45/amber99sb-star-ildn-mut.ff/ffbonded.itp:531:71: warning: missing terminating ' character [-Winvalid-pp-token]\n",
      " X   CA  CN  X     9     180.0     15.16700     2  ; reinterpolated 93'\n",
      "                                                                      ^\n",
      "/anaconda3/envs/biobb/lib/python3.7/site-packages/pmx/data/mutff45/amber99sb-star-ildn-mut.ff/ffbonded.itp:532:71: warning: missing terminating ' character [-Winvalid-pp-token]\n",
      " X   CB  CN  X     9     180.0     12.55200     2  ; reinterpolated 93'\n",
      "                                                                      ^\n",
      "/anaconda3/envs/biobb/lib/python3.7/site-packages/pmx/data/mutff45/amber99sb-star-ildn-mut.ff/ffbonded.itp:538:71: warning: missing terminating ' character [-Winvalid-pp-token]\n",
      " X   CN  NA  X     9     180.0      6.38060     2  ; reinterpolated 93'\n",
      "                                                                      ^\n",
      "5 warnings generated.\n",
      "/anaconda3/envs/biobb/lib/python3.7/site-packages/pmx/data/mutff45/amber99sb-star-ildn-mut.ff/forcefield.itp:5:14: warning: missing terminating ' character [-Winvalid-pp-token]\n",
      "* (Please don't blame Eric for errors we might have introduced.)   *\n",
      "             ^\n",
      "In file included from /anaconda3/envs/biobb/lib/python3.7/site-packages/pmx/data/mutff45/amber99sb-star-ildn-mut.ff/forcefield.itp:20:\n",
      "/anaconda3/envs/biobb/lib/python3.7/site-packages/pmx/data/mutff45/amber99sb-star-ildn-mut.ff/ffbonded.itp:503:71: warning: missing terminating ' character [-Winvalid-pp-token]\n",
      " X   CA  N2  X     9     180.0     10.04160     2  ; reinterpolated 93'\n",
      "                                                                      ^\n",
      "/anaconda3/envs/biobb/lib/python3.7/site-packages/pmx/data/mutff45/amber99sb-star-ildn-mut.ff/ffbonded.itp:531:71: warning: missing terminating ' character [-Winvalid-pp-token]\n",
      " X   CA  CN  X     9     180.0     15.16700     2  ; reinterpolated 93'\n",
      "                                                                      ^\n",
      "/anaconda3/envs/biobb/lib/python3.7/site-packages/pmx/data/mutff45/amber99sb-star-ildn-mut.ff/ffbonded.itp:532:71: warning: missing terminating ' character [-Winvalid-pp-token]\n",
      " X   CB  CN  X     9     180.0     12.55200     2  ; reinterpolated 93'\n",
      "                                                                      ^\n",
      "/anaconda3/envs/biobb/lib/python3.7/site-packages/pmx/data/mutff45/amber99sb-star-ildn-mut.ff/ffbonded.itp:538:71: warning: missing terminating ' character [-Winvalid-pp-token]\n",
      " X   CN  NA  X     9     180.0      6.38060     2  ; reinterpolated 93'\n",
      "                                                                      ^\n",
      "5 warnings generated.\n",
      "/anaconda3/envs/biobb/lib/python3.7/site-packages/pmx/data/mutff45/amber99sb-star-ildn-mut.ff/forcefield.itp:5:14: warning: missing terminating ' character [-Winvalid-pp-token]\n",
      "* (Please don't blame Eric for errors we might have introduced.)   *\n",
      "             ^\n",
      "In file included from /anaconda3/envs/biobb/lib/python3.7/site-packages/pmx/data/mutff45/amber99sb-star-ildn-mut.ff/forcefield.itp:20:\n",
      "/anaconda3/envs/biobb/lib/python3.7/site-packages/pmx/data/mutff45/amber99sb-star-ildn-mut.ff/ffbonded.itp:503:71: warning: missing terminating ' character [-Winvalid-pp-token]\n",
      " X   CA  N2  X     9     180.0     10.04160     2  ; reinterpolated 93'\n",
      "                                                                      ^\n",
      "/anaconda3/envs/biobb/lib/python3.7/site-packages/pmx/data/mutff45/amber99sb-star-ildn-mut.ff/ffbonded.itp:531:71: warning: missing terminating ' character [-Winvalid-pp-token]\n",
      " X   CA  CN  X     9     180.0     15.16700     2  ; reinterpolated 93'\n",
      "                                                                      ^\n",
      "/anaconda3/envs/biobb/lib/python3.7/site-packages/pmx/data/mutff45/amber99sb-star-ildn-mut.ff/ffbonded.itp:532:71: warning: missing terminating ' character [-Winvalid-pp-token]\n",
      " X   CB  CN  X     9     180.0     12.55200     2  ; reinterpolated 93'\n",
      "                                                                      ^\n",
      "/anaconda3/envs/biobb/lib/python3.7/site-packages/pmx/data/mutff45/amber99sb-star-ildn-mut.ff/ffbonded.itp:538:71: warning: missing terminating ' character [-Winvalid-pp-token]\n",
      " X   CN  NA  X     9     180.0      6.38060     2  ; reinterpolated 93'\n",
      "                                                                      ^\n",
      "5 warnings generated.\n",
      "\n"
     ]
    },
    {
     "name": "stderr",
     "output_type": "stream",
     "text": [
      "2020-10-13 17:18:51,317 [MainThread  ] [INFO ]  Check if 27464062-a195-4b72-8c84-79018c1cd28c/posre_Protein_chain_A.itp exists\n",
      "2020-10-13 17:18:51,319 [MainThread  ] [INFO ]  Copying 3b2654d8-0b7d-4e05-bec4-6876656206f8/posre_Protein_chain_A.itp to: 27464062-a195-4b72-8c84-79018c1cd28c\n",
      "2020-10-13 17:18:51,320 [MainThread  ] [INFO ]  Check if 27464062-a195-4b72-8c84-79018c1cd28c/p2g_Protein_chain_A.itp exists\n",
      "2020-10-13 17:18:51,323 [MainThread  ] [INFO ]  Copying 3b2654d8-0b7d-4e05-bec4-6876656206f8/p2g_Protein_chain_A.itp to: 27464062-a195-4b72-8c84-79018c1cd28c\n",
      "2020-10-13 17:18:51,324 [MainThread  ] [INFO ]  Check if 27464062-a195-4b72-8c84-79018c1cd28c/posre_Ion_chain_C.itp exists\n",
      "2020-10-13 17:18:51,326 [MainThread  ] [INFO ]  Copying 3b2654d8-0b7d-4e05-bec4-6876656206f8/posre_Ion_chain_C.itp to: 27464062-a195-4b72-8c84-79018c1cd28c\n",
      "2020-10-13 17:18:51,327 [MainThread  ] [INFO ]  Check if 27464062-a195-4b72-8c84-79018c1cd28c/p2g.top exists\n",
      "2020-10-13 17:18:51,330 [MainThread  ] [INFO ]  Check if 27464062-a195-4b72-8c84-79018c1cd28c/p2g_Ion_chain_C.itp exists\n",
      "2020-10-13 17:18:51,332 [MainThread  ] [INFO ]  Copying 3b2654d8-0b7d-4e05-bec4-6876656206f8/p2g_Ion_chain_C.itp to: 27464062-a195-4b72-8c84-79018c1cd28c\n",
      "2020-10-13 17:18:51,333 [MainThread  ] [INFO ]  Compressing topology to: pmxB_top.zip\n",
      "2020-10-13 17:18:51,335 [MainThread  ] [INFO ]  Ignored file 27464062-a195-4b72-8c84-79018c1cd28c/amber99sb-star-ildn-mut.ff/forcefield.itp\n",
      "2020-10-13 17:18:51,349 [MainThread  ] [INFO ]  Ignored file 27464062-a195-4b72-8c84-79018c1cd28c/amber99sb-star-ildn-mut.ff/spce.itp\n",
      "2020-10-13 17:18:51,350 [MainThread  ] [INFO ]  Ignored file 27464062-a195-4b72-8c84-79018c1cd28c/amber99sb-star-ildn-mut.ff/ions.itp\n",
      "2020-10-13 17:18:51,356 [MainThread  ] [INFO ]  Adding:\n",
      "2020-10-13 17:18:51,357 [MainThread  ] [INFO ]  ['27464062-a195-4b72-8c84-79018c1cd28c/p2g.top', '27464062-a195-4b72-8c84-79018c1cd28c/pmx_p2g_Ion_chain_C.itp', '27464062-a195-4b72-8c84-79018c1cd28c/pmx_p2g_Protein_chain_A.itp', '27464062-a195-4b72-8c84-79018c1cd28c/posre_Ion_chain_C.itp', '27464062-a195-4b72-8c84-79018c1cd28c/posre_Protein_chain_A.itp']\n",
      "2020-10-13 17:18:51,359 [MainThread  ] [INFO ]  to: /Users/pau/projects/biobb_wf_pmx_tutorial/biobb_wf_pmx_tutorial/notebooks/pmxB_top.zip\n",
      "2020-10-13 17:18:51,361 [MainThread  ] [INFO ]  Removed: ['3b2654d8-0b7d-4e05-bec4-6876656206f8']\n"
     ]
    },
    {
     "data": {
      "text/plain": [
       "0"
      ]
     },
     "execution_count": 6,
     "metadata": {},
     "output_type": "execute_result"
    }
   ],
   "source": [
    "# pmx gentop: Gentop command (Generate Hybrid Topology) from pmx package\n",
    "\n",
    "# Import module\n",
    "from biobb_pmx.pmx.pmxgentop import Pmxgentop\n",
    "\n",
    "#### State A (WT->Mut) ####\n",
    "\n",
    "# Create prop dict and inputs/outputs\n",
    "output_pmxtopA_top_zip = 'pmxA_top.zip'\n",
    "output_pmxtopA_log = 'pmxA_top.log'\n",
    "  \n",
    "prop = {\n",
    "    'force_field' : 'amber99sb-star-ildn-mut',\n",
    "    'pmx_path' : 'pmx',\n",
    "    'gmxlib' : gmxlib\n",
    "}\n",
    "\n",
    "#Create and launch bb\n",
    "Pmxgentop(input_top_zip_path=output_pdb2gmxA_top_zip,\n",
    "       output_top_zip_path=output_pmxtopA_top_zip,\n",
    "       output_log_path=output_pmxtopA_log,\n",
    "       properties=prop).launch()\n",
    "\n",
    "#### State B (Mut->WT) ####\n",
    "\n",
    "# Create prop dict and inputs/outputs\n",
    "output_pmxtopB_top_zip = 'pmxB_top.zip'\n",
    "output_pmxtopB_log = 'pmxB_top.log'\n",
    "  \n",
    "prop = {\n",
    "    'force_field' : 'amber99sb-star-ildn-mut',\n",
    "    'pmx_path' : 'pmx',\n",
    "    'gmxlib' : gmxlib\n",
    "}\n",
    "\n",
    "# Create and launch bb\n",
    "Pmxgentop(input_top_zip_path=output_pdb2gmxB_top_zip,\n",
    "       output_top_zip_path=output_pmxtopB_top_zip,\n",
    "       output_log_path=output_pmxtopB_log,\n",
    "       properties=prop).launch()"
   ]
  },
  {
   "cell_type": "markdown",
   "metadata": {},
   "source": [
    "<a id=\"index\"></a>\n",
    "## Creating an index file for the dummy atoms in the morphed structure\n",
    "\n",
    "Some of the **mutations** done to the protein residues involve the generation of **dummy atoms**, atoms that are **slowly appearing** during the **transition** from the WT to the mutated structure. These **dummy atoms** need to be energy minimized before starting the **thermodynamic integration** step. If there are **no dummy atoms** in the corresponding state, this **energy minimization step can be omitted**.\n",
    "\n",
    "In this particular example, the **WT to mutated protein transition** (Isoleucine to Alanine) is not generating any **dummy atoms**, so it does not need any minimization step. Conversely, the **mutated to WT transition** (Alanine to Isoleucine) is generating 9 **dummy atoms**, so the minimization step is needed for the **reverse transition** (stateB).\n",
    "\n",
    "The **GROMACS** index file is built to **identify the dummy atoms** in the following **energy minimization** step, generating a new **FREEZE group** containing all atoms of the system except the **dummy atoms**. In the minimization process, this group will be **kept frozen**, whereas the **dummy atoms** will be left able to move. \n",
    "***\n",
    "**Building Blocks** used:\n",
    " - [MakeNdx](https://biobb-md.readthedocs.io/en/latest/gromacs.html#module-gromacs.make_ndx) from **biobb_md.gromacs.make_ndx**\n",
    "***"
   ]
  },
  {
   "cell_type": "code",
   "execution_count": 7,
   "metadata": {},
   "outputs": [
    {
     "name": "stderr",
     "output_type": "stream",
     "text": [
      "2020-10-13 17:21:20,541 [MainThread  ] [INFO ]  GROMACS MakeNdx 20191 version detected\n",
      "2020-10-13 17:21:20,542 [MainThread  ] [INFO ]  Not using any container\n",
      "2020-10-13 17:21:21,268 [MainThread  ] [INFO ]  echo -e 'a D*\n",
      "0 & ! 19\n",
      "name 20 FREEZE\\nq' | gmx -nobackup -nocopyright make_ndx -f pdb2gmxB.gro -o indexB.ndx\n",
      "\n",
      "2020-10-13 17:21:21,270 [MainThread  ] [INFO ]  Exit code 0\n",
      "\n",
      "2020-10-13 17:21:21,271 [MainThread  ] [INFO ]  Going to read 0 old index file(s)\n",
      "Analysing residue names:\n",
      "There are:   135    Protein residues\n",
      "There are:    75      Other residues\n",
      "There are: 10949      Water residues\n",
      "Analysing Protein...\n",
      "Analysing residues not classified as Protein/DNA/RNA/Water and splitting into groups...\n",
      "\n",
      "  0 System              : 35147 atoms\n",
      "  1 Protein             :  2207 atoms\n",
      "  2 Protein-H           :  1084 atoms\n",
      "  3 C-alpha             :   135 atoms\n",
      "  4 Backbone            :   405 atoms\n",
      "  5 MainChain           :   541 atoms\n",
      "  6 MainChain+Cb        :   667 atoms\n",
      "  7 MainChain+H         :   672 atoms\n",
      "  8 SideChain           :  1535 atoms\n",
      "  9 SideChain-H         :   543 atoms\n",
      " 10 Prot-Masses         :  2207 atoms\n",
      " 11 non-Protein         : 32940 atoms\n",
      " 12 Other               :    93 atoms\n",
      " 13 A2I                 :    19 atoms\n",
      " 14 NaJ                 :    32 atoms\n",
      " 15 ClJ                 :    42 atoms\n",
      " 16 Water               : 32847 atoms\n",
      " 17 SOL                 : 32847 atoms\n",
      " 18 non-Water           :  2300 atoms\n",
      "\n",
      " nr : group      '!': not  'name' nr name   'splitch' nr    Enter: list groups\n",
      " 'a': atom       '&': and  'del' nr         'splitres' nr   'l': list residues\n",
      " 't': atom type  '|': or   'keep' nr        'splitat' nr    'h': help\n",
      " 'r': residue              'res' nr         'chain' char\n",
      " \"name\": group             'case': case sensitive           'q': save and quit\n",
      " 'ri': residue index\n",
      "\n",
      "> \n",
      "Found 9 atoms with name D*\n",
      "\n",
      " 19 D*                  :     9 atoms\n",
      "\n",
      "> \n",
      "Copied index group 0 'System'\n",
      "Copied index group 19 'D*'\n",
      "Complemented group: 35138 atoms\n",
      "Merged two groups with AND: 35147 35138 -> 35138\n",
      "\n",
      " 20 System_&_!D*        : 35138 atoms\n",
      "\n",
      "> \n",
      "\n",
      "> \n",
      "\n",
      "2020-10-13 17:21:21,272 [MainThread  ] [INFO ]                       :-) GROMACS - gmx make_ndx, 2019.1 (-:\n",
      "\n",
      "Executable:   /anaconda3/envs/biobb/bin/gmx\n",
      "Data prefix:  /anaconda3/envs/biobb\n",
      "Working dir:  /Users/pau/projects/biobb_wf_pmx_tutorial/biobb_wf_pmx_tutorial/notebooks\n",
      "Command line:\n",
      "  gmx -nobackup -nocopyright make_ndx -f pdb2gmxB.gro -o indexB.ndx\n",
      "\n",
      "\n",
      "Reading structure file\n",
      "\n",
      "GROMACS reminds you: \"My greatest contribution to the field of science is that I never entered it.\" (Colin Powell)\n",
      "\n",
      "\n",
      "2020-10-13 17:21:21,273 [MainThread  ] [INFO ]  Removed: []\n"
     ]
    },
    {
     "data": {
      "text/plain": [
       "0"
      ]
     },
     "execution_count": 7,
     "metadata": {},
     "output_type": "execute_result"
    }
   ],
   "source": [
    "# Gromacs make_ndx: GROMACS Make index command from biobb_md package\n",
    "# IMPORTANT: Only needed for stateB\n",
    "\n",
    "# Import module\n",
    "from biobb_md.gromacs.make_ndx import MakeNdx\n",
    "\n",
    "# Create prop dict and inputs/outputs\n",
    "output_ndx = 'indexB.ndx'\n",
    "  \n",
    "prop = {\n",
    "    'selection' : 'a D*\\n0 & ! 19\\nname 20 FREEZE'\n",
    "}\n",
    "\n",
    "# Create and launch bb\n",
    "MakeNdx(input_structure_path=output_pdb2gmxB_gro,\n",
    "        output_ndx_path=output_ndx,\n",
    "        properties=prop).launch()"
   ]
  },
  {
   "cell_type": "markdown",
   "metadata": {},
   "source": [
    "<a id=\"min\"></a>\n",
    "***\n",
    "## Energetically minimize the system\n",
    "Energetically minimize the **mutated protein** till reaching a desired potential energy.\n",
    "- [Step 1](#emStep1): Creating portable binary run file for energy minimization\n",
    "- [Step 2](#emStep2): Energetically minimize the **dummy atoms** till reaching a force of 100 kJ mol-1 nm-1.\n",
    "- [Step 3](#emStep3): Checking **energy minimization** results. Plotting energy by time during the **minimization** process.\n",
    "***\n",
    "**Building Blocks** used:\n",
    " - [Grompp](https://biobb-md.readthedocs.io/en/latest/gromacs.html#module-gromacs.grompp) from **biobb_md.gromacs.grompp** \n",
    " - [Mdrun](https://biobb-md.readthedocs.io/en/latest/gromacs.html#module-gromacs.mdrun) from **biobb_md.gromacs.mdrun** \n",
    " - [GMXEnergy](https://biobb-analysis.readthedocs.io/en/latest/gromacs.html#module-gromacs.gmx_energy) from **biobb_analysis.gromacs.gmx_energy** \n",
    "***"
   ]
  },
  {
   "cell_type": "markdown",
   "metadata": {},
   "source": [
    "<a id=\"emStep1\"></a>\n",
    "### Step 1: Creating portable binary run file for energy minimization\n",
    "\n",
    "Method used to run the **energy minimization** is a **steepest descent**, with a **maximum force of 100 KJ/mol\\*nm^2**, and a minimization **step size of 1fs**. The **maximum number of steps** to perform if the maximum force is not reached is **10,000 steps**. The previously generated **FREEZE** group is used to keep the system frozen except for the **dummy atoms**.\n",
    "\n",
    "Please note that as previously described, for the stateA (forward transition, Isoleucine to Alanine mutation), as there are no dummies, **the energy minimization is omitted** and **the energy minimization step is skipped**. "
   ]
  },
  {
   "cell_type": "code",
   "execution_count": 8,
   "metadata": {
    "scrolled": true
   },
   "outputs": [
    {
     "name": "stderr",
     "output_type": "stream",
     "text": [
      "2020-10-13 17:21:24,478 [MainThread  ] [INFO ]  GROMACS Grompp 20191 version detected\n",
      "2020-10-13 17:21:24,486 [MainThread  ] [INFO ]  Extracting: /Users/pau/projects/biobb_wf_pmx_tutorial/biobb_wf_pmx_tutorial/notebooks/pmxB_top.zip\n",
      "2020-10-13 17:21:24,486 [MainThread  ] [INFO ]  to:\n",
      "2020-10-13 17:21:24,487 [MainThread  ] [INFO ]  ['6c9ee5c0-2750-4a67-a33a-fd8adaa86279/p2g.top', '6c9ee5c0-2750-4a67-a33a-fd8adaa86279/pmx_p2g_Ion_chain_C.itp', '6c9ee5c0-2750-4a67-a33a-fd8adaa86279/pmx_p2g_Protein_chain_A.itp', '6c9ee5c0-2750-4a67-a33a-fd8adaa86279/posre_Ion_chain_C.itp', '6c9ee5c0-2750-4a67-a33a-fd8adaa86279/posre_Protein_chain_A.itp']\n",
      "2020-10-13 17:21:24,488 [MainThread  ] [INFO ]  Unzipping: \n",
      "2020-10-13 17:21:24,489 [MainThread  ] [INFO ]  pmxB_top.zip\n",
      "2020-10-13 17:21:24,490 [MainThread  ] [INFO ]  To: \n",
      "2020-10-13 17:21:24,491 [MainThread  ] [INFO ]  6c9ee5c0-2750-4a67-a33a-fd8adaa86279/p2g.top\n",
      "2020-10-13 17:21:24,492 [MainThread  ] [INFO ]  6c9ee5c0-2750-4a67-a33a-fd8adaa86279/pmx_p2g_Ion_chain_C.itp\n",
      "2020-10-13 17:21:24,492 [MainThread  ] [INFO ]  6c9ee5c0-2750-4a67-a33a-fd8adaa86279/pmx_p2g_Protein_chain_A.itp\n",
      "2020-10-13 17:21:24,493 [MainThread  ] [INFO ]  6c9ee5c0-2750-4a67-a33a-fd8adaa86279/posre_Ion_chain_C.itp\n",
      "2020-10-13 17:21:24,494 [MainThread  ] [INFO ]  6c9ee5c0-2750-4a67-a33a-fd8adaa86279/posre_Protein_chain_A.itp\n",
      "2020-10-13 17:21:24,496 [MainThread  ] [INFO ]  Will run a minimization md of 10000 steps\n",
      "2020-10-13 17:21:24,497 [MainThread  ] [INFO ]  Not using any container\n",
      "2020-10-13 17:21:24,840 [MainThread  ] [INFO ]  gmx -nobackup -nocopyright grompp -f 4b3bd351-6f1a-4887-ad8f-1a9b915f585a/grompp.mdp -c pdb2gmxB.gro -r pdb2gmxB.gro -p 6c9ee5c0-2750-4a67-a33a-fd8adaa86279/p2g.top -o em.tpr -po mdout.mdp -maxwarn 10 -n indexB.ndx\n",
      "\n",
      "2020-10-13 17:21:24,841 [MainThread  ] [INFO ]  Exit code 0\n",
      "\n",
      "2020-10-13 17:21:24,842 [MainThread  ] [INFO ]  Calculating fourier grid dimensions for X Y Z\n",
      "Using a fourier grid of 72x72x72, spacing 0.110 0.110 0.110\n",
      "This run will generate roughly 3 Mb of data\n",
      "\n",
      "2020-10-13 17:21:24,843 [MainThread  ] [INFO ]                        :-) GROMACS - gmx grompp, 2019.1 (-:\n",
      "\n",
      "Executable:   /anaconda3/envs/biobb/bin/gmx\n",
      "Data prefix:  /anaconda3/envs/biobb\n",
      "Working dir:  /Users/pau/projects/biobb_wf_pmx_tutorial/biobb_wf_pmx_tutorial/notebooks\n",
      "Command line:\n",
      "  gmx -nobackup -nocopyright grompp -f 4b3bd351-6f1a-4887-ad8f-1a9b915f585a/grompp.mdp -c pdb2gmxB.gro -r pdb2gmxB.gro -p 6c9ee5c0-2750-4a67-a33a-fd8adaa86279/p2g.top -o em.tpr -po mdout.mdp -maxwarn 10 -n indexB.ndx\n",
      "\n",
      "Setting the LD random seed to -32042182\n",
      "Generated 5253 of the 5253 non-bonded parameter combinations\n",
      "Generating 1-4 interactions: fudge = 0.5\n",
      "Generated 5253 of the 5253 1-4 parameter combinations\n",
      "Excluding 3 bonded neighbours molecule type 'Protein_chain_A'\n",
      "Excluding 3 bonded neighbours molecule type 'Ion_chain_C'\n",
      "Excluding 2 bonded neighbours molecule type 'SOL'\n",
      "Excluding 2 bonded neighbours molecule type 'SOL'\n",
      "Removing all charge groups because cutoff-scheme=Verlet\n",
      "Number of degrees of freedom in T-Coupling group rest is 24.00\n",
      "Estimate for the relative computational load of the PME mesh part: 0.19\n",
      "\n",
      "GROMACS reminds you: \"Sisters Have Always Fascinated Me\" (Speech)\n",
      "\n",
      "\n",
      "2020-10-13 17:21:24,846 [MainThread  ] [INFO ]  Removed: ['mdout.mdp', '6c9ee5c0-2750-4a67-a33a-fd8adaa86279', '4b3bd351-6f1a-4887-ad8f-1a9b915f585a']\n"
     ]
    },
    {
     "data": {
      "text/plain": [
       "0"
      ]
     },
     "execution_count": 8,
     "metadata": {},
     "output_type": "execute_result"
    }
   ],
   "source": [
    "# Grompp: Creating portable binary run file for dummy atoms energy minimization\n",
    "from biobb_md.gromacs.grompp import Grompp\n",
    "\n",
    "#### State B (Mut->WT) ####\n",
    "\n",
    "# Create prop dict and inputs/outputs\n",
    "output_tpr_min = 'em.tpr'\n",
    "\n",
    "prop = {\n",
    "    'gmxlib' : gmxlib,\n",
    "    'mdp':{\n",
    "        'type': 'minimization',\n",
    "        'integrator' : 'steep',\n",
    "        'emtol': '100',\n",
    "        'dt': '0.001',\n",
    "        'nsteps':'10000',\n",
    "        'nstcomm': '1',\n",
    "        'nstcalcenergy': '1',\n",
    "        'freezegrps' : 'FREEZE',\n",
    "        'freezedim' : \"Y Y Y\"\n",
    "    }\n",
    "}\n",
    "\n",
    "# Create and launch bb\n",
    "Grompp(input_gro_path=output_pdb2gmxB_gro,\n",
    "       input_top_zip_path=output_pmxtopB_top_zip,\n",
    "       input_ndx_path=output_ndx,\n",
    "       output_tpr_path=output_tpr_min,\n",
    "       properties=prop).launch()"
   ]
  },
  {
   "cell_type": "markdown",
   "metadata": {},
   "source": [
    "<a id=\"emStep2\"></a>\n",
    "### Step 2: Running Energy Minimization\n",
    "Running **energy minimization** using the **tpr file** generated in the previous step."
   ]
  },
  {
   "cell_type": "code",
   "execution_count": 9,
   "metadata": {},
   "outputs": [
    {
     "name": "stderr",
     "output_type": "stream",
     "text": [
      "2020-10-13 17:21:32,133 [MainThread  ] [INFO ]  GROMACS Mdrun 20191 version detected\n",
      "2020-10-13 17:21:32,134 [MainThread  ] [INFO ]  Not using any container\n",
      "2020-10-13 17:21:35,103 [MainThread  ] [INFO ]  gmx -nobackup -nocopyright mdrun -s em.tpr -o emout.trr -c emout.gro -e emout.edr -g emout.log -nt 0\n",
      "\n",
      "2020-10-13 17:21:35,105 [MainThread  ] [INFO ]  Exit code 0\n",
      "\n",
      "2020-10-13 17:21:35,106 [MainThread  ] [INFO ]                        :-) GROMACS - gmx mdrun, 2019.1 (-:\n",
      "\n",
      "Executable:   /anaconda3/envs/biobb/bin/gmx\n",
      "Data prefix:  /anaconda3/envs/biobb\n",
      "Working dir:  /Users/pau/projects/biobb_wf_pmx_tutorial/biobb_wf_pmx_tutorial/notebooks\n",
      "Command line:\n",
      "  gmx -nobackup -nocopyright mdrun -s em.tpr -o emout.trr -c emout.gro -e emout.edr -g emout.log -nt 0\n",
      "\n",
      "\n",
      "WARNING: While sanity checking device #1, clBuildProgram did not succeed -11: CL_BUILD_PROGRAM_FAILURE\n",
      "\n",
      "Compiled SIMD: SSE2, but for this host/run AVX2_256 might be better (see log).\n",
      "The current CPU can measure timings more accurately than the code in\n",
      "gmx mdrun was configured to use. This might affect your simulation\n",
      "speed as accurate timings are needed for load-balancing.\n",
      "Please consider rebuilding gmx mdrun with the GMX_USE_RDTSCP=ON CMake option.\n",
      "Reading file em.tpr, VERSION 2019.1 (single precision)\n",
      "\n",
      "Using 1 MPI thread\n",
      "Using 8 OpenMP threads \n",
      "\n",
      "\n",
      "Steepest Descents:\n",
      "   Tolerance (Fmax)   =  1.00000e+02\n",
      "   Number of steps    =        10000\n",
      "\n",
      "Energy minimization has stopped, but the forces have not converged to the\n",
      "requested precision Fmax < 100 (which may not be possible for your system).\n",
      "It stopped because the algorithm tried to make a new step whose size was too\n",
      "small, or there was no change in the energy since last step. Either way, we\n",
      "regard the minimization as converged to within the available machine\n",
      "precision, given your starting configuration and EM parameters.\n",
      "\n",
      "Double precision normally gives you higher accuracy, but this is often not\n",
      "needed for preparing to run molecular dynamics.\n",
      "You might need to increase your constraint accuracy, or turn\n",
      "off constraints altogether (set constraints = none in mdp file)\n",
      "\n",
      "writing lowest energy coordinates.\n",
      "\n",
      "Steepest Descents converged to machine precision in 53 steps,\n",
      "but did not reach the requested Fmax < 100.\n",
      "Potential Energy  = -5.2573931e+05\n",
      "Maximum force     =  2.3964253e+02 on atom 173\n",
      "Norm of force     =  2.1982869e+00\n",
      "\n",
      "GROMACS reminds you: \"'Nay. We are but men.' Rock!\" (Tenacious D)\n",
      "\n",
      "\n",
      "2020-10-13 17:21:35,108 [MainThread  ] [INFO ]  Removed: []\n"
     ]
    },
    {
     "data": {
      "text/plain": [
       "0"
      ]
     },
     "execution_count": 9,
     "metadata": {},
     "output_type": "execute_result"
    }
   ],
   "source": [
    "# Mdrun: Running minimization\n",
    "from biobb_md.gromacs.mdrun import Mdrun\n",
    "\n",
    "# Create prop dict and inputs/outputs\n",
    "output_min_trr = 'emout.trr'\n",
    "output_min_gro = 'emout.gro'\n",
    "output_min_edr = 'emout.edr'\n",
    "output_min_log = 'emout.log'\n",
    "\n",
    "# Create and launch bb\n",
    "Mdrun(input_tpr_path=output_tpr_min,\n",
    "      output_trr_path=output_min_trr,\n",
    "      output_gro_path=output_min_gro,\n",
    "      output_edr_path=output_min_edr,\n",
    "      output_log_path=output_min_log).launch()"
   ]
  },
  {
   "cell_type": "markdown",
   "metadata": {},
   "source": [
    "<a id=\"emStep3\"></a>\n",
    "### Step 3: Checking Energy Minimization results\n",
    "Checking **energy minimization** results. Plotting **potential energy** by time during the minimization process. "
   ]
  },
  {
   "cell_type": "code",
   "execution_count": 10,
   "metadata": {},
   "outputs": [
    {
     "name": "stderr",
     "output_type": "stream",
     "text": [
      "2020-10-13 17:21:36,383 [MainThread  ] [INFO ]  Not using any container\n",
      "2020-10-13 17:21:36,413 [MainThread  ] [INFO ]  gmx energy -f /Users/pau/projects/biobb_wf_pmx_tutorial/biobb_wf_pmx_tutorial/notebooks/emout.edr -o min_ene.xvg -xvg none < aef77813-0227-4345-895d-433e625699d0/instructions.in\n",
      "\n",
      "2020-10-13 17:21:36,414 [MainThread  ] [INFO ]  Exit code 0\n",
      "\n",
      "2020-10-13 17:21:36,415 [MainThread  ] [INFO ]  \n",
      "Statistics over 42 steps [ 0.0000 through 41.0000 ps ], 1 data sets\n",
      "All statistics are over 31 points (frames)\n",
      "\n",
      "Energy                      Average   Err.Est.       RMSD  Tot-Drift\n",
      "-------------------------------------------------------------------------------\n",
      "Potential                   -525653         73    225.442   -414.764  (kJ/mol)\n",
      "\n",
      "2020-10-13 17:21:36,416 [MainThread  ] [INFO ]                        :-) GROMACS - gmx energy, 2019.1 (-:\n",
      "\n",
      "                            GROMACS is written by:\n",
      "     Emile Apol      Rossen Apostolov      Paul Bauer     Herman J.C. Berendsen\n",
      "    Par Bjelkmar      Christian Blau   Viacheslav Bolnykh     Kevin Boyd    \n",
      " Aldert van Buuren   Rudi van Drunen     Anton Feenstra       Alan Gray     \n",
      "  Gerrit Groenhof     Anca Hamuraru    Vincent Hindriksen  M. Eric Irrgang  \n",
      "  Aleksei Iupinov   Christoph Junghans     Joe Jordan     Dimitrios Karkoulis\n",
      "    Peter Kasson        Jiri Kraus      Carsten Kutzner      Per Larsson    \n",
      "  Justin A. Lemkul    Viveca Lindahl    Magnus Lundborg     Erik Marklund   \n",
      "    Pascal Merz     Pieter Meulenhoff    Teemu Murtola       Szilard Pall   \n",
      "    Sander Pronk      Roland Schulz      Michael Shirts    Alexey Shvetsov  \n",
      "   Alfons Sijbers     Peter Tieleman      Jon Vincent      Teemu Virolainen \n",
      " Christian Wennberg    Maarten Wolf   \n",
      "                           and the project leaders:\n",
      "        Mark Abraham, Berk Hess, Erik Lindahl, and David van der Spoel\n",
      "\n",
      "Copyright (c) 1991-2000, University of Groningen, The Netherlands.\n",
      "Copyright (c) 2001-2018, The GROMACS development team at\n",
      "Uppsala University, Stockholm University and\n",
      "the Royal Institute of Technology, Sweden.\n",
      "check out http://www.gromacs.org for more information.\n",
      "\n",
      "GROMACS is free software; you can redistribute it and/or modify it\n",
      "under the terms of the GNU Lesser General Public License\n",
      "as published by the Free Software Foundation; either version 2.1\n",
      "of the License, or (at your option) any later version.\n",
      "\n",
      "GROMACS:      gmx energy, version 2019.1\n",
      "Executable:   /anaconda3/envs/biobb/bin/gmx\n",
      "Data prefix:  /anaconda3/envs/biobb\n",
      "Working dir:  /Users/pau/projects/biobb_wf_pmx_tutorial/biobb_wf_pmx_tutorial/notebooks\n",
      "Command line:\n",
      "  gmx energy -f /Users/pau/projects/biobb_wf_pmx_tutorial/biobb_wf_pmx_tutorial/notebooks/emout.edr -o min_ene.xvg -xvg none\n",
      "\n",
      "Opened /Users/pau/projects/biobb_wf_pmx_tutorial/biobb_wf_pmx_tutorial/notebooks/emout.edr as single precision energy file\n",
      "\n",
      "Select the terms you want from the following list by\n",
      "selecting either (part of) the name or the number or a combination.\n",
      "End your selection with an empty line or a zero.\n",
      "-------------------------------------------------------------------\n",
      "  1  Bond             2  Angle            3  Proper-Dih.      4  Improper-Dih. \n",
      "  5  LJ-14            6  Coulomb-14       7  LJ-(SR)          8  Coulomb-(SR)  \n",
      "  9  Coul.-recip.    10  Position-Rest.  11  Potential       12  Pressure      \n",
      " 13  Vir-XX          14  Vir-XY          15  Vir-XZ          16  Vir-YX        \n",
      " 17  Vir-YY          18  Vir-YZ          19  Vir-ZX          20  Vir-ZY        \n",
      " 21  Vir-ZZ          22  Pres-XX         23  Pres-XY         24  Pres-XZ       \n",
      " 25  Pres-YX         26  Pres-YY         27  Pres-YZ         28  Pres-ZX       \n",
      " 29  Pres-ZY         30  Pres-ZZ         31  #Surf*SurfTen   32  T-rest        \n",
      "\n",
      "\n",
      "Back Off! I just backed up min_ene.xvg to ./#min_ene.xvg.6#\n",
      "Last energy frame read 30 time   41.000           \n",
      "\n",
      "GROMACS reminds you: \"An expert is a person who has made all the mistakes that can be made in a very narrow field.\" (Niels Bohr)\n",
      "\n",
      "\n",
      "2020-10-13 17:21:36,418 [MainThread  ] [INFO ]  Removed: [PurePosixPath('aef77813-0227-4345-895d-433e625699d0')]\n"
     ]
    },
    {
     "data": {
      "text/plain": [
       "0"
      ]
     },
     "execution_count": 10,
     "metadata": {},
     "output_type": "execute_result"
    }
   ],
   "source": [
    "# GMXEnergy: Getting system energy by time  \n",
    "from biobb_analysis.gromacs.gmx_energy import GMXEnergy\n",
    "\n",
    "# Create prop dict and inputs/outputs\n",
    "output_min_ene_xvg = 'min_ene.xvg'\n",
    "prop = {\n",
    "    'terms':  [\"Potential\"]\n",
    "}\n",
    "\n",
    "# Create and launch bb\n",
    "GMXEnergy(input_energy_path=output_min_edr, \n",
    "          output_xvg_path=output_min_ene_xvg, \n",
    "          properties=prop).launch()"
   ]
  },
  {
   "cell_type": "code",
   "execution_count": 11,
   "metadata": {},
   "outputs": [
    {
     "data": {
      "text/html": [
       "        <script type=\"text/javascript\">\n",
       "        window.PlotlyConfig = {MathJaxConfig: 'local'};\n",
       "        if (window.MathJax) {MathJax.Hub.Config({SVG: {font: \"STIX-Web\"}});}\n",
       "        if (typeof require !== 'undefined') {\n",
       "        require.undef(\"plotly\");\n",
       "        requirejs.config({\n",
       "            paths: {\n",
       "                'plotly': ['https://cdn.plot.ly/plotly-latest.min']\n",
       "            }\n",
       "        });\n",
       "        require(['plotly'], function(Plotly) {\n",
       "            window._Plotly = Plotly;\n",
       "        });\n",
       "        }\n",
       "        </script>\n",
       "        "
      ]
     },
     "metadata": {},
     "output_type": "display_data"
    },
    {
     "data": {
      "application/vnd.plotly.v1+json": {
       "config": {
        "linkText": "Export to plot.ly",
        "plotlyServerURL": "https://plot.ly",
        "showLink": false
       },
       "data": [
        {
         "type": "scatter",
         "x": [
          0,
          1,
          2,
          3,
          4,
          5,
          7,
          10,
          12,
          13,
          14,
          16,
          17,
          19,
          20,
          21,
          22,
          24,
          25,
          27,
          28,
          30,
          31,
          33,
          34,
          35,
          36,
          38,
          39,
          40,
          41
         ],
         "y": [
          -524711.6875,
          -525036.9375,
          -525302.75,
          -525508,
          -525656.375,
          -525670.4375,
          -525717.9375,
          -525725.25,
          -525727.6875,
          -525728.3125,
          -525730.125,
          -525731.4375,
          -525732.0625,
          -525733.25,
          -525734.125,
          -525734.25,
          -525735.1875,
          -525735.8125,
          -525736.0625,
          -525736.625,
          -525736.875,
          -525737.3125,
          -525737.5,
          -525737.625,
          -525737.9375,
          -525738.1875,
          -525738.375,
          -525738.625,
          -525738.8125,
          -525739.0625,
          -525739.3125
         ]
        }
       ],
       "layout": {
        "template": {
         "data": {
          "bar": [
           {
            "error_x": {
             "color": "#2a3f5f"
            },
            "error_y": {
             "color": "#2a3f5f"
            },
            "marker": {
             "line": {
              "color": "#E5ECF6",
              "width": 0.5
             }
            },
            "type": "bar"
           }
          ],
          "barpolar": [
           {
            "marker": {
             "line": {
              "color": "#E5ECF6",
              "width": 0.5
             }
            },
            "type": "barpolar"
           }
          ],
          "carpet": [
           {
            "aaxis": {
             "endlinecolor": "#2a3f5f",
             "gridcolor": "white",
             "linecolor": "white",
             "minorgridcolor": "white",
             "startlinecolor": "#2a3f5f"
            },
            "baxis": {
             "endlinecolor": "#2a3f5f",
             "gridcolor": "white",
             "linecolor": "white",
             "minorgridcolor": "white",
             "startlinecolor": "#2a3f5f"
            },
            "type": "carpet"
           }
          ],
          "choropleth": [
           {
            "colorbar": {
             "outlinewidth": 0,
             "ticks": ""
            },
            "type": "choropleth"
           }
          ],
          "contour": [
           {
            "colorbar": {
             "outlinewidth": 0,
             "ticks": ""
            },
            "colorscale": [
             [
              0,
              "#0d0887"
             ],
             [
              0.1111111111111111,
              "#46039f"
             ],
             [
              0.2222222222222222,
              "#7201a8"
             ],
             [
              0.3333333333333333,
              "#9c179e"
             ],
             [
              0.4444444444444444,
              "#bd3786"
             ],
             [
              0.5555555555555556,
              "#d8576b"
             ],
             [
              0.6666666666666666,
              "#ed7953"
             ],
             [
              0.7777777777777778,
              "#fb9f3a"
             ],
             [
              0.8888888888888888,
              "#fdca26"
             ],
             [
              1,
              "#f0f921"
             ]
            ],
            "type": "contour"
           }
          ],
          "contourcarpet": [
           {
            "colorbar": {
             "outlinewidth": 0,
             "ticks": ""
            },
            "type": "contourcarpet"
           }
          ],
          "heatmap": [
           {
            "colorbar": {
             "outlinewidth": 0,
             "ticks": ""
            },
            "colorscale": [
             [
              0,
              "#0d0887"
             ],
             [
              0.1111111111111111,
              "#46039f"
             ],
             [
              0.2222222222222222,
              "#7201a8"
             ],
             [
              0.3333333333333333,
              "#9c179e"
             ],
             [
              0.4444444444444444,
              "#bd3786"
             ],
             [
              0.5555555555555556,
              "#d8576b"
             ],
             [
              0.6666666666666666,
              "#ed7953"
             ],
             [
              0.7777777777777778,
              "#fb9f3a"
             ],
             [
              0.8888888888888888,
              "#fdca26"
             ],
             [
              1,
              "#f0f921"
             ]
            ],
            "type": "heatmap"
           }
          ],
          "heatmapgl": [
           {
            "colorbar": {
             "outlinewidth": 0,
             "ticks": ""
            },
            "colorscale": [
             [
              0,
              "#0d0887"
             ],
             [
              0.1111111111111111,
              "#46039f"
             ],
             [
              0.2222222222222222,
              "#7201a8"
             ],
             [
              0.3333333333333333,
              "#9c179e"
             ],
             [
              0.4444444444444444,
              "#bd3786"
             ],
             [
              0.5555555555555556,
              "#d8576b"
             ],
             [
              0.6666666666666666,
              "#ed7953"
             ],
             [
              0.7777777777777778,
              "#fb9f3a"
             ],
             [
              0.8888888888888888,
              "#fdca26"
             ],
             [
              1,
              "#f0f921"
             ]
            ],
            "type": "heatmapgl"
           }
          ],
          "histogram": [
           {
            "marker": {
             "colorbar": {
              "outlinewidth": 0,
              "ticks": ""
             }
            },
            "type": "histogram"
           }
          ],
          "histogram2d": [
           {
            "colorbar": {
             "outlinewidth": 0,
             "ticks": ""
            },
            "colorscale": [
             [
              0,
              "#0d0887"
             ],
             [
              0.1111111111111111,
              "#46039f"
             ],
             [
              0.2222222222222222,
              "#7201a8"
             ],
             [
              0.3333333333333333,
              "#9c179e"
             ],
             [
              0.4444444444444444,
              "#bd3786"
             ],
             [
              0.5555555555555556,
              "#d8576b"
             ],
             [
              0.6666666666666666,
              "#ed7953"
             ],
             [
              0.7777777777777778,
              "#fb9f3a"
             ],
             [
              0.8888888888888888,
              "#fdca26"
             ],
             [
              1,
              "#f0f921"
             ]
            ],
            "type": "histogram2d"
           }
          ],
          "histogram2dcontour": [
           {
            "colorbar": {
             "outlinewidth": 0,
             "ticks": ""
            },
            "colorscale": [
             [
              0,
              "#0d0887"
             ],
             [
              0.1111111111111111,
              "#46039f"
             ],
             [
              0.2222222222222222,
              "#7201a8"
             ],
             [
              0.3333333333333333,
              "#9c179e"
             ],
             [
              0.4444444444444444,
              "#bd3786"
             ],
             [
              0.5555555555555556,
              "#d8576b"
             ],
             [
              0.6666666666666666,
              "#ed7953"
             ],
             [
              0.7777777777777778,
              "#fb9f3a"
             ],
             [
              0.8888888888888888,
              "#fdca26"
             ],
             [
              1,
              "#f0f921"
             ]
            ],
            "type": "histogram2dcontour"
           }
          ],
          "mesh3d": [
           {
            "colorbar": {
             "outlinewidth": 0,
             "ticks": ""
            },
            "type": "mesh3d"
           }
          ],
          "parcoords": [
           {
            "line": {
             "colorbar": {
              "outlinewidth": 0,
              "ticks": ""
             }
            },
            "type": "parcoords"
           }
          ],
          "pie": [
           {
            "automargin": true,
            "type": "pie"
           }
          ],
          "scatter": [
           {
            "marker": {
             "colorbar": {
              "outlinewidth": 0,
              "ticks": ""
             }
            },
            "type": "scatter"
           }
          ],
          "scatter3d": [
           {
            "line": {
             "colorbar": {
              "outlinewidth": 0,
              "ticks": ""
             }
            },
            "marker": {
             "colorbar": {
              "outlinewidth": 0,
              "ticks": ""
             }
            },
            "type": "scatter3d"
           }
          ],
          "scattercarpet": [
           {
            "marker": {
             "colorbar": {
              "outlinewidth": 0,
              "ticks": ""
             }
            },
            "type": "scattercarpet"
           }
          ],
          "scattergeo": [
           {
            "marker": {
             "colorbar": {
              "outlinewidth": 0,
              "ticks": ""
             }
            },
            "type": "scattergeo"
           }
          ],
          "scattergl": [
           {
            "marker": {
             "colorbar": {
              "outlinewidth": 0,
              "ticks": ""
             }
            },
            "type": "scattergl"
           }
          ],
          "scattermapbox": [
           {
            "marker": {
             "colorbar": {
              "outlinewidth": 0,
              "ticks": ""
             }
            },
            "type": "scattermapbox"
           }
          ],
          "scatterpolar": [
           {
            "marker": {
             "colorbar": {
              "outlinewidth": 0,
              "ticks": ""
             }
            },
            "type": "scatterpolar"
           }
          ],
          "scatterpolargl": [
           {
            "marker": {
             "colorbar": {
              "outlinewidth": 0,
              "ticks": ""
             }
            },
            "type": "scatterpolargl"
           }
          ],
          "scatterternary": [
           {
            "marker": {
             "colorbar": {
              "outlinewidth": 0,
              "ticks": ""
             }
            },
            "type": "scatterternary"
           }
          ],
          "surface": [
           {
            "colorbar": {
             "outlinewidth": 0,
             "ticks": ""
            },
            "colorscale": [
             [
              0,
              "#0d0887"
             ],
             [
              0.1111111111111111,
              "#46039f"
             ],
             [
              0.2222222222222222,
              "#7201a8"
             ],
             [
              0.3333333333333333,
              "#9c179e"
             ],
             [
              0.4444444444444444,
              "#bd3786"
             ],
             [
              0.5555555555555556,
              "#d8576b"
             ],
             [
              0.6666666666666666,
              "#ed7953"
             ],
             [
              0.7777777777777778,
              "#fb9f3a"
             ],
             [
              0.8888888888888888,
              "#fdca26"
             ],
             [
              1,
              "#f0f921"
             ]
            ],
            "type": "surface"
           }
          ],
          "table": [
           {
            "cells": {
             "fill": {
              "color": "#EBF0F8"
             },
             "line": {
              "color": "white"
             }
            },
            "header": {
             "fill": {
              "color": "#C8D4E3"
             },
             "line": {
              "color": "white"
             }
            },
            "type": "table"
           }
          ]
         },
         "layout": {
          "annotationdefaults": {
           "arrowcolor": "#2a3f5f",
           "arrowhead": 0,
           "arrowwidth": 1
          },
          "coloraxis": {
           "colorbar": {
            "outlinewidth": 0,
            "ticks": ""
           }
          },
          "colorscale": {
           "diverging": [
            [
             0,
             "#8e0152"
            ],
            [
             0.1,
             "#c51b7d"
            ],
            [
             0.2,
             "#de77ae"
            ],
            [
             0.3,
             "#f1b6da"
            ],
            [
             0.4,
             "#fde0ef"
            ],
            [
             0.5,
             "#f7f7f7"
            ],
            [
             0.6,
             "#e6f5d0"
            ],
            [
             0.7,
             "#b8e186"
            ],
            [
             0.8,
             "#7fbc41"
            ],
            [
             0.9,
             "#4d9221"
            ],
            [
             1,
             "#276419"
            ]
           ],
           "sequential": [
            [
             0,
             "#0d0887"
            ],
            [
             0.1111111111111111,
             "#46039f"
            ],
            [
             0.2222222222222222,
             "#7201a8"
            ],
            [
             0.3333333333333333,
             "#9c179e"
            ],
            [
             0.4444444444444444,
             "#bd3786"
            ],
            [
             0.5555555555555556,
             "#d8576b"
            ],
            [
             0.6666666666666666,
             "#ed7953"
            ],
            [
             0.7777777777777778,
             "#fb9f3a"
            ],
            [
             0.8888888888888888,
             "#fdca26"
            ],
            [
             1,
             "#f0f921"
            ]
           ],
           "sequentialminus": [
            [
             0,
             "#0d0887"
            ],
            [
             0.1111111111111111,
             "#46039f"
            ],
            [
             0.2222222222222222,
             "#7201a8"
            ],
            [
             0.3333333333333333,
             "#9c179e"
            ],
            [
             0.4444444444444444,
             "#bd3786"
            ],
            [
             0.5555555555555556,
             "#d8576b"
            ],
            [
             0.6666666666666666,
             "#ed7953"
            ],
            [
             0.7777777777777778,
             "#fb9f3a"
            ],
            [
             0.8888888888888888,
             "#fdca26"
            ],
            [
             1,
             "#f0f921"
            ]
           ]
          },
          "colorway": [
           "#636efa",
           "#EF553B",
           "#00cc96",
           "#ab63fa",
           "#FFA15A",
           "#19d3f3",
           "#FF6692",
           "#B6E880",
           "#FF97FF",
           "#FECB52"
          ],
          "font": {
           "color": "#2a3f5f"
          },
          "geo": {
           "bgcolor": "white",
           "lakecolor": "white",
           "landcolor": "#E5ECF6",
           "showlakes": true,
           "showland": true,
           "subunitcolor": "white"
          },
          "hoverlabel": {
           "align": "left"
          },
          "hovermode": "closest",
          "mapbox": {
           "style": "light"
          },
          "paper_bgcolor": "white",
          "plot_bgcolor": "#E5ECF6",
          "polar": {
           "angularaxis": {
            "gridcolor": "white",
            "linecolor": "white",
            "ticks": ""
           },
           "bgcolor": "#E5ECF6",
           "radialaxis": {
            "gridcolor": "white",
            "linecolor": "white",
            "ticks": ""
           }
          },
          "scene": {
           "xaxis": {
            "backgroundcolor": "#E5ECF6",
            "gridcolor": "white",
            "gridwidth": 2,
            "linecolor": "white",
            "showbackground": true,
            "ticks": "",
            "zerolinecolor": "white"
           },
           "yaxis": {
            "backgroundcolor": "#E5ECF6",
            "gridcolor": "white",
            "gridwidth": 2,
            "linecolor": "white",
            "showbackground": true,
            "ticks": "",
            "zerolinecolor": "white"
           },
           "zaxis": {
            "backgroundcolor": "#E5ECF6",
            "gridcolor": "white",
            "gridwidth": 2,
            "linecolor": "white",
            "showbackground": true,
            "ticks": "",
            "zerolinecolor": "white"
           }
          },
          "shapedefaults": {
           "line": {
            "color": "#2a3f5f"
           }
          },
          "ternary": {
           "aaxis": {
            "gridcolor": "white",
            "linecolor": "white",
            "ticks": ""
           },
           "baxis": {
            "gridcolor": "white",
            "linecolor": "white",
            "ticks": ""
           },
           "bgcolor": "#E5ECF6",
           "caxis": {
            "gridcolor": "white",
            "linecolor": "white",
            "ticks": ""
           }
          },
          "title": {
           "x": 0.05
          },
          "xaxis": {
           "automargin": true,
           "gridcolor": "white",
           "linecolor": "white",
           "ticks": "",
           "title": {
            "standoff": 15
           },
           "zerolinecolor": "white",
           "zerolinewidth": 2
          },
          "yaxis": {
           "automargin": true,
           "gridcolor": "white",
           "linecolor": "white",
           "ticks": "",
           "title": {
            "standoff": 15
           },
           "zerolinecolor": "white",
           "zerolinewidth": 2
          }
         }
        },
        "title": {
         "text": "Energy Minimization"
        },
        "xaxis": {
         "title": {
          "text": "Energy Minimization Step"
         }
        },
        "yaxis": {
         "title": {
          "text": "Potential Energy KJ/mol-1"
         }
        }
       }
      },
      "text/html": [
       "<div>\n",
       "        \n",
       "        \n",
       "            <div id=\"31963cda-d1dd-4661-882d-808c65cbb805\" class=\"plotly-graph-div\" style=\"height:525px; width:100%;\"></div>\n",
       "            <script type=\"text/javascript\">\n",
       "                require([\"plotly\"], function(Plotly) {\n",
       "                    window.PLOTLYENV=window.PLOTLYENV || {};\n",
       "                    \n",
       "                if (document.getElementById(\"31963cda-d1dd-4661-882d-808c65cbb805\")) {\n",
       "                    Plotly.newPlot(\n",
       "                        '31963cda-d1dd-4661-882d-808c65cbb805',\n",
       "                        [{\"type\": \"scatter\", \"x\": [0.0, 1.0, 2.0, 3.0, 4.0, 5.0, 7.0, 10.0, 12.0, 13.0, 14.0, 16.0, 17.0, 19.0, 20.0, 21.0, 22.0, 24.0, 25.0, 27.0, 28.0, 30.0, 31.0, 33.0, 34.0, 35.0, 36.0, 38.0, 39.0, 40.0, 41.0], \"y\": [-524711.6875, -525036.9375, -525302.75, -525508.0, -525656.375, -525670.4375, -525717.9375, -525725.25, -525727.6875, -525728.3125, -525730.125, -525731.4375, -525732.0625, -525733.25, -525734.125, -525734.25, -525735.1875, -525735.8125, -525736.0625, -525736.625, -525736.875, -525737.3125, -525737.5, -525737.625, -525737.9375, -525738.1875, -525738.375, -525738.625, -525738.8125, -525739.0625, -525739.3125]}],\n",
       "                        {\"template\": {\"data\": {\"bar\": [{\"error_x\": {\"color\": \"#2a3f5f\"}, \"error_y\": {\"color\": \"#2a3f5f\"}, \"marker\": {\"line\": {\"color\": \"#E5ECF6\", \"width\": 0.5}}, \"type\": \"bar\"}], \"barpolar\": [{\"marker\": {\"line\": {\"color\": \"#E5ECF6\", \"width\": 0.5}}, \"type\": \"barpolar\"}], \"carpet\": [{\"aaxis\": {\"endlinecolor\": \"#2a3f5f\", \"gridcolor\": \"white\", \"linecolor\": \"white\", \"minorgridcolor\": \"white\", \"startlinecolor\": \"#2a3f5f\"}, \"baxis\": {\"endlinecolor\": \"#2a3f5f\", \"gridcolor\": \"white\", \"linecolor\": \"white\", \"minorgridcolor\": \"white\", \"startlinecolor\": \"#2a3f5f\"}, \"type\": \"carpet\"}], \"choropleth\": [{\"colorbar\": {\"outlinewidth\": 0, \"ticks\": \"\"}, \"type\": \"choropleth\"}], \"contour\": [{\"colorbar\": {\"outlinewidth\": 0, \"ticks\": \"\"}, \"colorscale\": [[0.0, \"#0d0887\"], [0.1111111111111111, \"#46039f\"], [0.2222222222222222, \"#7201a8\"], [0.3333333333333333, \"#9c179e\"], [0.4444444444444444, \"#bd3786\"], [0.5555555555555556, \"#d8576b\"], [0.6666666666666666, \"#ed7953\"], [0.7777777777777778, \"#fb9f3a\"], [0.8888888888888888, \"#fdca26\"], [1.0, \"#f0f921\"]], \"type\": \"contour\"}], \"contourcarpet\": [{\"colorbar\": {\"outlinewidth\": 0, \"ticks\": \"\"}, \"type\": \"contourcarpet\"}], \"heatmap\": [{\"colorbar\": {\"outlinewidth\": 0, \"ticks\": \"\"}, \"colorscale\": [[0.0, \"#0d0887\"], [0.1111111111111111, \"#46039f\"], [0.2222222222222222, \"#7201a8\"], [0.3333333333333333, \"#9c179e\"], [0.4444444444444444, \"#bd3786\"], [0.5555555555555556, \"#d8576b\"], [0.6666666666666666, \"#ed7953\"], [0.7777777777777778, \"#fb9f3a\"], [0.8888888888888888, \"#fdca26\"], [1.0, \"#f0f921\"]], \"type\": \"heatmap\"}], \"heatmapgl\": [{\"colorbar\": {\"outlinewidth\": 0, \"ticks\": \"\"}, \"colorscale\": [[0.0, \"#0d0887\"], [0.1111111111111111, \"#46039f\"], [0.2222222222222222, \"#7201a8\"], [0.3333333333333333, \"#9c179e\"], [0.4444444444444444, \"#bd3786\"], [0.5555555555555556, \"#d8576b\"], [0.6666666666666666, \"#ed7953\"], [0.7777777777777778, \"#fb9f3a\"], [0.8888888888888888, \"#fdca26\"], [1.0, \"#f0f921\"]], \"type\": \"heatmapgl\"}], \"histogram\": [{\"marker\": {\"colorbar\": {\"outlinewidth\": 0, \"ticks\": \"\"}}, \"type\": \"histogram\"}], \"histogram2d\": [{\"colorbar\": {\"outlinewidth\": 0, \"ticks\": \"\"}, \"colorscale\": [[0.0, \"#0d0887\"], [0.1111111111111111, \"#46039f\"], [0.2222222222222222, \"#7201a8\"], [0.3333333333333333, \"#9c179e\"], [0.4444444444444444, \"#bd3786\"], [0.5555555555555556, \"#d8576b\"], [0.6666666666666666, \"#ed7953\"], [0.7777777777777778, \"#fb9f3a\"], [0.8888888888888888, \"#fdca26\"], [1.0, \"#f0f921\"]], \"type\": \"histogram2d\"}], \"histogram2dcontour\": [{\"colorbar\": {\"outlinewidth\": 0, \"ticks\": \"\"}, \"colorscale\": [[0.0, \"#0d0887\"], [0.1111111111111111, \"#46039f\"], [0.2222222222222222, \"#7201a8\"], [0.3333333333333333, \"#9c179e\"], [0.4444444444444444, \"#bd3786\"], [0.5555555555555556, \"#d8576b\"], [0.6666666666666666, \"#ed7953\"], [0.7777777777777778, \"#fb9f3a\"], [0.8888888888888888, \"#fdca26\"], [1.0, \"#f0f921\"]], \"type\": \"histogram2dcontour\"}], \"mesh3d\": [{\"colorbar\": {\"outlinewidth\": 0, \"ticks\": \"\"}, \"type\": \"mesh3d\"}], \"parcoords\": [{\"line\": {\"colorbar\": {\"outlinewidth\": 0, \"ticks\": \"\"}}, \"type\": \"parcoords\"}], \"pie\": [{\"automargin\": true, \"type\": \"pie\"}], \"scatter\": [{\"marker\": {\"colorbar\": {\"outlinewidth\": 0, \"ticks\": \"\"}}, \"type\": \"scatter\"}], \"scatter3d\": [{\"line\": {\"colorbar\": {\"outlinewidth\": 0, \"ticks\": \"\"}}, \"marker\": {\"colorbar\": {\"outlinewidth\": 0, \"ticks\": \"\"}}, \"type\": \"scatter3d\"}], \"scattercarpet\": [{\"marker\": {\"colorbar\": {\"outlinewidth\": 0, \"ticks\": \"\"}}, \"type\": \"scattercarpet\"}], \"scattergeo\": [{\"marker\": {\"colorbar\": {\"outlinewidth\": 0, \"ticks\": \"\"}}, \"type\": \"scattergeo\"}], \"scattergl\": [{\"marker\": {\"colorbar\": {\"outlinewidth\": 0, \"ticks\": \"\"}}, \"type\": \"scattergl\"}], \"scattermapbox\": [{\"marker\": {\"colorbar\": {\"outlinewidth\": 0, \"ticks\": \"\"}}, \"type\": \"scattermapbox\"}], \"scatterpolar\": [{\"marker\": {\"colorbar\": {\"outlinewidth\": 0, \"ticks\": \"\"}}, \"type\": \"scatterpolar\"}], \"scatterpolargl\": [{\"marker\": {\"colorbar\": {\"outlinewidth\": 0, \"ticks\": \"\"}}, \"type\": \"scatterpolargl\"}], \"scatterternary\": [{\"marker\": {\"colorbar\": {\"outlinewidth\": 0, \"ticks\": \"\"}}, \"type\": \"scatterternary\"}], \"surface\": [{\"colorbar\": {\"outlinewidth\": 0, \"ticks\": \"\"}, \"colorscale\": [[0.0, \"#0d0887\"], [0.1111111111111111, \"#46039f\"], [0.2222222222222222, \"#7201a8\"], [0.3333333333333333, \"#9c179e\"], [0.4444444444444444, \"#bd3786\"], [0.5555555555555556, \"#d8576b\"], [0.6666666666666666, \"#ed7953\"], [0.7777777777777778, \"#fb9f3a\"], [0.8888888888888888, \"#fdca26\"], [1.0, \"#f0f921\"]], \"type\": \"surface\"}], \"table\": [{\"cells\": {\"fill\": {\"color\": \"#EBF0F8\"}, \"line\": {\"color\": \"white\"}}, \"header\": {\"fill\": {\"color\": \"#C8D4E3\"}, \"line\": {\"color\": \"white\"}}, \"type\": \"table\"}]}, \"layout\": {\"annotationdefaults\": {\"arrowcolor\": \"#2a3f5f\", \"arrowhead\": 0, \"arrowwidth\": 1}, \"coloraxis\": {\"colorbar\": {\"outlinewidth\": 0, \"ticks\": \"\"}}, \"colorscale\": {\"diverging\": [[0, \"#8e0152\"], [0.1, \"#c51b7d\"], [0.2, \"#de77ae\"], [0.3, \"#f1b6da\"], [0.4, \"#fde0ef\"], [0.5, \"#f7f7f7\"], [0.6, \"#e6f5d0\"], [0.7, \"#b8e186\"], [0.8, \"#7fbc41\"], [0.9, \"#4d9221\"], [1, \"#276419\"]], \"sequential\": [[0.0, \"#0d0887\"], [0.1111111111111111, \"#46039f\"], [0.2222222222222222, \"#7201a8\"], [0.3333333333333333, \"#9c179e\"], [0.4444444444444444, \"#bd3786\"], [0.5555555555555556, \"#d8576b\"], [0.6666666666666666, \"#ed7953\"], [0.7777777777777778, \"#fb9f3a\"], [0.8888888888888888, \"#fdca26\"], [1.0, \"#f0f921\"]], \"sequentialminus\": [[0.0, \"#0d0887\"], [0.1111111111111111, \"#46039f\"], [0.2222222222222222, \"#7201a8\"], [0.3333333333333333, \"#9c179e\"], [0.4444444444444444, \"#bd3786\"], [0.5555555555555556, \"#d8576b\"], [0.6666666666666666, \"#ed7953\"], [0.7777777777777778, \"#fb9f3a\"], [0.8888888888888888, \"#fdca26\"], [1.0, \"#f0f921\"]]}, \"colorway\": [\"#636efa\", \"#EF553B\", \"#00cc96\", \"#ab63fa\", \"#FFA15A\", \"#19d3f3\", \"#FF6692\", \"#B6E880\", \"#FF97FF\", \"#FECB52\"], \"font\": {\"color\": \"#2a3f5f\"}, \"geo\": {\"bgcolor\": \"white\", \"lakecolor\": \"white\", \"landcolor\": \"#E5ECF6\", \"showlakes\": true, \"showland\": true, \"subunitcolor\": \"white\"}, \"hoverlabel\": {\"align\": \"left\"}, \"hovermode\": \"closest\", \"mapbox\": {\"style\": \"light\"}, \"paper_bgcolor\": \"white\", \"plot_bgcolor\": \"#E5ECF6\", \"polar\": {\"angularaxis\": {\"gridcolor\": \"white\", \"linecolor\": \"white\", \"ticks\": \"\"}, \"bgcolor\": \"#E5ECF6\", \"radialaxis\": {\"gridcolor\": \"white\", \"linecolor\": \"white\", \"ticks\": \"\"}}, \"scene\": {\"xaxis\": {\"backgroundcolor\": \"#E5ECF6\", \"gridcolor\": \"white\", \"gridwidth\": 2, \"linecolor\": \"white\", \"showbackground\": true, \"ticks\": \"\", \"zerolinecolor\": \"white\"}, \"yaxis\": {\"backgroundcolor\": \"#E5ECF6\", \"gridcolor\": \"white\", \"gridwidth\": 2, \"linecolor\": \"white\", \"showbackground\": true, \"ticks\": \"\", \"zerolinecolor\": \"white\"}, \"zaxis\": {\"backgroundcolor\": \"#E5ECF6\", \"gridcolor\": \"white\", \"gridwidth\": 2, \"linecolor\": \"white\", \"showbackground\": true, \"ticks\": \"\", \"zerolinecolor\": \"white\"}}, \"shapedefaults\": {\"line\": {\"color\": \"#2a3f5f\"}}, \"ternary\": {\"aaxis\": {\"gridcolor\": \"white\", \"linecolor\": \"white\", \"ticks\": \"\"}, \"baxis\": {\"gridcolor\": \"white\", \"linecolor\": \"white\", \"ticks\": \"\"}, \"bgcolor\": \"#E5ECF6\", \"caxis\": {\"gridcolor\": \"white\", \"linecolor\": \"white\", \"ticks\": \"\"}}, \"title\": {\"x\": 0.05}, \"xaxis\": {\"automargin\": true, \"gridcolor\": \"white\", \"linecolor\": \"white\", \"ticks\": \"\", \"title\": {\"standoff\": 15}, \"zerolinecolor\": \"white\", \"zerolinewidth\": 2}, \"yaxis\": {\"automargin\": true, \"gridcolor\": \"white\", \"linecolor\": \"white\", \"ticks\": \"\", \"title\": {\"standoff\": 15}, \"zerolinecolor\": \"white\", \"zerolinewidth\": 2}}}, \"title\": {\"text\": \"Energy Minimization\"}, \"xaxis\": {\"title\": {\"text\": \"Energy Minimization Step\"}}, \"yaxis\": {\"title\": {\"text\": \"Potential Energy KJ/mol-1\"}}},\n",
       "                        {\"responsive\": true}\n",
       "                    ).then(function(){\n",
       "                            \n",
       "var gd = document.getElementById('31963cda-d1dd-4661-882d-808c65cbb805');\n",
       "var x = new MutationObserver(function (mutations, observer) {{\n",
       "        var display = window.getComputedStyle(gd).display;\n",
       "        if (!display || display === 'none') {{\n",
       "            console.log([gd, 'removed!']);\n",
       "            Plotly.purge(gd);\n",
       "            observer.disconnect();\n",
       "        }}\n",
       "}});\n",
       "\n",
       "// Listen for the removal of the full notebook cells\n",
       "var notebookContainer = gd.closest('#notebook-container');\n",
       "if (notebookContainer) {{\n",
       "    x.observe(notebookContainer, {childList: true});\n",
       "}}\n",
       "\n",
       "// Listen for the clearing of the current output cell\n",
       "var outputEl = gd.closest('.output');\n",
       "if (outputEl) {{\n",
       "    x.observe(outputEl, {childList: true});\n",
       "}}\n",
       "\n",
       "                        })\n",
       "                };\n",
       "                });\n",
       "            </script>\n",
       "        </div>"
      ]
     },
     "metadata": {},
     "output_type": "display_data"
    }
   ],
   "source": [
    "import plotly\n",
    "import plotly.graph_objs as go\n",
    "\n",
    "# Read data from file and filter energy values higher than 1000 Kj/mol^-1\n",
    "with open(output_min_ene_xvg,'r') as energy_file:\n",
    "    x,y = map(\n",
    "        list,\n",
    "        zip(*[\n",
    "            (float(line.split()[0]),float(line.split()[1]))\n",
    "            for line in energy_file \n",
    "            if not line.startswith((\"#\",\"@\")) \n",
    "            if float(line.split()[1]) < 1000 \n",
    "        ])\n",
    "    )\n",
    "\n",
    "plotly.offline.init_notebook_mode(connected=True)\n",
    "\n",
    "fig = ({\n",
    "    \"data\": [go.Scatter(x=x, y=y)],\n",
    "    \"layout\": go.Layout(title=\"Energy Minimization\",\n",
    "                        xaxis=dict(title = \"Energy Minimization Step\"),\n",
    "                        yaxis=dict(title = \"Potential Energy KJ/mol-1\")\n",
    "                       )\n",
    "})\n",
    "\n",
    "plotly.offline.iplot(fig)"
   ]
  },
  {
   "cell_type": "markdown",
   "metadata": {},
   "source": [
    "<a id=\"npt\"></a>\n",
    "***\n",
    "## Equilibrate the system (NPT)\n",
    "Equilibrate the **protein system** in **NPT** ensemble (constant Number of particles, Pressure and Temperature).\n",
    "- [Step 1](#eqNPTStep1): Creating portable binary run file for system equilibration\n",
    "- [Step 2](#eqNPTStep2): Equilibrate the **protein system** with **NPT** ensemble.\n",
    "- [Step 3](#eqNPTStep3): Checking **NPT Equilibration** results. Plotting **system pressure and density** by time during the **NPT equilibration** process.\n",
    "***\n",
    "**Building Blocks** used:\n",
    " - [Grompp](https://biobb-md.readthedocs.io/en/latest/gromacs.html#module-gromacs.grompp) from **biobb_md.gromacs.grompp** \n",
    " - [Mdrun](https://biobb-md.readthedocs.io/en/latest/gromacs.html#module-gromacs.mdrun) from **biobb_md.gromacs.mdrun** \n",
    " - [GMXEnergy](https://biobb-analysis.readthedocs.io/en/latest/gromacs.html#module-gromacs.gmx_energy) from **biobb_analysis.gromacs.gmx_energy** \n",
    "***"
   ]
  },
  {
   "cell_type": "markdown",
   "metadata": {},
   "source": [
    "<a id=\"eqNPTStep1\"></a>\n",
    "### Step 1: Creating portable binary run file for system equilibration (NPT)\n",
    "\n",
    "The **npt** type of the **molecular dynamics parameters (mdp) property** contains the main default parameters to run an **NPT equilibration** with **protein restraints** (see [GROMACS mdp options](http://manual.gromacs.org/documentation/2018/user-guide/mdp-options.html)):\n",
    "\n",
    "-  integrator               = md\n",
    "-  dt                       = 0.001\n",
    "-  nsteps                   = 10000\n",
    "-  pcoupl = Parrinello-Rahman\n",
    "-  pcoupltype = isotropic\n",
    "-  tau_p = 1.0\n",
    "-  ref_p = 1.0\n",
    "-  compressibility = 4.5e-5\n",
    "-  refcoord_scaling = com\n",
    "-  gen_vel = no\n",
    "\n",
    "In this particular example, the default parameters will be used: **md** integrator algorithm, a **time step** of **2fs**, **5,000 equilibration steps**, and a Parrinello-Rahman **pressure coupling** algorithm.\n",
    "\n",
    "*Please note that for the sake of time this tutorial is only running 10ps of NPT equilibration, whereas in the [original example](http://pmx.mpibpc.mpg.de/sardinia2018_tutorial1/eq.mdp) the simulated time was 100ps.*"
   ]
  },
  {
   "cell_type": "code",
   "execution_count": 14,
   "metadata": {},
   "outputs": [
    {
     "name": "stderr",
     "output_type": "stream",
     "text": [
      "2020-10-13 17:32:49,990 [MainThread  ] [INFO ]  GROMACS Grompp 20191 version detected\n",
      "2020-10-13 17:32:49,996 [MainThread  ] [INFO ]  Extracting: /Users/pau/projects/biobb_wf_pmx_tutorial/biobb_wf_pmx_tutorial/notebooks/pmxA_top.zip\n",
      "2020-10-13 17:32:49,997 [MainThread  ] [INFO ]  to:\n",
      "2020-10-13 17:32:49,998 [MainThread  ] [INFO ]  ['3326f88d-9194-4ba4-b59d-8c2a7f1090e9/p2g.top', '3326f88d-9194-4ba4-b59d-8c2a7f1090e9/pmx_p2g_Ion_chain_C.itp', '3326f88d-9194-4ba4-b59d-8c2a7f1090e9/pmx_p2g_Protein_chain_A.itp', '3326f88d-9194-4ba4-b59d-8c2a7f1090e9/posre_Ion_chain_C.itp', '3326f88d-9194-4ba4-b59d-8c2a7f1090e9/posre_Protein_chain_A.itp']\n",
      "2020-10-13 17:32:49,999 [MainThread  ] [INFO ]  Unzipping: \n",
      "2020-10-13 17:32:49,999 [MainThread  ] [INFO ]  pmxA_top.zip\n",
      "2020-10-13 17:32:50,001 [MainThread  ] [INFO ]  To: \n",
      "2020-10-13 17:32:50,001 [MainThread  ] [INFO ]  3326f88d-9194-4ba4-b59d-8c2a7f1090e9/p2g.top\n",
      "2020-10-13 17:32:50,002 [MainThread  ] [INFO ]  3326f88d-9194-4ba4-b59d-8c2a7f1090e9/pmx_p2g_Ion_chain_C.itp\n",
      "2020-10-13 17:32:50,003 [MainThread  ] [INFO ]  3326f88d-9194-4ba4-b59d-8c2a7f1090e9/pmx_p2g_Protein_chain_A.itp\n",
      "2020-10-13 17:32:50,003 [MainThread  ] [INFO ]  3326f88d-9194-4ba4-b59d-8c2a7f1090e9/posre_Ion_chain_C.itp\n",
      "2020-10-13 17:32:50,004 [MainThread  ] [INFO ]  3326f88d-9194-4ba4-b59d-8c2a7f1090e9/posre_Protein_chain_A.itp\n",
      "2020-10-13 17:32:50,005 [MainThread  ] [INFO ]  Will run a free md of 10.0 pico seconds\n",
      "2020-10-13 17:32:50,006 [MainThread  ] [INFO ]  Not using any container\n",
      "2020-10-13 17:32:50,309 [MainThread  ] [INFO ]  gmx -nobackup -nocopyright grompp -f 3c19d1b9-a286-4b57-9d50-9bd264809402/grompp.mdp -c pdb2gmxA.gro -r pdb2gmxA.gro -p 3326f88d-9194-4ba4-b59d-8c2a7f1090e9/p2g.top -o eqA_20ps.tpr -po mdout.mdp -maxwarn 10\n",
      "\n",
      "2020-10-13 17:32:50,310 [MainThread  ] [INFO ]  Exit code 0\n",
      "\n",
      "2020-10-13 17:32:50,311 [MainThread  ] [INFO ]  turning H bonds into constraints...\n",
      "turning H bonds into constraints...\n",
      "turning H bonds into constraints...\n",
      "Analysing residue names:\n",
      "There are:   136    Protein residues\n",
      "There are:    74        Ion residues\n",
      "There are: 10948      Water residues\n",
      "Analysing Protein...\n",
      "Analysing residues not classified as Protein/DNA/RNA/Water and splitting into groups...\n",
      "Determining Verlet buffer for a tolerance of 0.005 kJ/mol/ps at 300 K\n",
      "Calculated rlist for 1x1 atom pair-list as 1.012 nm, buffer size 0.012 nm\n",
      "Set rlist, assuming 4x4 atom pair-list, to 1.000 nm, buffer size 0.000 nm\n",
      "Note that mdrun will redetermine rlist based on the actual pair-list setup\n",
      "Calculating fourier grid dimensions for X Y Z\n",
      "Using a fourier grid of 72x72x72, spacing 0.110 0.110 0.110\n",
      "This run will generate roughly 7 Mb of data\n",
      "\n",
      "2020-10-13 17:32:50,311 [MainThread  ] [INFO ]                        :-) GROMACS - gmx grompp, 2019.1 (-:\n",
      "\n",
      "Executable:   /anaconda3/envs/biobb/bin/gmx\n",
      "Data prefix:  /anaconda3/envs/biobb\n",
      "Working dir:  /Users/pau/projects/biobb_wf_pmx_tutorial/biobb_wf_pmx_tutorial/notebooks\n",
      "Command line:\n",
      "  gmx -nobackup -nocopyright grompp -f 3c19d1b9-a286-4b57-9d50-9bd264809402/grompp.mdp -c pdb2gmxA.gro -r pdb2gmxA.gro -p 3326f88d-9194-4ba4-b59d-8c2a7f1090e9/p2g.top -o eqA_20ps.tpr -po mdout.mdp -maxwarn 10\n",
      "\n",
      "Setting the LD random seed to -728790834\n",
      "Generated 5253 of the 5253 non-bonded parameter combinations\n",
      "Generating 1-4 interactions: fudge = 0.5\n",
      "Generated 5253 of the 5253 1-4 parameter combinations\n",
      "Excluding 3 bonded neighbours molecule type 'Protein_chain_A'\n",
      "Excluding 3 bonded neighbours molecule type 'Ion_chain_C'\n",
      "Excluding 2 bonded neighbours molecule type 'SOL'\n",
      "Excluding 2 bonded neighbours molecule type 'SOL'\n",
      "Removing all charge groups because cutoff-scheme=Verlet\n",
      "\n",
      "NOTE 1 [file p2g.top, line 24]:\n",
      "  In moleculetype 'Ion_chain_C' 74 atoms are not bound by a potential or\n",
      "  constraint to any other atom in the same moleculetype. Although\n",
      "  technically this might not cause issues in a simulation, this often means\n",
      "  that the user forgot to add a bond/potential/constraint or put multiple\n",
      "  molecules in the same moleculetype definition by mistake. Run with -v to\n",
      "  get information for each atom.\n",
      "\n",
      "Number of degrees of freedom in T-Coupling group Protein is 5543.77\n",
      "Number of degrees of freedom in T-Coupling group non-Protein is 65907.23\n",
      "Estimate for the relative computational load of the PME mesh part: 0.21\n",
      "\n",
      "There was 1 note\n",
      "\n",
      "GROMACS reminds you: \"God is a DJ\" (Faithless)\n",
      "\n",
      "\n",
      "2020-10-13 17:32:50,314 [MainThread  ] [INFO ]  Removed: ['mdout.mdp', '3326f88d-9194-4ba4-b59d-8c2a7f1090e9', '3c19d1b9-a286-4b57-9d50-9bd264809402']\n",
      "2020-10-13 17:32:50,363 [MainThread  ] [INFO ]  GROMACS Grompp 20191 version detected\n",
      "2020-10-13 17:32:50,369 [MainThread  ] [INFO ]  Extracting: /Users/pau/projects/biobb_wf_pmx_tutorial/biobb_wf_pmx_tutorial/notebooks/pmxB_top.zip\n",
      "2020-10-13 17:32:50,370 [MainThread  ] [INFO ]  to:\n",
      "2020-10-13 17:32:50,371 [MainThread  ] [INFO ]  ['e8feae6e-1cd2-4b84-8368-98aba6ceb640/p2g.top', 'e8feae6e-1cd2-4b84-8368-98aba6ceb640/pmx_p2g_Ion_chain_C.itp', 'e8feae6e-1cd2-4b84-8368-98aba6ceb640/pmx_p2g_Protein_chain_A.itp', 'e8feae6e-1cd2-4b84-8368-98aba6ceb640/posre_Ion_chain_C.itp', 'e8feae6e-1cd2-4b84-8368-98aba6ceb640/posre_Protein_chain_A.itp']\n",
      "2020-10-13 17:32:50,372 [MainThread  ] [INFO ]  Unzipping: \n",
      "2020-10-13 17:32:50,373 [MainThread  ] [INFO ]  pmxB_top.zip\n",
      "2020-10-13 17:32:50,375 [MainThread  ] [INFO ]  To: \n",
      "2020-10-13 17:32:50,376 [MainThread  ] [INFO ]  e8feae6e-1cd2-4b84-8368-98aba6ceb640/p2g.top\n",
      "2020-10-13 17:32:50,376 [MainThread  ] [INFO ]  e8feae6e-1cd2-4b84-8368-98aba6ceb640/pmx_p2g_Ion_chain_C.itp\n",
      "2020-10-13 17:32:50,378 [MainThread  ] [INFO ]  e8feae6e-1cd2-4b84-8368-98aba6ceb640/pmx_p2g_Protein_chain_A.itp\n",
      "2020-10-13 17:32:50,379 [MainThread  ] [INFO ]  e8feae6e-1cd2-4b84-8368-98aba6ceb640/posre_Ion_chain_C.itp\n",
      "2020-10-13 17:32:50,380 [MainThread  ] [INFO ]  e8feae6e-1cd2-4b84-8368-98aba6ceb640/posre_Protein_chain_A.itp\n",
      "2020-10-13 17:32:50,383 [MainThread  ] [INFO ]  Will run a free md of 10.0 pico seconds\n",
      "2020-10-13 17:32:50,384 [MainThread  ] [INFO ]  Not using any container\n",
      "2020-10-13 17:32:50,690 [MainThread  ] [INFO ]  gmx -nobackup -nocopyright grompp -f 32f9789b-85d9-44b3-a341-6e281503dbc5/grompp.mdp -c emout.gro -r emout.gro -p e8feae6e-1cd2-4b84-8368-98aba6ceb640/p2g.top -o eqB_20ps.tpr -po mdout.mdp -maxwarn 10\n",
      "\n",
      "2020-10-13 17:32:50,692 [MainThread  ] [INFO ]  Exit code 0\n",
      "\n",
      "2020-10-13 17:32:50,692 [MainThread  ] [INFO ]  turning H bonds into constraints...\n",
      "turning H bonds into constraints...\n",
      "turning H bonds into constraints...\n",
      "Analysing residue names:\n",
      "There are:   136    Protein residues\n",
      "There are:    74        Ion residues\n",
      "There are: 10949      Water residues\n",
      "Analysing Protein...\n",
      "Analysing residues not classified as Protein/DNA/RNA/Water and splitting into groups...\n",
      "Determining Verlet buffer for a tolerance of 0.005 kJ/mol/ps at 300 K\n",
      "Calculated rlist for 1x1 atom pair-list as 1.012 nm, buffer size 0.012 nm\n",
      "Set rlist, assuming 4x4 atom pair-list, to 1.000 nm, buffer size 0.000 nm\n",
      "Note that mdrun will redetermine rlist based on the actual pair-list setup\n",
      "Calculating fourier grid dimensions for X Y Z\n",
      "Using a fourier grid of 72x72x72, spacing 0.110 0.110 0.110\n",
      "This run will generate roughly 7 Mb of data\n",
      "\n",
      "2020-10-13 17:32:50,693 [MainThread  ] [INFO ]                        :-) GROMACS - gmx grompp, 2019.1 (-:\n",
      "\n",
      "Executable:   /anaconda3/envs/biobb/bin/gmx\n",
      "Data prefix:  /anaconda3/envs/biobb\n",
      "Working dir:  /Users/pau/projects/biobb_wf_pmx_tutorial/biobb_wf_pmx_tutorial/notebooks\n",
      "Command line:\n",
      "  gmx -nobackup -nocopyright grompp -f 32f9789b-85d9-44b3-a341-6e281503dbc5/grompp.mdp -c emout.gro -r emout.gro -p e8feae6e-1cd2-4b84-8368-98aba6ceb640/p2g.top -o eqB_20ps.tpr -po mdout.mdp -maxwarn 10\n",
      "\n",
      "Setting the LD random seed to 1844810508\n",
      "Generated 5253 of the 5253 non-bonded parameter combinations\n",
      "Generating 1-4 interactions: fudge = 0.5\n",
      "Generated 5253 of the 5253 1-4 parameter combinations\n",
      "Excluding 3 bonded neighbours molecule type 'Protein_chain_A'\n",
      "Excluding 3 bonded neighbours molecule type 'Ion_chain_C'\n",
      "Excluding 2 bonded neighbours molecule type 'SOL'\n",
      "Excluding 2 bonded neighbours molecule type 'SOL'\n",
      "Removing all charge groups because cutoff-scheme=Verlet\n",
      "\n",
      "NOTE 1 [file p2g.top, line 24]:\n",
      "  In moleculetype 'Ion_chain_C' 74 atoms are not bound by a potential or\n",
      "  constraint to any other atom in the same moleculetype. Although\n",
      "  technically this might not cause issues in a simulation, this often means\n",
      "  that the user forgot to add a bond/potential/constraint or put multiple\n",
      "  molecules in the same moleculetype definition by mistake. Run with -v to\n",
      "  get information for each atom.\n",
      "\n",
      "Number of degrees of freedom in T-Coupling group Protein is 5543.77\n",
      "Number of degrees of freedom in T-Coupling group non-Protein is 65913.23\n",
      "Estimate for the relative computational load of the PME mesh part: 0.21\n",
      "\n",
      "There was 1 note\n",
      "\n",
      "GROMACS reminds you: \"If it weren't for bad luck, we'd have no luck at all\" (The Unthanks)\n",
      "\n",
      "\n"
     ]
    },
    {
     "name": "stderr",
     "output_type": "stream",
     "text": [
      "2020-10-13 17:32:50,696 [MainThread  ] [INFO ]  Removed: ['mdout.mdp', 'e8feae6e-1cd2-4b84-8368-98aba6ceb640', '32f9789b-85d9-44b3-a341-6e281503dbc5']\n"
     ]
    },
    {
     "data": {
      "text/plain": [
       "0"
      ]
     },
     "execution_count": 14,
     "metadata": {},
     "output_type": "execute_result"
    }
   ],
   "source": [
    "# Grompp: Creating portable binary run file for system equilibration\n",
    "from biobb_md.gromacs.grompp import Grompp\n",
    "\n",
    "#### State A (WT->Mut) ####\n",
    "\n",
    "# Create prop dict and inputs/outputs\n",
    "output_tprA_eq = 'eqA_20ps.tpr'\n",
    "\n",
    "prop = {\n",
    "    'gmxlib' : gmxlib,\n",
    "    'mdp':{\n",
    "        'type': 'free',\n",
    "        'nsteps':'10000',\n",
    "        'nstcomm' : '1',\n",
    "        'dt':'0.001',\n",
    "        'nstcalcenergy' : '1'\n",
    "    }\n",
    "    \n",
    "}\n",
    "\n",
    "#Create and launch bb\n",
    "Grompp(input_gro_path=output_pdb2gmxA_gro,\n",
    "       input_top_zip_path=output_pmxtopA_top_zip,\n",
    "       output_tpr_path=output_tprA_eq,\n",
    "       properties=prop).launch()\n",
    "\n",
    "\n",
    "#### State B (Mut->WT) ####\n",
    "\n",
    "# Create prop dict and inputs/outputs\n",
    "output_tprB_eq = 'eqB_20ps.tpr'\n",
    "\n",
    "prop = {\n",
    "    'gmxlib' : gmxlib,\n",
    "    'mdp':{\n",
    "        'type': 'free',\n",
    "        'nsteps':'10000', # 10000 steps x 1fs (timestep) = 10ps \n",
    "        'dt':'0.001', # 1 fs of timestep, to properly equilibrate dummy atoms\n",
    "        'nstcomm' : '1',\n",
    "        'nstcalcenergy' : '1'\n",
    "    }\n",
    "}\n",
    "#Create and launch bb\n",
    "Grompp(input_gro_path=output_min_gro,\n",
    "       input_top_zip_path=output_pmxtopB_top_zip,\n",
    "       output_tpr_path=output_tprB_eq,\n",
    "       properties=prop).launch()\n"
   ]
  },
  {
   "cell_type": "markdown",
   "metadata": {},
   "source": [
    "<a id=\"eqNPTStep2\"></a>\n",
    "### Step 2: Running NPT equilibration"
   ]
  },
  {
   "cell_type": "code",
   "execution_count": 15,
   "metadata": {},
   "outputs": [
    {
     "name": "stderr",
     "output_type": "stream",
     "text": [
      "2020-10-13 17:33:15,106 [MainThread  ] [INFO ]  GROMACS Mdrun 20191 version detected\n",
      "2020-10-13 17:33:15,108 [MainThread  ] [INFO ]  Not using any container\n",
      "2020-10-13 17:37:27,496 [MainThread  ] [INFO ]  gmx -nobackup -nocopyright mdrun -s eqA_20ps.tpr -o eqoutA.trr -c eqoutA.gro -e eqoutA.edr -g eqoutA.log -nt 0\n",
      "\n",
      "2020-10-13 17:37:27,498 [MainThread  ] [INFO ]  Exit code 0\n",
      "\n",
      "2020-10-13 17:37:27,499 [MainThread  ] [INFO ]                        :-) GROMACS - gmx mdrun, 2019.1 (-:\n",
      "\n",
      "Executable:   /anaconda3/envs/biobb/bin/gmx\n",
      "Data prefix:  /anaconda3/envs/biobb\n",
      "Working dir:  /Users/pau/projects/biobb_wf_pmx_tutorial/biobb_wf_pmx_tutorial/notebooks\n",
      "Command line:\n",
      "  gmx -nobackup -nocopyright mdrun -s eqA_20ps.tpr -o eqoutA.trr -c eqoutA.gro -e eqoutA.edr -g eqoutA.log -nt 0\n",
      "\n",
      "\n",
      "WARNING: While sanity checking device #1, clBuildProgram did not succeed -11: CL_BUILD_PROGRAM_FAILURE\n",
      "\n",
      "Compiled SIMD: SSE2, but for this host/run AVX2_256 might be better (see log).\n",
      "The current CPU can measure timings more accurately than the code in\n",
      "gmx mdrun was configured to use. This might affect your simulation\n",
      "speed as accurate timings are needed for load-balancing.\n",
      "Please consider rebuilding gmx mdrun with the GMX_USE_RDTSCP=ON CMake option.\n",
      "Reading file eqA_20ps.tpr, VERSION 2019.1 (single precision)\n",
      "Changing nstlist from 10 to 80, rlist from 1 to 1.097\n",
      "\n",
      "\n",
      "Using 1 MPI thread\n",
      "Using 8 OpenMP threads \n",
      "\n",
      "starting mdrun 'PMX MODEL'\n",
      "10000 steps,     10.0 ps.\n",
      "\n",
      "Writing final coordinates.\n",
      "\n",
      "               Core t (s)   Wall t (s)        (%)\n",
      "       Time:     2000.928      250.116      800.0\n",
      "                 (ns/day)    (hour/ns)\n",
      "Performance:        3.455        6.947\n",
      "\n",
      "GROMACS reminds you: \"I have a hunch that the unknown sequences of DNA will decode into copyright notices and patent protections.\" (Donald Knuth)\n",
      "\n",
      "\n",
      "2020-10-13 17:37:27,501 [MainThread  ] [INFO ]  Removed: []\n",
      "2020-10-13 17:37:27,565 [MainThread  ] [INFO ]  GROMACS Mdrun 20191 version detected\n",
      "2020-10-13 17:37:27,567 [MainThread  ] [INFO ]  Not using any container\n",
      "2020-10-13 17:41:06,206 [MainThread  ] [INFO ]  gmx -nobackup -nocopyright mdrun -s eqB_20ps.tpr -o eqoutB.trr -c eqoutB.gro -e eqoutB.edr -g eqoutB.log -nt 0\n",
      "\n",
      "2020-10-13 17:41:06,208 [MainThread  ] [INFO ]  Exit code 0\n",
      "\n",
      "2020-10-13 17:41:06,208 [MainThread  ] [INFO ]                        :-) GROMACS - gmx mdrun, 2019.1 (-:\n",
      "\n",
      "Executable:   /anaconda3/envs/biobb/bin/gmx\n",
      "Data prefix:  /anaconda3/envs/biobb\n",
      "Working dir:  /Users/pau/projects/biobb_wf_pmx_tutorial/biobb_wf_pmx_tutorial/notebooks\n",
      "Command line:\n",
      "  gmx -nobackup -nocopyright mdrun -s eqB_20ps.tpr -o eqoutB.trr -c eqoutB.gro -e eqoutB.edr -g eqoutB.log -nt 0\n",
      "\n",
      "\n",
      "WARNING: While sanity checking device #1, clBuildProgram did not succeed -11: CL_BUILD_PROGRAM_FAILURE\n",
      "\n",
      "Compiled SIMD: SSE2, but for this host/run AVX2_256 might be better (see log).\n",
      "The current CPU can measure timings more accurately than the code in\n",
      "gmx mdrun was configured to use. This might affect your simulation\n",
      "speed as accurate timings are needed for load-balancing.\n",
      "Please consider rebuilding gmx mdrun with the GMX_USE_RDTSCP=ON CMake option.\n",
      "Reading file eqB_20ps.tpr, VERSION 2019.1 (single precision)\n",
      "Changing nstlist from 10 to 80, rlist from 1 to 1.097\n",
      "\n",
      "\n",
      "Using 1 MPI thread\n",
      "Using 8 OpenMP threads \n",
      "\n",
      "starting mdrun 'PMX MODEL'\n",
      "10000 steps,     10.0 ps.\n",
      "\n",
      "Writing final coordinates.\n",
      "\n",
      "               Core t (s)   Wall t (s)        (%)\n",
      "       Time:     1731.263      216.408      800.0\n",
      "                 (ns/day)    (hour/ns)\n",
      "Performance:        3.993        6.011\n",
      "\n",
      "GROMACS reminds you: \"If you want to destroy my sweater, hold this thread as I walk away.\" (Weezer)\n",
      "\n",
      "\n",
      "2020-10-13 17:41:06,210 [MainThread  ] [INFO ]  Removed: []\n"
     ]
    },
    {
     "data": {
      "text/plain": [
       "0"
      ]
     },
     "execution_count": 15,
     "metadata": {},
     "output_type": "execute_result"
    }
   ],
   "source": [
    "# Mdrun: Running equilibration\n",
    "from biobb_md.gromacs.mdrun import Mdrun\n",
    "\n",
    "#### State A (WT->Mut) ####\n",
    "\n",
    "# Create prop dict and inputs/outputs\n",
    "output_eqA_trr = 'eqoutA.trr'\n",
    "output_eqA_gro = 'eqoutA.gro'\n",
    "output_eqA_edr = 'eqoutA.edr'\n",
    "output_eqA_log = 'eqoutA.log'\n",
    "\n",
    "# Create and launch bb\n",
    "Mdrun(input_tpr_path=output_tprA_eq,\n",
    "      output_trr_path=output_eqA_trr,\n",
    "      output_gro_path=output_eqA_gro,\n",
    "      output_edr_path=output_eqA_edr,\n",
    "      output_log_path=output_eqA_log).launch()\n",
    "\n",
    "#### State B (Mut->WT) ####\n",
    "\n",
    "# Create prop dict and inputs/outputs\n",
    "output_eqB_trr = 'eqoutB.trr'\n",
    "output_eqB_gro = 'eqoutB.gro'\n",
    "output_eqB_edr = 'eqoutB.edr'\n",
    "output_eqB_log = 'eqoutB.log'\n",
    "\n",
    "# Create and launch bb\n",
    "Mdrun(input_tpr_path=output_tprB_eq,\n",
    "      output_trr_path=output_eqB_trr,\n",
    "      output_gro_path=output_eqB_gro,\n",
    "      output_edr_path=output_eqB_edr,\n",
    "      output_log_path=output_eqB_log).launch()"
   ]
  },
  {
   "cell_type": "markdown",
   "metadata": {},
   "source": [
    "<a id=\"eqNPTStep3\"></a>\n",
    "### Step 3: Checking NPT Equilibration results\n",
    "Checking **NPT Equilibration** results. Plotting **system pressure and density** by time during the **NPT equilibration** process. "
   ]
  },
  {
   "cell_type": "code",
   "execution_count": 16,
   "metadata": {},
   "outputs": [
    {
     "name": "stderr",
     "output_type": "stream",
     "text": [
      "2020-10-13 17:43:23,880 [MainThread  ] [INFO ]  Not using any container\n",
      "2020-10-13 17:43:23,914 [MainThread  ] [INFO ]  gmx energy -f /Users/pau/projects/biobb_wf_pmx_tutorial/biobb_wf_pmx_tutorial/notebooks/eqoutA.edr -o eqA_PD.xvg -xvg none < 27641791-3d4f-4bb7-b0fa-2913eb3171e0/instructions.in\n",
      "\n",
      "2020-10-13 17:43:23,916 [MainThread  ] [INFO ]  Exit code 0\n",
      "\n",
      "2020-10-13 17:43:23,917 [MainThread  ] [INFO ]  \n",
      "Statistics over 10001 steps [ 0.0000 through 10.0000 ps ], 2 data sets\n",
      "All statistics are over 10001 points\n",
      "\n",
      "Energy                      Average   Err.Est.       RMSD  Tot-Drift\n",
      "-------------------------------------------------------------------------------\n",
      "Pressure                   -143.742         --    2602.46    460.954  (bar)\n",
      "Density                     1012.41         --    32.0373    40.6257  (kg/m^3)\n",
      "\n",
      "2020-10-13 17:43:23,918 [MainThread  ] [INFO ]                        :-) GROMACS - gmx energy, 2019.1 (-:\n",
      "\n",
      "                            GROMACS is written by:\n",
      "     Emile Apol      Rossen Apostolov      Paul Bauer     Herman J.C. Berendsen\n",
      "    Par Bjelkmar      Christian Blau   Viacheslav Bolnykh     Kevin Boyd    \n",
      " Aldert van Buuren   Rudi van Drunen     Anton Feenstra       Alan Gray     \n",
      "  Gerrit Groenhof     Anca Hamuraru    Vincent Hindriksen  M. Eric Irrgang  \n",
      "  Aleksei Iupinov   Christoph Junghans     Joe Jordan     Dimitrios Karkoulis\n",
      "    Peter Kasson        Jiri Kraus      Carsten Kutzner      Per Larsson    \n",
      "  Justin A. Lemkul    Viveca Lindahl    Magnus Lundborg     Erik Marklund   \n",
      "    Pascal Merz     Pieter Meulenhoff    Teemu Murtola       Szilard Pall   \n",
      "    Sander Pronk      Roland Schulz      Michael Shirts    Alexey Shvetsov  \n",
      "   Alfons Sijbers     Peter Tieleman      Jon Vincent      Teemu Virolainen \n",
      " Christian Wennberg    Maarten Wolf   \n",
      "                           and the project leaders:\n",
      "        Mark Abraham, Berk Hess, Erik Lindahl, and David van der Spoel\n",
      "\n",
      "Copyright (c) 1991-2000, University of Groningen, The Netherlands.\n",
      "Copyright (c) 2001-2018, The GROMACS development team at\n",
      "Uppsala University, Stockholm University and\n",
      "the Royal Institute of Technology, Sweden.\n",
      "check out http://www.gromacs.org for more information.\n",
      "\n",
      "GROMACS is free software; you can redistribute it and/or modify it\n",
      "under the terms of the GNU Lesser General Public License\n",
      "as published by the Free Software Foundation; either version 2.1\n",
      "of the License, or (at your option) any later version.\n",
      "\n",
      "GROMACS:      gmx energy, version 2019.1\n",
      "Executable:   /anaconda3/envs/biobb/bin/gmx\n",
      "Data prefix:  /anaconda3/envs/biobb\n",
      "Working dir:  /Users/pau/projects/biobb_wf_pmx_tutorial/biobb_wf_pmx_tutorial/notebooks\n",
      "Command line:\n",
      "  gmx energy -f /Users/pau/projects/biobb_wf_pmx_tutorial/biobb_wf_pmx_tutorial/notebooks/eqoutA.edr -o eqA_PD.xvg -xvg none\n",
      "\n",
      "Opened /Users/pau/projects/biobb_wf_pmx_tutorial/biobb_wf_pmx_tutorial/notebooks/eqoutA.edr as single precision energy file\n",
      "\n",
      "Select the terms you want from the following list by\n",
      "selecting either (part of) the name or the number or a combination.\n",
      "End your selection with an empty line or a zero.\n",
      "-------------------------------------------------------------------\n",
      "  1  Bond             2  Angle            3  Proper-Dih.      4  Improper-Dih. \n",
      "  5  LJ-14            6  Coulomb-14       7  LJ-(SR)          8  Disper.-corr. \n",
      "  9  Coulomb-(SR)    10  Coul.-recip.    11  Potential       12  Kinetic-En.   \n",
      " 13  Total-Energy    14  Conserved-En.   15  Temperature     16  Pres.-DC      \n",
      " 17  Pressure        18  Constr.-rmsd    19  Box-X           20  Box-Y         \n",
      " 21  Box-Z           22  Volume          23  Density         24  pV            \n",
      " 25  Enthalpy        26  Vir-XX          27  Vir-XY          28  Vir-XZ        \n",
      " 29  Vir-YX          30  Vir-YY          31  Vir-YZ          32  Vir-ZX        \n",
      " 33  Vir-ZY          34  Vir-ZZ          35  Pres-XX         36  Pres-XY       \n",
      " 37  Pres-XZ         38  Pres-YX         39  Pres-YY         40  Pres-YZ       \n",
      " 41  Pres-ZX         42  Pres-ZY         43  Pres-ZZ         44  #Surf*SurfTen \n",
      " 45  Box-Vel-XX      46  Box-Vel-YY      47  Box-Vel-ZZ      48  T-Protein     \n",
      " 49  T-non-Protein                       50  Lamb-Protein                      \n",
      " 51  Lamb-non-Protein                  \n",
      "\n",
      "\n",
      "Back Off! I just backed up eqA_PD.xvg to ./#eqA_PD.xvg.1#\n",
      "Last energy frame read 2 time   10.000            \n",
      "\n",
      "GROMACS reminds you: \"Some of these pro-drug messages come from popular culture.\" (John Walters)\n",
      "\n",
      "\n",
      "2020-10-13 17:43:23,920 [MainThread  ] [INFO ]  Removed: [PurePosixPath('27641791-3d4f-4bb7-b0fa-2913eb3171e0')]\n",
      "2020-10-13 17:43:23,943 [MainThread  ] [INFO ]  Not using any container\n",
      "2020-10-13 17:43:23,975 [MainThread  ] [INFO ]  gmx energy -f /Users/pau/projects/biobb_wf_pmx_tutorial/biobb_wf_pmx_tutorial/notebooks/eqoutB.edr -o eqB_PD.xvg -xvg none < 46e2345d-1b9e-4423-8d33-026b5c3a0675/instructions.in\n",
      "\n",
      "2020-10-13 17:43:23,977 [MainThread  ] [INFO ]  Exit code 0\n",
      "\n",
      "2020-10-13 17:43:23,978 [MainThread  ] [INFO ]  \n",
      "Statistics over 10001 steps [ 0.0000 through 10.0000 ps ], 2 data sets\n",
      "All statistics are over 10001 points\n",
      "\n",
      "Energy                      Average   Err.Est.       RMSD  Tot-Drift\n",
      "-------------------------------------------------------------------------------\n",
      "Pressure                   -6.02534         --    612.151    -26.436  (bar)\n",
      "Density                     1027.87         --    7.89968   -12.3398  (kg/m^3)\n",
      "\n",
      "2020-10-13 17:43:23,979 [MainThread  ] [INFO ]                        :-) GROMACS - gmx energy, 2019.1 (-:\n",
      "\n",
      "                            GROMACS is written by:\n",
      "     Emile Apol      Rossen Apostolov      Paul Bauer     Herman J.C. Berendsen\n",
      "    Par Bjelkmar      Christian Blau   Viacheslav Bolnykh     Kevin Boyd    \n",
      " Aldert van Buuren   Rudi van Drunen     Anton Feenstra       Alan Gray     \n",
      "  Gerrit Groenhof     Anca Hamuraru    Vincent Hindriksen  M. Eric Irrgang  \n",
      "  Aleksei Iupinov   Christoph Junghans     Joe Jordan     Dimitrios Karkoulis\n",
      "    Peter Kasson        Jiri Kraus      Carsten Kutzner      Per Larsson    \n",
      "  Justin A. Lemkul    Viveca Lindahl    Magnus Lundborg     Erik Marklund   \n",
      "    Pascal Merz     Pieter Meulenhoff    Teemu Murtola       Szilard Pall   \n",
      "    Sander Pronk      Roland Schulz      Michael Shirts    Alexey Shvetsov  \n",
      "   Alfons Sijbers     Peter Tieleman      Jon Vincent      Teemu Virolainen \n",
      " Christian Wennberg    Maarten Wolf   \n",
      "                           and the project leaders:\n",
      "        Mark Abraham, Berk Hess, Erik Lindahl, and David van der Spoel\n",
      "\n",
      "Copyright (c) 1991-2000, University of Groningen, The Netherlands.\n",
      "Copyright (c) 2001-2018, The GROMACS development team at\n",
      "Uppsala University, Stockholm University and\n",
      "the Royal Institute of Technology, Sweden.\n",
      "check out http://www.gromacs.org for more information.\n",
      "\n",
      "GROMACS is free software; you can redistribute it and/or modify it\n",
      "under the terms of the GNU Lesser General Public License\n",
      "as published by the Free Software Foundation; either version 2.1\n",
      "of the License, or (at your option) any later version.\n",
      "\n",
      "GROMACS:      gmx energy, version 2019.1\n",
      "Executable:   /anaconda3/envs/biobb/bin/gmx\n",
      "Data prefix:  /anaconda3/envs/biobb\n",
      "Working dir:  /Users/pau/projects/biobb_wf_pmx_tutorial/biobb_wf_pmx_tutorial/notebooks\n",
      "Command line:\n",
      "  gmx energy -f /Users/pau/projects/biobb_wf_pmx_tutorial/biobb_wf_pmx_tutorial/notebooks/eqoutB.edr -o eqB_PD.xvg -xvg none\n",
      "\n",
      "Opened /Users/pau/projects/biobb_wf_pmx_tutorial/biobb_wf_pmx_tutorial/notebooks/eqoutB.edr as single precision energy file\n",
      "\n",
      "Select the terms you want from the following list by\n",
      "selecting either (part of) the name or the number or a combination.\n",
      "End your selection with an empty line or a zero.\n",
      "-------------------------------------------------------------------\n",
      "  1  Bond             2  Angle            3  Proper-Dih.      4  Improper-Dih. \n",
      "  5  LJ-14            6  Coulomb-14       7  LJ-(SR)          8  Disper.-corr. \n",
      "  9  Coulomb-(SR)    10  Coul.-recip.    11  Potential       12  Kinetic-En.   \n",
      " 13  Total-Energy    14  Conserved-En.   15  Temperature     16  Pres.-DC      \n",
      " 17  Pressure        18  Constr.-rmsd    19  Box-X           20  Box-Y         \n",
      " 21  Box-Z           22  Volume          23  Density         24  pV            \n",
      " 25  Enthalpy        26  Vir-XX          27  Vir-XY          28  Vir-XZ        \n",
      " 29  Vir-YX          30  Vir-YY          31  Vir-YZ          32  Vir-ZX        \n",
      " 33  Vir-ZY          34  Vir-ZZ          35  Pres-XX         36  Pres-XY       \n",
      " 37  Pres-XZ         38  Pres-YX         39  Pres-YY         40  Pres-YZ       \n",
      " 41  Pres-ZX         42  Pres-ZY         43  Pres-ZZ         44  #Surf*SurfTen \n",
      " 45  Box-Vel-XX      46  Box-Vel-YY      47  Box-Vel-ZZ      48  T-Protein     \n",
      " 49  T-non-Protein                       50  Lamb-Protein                      \n",
      " 51  Lamb-non-Protein                  \n",
      "\n",
      "\n",
      "Back Off! I just backed up eqB_PD.xvg to ./#eqB_PD.xvg.1#\n",
      "Last energy frame read 2 time   10.000            \n",
      "\n",
      "GROMACS reminds you: \"Shaken, not Stirred\" (J. Bond)\n",
      "\n",
      "\n"
     ]
    },
    {
     "name": "stderr",
     "output_type": "stream",
     "text": [
      "2020-10-13 17:43:23,981 [MainThread  ] [INFO ]  Removed: [PurePosixPath('46e2345d-1b9e-4423-8d33-026b5c3a0675')]\n"
     ]
    },
    {
     "data": {
      "text/plain": [
       "0"
      ]
     },
     "execution_count": 16,
     "metadata": {},
     "output_type": "execute_result"
    }
   ],
   "source": [
    "# GMXEnergy: Getting system pressure and density by time during NPT Equilibration  \n",
    "from biobb_analysis.gromacs.gmx_energy import GMXEnergy\n",
    "\n",
    "#### State A (WT->Mut) ####\n",
    "\n",
    "# Create prop dict and inputs/outputs\n",
    "output_eqA_pd_xvg = 'eqA_PD.xvg'\n",
    "prop = {\n",
    "    'terms':  [\"Pressure\",\"Density\"]\n",
    "}\n",
    "\n",
    "# Create and launch bb\n",
    "GMXEnergy(input_energy_path=output_eqA_edr, \n",
    "          output_xvg_path=output_eqA_pd_xvg, \n",
    "          properties=prop).launch()\n",
    "\n",
    "#### State B (Mut->WT) ####\n",
    "\n",
    "# Create prop dict and inputs/outputs\n",
    "output_eqB_pd_xvg = 'eqB_PD.xvg'\n",
    "prop = {\n",
    "    'terms':  [\"Pressure\",\"Density\"]\n",
    "}\n",
    "\n",
    "# Create and launch bb\n",
    "GMXEnergy(input_energy_path=output_eqB_edr, \n",
    "          output_xvg_path=output_eqB_pd_xvg, \n",
    "          properties=prop).launch()"
   ]
  },
  {
   "cell_type": "markdown",
   "metadata": {},
   "source": [
    "Please note the information shown by the next plots **increases with the time simulated**, and are included as a **reference for more complex calculations**.   "
   ]
  },
  {
   "cell_type": "code",
   "execution_count": 17,
   "metadata": {},
   "outputs": [
    {
     "data": {
      "text/html": [
       "        <script type=\"text/javascript\">\n",
       "        window.PlotlyConfig = {MathJaxConfig: 'local'};\n",
       "        if (window.MathJax) {MathJax.Hub.Config({SVG: {font: \"STIX-Web\"}});}\n",
       "        if (typeof require !== 'undefined') {\n",
       "        require.undef(\"plotly\");\n",
       "        requirejs.config({\n",
       "            paths: {\n",
       "                'plotly': ['https://cdn.plot.ly/plotly-latest.min']\n",
       "            }\n",
       "        });\n",
       "        require(['plotly'], function(Plotly) {\n",
       "            window._Plotly = Plotly;\n",
       "        });\n",
       "        }\n",
       "        </script>\n",
       "        "
      ]
     },
     "metadata": {},
     "output_type": "display_data"
    },
    {
     "data": {
      "application/vnd.plotly.v1+json": {
       "config": {
        "linkText": "Export to plot.ly",
        "plotlyServerURL": "https://plot.ly",
        "showLink": false
       },
       "data": [
        {
         "type": "scatter",
         "x": [
          0,
          5,
          10
         ],
         "xaxis": "x",
         "y": [
          149486.796875,
          304.647461,
          97.257004
         ],
         "yaxis": "y"
        },
        {
         "type": "scatter",
         "x": [
          0,
          5,
          10
         ],
         "xaxis": "x2",
         "y": [
          1018.499634,
          1021.365967,
          1023.719055
         ],
         "yaxis": "y2"
        }
       ],
       "layout": {
        "showlegend": false,
        "template": {
         "data": {
          "bar": [
           {
            "error_x": {
             "color": "#2a3f5f"
            },
            "error_y": {
             "color": "#2a3f5f"
            },
            "marker": {
             "line": {
              "color": "#E5ECF6",
              "width": 0.5
             }
            },
            "type": "bar"
           }
          ],
          "barpolar": [
           {
            "marker": {
             "line": {
              "color": "#E5ECF6",
              "width": 0.5
             }
            },
            "type": "barpolar"
           }
          ],
          "carpet": [
           {
            "aaxis": {
             "endlinecolor": "#2a3f5f",
             "gridcolor": "white",
             "linecolor": "white",
             "minorgridcolor": "white",
             "startlinecolor": "#2a3f5f"
            },
            "baxis": {
             "endlinecolor": "#2a3f5f",
             "gridcolor": "white",
             "linecolor": "white",
             "minorgridcolor": "white",
             "startlinecolor": "#2a3f5f"
            },
            "type": "carpet"
           }
          ],
          "choropleth": [
           {
            "colorbar": {
             "outlinewidth": 0,
             "ticks": ""
            },
            "type": "choropleth"
           }
          ],
          "contour": [
           {
            "colorbar": {
             "outlinewidth": 0,
             "ticks": ""
            },
            "colorscale": [
             [
              0,
              "#0d0887"
             ],
             [
              0.1111111111111111,
              "#46039f"
             ],
             [
              0.2222222222222222,
              "#7201a8"
             ],
             [
              0.3333333333333333,
              "#9c179e"
             ],
             [
              0.4444444444444444,
              "#bd3786"
             ],
             [
              0.5555555555555556,
              "#d8576b"
             ],
             [
              0.6666666666666666,
              "#ed7953"
             ],
             [
              0.7777777777777778,
              "#fb9f3a"
             ],
             [
              0.8888888888888888,
              "#fdca26"
             ],
             [
              1,
              "#f0f921"
             ]
            ],
            "type": "contour"
           }
          ],
          "contourcarpet": [
           {
            "colorbar": {
             "outlinewidth": 0,
             "ticks": ""
            },
            "type": "contourcarpet"
           }
          ],
          "heatmap": [
           {
            "colorbar": {
             "outlinewidth": 0,
             "ticks": ""
            },
            "colorscale": [
             [
              0,
              "#0d0887"
             ],
             [
              0.1111111111111111,
              "#46039f"
             ],
             [
              0.2222222222222222,
              "#7201a8"
             ],
             [
              0.3333333333333333,
              "#9c179e"
             ],
             [
              0.4444444444444444,
              "#bd3786"
             ],
             [
              0.5555555555555556,
              "#d8576b"
             ],
             [
              0.6666666666666666,
              "#ed7953"
             ],
             [
              0.7777777777777778,
              "#fb9f3a"
             ],
             [
              0.8888888888888888,
              "#fdca26"
             ],
             [
              1,
              "#f0f921"
             ]
            ],
            "type": "heatmap"
           }
          ],
          "heatmapgl": [
           {
            "colorbar": {
             "outlinewidth": 0,
             "ticks": ""
            },
            "colorscale": [
             [
              0,
              "#0d0887"
             ],
             [
              0.1111111111111111,
              "#46039f"
             ],
             [
              0.2222222222222222,
              "#7201a8"
             ],
             [
              0.3333333333333333,
              "#9c179e"
             ],
             [
              0.4444444444444444,
              "#bd3786"
             ],
             [
              0.5555555555555556,
              "#d8576b"
             ],
             [
              0.6666666666666666,
              "#ed7953"
             ],
             [
              0.7777777777777778,
              "#fb9f3a"
             ],
             [
              0.8888888888888888,
              "#fdca26"
             ],
             [
              1,
              "#f0f921"
             ]
            ],
            "type": "heatmapgl"
           }
          ],
          "histogram": [
           {
            "marker": {
             "colorbar": {
              "outlinewidth": 0,
              "ticks": ""
             }
            },
            "type": "histogram"
           }
          ],
          "histogram2d": [
           {
            "colorbar": {
             "outlinewidth": 0,
             "ticks": ""
            },
            "colorscale": [
             [
              0,
              "#0d0887"
             ],
             [
              0.1111111111111111,
              "#46039f"
             ],
             [
              0.2222222222222222,
              "#7201a8"
             ],
             [
              0.3333333333333333,
              "#9c179e"
             ],
             [
              0.4444444444444444,
              "#bd3786"
             ],
             [
              0.5555555555555556,
              "#d8576b"
             ],
             [
              0.6666666666666666,
              "#ed7953"
             ],
             [
              0.7777777777777778,
              "#fb9f3a"
             ],
             [
              0.8888888888888888,
              "#fdca26"
             ],
             [
              1,
              "#f0f921"
             ]
            ],
            "type": "histogram2d"
           }
          ],
          "histogram2dcontour": [
           {
            "colorbar": {
             "outlinewidth": 0,
             "ticks": ""
            },
            "colorscale": [
             [
              0,
              "#0d0887"
             ],
             [
              0.1111111111111111,
              "#46039f"
             ],
             [
              0.2222222222222222,
              "#7201a8"
             ],
             [
              0.3333333333333333,
              "#9c179e"
             ],
             [
              0.4444444444444444,
              "#bd3786"
             ],
             [
              0.5555555555555556,
              "#d8576b"
             ],
             [
              0.6666666666666666,
              "#ed7953"
             ],
             [
              0.7777777777777778,
              "#fb9f3a"
             ],
             [
              0.8888888888888888,
              "#fdca26"
             ],
             [
              1,
              "#f0f921"
             ]
            ],
            "type": "histogram2dcontour"
           }
          ],
          "mesh3d": [
           {
            "colorbar": {
             "outlinewidth": 0,
             "ticks": ""
            },
            "type": "mesh3d"
           }
          ],
          "parcoords": [
           {
            "line": {
             "colorbar": {
              "outlinewidth": 0,
              "ticks": ""
             }
            },
            "type": "parcoords"
           }
          ],
          "pie": [
           {
            "automargin": true,
            "type": "pie"
           }
          ],
          "scatter": [
           {
            "marker": {
             "colorbar": {
              "outlinewidth": 0,
              "ticks": ""
             }
            },
            "type": "scatter"
           }
          ],
          "scatter3d": [
           {
            "line": {
             "colorbar": {
              "outlinewidth": 0,
              "ticks": ""
             }
            },
            "marker": {
             "colorbar": {
              "outlinewidth": 0,
              "ticks": ""
             }
            },
            "type": "scatter3d"
           }
          ],
          "scattercarpet": [
           {
            "marker": {
             "colorbar": {
              "outlinewidth": 0,
              "ticks": ""
             }
            },
            "type": "scattercarpet"
           }
          ],
          "scattergeo": [
           {
            "marker": {
             "colorbar": {
              "outlinewidth": 0,
              "ticks": ""
             }
            },
            "type": "scattergeo"
           }
          ],
          "scattergl": [
           {
            "marker": {
             "colorbar": {
              "outlinewidth": 0,
              "ticks": ""
             }
            },
            "type": "scattergl"
           }
          ],
          "scattermapbox": [
           {
            "marker": {
             "colorbar": {
              "outlinewidth": 0,
              "ticks": ""
             }
            },
            "type": "scattermapbox"
           }
          ],
          "scatterpolar": [
           {
            "marker": {
             "colorbar": {
              "outlinewidth": 0,
              "ticks": ""
             }
            },
            "type": "scatterpolar"
           }
          ],
          "scatterpolargl": [
           {
            "marker": {
             "colorbar": {
              "outlinewidth": 0,
              "ticks": ""
             }
            },
            "type": "scatterpolargl"
           }
          ],
          "scatterternary": [
           {
            "marker": {
             "colorbar": {
              "outlinewidth": 0,
              "ticks": ""
             }
            },
            "type": "scatterternary"
           }
          ],
          "surface": [
           {
            "colorbar": {
             "outlinewidth": 0,
             "ticks": ""
            },
            "colorscale": [
             [
              0,
              "#0d0887"
             ],
             [
              0.1111111111111111,
              "#46039f"
             ],
             [
              0.2222222222222222,
              "#7201a8"
             ],
             [
              0.3333333333333333,
              "#9c179e"
             ],
             [
              0.4444444444444444,
              "#bd3786"
             ],
             [
              0.5555555555555556,
              "#d8576b"
             ],
             [
              0.6666666666666666,
              "#ed7953"
             ],
             [
              0.7777777777777778,
              "#fb9f3a"
             ],
             [
              0.8888888888888888,
              "#fdca26"
             ],
             [
              1,
              "#f0f921"
             ]
            ],
            "type": "surface"
           }
          ],
          "table": [
           {
            "cells": {
             "fill": {
              "color": "#EBF0F8"
             },
             "line": {
              "color": "white"
             }
            },
            "header": {
             "fill": {
              "color": "#C8D4E3"
             },
             "line": {
              "color": "white"
             }
            },
            "type": "table"
           }
          ]
         },
         "layout": {
          "annotationdefaults": {
           "arrowcolor": "#2a3f5f",
           "arrowhead": 0,
           "arrowwidth": 1
          },
          "coloraxis": {
           "colorbar": {
            "outlinewidth": 0,
            "ticks": ""
           }
          },
          "colorscale": {
           "diverging": [
            [
             0,
             "#8e0152"
            ],
            [
             0.1,
             "#c51b7d"
            ],
            [
             0.2,
             "#de77ae"
            ],
            [
             0.3,
             "#f1b6da"
            ],
            [
             0.4,
             "#fde0ef"
            ],
            [
             0.5,
             "#f7f7f7"
            ],
            [
             0.6,
             "#e6f5d0"
            ],
            [
             0.7,
             "#b8e186"
            ],
            [
             0.8,
             "#7fbc41"
            ],
            [
             0.9,
             "#4d9221"
            ],
            [
             1,
             "#276419"
            ]
           ],
           "sequential": [
            [
             0,
             "#0d0887"
            ],
            [
             0.1111111111111111,
             "#46039f"
            ],
            [
             0.2222222222222222,
             "#7201a8"
            ],
            [
             0.3333333333333333,
             "#9c179e"
            ],
            [
             0.4444444444444444,
             "#bd3786"
            ],
            [
             0.5555555555555556,
             "#d8576b"
            ],
            [
             0.6666666666666666,
             "#ed7953"
            ],
            [
             0.7777777777777778,
             "#fb9f3a"
            ],
            [
             0.8888888888888888,
             "#fdca26"
            ],
            [
             1,
             "#f0f921"
            ]
           ],
           "sequentialminus": [
            [
             0,
             "#0d0887"
            ],
            [
             0.1111111111111111,
             "#46039f"
            ],
            [
             0.2222222222222222,
             "#7201a8"
            ],
            [
             0.3333333333333333,
             "#9c179e"
            ],
            [
             0.4444444444444444,
             "#bd3786"
            ],
            [
             0.5555555555555556,
             "#d8576b"
            ],
            [
             0.6666666666666666,
             "#ed7953"
            ],
            [
             0.7777777777777778,
             "#fb9f3a"
            ],
            [
             0.8888888888888888,
             "#fdca26"
            ],
            [
             1,
             "#f0f921"
            ]
           ]
          },
          "colorway": [
           "#636efa",
           "#EF553B",
           "#00cc96",
           "#ab63fa",
           "#FFA15A",
           "#19d3f3",
           "#FF6692",
           "#B6E880",
           "#FF97FF",
           "#FECB52"
          ],
          "font": {
           "color": "#2a3f5f"
          },
          "geo": {
           "bgcolor": "white",
           "lakecolor": "white",
           "landcolor": "#E5ECF6",
           "showlakes": true,
           "showland": true,
           "subunitcolor": "white"
          },
          "hoverlabel": {
           "align": "left"
          },
          "hovermode": "closest",
          "mapbox": {
           "style": "light"
          },
          "paper_bgcolor": "white",
          "plot_bgcolor": "#E5ECF6",
          "polar": {
           "angularaxis": {
            "gridcolor": "white",
            "linecolor": "white",
            "ticks": ""
           },
           "bgcolor": "#E5ECF6",
           "radialaxis": {
            "gridcolor": "white",
            "linecolor": "white",
            "ticks": ""
           }
          },
          "scene": {
           "xaxis": {
            "backgroundcolor": "#E5ECF6",
            "gridcolor": "white",
            "gridwidth": 2,
            "linecolor": "white",
            "showbackground": true,
            "ticks": "",
            "zerolinecolor": "white"
           },
           "yaxis": {
            "backgroundcolor": "#E5ECF6",
            "gridcolor": "white",
            "gridwidth": 2,
            "linecolor": "white",
            "showbackground": true,
            "ticks": "",
            "zerolinecolor": "white"
           },
           "zaxis": {
            "backgroundcolor": "#E5ECF6",
            "gridcolor": "white",
            "gridwidth": 2,
            "linecolor": "white",
            "showbackground": true,
            "ticks": "",
            "zerolinecolor": "white"
           }
          },
          "shapedefaults": {
           "line": {
            "color": "#2a3f5f"
           }
          },
          "ternary": {
           "aaxis": {
            "gridcolor": "white",
            "linecolor": "white",
            "ticks": ""
           },
           "baxis": {
            "gridcolor": "white",
            "linecolor": "white",
            "ticks": ""
           },
           "bgcolor": "#E5ECF6",
           "caxis": {
            "gridcolor": "white",
            "linecolor": "white",
            "ticks": ""
           }
          },
          "title": {
           "x": 0.05
          },
          "xaxis": {
           "automargin": true,
           "gridcolor": "white",
           "linecolor": "white",
           "ticks": "",
           "title": {
            "standoff": 15
           },
           "zerolinecolor": "white",
           "zerolinewidth": 2
          },
          "yaxis": {
           "automargin": true,
           "gridcolor": "white",
           "linecolor": "white",
           "ticks": "",
           "title": {
            "standoff": 15
           },
           "zerolinecolor": "white",
           "zerolinewidth": 2
          }
         }
        },
        "title": {
         "text": "Pressure and Density during NPT Equilibration"
        },
        "xaxis": {
         "anchor": "y",
         "domain": [
          0,
          0.45
         ],
         "title": {
          "text": "Time (ps)"
         }
        },
        "xaxis2": {
         "anchor": "y2",
         "domain": [
          0.55,
          1
         ],
         "title": {
          "text": "Time (ps)"
         }
        },
        "yaxis": {
         "anchor": "x",
         "domain": [
          0,
          1
         ],
         "title": {
          "text": "Pressure (bar)"
         }
        },
        "yaxis2": {
         "anchor": "x2",
         "domain": [
          0,
          1
         ],
         "title": {
          "text": "Density (Kg*m^-3)"
         }
        }
       }
      },
      "text/html": [
       "<div>\n",
       "        \n",
       "        \n",
       "            <div id=\"d6899a75-fe55-4eb2-90b9-1f7451ccf724\" class=\"plotly-graph-div\" style=\"height:525px; width:100%;\"></div>\n",
       "            <script type=\"text/javascript\">\n",
       "                require([\"plotly\"], function(Plotly) {\n",
       "                    window.PLOTLYENV=window.PLOTLYENV || {};\n",
       "                    \n",
       "                if (document.getElementById(\"d6899a75-fe55-4eb2-90b9-1f7451ccf724\")) {\n",
       "                    Plotly.newPlot(\n",
       "                        'd6899a75-fe55-4eb2-90b9-1f7451ccf724',\n",
       "                        [{\"type\": \"scatter\", \"x\": [0.0, 5.0, 10.0], \"xaxis\": \"x\", \"y\": [149486.796875, 304.647461, 97.257004], \"yaxis\": \"y\"}, {\"type\": \"scatter\", \"x\": [0.0, 5.0, 10.0], \"xaxis\": \"x2\", \"y\": [1018.499634, 1021.365967, 1023.719055], \"yaxis\": \"y2\"}],\n",
       "                        {\"showlegend\": false, \"template\": {\"data\": {\"bar\": [{\"error_x\": {\"color\": \"#2a3f5f\"}, \"error_y\": {\"color\": \"#2a3f5f\"}, \"marker\": {\"line\": {\"color\": \"#E5ECF6\", \"width\": 0.5}}, \"type\": \"bar\"}], \"barpolar\": [{\"marker\": {\"line\": {\"color\": \"#E5ECF6\", \"width\": 0.5}}, \"type\": \"barpolar\"}], \"carpet\": [{\"aaxis\": {\"endlinecolor\": \"#2a3f5f\", \"gridcolor\": \"white\", \"linecolor\": \"white\", \"minorgridcolor\": \"white\", \"startlinecolor\": \"#2a3f5f\"}, \"baxis\": {\"endlinecolor\": \"#2a3f5f\", \"gridcolor\": \"white\", \"linecolor\": \"white\", \"minorgridcolor\": \"white\", \"startlinecolor\": \"#2a3f5f\"}, \"type\": \"carpet\"}], \"choropleth\": [{\"colorbar\": {\"outlinewidth\": 0, \"ticks\": \"\"}, \"type\": \"choropleth\"}], \"contour\": [{\"colorbar\": {\"outlinewidth\": 0, \"ticks\": \"\"}, \"colorscale\": [[0.0, \"#0d0887\"], [0.1111111111111111, \"#46039f\"], [0.2222222222222222, \"#7201a8\"], [0.3333333333333333, \"#9c179e\"], [0.4444444444444444, \"#bd3786\"], [0.5555555555555556, \"#d8576b\"], [0.6666666666666666, \"#ed7953\"], [0.7777777777777778, \"#fb9f3a\"], [0.8888888888888888, \"#fdca26\"], [1.0, \"#f0f921\"]], \"type\": \"contour\"}], \"contourcarpet\": [{\"colorbar\": {\"outlinewidth\": 0, \"ticks\": \"\"}, \"type\": \"contourcarpet\"}], \"heatmap\": [{\"colorbar\": {\"outlinewidth\": 0, \"ticks\": \"\"}, \"colorscale\": [[0.0, \"#0d0887\"], [0.1111111111111111, \"#46039f\"], [0.2222222222222222, \"#7201a8\"], [0.3333333333333333, \"#9c179e\"], [0.4444444444444444, \"#bd3786\"], [0.5555555555555556, \"#d8576b\"], [0.6666666666666666, \"#ed7953\"], [0.7777777777777778, \"#fb9f3a\"], [0.8888888888888888, \"#fdca26\"], [1.0, \"#f0f921\"]], \"type\": \"heatmap\"}], \"heatmapgl\": [{\"colorbar\": {\"outlinewidth\": 0, \"ticks\": \"\"}, \"colorscale\": [[0.0, \"#0d0887\"], [0.1111111111111111, \"#46039f\"], [0.2222222222222222, \"#7201a8\"], [0.3333333333333333, \"#9c179e\"], [0.4444444444444444, \"#bd3786\"], [0.5555555555555556, \"#d8576b\"], [0.6666666666666666, \"#ed7953\"], [0.7777777777777778, \"#fb9f3a\"], [0.8888888888888888, \"#fdca26\"], [1.0, \"#f0f921\"]], \"type\": \"heatmapgl\"}], \"histogram\": [{\"marker\": {\"colorbar\": {\"outlinewidth\": 0, \"ticks\": \"\"}}, \"type\": \"histogram\"}], \"histogram2d\": [{\"colorbar\": {\"outlinewidth\": 0, \"ticks\": \"\"}, \"colorscale\": [[0.0, \"#0d0887\"], [0.1111111111111111, \"#46039f\"], [0.2222222222222222, \"#7201a8\"], [0.3333333333333333, \"#9c179e\"], [0.4444444444444444, \"#bd3786\"], [0.5555555555555556, \"#d8576b\"], [0.6666666666666666, \"#ed7953\"], [0.7777777777777778, \"#fb9f3a\"], [0.8888888888888888, \"#fdca26\"], [1.0, \"#f0f921\"]], \"type\": \"histogram2d\"}], \"histogram2dcontour\": [{\"colorbar\": {\"outlinewidth\": 0, \"ticks\": \"\"}, \"colorscale\": [[0.0, \"#0d0887\"], [0.1111111111111111, \"#46039f\"], [0.2222222222222222, \"#7201a8\"], [0.3333333333333333, \"#9c179e\"], [0.4444444444444444, \"#bd3786\"], [0.5555555555555556, \"#d8576b\"], [0.6666666666666666, \"#ed7953\"], [0.7777777777777778, \"#fb9f3a\"], [0.8888888888888888, \"#fdca26\"], [1.0, \"#f0f921\"]], \"type\": \"histogram2dcontour\"}], \"mesh3d\": [{\"colorbar\": {\"outlinewidth\": 0, \"ticks\": \"\"}, \"type\": \"mesh3d\"}], \"parcoords\": [{\"line\": {\"colorbar\": {\"outlinewidth\": 0, \"ticks\": \"\"}}, \"type\": \"parcoords\"}], \"pie\": [{\"automargin\": true, \"type\": \"pie\"}], \"scatter\": [{\"marker\": {\"colorbar\": {\"outlinewidth\": 0, \"ticks\": \"\"}}, \"type\": \"scatter\"}], \"scatter3d\": [{\"line\": {\"colorbar\": {\"outlinewidth\": 0, \"ticks\": \"\"}}, \"marker\": {\"colorbar\": {\"outlinewidth\": 0, \"ticks\": \"\"}}, \"type\": \"scatter3d\"}], \"scattercarpet\": [{\"marker\": {\"colorbar\": {\"outlinewidth\": 0, \"ticks\": \"\"}}, \"type\": \"scattercarpet\"}], \"scattergeo\": [{\"marker\": {\"colorbar\": {\"outlinewidth\": 0, \"ticks\": \"\"}}, \"type\": \"scattergeo\"}], \"scattergl\": [{\"marker\": {\"colorbar\": {\"outlinewidth\": 0, \"ticks\": \"\"}}, \"type\": \"scattergl\"}], \"scattermapbox\": [{\"marker\": {\"colorbar\": {\"outlinewidth\": 0, \"ticks\": \"\"}}, \"type\": \"scattermapbox\"}], \"scatterpolar\": [{\"marker\": {\"colorbar\": {\"outlinewidth\": 0, \"ticks\": \"\"}}, \"type\": \"scatterpolar\"}], \"scatterpolargl\": [{\"marker\": {\"colorbar\": {\"outlinewidth\": 0, \"ticks\": \"\"}}, \"type\": \"scatterpolargl\"}], \"scatterternary\": [{\"marker\": {\"colorbar\": {\"outlinewidth\": 0, \"ticks\": \"\"}}, \"type\": \"scatterternary\"}], \"surface\": [{\"colorbar\": {\"outlinewidth\": 0, \"ticks\": \"\"}, \"colorscale\": [[0.0, \"#0d0887\"], [0.1111111111111111, \"#46039f\"], [0.2222222222222222, \"#7201a8\"], [0.3333333333333333, \"#9c179e\"], [0.4444444444444444, \"#bd3786\"], [0.5555555555555556, \"#d8576b\"], [0.6666666666666666, \"#ed7953\"], [0.7777777777777778, \"#fb9f3a\"], [0.8888888888888888, \"#fdca26\"], [1.0, \"#f0f921\"]], \"type\": \"surface\"}], \"table\": [{\"cells\": {\"fill\": {\"color\": \"#EBF0F8\"}, \"line\": {\"color\": \"white\"}}, \"header\": {\"fill\": {\"color\": \"#C8D4E3\"}, \"line\": {\"color\": \"white\"}}, \"type\": \"table\"}]}, \"layout\": {\"annotationdefaults\": {\"arrowcolor\": \"#2a3f5f\", \"arrowhead\": 0, \"arrowwidth\": 1}, \"coloraxis\": {\"colorbar\": {\"outlinewidth\": 0, \"ticks\": \"\"}}, \"colorscale\": {\"diverging\": [[0, \"#8e0152\"], [0.1, \"#c51b7d\"], [0.2, \"#de77ae\"], [0.3, \"#f1b6da\"], [0.4, \"#fde0ef\"], [0.5, \"#f7f7f7\"], [0.6, \"#e6f5d0\"], [0.7, \"#b8e186\"], [0.8, \"#7fbc41\"], [0.9, \"#4d9221\"], [1, \"#276419\"]], \"sequential\": [[0.0, \"#0d0887\"], [0.1111111111111111, \"#46039f\"], [0.2222222222222222, \"#7201a8\"], [0.3333333333333333, \"#9c179e\"], [0.4444444444444444, \"#bd3786\"], [0.5555555555555556, \"#d8576b\"], [0.6666666666666666, \"#ed7953\"], [0.7777777777777778, \"#fb9f3a\"], [0.8888888888888888, \"#fdca26\"], [1.0, \"#f0f921\"]], \"sequentialminus\": [[0.0, \"#0d0887\"], [0.1111111111111111, \"#46039f\"], [0.2222222222222222, \"#7201a8\"], [0.3333333333333333, \"#9c179e\"], [0.4444444444444444, \"#bd3786\"], [0.5555555555555556, \"#d8576b\"], [0.6666666666666666, \"#ed7953\"], [0.7777777777777778, \"#fb9f3a\"], [0.8888888888888888, \"#fdca26\"], [1.0, \"#f0f921\"]]}, \"colorway\": [\"#636efa\", \"#EF553B\", \"#00cc96\", \"#ab63fa\", \"#FFA15A\", \"#19d3f3\", \"#FF6692\", \"#B6E880\", \"#FF97FF\", \"#FECB52\"], \"font\": {\"color\": \"#2a3f5f\"}, \"geo\": {\"bgcolor\": \"white\", \"lakecolor\": \"white\", \"landcolor\": \"#E5ECF6\", \"showlakes\": true, \"showland\": true, \"subunitcolor\": \"white\"}, \"hoverlabel\": {\"align\": \"left\"}, \"hovermode\": \"closest\", \"mapbox\": {\"style\": \"light\"}, \"paper_bgcolor\": \"white\", \"plot_bgcolor\": \"#E5ECF6\", \"polar\": {\"angularaxis\": {\"gridcolor\": \"white\", \"linecolor\": \"white\", \"ticks\": \"\"}, \"bgcolor\": \"#E5ECF6\", \"radialaxis\": {\"gridcolor\": \"white\", \"linecolor\": \"white\", \"ticks\": \"\"}}, \"scene\": {\"xaxis\": {\"backgroundcolor\": \"#E5ECF6\", \"gridcolor\": \"white\", \"gridwidth\": 2, \"linecolor\": \"white\", \"showbackground\": true, \"ticks\": \"\", \"zerolinecolor\": \"white\"}, \"yaxis\": {\"backgroundcolor\": \"#E5ECF6\", \"gridcolor\": \"white\", \"gridwidth\": 2, \"linecolor\": \"white\", \"showbackground\": true, \"ticks\": \"\", \"zerolinecolor\": \"white\"}, \"zaxis\": {\"backgroundcolor\": \"#E5ECF6\", \"gridcolor\": \"white\", \"gridwidth\": 2, \"linecolor\": \"white\", \"showbackground\": true, \"ticks\": \"\", \"zerolinecolor\": \"white\"}}, \"shapedefaults\": {\"line\": {\"color\": \"#2a3f5f\"}}, \"ternary\": {\"aaxis\": {\"gridcolor\": \"white\", \"linecolor\": \"white\", \"ticks\": \"\"}, \"baxis\": {\"gridcolor\": \"white\", \"linecolor\": \"white\", \"ticks\": \"\"}, \"bgcolor\": \"#E5ECF6\", \"caxis\": {\"gridcolor\": \"white\", \"linecolor\": \"white\", \"ticks\": \"\"}}, \"title\": {\"x\": 0.05}, \"xaxis\": {\"automargin\": true, \"gridcolor\": \"white\", \"linecolor\": \"white\", \"ticks\": \"\", \"title\": {\"standoff\": 15}, \"zerolinecolor\": \"white\", \"zerolinewidth\": 2}, \"yaxis\": {\"automargin\": true, \"gridcolor\": \"white\", \"linecolor\": \"white\", \"ticks\": \"\", \"title\": {\"standoff\": 15}, \"zerolinecolor\": \"white\", \"zerolinewidth\": 2}}}, \"title\": {\"text\": \"Pressure and Density during NPT Equilibration\"}, \"xaxis\": {\"anchor\": \"y\", \"domain\": [0.0, 0.45], \"title\": {\"text\": \"Time (ps)\"}}, \"xaxis2\": {\"anchor\": \"y2\", \"domain\": [0.55, 1.0], \"title\": {\"text\": \"Time (ps)\"}}, \"yaxis\": {\"anchor\": \"x\", \"domain\": [0.0, 1.0], \"title\": {\"text\": \"Pressure (bar)\"}}, \"yaxis2\": {\"anchor\": \"x2\", \"domain\": [0.0, 1.0], \"title\": {\"text\": \"Density (Kg*m^-3)\"}}},\n",
       "                        {\"responsive\": true}\n",
       "                    ).then(function(){\n",
       "                            \n",
       "var gd = document.getElementById('d6899a75-fe55-4eb2-90b9-1f7451ccf724');\n",
       "var x = new MutationObserver(function (mutations, observer) {{\n",
       "        var display = window.getComputedStyle(gd).display;\n",
       "        if (!display || display === 'none') {{\n",
       "            console.log([gd, 'removed!']);\n",
       "            Plotly.purge(gd);\n",
       "            observer.disconnect();\n",
       "        }}\n",
       "}});\n",
       "\n",
       "// Listen for the removal of the full notebook cells\n",
       "var notebookContainer = gd.closest('#notebook-container');\n",
       "if (notebookContainer) {{\n",
       "    x.observe(notebookContainer, {childList: true});\n",
       "}}\n",
       "\n",
       "// Listen for the clearing of the current output cell\n",
       "var outputEl = gd.closest('.output');\n",
       "if (outputEl) {{\n",
       "    x.observe(outputEl, {childList: true});\n",
       "}}\n",
       "\n",
       "                        })\n",
       "                };\n",
       "                });\n",
       "            </script>\n",
       "        </div>"
      ]
     },
     "metadata": {},
     "output_type": "display_data"
    }
   ],
   "source": [
    "import plotly\n",
    "from plotly import subplots\n",
    "import plotly.graph_objs as go\n",
    "\n",
    "# Read pressure and density data from file \n",
    "with open(output_eqA_pd_xvg,'r') as pd_file:\n",
    "    x,y,z = map(\n",
    "        list,\n",
    "        zip(*[\n",
    "            (float(line.split()[0]),float(line.split()[1]),float(line.split()[2]))\n",
    "            for line in pd_file \n",
    "            if not line.startswith((\"#\",\"@\")) \n",
    "        ])\n",
    "    )\n",
    "\n",
    "plotly.offline.init_notebook_mode(connected=True)\n",
    "\n",
    "trace1 = go.Scatter(\n",
    "    x=x,y=y\n",
    ")\n",
    "trace2 = go.Scatter(\n",
    "    x=x,y=z\n",
    ")\n",
    "\n",
    "fig = subplots.make_subplots(rows=1, cols=2, print_grid=False)\n",
    "\n",
    "fig.append_trace(trace1, 1, 1)\n",
    "fig.append_trace(trace2, 1, 2)\n",
    "\n",
    "fig['layout']['xaxis1'].update(title='Time (ps)')\n",
    "fig['layout']['xaxis2'].update(title='Time (ps)')\n",
    "fig['layout']['yaxis1'].update(title='Pressure (bar)')\n",
    "fig['layout']['yaxis2'].update(title='Density (Kg*m^-3)')\n",
    "\n",
    "fig['layout'].update(title='Pressure and Density during NPT Equilibration')\n",
    "fig['layout'].update(showlegend=False)\n",
    "\n",
    "plotly.offline.iplot(fig)"
   ]
  },
  {
   "cell_type": "code",
   "execution_count": 18,
   "metadata": {},
   "outputs": [
    {
     "data": {
      "text/html": [
       "        <script type=\"text/javascript\">\n",
       "        window.PlotlyConfig = {MathJaxConfig: 'local'};\n",
       "        if (window.MathJax) {MathJax.Hub.Config({SVG: {font: \"STIX-Web\"}});}\n",
       "        if (typeof require !== 'undefined') {\n",
       "        require.undef(\"plotly\");\n",
       "        requirejs.config({\n",
       "            paths: {\n",
       "                'plotly': ['https://cdn.plot.ly/plotly-latest.min']\n",
       "            }\n",
       "        });\n",
       "        require(['plotly'], function(Plotly) {\n",
       "            window._Plotly = Plotly;\n",
       "        });\n",
       "        }\n",
       "        </script>\n",
       "        "
      ]
     },
     "metadata": {},
     "output_type": "display_data"
    },
    {
     "data": {
      "application/vnd.plotly.v1+json": {
       "config": {
        "linkText": "Export to plot.ly",
        "plotlyServerURL": "https://plot.ly",
        "showLink": false
       },
       "data": [
        {
         "type": "scatter",
         "x": [
          0,
          5,
          10
         ],
         "xaxis": "x",
         "y": [
          -3419.433594,
          -178.264313,
          -162.31665
         ],
         "yaxis": "y"
        },
        {
         "type": "scatter",
         "x": [
          0,
          5,
          10
         ],
         "xaxis": "x2",
         "y": [
          1020.489685,
          1023.14563,
          1023.968567
         ],
         "yaxis": "y2"
        }
       ],
       "layout": {
        "showlegend": false,
        "template": {
         "data": {
          "bar": [
           {
            "error_x": {
             "color": "#2a3f5f"
            },
            "error_y": {
             "color": "#2a3f5f"
            },
            "marker": {
             "line": {
              "color": "#E5ECF6",
              "width": 0.5
             }
            },
            "type": "bar"
           }
          ],
          "barpolar": [
           {
            "marker": {
             "line": {
              "color": "#E5ECF6",
              "width": 0.5
             }
            },
            "type": "barpolar"
           }
          ],
          "carpet": [
           {
            "aaxis": {
             "endlinecolor": "#2a3f5f",
             "gridcolor": "white",
             "linecolor": "white",
             "minorgridcolor": "white",
             "startlinecolor": "#2a3f5f"
            },
            "baxis": {
             "endlinecolor": "#2a3f5f",
             "gridcolor": "white",
             "linecolor": "white",
             "minorgridcolor": "white",
             "startlinecolor": "#2a3f5f"
            },
            "type": "carpet"
           }
          ],
          "choropleth": [
           {
            "colorbar": {
             "outlinewidth": 0,
             "ticks": ""
            },
            "type": "choropleth"
           }
          ],
          "contour": [
           {
            "colorbar": {
             "outlinewidth": 0,
             "ticks": ""
            },
            "colorscale": [
             [
              0,
              "#0d0887"
             ],
             [
              0.1111111111111111,
              "#46039f"
             ],
             [
              0.2222222222222222,
              "#7201a8"
             ],
             [
              0.3333333333333333,
              "#9c179e"
             ],
             [
              0.4444444444444444,
              "#bd3786"
             ],
             [
              0.5555555555555556,
              "#d8576b"
             ],
             [
              0.6666666666666666,
              "#ed7953"
             ],
             [
              0.7777777777777778,
              "#fb9f3a"
             ],
             [
              0.8888888888888888,
              "#fdca26"
             ],
             [
              1,
              "#f0f921"
             ]
            ],
            "type": "contour"
           }
          ],
          "contourcarpet": [
           {
            "colorbar": {
             "outlinewidth": 0,
             "ticks": ""
            },
            "type": "contourcarpet"
           }
          ],
          "heatmap": [
           {
            "colorbar": {
             "outlinewidth": 0,
             "ticks": ""
            },
            "colorscale": [
             [
              0,
              "#0d0887"
             ],
             [
              0.1111111111111111,
              "#46039f"
             ],
             [
              0.2222222222222222,
              "#7201a8"
             ],
             [
              0.3333333333333333,
              "#9c179e"
             ],
             [
              0.4444444444444444,
              "#bd3786"
             ],
             [
              0.5555555555555556,
              "#d8576b"
             ],
             [
              0.6666666666666666,
              "#ed7953"
             ],
             [
              0.7777777777777778,
              "#fb9f3a"
             ],
             [
              0.8888888888888888,
              "#fdca26"
             ],
             [
              1,
              "#f0f921"
             ]
            ],
            "type": "heatmap"
           }
          ],
          "heatmapgl": [
           {
            "colorbar": {
             "outlinewidth": 0,
             "ticks": ""
            },
            "colorscale": [
             [
              0,
              "#0d0887"
             ],
             [
              0.1111111111111111,
              "#46039f"
             ],
             [
              0.2222222222222222,
              "#7201a8"
             ],
             [
              0.3333333333333333,
              "#9c179e"
             ],
             [
              0.4444444444444444,
              "#bd3786"
             ],
             [
              0.5555555555555556,
              "#d8576b"
             ],
             [
              0.6666666666666666,
              "#ed7953"
             ],
             [
              0.7777777777777778,
              "#fb9f3a"
             ],
             [
              0.8888888888888888,
              "#fdca26"
             ],
             [
              1,
              "#f0f921"
             ]
            ],
            "type": "heatmapgl"
           }
          ],
          "histogram": [
           {
            "marker": {
             "colorbar": {
              "outlinewidth": 0,
              "ticks": ""
             }
            },
            "type": "histogram"
           }
          ],
          "histogram2d": [
           {
            "colorbar": {
             "outlinewidth": 0,
             "ticks": ""
            },
            "colorscale": [
             [
              0,
              "#0d0887"
             ],
             [
              0.1111111111111111,
              "#46039f"
             ],
             [
              0.2222222222222222,
              "#7201a8"
             ],
             [
              0.3333333333333333,
              "#9c179e"
             ],
             [
              0.4444444444444444,
              "#bd3786"
             ],
             [
              0.5555555555555556,
              "#d8576b"
             ],
             [
              0.6666666666666666,
              "#ed7953"
             ],
             [
              0.7777777777777778,
              "#fb9f3a"
             ],
             [
              0.8888888888888888,
              "#fdca26"
             ],
             [
              1,
              "#f0f921"
             ]
            ],
            "type": "histogram2d"
           }
          ],
          "histogram2dcontour": [
           {
            "colorbar": {
             "outlinewidth": 0,
             "ticks": ""
            },
            "colorscale": [
             [
              0,
              "#0d0887"
             ],
             [
              0.1111111111111111,
              "#46039f"
             ],
             [
              0.2222222222222222,
              "#7201a8"
             ],
             [
              0.3333333333333333,
              "#9c179e"
             ],
             [
              0.4444444444444444,
              "#bd3786"
             ],
             [
              0.5555555555555556,
              "#d8576b"
             ],
             [
              0.6666666666666666,
              "#ed7953"
             ],
             [
              0.7777777777777778,
              "#fb9f3a"
             ],
             [
              0.8888888888888888,
              "#fdca26"
             ],
             [
              1,
              "#f0f921"
             ]
            ],
            "type": "histogram2dcontour"
           }
          ],
          "mesh3d": [
           {
            "colorbar": {
             "outlinewidth": 0,
             "ticks": ""
            },
            "type": "mesh3d"
           }
          ],
          "parcoords": [
           {
            "line": {
             "colorbar": {
              "outlinewidth": 0,
              "ticks": ""
             }
            },
            "type": "parcoords"
           }
          ],
          "pie": [
           {
            "automargin": true,
            "type": "pie"
           }
          ],
          "scatter": [
           {
            "marker": {
             "colorbar": {
              "outlinewidth": 0,
              "ticks": ""
             }
            },
            "type": "scatter"
           }
          ],
          "scatter3d": [
           {
            "line": {
             "colorbar": {
              "outlinewidth": 0,
              "ticks": ""
             }
            },
            "marker": {
             "colorbar": {
              "outlinewidth": 0,
              "ticks": ""
             }
            },
            "type": "scatter3d"
           }
          ],
          "scattercarpet": [
           {
            "marker": {
             "colorbar": {
              "outlinewidth": 0,
              "ticks": ""
             }
            },
            "type": "scattercarpet"
           }
          ],
          "scattergeo": [
           {
            "marker": {
             "colorbar": {
              "outlinewidth": 0,
              "ticks": ""
             }
            },
            "type": "scattergeo"
           }
          ],
          "scattergl": [
           {
            "marker": {
             "colorbar": {
              "outlinewidth": 0,
              "ticks": ""
             }
            },
            "type": "scattergl"
           }
          ],
          "scattermapbox": [
           {
            "marker": {
             "colorbar": {
              "outlinewidth": 0,
              "ticks": ""
             }
            },
            "type": "scattermapbox"
           }
          ],
          "scatterpolar": [
           {
            "marker": {
             "colorbar": {
              "outlinewidth": 0,
              "ticks": ""
             }
            },
            "type": "scatterpolar"
           }
          ],
          "scatterpolargl": [
           {
            "marker": {
             "colorbar": {
              "outlinewidth": 0,
              "ticks": ""
             }
            },
            "type": "scatterpolargl"
           }
          ],
          "scatterternary": [
           {
            "marker": {
             "colorbar": {
              "outlinewidth": 0,
              "ticks": ""
             }
            },
            "type": "scatterternary"
           }
          ],
          "surface": [
           {
            "colorbar": {
             "outlinewidth": 0,
             "ticks": ""
            },
            "colorscale": [
             [
              0,
              "#0d0887"
             ],
             [
              0.1111111111111111,
              "#46039f"
             ],
             [
              0.2222222222222222,
              "#7201a8"
             ],
             [
              0.3333333333333333,
              "#9c179e"
             ],
             [
              0.4444444444444444,
              "#bd3786"
             ],
             [
              0.5555555555555556,
              "#d8576b"
             ],
             [
              0.6666666666666666,
              "#ed7953"
             ],
             [
              0.7777777777777778,
              "#fb9f3a"
             ],
             [
              0.8888888888888888,
              "#fdca26"
             ],
             [
              1,
              "#f0f921"
             ]
            ],
            "type": "surface"
           }
          ],
          "table": [
           {
            "cells": {
             "fill": {
              "color": "#EBF0F8"
             },
             "line": {
              "color": "white"
             }
            },
            "header": {
             "fill": {
              "color": "#C8D4E3"
             },
             "line": {
              "color": "white"
             }
            },
            "type": "table"
           }
          ]
         },
         "layout": {
          "annotationdefaults": {
           "arrowcolor": "#2a3f5f",
           "arrowhead": 0,
           "arrowwidth": 1
          },
          "coloraxis": {
           "colorbar": {
            "outlinewidth": 0,
            "ticks": ""
           }
          },
          "colorscale": {
           "diverging": [
            [
             0,
             "#8e0152"
            ],
            [
             0.1,
             "#c51b7d"
            ],
            [
             0.2,
             "#de77ae"
            ],
            [
             0.3,
             "#f1b6da"
            ],
            [
             0.4,
             "#fde0ef"
            ],
            [
             0.5,
             "#f7f7f7"
            ],
            [
             0.6,
             "#e6f5d0"
            ],
            [
             0.7,
             "#b8e186"
            ],
            [
             0.8,
             "#7fbc41"
            ],
            [
             0.9,
             "#4d9221"
            ],
            [
             1,
             "#276419"
            ]
           ],
           "sequential": [
            [
             0,
             "#0d0887"
            ],
            [
             0.1111111111111111,
             "#46039f"
            ],
            [
             0.2222222222222222,
             "#7201a8"
            ],
            [
             0.3333333333333333,
             "#9c179e"
            ],
            [
             0.4444444444444444,
             "#bd3786"
            ],
            [
             0.5555555555555556,
             "#d8576b"
            ],
            [
             0.6666666666666666,
             "#ed7953"
            ],
            [
             0.7777777777777778,
             "#fb9f3a"
            ],
            [
             0.8888888888888888,
             "#fdca26"
            ],
            [
             1,
             "#f0f921"
            ]
           ],
           "sequentialminus": [
            [
             0,
             "#0d0887"
            ],
            [
             0.1111111111111111,
             "#46039f"
            ],
            [
             0.2222222222222222,
             "#7201a8"
            ],
            [
             0.3333333333333333,
             "#9c179e"
            ],
            [
             0.4444444444444444,
             "#bd3786"
            ],
            [
             0.5555555555555556,
             "#d8576b"
            ],
            [
             0.6666666666666666,
             "#ed7953"
            ],
            [
             0.7777777777777778,
             "#fb9f3a"
            ],
            [
             0.8888888888888888,
             "#fdca26"
            ],
            [
             1,
             "#f0f921"
            ]
           ]
          },
          "colorway": [
           "#636efa",
           "#EF553B",
           "#00cc96",
           "#ab63fa",
           "#FFA15A",
           "#19d3f3",
           "#FF6692",
           "#B6E880",
           "#FF97FF",
           "#FECB52"
          ],
          "font": {
           "color": "#2a3f5f"
          },
          "geo": {
           "bgcolor": "white",
           "lakecolor": "white",
           "landcolor": "#E5ECF6",
           "showlakes": true,
           "showland": true,
           "subunitcolor": "white"
          },
          "hoverlabel": {
           "align": "left"
          },
          "hovermode": "closest",
          "mapbox": {
           "style": "light"
          },
          "paper_bgcolor": "white",
          "plot_bgcolor": "#E5ECF6",
          "polar": {
           "angularaxis": {
            "gridcolor": "white",
            "linecolor": "white",
            "ticks": ""
           },
           "bgcolor": "#E5ECF6",
           "radialaxis": {
            "gridcolor": "white",
            "linecolor": "white",
            "ticks": ""
           }
          },
          "scene": {
           "xaxis": {
            "backgroundcolor": "#E5ECF6",
            "gridcolor": "white",
            "gridwidth": 2,
            "linecolor": "white",
            "showbackground": true,
            "ticks": "",
            "zerolinecolor": "white"
           },
           "yaxis": {
            "backgroundcolor": "#E5ECF6",
            "gridcolor": "white",
            "gridwidth": 2,
            "linecolor": "white",
            "showbackground": true,
            "ticks": "",
            "zerolinecolor": "white"
           },
           "zaxis": {
            "backgroundcolor": "#E5ECF6",
            "gridcolor": "white",
            "gridwidth": 2,
            "linecolor": "white",
            "showbackground": true,
            "ticks": "",
            "zerolinecolor": "white"
           }
          },
          "shapedefaults": {
           "line": {
            "color": "#2a3f5f"
           }
          },
          "ternary": {
           "aaxis": {
            "gridcolor": "white",
            "linecolor": "white",
            "ticks": ""
           },
           "baxis": {
            "gridcolor": "white",
            "linecolor": "white",
            "ticks": ""
           },
           "bgcolor": "#E5ECF6",
           "caxis": {
            "gridcolor": "white",
            "linecolor": "white",
            "ticks": ""
           }
          },
          "title": {
           "x": 0.05
          },
          "xaxis": {
           "automargin": true,
           "gridcolor": "white",
           "linecolor": "white",
           "ticks": "",
           "title": {
            "standoff": 15
           },
           "zerolinecolor": "white",
           "zerolinewidth": 2
          },
          "yaxis": {
           "automargin": true,
           "gridcolor": "white",
           "linecolor": "white",
           "ticks": "",
           "title": {
            "standoff": 15
           },
           "zerolinecolor": "white",
           "zerolinewidth": 2
          }
         }
        },
        "title": {
         "text": "Pressure and Density during NPT Equilibration"
        },
        "xaxis": {
         "anchor": "y",
         "domain": [
          0,
          0.45
         ],
         "title": {
          "text": "Time (ps)"
         }
        },
        "xaxis2": {
         "anchor": "y2",
         "domain": [
          0.55,
          1
         ],
         "title": {
          "text": "Time (ps)"
         }
        },
        "yaxis": {
         "anchor": "x",
         "domain": [
          0,
          1
         ],
         "title": {
          "text": "Pressure (bar)"
         }
        },
        "yaxis2": {
         "anchor": "x2",
         "domain": [
          0,
          1
         ],
         "title": {
          "text": "Density (Kg*m^-3)"
         }
        }
       }
      },
      "text/html": [
       "<div>\n",
       "        \n",
       "        \n",
       "            <div id=\"56b22eaf-ae3f-4da5-b15c-dee59fa245c5\" class=\"plotly-graph-div\" style=\"height:525px; width:100%;\"></div>\n",
       "            <script type=\"text/javascript\">\n",
       "                require([\"plotly\"], function(Plotly) {\n",
       "                    window.PLOTLYENV=window.PLOTLYENV || {};\n",
       "                    \n",
       "                if (document.getElementById(\"56b22eaf-ae3f-4da5-b15c-dee59fa245c5\")) {\n",
       "                    Plotly.newPlot(\n",
       "                        '56b22eaf-ae3f-4da5-b15c-dee59fa245c5',\n",
       "                        [{\"type\": \"scatter\", \"x\": [0.0, 5.0, 10.0], \"xaxis\": \"x\", \"y\": [-3419.433594, -178.264313, -162.31665], \"yaxis\": \"y\"}, {\"type\": \"scatter\", \"x\": [0.0, 5.0, 10.0], \"xaxis\": \"x2\", \"y\": [1020.489685, 1023.14563, 1023.968567], \"yaxis\": \"y2\"}],\n",
       "                        {\"showlegend\": false, \"template\": {\"data\": {\"bar\": [{\"error_x\": {\"color\": \"#2a3f5f\"}, \"error_y\": {\"color\": \"#2a3f5f\"}, \"marker\": {\"line\": {\"color\": \"#E5ECF6\", \"width\": 0.5}}, \"type\": \"bar\"}], \"barpolar\": [{\"marker\": {\"line\": {\"color\": \"#E5ECF6\", \"width\": 0.5}}, \"type\": \"barpolar\"}], \"carpet\": [{\"aaxis\": {\"endlinecolor\": \"#2a3f5f\", \"gridcolor\": \"white\", \"linecolor\": \"white\", \"minorgridcolor\": \"white\", \"startlinecolor\": \"#2a3f5f\"}, \"baxis\": {\"endlinecolor\": \"#2a3f5f\", \"gridcolor\": \"white\", \"linecolor\": \"white\", \"minorgridcolor\": \"white\", \"startlinecolor\": \"#2a3f5f\"}, \"type\": \"carpet\"}], \"choropleth\": [{\"colorbar\": {\"outlinewidth\": 0, \"ticks\": \"\"}, \"type\": \"choropleth\"}], \"contour\": [{\"colorbar\": {\"outlinewidth\": 0, \"ticks\": \"\"}, \"colorscale\": [[0.0, \"#0d0887\"], [0.1111111111111111, \"#46039f\"], [0.2222222222222222, \"#7201a8\"], [0.3333333333333333, \"#9c179e\"], [0.4444444444444444, \"#bd3786\"], [0.5555555555555556, \"#d8576b\"], [0.6666666666666666, \"#ed7953\"], [0.7777777777777778, \"#fb9f3a\"], [0.8888888888888888, \"#fdca26\"], [1.0, \"#f0f921\"]], \"type\": \"contour\"}], \"contourcarpet\": [{\"colorbar\": {\"outlinewidth\": 0, \"ticks\": \"\"}, \"type\": \"contourcarpet\"}], \"heatmap\": [{\"colorbar\": {\"outlinewidth\": 0, \"ticks\": \"\"}, \"colorscale\": [[0.0, \"#0d0887\"], [0.1111111111111111, \"#46039f\"], [0.2222222222222222, \"#7201a8\"], [0.3333333333333333, \"#9c179e\"], [0.4444444444444444, \"#bd3786\"], [0.5555555555555556, \"#d8576b\"], [0.6666666666666666, \"#ed7953\"], [0.7777777777777778, \"#fb9f3a\"], [0.8888888888888888, \"#fdca26\"], [1.0, \"#f0f921\"]], \"type\": \"heatmap\"}], \"heatmapgl\": [{\"colorbar\": {\"outlinewidth\": 0, \"ticks\": \"\"}, \"colorscale\": [[0.0, \"#0d0887\"], [0.1111111111111111, \"#46039f\"], [0.2222222222222222, \"#7201a8\"], [0.3333333333333333, \"#9c179e\"], [0.4444444444444444, \"#bd3786\"], [0.5555555555555556, \"#d8576b\"], [0.6666666666666666, \"#ed7953\"], [0.7777777777777778, \"#fb9f3a\"], [0.8888888888888888, \"#fdca26\"], [1.0, \"#f0f921\"]], \"type\": \"heatmapgl\"}], \"histogram\": [{\"marker\": {\"colorbar\": {\"outlinewidth\": 0, \"ticks\": \"\"}}, \"type\": \"histogram\"}], \"histogram2d\": [{\"colorbar\": {\"outlinewidth\": 0, \"ticks\": \"\"}, \"colorscale\": [[0.0, \"#0d0887\"], [0.1111111111111111, \"#46039f\"], [0.2222222222222222, \"#7201a8\"], [0.3333333333333333, \"#9c179e\"], [0.4444444444444444, \"#bd3786\"], [0.5555555555555556, \"#d8576b\"], [0.6666666666666666, \"#ed7953\"], [0.7777777777777778, \"#fb9f3a\"], [0.8888888888888888, \"#fdca26\"], [1.0, \"#f0f921\"]], \"type\": \"histogram2d\"}], \"histogram2dcontour\": [{\"colorbar\": {\"outlinewidth\": 0, \"ticks\": \"\"}, \"colorscale\": [[0.0, \"#0d0887\"], [0.1111111111111111, \"#46039f\"], [0.2222222222222222, \"#7201a8\"], [0.3333333333333333, \"#9c179e\"], [0.4444444444444444, \"#bd3786\"], [0.5555555555555556, \"#d8576b\"], [0.6666666666666666, \"#ed7953\"], [0.7777777777777778, \"#fb9f3a\"], [0.8888888888888888, \"#fdca26\"], [1.0, \"#f0f921\"]], \"type\": \"histogram2dcontour\"}], \"mesh3d\": [{\"colorbar\": {\"outlinewidth\": 0, \"ticks\": \"\"}, \"type\": \"mesh3d\"}], \"parcoords\": [{\"line\": {\"colorbar\": {\"outlinewidth\": 0, \"ticks\": \"\"}}, \"type\": \"parcoords\"}], \"pie\": [{\"automargin\": true, \"type\": \"pie\"}], \"scatter\": [{\"marker\": {\"colorbar\": {\"outlinewidth\": 0, \"ticks\": \"\"}}, \"type\": \"scatter\"}], \"scatter3d\": [{\"line\": {\"colorbar\": {\"outlinewidth\": 0, \"ticks\": \"\"}}, \"marker\": {\"colorbar\": {\"outlinewidth\": 0, \"ticks\": \"\"}}, \"type\": \"scatter3d\"}], \"scattercarpet\": [{\"marker\": {\"colorbar\": {\"outlinewidth\": 0, \"ticks\": \"\"}}, \"type\": \"scattercarpet\"}], \"scattergeo\": [{\"marker\": {\"colorbar\": {\"outlinewidth\": 0, \"ticks\": \"\"}}, \"type\": \"scattergeo\"}], \"scattergl\": [{\"marker\": {\"colorbar\": {\"outlinewidth\": 0, \"ticks\": \"\"}}, \"type\": \"scattergl\"}], \"scattermapbox\": [{\"marker\": {\"colorbar\": {\"outlinewidth\": 0, \"ticks\": \"\"}}, \"type\": \"scattermapbox\"}], \"scatterpolar\": [{\"marker\": {\"colorbar\": {\"outlinewidth\": 0, \"ticks\": \"\"}}, \"type\": \"scatterpolar\"}], \"scatterpolargl\": [{\"marker\": {\"colorbar\": {\"outlinewidth\": 0, \"ticks\": \"\"}}, \"type\": \"scatterpolargl\"}], \"scatterternary\": [{\"marker\": {\"colorbar\": {\"outlinewidth\": 0, \"ticks\": \"\"}}, \"type\": \"scatterternary\"}], \"surface\": [{\"colorbar\": {\"outlinewidth\": 0, \"ticks\": \"\"}, \"colorscale\": [[0.0, \"#0d0887\"], [0.1111111111111111, \"#46039f\"], [0.2222222222222222, \"#7201a8\"], [0.3333333333333333, \"#9c179e\"], [0.4444444444444444, \"#bd3786\"], [0.5555555555555556, \"#d8576b\"], [0.6666666666666666, \"#ed7953\"], [0.7777777777777778, \"#fb9f3a\"], [0.8888888888888888, \"#fdca26\"], [1.0, \"#f0f921\"]], \"type\": \"surface\"}], \"table\": [{\"cells\": {\"fill\": {\"color\": \"#EBF0F8\"}, \"line\": {\"color\": \"white\"}}, \"header\": {\"fill\": {\"color\": \"#C8D4E3\"}, \"line\": {\"color\": \"white\"}}, \"type\": \"table\"}]}, \"layout\": {\"annotationdefaults\": {\"arrowcolor\": \"#2a3f5f\", \"arrowhead\": 0, \"arrowwidth\": 1}, \"coloraxis\": {\"colorbar\": {\"outlinewidth\": 0, \"ticks\": \"\"}}, \"colorscale\": {\"diverging\": [[0, \"#8e0152\"], [0.1, \"#c51b7d\"], [0.2, \"#de77ae\"], [0.3, \"#f1b6da\"], [0.4, \"#fde0ef\"], [0.5, \"#f7f7f7\"], [0.6, \"#e6f5d0\"], [0.7, \"#b8e186\"], [0.8, \"#7fbc41\"], [0.9, \"#4d9221\"], [1, \"#276419\"]], \"sequential\": [[0.0, \"#0d0887\"], [0.1111111111111111, \"#46039f\"], [0.2222222222222222, \"#7201a8\"], [0.3333333333333333, \"#9c179e\"], [0.4444444444444444, \"#bd3786\"], [0.5555555555555556, \"#d8576b\"], [0.6666666666666666, \"#ed7953\"], [0.7777777777777778, \"#fb9f3a\"], [0.8888888888888888, \"#fdca26\"], [1.0, \"#f0f921\"]], \"sequentialminus\": [[0.0, \"#0d0887\"], [0.1111111111111111, \"#46039f\"], [0.2222222222222222, \"#7201a8\"], [0.3333333333333333, \"#9c179e\"], [0.4444444444444444, \"#bd3786\"], [0.5555555555555556, \"#d8576b\"], [0.6666666666666666, \"#ed7953\"], [0.7777777777777778, \"#fb9f3a\"], [0.8888888888888888, \"#fdca26\"], [1.0, \"#f0f921\"]]}, \"colorway\": [\"#636efa\", \"#EF553B\", \"#00cc96\", \"#ab63fa\", \"#FFA15A\", \"#19d3f3\", \"#FF6692\", \"#B6E880\", \"#FF97FF\", \"#FECB52\"], \"font\": {\"color\": \"#2a3f5f\"}, \"geo\": {\"bgcolor\": \"white\", \"lakecolor\": \"white\", \"landcolor\": \"#E5ECF6\", \"showlakes\": true, \"showland\": true, \"subunitcolor\": \"white\"}, \"hoverlabel\": {\"align\": \"left\"}, \"hovermode\": \"closest\", \"mapbox\": {\"style\": \"light\"}, \"paper_bgcolor\": \"white\", \"plot_bgcolor\": \"#E5ECF6\", \"polar\": {\"angularaxis\": {\"gridcolor\": \"white\", \"linecolor\": \"white\", \"ticks\": \"\"}, \"bgcolor\": \"#E5ECF6\", \"radialaxis\": {\"gridcolor\": \"white\", \"linecolor\": \"white\", \"ticks\": \"\"}}, \"scene\": {\"xaxis\": {\"backgroundcolor\": \"#E5ECF6\", \"gridcolor\": \"white\", \"gridwidth\": 2, \"linecolor\": \"white\", \"showbackground\": true, \"ticks\": \"\", \"zerolinecolor\": \"white\"}, \"yaxis\": {\"backgroundcolor\": \"#E5ECF6\", \"gridcolor\": \"white\", \"gridwidth\": 2, \"linecolor\": \"white\", \"showbackground\": true, \"ticks\": \"\", \"zerolinecolor\": \"white\"}, \"zaxis\": {\"backgroundcolor\": \"#E5ECF6\", \"gridcolor\": \"white\", \"gridwidth\": 2, \"linecolor\": \"white\", \"showbackground\": true, \"ticks\": \"\", \"zerolinecolor\": \"white\"}}, \"shapedefaults\": {\"line\": {\"color\": \"#2a3f5f\"}}, \"ternary\": {\"aaxis\": {\"gridcolor\": \"white\", \"linecolor\": \"white\", \"ticks\": \"\"}, \"baxis\": {\"gridcolor\": \"white\", \"linecolor\": \"white\", \"ticks\": \"\"}, \"bgcolor\": \"#E5ECF6\", \"caxis\": {\"gridcolor\": \"white\", \"linecolor\": \"white\", \"ticks\": \"\"}}, \"title\": {\"x\": 0.05}, \"xaxis\": {\"automargin\": true, \"gridcolor\": \"white\", \"linecolor\": \"white\", \"ticks\": \"\", \"title\": {\"standoff\": 15}, \"zerolinecolor\": \"white\", \"zerolinewidth\": 2}, \"yaxis\": {\"automargin\": true, \"gridcolor\": \"white\", \"linecolor\": \"white\", \"ticks\": \"\", \"title\": {\"standoff\": 15}, \"zerolinecolor\": \"white\", \"zerolinewidth\": 2}}}, \"title\": {\"text\": \"Pressure and Density during NPT Equilibration\"}, \"xaxis\": {\"anchor\": \"y\", \"domain\": [0.0, 0.45], \"title\": {\"text\": \"Time (ps)\"}}, \"xaxis2\": {\"anchor\": \"y2\", \"domain\": [0.55, 1.0], \"title\": {\"text\": \"Time (ps)\"}}, \"yaxis\": {\"anchor\": \"x\", \"domain\": [0.0, 1.0], \"title\": {\"text\": \"Pressure (bar)\"}}, \"yaxis2\": {\"anchor\": \"x2\", \"domain\": [0.0, 1.0], \"title\": {\"text\": \"Density (Kg*m^-3)\"}}},\n",
       "                        {\"responsive\": true}\n",
       "                    ).then(function(){\n",
       "                            \n",
       "var gd = document.getElementById('56b22eaf-ae3f-4da5-b15c-dee59fa245c5');\n",
       "var x = new MutationObserver(function (mutations, observer) {{\n",
       "        var display = window.getComputedStyle(gd).display;\n",
       "        if (!display || display === 'none') {{\n",
       "            console.log([gd, 'removed!']);\n",
       "            Plotly.purge(gd);\n",
       "            observer.disconnect();\n",
       "        }}\n",
       "}});\n",
       "\n",
       "// Listen for the removal of the full notebook cells\n",
       "var notebookContainer = gd.closest('#notebook-container');\n",
       "if (notebookContainer) {{\n",
       "    x.observe(notebookContainer, {childList: true});\n",
       "}}\n",
       "\n",
       "// Listen for the clearing of the current output cell\n",
       "var outputEl = gd.closest('.output');\n",
       "if (outputEl) {{\n",
       "    x.observe(outputEl, {childList: true});\n",
       "}}\n",
       "\n",
       "                        })\n",
       "                };\n",
       "                });\n",
       "            </script>\n",
       "        </div>"
      ]
     },
     "metadata": {},
     "output_type": "display_data"
    }
   ],
   "source": [
    "import plotly\n",
    "from plotly import subplots\n",
    "import plotly.graph_objs as go\n",
    "\n",
    "# Read pressure and density data from file \n",
    "with open(output_eqB_pd_xvg,'r') as pd_file:\n",
    "    x,y,z = map(\n",
    "        list,\n",
    "        zip(*[\n",
    "            (float(line.split()[0]),float(line.split()[1]),float(line.split()[2]))\n",
    "            for line in pd_file \n",
    "            if not line.startswith((\"#\",\"@\")) \n",
    "        ])\n",
    "    )\n",
    "\n",
    "plotly.offline.init_notebook_mode(connected=True)\n",
    "\n",
    "trace1 = go.Scatter(\n",
    "    x=x,y=y\n",
    ")\n",
    "trace2 = go.Scatter(\n",
    "    x=x,y=z\n",
    ")\n",
    "\n",
    "fig = subplots.make_subplots(rows=1, cols=2, print_grid=False)\n",
    "\n",
    "fig.append_trace(trace1, 1, 1)\n",
    "fig.append_trace(trace2, 1, 2)\n",
    "\n",
    "fig['layout']['xaxis1'].update(title='Time (ps)')\n",
    "fig['layout']['xaxis2'].update(title='Time (ps)')\n",
    "fig['layout']['yaxis1'].update(title='Pressure (bar)')\n",
    "fig['layout']['yaxis2'].update(title='Density (Kg*m^-3)')\n",
    "\n",
    "fig['layout'].update(title='Pressure and Density during NPT Equilibration')\n",
    "fig['layout'].update(showlegend=False)\n",
    "\n",
    "plotly.offline.iplot(fig)"
   ]
  },
  {
   "cell_type": "markdown",
   "metadata": {},
   "source": [
    "<a id=\"free\"></a>\n",
    "***\n",
    "## Free Energy Simulation\n",
    "**Alchemical transition (thermodynamic integration)** free energy estimation approach is used with **GROMACS**: **free energy** is switched on, the **initial lambda** is chosen as zero, and **delta-lambda** (per MD step) is set such that at the end of the simulation **lambda** is at 1 (1 / nsteps). The **dhdl files** (dH/dl) written as a result will contain the **work values** required to perform these **transitions**.\n",
    "\n",
    "- [Step 1](#mdStep1): Creating portable binary run file to run the **free energy simulation**.\n",
    "- [Step 2](#mdStep2): Run short MD simulation of the **protein system**.\n",
    "***\n",
    "**Building Blocks** used:\n",
    " - [Grompp](https://biobb-md.readthedocs.io/en/latest/gromacs.html#module-gromacs.grompp) from **biobb_md.gromacs.grompp** \n",
    " - [Mdrun](https://biobb-md.readthedocs.io/en/latest/gromacs.html#module-gromacs.mdrun) from **biobb_md.gromacs.mdrun** \n",
    "***"
   ]
  },
  {
   "cell_type": "markdown",
   "metadata": {},
   "source": [
    "<a id=\"mdStep1\"></a>\n",
    "### Step 1: Creating portable binary run file to run a free energy simulation\n",
    "\n",
    "The **free_energy** type of the **molecular dynamics parameters (mdp) property** contains the main default parameters to run an **free energy simulation** (see [GROMACS mdp options](http://manual.gromacs.org/documentation/2018/user-guide/mdp-options.html)):\n",
    "\n",
    "-  integrator               = md\n",
    "-  dt                       = 0.002 (ps)\n",
    "-  nsteps                   = 5000\n",
    "-  free_energy              = yes\n",
    "-  init_lambda              = 0\n",
    "-  delta_lambda             = 0.0002\n",
    "-  sc-alpha                 = 0\n",
    "-  sc-sigma                 = 0.3\n",
    "\n",
    "In this particular example, the default parameters will be used: **md** integrator algorithm, a **time step** of **2fs**, a total of **5,000 md steps** (10ps), all with the **free energy** flag turned on, with an **intial lambda** of 0 and a **delta lambda** of 0.00002.\n",
    "\n",
    "*Please note that for the sake of time this tutorial is only running 10ps of NPT equilibration, whereas in the [original example](http://pmx.mpibpc.mpg.de/sardinia2018_tutorial1/eq.mdp) the simulated time was 100ps.*"
   ]
  },
  {
   "cell_type": "code",
   "execution_count": 19,
   "metadata": {},
   "outputs": [
    {
     "name": "stderr",
     "output_type": "stream",
     "text": [
      "2020-10-13 17:43:37,856 [MainThread  ] [INFO ]  GROMACS Grompp 20191 version detected\n",
      "2020-10-13 17:43:37,879 [MainThread  ] [INFO ]  Extracting: /Users/pau/projects/biobb_wf_pmx_tutorial/biobb_wf_pmx_tutorial/notebooks/pmxA_top.zip\n",
      "2020-10-13 17:43:37,880 [MainThread  ] [INFO ]  to:\n",
      "2020-10-13 17:43:37,881 [MainThread  ] [INFO ]  ['7ac71dcb-e440-433b-b9b3-3108b23923d6/p2g.top', '7ac71dcb-e440-433b-b9b3-3108b23923d6/pmx_p2g_Ion_chain_C.itp', '7ac71dcb-e440-433b-b9b3-3108b23923d6/pmx_p2g_Protein_chain_A.itp', '7ac71dcb-e440-433b-b9b3-3108b23923d6/posre_Ion_chain_C.itp', '7ac71dcb-e440-433b-b9b3-3108b23923d6/posre_Protein_chain_A.itp']\n",
      "2020-10-13 17:43:37,881 [MainThread  ] [INFO ]  Unzipping: \n",
      "2020-10-13 17:43:37,882 [MainThread  ] [INFO ]  pmxA_top.zip\n",
      "2020-10-13 17:43:37,883 [MainThread  ] [INFO ]  To: \n",
      "2020-10-13 17:43:37,883 [MainThread  ] [INFO ]  7ac71dcb-e440-433b-b9b3-3108b23923d6/p2g.top\n",
      "2020-10-13 17:43:37,884 [MainThread  ] [INFO ]  7ac71dcb-e440-433b-b9b3-3108b23923d6/pmx_p2g_Ion_chain_C.itp\n",
      "2020-10-13 17:43:37,885 [MainThread  ] [INFO ]  7ac71dcb-e440-433b-b9b3-3108b23923d6/pmx_p2g_Protein_chain_A.itp\n",
      "2020-10-13 17:43:37,886 [MainThread  ] [INFO ]  7ac71dcb-e440-433b-b9b3-3108b23923d6/posre_Ion_chain_C.itp\n",
      "2020-10-13 17:43:37,886 [MainThread  ] [INFO ]  7ac71dcb-e440-433b-b9b3-3108b23923d6/posre_Protein_chain_A.itp\n",
      "2020-10-13 17:43:37,888 [MainThread  ] [INFO ]  Will run a free md of 10.0 pico seconds\n",
      "2020-10-13 17:43:37,889 [MainThread  ] [INFO ]  Not using any container\n",
      "2020-10-13 17:43:38,228 [MainThread  ] [INFO ]  gmx -nobackup -nocopyright grompp -f a86e3fc9-8ec9-4840-9d26-1d1edd12df41/grompp.mdp -c eqoutA.gro -r eqoutA.gro -p 7ac71dcb-e440-433b-b9b3-3108b23923d6/p2g.top -o tiA.tpr -po mdout.mdp -maxwarn 10\n",
      "\n",
      "2020-10-13 17:43:38,229 [MainThread  ] [INFO ]  Exit code 0\n",
      "\n",
      "2020-10-13 17:43:38,230 [MainThread  ] [INFO ]  turning H bonds into constraints...\n",
      "turning H bonds into constraints...\n",
      "turning H bonds into constraints...\n",
      "Analysing residue names:\n",
      "There are:   136    Protein residues\n",
      "There are:    74        Ion residues\n",
      "There are: 10948      Water residues\n",
      "Analysing Protein...\n",
      "Analysing residues not classified as Protein/DNA/RNA/Water and splitting into groups...\n",
      "Determining Verlet buffer for a tolerance of 0.005 kJ/mol/ps at 300 K\n",
      "Calculated rlist for 1x1 atom pair-list as 1.035 nm, buffer size 0.035 nm\n",
      "Set rlist, assuming 4x4 atom pair-list, to 1.000 nm, buffer size 0.000 nm\n",
      "Note that mdrun will redetermine rlist based on the actual pair-list setup\n",
      "Calculating fourier grid dimensions for X Y Z\n",
      "Using a fourier grid of 72x72x72, spacing 0.110 0.110 0.110\n",
      "This run will generate roughly 5 Mb of data\n",
      "\n",
      "2020-10-13 17:43:38,231 [MainThread  ] [INFO ]                        :-) GROMACS - gmx grompp, 2019.1 (-:\n",
      "\n",
      "Executable:   /anaconda3/envs/biobb/bin/gmx\n",
      "Data prefix:  /anaconda3/envs/biobb\n",
      "Working dir:  /Users/pau/projects/biobb_wf_pmx_tutorial/biobb_wf_pmx_tutorial/notebooks\n",
      "Command line:\n",
      "  gmx -nobackup -nocopyright grompp -f a86e3fc9-8ec9-4840-9d26-1d1edd12df41/grompp.mdp -c eqoutA.gro -r eqoutA.gro -p 7ac71dcb-e440-433b-b9b3-3108b23923d6/p2g.top -o tiA.tpr -po mdout.mdp -maxwarn 10\n",
      "\n",
      "\n",
      "WARNING 1 [file a86e3fc9-8ec9-4840-9d26-1d1edd12df41/grompp.mdp, line 73]:\n",
      "  You are using soft-core interactions while the Van der Waals interactions\n",
      "  are not decoupled (note that the sc-coul option is only active when using\n",
      "  lambda states). Although this will not lead to errors, you will need much\n",
      "  more sampling than without soft-core interactions. Consider using\n",
      "  sc-alpha=0.\n",
      "\n",
      "\n",
      "NOTE 1 [file a86e3fc9-8ec9-4840-9d26-1d1edd12df41/grompp.mdp]:\n",
      "  Setting nstcalcenergy (100) equal to nstdhdl (50)\n",
      "\n",
      "\n",
      "NOTE 2 [file a86e3fc9-8ec9-4840-9d26-1d1edd12df41/grompp.mdp]:\n",
      "  With PME there is a minor soft core effect present at the cut-off,\n",
      "  proportional to (LJsigma/rcoulomb)^6. This could have a minor effect on\n",
      "  energy conservation, but usually other effects dominate. With a common\n",
      "  sigma value of 0.34 nm the fraction of the particle-particle potential at\n",
      "  the cut-off at lambda=0.5 is around 3.9e-05, while ewald-rtol is 1.0e-05.\n",
      "\n",
      "Setting the LD random seed to -1001341107\n",
      "Generated 5253 of the 5253 non-bonded parameter combinations\n",
      "Generating 1-4 interactions: fudge = 0.5\n",
      "Generated 5253 of the 5253 1-4 parameter combinations\n",
      "Excluding 3 bonded neighbours molecule type 'Protein_chain_A'\n",
      "Excluding 3 bonded neighbours molecule type 'Ion_chain_C'\n",
      "Excluding 2 bonded neighbours molecule type 'SOL'\n",
      "Excluding 2 bonded neighbours molecule type 'SOL'\n",
      "Removing all charge groups because cutoff-scheme=Verlet\n",
      "\n",
      "NOTE 3 [file p2g.top, line 24]:\n",
      "  In moleculetype 'Ion_chain_C' 74 atoms are not bound by a potential or\n",
      "  constraint to any other atom in the same moleculetype. Although\n",
      "  technically this might not cause issues in a simulation, this often means\n",
      "  that the user forgot to add a bond/potential/constraint or put multiple\n",
      "  molecules in the same moleculetype definition by mistake. Run with -v to\n",
      "  get information for each atom.\n",
      "\n",
      "Number of degrees of freedom in T-Coupling group Protein is 5543.77\n",
      "Number of degrees of freedom in T-Coupling group non-Protein is 65907.23\n",
      "Estimate for the relative computational load of the PME mesh part: 0.34\n",
      "\n",
      "There were 3 notes\n",
      "\n",
      "There was 1 warning\n",
      "\n",
      "GROMACS reminds you: \"I originally implemented PME to prove that you didn't need it...\" (Erik Lindahl)\n",
      "\n",
      "\n",
      "2020-10-13 17:43:38,234 [MainThread  ] [INFO ]  Removed: ['mdout.mdp', '7ac71dcb-e440-433b-b9b3-3108b23923d6', 'a86e3fc9-8ec9-4840-9d26-1d1edd12df41']\n",
      "2020-10-13 17:43:38,282 [MainThread  ] [INFO ]  GROMACS Grompp 20191 version detected\n",
      "2020-10-13 17:43:38,292 [MainThread  ] [INFO ]  Extracting: /Users/pau/projects/biobb_wf_pmx_tutorial/biobb_wf_pmx_tutorial/notebooks/pmxB_top.zip\n",
      "2020-10-13 17:43:38,293 [MainThread  ] [INFO ]  to:\n",
      "2020-10-13 17:43:38,294 [MainThread  ] [INFO ]  ['9f86b563-447b-4b8f-a8c0-0da17af840b5/p2g.top', '9f86b563-447b-4b8f-a8c0-0da17af840b5/pmx_p2g_Ion_chain_C.itp', '9f86b563-447b-4b8f-a8c0-0da17af840b5/pmx_p2g_Protein_chain_A.itp', '9f86b563-447b-4b8f-a8c0-0da17af840b5/posre_Ion_chain_C.itp', '9f86b563-447b-4b8f-a8c0-0da17af840b5/posre_Protein_chain_A.itp']\n",
      "2020-10-13 17:43:38,295 [MainThread  ] [INFO ]  Unzipping: \n",
      "2020-10-13 17:43:38,296 [MainThread  ] [INFO ]  pmxB_top.zip\n",
      "2020-10-13 17:43:38,297 [MainThread  ] [INFO ]  To: \n",
      "2020-10-13 17:43:38,298 [MainThread  ] [INFO ]  9f86b563-447b-4b8f-a8c0-0da17af840b5/p2g.top\n",
      "2020-10-13 17:43:38,299 [MainThread  ] [INFO ]  9f86b563-447b-4b8f-a8c0-0da17af840b5/pmx_p2g_Ion_chain_C.itp\n",
      "2020-10-13 17:43:38,300 [MainThread  ] [INFO ]  9f86b563-447b-4b8f-a8c0-0da17af840b5/pmx_p2g_Protein_chain_A.itp\n",
      "2020-10-13 17:43:38,301 [MainThread  ] [INFO ]  9f86b563-447b-4b8f-a8c0-0da17af840b5/posre_Ion_chain_C.itp\n",
      "2020-10-13 17:43:38,302 [MainThread  ] [INFO ]  9f86b563-447b-4b8f-a8c0-0da17af840b5/posre_Protein_chain_A.itp\n",
      "2020-10-13 17:43:38,305 [MainThread  ] [INFO ]  Will run a free md of 10.0 pico seconds\n",
      "2020-10-13 17:43:38,306 [MainThread  ] [INFO ]  Not using any container\n",
      "2020-10-13 17:43:38,645 [MainThread  ] [INFO ]  gmx -nobackup -nocopyright grompp -f b1d2ca23-4e68-427d-800b-3f5abc9845b0/grompp.mdp -c eqoutB.gro -r eqoutB.gro -p 9f86b563-447b-4b8f-a8c0-0da17af840b5/p2g.top -o tiB.tpr -po mdout.mdp -maxwarn 10\n",
      "\n",
      "2020-10-13 17:43:38,647 [MainThread  ] [INFO ]  Exit code 0\n",
      "\n",
      "2020-10-13 17:43:38,649 [MainThread  ] [INFO ]  turning H bonds into constraints...\n",
      "turning H bonds into constraints...\n",
      "turning H bonds into constraints...\n",
      "Analysing residue names:\n",
      "There are:   136    Protein residues\n",
      "There are:    74        Ion residues\n",
      "There are: 10949      Water residues\n",
      "Analysing Protein...\n",
      "Analysing residues not classified as Protein/DNA/RNA/Water and splitting into groups...\n",
      "Determining Verlet buffer for a tolerance of 0.005 kJ/mol/ps at 300 K\n",
      "Calculated rlist for 1x1 atom pair-list as 1.035 nm, buffer size 0.035 nm\n",
      "Set rlist, assuming 4x4 atom pair-list, to 1.000 nm, buffer size 0.000 nm\n",
      "Note that mdrun will redetermine rlist based on the actual pair-list setup\n",
      "Calculating fourier grid dimensions for X Y Z\n",
      "Using a fourier grid of 72x72x72, spacing 0.110 0.110 0.110\n",
      "This run will generate roughly 5 Mb of data\n",
      "\n",
      "2020-10-13 17:43:38,651 [MainThread  ] [INFO ]                        :-) GROMACS - gmx grompp, 2019.1 (-:\n",
      "\n",
      "Executable:   /anaconda3/envs/biobb/bin/gmx\n",
      "Data prefix:  /anaconda3/envs/biobb\n",
      "Working dir:  /Users/pau/projects/biobb_wf_pmx_tutorial/biobb_wf_pmx_tutorial/notebooks\n",
      "Command line:\n",
      "  gmx -nobackup -nocopyright grompp -f b1d2ca23-4e68-427d-800b-3f5abc9845b0/grompp.mdp -c eqoutB.gro -r eqoutB.gro -p 9f86b563-447b-4b8f-a8c0-0da17af840b5/p2g.top -o tiB.tpr -po mdout.mdp -maxwarn 10\n",
      "\n",
      "\n",
      "WARNING 1 [file b1d2ca23-4e68-427d-800b-3f5abc9845b0/grompp.mdp, line 73]:\n",
      "  You are using soft-core interactions while the Van der Waals interactions\n",
      "  are not decoupled (note that the sc-coul option is only active when using\n",
      "  lambda states). Although this will not lead to errors, you will need much\n",
      "  more sampling than without soft-core interactions. Consider using\n",
      "  sc-alpha=0.\n",
      "\n",
      "\n",
      "NOTE 1 [file b1d2ca23-4e68-427d-800b-3f5abc9845b0/grompp.mdp]:\n",
      "  Setting nstcalcenergy (100) equal to nstdhdl (50)\n",
      "\n",
      "\n",
      "NOTE 2 [file b1d2ca23-4e68-427d-800b-3f5abc9845b0/grompp.mdp]:\n",
      "  With PME there is a minor soft core effect present at the cut-off,\n",
      "  proportional to (LJsigma/rcoulomb)^6. This could have a minor effect on\n",
      "  energy conservation, but usually other effects dominate. With a common\n",
      "  sigma value of 0.34 nm the fraction of the particle-particle potential at\n",
      "  the cut-off at lambda=0.5 is around 3.9e-05, while ewald-rtol is 1.0e-05.\n",
      "\n",
      "Setting the LD random seed to 1219811198\n",
      "Generated 5253 of the 5253 non-bonded parameter combinations\n",
      "Generating 1-4 interactions: fudge = 0.5\n",
      "Generated 5253 of the 5253 1-4 parameter combinations\n",
      "Excluding 3 bonded neighbours molecule type 'Protein_chain_A'\n",
      "Excluding 3 bonded neighbours molecule type 'Ion_chain_C'\n",
      "Excluding 2 bonded neighbours molecule type 'SOL'\n",
      "Excluding 2 bonded neighbours molecule type 'SOL'\n",
      "Removing all charge groups because cutoff-scheme=Verlet\n",
      "\n",
      "NOTE 3 [file p2g.top, line 24]:\n",
      "  In moleculetype 'Ion_chain_C' 74 atoms are not bound by a potential or\n",
      "  constraint to any other atom in the same moleculetype. Although\n",
      "  technically this might not cause issues in a simulation, this often means\n",
      "  that the user forgot to add a bond/potential/constraint or put multiple\n",
      "  molecules in the same moleculetype definition by mistake. Run with -v to\n",
      "  get information for each atom.\n",
      "\n",
      "\n",
      "NOTE 4 [file p2g.top, line 24]:\n",
      "  The bond in molecule-type Protein_chain_A between atoms 170 DCD1 and 171\n",
      "  DHD1 has an estimated oscillational period of 1.1e-02 ps, which is less\n",
      "  than 10 times the time step of 2.0e-03 ps.\n",
      "  Maybe you forgot to change the constraints mdp option.\n",
      "\n",
      "Number of degrees of freedom in T-Coupling group Protein is 5543.77\n",
      "Number of degrees of freedom in T-Coupling group non-Protein is 65913.23\n",
      "Estimate for the relative computational load of the PME mesh part: 0.34\n",
      "\n",
      "There were 4 notes\n",
      "\n",
      "There was 1 warning\n",
      "\n",
      "GROMACS reminds you: \"There's Still Time to Change the Road You're On\" (Led Zeppelin)\n",
      "\n",
      "\n"
     ]
    },
    {
     "name": "stderr",
     "output_type": "stream",
     "text": [
      "2020-10-13 17:43:38,655 [MainThread  ] [INFO ]  Removed: ['mdout.mdp', '9f86b563-447b-4b8f-a8c0-0da17af840b5', 'b1d2ca23-4e68-427d-800b-3f5abc9845b0']\n"
     ]
    },
    {
     "data": {
      "text/plain": [
       "0"
      ]
     },
     "execution_count": 19,
     "metadata": {},
     "output_type": "execute_result"
    }
   ],
   "source": [
    "# Grompp: Creating portable binary run file for thermodynamic integration (TI)\n",
    "from biobb_md.gromacs.grompp import Grompp\n",
    "\n",
    "#### State A (WT->Mut) ####\n",
    "\n",
    "# Create prop dict and inputs/outputs\n",
    "output_tprA_ti = 'tiA.tpr'\n",
    "\n",
    "prop = {\n",
    "    'gmxlib' : gmxlib,\n",
    "    'mdp':{\n",
    "        'type': 'free',\n",
    "        'nsteps':'5000',\n",
    "        'free_energy' : 'yes',\n",
    "        'init-lambda' : '0',\n",
    "        'delta-lambda' : '2e-4',\n",
    "        'sc-alpha' : '0.3',\n",
    "        'sc-coul' : 'yes',\n",
    "        'sc-sigma' : '0.25'\n",
    "    }\n",
    "}\n",
    "\n",
    "# Create and launch bb\n",
    "Grompp(input_gro_path=output_eqA_gro,\n",
    "       input_top_zip_path=output_pmxtopA_top_zip,\n",
    "       output_tpr_path=output_tprA_ti,\n",
    "       properties=prop).launch()\n",
    "\n",
    "#### State B (Mut->WT) ####\n",
    "\n",
    "# Create prop dict and inputs/outputs\n",
    "output_tprB_ti = 'tiB.tpr'\n",
    "\n",
    "prop = {\n",
    "    'gmxlib' : gmxlib,\n",
    "    'mdp':{\n",
    "        'type': 'free',\n",
    "        'nsteps':'5000',\n",
    "        'free_energy' : 'yes',\n",
    "        'init-lambda' : '0',\n",
    "        'delta-lambda' : '4e-5',\n",
    "        'sc-alpha' : '0.3',\n",
    "        'sc-coul' : 'yes',\n",
    "        'sc-sigma' : '0.25'\n",
    "    }\n",
    "}\n",
    "\n",
    "# Create and launch bb\n",
    "Grompp(input_gro_path=output_eqB_gro,\n",
    "       input_top_zip_path=output_pmxtopB_top_zip,\n",
    "       output_tpr_path=output_tprB_ti,\n",
    "       properties=prop).launch()\n"
   ]
  },
  {
   "cell_type": "markdown",
   "metadata": {},
   "source": [
    "<a id=\"mdStep2\"></a>\n",
    "### Step 2: Running free energy simulation"
   ]
  },
  {
   "cell_type": "code",
   "execution_count": 20,
   "metadata": {},
   "outputs": [
    {
     "name": "stderr",
     "output_type": "stream",
     "text": [
      "2020-10-13 17:43:40,664 [MainThread  ] [INFO ]  GROMACS Mdrun 20191 version detected\n",
      "2020-10-13 17:43:40,665 [MainThread  ] [INFO ]  Not using any container\n",
      "2020-10-13 17:45:30,707 [MainThread  ] [INFO ]  gmx -nobackup -nocopyright mdrun -s tiA.tpr -o tiA.trr -c tiA.gro -e tiA.edr -g tiA.log -nt 0 -dhdl tiA.dhdl\n",
      "\n",
      "2020-10-13 17:45:30,708 [MainThread  ] [INFO ]  Exit code 0\n",
      "\n",
      "2020-10-13 17:45:30,709 [MainThread  ] [INFO ]                        :-) GROMACS - gmx mdrun, 2019.1 (-:\n",
      "\n",
      "Executable:   /anaconda3/envs/biobb/bin/gmx\n",
      "Data prefix:  /anaconda3/envs/biobb\n",
      "Working dir:  /Users/pau/projects/biobb_wf_pmx_tutorial/biobb_wf_pmx_tutorial/notebooks\n",
      "Command line:\n",
      "  gmx -nobackup -nocopyright mdrun -s tiA.tpr -o tiA.trr -c tiA.gro -e tiA.edr -g tiA.log -nt 0 -dhdl tiA.dhdl\n",
      "\n",
      "\n",
      "WARNING: While sanity checking device #1, clBuildProgram did not succeed -11: CL_BUILD_PROGRAM_FAILURE\n",
      "\n",
      "Compiled SIMD: SSE2, but for this host/run AVX2_256 might be better (see log).\n",
      "The current CPU can measure timings more accurately than the code in\n",
      "gmx mdrun was configured to use. This might affect your simulation\n",
      "speed as accurate timings are needed for load-balancing.\n",
      "Please consider rebuilding gmx mdrun with the GMX_USE_RDTSCP=ON CMake option.\n",
      "Reading file tiA.tpr, VERSION 2019.1 (single precision)\n",
      "Changing nstlist from 10 to 50, rlist from 1 to 1.115\n",
      "\n",
      "\n",
      "Using 1 MPI thread\n",
      "Using 8 OpenMP threads \n",
      "\n",
      "starting mdrun 'PMX MODEL'\n",
      "5000 steps,     10.0 ps.\n",
      "\n",
      "Writing final coordinates.\n",
      "\n",
      "               Core t (s)   Wall t (s)        (%)\n",
      "       Time:      865.363      108.171      800.0\n",
      "                 (ns/day)    (hour/ns)\n",
      "Performance:        7.989        3.004\n",
      "\n",
      "GROMACS reminds you: \"I Was Born to Have Adventure\" (F. Zappa)\n",
      "\n",
      "\n",
      "2020-10-13 17:45:30,710 [MainThread  ] [INFO ]  Removed: []\n",
      "2020-10-13 17:45:30,760 [MainThread  ] [INFO ]  GROMACS Mdrun 20191 version detected\n",
      "2020-10-13 17:45:30,762 [MainThread  ] [INFO ]  Not using any container\n",
      "2020-10-13 17:47:19,126 [MainThread  ] [INFO ]  gmx -nobackup -nocopyright mdrun -s tiB.tpr -o tiB.trr -c tiB.gro -e tiB.edr -g tiB.log -nt 0 -dhdl tiB.dhdl\n",
      "\n",
      "2020-10-13 17:47:19,128 [MainThread  ] [INFO ]  Exit code 0\n",
      "\n",
      "2020-10-13 17:47:19,129 [MainThread  ] [INFO ]                        :-) GROMACS - gmx mdrun, 2019.1 (-:\n",
      "\n",
      "Executable:   /anaconda3/envs/biobb/bin/gmx\n",
      "Data prefix:  /anaconda3/envs/biobb\n",
      "Working dir:  /Users/pau/projects/biobb_wf_pmx_tutorial/biobb_wf_pmx_tutorial/notebooks\n",
      "Command line:\n",
      "  gmx -nobackup -nocopyright mdrun -s tiB.tpr -o tiB.trr -c tiB.gro -e tiB.edr -g tiB.log -nt 0 -dhdl tiB.dhdl\n",
      "\n",
      "\n",
      "WARNING: While sanity checking device #1, clBuildProgram did not succeed -11: CL_BUILD_PROGRAM_FAILURE\n",
      "\n",
      "Compiled SIMD: SSE2, but for this host/run AVX2_256 might be better (see log).\n",
      "The current CPU can measure timings more accurately than the code in\n",
      "gmx mdrun was configured to use. This might affect your simulation\n",
      "speed as accurate timings are needed for load-balancing.\n",
      "Please consider rebuilding gmx mdrun with the GMX_USE_RDTSCP=ON CMake option.\n",
      "Reading file tiB.tpr, VERSION 2019.1 (single precision)\n",
      "Changing nstlist from 10 to 50, rlist from 1 to 1.115\n",
      "\n",
      "\n",
      "Using 1 MPI thread\n",
      "Using 8 OpenMP threads \n",
      "\n",
      "starting mdrun 'PMX MODEL'\n",
      "5000 steps,     10.0 ps.\n",
      "\n",
      "Writing final coordinates.\n",
      "\n",
      "               Core t (s)   Wall t (s)        (%)\n",
      "       Time:      851.476      106.435      800.0\n",
      "                 (ns/day)    (hour/ns)\n",
      "Performance:        8.119        2.956\n",
      "\n",
      "GROMACS reminds you: \"It Doesn't Seem Right, No Computers in Sight\" (Faun Fables)\n",
      "\n",
      "\n",
      "2020-10-13 17:47:19,130 [MainThread  ] [INFO ]  Removed: []\n"
     ]
    },
    {
     "data": {
      "text/plain": [
       "0"
      ]
     },
     "execution_count": 20,
     "metadata": {},
     "output_type": "execute_result"
    }
   ],
   "source": [
    "# Mdrun: Running equilibration\n",
    "from biobb_md.gromacs.mdrun import Mdrun\n",
    "\n",
    "#### State A (WT->Mut) ####\n",
    "\n",
    "# Create prop dict and inputs/outputs\n",
    "output_tiA_trr = 'tiA.trr'\n",
    "output_tiA_gro = 'tiA.gro'\n",
    "output_tiA_edr = 'tiA.edr'\n",
    "output_tiA_log = 'tiA.log'\n",
    "output_tiA_dhdl = 'tiA.dhdl'\n",
    "\n",
    "# Create and launch bb\n",
    "Mdrun(input_tpr_path=output_tprA_ti,\n",
    "      output_trr_path=output_tiA_trr,\n",
    "      output_gro_path=output_tiA_gro,\n",
    "      output_edr_path=output_tiA_edr,\n",
    "      output_log_path=output_tiA_log,\n",
    "      output_dhdl_path=output_tiA_dhdl).launch()\n",
    "\n",
    "#### State B (Mut->WT) ####\n",
    "\n",
    "# Create prop dict and inputs/outputs\n",
    "output_tiB_trr = 'tiB.trr'\n",
    "output_tiB_gro = 'tiB.gro'\n",
    "output_tiB_edr = 'tiB.edr'\n",
    "output_tiB_log = 'tiB.log'\n",
    "output_tiB_dhdl = 'tiB.dhdl'\n",
    "\n",
    "# Create and launch bb\n",
    "Mdrun(input_tpr_path=output_tprB_ti,\n",
    "      output_trr_path=output_tiB_trr,\n",
    "      output_gro_path=output_tiB_gro,\n",
    "      output_edr_path=output_tiB_edr,\n",
    "      output_log_path=output_tiB_log,\n",
    "      output_dhdl_path=output_tiB_dhdl).launch()"
   ]
  },
  {
   "cell_type": "markdown",
   "metadata": {},
   "source": [
    "<a id=\"post\"></a>\n",
    "***\n",
    "## Free Energy Estimation\n",
    "The **Fast Growth TI** approach relies on **Jarzynski's equality** (when transition is performed in one direction only) or on the **Crooks Fluctuation Theorem** or the **Bennett Acceptance Ratio** (when the transitions are performed in both directions). \n",
    "\n",
    "**Workflow-generated results** should be used if a **minimum number of transitions** are calculated. In this particular case, as the tutorial is just computing 1 transition (forward + reverse), the number of work values computed are **not enough to extract the free energy**. Instead, we will use values taken from a **real run** of the snase example that can be found in the [pmx web page](http://pmx.mpibpc.mpg.de/sardinia2018_tutorial1/index.html).\n",
    "\n",
    "- [Step 1](#tiStep1): Gathering together all the generated **dhdl files** (work values required to perform the transitions).\n",
    "- [Step 2](#tiStep2): Compute the **free energy** using **Jarzynski's equality**, **Crooks Fluctuation Theorem** and  **Bennett Acceptance Ratio** with pmx.\n",
    "\n",
    "*Note:* This tutorial is using a **Docker container** to run **pmx**. To use a local installation of **pmx**, just modify the appropriate properties parameter **pmx_cli_path**. \n",
    "***\n",
    "**Building Blocks** used:\n",
    " - [Pmxanalyse](https://biobb-pmx.readthedocs.io/en/latest/pmx.html#module-pmx.pmxanalyse) from **biobb_pmx.pmx.pmxanalyse** \n",
    "***"
   ]
  },
  {
   "cell_type": "markdown",
   "metadata": {},
   "source": [
    "<a id=\"tiStep1\"></a>\n",
    "### Step 1: Gathering together all the generated **dhdl files**\n",
    "Gathering together all the generated **dhdl files** (work values required to perform the transitions). To be used as input for the final pmx free energy estimation."
   ]
  },
  {
   "cell_type": "code",
   "execution_count": null,
   "metadata": {},
   "outputs": [],
   "source": [
    "# Gathering together all the generated dhdl files (work values required to perform the transitions) \n",
    "# from the free energy simulations.\n",
    "# To be used as input for the final pmx free energy estimation.\n",
    "\n",
    "#### State A (WT->Mut) ####\n",
    "\n",
    "zf = zipfile.ZipFile('dhdlsA.zip', mode='w')\n",
    "\n",
    "for file in os.listdir(os.getcwd()):\n",
    "    if file.endswith(\"A.dhdl.xvg\"):\n",
    "            zf.write(file)\n",
    "zf.close()\n",
    "\n",
    "#### State B (Mut->WT) ####\n",
    "\n",
    "zf = zipfile.ZipFile('dhdlsB.zip', mode='w')\n",
    "\n",
    "for file in os.listdir(os.getcwd()):\n",
    "    if file.endswith(\"B.dhdl.xvg\"):\n",
    "            zf.write(file)\n",
    "zf.close()"
   ]
  },
  {
   "cell_type": "markdown",
   "metadata": {},
   "source": [
    "<a id=\"tiStep2\"></a>\n",
    "### Step 2: Compute the free energy estimation\n",
    "Compute the **free energy** using **Jarzynski's equality**, **Crooks Fluctuation Theorem** and **Bennett Acceptance Ratio** with pmx."
   ]
  },
  {
   "cell_type": "code",
   "execution_count": 24,
   "metadata": {},
   "outputs": [
    {
     "name": "stderr",
     "output_type": "stream",
     "text": [
      "2020-10-13 17:47:59,067 [MainThread  ] [INFO ]  Extracting: /Users/pau/projects/biobb_wf_pmx_tutorial/biobb_wf_pmx_tutorial/notebooks/pmx_tutorial/dhdlA.zip\n",
      "2020-10-13 17:47:59,068 [MainThread  ] [INFO ]  to:\n",
      "2020-10-13 17:47:59,069 [MainThread  ] [INFO ]  ['9363c01c-08c9-4c47-ba8e-3dc9bd32c238/stateA/frame0/dhdl0.xvg', '9363c01c-08c9-4c47-ba8e-3dc9bd32c238/stateA/frame1/dhdl1.xvg', '9363c01c-08c9-4c47-ba8e-3dc9bd32c238/stateA/frame10/dhdl10.xvg', '9363c01c-08c9-4c47-ba8e-3dc9bd32c238/stateA/frame11/dhdl11.xvg', '9363c01c-08c9-4c47-ba8e-3dc9bd32c238/stateA/frame12/dhdl12.xvg', '9363c01c-08c9-4c47-ba8e-3dc9bd32c238/stateA/frame13/dhdl13.xvg', '9363c01c-08c9-4c47-ba8e-3dc9bd32c238/stateA/frame14/dhdl14.xvg', '9363c01c-08c9-4c47-ba8e-3dc9bd32c238/stateA/frame15/dhdl15.xvg', '9363c01c-08c9-4c47-ba8e-3dc9bd32c238/stateA/frame16/dhdl16.xvg', '9363c01c-08c9-4c47-ba8e-3dc9bd32c238/stateA/frame17/dhdl17.xvg', '9363c01c-08c9-4c47-ba8e-3dc9bd32c238/stateA/frame18/dhdl18.xvg', '9363c01c-08c9-4c47-ba8e-3dc9bd32c238/stateA/frame19/dhdl19.xvg', '9363c01c-08c9-4c47-ba8e-3dc9bd32c238/stateA/frame2/dhdl2.xvg', '9363c01c-08c9-4c47-ba8e-3dc9bd32c238/stateA/frame20/dhdl20.xvg', '9363c01c-08c9-4c47-ba8e-3dc9bd32c238/stateA/frame21/dhdl21.xvg', '9363c01c-08c9-4c47-ba8e-3dc9bd32c238/stateA/frame22/dhdl22.xvg', '9363c01c-08c9-4c47-ba8e-3dc9bd32c238/stateA/frame23/dhdl23.xvg', '9363c01c-08c9-4c47-ba8e-3dc9bd32c238/stateA/frame24/dhdl24.xvg', '9363c01c-08c9-4c47-ba8e-3dc9bd32c238/stateA/frame25/dhdl25.xvg', '9363c01c-08c9-4c47-ba8e-3dc9bd32c238/stateA/frame26/dhdl26.xvg', '9363c01c-08c9-4c47-ba8e-3dc9bd32c238/stateA/frame27/dhdl27.xvg', '9363c01c-08c9-4c47-ba8e-3dc9bd32c238/stateA/frame28/dhdl28.xvg', '9363c01c-08c9-4c47-ba8e-3dc9bd32c238/stateA/frame29/dhdl29.xvg', '9363c01c-08c9-4c47-ba8e-3dc9bd32c238/stateA/frame3/dhdl3.xvg', '9363c01c-08c9-4c47-ba8e-3dc9bd32c238/stateA/frame30/dhdl30.xvg', '9363c01c-08c9-4c47-ba8e-3dc9bd32c238/stateA/frame31/dhdl31.xvg', '9363c01c-08c9-4c47-ba8e-3dc9bd32c238/stateA/frame32/dhdl32.xvg', '9363c01c-08c9-4c47-ba8e-3dc9bd32c238/stateA/frame33/dhdl33.xvg', '9363c01c-08c9-4c47-ba8e-3dc9bd32c238/stateA/frame34/dhdl34.xvg', '9363c01c-08c9-4c47-ba8e-3dc9bd32c238/stateA/frame35/dhdl35.xvg', '9363c01c-08c9-4c47-ba8e-3dc9bd32c238/stateA/frame36/dhdl36.xvg', '9363c01c-08c9-4c47-ba8e-3dc9bd32c238/stateA/frame37/dhdl37.xvg', '9363c01c-08c9-4c47-ba8e-3dc9bd32c238/stateA/frame38/dhdl38.xvg', '9363c01c-08c9-4c47-ba8e-3dc9bd32c238/stateA/frame39/dhdl39.xvg', '9363c01c-08c9-4c47-ba8e-3dc9bd32c238/stateA/frame4/dhdl4.xvg', '9363c01c-08c9-4c47-ba8e-3dc9bd32c238/stateA/frame40/dhdl40.xvg', '9363c01c-08c9-4c47-ba8e-3dc9bd32c238/stateA/frame41/dhdl41.xvg', '9363c01c-08c9-4c47-ba8e-3dc9bd32c238/stateA/frame42/dhdl42.xvg', '9363c01c-08c9-4c47-ba8e-3dc9bd32c238/stateA/frame43/dhdl43.xvg', '9363c01c-08c9-4c47-ba8e-3dc9bd32c238/stateA/frame44/dhdl44.xvg', '9363c01c-08c9-4c47-ba8e-3dc9bd32c238/stateA/frame45/dhdl45.xvg', '9363c01c-08c9-4c47-ba8e-3dc9bd32c238/stateA/frame46/dhdl46.xvg', '9363c01c-08c9-4c47-ba8e-3dc9bd32c238/stateA/frame47/dhdl47.xvg', '9363c01c-08c9-4c47-ba8e-3dc9bd32c238/stateA/frame48/dhdl48.xvg', '9363c01c-08c9-4c47-ba8e-3dc9bd32c238/stateA/frame49/dhdl49.xvg', '9363c01c-08c9-4c47-ba8e-3dc9bd32c238/stateA/frame5/dhdl5.xvg', '9363c01c-08c9-4c47-ba8e-3dc9bd32c238/stateA/frame50/dhdl50.xvg', '9363c01c-08c9-4c47-ba8e-3dc9bd32c238/stateA/frame51/dhdl51.xvg', '9363c01c-08c9-4c47-ba8e-3dc9bd32c238/stateA/frame52/dhdl52.xvg', '9363c01c-08c9-4c47-ba8e-3dc9bd32c238/stateA/frame53/dhdl53.xvg', '9363c01c-08c9-4c47-ba8e-3dc9bd32c238/stateA/frame54/dhdl54.xvg', '9363c01c-08c9-4c47-ba8e-3dc9bd32c238/stateA/frame55/dhdl55.xvg', '9363c01c-08c9-4c47-ba8e-3dc9bd32c238/stateA/frame56/dhdl56.xvg', '9363c01c-08c9-4c47-ba8e-3dc9bd32c238/stateA/frame57/dhdl57.xvg', '9363c01c-08c9-4c47-ba8e-3dc9bd32c238/stateA/frame58/dhdl58.xvg', '9363c01c-08c9-4c47-ba8e-3dc9bd32c238/stateA/frame59/dhdl59.xvg', '9363c01c-08c9-4c47-ba8e-3dc9bd32c238/stateA/frame6/dhdl6.xvg', '9363c01c-08c9-4c47-ba8e-3dc9bd32c238/stateA/frame60/dhdl60.xvg', '9363c01c-08c9-4c47-ba8e-3dc9bd32c238/stateA/frame61/dhdl61.xvg', '9363c01c-08c9-4c47-ba8e-3dc9bd32c238/stateA/frame62/dhdl62.xvg', '9363c01c-08c9-4c47-ba8e-3dc9bd32c238/stateA/frame63/dhdl63.xvg', '9363c01c-08c9-4c47-ba8e-3dc9bd32c238/stateA/frame64/dhdl64.xvg', '9363c01c-08c9-4c47-ba8e-3dc9bd32c238/stateA/frame65/dhdl65.xvg', '9363c01c-08c9-4c47-ba8e-3dc9bd32c238/stateA/frame66/dhdl66.xvg', '9363c01c-08c9-4c47-ba8e-3dc9bd32c238/stateA/frame67/dhdl67.xvg', '9363c01c-08c9-4c47-ba8e-3dc9bd32c238/stateA/frame68/dhdl68.xvg', '9363c01c-08c9-4c47-ba8e-3dc9bd32c238/stateA/frame69/dhdl69.xvg', '9363c01c-08c9-4c47-ba8e-3dc9bd32c238/stateA/frame7/dhdl7.xvg', '9363c01c-08c9-4c47-ba8e-3dc9bd32c238/stateA/frame70/dhdl70.xvg', '9363c01c-08c9-4c47-ba8e-3dc9bd32c238/stateA/frame71/dhdl71.xvg', '9363c01c-08c9-4c47-ba8e-3dc9bd32c238/stateA/frame72/dhdl72.xvg', '9363c01c-08c9-4c47-ba8e-3dc9bd32c238/stateA/frame73/dhdl73.xvg', '9363c01c-08c9-4c47-ba8e-3dc9bd32c238/stateA/frame74/dhdl74.xvg', '9363c01c-08c9-4c47-ba8e-3dc9bd32c238/stateA/frame75/dhdl75.xvg', '9363c01c-08c9-4c47-ba8e-3dc9bd32c238/stateA/frame76/dhdl76.xvg', '9363c01c-08c9-4c47-ba8e-3dc9bd32c238/stateA/frame77/dhdl77.xvg', '9363c01c-08c9-4c47-ba8e-3dc9bd32c238/stateA/frame78/dhdl78.xvg', '9363c01c-08c9-4c47-ba8e-3dc9bd32c238/stateA/frame79/dhdl79.xvg', '9363c01c-08c9-4c47-ba8e-3dc9bd32c238/stateA/frame8/dhdl8.xvg', '9363c01c-08c9-4c47-ba8e-3dc9bd32c238/stateA/frame80/dhdl80.xvg', '9363c01c-08c9-4c47-ba8e-3dc9bd32c238/stateA/frame81/dhdl81.xvg', '9363c01c-08c9-4c47-ba8e-3dc9bd32c238/stateA/frame82/dhdl82.xvg', '9363c01c-08c9-4c47-ba8e-3dc9bd32c238/stateA/frame83/dhdl83.xvg', '9363c01c-08c9-4c47-ba8e-3dc9bd32c238/stateA/frame84/dhdl84.xvg', '9363c01c-08c9-4c47-ba8e-3dc9bd32c238/stateA/frame85/dhdl85.xvg', '9363c01c-08c9-4c47-ba8e-3dc9bd32c238/stateA/frame86/dhdl86.xvg', '9363c01c-08c9-4c47-ba8e-3dc9bd32c238/stateA/frame87/dhdl87.xvg', '9363c01c-08c9-4c47-ba8e-3dc9bd32c238/stateA/frame88/dhdl88.xvg', '9363c01c-08c9-4c47-ba8e-3dc9bd32c238/stateA/frame89/dhdl89.xvg', '9363c01c-08c9-4c47-ba8e-3dc9bd32c238/stateA/frame9/dhdl9.xvg', '9363c01c-08c9-4c47-ba8e-3dc9bd32c238/stateA/frame90/dhdl90.xvg', '9363c01c-08c9-4c47-ba8e-3dc9bd32c238/stateA/frame91/dhdl91.xvg', '9363c01c-08c9-4c47-ba8e-3dc9bd32c238/stateA/frame92/dhdl92.xvg', '9363c01c-08c9-4c47-ba8e-3dc9bd32c238/stateA/frame93/dhdl93.xvg', '9363c01c-08c9-4c47-ba8e-3dc9bd32c238/stateA/frame94/dhdl94.xvg', '9363c01c-08c9-4c47-ba8e-3dc9bd32c238/stateA/frame95/dhdl95.xvg', '9363c01c-08c9-4c47-ba8e-3dc9bd32c238/stateA/frame96/dhdl96.xvg', '9363c01c-08c9-4c47-ba8e-3dc9bd32c238/stateA/frame97/dhdl97.xvg', '9363c01c-08c9-4c47-ba8e-3dc9bd32c238/stateA/frame98/dhdl98.xvg', '9363c01c-08c9-4c47-ba8e-3dc9bd32c238/stateA/frame99/dhdl99.xvg']\n",
      "2020-10-13 17:47:59,622 [MainThread  ] [INFO ]  Extracting: /Users/pau/projects/biobb_wf_pmx_tutorial/biobb_wf_pmx_tutorial/notebooks/pmx_tutorial/dhdlB.zip\n",
      "2020-10-13 17:47:59,623 [MainThread  ] [INFO ]  to:\n",
      "2020-10-13 17:47:59,624 [MainThread  ] [INFO ]  ['586f7d29-eb5f-4608-800e-d226e6e3f4c6/stateB/frame0/dhdl0.xvg', '586f7d29-eb5f-4608-800e-d226e6e3f4c6/stateB/frame1/dhdl1.xvg', '586f7d29-eb5f-4608-800e-d226e6e3f4c6/stateB/frame10/dhdl10.xvg', '586f7d29-eb5f-4608-800e-d226e6e3f4c6/stateB/frame11/dhdl11.xvg', '586f7d29-eb5f-4608-800e-d226e6e3f4c6/stateB/frame12/dhdl12.xvg', '586f7d29-eb5f-4608-800e-d226e6e3f4c6/stateB/frame13/dhdl13.xvg', '586f7d29-eb5f-4608-800e-d226e6e3f4c6/stateB/frame14/dhdl14.xvg', '586f7d29-eb5f-4608-800e-d226e6e3f4c6/stateB/frame15/dhdl15.xvg', '586f7d29-eb5f-4608-800e-d226e6e3f4c6/stateB/frame16/dhdl16.xvg', '586f7d29-eb5f-4608-800e-d226e6e3f4c6/stateB/frame17/dhdl17.xvg', '586f7d29-eb5f-4608-800e-d226e6e3f4c6/stateB/frame18/dhdl18.xvg', '586f7d29-eb5f-4608-800e-d226e6e3f4c6/stateB/frame19/dhdl19.xvg', '586f7d29-eb5f-4608-800e-d226e6e3f4c6/stateB/frame2/dhdl2.xvg', '586f7d29-eb5f-4608-800e-d226e6e3f4c6/stateB/frame20/dhdl20.xvg', '586f7d29-eb5f-4608-800e-d226e6e3f4c6/stateB/frame21/dhdl21.xvg', '586f7d29-eb5f-4608-800e-d226e6e3f4c6/stateB/frame22/dhdl22.xvg', '586f7d29-eb5f-4608-800e-d226e6e3f4c6/stateB/frame23/dhdl23.xvg', '586f7d29-eb5f-4608-800e-d226e6e3f4c6/stateB/frame24/dhdl24.xvg', '586f7d29-eb5f-4608-800e-d226e6e3f4c6/stateB/frame25/dhdl25.xvg', '586f7d29-eb5f-4608-800e-d226e6e3f4c6/stateB/frame26/dhdl26.xvg', '586f7d29-eb5f-4608-800e-d226e6e3f4c6/stateB/frame27/dhdl27.xvg', '586f7d29-eb5f-4608-800e-d226e6e3f4c6/stateB/frame28/dhdl28.xvg', '586f7d29-eb5f-4608-800e-d226e6e3f4c6/stateB/frame29/dhdl29.xvg', '586f7d29-eb5f-4608-800e-d226e6e3f4c6/stateB/frame3/dhdl3.xvg', '586f7d29-eb5f-4608-800e-d226e6e3f4c6/stateB/frame30/dhdl30.xvg', '586f7d29-eb5f-4608-800e-d226e6e3f4c6/stateB/frame31/dhdl31.xvg', '586f7d29-eb5f-4608-800e-d226e6e3f4c6/stateB/frame32/dhdl32.xvg', '586f7d29-eb5f-4608-800e-d226e6e3f4c6/stateB/frame33/dhdl33.xvg', '586f7d29-eb5f-4608-800e-d226e6e3f4c6/stateB/frame34/dhdl34.xvg', '586f7d29-eb5f-4608-800e-d226e6e3f4c6/stateB/frame35/dhdl35.xvg', '586f7d29-eb5f-4608-800e-d226e6e3f4c6/stateB/frame36/dhdl36.xvg', '586f7d29-eb5f-4608-800e-d226e6e3f4c6/stateB/frame37/dhdl37.xvg', '586f7d29-eb5f-4608-800e-d226e6e3f4c6/stateB/frame38/dhdl38.xvg', '586f7d29-eb5f-4608-800e-d226e6e3f4c6/stateB/frame39/dhdl39.xvg', '586f7d29-eb5f-4608-800e-d226e6e3f4c6/stateB/frame4/dhdl4.xvg', '586f7d29-eb5f-4608-800e-d226e6e3f4c6/stateB/frame40/dhdl40.xvg', '586f7d29-eb5f-4608-800e-d226e6e3f4c6/stateB/frame41/dhdl41.xvg', '586f7d29-eb5f-4608-800e-d226e6e3f4c6/stateB/frame42/dhdl42.xvg', '586f7d29-eb5f-4608-800e-d226e6e3f4c6/stateB/frame43/dhdl43.xvg', '586f7d29-eb5f-4608-800e-d226e6e3f4c6/stateB/frame44/dhdl44.xvg', '586f7d29-eb5f-4608-800e-d226e6e3f4c6/stateB/frame45/dhdl45.xvg', '586f7d29-eb5f-4608-800e-d226e6e3f4c6/stateB/frame46/dhdl46.xvg', '586f7d29-eb5f-4608-800e-d226e6e3f4c6/stateB/frame47/dhdl47.xvg', '586f7d29-eb5f-4608-800e-d226e6e3f4c6/stateB/frame48/dhdl48.xvg', '586f7d29-eb5f-4608-800e-d226e6e3f4c6/stateB/frame49/dhdl49.xvg', '586f7d29-eb5f-4608-800e-d226e6e3f4c6/stateB/frame5/dhdl5.xvg', '586f7d29-eb5f-4608-800e-d226e6e3f4c6/stateB/frame50/dhdl50.xvg', '586f7d29-eb5f-4608-800e-d226e6e3f4c6/stateB/frame51/dhdl51.xvg', '586f7d29-eb5f-4608-800e-d226e6e3f4c6/stateB/frame52/dhdl52.xvg', '586f7d29-eb5f-4608-800e-d226e6e3f4c6/stateB/frame53/dhdl53.xvg', '586f7d29-eb5f-4608-800e-d226e6e3f4c6/stateB/frame54/dhdl54.xvg', '586f7d29-eb5f-4608-800e-d226e6e3f4c6/stateB/frame55/dhdl55.xvg', '586f7d29-eb5f-4608-800e-d226e6e3f4c6/stateB/frame56/dhdl56.xvg', '586f7d29-eb5f-4608-800e-d226e6e3f4c6/stateB/frame57/dhdl57.xvg', '586f7d29-eb5f-4608-800e-d226e6e3f4c6/stateB/frame58/dhdl58.xvg', '586f7d29-eb5f-4608-800e-d226e6e3f4c6/stateB/frame59/dhdl59.xvg', '586f7d29-eb5f-4608-800e-d226e6e3f4c6/stateB/frame6/dhdl6.xvg', '586f7d29-eb5f-4608-800e-d226e6e3f4c6/stateB/frame60/dhdl60.xvg', '586f7d29-eb5f-4608-800e-d226e6e3f4c6/stateB/frame61/dhdl61.xvg', '586f7d29-eb5f-4608-800e-d226e6e3f4c6/stateB/frame62/dhdl62.xvg', '586f7d29-eb5f-4608-800e-d226e6e3f4c6/stateB/frame63/dhdl63.xvg', '586f7d29-eb5f-4608-800e-d226e6e3f4c6/stateB/frame64/dhdl64.xvg', '586f7d29-eb5f-4608-800e-d226e6e3f4c6/stateB/frame65/dhdl65.xvg', '586f7d29-eb5f-4608-800e-d226e6e3f4c6/stateB/frame66/dhdl66.xvg', '586f7d29-eb5f-4608-800e-d226e6e3f4c6/stateB/frame67/dhdl67.xvg', '586f7d29-eb5f-4608-800e-d226e6e3f4c6/stateB/frame68/dhdl68.xvg', '586f7d29-eb5f-4608-800e-d226e6e3f4c6/stateB/frame69/dhdl69.xvg', '586f7d29-eb5f-4608-800e-d226e6e3f4c6/stateB/frame7/dhdl7.xvg', '586f7d29-eb5f-4608-800e-d226e6e3f4c6/stateB/frame70/dhdl70.xvg', '586f7d29-eb5f-4608-800e-d226e6e3f4c6/stateB/frame71/dhdl71.xvg', '586f7d29-eb5f-4608-800e-d226e6e3f4c6/stateB/frame72/dhdl72.xvg', '586f7d29-eb5f-4608-800e-d226e6e3f4c6/stateB/frame73/dhdl73.xvg', '586f7d29-eb5f-4608-800e-d226e6e3f4c6/stateB/frame74/dhdl74.xvg', '586f7d29-eb5f-4608-800e-d226e6e3f4c6/stateB/frame75/dhdl75.xvg', '586f7d29-eb5f-4608-800e-d226e6e3f4c6/stateB/frame76/dhdl76.xvg', '586f7d29-eb5f-4608-800e-d226e6e3f4c6/stateB/frame77/dhdl77.xvg', '586f7d29-eb5f-4608-800e-d226e6e3f4c6/stateB/frame78/dhdl78.xvg', '586f7d29-eb5f-4608-800e-d226e6e3f4c6/stateB/frame79/dhdl79.xvg', '586f7d29-eb5f-4608-800e-d226e6e3f4c6/stateB/frame8/dhdl8.xvg', '586f7d29-eb5f-4608-800e-d226e6e3f4c6/stateB/frame80/dhdl80.xvg', '586f7d29-eb5f-4608-800e-d226e6e3f4c6/stateB/frame81/dhdl81.xvg', '586f7d29-eb5f-4608-800e-d226e6e3f4c6/stateB/frame82/dhdl82.xvg', '586f7d29-eb5f-4608-800e-d226e6e3f4c6/stateB/frame83/dhdl83.xvg', '586f7d29-eb5f-4608-800e-d226e6e3f4c6/stateB/frame84/dhdl84.xvg', '586f7d29-eb5f-4608-800e-d226e6e3f4c6/stateB/frame85/dhdl85.xvg', '586f7d29-eb5f-4608-800e-d226e6e3f4c6/stateB/frame86/dhdl86.xvg', '586f7d29-eb5f-4608-800e-d226e6e3f4c6/stateB/frame87/dhdl87.xvg', '586f7d29-eb5f-4608-800e-d226e6e3f4c6/stateB/frame88/dhdl88.xvg', '586f7d29-eb5f-4608-800e-d226e6e3f4c6/stateB/frame89/dhdl89.xvg', '586f7d29-eb5f-4608-800e-d226e6e3f4c6/stateB/frame9/dhdl9.xvg', '586f7d29-eb5f-4608-800e-d226e6e3f4c6/stateB/frame90/dhdl90.xvg', '586f7d29-eb5f-4608-800e-d226e6e3f4c6/stateB/frame91/dhdl91.xvg', '586f7d29-eb5f-4608-800e-d226e6e3f4c6/stateB/frame92/dhdl92.xvg', '586f7d29-eb5f-4608-800e-d226e6e3f4c6/stateB/frame93/dhdl93.xvg', '586f7d29-eb5f-4608-800e-d226e6e3f4c6/stateB/frame94/dhdl94.xvg', '586f7d29-eb5f-4608-800e-d226e6e3f4c6/stateB/frame95/dhdl95.xvg', '586f7d29-eb5f-4608-800e-d226e6e3f4c6/stateB/frame96/dhdl96.xvg', '586f7d29-eb5f-4608-800e-d226e6e3f4c6/stateB/frame97/dhdl97.xvg', '586f7d29-eb5f-4608-800e-d226e6e3f4c6/stateB/frame98/dhdl98.xvg', '586f7d29-eb5f-4608-800e-d226e6e3f4c6/stateB/frame99/dhdl99.xvg']\n"
     ]
    },
    {
     "name": "stderr",
     "output_type": "stream",
     "text": [
      "2020-10-13 17:47:59,630 [MainThread  ] [INFO ]  Not using any container\n",
      "2020-10-13 17:48:08,459 [MainThread  ] [INFO ]  pmx analyse -fA 9363c01c-08c9-4c47-ba8e-3dc9bd32c238/stateA/frame0/dhdl0.xvg 9363c01c-08c9-4c47-ba8e-3dc9bd32c238/stateA/frame1/dhdl1.xvg 9363c01c-08c9-4c47-ba8e-3dc9bd32c238/stateA/frame10/dhdl10.xvg 9363c01c-08c9-4c47-ba8e-3dc9bd32c238/stateA/frame11/dhdl11.xvg 9363c01c-08c9-4c47-ba8e-3dc9bd32c238/stateA/frame12/dhdl12.xvg 9363c01c-08c9-4c47-ba8e-3dc9bd32c238/stateA/frame13/dhdl13.xvg 9363c01c-08c9-4c47-ba8e-3dc9bd32c238/stateA/frame14/dhdl14.xvg 9363c01c-08c9-4c47-ba8e-3dc9bd32c238/stateA/frame15/dhdl15.xvg 9363c01c-08c9-4c47-ba8e-3dc9bd32c238/stateA/frame16/dhdl16.xvg 9363c01c-08c9-4c47-ba8e-3dc9bd32c238/stateA/frame17/dhdl17.xvg 9363c01c-08c9-4c47-ba8e-3dc9bd32c238/stateA/frame18/dhdl18.xvg 9363c01c-08c9-4c47-ba8e-3dc9bd32c238/stateA/frame19/dhdl19.xvg 9363c01c-08c9-4c47-ba8e-3dc9bd32c238/stateA/frame2/dhdl2.xvg 9363c01c-08c9-4c47-ba8e-3dc9bd32c238/stateA/frame20/dhdl20.xvg 9363c01c-08c9-4c47-ba8e-3dc9bd32c238/stateA/frame21/dhdl21.xvg 9363c01c-08c9-4c47-ba8e-3dc9bd32c238/stateA/frame22/dhdl22.xvg 9363c01c-08c9-4c47-ba8e-3dc9bd32c238/stateA/frame23/dhdl23.xvg 9363c01c-08c9-4c47-ba8e-3dc9bd32c238/stateA/frame24/dhdl24.xvg 9363c01c-08c9-4c47-ba8e-3dc9bd32c238/stateA/frame25/dhdl25.xvg 9363c01c-08c9-4c47-ba8e-3dc9bd32c238/stateA/frame26/dhdl26.xvg 9363c01c-08c9-4c47-ba8e-3dc9bd32c238/stateA/frame27/dhdl27.xvg 9363c01c-08c9-4c47-ba8e-3dc9bd32c238/stateA/frame28/dhdl28.xvg 9363c01c-08c9-4c47-ba8e-3dc9bd32c238/stateA/frame29/dhdl29.xvg 9363c01c-08c9-4c47-ba8e-3dc9bd32c238/stateA/frame3/dhdl3.xvg 9363c01c-08c9-4c47-ba8e-3dc9bd32c238/stateA/frame30/dhdl30.xvg 9363c01c-08c9-4c47-ba8e-3dc9bd32c238/stateA/frame31/dhdl31.xvg 9363c01c-08c9-4c47-ba8e-3dc9bd32c238/stateA/frame32/dhdl32.xvg 9363c01c-08c9-4c47-ba8e-3dc9bd32c238/stateA/frame33/dhdl33.xvg 9363c01c-08c9-4c47-ba8e-3dc9bd32c238/stateA/frame34/dhdl34.xvg 9363c01c-08c9-4c47-ba8e-3dc9bd32c238/stateA/frame35/dhdl35.xvg 9363c01c-08c9-4c47-ba8e-3dc9bd32c238/stateA/frame36/dhdl36.xvg 9363c01c-08c9-4c47-ba8e-3dc9bd32c238/stateA/frame37/dhdl37.xvg 9363c01c-08c9-4c47-ba8e-3dc9bd32c238/stateA/frame38/dhdl38.xvg 9363c01c-08c9-4c47-ba8e-3dc9bd32c238/stateA/frame39/dhdl39.xvg 9363c01c-08c9-4c47-ba8e-3dc9bd32c238/stateA/frame4/dhdl4.xvg 9363c01c-08c9-4c47-ba8e-3dc9bd32c238/stateA/frame40/dhdl40.xvg 9363c01c-08c9-4c47-ba8e-3dc9bd32c238/stateA/frame41/dhdl41.xvg 9363c01c-08c9-4c47-ba8e-3dc9bd32c238/stateA/frame42/dhdl42.xvg 9363c01c-08c9-4c47-ba8e-3dc9bd32c238/stateA/frame43/dhdl43.xvg 9363c01c-08c9-4c47-ba8e-3dc9bd32c238/stateA/frame44/dhdl44.xvg 9363c01c-08c9-4c47-ba8e-3dc9bd32c238/stateA/frame45/dhdl45.xvg 9363c01c-08c9-4c47-ba8e-3dc9bd32c238/stateA/frame46/dhdl46.xvg 9363c01c-08c9-4c47-ba8e-3dc9bd32c238/stateA/frame47/dhdl47.xvg 9363c01c-08c9-4c47-ba8e-3dc9bd32c238/stateA/frame48/dhdl48.xvg 9363c01c-08c9-4c47-ba8e-3dc9bd32c238/stateA/frame49/dhdl49.xvg 9363c01c-08c9-4c47-ba8e-3dc9bd32c238/stateA/frame5/dhdl5.xvg 9363c01c-08c9-4c47-ba8e-3dc9bd32c238/stateA/frame50/dhdl50.xvg 9363c01c-08c9-4c47-ba8e-3dc9bd32c238/stateA/frame51/dhdl51.xvg 9363c01c-08c9-4c47-ba8e-3dc9bd32c238/stateA/frame52/dhdl52.xvg 9363c01c-08c9-4c47-ba8e-3dc9bd32c238/stateA/frame53/dhdl53.xvg 9363c01c-08c9-4c47-ba8e-3dc9bd32c238/stateA/frame54/dhdl54.xvg 9363c01c-08c9-4c47-ba8e-3dc9bd32c238/stateA/frame55/dhdl55.xvg 9363c01c-08c9-4c47-ba8e-3dc9bd32c238/stateA/frame56/dhdl56.xvg 9363c01c-08c9-4c47-ba8e-3dc9bd32c238/stateA/frame57/dhdl57.xvg 9363c01c-08c9-4c47-ba8e-3dc9bd32c238/stateA/frame58/dhdl58.xvg 9363c01c-08c9-4c47-ba8e-3dc9bd32c238/stateA/frame59/dhdl59.xvg 9363c01c-08c9-4c47-ba8e-3dc9bd32c238/stateA/frame6/dhdl6.xvg 9363c01c-08c9-4c47-ba8e-3dc9bd32c238/stateA/frame60/dhdl60.xvg 9363c01c-08c9-4c47-ba8e-3dc9bd32c238/stateA/frame61/dhdl61.xvg 9363c01c-08c9-4c47-ba8e-3dc9bd32c238/stateA/frame62/dhdl62.xvg 9363c01c-08c9-4c47-ba8e-3dc9bd32c238/stateA/frame63/dhdl63.xvg 9363c01c-08c9-4c47-ba8e-3dc9bd32c238/stateA/frame64/dhdl64.xvg 9363c01c-08c9-4c47-ba8e-3dc9bd32c238/stateA/frame65/dhdl65.xvg 9363c01c-08c9-4c47-ba8e-3dc9bd32c238/stateA/frame66/dhdl66.xvg 9363c01c-08c9-4c47-ba8e-3dc9bd32c238/stateA/frame67/dhdl67.xvg 9363c01c-08c9-4c47-ba8e-3dc9bd32c238/stateA/frame68/dhdl68.xvg 9363c01c-08c9-4c47-ba8e-3dc9bd32c238/stateA/frame69/dhdl69.xvg 9363c01c-08c9-4c47-ba8e-3dc9bd32c238/stateA/frame7/dhdl7.xvg 9363c01c-08c9-4c47-ba8e-3dc9bd32c238/stateA/frame70/dhdl70.xvg 9363c01c-08c9-4c47-ba8e-3dc9bd32c238/stateA/frame71/dhdl71.xvg 9363c01c-08c9-4c47-ba8e-3dc9bd32c238/stateA/frame72/dhdl72.xvg 9363c01c-08c9-4c47-ba8e-3dc9bd32c238/stateA/frame73/dhdl73.xvg 9363c01c-08c9-4c47-ba8e-3dc9bd32c238/stateA/frame74/dhdl74.xvg 9363c01c-08c9-4c47-ba8e-3dc9bd32c238/stateA/frame75/dhdl75.xvg 9363c01c-08c9-4c47-ba8e-3dc9bd32c238/stateA/frame76/dhdl76.xvg 9363c01c-08c9-4c47-ba8e-3dc9bd32c238/stateA/frame77/dhdl77.xvg 9363c01c-08c9-4c47-ba8e-3dc9bd32c238/stateA/frame78/dhdl78.xvg 9363c01c-08c9-4c47-ba8e-3dc9bd32c238/stateA/frame79/dhdl79.xvg 9363c01c-08c9-4c47-ba8e-3dc9bd32c238/stateA/frame8/dhdl8.xvg 9363c01c-08c9-4c47-ba8e-3dc9bd32c238/stateA/frame80/dhdl80.xvg 9363c01c-08c9-4c47-ba8e-3dc9bd32c238/stateA/frame81/dhdl81.xvg 9363c01c-08c9-4c47-ba8e-3dc9bd32c238/stateA/frame82/dhdl82.xvg 9363c01c-08c9-4c47-ba8e-3dc9bd32c238/stateA/frame83/dhdl83.xvg 9363c01c-08c9-4c47-ba8e-3dc9bd32c238/stateA/frame84/dhdl84.xvg 9363c01c-08c9-4c47-ba8e-3dc9bd32c238/stateA/frame85/dhdl85.xvg 9363c01c-08c9-4c47-ba8e-3dc9bd32c238/stateA/frame86/dhdl86.xvg 9363c01c-08c9-4c47-ba8e-3dc9bd32c238/stateA/frame87/dhdl87.xvg 9363c01c-08c9-4c47-ba8e-3dc9bd32c238/stateA/frame88/dhdl88.xvg 9363c01c-08c9-4c47-ba8e-3dc9bd32c238/stateA/frame89/dhdl89.xvg 9363c01c-08c9-4c47-ba8e-3dc9bd32c238/stateA/frame9/dhdl9.xvg 9363c01c-08c9-4c47-ba8e-3dc9bd32c238/stateA/frame90/dhdl90.xvg 9363c01c-08c9-4c47-ba8e-3dc9bd32c238/stateA/frame91/dhdl91.xvg 9363c01c-08c9-4c47-ba8e-3dc9bd32c238/stateA/frame92/dhdl92.xvg 9363c01c-08c9-4c47-ba8e-3dc9bd32c238/stateA/frame93/dhdl93.xvg 9363c01c-08c9-4c47-ba8e-3dc9bd32c238/stateA/frame94/dhdl94.xvg 9363c01c-08c9-4c47-ba8e-3dc9bd32c238/stateA/frame95/dhdl95.xvg 9363c01c-08c9-4c47-ba8e-3dc9bd32c238/stateA/frame96/dhdl96.xvg 9363c01c-08c9-4c47-ba8e-3dc9bd32c238/stateA/frame97/dhdl97.xvg 9363c01c-08c9-4c47-ba8e-3dc9bd32c238/stateA/frame98/dhdl98.xvg 9363c01c-08c9-4c47-ba8e-3dc9bd32c238/stateA/frame99/dhdl99.xvg -fB 586f7d29-eb5f-4608-800e-d226e6e3f4c6/stateB/frame0/dhdl0.xvg 586f7d29-eb5f-4608-800e-d226e6e3f4c6/stateB/frame1/dhdl1.xvg 586f7d29-eb5f-4608-800e-d226e6e3f4c6/stateB/frame10/dhdl10.xvg 586f7d29-eb5f-4608-800e-d226e6e3f4c6/stateB/frame11/dhdl11.xvg 586f7d29-eb5f-4608-800e-d226e6e3f4c6/stateB/frame12/dhdl12.xvg 586f7d29-eb5f-4608-800e-d226e6e3f4c6/stateB/frame13/dhdl13.xvg 586f7d29-eb5f-4608-800e-d226e6e3f4c6/stateB/frame14/dhdl14.xvg 586f7d29-eb5f-4608-800e-d226e6e3f4c6/stateB/frame15/dhdl15.xvg 586f7d29-eb5f-4608-800e-d226e6e3f4c6/stateB/frame16/dhdl16.xvg 586f7d29-eb5f-4608-800e-d226e6e3f4c6/stateB/frame17/dhdl17.xvg 586f7d29-eb5f-4608-800e-d226e6e3f4c6/stateB/frame18/dhdl18.xvg 586f7d29-eb5f-4608-800e-d226e6e3f4c6/stateB/frame19/dhdl19.xvg 586f7d29-eb5f-4608-800e-d226e6e3f4c6/stateB/frame2/dhdl2.xvg 586f7d29-eb5f-4608-800e-d226e6e3f4c6/stateB/frame20/dhdl20.xvg 586f7d29-eb5f-4608-800e-d226e6e3f4c6/stateB/frame21/dhdl21.xvg 586f7d29-eb5f-4608-800e-d226e6e3f4c6/stateB/frame22/dhdl22.xvg 586f7d29-eb5f-4608-800e-d226e6e3f4c6/stateB/frame23/dhdl23.xvg 586f7d29-eb5f-4608-800e-d226e6e3f4c6/stateB/frame24/dhdl24.xvg 586f7d29-eb5f-4608-800e-d226e6e3f4c6/stateB/frame25/dhdl25.xvg 586f7d29-eb5f-4608-800e-d226e6e3f4c6/stateB/frame26/dhdl26.xvg 586f7d29-eb5f-4608-800e-d226e6e3f4c6/stateB/frame27/dhdl27.xvg 586f7d29-eb5f-4608-800e-d226e6e3f4c6/stateB/frame28/dhdl28.xvg 586f7d29-eb5f-4608-800e-d226e6e3f4c6/stateB/frame29/dhdl29.xvg 586f7d29-eb5f-4608-800e-d226e6e3f4c6/stateB/frame3/dhdl3.xvg 586f7d29-eb5f-4608-800e-d226e6e3f4c6/stateB/frame30/dhdl30.xvg 586f7d29-eb5f-4608-800e-d226e6e3f4c6/stateB/frame31/dhdl31.xvg 586f7d29-eb5f-4608-800e-d226e6e3f4c6/stateB/frame32/dhdl32.xvg 586f7d29-eb5f-4608-800e-d226e6e3f4c6/stateB/frame33/dhdl33.xvg 586f7d29-eb5f-4608-800e-d226e6e3f4c6/stateB/frame34/dhdl34.xvg 586f7d29-eb5f-4608-800e-d226e6e3f4c6/stateB/frame35/dhdl35.xvg 586f7d29-eb5f-4608-800e-d226e6e3f4c6/stateB/frame36/dhdl36.xvg 586f7d29-eb5f-4608-800e-d226e6e3f4c6/stateB/frame37/dhdl37.xvg 586f7d29-eb5f-4608-800e-d226e6e3f4c6/stateB/frame38/dhdl38.xvg 586f7d29-eb5f-4608-800e-d226e6e3f4c6/stateB/frame39/dhdl39.xvg 586f7d29-eb5f-4608-800e-d226e6e3f4c6/stateB/frame4/dhdl4.xvg 586f7d29-eb5f-4608-800e-d226e6e3f4c6/stateB/frame40/dhdl40.xvg 586f7d29-eb5f-4608-800e-d226e6e3f4c6/stateB/frame41/dhdl41.xvg 586f7d29-eb5f-4608-800e-d226e6e3f4c6/stateB/frame42/dhdl42.xvg 586f7d29-eb5f-4608-800e-d226e6e3f4c6/stateB/frame43/dhdl43.xvg 586f7d29-eb5f-4608-800e-d226e6e3f4c6/stateB/frame44/dhdl44.xvg 586f7d29-eb5f-4608-800e-d226e6e3f4c6/stateB/frame45/dhdl45.xvg 586f7d29-eb5f-4608-800e-d226e6e3f4c6/stateB/frame46/dhdl46.xvg 586f7d29-eb5f-4608-800e-d226e6e3f4c6/stateB/frame47/dhdl47.xvg 586f7d29-eb5f-4608-800e-d226e6e3f4c6/stateB/frame48/dhdl48.xvg 586f7d29-eb5f-4608-800e-d226e6e3f4c6/stateB/frame49/dhdl49.xvg 586f7d29-eb5f-4608-800e-d226e6e3f4c6/stateB/frame5/dhdl5.xvg 586f7d29-eb5f-4608-800e-d226e6e3f4c6/stateB/frame50/dhdl50.xvg 586f7d29-eb5f-4608-800e-d226e6e3f4c6/stateB/frame51/dhdl51.xvg 586f7d29-eb5f-4608-800e-d226e6e3f4c6/stateB/frame52/dhdl52.xvg 586f7d29-eb5f-4608-800e-d226e6e3f4c6/stateB/frame53/dhdl53.xvg 586f7d29-eb5f-4608-800e-d226e6e3f4c6/stateB/frame54/dhdl54.xvg 586f7d29-eb5f-4608-800e-d226e6e3f4c6/stateB/frame55/dhdl55.xvg 586f7d29-eb5f-4608-800e-d226e6e3f4c6/stateB/frame56/dhdl56.xvg 586f7d29-eb5f-4608-800e-d226e6e3f4c6/stateB/frame57/dhdl57.xvg 586f7d29-eb5f-4608-800e-d226e6e3f4c6/stateB/frame58/dhdl58.xvg 586f7d29-eb5f-4608-800e-d226e6e3f4c6/stateB/frame59/dhdl59.xvg 586f7d29-eb5f-4608-800e-d226e6e3f4c6/stateB/frame6/dhdl6.xvg 586f7d29-eb5f-4608-800e-d226e6e3f4c6/stateB/frame60/dhdl60.xvg 586f7d29-eb5f-4608-800e-d226e6e3f4c6/stateB/frame61/dhdl61.xvg 586f7d29-eb5f-4608-800e-d226e6e3f4c6/stateB/frame62/dhdl62.xvg 586f7d29-eb5f-4608-800e-d226e6e3f4c6/stateB/frame63/dhdl63.xvg 586f7d29-eb5f-4608-800e-d226e6e3f4c6/stateB/frame64/dhdl64.xvg 586f7d29-eb5f-4608-800e-d226e6e3f4c6/stateB/frame65/dhdl65.xvg 586f7d29-eb5f-4608-800e-d226e6e3f4c6/stateB/frame66/dhdl66.xvg 586f7d29-eb5f-4608-800e-d226e6e3f4c6/stateB/frame67/dhdl67.xvg 586f7d29-eb5f-4608-800e-d226e6e3f4c6/stateB/frame68/dhdl68.xvg 586f7d29-eb5f-4608-800e-d226e6e3f4c6/stateB/frame69/dhdl69.xvg 586f7d29-eb5f-4608-800e-d226e6e3f4c6/stateB/frame7/dhdl7.xvg 586f7d29-eb5f-4608-800e-d226e6e3f4c6/stateB/frame70/dhdl70.xvg 586f7d29-eb5f-4608-800e-d226e6e3f4c6/stateB/frame71/dhdl71.xvg 586f7d29-eb5f-4608-800e-d226e6e3f4c6/stateB/frame72/dhdl72.xvg 586f7d29-eb5f-4608-800e-d226e6e3f4c6/stateB/frame73/dhdl73.xvg 586f7d29-eb5f-4608-800e-d226e6e3f4c6/stateB/frame74/dhdl74.xvg 586f7d29-eb5f-4608-800e-d226e6e3f4c6/stateB/frame75/dhdl75.xvg 586f7d29-eb5f-4608-800e-d226e6e3f4c6/stateB/frame76/dhdl76.xvg 586f7d29-eb5f-4608-800e-d226e6e3f4c6/stateB/frame77/dhdl77.xvg 586f7d29-eb5f-4608-800e-d226e6e3f4c6/stateB/frame78/dhdl78.xvg 586f7d29-eb5f-4608-800e-d226e6e3f4c6/stateB/frame79/dhdl79.xvg 586f7d29-eb5f-4608-800e-d226e6e3f4c6/stateB/frame8/dhdl8.xvg 586f7d29-eb5f-4608-800e-d226e6e3f4c6/stateB/frame80/dhdl80.xvg 586f7d29-eb5f-4608-800e-d226e6e3f4c6/stateB/frame81/dhdl81.xvg 586f7d29-eb5f-4608-800e-d226e6e3f4c6/stateB/frame82/dhdl82.xvg 586f7d29-eb5f-4608-800e-d226e6e3f4c6/stateB/frame83/dhdl83.xvg 586f7d29-eb5f-4608-800e-d226e6e3f4c6/stateB/frame84/dhdl84.xvg 586f7d29-eb5f-4608-800e-d226e6e3f4c6/stateB/frame85/dhdl85.xvg 586f7d29-eb5f-4608-800e-d226e6e3f4c6/stateB/frame86/dhdl86.xvg 586f7d29-eb5f-4608-800e-d226e6e3f4c6/stateB/frame87/dhdl87.xvg 586f7d29-eb5f-4608-800e-d226e6e3f4c6/stateB/frame88/dhdl88.xvg 586f7d29-eb5f-4608-800e-d226e6e3f4c6/stateB/frame89/dhdl89.xvg 586f7d29-eb5f-4608-800e-d226e6e3f4c6/stateB/frame9/dhdl9.xvg 586f7d29-eb5f-4608-800e-d226e6e3f4c6/stateB/frame90/dhdl90.xvg 586f7d29-eb5f-4608-800e-d226e6e3f4c6/stateB/frame91/dhdl91.xvg 586f7d29-eb5f-4608-800e-d226e6e3f4c6/stateB/frame92/dhdl92.xvg 586f7d29-eb5f-4608-800e-d226e6e3f4c6/stateB/frame93/dhdl93.xvg 586f7d29-eb5f-4608-800e-d226e6e3f4c6/stateB/frame94/dhdl94.xvg 586f7d29-eb5f-4608-800e-d226e6e3f4c6/stateB/frame95/dhdl95.xvg 586f7d29-eb5f-4608-800e-d226e6e3f4c6/stateB/frame96/dhdl96.xvg 586f7d29-eb5f-4608-800e-d226e6e3f4c6/stateB/frame97/dhdl97.xvg 586f7d29-eb5f-4608-800e-d226e6e3f4c6/stateB/frame98/dhdl98.xvg 586f7d29-eb5f-4608-800e-d226e6e3f4c6/stateB/frame99/dhdl99.xvg -o pmx.outputs -w pmx.plots.png --reverseB\n",
      "\n"
     ]
    },
    {
     "name": "stderr",
     "output_type": "stream",
     "text": [
      "2020-10-13 17:48:08,461 [MainThread  ] [INFO ]  Exit code 0\n",
      "\n",
      "2020-10-13 17:48:08,462 [MainThread  ] [INFO ]  \n",
      "\n",
      " ========================================================\n",
      "                   PROCESSING THE DATA\n",
      " ========================================================\n",
      "  Forward Data\n",
      "    First accepted file: 9363c01c-08c9-4c47-ba8e-3dc9bd32c238/stateA/frame0/dhdl0.xvg\n",
      "    # data points: 25001\n",
      "    Length of trajectory:   50.000 ps\n",
      "    Delta lambda:  0.00004\n",
      "    Reading 9363c01c-08c9-4c47-ba8e-3dc9bd32c238/stateA/frame99/dhdl99.xvg\n",
      "\n",
      "  Reverse Data\n",
      "    First accepted file: 586f7d29-eb5f-4608-800e-d226e6e3f4c6/stateB/frame0/dhdl0.xvg\n",
      "    # data points: 25001\n",
      "    Length of trajectory:   50.000 ps\n",
      "    Delta lambda: -0.00004\n",
      "    Reading 586f7d29-eb5f-4608-800e-d226e6e3f4c6/stateB/frame99/dhdl99.xvg\n",
      "\n",
      " ========================================================\n",
      "                       ANALYSIS\n",
      " ========================================================\n",
      "  Number of forward (0->1) trajectories: 100\n",
      "  Number of reverse (1->0) trajectories: 100\n",
      "  Temperature : 298.15 K\n",
      "\n",
      " --------------------------------------------------------\n",
      "             Crooks Gaussian Intersection     \n",
      " --------------------------------------------------------\n",
      "  Calculating Intersection...\n",
      "  CGI: Forward Gauss mean =    13.51 kJ/mol std =     4.03 kJ/mol\n",
      "  CGI: Reverse Gauss mean =    -5.40 kJ/mol std =     8.49 kJ/mol\n",
      "  CGI: dG =     6.14 kJ/mol\n",
      "\n",
      "  Running KS-test...\n",
      "    Forward: gaussian quality = 0.41\n",
      "             ---> KS-Test Ok\n",
      "    Reverse: gaussian quality = 0.98\n",
      "             ---> KS-Test Ok\n",
      "\n",
      " --------------------------------------------------------\n",
      "             Bennett Acceptance Ratio     \n",
      " --------------------------------------------------------\n",
      "  Running Nelder-Mead Simplex algorithm... \n",
      "  BAR: dG =     6.17 kJ/mol\n",
      "  BAR: Std Err (analytical) =     0.59 kJ/mol\n",
      "  BAR: Conv =     0.15\n",
      "\n",
      " --------------------------------------------------------\n",
      "             Jarzynski estimator     \n",
      " --------------------------------------------------------\n",
      "  JARZ: dG Forward =    10.24 kJ/mol\n",
      "  JARZ: dG Reverse =     4.34 kJ/mol\n",
      "  JARZ: dG Mean    =     7.29 kJ/mol\n",
      "  JARZ_Gauss: dG Forward =    10.19 kJ/mol\n",
      "  JARZ_Gauss: dG Reverse =     9.28 kJ/mol\n",
      "  JARZ_Gauss: dG Mean    =     9.74 kJ/mol\n",
      "  JARZ_Gauss: Std Err (analytical) Forward =     0.62 kJ/mol\n",
      "  JARZ_Gauss: Std Err (analytical) Reverse =     2.25 kJ/mol\n",
      " ========================================================\n",
      "\n",
      "   Plotting histograms......\n",
      "\n",
      "   ......done...........\n",
      "\n",
      "   Execution time = 00:00:06\n",
      "\n",
      "\n",
      "2020-10-13 17:48:08,518 [MainThread  ] [INFO ]  Removed: ['9363c01c-08c9-4c47-ba8e-3dc9bd32c238', '586f7d29-eb5f-4608-800e-d226e6e3f4c6']\n"
     ]
    },
    {
     "data": {
      "text/plain": [
       "0"
      ]
     },
     "execution_count": 24,
     "metadata": {},
     "output_type": "execute_result"
    }
   ],
   "source": [
    "# pmx analyse: analyze_dhdl command from pmx package\n",
    "\n",
    "# Import module\n",
    "from biobb_pmx.pmx.pmxanalyse import Pmxanalyse\n",
    "\n",
    "# Create prop dict and inputs/outputs\n",
    "\n",
    "# Workflow-generated results should be used if a minimum number of transitions are calculated.\n",
    "#state_A_xvg_zip = 'dhdlsA.zip'\n",
    "#state_B_xvg_zip = 'dhdlsB.zip'\n",
    "\n",
    "# In this particular case, as the tutorial is just computing 1 transition (forward + reverse),\n",
    "# values taken from a real run of the snase example will be used instead.\n",
    "state_A_xvg_zip = 'pmx_tutorial/dhdlA.zip'\n",
    "state_B_xvg_zip = 'pmx_tutorial/dhdlB.zip'\n",
    "\n",
    "output_result = 'pmx.outputs'\n",
    "output_work_plot = 'pmx.plots.png'\n",
    "  \n",
    "prop = {\n",
    "    'reverseB' : True,\n",
    "}\n",
    "\n",
    "#Create and launch bb\n",
    "Pmxanalyse(input_a_xvg_zip_path=state_A_xvg_zip,\n",
    "        input_b_xvg_zip_path=state_B_xvg_zip,\n",
    "        output_result_path=output_result,\n",
    "        output_work_plot_path=output_work_plot,\n",
    "        properties=prop).launch()\n"
   ]
  },
  {
   "cell_type": "code",
   "execution_count": 25,
   "metadata": {},
   "outputs": [
    {
     "data": {
      "image/png": "[encoded data removed]",
      "text/plain": [
       "<IPython.core.display.Image object>"
      ]
     },
     "execution_count": 25,
     "metadata": {},
     "output_type": "execute_result"
    }
   ],
   "source": [
    "from IPython.display import Image\n",
    "Image(filename=output_work_plot)"
   ]
  },
  {
   "cell_type": "markdown",
   "metadata": {
    "variables": {
     "output_result": "pmx.outputs",
     "output_work_plot": "pmx.plots.png"
    }
   },
   "source": [
    "<a id=\"output\"></a>\n",
    "## Output files\n",
    "\n",
    "Important **Output files** generated:\n",
    " - {{output_result}}: **Final free energy estimation**. Summary of information got applying the different methods.\n",
    " - {{output_work_plot}}: **Final free energy plot** of the **Mutation free energy** pipeline."
   ]
  },
  {
   "cell_type": "markdown",
   "metadata": {},
   "source": [
    "***\n",
    "<a id=\"questions\"></a>\n",
    "\n",
    "## Questions & Comments\n",
    "\n",
    "Questions, issues, suggestions and comments are really welcome!\n",
    "\n",
    "* GitHub issues:\n",
    "    * [https://github.com/bioexcel/biobb](https://github.com/bioexcel/biobb)\n",
    "\n",
    "* BioExcel forum:\n",
    "    * [https://ask.bioexcel.eu/c/BioExcel-Building-Blocks-library](https://ask.bioexcel.eu/c/BioExcel-Building-Blocks-library)\n"
   ]
  },
  {
   "cell_type": "code",
   "execution_count": null,
   "metadata": {},
   "outputs": [],
   "source": []
  }
 ],
 "metadata": {
  "anaconda-cloud": {},
  "kernelspec": {
   "display_name": "Python 3",
   "language": "python",
   "name": "python3"
  },
  "language_info": {
   "codemirror_mode": {
    "name": "ipython",
    "version": 3
   },
   "file_extension": ".py",
   "mimetype": "text/x-python",
   "name": "python",
   "nbconvert_exporter": "python",
   "pygments_lexer": "ipython3",
   "version": "3.7.6"
  }
 },
 "nbformat": 4,
 "nbformat_minor": 2
}

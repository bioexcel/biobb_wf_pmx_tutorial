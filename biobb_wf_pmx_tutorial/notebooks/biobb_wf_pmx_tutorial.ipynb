{
 "cells": [
  {
   "cell_type": "markdown",
   "metadata": {},
   "source": [
    "# Mutation Free Energy Calculations using BioExcel Building Blocks (biobb)\n",
    "### Based on the official pmx tutorial: http://pmx.mpibpc.mpg.de/sardinia2018_tutorial1/index.html\n",
    "***"
   ]
  },
  {
   "cell_type": "markdown",
   "metadata": {},
   "source": [
    "<div style=\"background:#b5e0dd;padding:15px;\"><strong>Important:</strong> This tutorial is using a <strong>Docker container</strong> to run <strong>pmx</strong>. To use a local installation of <strong>pmx</strong>, just modify the appropriate properties parameter <strong>pmx_cli_path</strong>.</div>"
   ]
  },
  {
   "cell_type": "markdown",
   "metadata": {},
   "source": [
    "This tutorial aims to illustrate how to compute a **fast-growth** **mutation free energy** calculation, step by step, using the **BioExcel Building Blocks library (biobb)**. The particular example used is the **Staphylococcal nuclease** protein (PDB code 1STN), a small, minimal protein, appropriate for a short tutorial. \n",
    "\n",
    "The **non-equilibrium free energy calculation** protocol performs a **fast alchemical transition** in the direction **WT->Mut** and back **Mut->WT**. The two **equilibrium trajectories** needed for the tutorial, one for **Wild Type (WT)** and another for the **Mutated (Mut)** protein (Isoleucine 10 to Alanine -I10A-), have already been generated and are included in this example.  We will name **WT as stateA** and **Mut as stateB**."
   ]
  },
  {
   "cell_type": "markdown",
   "metadata": {},
   "source": [
    "<img src=\"schema.png\" />"
   ]
  },
  {
   "cell_type": "markdown",
   "metadata": {},
   "source": [
    "The tutorial calculates the **free energy difference** in the folded state of a protein. Starting from **two 1ns-length independent equilibrium simulations** (WT and mutant), snapshots are selected to start **fast (50ps) transitions** driving the system in the **forward** (WT to mutant) and **reverse** (mutant to WT) directions, and the **work values** required to perform these transitions are collected. With these values, **Crooks Gaussian Intersection** (CGI), **Bennett Acceptance Ratio** (BAR) and **Jarzynski estimator** methods are used to calculate the **free energy difference** between the two states.\n",
    "\n",
    "*Please note that for the sake of disk space this tutorial is using 1ns-length equilibrium trajectories, whereas in the [original example](http://pmx.mpibpc.mpg.de/sardinia2018_tutorial1/eq.mdp) the equilibrium trajectories used were obtained from 10ns-length simulations.*\n",
    "***\n",
    "**Biobb modules** used:\n",
    "\n",
    " - [biobb_pmx](https://github.com/bioexcel/biobb_pmx): Tools to setup and run Alchemical Free Energy calculations.\n",
    " - [biobb_md](https://github.com/bioexcel/biobb_md): Tools to setup and run Molecular Dynamics simulations.\n",
    " - [biobb_analysis](https://github.com/bioexcel/biobb_analysis): Tools to analyse Molecular Dynamics trajectories.\n",
    " \n",
    "**Auxiliar libraries** used:\n",
    "\n",
    " - [nb_conda_kernels](https://github.com/Anaconda-Platform/nb_conda_kernels): Enables a Jupyter Notebook or JupyterLab application in one conda environment to access kernels for Python, R, and other languages found in other environments.\n",
    " - [os](https://docs.python.org/3/library/os.html): Python miscellaneous operating system interfaces\n",
    " - [plotly](https://plot.ly/python/offline/): Python interactive graphing library integrated in Jupyter notebooks.\n",
    "\n",
    "### Conda Installation and Launch\n",
    "\n",
    "```console\n",
    "git clone https://github.com/bioexcel/biobb_wf_pmx_tutorial.git\n",
    "cd biobb_wf_pmx_tutorial\n",
    "conda env create -f conda_env/environment.yml\n",
    "conda activate biobb_wf_pmx_tutorial\n",
    "jupyter-notebook biobb_wf_pmx_tutorial/notebooks/biobb_wf_pmx_tutorial.ipynb\n",
    "  ``` \n",
    "\n",
    "***\n",
    "### Pipeline steps:\n",
    " 1. [Workflow required files](#input)\n",
    " 2. [Extract Snapshots from Equilibrium Trajectories](#extract)\n",
    " 3. [Modelling mutated structure](#mut)\n",
    " 4. [Create Protein System Topology](#top)\n",
    " 5. [Generate Hybrid Topology](#hybridtop)\n",
    " 6. [Creating an index file for the dummy atoms in the morphed structure](#index)\n",
    " 7. [Energetically Minimize the System](#min)\n",
    " 8. [Equilibrate the System (NPT)](#npt)\n",
    " 9. [Free Energy Simulation](#free)\n",
    " 10. [Free Energy Estimation](#post)\n",
    " 11. [Output Files](#output)\n",
    " 12. [Questions & Comments](#questions)"
   ]
  },
  {
   "cell_type": "markdown",
   "metadata": {},
   "source": [
    "***\n",
    "<img style=\"width:400px;\" src=\"logo.png\" />\n",
    "\n",
    "***"
   ]
  },
  {
   "cell_type": "markdown",
   "metadata": {},
   "source": [
    "<a id=\"input\"></a>\n",
    "## Workflow required files\n",
    "Workflow **Input files** needed:\n",
    " - **stateA_traj**: Equilibrium trajectory for the **WT protein**.\n",
    " - **stateB_traj**: Equilibrium trajectory for the **Mutated protein**.\n",
    " - **stateA_tpr**: **WT protein topology** (GROMACS tpr format).\n",
    " - **stateB_tpr**: **Mutated protein topology** (GROMACS tpr format).\n",
    " \n",
    "Auxiliar **force field libraries** needed:\n",
    " - **mutff45** (folder): pmx mutation force field libraries. \n",
    " \n",
    "Collected **transitions work values**:  \n",
    " - **dhdlA.zip**: **Forward** work values required to illustrate how to perform the last step of the pmx workflow with real values, to extract the **free energy**.\n",
    " - **dhdlB.zip**: **Reverse** work values required to illustrate how to perform the last step of the pmx workflow with real values, to extract the **free energy**.\n",
    " "
   ]
  },
  {
   "cell_type": "code",
   "execution_count": 1,
   "metadata": {},
   "outputs": [],
   "source": [
    "import os\n",
    "import zipfile\n",
    "\n",
    "cwd = os.getcwd()\n",
    "gmxlib = os.getenv('CONDA_PREFIX')+'/lib/python3.7/site-packages/pmx/data/mutff45/'\n",
    "\n",
    "stateA_traj = cwd + \"/pmx_tutorial/stateA_1ns.xtc\"\n",
    "stateA_tpr = cwd + \"/pmx_tutorial/stateA.tpr\"\n",
    "\n",
    "stateB_traj = cwd + \"/pmx_tutorial/stateB_1ns.xtc\"\n",
    "stateB_tpr = cwd + \"/pmx_tutorial/stateB.tpr\""
   ]
  },
  {
   "cell_type": "markdown",
   "metadata": {},
   "source": [
    "<a id=\"extract\"></a>\n",
    "## Extract Snapshots from Equilibrium Trajectories\n",
    "**Extract snapshots** from **equilibrium trajectories** (stateA, stateB).\n",
    "\n",
    "In the **fast-growth method**, the **free energy difference** in the folded state of a protein is calculated from **two independent equilibrium simulations**, **WT** and **mutant**. These simulations need to **sufficiently sample** the **end state ensembles**, as the **free energy accuracy** will depend on the **sampling convergence**. Typically the equilibrium simulations are in the **nanosecond to microsecond time range**. From the generated trajectories, a suitable number of **snapshots** are selected to start **fast (typically 10 - 200 ps) transitions** driving the system in the **forward (WT to mutant)** and **reverse (mutant to WT)** directions. This particular step **extracts the snapshots** from the **input equilibrium trajectories**. \n",
    "\n",
    "In this tutorial, just **5 snapshots** for each state (forward, reverse) are generated, for **illustration purposes**. In a real example, both **input trajectories should be longer** (10ns upwards) and the **number of extracted snapshots higher**. The number of suitable number of snapshots depend on the **complexity of the mutation**. Larger perturbations will take **longer to converge** in the simulation, so a smaller or more conservative change might be more promising. \n",
    "\n",
    "**WT snapshots**: **stateA**   //    **Mutant snapshots**: **stateB**\n",
    "***\n",
    "**Building Blocks** used:\n",
    " - [GMXTrjConvStrEns](https://biobb-analysis.readthedocs.io/en/latest/gromacs.html#gromacs-gmx-trjconv-str-ens-module) from **biobb_analysis.gromacs.gmx_trjconv_str_ens**\n",
    "***"
   ]
  },
  {
   "cell_type": "code",
   "execution_count": 2,
   "metadata": {},
   "outputs": [
    {
     "name": "stderr",
     "output_type": "stream",
     "text": [
      "2020-10-14 11:34:29,581 [MainThread  ] [INFO ]  Creating 155deb78-8a2e-4e64-86b9-b434b910dd64 temporary folder\n",
      "2020-10-14 11:34:29,582 [MainThread  ] [INFO ]  Not using any container\n",
      "2020-10-14 11:34:31,230 [MainThread  ] [INFO ]  echo \"System\" | gmx trjconv -f /home/gbayarri_local/projects/BioBB/tutorials/biobb_wf_pmx_tutorial/biobb_wf_pmx_tutorial/notebooks/pmx_tutorial/stateA_1ns.xtc -s /home/gbayarri_local/projects/BioBB/tutorials/biobb_wf_pmx_tutorial/biobb_wf_pmx_tutorial/notebooks/pmx_tutorial/stateA.tpr -skip 1 -b 1 -dt 200 -sep -o 155deb78-8a2e-4e64-86b9-b434b910dd64/frameA.pdb -e 1000\n",
      "\n",
      "2020-10-14 11:34:31,231 [MainThread  ] [INFO ]  Exit code 0\n",
      "\n",
      "2020-10-14 11:34:31,231 [MainThread  ] [INFO ]  Note that major changes are planned in future for trjconv, to improve usability and utility.Select group for output\n",
      "Selected 0: 'System'\n",
      "\n",
      "2020-10-14 11:34:31,232 [MainThread  ] [INFO ]                       :-) GROMACS - gmx trjconv, 2019.1 (-:\n",
      "\n",
      "                            GROMACS is written by:\n",
      "     Emile Apol      Rossen Apostolov      Paul Bauer     Herman J.C. Berendsen\n",
      "    Par Bjelkmar      Christian Blau   Viacheslav Bolnykh     Kevin Boyd    \n",
      " Aldert van Buuren   Rudi van Drunen     Anton Feenstra       Alan Gray     \n",
      "  Gerrit Groenhof     Anca Hamuraru    Vincent Hindriksen  M. Eric Irrgang  \n",
      "  Aleksei Iupinov   Christoph Junghans     Joe Jordan     Dimitrios Karkoulis\n",
      "    Peter Kasson        Jiri Kraus      Carsten Kutzner      Per Larsson    \n",
      "  Justin A. Lemkul    Viveca Lindahl    Magnus Lundborg     Erik Marklund   \n",
      "    Pascal Merz     Pieter Meulenhoff    Teemu Murtola       Szilard Pall   \n",
      "    Sander Pronk      Roland Schulz      Michael Shirts    Alexey Shvetsov  \n",
      "   Alfons Sijbers     Peter Tieleman      Jon Vincent      Teemu Virolainen \n",
      " Christian Wennberg    Maarten Wolf   \n",
      "                           and the project leaders:\n",
      "        Mark Abraham, Berk Hess, Erik Lindahl, and David van der Spoel\n",
      "\n",
      "Copyright (c) 1991-2000, University of Groningen, The Netherlands.\n",
      "Copyright (c) 2001-2018, The GROMACS development team at\n",
      "Uppsala University, Stockholm University and\n",
      "the Royal Institute of Technology, Sweden.\n",
      "check out http://www.gromacs.org for more information.\n",
      "\n",
      "GROMACS is free software; you can redistribute it and/or modify it\n",
      "under the terms of the GNU Lesser General Public License\n",
      "as published by the Free Software Foundation; either version 2.1\n",
      "of the License, or (at your option) any later version.\n",
      "\n",
      "GROMACS:      gmx trjconv, version 2019.1\n",
      "Executable:   /anaconda3/envs/biobb_dev_37/bin/gmx\n",
      "Data prefix:  /anaconda3/envs/biobb_dev_37\n",
      "Working dir:  /home/gbayarri_local/projects/BioBB/tutorials/biobb_wf_pmx_tutorial/biobb_wf_pmx_tutorial/notebooks\n",
      "Command line:\n",
      "  gmx trjconv -f /home/gbayarri_local/projects/BioBB/tutorials/biobb_wf_pmx_tutorial/biobb_wf_pmx_tutorial/notebooks/pmx_tutorial/stateA_1ns.xtc -s /home/gbayarri_local/projects/BioBB/tutorials/biobb_wf_pmx_tutorial/biobb_wf_pmx_tutorial/notebooks/pmx_tutorial/stateA.tpr -skip 1 -b 1 -dt 200 -sep -o 155deb78-8a2e-4e64-86b9-b434b910dd64/frameA.pdb -e 1000\n",
      "\n",
      "Will write pdb: Protein data bank file\n",
      "Reading file /home/gbayarri_local/projects/BioBB/tutorials/biobb_wf_pmx_tutorial/biobb_wf_pmx_tutorial/notebooks/pmx_tutorial/stateA.tpr, VERSION 4.6.4-dev-20131114-c1cb6d2 (single precision)\n",
      "Reading file /home/gbayarri_local/projects/BioBB/tutorials/biobb_wf_pmx_tutorial/biobb_wf_pmx_tutorial/notebooks/pmx_tutorial/stateA.tpr, VERSION 4.6.4-dev-20131114-c1cb6d2 (single precision)\n",
      "Group     0 (         System) has 35144 elements\n",
      "Group     1 (        Protein) has  2226 elements\n",
      "Group     2 (      Protein-H) has  1092 elements\n",
      "Group     3 (        C-alpha) has   136 elements\n",
      "Group     4 (       Backbone) has   408 elements\n",
      "Group     5 (      MainChain) has   545 elements\n",
      "Group     6 (   MainChain+Cb) has   672 elements\n",
      "Group     7 (    MainChain+H) has   677 elements\n",
      "Group     8 (      SideChain) has  1549 elements\n",
      "Group     9 (    SideChain-H) has   547 elements\n",
      "Group    10 (    Prot-Masses) has  2226 elements\n",
      "Group    11 (    non-Protein) has 32918 elements\n",
      "Group    12 (          Water) has 32844 elements\n",
      "Group    13 (            SOL) has 32844 elements\n",
      "Group    14 (      non-Water) has  2300 elements\n",
      "Group    15 (          Other) has    74 elements\n",
      "Group    16 (            NaJ) has    32 elements\n",
      "Group    17 (            ClJ) has    42 elements\n",
      "Reading frame       0 time   20.000   \n",
      "Precision of /home/gbayarri_local/projects/BioBB/tutorials/biobb_wf_pmx_tutorial/biobb_wf_pmx_tutorial/notebooks/pmx_tutorial/stateA_1ns.xtc is 0.001 (nm)\n",
      "Reading frame      40 time  820.000    ->  frame      4 time  820.000      \n",
      "\n",
      "\n",
      "GROMACS reminds you: \"Wait a Minute, aren't You.... ? (gunshots) Yeah.\" (Bodycount)\n",
      "\n",
      "\n",
      "2020-10-14 11:34:31,289 [MainThread  ] [INFO ]  Adding:\n",
      "2020-10-14 11:34:31,291 [MainThread  ] [INFO ]  [PosixPath('155deb78-8a2e-4e64-86b9-b434b910dd64/frameA0.pdb'), PosixPath('155deb78-8a2e-4e64-86b9-b434b910dd64/frameA1.pdb'), PosixPath('155deb78-8a2e-4e64-86b9-b434b910dd64/frameA2.pdb'), PosixPath('155deb78-8a2e-4e64-86b9-b434b910dd64/frameA3.pdb'), PosixPath('155deb78-8a2e-4e64-86b9-b434b910dd64/frameA4.pdb')]\n",
      "2020-10-14 11:34:31,292 [MainThread  ] [INFO ]  to: /home/gbayarri_local/projects/BioBB/tutorials/biobb_wf_pmx_tutorial/biobb_wf_pmx_tutorial/notebooks/stateA_frames.zip\n",
      "2020-10-14 11:34:31,296 [MainThread  ] [INFO ]  Removed temporary folder: 155deb78-8a2e-4e64-86b9-b434b910dd64\n",
      "2020-10-14 11:34:31,357 [MainThread  ] [INFO ]  Creating c91161bf-8c5e-4481-a188-e2c507da3442 temporary folder\n",
      "2020-10-14 11:34:31,358 [MainThread  ] [INFO ]  Not using any container\n",
      "2020-10-14 11:34:33,371 [MainThread  ] [INFO ]  echo \"System\" | gmx trjconv -f /home/gbayarri_local/projects/BioBB/tutorials/biobb_wf_pmx_tutorial/biobb_wf_pmx_tutorial/notebooks/pmx_tutorial/stateB_1ns.xtc -s /home/gbayarri_local/projects/BioBB/tutorials/biobb_wf_pmx_tutorial/biobb_wf_pmx_tutorial/notebooks/pmx_tutorial/stateB.tpr -skip 1 -b 1 -dt 200 -sep -o c91161bf-8c5e-4481-a188-e2c507da3442/frameB.pdb -e 1000\n",
      "\n",
      "2020-10-14 11:34:33,372 [MainThread  ] [INFO ]  Exit code 0\n",
      "\n",
      "2020-10-14 11:34:33,373 [MainThread  ] [INFO ]  Note that major changes are planned in future for trjconv, to improve usability and utility.Select group for output\n",
      "Selected 0: 'System'\n",
      "\n",
      "2020-10-14 11:34:33,374 [MainThread  ] [INFO ]                       :-) GROMACS - gmx trjconv, 2019.1 (-:\n",
      "\n",
      "                            GROMACS is written by:\n",
      "     Emile Apol      Rossen Apostolov      Paul Bauer     Herman J.C. Berendsen\n",
      "    Par Bjelkmar      Christian Blau   Viacheslav Bolnykh     Kevin Boyd    \n",
      " Aldert van Buuren   Rudi van Drunen     Anton Feenstra       Alan Gray     \n",
      "  Gerrit Groenhof     Anca Hamuraru    Vincent Hindriksen  M. Eric Irrgang  \n",
      "  Aleksei Iupinov   Christoph Junghans     Joe Jordan     Dimitrios Karkoulis\n",
      "    Peter Kasson        Jiri Kraus      Carsten Kutzner      Per Larsson    \n",
      "  Justin A. Lemkul    Viveca Lindahl    Magnus Lundborg     Erik Marklund   \n",
      "    Pascal Merz     Pieter Meulenhoff    Teemu Murtola       Szilard Pall   \n",
      "    Sander Pronk      Roland Schulz      Michael Shirts    Alexey Shvetsov  \n",
      "   Alfons Sijbers     Peter Tieleman      Jon Vincent      Teemu Virolainen \n",
      " Christian Wennberg    Maarten Wolf   \n",
      "                           and the project leaders:\n",
      "        Mark Abraham, Berk Hess, Erik Lindahl, and David van der Spoel\n",
      "\n",
      "Copyright (c) 1991-2000, University of Groningen, The Netherlands.\n",
      "Copyright (c) 2001-2018, The GROMACS development team at\n",
      "Uppsala University, Stockholm University and\n",
      "the Royal Institute of Technology, Sweden.\n",
      "check out http://www.gromacs.org for more information.\n",
      "\n",
      "GROMACS is free software; you can redistribute it and/or modify it\n",
      "under the terms of the GNU Lesser General Public License\n",
      "as published by the Free Software Foundation; either version 2.1\n",
      "of the License, or (at your option) any later version.\n",
      "\n",
      "GROMACS:      gmx trjconv, version 2019.1\n",
      "Executable:   /anaconda3/envs/biobb_dev_37/bin/gmx\n",
      "Data prefix:  /anaconda3/envs/biobb_dev_37\n",
      "Working dir:  /home/gbayarri_local/projects/BioBB/tutorials/biobb_wf_pmx_tutorial/biobb_wf_pmx_tutorial/notebooks\n",
      "Command line:\n",
      "  gmx trjconv -f /home/gbayarri_local/projects/BioBB/tutorials/biobb_wf_pmx_tutorial/biobb_wf_pmx_tutorial/notebooks/pmx_tutorial/stateB_1ns.xtc -s /home/gbayarri_local/projects/BioBB/tutorials/biobb_wf_pmx_tutorial/biobb_wf_pmx_tutorial/notebooks/pmx_tutorial/stateB.tpr -skip 1 -b 1 -dt 200 -sep -o c91161bf-8c5e-4481-a188-e2c507da3442/frameB.pdb -e 1000\n",
      "\n",
      "Will write pdb: Protein data bank file\n",
      "Reading file /home/gbayarri_local/projects/BioBB/tutorials/biobb_wf_pmx_tutorial/biobb_wf_pmx_tutorial/notebooks/pmx_tutorial/stateB.tpr, VERSION 4.6.4-dev-20131114-c1cb6d2 (single precision)\n",
      "Reading file /home/gbayarri_local/projects/BioBB/tutorials/biobb_wf_pmx_tutorial/biobb_wf_pmx_tutorial/notebooks/pmx_tutorial/stateB.tpr, VERSION 4.6.4-dev-20131114-c1cb6d2 (single precision)\n",
      "Group     0 (         System) has 35138 elements\n",
      "Group     1 (        Protein) has  2217 elements\n",
      "Group     2 (      Protein-H) has  1089 elements\n",
      "Group     3 (        C-alpha) has   136 elements\n",
      "Group     4 (       Backbone) has   408 elements\n",
      "Group     5 (      MainChain) has   545 elements\n",
      "Group     6 (   MainChain+Cb) has   672 elements\n",
      "Group     7 (    MainChain+H) has   677 elements\n",
      "Group     8 (      SideChain) has  1540 elements\n",
      "Group     9 (    SideChain-H) has   544 elements\n",
      "Group    10 (    Prot-Masses) has  2217 elements\n",
      "Group    11 (    non-Protein) has 32921 elements\n",
      "Group    12 (          Water) has 32847 elements\n",
      "Group    13 (            SOL) has 32847 elements\n",
      "Group    14 (      non-Water) has  2291 elements\n",
      "Group    15 (          Other) has    74 elements\n",
      "Group    16 (            NaJ) has    32 elements\n",
      "Group    17 (            ClJ) has    42 elements\n",
      "Reading frame       0 time   20.000   \n",
      "Precision of /home/gbayarri_local/projects/BioBB/tutorials/biobb_wf_pmx_tutorial/biobb_wf_pmx_tutorial/notebooks/pmx_tutorial/stateB_1ns.xtc is 0.001 (nm)\n",
      "Reading frame      40 time  820.000    ->  frame      4 time  820.000      \n",
      "\n",
      "\n",
      "GROMACS reminds you: \"It's Calling Me to Break my Bonds, Again...\" (Van der Graaf)\n",
      "\n",
      "\n"
     ]
    },
    {
     "name": "stderr",
     "output_type": "stream",
     "text": [
      "2020-10-14 11:34:33,432 [MainThread  ] [INFO ]  Adding:\n",
      "2020-10-14 11:34:33,434 [MainThread  ] [INFO ]  [PosixPath('c91161bf-8c5e-4481-a188-e2c507da3442/frameB0.pdb'), PosixPath('c91161bf-8c5e-4481-a188-e2c507da3442/frameB1.pdb'), PosixPath('c91161bf-8c5e-4481-a188-e2c507da3442/frameB2.pdb'), PosixPath('c91161bf-8c5e-4481-a188-e2c507da3442/frameB3.pdb'), PosixPath('c91161bf-8c5e-4481-a188-e2c507da3442/frameB4.pdb')]\n",
      "2020-10-14 11:34:33,434 [MainThread  ] [INFO ]  to: /home/gbayarri_local/projects/BioBB/tutorials/biobb_wf_pmx_tutorial/biobb_wf_pmx_tutorial/notebooks/stateB_frames.zip\n",
      "2020-10-14 11:34:33,439 [MainThread  ] [INFO ]  Removed temporary folder: c91161bf-8c5e-4481-a188-e2c507da3442\n"
     ]
    }
   ],
   "source": [
    "# GMXTrjConvStrEns: extract an ensemble of snapshots from a GROMACS trajectory file\n",
    "# Import module\n",
    "from biobb_analysis.gromacs.gmx_trjconv_str_ens import GMXTrjConvStrEns\n",
    "\n",
    "#### State A ####\n",
    "\n",
    "# Create prop dict and inputs/outputs (StateA)                          \n",
    "output_framesA = 'stateA_frames.zip'\n",
    "\n",
    "prop = {\n",
    "    'selection' : 'System',\n",
    "    'start': 1,    # To be changed to generate as many snapshots as needed\n",
    "    'end': 1000,   # To be changed to generate as many snapshots as needed\n",
    "    'dt': 200,     # To be changed to generate as many snapshots as needed\n",
    "    'output_name': 'frameA',\n",
    "    'output_type': 'pdb'\n",
    "}\n",
    "\n",
    "# Create and launch bb (StateA)        \n",
    "GMXTrjConvStrEns(input_traj_path=stateA_traj,\n",
    "                 input_top_path=stateA_tpr,\n",
    "                 output_str_ens_path=output_framesA,\n",
    "                 properties=prop).launch()\n",
    "\n",
    "# Extract stateA (WT) frames\n",
    "with zipfile.ZipFile(output_framesA, 'r') as zip_f:\n",
    "    zip_f.extractall()\n",
    "    stateA_pdb_list = zip_f.namelist()\n",
    "    \n",
    "#### State B #### \n",
    "    \n",
    "# Create prop dict and inputs/outputs (StateB)                                \n",
    "output_framesB = 'stateB_frames.zip'  \n",
    "    \n",
    "prop = {\n",
    "    'selection' : 'System',\n",
    "    'start': 1,   # To be changed to generate as many snapshots as needed\n",
    "    'end': 1000,  # To be changed to generate as many snapshots as needed\n",
    "    'dt': 200,    # To be changed to generate as many snapshots as needed\n",
    "    'output_name': 'frameB',\n",
    "    'output_type': 'pdb'\n",
    "}\n",
    "\n",
    "# Create and launch bb (StateB)\n",
    "GMXTrjConvStrEns(input_traj_path=stateB_traj,\n",
    "                 input_top_path=stateB_tpr,\n",
    "                 output_str_ens_path=output_framesB,\n",
    "                 properties=prop).launch()\n",
    "    \n",
    "# # Extract stateB (Mutant) frames\n",
    "with zipfile.ZipFile(output_framesB, 'r') as zip_f:\n",
    "    zip_f.extractall()\n",
    "    stateB_pdb_list = zip_f.namelist()"
   ]
  },
  {
   "cell_type": "markdown",
   "metadata": {},
   "source": [
    "***\n",
    "\n",
    "## WARNING\n",
    "For the sake of **time**, this tutorial will only compute the work values for **ONE PARTICULAR frame** of each state. In order to reproduce a **real calculation**, the steps presented in this notebook should be **repeated for the rest of the frames**. The **ensemble of computed work values** should then be used in the **final step of the workflow**, the [free energy calculation](#post).    \n",
    "***"
   ]
  },
  {
   "cell_type": "code",
   "execution_count": 3,
   "metadata": {},
   "outputs": [],
   "source": [
    "# Prepare Mutation Free Energy calculation for ONE PARTICULAR frame of each state\n",
    "# (to be repeated for the rest of the frames)\n",
    "pdbA = stateA_pdb_list[0]\n",
    "pdbB = stateB_pdb_list[0]"
   ]
  },
  {
   "cell_type": "markdown",
   "metadata": {},
   "source": [
    "<a id=\"mut\"></a>\n",
    "## Modelling mutated structures\n",
    "**Modelling mutated structures** with the desired new residues using **pmx** package. In this case:\n",
    "\n",
    "**Isoleucine** residue nº10 will be mutated to an **Alanine** in the **forward** transition.\n",
    "\n",
    "**Alanine** residue nº10 will be mutated to an **Isoleucine** in the **reverse** transition.\n",
    "\n",
    "*Note:* This tutorial is using a **Docker container** to run **pmx**. To use a local installation of **pmx**, just modify the appropriate properties parameter **pmx_cli_path**. \n",
    "***\n",
    "**Building Blocks** used:\n",
    " - [Pmxmutate](https://biobb-pmx.readthedocs.io/en/latest/pmx.html#module-pmx.pmxmutate) from **biobb_pmx.pmx.pmxmutate**\n",
    "***"
   ]
  },
  {
   "cell_type": "markdown",
   "metadata": {},
   "source": [
    "## WARNING\n",
    "The first time that **pmx Docker** container is used, it will be **automatically downloaded** and integrated in the Docker system. This can take **some time, in the order of minutes**, depending on the available **network**. Please, be patient if the workflow gets stuck in this step. \n",
    "\n",
    "This process is **only done once**. When the docker is downloaded, the system will locate it and **it will not be required to download again**.     \n",
    "***"
   ]
  },
  {
   "cell_type": "code",
   "execution_count": 4,
   "metadata": {},
   "outputs": [
    {
     "name": "stderr",
     "output_type": "stream",
     "text": [
      "2020-10-14 11:34:38,080 [MainThread  ] [INFO ]  Not using any container\n"
     ]
    },
    {
     "name": "stdout",
     "output_type": "stream",
     "text": [
      "Ile10Ala\n"
     ]
    },
    {
     "name": "stderr",
     "output_type": "stream",
     "text": [
      "2020-10-14 11:34:40,421 [MainThread  ] [INFO ]  pmx mutate -f frameA0.pdb -o mutA.pdb -ff amber99sb-star-ildn-mut --script /home/gbayarri_local/projects/BioBB/tutorials/biobb_wf_pmx_tutorial/biobb_wf_pmx_tutorial/notebooks/5ed4c8bd-5d77-4343-9f61-8ac810c10501/mutations.txt\n",
      "\n",
      "2020-10-14 11:34:40,422 [MainThread  ] [INFO ]  Exit code 0\n",
      "\n",
      "2020-10-14 11:34:40,422 [MainThread  ] [INFO ]  log_> Residue to mutate: 10 | ILE | A \n",
      "log_> Mutation to apply: I->A\n",
      "log_> Hybrid residue name: I2A\n",
      "log_> Inserted hybrid residue I2A at position 10 (chain A)\n",
      "\n",
      "mutations done...........\n",
      "\n",
      "\n",
      "2020-10-14 11:34:40,424 [MainThread  ] [INFO ]  Removed: ['/home/gbayarri_local/projects/BioBB/tutorials/biobb_wf_pmx_tutorial/biobb_wf_pmx_tutorial/notebooks/5ed4c8bd-5d77-4343-9f61-8ac810c10501']\n",
      "2020-10-14 11:34:40,430 [MainThread  ] [INFO ]  Not using any container\n"
     ]
    },
    {
     "name": "stdout",
     "output_type": "stream",
     "text": [
      "Ala10Ile\n"
     ]
    },
    {
     "name": "stderr",
     "output_type": "stream",
     "text": [
      "2020-10-14 11:34:42,541 [MainThread  ] [INFO ]  pmx mutate -f frameB0.pdb -o mutB.pdb -ff amber99sb-star-ildn-mut --script /home/gbayarri_local/projects/BioBB/tutorials/biobb_wf_pmx_tutorial/biobb_wf_pmx_tutorial/notebooks/09d9c0f2-ee60-4d5a-a1e7-a82383c399a2/mutations.txt\n",
      "\n",
      "2020-10-14 11:34:42,542 [MainThread  ] [INFO ]  Exit code 0\n",
      "\n",
      "2020-10-14 11:34:42,543 [MainThread  ] [INFO ]  log_> Residue to mutate: 10 | ALA | A \n",
      "log_> Mutation to apply: A->I\n",
      "log_> Hybrid residue name: A2I\n",
      "log_> Inserted hybrid residue A2I at position 10 (chain A)\n",
      "\n",
      "mutations done...........\n",
      "\n",
      "\n",
      "2020-10-14 11:34:42,544 [MainThread  ] [INFO ]  Removed: ['/home/gbayarri_local/projects/BioBB/tutorials/biobb_wf_pmx_tutorial/biobb_wf_pmx_tutorial/notebooks/09d9c0f2-ee60-4d5a-a1e7-a82383c399a2']\n"
     ]
    },
    {
     "data": {
      "text/plain": [
       "0"
      ]
     },
     "execution_count": 4,
     "metadata": {},
     "output_type": "execute_result"
    }
   ],
   "source": [
    "# pmx mutate: Mutate command from pmx package\n",
    "\n",
    "# Import module\n",
    "from biobb_pmx.pmx.pmxmutate import Pmxmutate\n",
    "\n",
    "#### State A (WT->Mut) ####\n",
    "\n",
    "# Create prop dict and inputs/outputs\n",
    "output_structure_mutA = 'mutA.pdb'\n",
    "  \n",
    "prop = {\n",
    "    'force_field' : 'amber99sb-star-ildn-mut',\n",
    "    'mutation_list' : 'Ile10Ala',\n",
    "    'pmx_path' : 'pmx',\n",
    "    'gmxlib' : gmxlib\n",
    "}\n",
    "# Create and launch bb\n",
    "Pmxmutate(input_structure_path=pdbA,\n",
    "       output_structure_path=output_structure_mutA,\n",
    "       properties=prop).launch()\n",
    "\n",
    "#### State B (Mut->WT) ####\n",
    "\n",
    "# Create prop dict and inputs/outputs\n",
    "output_structure_mutB = 'mutB.pdb'\n",
    "  \n",
    "prop = {\n",
    "    'force_field' : 'amber99sb-star-ildn-mut',\n",
    "    'mutation_list' : 'Ala10Ile',\n",
    "    'pmx_path' : 'pmx',\n",
    "    'gmxlib' : gmxlib\n",
    "}\n",
    "# Create and launch bb\n",
    "Pmxmutate(input_structure_path=pdbB,\n",
    "       output_structure_path=output_structure_mutB,\n",
    "       properties=prop).launch()\n"
   ]
  },
  {
   "cell_type": "markdown",
   "metadata": {},
   "source": [
    "<a id=\"top\"></a>\n",
    "***\n",
    "## Create protein system topology\n",
    "**Building GROMACS topology** for the mutated structures.\n",
    "\n",
    "The force field used in this tutorial is [**amber99sb-ildn-mut**](https://dx.doi.org/10.1002%2Fprot.22711): AMBER **parm99** force field with **corrections on backbone** (sb) and **side-chain torsion potentials** (ildn), with **pmx library of modelled mutations** (mut). The path to the particular force field used is given as a property to the building block (**gmxlib**), and can be changed to the appropriate location.\n",
    "\n",
    "Generating two output files: \n",
    "- **GROMACS structure** (gro file)\n",
    "- **GROMACS topology** ZIP compressed file containing:\n",
    "    - *GROMACS topology top file* (top file)\n",
    "    - *GROMACS position restraint file/s* (itp file/s)\n",
    "***\n",
    "**Building Blocks** used:\n",
    " - [Pdb2gmx](https://biobb-md.readthedocs.io/en/latest/gromacs.html#module-gromacs.pdb2gmx) from **biobb_md.gromacs.pdb2gmx**\n",
    "***"
   ]
  },
  {
   "cell_type": "code",
   "execution_count": 5,
   "metadata": {},
   "outputs": [
    {
     "name": "stderr",
     "output_type": "stream",
     "text": [
      "2020-10-14 11:34:54,530 [MainThread  ] [INFO ]  GROMACS Pdb2gmx 20191 version detected\n",
      "2020-10-14 11:34:54,531 [MainThread  ] [INFO ]  Not using any container\n",
      "2020-10-14 11:34:57,384 [MainThread  ] [INFO ]  gmx -nobackup -nocopyright pdb2gmx -f mutA.pdb -o pdb2gmxA.gro -p p2g.top -water spce -ff amber99sb-star-ildn-mut -i posre.itp\n",
      "\n",
      "2020-10-14 11:34:57,385 [MainThread  ] [INFO ]  Exit code 0\n",
      "\n",
      "2020-10-14 11:34:57,385 [MainThread  ] [INFO ]  \n",
      "Using the Amber99sb-star-ildn-mut force field in directory /anaconda3/envs/biobb_dev_37/lib/python3.7/site-packages/pmx/data/mutff45//amber99sb-star-ildn-mut.ff\n",
      "\n",
      "going to rename /anaconda3/envs/biobb_dev_37/lib/python3.7/site-packages/pmx/data/mutff45//amber99sb-star-ildn-mut.ff/aminoacids.r2b\n",
      "going to rename /anaconda3/envs/biobb_dev_37/lib/python3.7/site-packages/pmx/data/mutff45//amber99sb-star-ildn-mut.ff/dna.r2b\n",
      "going to rename /anaconda3/envs/biobb_dev_37/lib/python3.7/site-packages/pmx/data/mutff45//amber99sb-star-ildn-mut.ff/rna.r2b\n",
      "Reading mutA.pdb...\n",
      "Read 'PMX MODEL', 35144 atoms\n",
      "Analyzing pdb file\n",
      "Splitting chemical chains based on TER records or chain id changing.\n",
      "Moved all the water blocks to the end\n",
      "There are 2 chains and 2 blocks of water and 11158 residues with 35144 atoms\n",
      "\n",
      "  chain  #res #atoms\n",
      "  1 'A'   136   2226  \n",
      "  2 'C'    74     74  \n",
      "  3 ' '  9863  29589  (only water)\n",
      "  4 ' '  1085   3255  (only water)\n",
      "\n",
      "Reading residue database... (Amber99sb-star-ildn-mut)\n",
      "Processing chain 1 'A' (2226 atoms, 136 residues)\n",
      "Identified residue LYS1 as a starting terminus.\n",
      "Identified residue SER136 as a ending terminus.\n",
      "Checking for duplicate atoms....\n",
      "Generating any missing hydrogen atoms and/or adding termini.\n",
      "Now there are 136 residues with 2226 atoms\n",
      "Chain time...\n",
      "Processing chain 2 'C' (74 atoms, 74 residues)\n",
      "Residue NaJ1085 has type 'Ion', assuming it is not linked into a chain.\n",
      "Residue NaJ1086 has type 'Ion', assuming it is not linked into a chain.\n",
      "Residue NaJ1087 has type 'Ion', assuming it is not linked into a chain.\n",
      "Residue NaJ1088 has type 'Ion', assuming it is not linked into a chain.\n",
      "Residue NaJ1089 has type 'Ion', assuming it is not linked into a chain.\n",
      "Disabling further notes about ions.\n",
      "Problem with chain definition, or missing terminal residues.\n",
      "This chain does not appear to contain a recognized chain molecule.\n",
      "If this is incorrect, you can edit residuetypes.dat to modify the behavior.\n",
      "Checking for duplicate atoms....\n",
      "Generating any missing hydrogen atoms and/or adding termini.\n",
      "Now there are 74 residues with 74 atoms\n",
      "Chain time...\n",
      "Processing chain 3 (29589 atoms, 9863 residues)\n",
      "Problem with chain definition, or missing terminal residues.\n",
      "This chain does not appear to contain a recognized chain molecule.\n",
      "If this is incorrect, you can edit residuetypes.dat to modify the behavior.\n",
      "Checking for duplicate atoms....\n",
      "Generating any missing hydrogen atoms and/or adding termini.\n",
      "Now there are 9863 residues with 29589 atoms\n",
      "Processing chain 4 (3255 atoms, 1085 residues)\n",
      "Problem with chain definition, or missing terminal residues.\n",
      "This chain does not appear to contain a recognized chain molecule.\n",
      "If this is incorrect, you can edit residuetypes.dat to modify the behavior.\n",
      "Checking for duplicate atoms....\n",
      "Generating any missing hydrogen atoms and/or adding termini.\n",
      "Now there are 1085 residues with 3255 atoms\n",
      "Including chain 1 in system: 2226 atoms 136 residues\n",
      "Including chain 2 in system: 74 atoms 74 residues\n",
      "Including chain 3 in system: 29589 atoms 9863 residues\n",
      "Including chain 4 in system: 3255 atoms 1085 residues\n",
      "\t\t--------- PLEASE NOTE ------------\n",
      "You have successfully generated a topology from: mutA.pdb.\n",
      "The Amber99sb-star-ildn-mut force field and the spce water model are used.\n",
      "\t\t--------- ETON ESAELP ------------\n",
      "\n",
      "2020-10-14 11:34:57,386 [MainThread  ] [INFO ]                       :-) GROMACS - gmx pdb2gmx, 2019.1 (-:\n",
      "\n",
      "Executable:   /anaconda3/envs/biobb_dev_37/bin/gmx\n",
      "Data prefix:  /anaconda3/envs/biobb_dev_37\n",
      "Working dir:  /home/gbayarri_local/projects/BioBB/tutorials/biobb_wf_pmx_tutorial/biobb_wf_pmx_tutorial/notebooks\n",
      "Command line:\n",
      "  gmx -nobackup -nocopyright pdb2gmx -f mutA.pdb -o pdb2gmxA.gro -p p2g.top -water spce -ff amber99sb-star-ildn-mut -i posre.itp\n",
      "\n",
      "Opening force field file /anaconda3/envs/biobb_dev_37/lib/python3.7/site-packages/pmx/data/mutff45//amber99sb-star-ildn-mut.ff/aminoacids.r2b\n",
      "Opening force field file /anaconda3/envs/biobb_dev_37/lib/python3.7/site-packages/pmx/data/mutff45//amber99sb-star-ildn-mut.ff/dna.r2b\n",
      "Opening force field file /anaconda3/envs/biobb_dev_37/lib/python3.7/site-packages/pmx/data/mutff45//amber99sb-star-ildn-mut.ff/rna.r2b\n",
      "All occupancies are one\n",
      "Opening force field file /anaconda3/envs/biobb_dev_37/lib/python3.7/site-packages/pmx/data/mutff45//amber99sb-star-ildn-mut.ff/atomtypes.atp\n",
      "Atomtype 103\n",
      "Opening force field file /anaconda3/envs/biobb_dev_37/lib/python3.7/site-packages/pmx/data/mutff45//amber99sb-star-ildn-mut.ff/aminoacids.rtp\n",
      "Residue 103\n",
      "Sorting it all out...\n",
      "Opening force field file /anaconda3/envs/biobb_dev_37/lib/python3.7/site-packages/pmx/data/mutff45//amber99sb-star-ildn-mut.ff/dna.rtp\n",
      "Residue 119\n",
      "Sorting it all out...\n",
      "Opening force field file /anaconda3/envs/biobb_dev_37/lib/python3.7/site-packages/pmx/data/mutff45//amber99sb-star-ildn-mut.ff/mutres.rtp\n",
      "Residue 671\n",
      "Sorting it all out...\n",
      "Opening force field file /anaconda3/envs/biobb_dev_37/lib/python3.7/site-packages/pmx/data/mutff45//amber99sb-star-ildn-mut.ff/rna.rtp\n",
      "Residue 687\n",
      "Sorting it all out...\n",
      "Opening force field file /anaconda3/envs/biobb_dev_37/lib/python3.7/site-packages/pmx/data/mutff45//amber99sb-star-ildn-mut.ff/aminoacids.hdb\n",
      "Opening force field file /anaconda3/envs/biobb_dev_37/lib/python3.7/site-packages/pmx/data/mutff45//amber99sb-star-ildn-mut.ff/dna.hdb\n",
      "Opening force field file /anaconda3/envs/biobb_dev_37/lib/python3.7/site-packages/pmx/data/mutff45//amber99sb-star-ildn-mut.ff/rna.hdb\n",
      "Opening force field file /anaconda3/envs/biobb_dev_37/lib/python3.7/site-packages/pmx/data/mutff45//amber99sb-star-ildn-mut.ff/aminoacids.n.tdb\n",
      "Opening force field file /anaconda3/envs/biobb_dev_37/lib/python3.7/site-packages/pmx/data/mutff45//amber99sb-star-ildn-mut.ff/aminoacids.c.tdb\n",
      "Analysing hydrogen-bonding network for automated assignment of histidine\n",
      " protonation. 210 donors and 198 acceptors were found.\n",
      "There are 298 hydrogen bonds\n",
      "Will use HISE for residue 3\n",
      "Will use HISE for residue 41\n",
      "Will use HISE for residue 116\n",
      "Will use HISE for residue 119\n",
      "8 out of 8 lines of specbond.dat converted successfully\n",
      "Special Atom Distance matrix:\n",
      "                    HIS3   MET21   MET27   HIS41   MET60   MET93  HIS116\n",
      "                   NE255   SD337   SD435  NE2675   SD975  SD1506 NE21875\n",
      "   MET21   SD337   1.570\n",
      "   MET27   SD435   0.902   1.059\n",
      "   HIS41  NE2675   2.903   2.796   2.200\n",
      "   MET60   SD975   2.057   2.210   1.909   2.403\n",
      "   MET93  SD1506   1.532   2.338   1.673   2.458   0.926\n",
      "  HIS116 NE21875   1.254   2.411   1.637   2.700   1.436   0.535\n",
      "  HIS119 NE21924   1.961   2.850   2.206   2.811   1.159   0.541   0.770\n",
      "                \n",
      "                \n",
      "Opening force field file /anaconda3/envs/biobb_dev_37/lib/python3.7/site-packages/pmx/data/mutff45//amber99sb-star-ildn-mut.ff/aminoacids.arn\n",
      "Opening force field file /anaconda3/envs/biobb_dev_37/lib/python3.7/site-packages/pmx/data/mutff45//amber99sb-star-ildn-mut.ff/dna.arn\n",
      "Opening force field file /anaconda3/envs/biobb_dev_37/lib/python3.7/site-packages/pmx/data/mutff45//amber99sb-star-ildn-mut.ff/rna.arn\n",
      "Making bonds...\n",
      "Number of bonds was 2248, now 2247\n",
      "Generating angles, dihedrals and pairs...\n",
      "Before cleaning: 5932 pairs\n",
      "Before cleaning: 6154 dihedrals\n",
      "Keeping all generated dihedrals\n",
      "Making cmap torsions...\n",
      "There are 6154 dihedrals,  531 impropers, 4097 angles\n",
      "          5899 pairs,     2247 bonds and     0 virtual sites\n",
      "Total mass 15516.202 a.m.u.\n",
      "Total charge 10.000 e\n",
      "Writing topology\n",
      "8 out of 8 lines of specbond.dat converted successfully\n",
      "Opening force field file /anaconda3/envs/biobb_dev_37/lib/python3.7/site-packages/pmx/data/mutff45//amber99sb-star-ildn-mut.ff/aminoacids.arn\n",
      "Opening force field file /anaconda3/envs/biobb_dev_37/lib/python3.7/site-packages/pmx/data/mutff45//amber99sb-star-ildn-mut.ff/dna.arn\n",
      "Opening force field file /anaconda3/envs/biobb_dev_37/lib/python3.7/site-packages/pmx/data/mutff45//amber99sb-star-ildn-mut.ff/rna.arn\n",
      "Making bonds...\n",
      "No bonds\n",
      "Generating angles, dihedrals and pairs...\n",
      "Making cmap torsions...\n",
      "There are    0 dihedrals,    0 impropers,    0 angles\n",
      "             0 pairs,        0 bonds and     0 virtual sites\n",
      "Total mass 2224.580 a.m.u.\n",
      "Total charge -10.000 e\n",
      "Writing topology\n",
      "8 out of 8 lines of specbond.dat converted successfully\n",
      "Opening force field file /anaconda3/envs/biobb_dev_37/lib/python3.7/site-packages/pmx/data/mutff45//amber99sb-star-ildn-mut.ff/aminoacids.arn\n",
      "Opening force field file /anaconda3/envs/biobb_dev_37/lib/python3.7/site-packages/pmx/data/mutff45//amber99sb-star-ildn-mut.ff/dna.arn\n",
      "Opening force field file /anaconda3/envs/biobb_dev_37/lib/python3.7/site-packages/pmx/data/mutff45//amber99sb-star-ildn-mut.ff/rna.arn\n",
      "Making bonds...\n",
      "Number of bonds was 19726, now 19726\n",
      "Generating angles, dihedrals and pairs...\n",
      "Making cmap torsions...\n",
      "There are    0 dihedrals,    0 impropers, 9863 angles\n",
      "             0 pairs,     19726 bonds and     0 virtual sites\n",
      "Total mass 177691.808 a.m.u.\n",
      "Total charge 0.000 e\n",
      "8 out of 8 lines of specbond.dat converted successfully\n",
      "Opening force field file /anaconda3/envs/biobb_dev_37/lib/python3.7/site-packages/pmx/data/mutff45//amber99sb-star-ildn-mut.ff/aminoacids.arn\n",
      "Opening force field file /anaconda3/envs/biobb_dev_37/lib/python3.7/site-packages/pmx/data/mutff45//amber99sb-star-ildn-mut.ff/dna.arn\n",
      "Opening force field file /anaconda3/envs/biobb_dev_37/lib/python3.7/site-packages/pmx/data/mutff45//amber99sb-star-ildn-mut.ff/rna.arn\n",
      "Making bonds...\n",
      "Number of bonds was 2170, now 2170\n",
      "Generating angles, dihedrals and pairs...\n",
      "Making cmap torsions...\n",
      "There are    0 dihedrals,    0 impropers, 1085 angles\n",
      "             0 pairs,     2170 bonds and     0 virtual sites\n",
      "Total mass 19547.360 a.m.u.\n",
      "Total charge 0.000 e\n",
      "Now there are 35144 atoms and 11158 residues\n",
      "Total mass in system 214979.951 a.m.u.\n",
      "Total charge in system 0.000 e\n",
      "\n",
      "Writing coordinate file...\n",
      "\n",
      "GROMACS reminds you: \"I believe the big bang of self-driving cars is about to come.\" (Jen-Hsun Huang, CEO NVIDIA)\n",
      "\n",
      "\n"
     ]
    },
    {
     "name": "stderr",
     "output_type": "stream",
     "text": [
      "2020-10-14 11:34:57,387 [MainThread  ] [INFO ]  Compressing topology to: pdb2gmxA_top.zip\n",
      "2020-10-14 11:34:57,389 [MainThread  ] [INFO ]  Ignored file amber99sb-star-ildn-mut.ff/forcefield.itp\n",
      "2020-10-14 11:34:57,399 [MainThread  ] [INFO ]  Ignored file amber99sb-star-ildn-mut.ff/spce.itp\n",
      "2020-10-14 11:34:57,400 [MainThread  ] [INFO ]  Ignored file amber99sb-star-ildn-mut.ff/ions.itp\n",
      "2020-10-14 11:34:57,407 [MainThread  ] [INFO ]  Adding:\n",
      "2020-10-14 11:34:57,408 [MainThread  ] [INFO ]  ['p2g.top', 'p2g_Ion_chain_C.itp', 'p2g_Protein_chain_A.itp', 'posre_Ion_chain_C.itp', 'posre_Protein_chain_A.itp']\n",
      "2020-10-14 11:34:57,410 [MainThread  ] [INFO ]  to: /home/gbayarri_local/projects/BioBB/tutorials/biobb_wf_pmx_tutorial/biobb_wf_pmx_tutorial/notebooks/pdb2gmxA_top.zip\n",
      "2020-10-14 11:34:57,411 [MainThread  ] [INFO ]  Removed: ['p2g.top']\n",
      "2020-10-14 11:34:57,433 [MainThread  ] [INFO ]  GROMACS Pdb2gmx 20191 version detected\n",
      "2020-10-14 11:34:57,435 [MainThread  ] [INFO ]  Not using any container\n",
      "2020-10-14 11:35:00,878 [MainThread  ] [INFO ]  gmx -nobackup -nocopyright pdb2gmx -f mutB.pdb -o pdb2gmxB.gro -p p2g.top -water spce -ff amber99sb-star-ildn-mut -i posre.itp\n",
      "\n",
      "2020-10-14 11:35:00,881 [MainThread  ] [INFO ]  Exit code 0\n",
      "\n",
      "2020-10-14 11:35:00,882 [MainThread  ] [INFO ]  \n",
      "Using the Amber99sb-star-ildn-mut force field in directory /anaconda3/envs/biobb_dev_37/lib/python3.7/site-packages/pmx/data/mutff45//amber99sb-star-ildn-mut.ff\n",
      "\n",
      "going to rename /anaconda3/envs/biobb_dev_37/lib/python3.7/site-packages/pmx/data/mutff45//amber99sb-star-ildn-mut.ff/aminoacids.r2b\n",
      "going to rename /anaconda3/envs/biobb_dev_37/lib/python3.7/site-packages/pmx/data/mutff45//amber99sb-star-ildn-mut.ff/dna.r2b\n",
      "going to rename /anaconda3/envs/biobb_dev_37/lib/python3.7/site-packages/pmx/data/mutff45//amber99sb-star-ildn-mut.ff/rna.r2b\n",
      "Reading mutB.pdb...\n",
      "Read 'PMX MODEL', 35147 atoms\n",
      "Analyzing pdb file\n",
      "Splitting chemical chains based on TER records or chain id changing.\n",
      "Moved all the water blocks to the end\n",
      "There are 2 chains and 2 blocks of water and 11159 residues with 35147 atoms\n",
      "\n",
      "  chain  #res #atoms\n",
      "  1 'A'   136   2226  \n",
      "  2 'C'    74     74  \n",
      "  3 ' '  9863  29589  (only water)\n",
      "  4 ' '  1086   3258  (only water)\n",
      "\n",
      "Reading residue database... (Amber99sb-star-ildn-mut)\n",
      "Processing chain 1 'A' (2226 atoms, 136 residues)\n",
      "Identified residue LYS1 as a starting terminus.\n",
      "Identified residue SER136 as a ending terminus.\n",
      "Checking for duplicate atoms....\n",
      "Generating any missing hydrogen atoms and/or adding termini.\n",
      "Now there are 136 residues with 2226 atoms\n",
      "Chain time...\n",
      "Processing chain 2 'C' (74 atoms, 74 residues)\n",
      "Residue NaJ1086 has type 'Ion', assuming it is not linked into a chain.\n",
      "Residue NaJ1087 has type 'Ion', assuming it is not linked into a chain.\n",
      "Residue NaJ1088 has type 'Ion', assuming it is not linked into a chain.\n",
      "Residue NaJ1089 has type 'Ion', assuming it is not linked into a chain.\n",
      "Residue NaJ1090 has type 'Ion', assuming it is not linked into a chain.\n",
      "Disabling further notes about ions.\n",
      "Problem with chain definition, or missing terminal residues.\n",
      "This chain does not appear to contain a recognized chain molecule.\n",
      "If this is incorrect, you can edit residuetypes.dat to modify the behavior.\n",
      "Checking for duplicate atoms....\n",
      "Generating any missing hydrogen atoms and/or adding termini.\n",
      "Now there are 74 residues with 74 atoms\n",
      "Chain time...\n",
      "Processing chain 3 (29589 atoms, 9863 residues)\n",
      "Problem with chain definition, or missing terminal residues.\n",
      "This chain does not appear to contain a recognized chain molecule.\n",
      "If this is incorrect, you can edit residuetypes.dat to modify the behavior.\n",
      "Checking for duplicate atoms....\n",
      "Generating any missing hydrogen atoms and/or adding termini.\n",
      "Now there are 9863 residues with 29589 atoms\n",
      "Processing chain 4 (3258 atoms, 1086 residues)\n",
      "Problem with chain definition, or missing terminal residues.\n",
      "This chain does not appear to contain a recognized chain molecule.\n",
      "If this is incorrect, you can edit residuetypes.dat to modify the behavior.\n",
      "Checking for duplicate atoms....\n",
      "Generating any missing hydrogen atoms and/or adding termini.\n",
      "Now there are 1086 residues with 3258 atoms\n",
      "Including chain 1 in system: 2226 atoms 136 residues\n",
      "Including chain 2 in system: 74 atoms 74 residues\n",
      "Including chain 3 in system: 29589 atoms 9863 residues\n",
      "Including chain 4 in system: 3258 atoms 1086 residues\n",
      "\t\t--------- PLEASE NOTE ------------\n",
      "You have successfully generated a topology from: mutB.pdb.\n",
      "The Amber99sb-star-ildn-mut force field and the spce water model are used.\n",
      "\t\t--------- ETON ESAELP ------------\n",
      "\n",
      "2020-10-14 11:35:00,883 [MainThread  ] [INFO ]                       :-) GROMACS - gmx pdb2gmx, 2019.1 (-:\n",
      "\n",
      "Executable:   /anaconda3/envs/biobb_dev_37/bin/gmx\n",
      "Data prefix:  /anaconda3/envs/biobb_dev_37\n",
      "Working dir:  /home/gbayarri_local/projects/BioBB/tutorials/biobb_wf_pmx_tutorial/biobb_wf_pmx_tutorial/notebooks\n",
      "Command line:\n",
      "  gmx -nobackup -nocopyright pdb2gmx -f mutB.pdb -o pdb2gmxB.gro -p p2g.top -water spce -ff amber99sb-star-ildn-mut -i posre.itp\n",
      "\n",
      "Opening force field file /anaconda3/envs/biobb_dev_37/lib/python3.7/site-packages/pmx/data/mutff45//amber99sb-star-ildn-mut.ff/aminoacids.r2b\n",
      "Opening force field file /anaconda3/envs/biobb_dev_37/lib/python3.7/site-packages/pmx/data/mutff45//amber99sb-star-ildn-mut.ff/dna.r2b\n",
      "Opening force field file /anaconda3/envs/biobb_dev_37/lib/python3.7/site-packages/pmx/data/mutff45//amber99sb-star-ildn-mut.ff/rna.r2b\n",
      "All occupancies are one\n",
      "Opening force field file /anaconda3/envs/biobb_dev_37/lib/python3.7/site-packages/pmx/data/mutff45//amber99sb-star-ildn-mut.ff/atomtypes.atp\n",
      "Atomtype 103\n",
      "Opening force field file /anaconda3/envs/biobb_dev_37/lib/python3.7/site-packages/pmx/data/mutff45//amber99sb-star-ildn-mut.ff/aminoacids.rtp\n",
      "Residue 103\n",
      "Sorting it all out...\n",
      "Opening force field file /anaconda3/envs/biobb_dev_37/lib/python3.7/site-packages/pmx/data/mutff45//amber99sb-star-ildn-mut.ff/dna.rtp\n",
      "Residue 119\n",
      "Sorting it all out...\n",
      "Opening force field file /anaconda3/envs/biobb_dev_37/lib/python3.7/site-packages/pmx/data/mutff45//amber99sb-star-ildn-mut.ff/mutres.rtp\n",
      "Residue 671\n",
      "Sorting it all out...\n",
      "Opening force field file /anaconda3/envs/biobb_dev_37/lib/python3.7/site-packages/pmx/data/mutff45//amber99sb-star-ildn-mut.ff/rna.rtp\n",
      "Residue 687\n",
      "Sorting it all out...\n",
      "Opening force field file /anaconda3/envs/biobb_dev_37/lib/python3.7/site-packages/pmx/data/mutff45//amber99sb-star-ildn-mut.ff/aminoacids.hdb\n",
      "Opening force field file /anaconda3/envs/biobb_dev_37/lib/python3.7/site-packages/pmx/data/mutff45//amber99sb-star-ildn-mut.ff/dna.hdb\n",
      "Opening force field file /anaconda3/envs/biobb_dev_37/lib/python3.7/site-packages/pmx/data/mutff45//amber99sb-star-ildn-mut.ff/rna.hdb\n",
      "Opening force field file /anaconda3/envs/biobb_dev_37/lib/python3.7/site-packages/pmx/data/mutff45//amber99sb-star-ildn-mut.ff/aminoacids.n.tdb\n",
      "Opening force field file /anaconda3/envs/biobb_dev_37/lib/python3.7/site-packages/pmx/data/mutff45//amber99sb-star-ildn-mut.ff/aminoacids.c.tdb\n",
      "Analysing hydrogen-bonding network for automated assignment of histidine\n",
      " protonation. 210 donors and 198 acceptors were found.\n",
      "There are 297 hydrogen bonds\n",
      "Will use HISE for residue 3\n",
      "Will use HISE for residue 41\n",
      "Will use HISE for residue 116\n",
      "Will use HISE for residue 119\n",
      "8 out of 8 lines of specbond.dat converted successfully\n",
      "Special Atom Distance matrix:\n",
      "                    HIS3   MET21   MET27   HIS41   MET60   MET93  HIS116\n",
      "                   NE255   SD337   SD435  NE2675   SD975  SD1506 NE21875\n",
      "   MET21   SD337   2.016\n",
      "   MET27   SD435   1.595   1.007\n",
      "   HIS41  NE2675   3.557   3.050   2.486\n",
      "   MET60   SD975   2.116   2.166   2.004   2.431\n",
      "   MET93  SD1506   1.559   2.354   1.840   2.503   0.925\n",
      "  HIS116 NE21875   1.133   2.478   1.896   2.946   1.470   0.612\n",
      "  HIS119 NE21924   1.876   2.831   2.384   2.834   1.082   0.553   0.831\n",
      "                \n",
      "                \n",
      "Opening force field file /anaconda3/envs/biobb_dev_37/lib/python3.7/site-packages/pmx/data/mutff45//amber99sb-star-ildn-mut.ff/aminoacids.arn\n",
      "Opening force field file /anaconda3/envs/biobb_dev_37/lib/python3.7/site-packages/pmx/data/mutff45//amber99sb-star-ildn-mut.ff/dna.arn\n",
      "Opening force field file /anaconda3/envs/biobb_dev_37/lib/python3.7/site-packages/pmx/data/mutff45//amber99sb-star-ildn-mut.ff/rna.arn\n",
      "Making bonds...\n",
      "Number of bonds was 2248, now 2247\n",
      "Generating angles, dihedrals and pairs...\n",
      "Before cleaning: 5932 pairs\n",
      "Before cleaning: 6154 dihedrals\n",
      "Keeping all generated dihedrals\n",
      "Making cmap torsions...\n",
      "There are 6154 dihedrals,  531 impropers, 4097 angles\n",
      "          5899 pairs,     2247 bonds and     0 virtual sites\n",
      "Total mass 15494.198 a.m.u.\n",
      "Total charge 10.000 e\n",
      "Writing topology\n",
      "8 out of 8 lines of specbond.dat converted successfully\n",
      "Opening force field file /anaconda3/envs/biobb_dev_37/lib/python3.7/site-packages/pmx/data/mutff45//amber99sb-star-ildn-mut.ff/aminoacids.arn\n",
      "Opening force field file /anaconda3/envs/biobb_dev_37/lib/python3.7/site-packages/pmx/data/mutff45//amber99sb-star-ildn-mut.ff/dna.arn\n",
      "Opening force field file /anaconda3/envs/biobb_dev_37/lib/python3.7/site-packages/pmx/data/mutff45//amber99sb-star-ildn-mut.ff/rna.arn\n",
      "Making bonds...\n",
      "No bonds\n",
      "Generating angles, dihedrals and pairs...\n",
      "Making cmap torsions...\n",
      "There are    0 dihedrals,    0 impropers,    0 angles\n",
      "             0 pairs,        0 bonds and     0 virtual sites\n",
      "Total mass 2224.580 a.m.u.\n",
      "Total charge -10.000 e\n",
      "Writing topology\n",
      "8 out of 8 lines of specbond.dat converted successfully\n",
      "Opening force field file /anaconda3/envs/biobb_dev_37/lib/python3.7/site-packages/pmx/data/mutff45//amber99sb-star-ildn-mut.ff/aminoacids.arn\n",
      "Opening force field file /anaconda3/envs/biobb_dev_37/lib/python3.7/site-packages/pmx/data/mutff45//amber99sb-star-ildn-mut.ff/dna.arn\n",
      "Opening force field file /anaconda3/envs/biobb_dev_37/lib/python3.7/site-packages/pmx/data/mutff45//amber99sb-star-ildn-mut.ff/rna.arn\n",
      "Making bonds...\n",
      "Number of bonds was 19726, now 19726\n",
      "Generating angles, dihedrals and pairs...\n",
      "Making cmap torsions...\n",
      "There are    0 dihedrals,    0 impropers, 9863 angles\n",
      "             0 pairs,     19726 bonds and     0 virtual sites\n",
      "Total mass 177691.808 a.m.u.\n",
      "Total charge 0.000 e\n",
      "8 out of 8 lines of specbond.dat converted successfully\n",
      "Opening force field file /anaconda3/envs/biobb_dev_37/lib/python3.7/site-packages/pmx/data/mutff45//amber99sb-star-ildn-mut.ff/aminoacids.arn\n",
      "Opening force field file /anaconda3/envs/biobb_dev_37/lib/python3.7/site-packages/pmx/data/mutff45//amber99sb-star-ildn-mut.ff/dna.arn\n",
      "Opening force field file /anaconda3/envs/biobb_dev_37/lib/python3.7/site-packages/pmx/data/mutff45//amber99sb-star-ildn-mut.ff/rna.arn\n",
      "Making bonds...\n",
      "Number of bonds was 2172, now 2172\n",
      "Generating angles, dihedrals and pairs...\n",
      "Making cmap torsions...\n",
      "There are    0 dihedrals,    0 impropers, 1086 angles\n",
      "             0 pairs,     2172 bonds and     0 virtual sites\n",
      "Total mass 19565.376 a.m.u.\n",
      "Total charge 0.000 e\n",
      "Now there are 35147 atoms and 11159 residues\n",
      "Total mass in system 214975.963 a.m.u.\n",
      "Total charge in system 0.000 e\n",
      "\n",
      "Writing coordinate file...\n",
      "\n",
      "GROMACS reminds you: \"I do not believe continuum electrostatics\" (Arieh Warshel, Nobel lecture 2013)\n",
      "\n",
      "\n"
     ]
    },
    {
     "name": "stderr",
     "output_type": "stream",
     "text": [
      "2020-10-14 11:35:00,885 [MainThread  ] [INFO ]  Compressing topology to: pdb2gmxB_top.zip\n",
      "2020-10-14 11:35:00,887 [MainThread  ] [INFO ]  Ignored file amber99sb-star-ildn-mut.ff/forcefield.itp\n",
      "2020-10-14 11:35:00,906 [MainThread  ] [INFO ]  Ignored file amber99sb-star-ildn-mut.ff/spce.itp\n",
      "2020-10-14 11:35:00,907 [MainThread  ] [INFO ]  Ignored file amber99sb-star-ildn-mut.ff/ions.itp\n",
      "2020-10-14 11:35:00,911 [MainThread  ] [INFO ]  Adding:\n",
      "2020-10-14 11:35:00,912 [MainThread  ] [INFO ]  ['p2g.top', 'p2g_Ion_chain_C.itp', 'p2g_Protein_chain_A.itp', 'posre_Ion_chain_C.itp', 'posre_Protein_chain_A.itp']\n",
      "2020-10-14 11:35:00,913 [MainThread  ] [INFO ]  to: /home/gbayarri_local/projects/BioBB/tutorials/biobb_wf_pmx_tutorial/biobb_wf_pmx_tutorial/notebooks/pdb2gmxB_top.zip\n",
      "2020-10-14 11:35:00,914 [MainThread  ] [INFO ]  Removed: ['p2g.top']\n"
     ]
    },
    {
     "data": {
      "text/plain": [
       "0"
      ]
     },
     "execution_count": 5,
     "metadata": {},
     "output_type": "execute_result"
    }
   ],
   "source": [
    "# Create system topology\n",
    "\n",
    "# Import module\n",
    "from biobb_md.gromacs.pdb2gmx import Pdb2gmx\n",
    "\n",
    "#### State A (WT->Mut) ####\n",
    "\n",
    "# Create inputs/outputs\n",
    "output_pdb2gmxA_gro = 'pdb2gmxA.gro'\n",
    "output_pdb2gmxA_top_zip = 'pdb2gmxA_top.zip'\n",
    "  \n",
    "prop = {\n",
    "    'force_field' : 'amber99sb-star-ildn-mut',\n",
    "    'gmxlib' : gmxlib\n",
    "}\n",
    "\n",
    "# Create and launch bb\n",
    "Pdb2gmx(input_pdb_path=output_structure_mutA,\n",
    "        output_gro_path=output_pdb2gmxA_gro,\n",
    "        output_top_zip_path=output_pdb2gmxA_top_zip,\n",
    "        properties=prop).launch()\n",
    "\n",
    "#### State B (Mut->WT) ####\n",
    "\n",
    "# Create inputs/outputs\n",
    "output_pdb2gmxB_gro = 'pdb2gmxB.gro'\n",
    "output_pdb2gmxB_top_zip = 'pdb2gmxB_top.zip'\n",
    "  \n",
    "prop = {\n",
    "    'force_field' : 'amber99sb-star-ildn-mut',\n",
    "    'gmxlib' : gmxlib\n",
    "}\n",
    "\n",
    "# Create and launch bb\n",
    "Pdb2gmx(input_pdb_path=output_structure_mutB,\n",
    "        output_gro_path=output_pdb2gmxB_gro,\n",
    "        output_top_zip_path=output_pdb2gmxB_top_zip,\n",
    "        properties=prop).launch()"
   ]
  },
  {
   "cell_type": "markdown",
   "metadata": {},
   "source": [
    "<a id=\"hybridtop\"></a>\n",
    "## Generate Hybrid Topology\n",
    "**Generate Hybrid Topology** for the mutated structure using **pmx** package, adding the **morphing parameters**. \n",
    "\n",
    "*Note:* This tutorial is using a **Docker container** to run **pmx**. To use a local installation of **pmx**, just modify the appropriate properties parameter **pmx_cli_path**. \n",
    "***\n",
    "**Building Blocks** used:\n",
    " - [Pmxgentop](https://biobb-pmx.readthedocs.io/en/latest/pmx.html#module-pmx.pmxgentop) from **biobb_pmx.pmx.pmxgentop**\n",
    "***"
   ]
  },
  {
   "cell_type": "code",
   "execution_count": 6,
   "metadata": {},
   "outputs": [
    {
     "name": "stderr",
     "output_type": "stream",
     "text": [
      "2020-10-14 11:35:06,087 [MainThread  ] [INFO ]  Extracting: /home/gbayarri_local/projects/BioBB/tutorials/biobb_wf_pmx_tutorial/biobb_wf_pmx_tutorial/notebooks/pdb2gmxA_top.zip\n",
      "2020-10-14 11:35:06,087 [MainThread  ] [INFO ]  to:\n",
      "2020-10-14 11:35:06,088 [MainThread  ] [INFO ]  ['6acb209d-e33b-49ef-b3de-d3c92bc7571a/p2g.top', '6acb209d-e33b-49ef-b3de-d3c92bc7571a/p2g_Ion_chain_C.itp', '6acb209d-e33b-49ef-b3de-d3c92bc7571a/p2g_Protein_chain_A.itp', '6acb209d-e33b-49ef-b3de-d3c92bc7571a/posre_Ion_chain_C.itp', '6acb209d-e33b-49ef-b3de-d3c92bc7571a/posre_Protein_chain_A.itp']\n",
      "2020-10-14 11:35:06,089 [MainThread  ] [INFO ]  Unzipping: \n",
      "2020-10-14 11:35:06,089 [MainThread  ] [INFO ]  pdb2gmxA_top.zip\n",
      "2020-10-14 11:35:06,090 [MainThread  ] [INFO ]  To: \n",
      "2020-10-14 11:35:06,091 [MainThread  ] [INFO ]  6acb209d-e33b-49ef-b3de-d3c92bc7571a/p2g.top\n",
      "2020-10-14 11:35:06,091 [MainThread  ] [INFO ]  6acb209d-e33b-49ef-b3de-d3c92bc7571a/p2g_Ion_chain_C.itp\n",
      "2020-10-14 11:35:06,092 [MainThread  ] [INFO ]  6acb209d-e33b-49ef-b3de-d3c92bc7571a/p2g_Protein_chain_A.itp\n",
      "2020-10-14 11:35:06,093 [MainThread  ] [INFO ]  6acb209d-e33b-49ef-b3de-d3c92bc7571a/posre_Ion_chain_C.itp\n",
      "2020-10-14 11:35:06,093 [MainThread  ] [INFO ]  6acb209d-e33b-49ef-b3de-d3c92bc7571a/posre_Protein_chain_A.itp\n",
      "2020-10-14 11:35:06,094 [MainThread  ] [INFO ]  top_file: 6acb209d-e33b-49ef-b3de-d3c92bc7571a/p2g.top\n",
      "2020-10-14 11:35:06,097 [MainThread  ] [INFO ]  unique_dir_output_file: 4832ad92-2302-46e5-abdc-f99902b47f62/p2g.top\n",
      "2020-10-14 11:35:06,098 [MainThread  ] [INFO ]  Not using any container\n",
      "2020-10-14 11:35:10,216 [MainThread  ] [INFO ]  pmx gentop -o 4832ad92-2302-46e5-abdc-f99902b47f62/p2g.top -ff amber99sb-star-ildn-mut -p 6acb209d-e33b-49ef-b3de-d3c92bc7571a/p2g.top\n",
      "\n",
      "2020-10-14 11:35:10,218 [MainThread  ] [INFO ]  Exit code 0\n",
      "\n",
      "2020-10-14 11:35:10,220 [MainThread  ] [INFO ]  \n",
      "log_> Reading input top file \"6acb209d-e33b-49ef-b3de-d3c92bc7571a/p2g.top\"\n",
      "log_> Making bonds for state B -> 0 bonds with perturbed atoms\n",
      "log_> Making angles for state B -> 0 angles with perturbed atoms\n",
      "log_> Making dihedrals for state B -> 0 dihedrals with perturbed atoms\n",
      "log_> Removed 0 fake dihedrals\n",
      "log_> Total charge of state A = 0\n",
      "log_> Total charge of state B = 0\n",
      "\n",
      "log_> Reading input itp file \"p2g_Protein_chain_A.itp\"\"\n",
      "log_> Scanning database for I2A \n",
      "log_> Hybrid Residue -> 10 | I2A \n",
      "log_> Making bonds for state B -> 20 bonds with perturbed atoms\n",
      "log_> Making angles for state B -> 40 angles with perturbed atoms\n",
      "log_> Making dihedrals for state B -> 52 dihedrals with perturbed atoms\n",
      "log_> Removed 0 fake dihedrals\n",
      "log_> Total charge of state A = 10\n",
      "log_> Total charge of state B = 10\n",
      "\n",
      "log_> Reading input itp file \"p2g_Ion_chain_C.itp\"\"\n",
      "log_> Making bonds for state B -> 0 bonds with perturbed atoms\n",
      "log_> Making angles for state B -> 0 angles with perturbed atoms\n",
      "log_> Making dihedrals for state B -> 0 dihedrals with perturbed atoms\n",
      "log_> Removed 0 fake dihedrals\n",
      "log_> Total charge of state A = -10\n",
      "log_> Total charge of state B = -10\n",
      "\n",
      "log_> Writing itp file \"4832ad92-2302-46e5-abdc-f99902b47f62/pmx_p2g_Protein_chain_A.itp\"\"\n",
      "\n",
      "log_> Writing itp file \"4832ad92-2302-46e5-abdc-f99902b47f62/pmx_p2g_Ion_chain_C.itp\"\"\n",
      "\n",
      "log_> Writing topology file \"4832ad92-2302-46e5-abdc-f99902b47f62/p2g.top\"\"\n",
      "\n",
      "b-states filled...........\n",
      "\n",
      "\n",
      "2020-10-14 11:35:10,222 [MainThread  ] [INFO ]  Check if 4832ad92-2302-46e5-abdc-f99902b47f62/p2g.top exists\n",
      "2020-10-14 11:35:10,224 [MainThread  ] [INFO ]  Check if 4832ad92-2302-46e5-abdc-f99902b47f62/p2g_Protein_chain_A.itp exists\n",
      "2020-10-14 11:35:10,227 [MainThread  ] [INFO ]  Copying 6acb209d-e33b-49ef-b3de-d3c92bc7571a/p2g_Protein_chain_A.itp to: 4832ad92-2302-46e5-abdc-f99902b47f62\n",
      "2020-10-14 11:35:10,228 [MainThread  ] [INFO ]  Check if 4832ad92-2302-46e5-abdc-f99902b47f62/posre_Ion_chain_C.itp exists\n",
      "2020-10-14 11:35:10,229 [MainThread  ] [INFO ]  Copying 6acb209d-e33b-49ef-b3de-d3c92bc7571a/posre_Ion_chain_C.itp to: 4832ad92-2302-46e5-abdc-f99902b47f62\n",
      "2020-10-14 11:35:10,230 [MainThread  ] [INFO ]  Check if 4832ad92-2302-46e5-abdc-f99902b47f62/posre_Protein_chain_A.itp exists\n",
      "2020-10-14 11:35:10,231 [MainThread  ] [INFO ]  Copying 6acb209d-e33b-49ef-b3de-d3c92bc7571a/posre_Protein_chain_A.itp to: 4832ad92-2302-46e5-abdc-f99902b47f62\n",
      "2020-10-14 11:35:10,232 [MainThread  ] [INFO ]  Check if 4832ad92-2302-46e5-abdc-f99902b47f62/p2g_Ion_chain_C.itp exists\n",
      "2020-10-14 11:35:10,233 [MainThread  ] [INFO ]  Copying 6acb209d-e33b-49ef-b3de-d3c92bc7571a/p2g_Ion_chain_C.itp to: 4832ad92-2302-46e5-abdc-f99902b47f62\n",
      "2020-10-14 11:35:10,234 [MainThread  ] [INFO ]  Compressing topology to: pmxA_top.zip\n",
      "2020-10-14 11:35:10,236 [MainThread  ] [INFO ]  Ignored file 4832ad92-2302-46e5-abdc-f99902b47f62/amber99sb-star-ildn-mut.ff/forcefield.itp\n",
      "2020-10-14 11:35:10,247 [MainThread  ] [INFO ]  Ignored file 4832ad92-2302-46e5-abdc-f99902b47f62/amber99sb-star-ildn-mut.ff/spce.itp\n",
      "2020-10-14 11:35:10,248 [MainThread  ] [INFO ]  Ignored file 4832ad92-2302-46e5-abdc-f99902b47f62/amber99sb-star-ildn-mut.ff/ions.itp\n",
      "2020-10-14 11:35:10,253 [MainThread  ] [INFO ]  Adding:\n",
      "2020-10-14 11:35:10,255 [MainThread  ] [INFO ]  ['4832ad92-2302-46e5-abdc-f99902b47f62/p2g.top', '4832ad92-2302-46e5-abdc-f99902b47f62/pmx_p2g_Ion_chain_C.itp', '4832ad92-2302-46e5-abdc-f99902b47f62/pmx_p2g_Protein_chain_A.itp', '4832ad92-2302-46e5-abdc-f99902b47f62/posre_Ion_chain_C.itp', '4832ad92-2302-46e5-abdc-f99902b47f62/posre_Protein_chain_A.itp']\n",
      "2020-10-14 11:35:10,256 [MainThread  ] [INFO ]  to: /home/gbayarri_local/projects/BioBB/tutorials/biobb_wf_pmx_tutorial/biobb_wf_pmx_tutorial/notebooks/pmxA_top.zip\n",
      "2020-10-14 11:35:10,258 [MainThread  ] [INFO ]  Removed: ['6acb209d-e33b-49ef-b3de-d3c92bc7571a']\n",
      "2020-10-14 11:35:10,271 [MainThread  ] [INFO ]  Extracting: /home/gbayarri_local/projects/BioBB/tutorials/biobb_wf_pmx_tutorial/biobb_wf_pmx_tutorial/notebooks/pdb2gmxB_top.zip\n",
      "2020-10-14 11:35:10,271 [MainThread  ] [INFO ]  to:\n",
      "2020-10-14 11:35:10,273 [MainThread  ] [INFO ]  ['5a1ca8a9-f595-411a-b77c-8698590ac7d3/p2g.top', '5a1ca8a9-f595-411a-b77c-8698590ac7d3/p2g_Ion_chain_C.itp', '5a1ca8a9-f595-411a-b77c-8698590ac7d3/p2g_Protein_chain_A.itp', '5a1ca8a9-f595-411a-b77c-8698590ac7d3/posre_Ion_chain_C.itp', '5a1ca8a9-f595-411a-b77c-8698590ac7d3/posre_Protein_chain_A.itp']\n",
      "2020-10-14 11:35:10,274 [MainThread  ] [INFO ]  Unzipping: \n",
      "2020-10-14 11:35:10,276 [MainThread  ] [INFO ]  pdb2gmxB_top.zip\n",
      "2020-10-14 11:35:10,276 [MainThread  ] [INFO ]  To: \n",
      "2020-10-14 11:35:10,277 [MainThread  ] [INFO ]  5a1ca8a9-f595-411a-b77c-8698590ac7d3/p2g.top\n",
      "2020-10-14 11:35:10,279 [MainThread  ] [INFO ]  5a1ca8a9-f595-411a-b77c-8698590ac7d3/p2g_Ion_chain_C.itp\n",
      "2020-10-14 11:35:10,280 [MainThread  ] [INFO ]  5a1ca8a9-f595-411a-b77c-8698590ac7d3/p2g_Protein_chain_A.itp\n",
      "2020-10-14 11:35:10,280 [MainThread  ] [INFO ]  5a1ca8a9-f595-411a-b77c-8698590ac7d3/posre_Ion_chain_C.itp\n",
      "2020-10-14 11:35:10,282 [MainThread  ] [INFO ]  5a1ca8a9-f595-411a-b77c-8698590ac7d3/posre_Protein_chain_A.itp\n",
      "2020-10-14 11:35:10,283 [MainThread  ] [INFO ]  top_file: 5a1ca8a9-f595-411a-b77c-8698590ac7d3/p2g.top\n",
      "2020-10-14 11:35:10,285 [MainThread  ] [INFO ]  unique_dir_output_file: d4eefca9-ab38-4ced-886c-2c03296a0cc3/p2g.top\n",
      "2020-10-14 11:35:10,286 [MainThread  ] [INFO ]  Not using any container\n",
      "2020-10-14 11:35:14,223 [MainThread  ] [INFO ]  pmx gentop -o d4eefca9-ab38-4ced-886c-2c03296a0cc3/p2g.top -ff amber99sb-star-ildn-mut -p 5a1ca8a9-f595-411a-b77c-8698590ac7d3/p2g.top\n",
      "\n",
      "2020-10-14 11:35:14,225 [MainThread  ] [INFO ]  Exit code 0\n",
      "\n",
      "2020-10-14 11:35:14,225 [MainThread  ] [INFO ]  \n",
      "log_> Reading input top file \"5a1ca8a9-f595-411a-b77c-8698590ac7d3/p2g.top\"\n",
      "log_> Making bonds for state B -> 0 bonds with perturbed atoms\n",
      "log_> Making angles for state B -> 0 angles with perturbed atoms\n",
      "log_> Making dihedrals for state B -> 0 dihedrals with perturbed atoms\n",
      "log_> Removed 0 fake dihedrals\n",
      "log_> Total charge of state A = 0\n",
      "log_> Total charge of state B = 0\n",
      "\n",
      "log_> Reading input itp file \"p2g_Protein_chain_A.itp\"\"\n",
      "log_> Scanning database for A2I \n",
      "log_> Hybrid Residue -> 10 | A2I \n",
      "log_> Making bonds for state B -> 20 bonds with perturbed atoms\n",
      "log_> Making angles for state B -> 40 angles with perturbed atoms\n",
      "log_> Making dihedrals for state B -> 52 dihedrals with perturbed atoms\n",
      "log_> Removed 0 fake dihedrals\n",
      "log_> Total charge of state A = 10\n",
      "log_> Total charge of state B = 10\n",
      "\n",
      "log_> Reading input itp file \"p2g_Ion_chain_C.itp\"\"\n",
      "log_> Making bonds for state B -> 0 bonds with perturbed atoms\n",
      "log_> Making angles for state B -> 0 angles with perturbed atoms\n",
      "log_> Making dihedrals for state B -> 0 dihedrals with perturbed atoms\n",
      "log_> Removed 0 fake dihedrals\n",
      "log_> Total charge of state A = -10\n",
      "log_> Total charge of state B = -10\n",
      "\n",
      "log_> Writing itp file \"d4eefca9-ab38-4ced-886c-2c03296a0cc3/pmx_p2g_Protein_chain_A.itp\"\"\n",
      "\n",
      "log_> Writing itp file \"d4eefca9-ab38-4ced-886c-2c03296a0cc3/pmx_p2g_Ion_chain_C.itp\"\"\n",
      "\n",
      "log_> Writing topology file \"d4eefca9-ab38-4ced-886c-2c03296a0cc3/p2g.top\"\"\n",
      "\n",
      "b-states filled...........\n",
      "\n",
      "\n"
     ]
    },
    {
     "name": "stderr",
     "output_type": "stream",
     "text": [
      "2020-10-14 11:35:14,227 [MainThread  ] [INFO ]  Check if d4eefca9-ab38-4ced-886c-2c03296a0cc3/p2g.top exists\n",
      "2020-10-14 11:35:14,228 [MainThread  ] [INFO ]  Check if d4eefca9-ab38-4ced-886c-2c03296a0cc3/p2g_Protein_chain_A.itp exists\n",
      "2020-10-14 11:35:14,230 [MainThread  ] [INFO ]  Copying 5a1ca8a9-f595-411a-b77c-8698590ac7d3/p2g_Protein_chain_A.itp to: d4eefca9-ab38-4ced-886c-2c03296a0cc3\n",
      "2020-10-14 11:35:14,230 [MainThread  ] [INFO ]  Check if d4eefca9-ab38-4ced-886c-2c03296a0cc3/posre_Ion_chain_C.itp exists\n",
      "2020-10-14 11:35:14,231 [MainThread  ] [INFO ]  Copying 5a1ca8a9-f595-411a-b77c-8698590ac7d3/posre_Ion_chain_C.itp to: d4eefca9-ab38-4ced-886c-2c03296a0cc3\n",
      "2020-10-14 11:35:14,232 [MainThread  ] [INFO ]  Check if d4eefca9-ab38-4ced-886c-2c03296a0cc3/posre_Protein_chain_A.itp exists\n",
      "2020-10-14 11:35:14,233 [MainThread  ] [INFO ]  Copying 5a1ca8a9-f595-411a-b77c-8698590ac7d3/posre_Protein_chain_A.itp to: d4eefca9-ab38-4ced-886c-2c03296a0cc3\n",
      "2020-10-14 11:35:14,234 [MainThread  ] [INFO ]  Check if d4eefca9-ab38-4ced-886c-2c03296a0cc3/p2g_Ion_chain_C.itp exists\n",
      "2020-10-14 11:35:14,235 [MainThread  ] [INFO ]  Copying 5a1ca8a9-f595-411a-b77c-8698590ac7d3/p2g_Ion_chain_C.itp to: d4eefca9-ab38-4ced-886c-2c03296a0cc3\n",
      "2020-10-14 11:35:14,236 [MainThread  ] [INFO ]  Compressing topology to: pmxB_top.zip\n",
      "2020-10-14 11:35:14,237 [MainThread  ] [INFO ]  Ignored file d4eefca9-ab38-4ced-886c-2c03296a0cc3/amber99sb-star-ildn-mut.ff/forcefield.itp\n",
      "2020-10-14 11:35:14,250 [MainThread  ] [INFO ]  Ignored file d4eefca9-ab38-4ced-886c-2c03296a0cc3/amber99sb-star-ildn-mut.ff/spce.itp\n",
      "2020-10-14 11:35:14,251 [MainThread  ] [INFO ]  Ignored file d4eefca9-ab38-4ced-886c-2c03296a0cc3/amber99sb-star-ildn-mut.ff/ions.itp\n",
      "2020-10-14 11:35:14,259 [MainThread  ] [INFO ]  Adding:\n",
      "2020-10-14 11:35:14,260 [MainThread  ] [INFO ]  ['d4eefca9-ab38-4ced-886c-2c03296a0cc3/p2g.top', 'd4eefca9-ab38-4ced-886c-2c03296a0cc3/pmx_p2g_Ion_chain_C.itp', 'd4eefca9-ab38-4ced-886c-2c03296a0cc3/pmx_p2g_Protein_chain_A.itp', 'd4eefca9-ab38-4ced-886c-2c03296a0cc3/posre_Ion_chain_C.itp', 'd4eefca9-ab38-4ced-886c-2c03296a0cc3/posre_Protein_chain_A.itp']\n",
      "2020-10-14 11:35:14,261 [MainThread  ] [INFO ]  to: /home/gbayarri_local/projects/BioBB/tutorials/biobb_wf_pmx_tutorial/biobb_wf_pmx_tutorial/notebooks/pmxB_top.zip\n",
      "2020-10-14 11:35:14,263 [MainThread  ] [INFO ]  Removed: ['5a1ca8a9-f595-411a-b77c-8698590ac7d3']\n"
     ]
    },
    {
     "data": {
      "text/plain": [
       "0"
      ]
     },
     "execution_count": 6,
     "metadata": {},
     "output_type": "execute_result"
    }
   ],
   "source": [
    "# pmx gentop: Gentop command (Generate Hybrid Topology) from pmx package\n",
    "\n",
    "# Import module\n",
    "from biobb_pmx.pmx.pmxgentop import Pmxgentop\n",
    "\n",
    "#### State A (WT->Mut) ####\n",
    "\n",
    "# Create prop dict and inputs/outputs\n",
    "output_pmxtopA_top_zip = 'pmxA_top.zip'\n",
    "output_pmxtopA_log = 'pmxA_top.log'\n",
    "  \n",
    "prop = {\n",
    "    'force_field' : 'amber99sb-star-ildn-mut',\n",
    "    'pmx_path' : 'pmx',\n",
    "    'gmxlib' : gmxlib\n",
    "}\n",
    "\n",
    "#Create and launch bb\n",
    "Pmxgentop(input_top_zip_path=output_pdb2gmxA_top_zip,\n",
    "       output_top_zip_path=output_pmxtopA_top_zip,\n",
    "       output_log_path=output_pmxtopA_log,\n",
    "       properties=prop).launch()\n",
    "\n",
    "#### State B (Mut->WT) ####\n",
    "\n",
    "# Create prop dict and inputs/outputs\n",
    "output_pmxtopB_top_zip = 'pmxB_top.zip'\n",
    "output_pmxtopB_log = 'pmxB_top.log'\n",
    "  \n",
    "prop = {\n",
    "    'force_field' : 'amber99sb-star-ildn-mut',\n",
    "    'pmx_path' : 'pmx',\n",
    "    'gmxlib' : gmxlib\n",
    "}\n",
    "\n",
    "# Create and launch bb\n",
    "Pmxgentop(input_top_zip_path=output_pdb2gmxB_top_zip,\n",
    "       output_top_zip_path=output_pmxtopB_top_zip,\n",
    "       output_log_path=output_pmxtopB_log,\n",
    "       properties=prop).launch()"
   ]
  },
  {
   "cell_type": "markdown",
   "metadata": {},
   "source": [
    "<a id=\"index\"></a>\n",
    "## Creating an index file for the dummy atoms in the morphed structure\n",
    "\n",
    "Some of the **mutations** done to the protein residues involve the generation of **dummy atoms**, atoms that are **slowly appearing** during the **transition** from the WT to the mutated structure. These **dummy atoms** need to be energy minimized before starting the **thermodynamic integration** step. If there are **no dummy atoms** in the corresponding state, this **energy minimization step can be omitted**.\n",
    "\n",
    "In this particular example, the **WT to mutated protein transition** (Isoleucine to Alanine) is not generating any **dummy atoms**, so it does not need any minimization step. Conversely, the **mutated to WT transition** (Alanine to Isoleucine) is generating 9 **dummy atoms**, so the minimization step is needed for the **reverse transition** (stateB).\n",
    "\n",
    "The **GROMACS** index file is built to **identify the dummy atoms** in the following **energy minimization** step, generating a new **FREEZE group** containing all atoms of the system except the **dummy atoms**. In the minimization process, this group will be **kept frozen**, whereas the **dummy atoms** will be left able to move. \n",
    "***\n",
    "**Building Blocks** used:\n",
    " - [MakeNdx](https://biobb-md.readthedocs.io/en/latest/gromacs.html#module-gromacs.make_ndx) from **biobb_md.gromacs.make_ndx**\n",
    "***"
   ]
  },
  {
   "cell_type": "code",
   "execution_count": 7,
   "metadata": {},
   "outputs": [
    {
     "name": "stderr",
     "output_type": "stream",
     "text": [
      "2020-10-14 11:35:18,988 [MainThread  ] [INFO ]  GROMACS MakeNdx 20191 version detected\n",
      "2020-10-14 11:35:18,990 [MainThread  ] [INFO ]  Not using any container\n",
      "2020-10-14 11:35:19,510 [MainThread  ] [INFO ]  echo -e 'a D*\n",
      "0 & ! 19\n",
      "name 20 FREEZE\\nq' | gmx -nobackup -nocopyright make_ndx -f pdb2gmxB.gro -o indexB.ndx\n",
      "\n",
      "2020-10-14 11:35:19,511 [MainThread  ] [INFO ]  Exit code 0\n",
      "\n",
      "2020-10-14 11:35:19,511 [MainThread  ] [INFO ]  Going to read 0 old index file(s)\n",
      "Analysing residue names:\n",
      "There are:   135    Protein residues\n",
      "There are:    75      Other residues\n",
      "There are: 10949      Water residues\n",
      "Analysing Protein...\n",
      "Analysing residues not classified as Protein/DNA/RNA/Water and splitting into groups...\n",
      "\n",
      "  0 System              : 35147 atoms\n",
      "  1 Protein             :  2207 atoms\n",
      "  2 Protein-H           :  1084 atoms\n",
      "  3 C-alpha             :   135 atoms\n",
      "  4 Backbone            :   405 atoms\n",
      "  5 MainChain           :   541 atoms\n",
      "  6 MainChain+Cb        :   667 atoms\n",
      "  7 MainChain+H         :   672 atoms\n",
      "  8 SideChain           :  1535 atoms\n",
      "  9 SideChain-H         :   543 atoms\n",
      " 10 Prot-Masses         :  2207 atoms\n",
      " 11 non-Protein         : 32940 atoms\n",
      " 12 Other               :    93 atoms\n",
      " 13 A2I                 :    19 atoms\n",
      " 14 NaJ                 :    32 atoms\n",
      " 15 ClJ                 :    42 atoms\n",
      " 16 Water               : 32847 atoms\n",
      " 17 SOL                 : 32847 atoms\n",
      " 18 non-Water           :  2300 atoms\n",
      "\n",
      " nr : group      '!': not  'name' nr name   'splitch' nr    Enter: list groups\n",
      " 'a': atom       '&': and  'del' nr         'splitres' nr   'l': list residues\n",
      " 't': atom type  '|': or   'keep' nr        'splitat' nr    'h': help\n",
      " 'r': residue              'res' nr         'chain' char\n",
      " \"name\": group             'case': case sensitive           'q': save and quit\n",
      " 'ri': residue index\n",
      "\n",
      "> \n",
      "Found 9 atoms with name D*\n",
      "\n",
      " 19 D*                  :     9 atoms\n",
      "\n",
      "> \n",
      "Copied index group 0 'System'\n",
      "Copied index group 19 'D*'\n",
      "Complemented group: 35138 atoms\n",
      "Merged two groups with AND: 35147 35138 -> 35138\n",
      "\n",
      " 20 System_&_!D*        : 35138 atoms\n",
      "\n",
      "> \n",
      "\n",
      "> \n",
      "\n",
      "2020-10-14 11:35:19,512 [MainThread  ] [INFO ]                       :-) GROMACS - gmx make_ndx, 2019.1 (-:\n",
      "\n",
      "Executable:   /anaconda3/envs/biobb_dev_37/bin/gmx\n",
      "Data prefix:  /anaconda3/envs/biobb_dev_37\n",
      "Working dir:  /home/gbayarri_local/projects/BioBB/tutorials/biobb_wf_pmx_tutorial/biobb_wf_pmx_tutorial/notebooks\n",
      "Command line:\n",
      "  gmx -nobackup -nocopyright make_ndx -f pdb2gmxB.gro -o indexB.ndx\n",
      "\n",
      "\n",
      "Reading structure file\n",
      "\n",
      "GROMACS reminds you: \"Let us not get carried away with our ideas and take our models too seriously\" (Nancy Swanson)\n",
      "\n",
      "\n",
      "2020-10-14 11:35:19,513 [MainThread  ] [INFO ]  Removed: []\n"
     ]
    },
    {
     "data": {
      "text/plain": [
       "0"
      ]
     },
     "execution_count": 7,
     "metadata": {},
     "output_type": "execute_result"
    }
   ],
   "source": [
    "# Gromacs make_ndx: GROMACS Make index command from biobb_md package\n",
    "# IMPORTANT: Only needed for stateB\n",
    "\n",
    "# Import module\n",
    "from biobb_md.gromacs.make_ndx import MakeNdx\n",
    "\n",
    "# Create prop dict and inputs/outputs\n",
    "output_ndx = 'indexB.ndx'\n",
    "  \n",
    "prop = {\n",
    "    'selection' : 'a D*\\n0 & ! 19\\nname 20 FREEZE'\n",
    "}\n",
    "\n",
    "# Create and launch bb\n",
    "MakeNdx(input_structure_path=output_pdb2gmxB_gro,\n",
    "        output_ndx_path=output_ndx,\n",
    "        properties=prop).launch()"
   ]
  },
  {
   "cell_type": "markdown",
   "metadata": {},
   "source": [
    "<a id=\"min\"></a>\n",
    "***\n",
    "## Energetically minimize the system\n",
    "Energetically minimize the **mutated protein** till reaching a desired potential energy.\n",
    "- [Step 1](#emStep1): Creating portable binary run file for energy minimization\n",
    "- [Step 2](#emStep2): Energetically minimize the **dummy atoms** till reaching a force of 100 kJ mol-1 nm-1.\n",
    "- [Step 3](#emStep3): Checking **energy minimization** results. Plotting energy by time during the **minimization** process.\n",
    "***\n",
    "**Building Blocks** used:\n",
    " - [Grompp](https://biobb-md.readthedocs.io/en/latest/gromacs.html#module-gromacs.grompp) from **biobb_md.gromacs.grompp** \n",
    " - [Mdrun](https://biobb-md.readthedocs.io/en/latest/gromacs.html#module-gromacs.mdrun) from **biobb_md.gromacs.mdrun** \n",
    " - [GMXEnergy](https://biobb-analysis.readthedocs.io/en/latest/gromacs.html#module-gromacs.gmx_energy) from **biobb_analysis.gromacs.gmx_energy** \n",
    "***"
   ]
  },
  {
   "cell_type": "markdown",
   "metadata": {},
   "source": [
    "<a id=\"emStep1\"></a>\n",
    "### Step 1: Creating portable binary run file for energy minimization\n",
    "\n",
    "Method used to run the **energy minimization** is a **steepest descent**, with a **maximum force of 100 KJ/mol\\*nm^2**, and a minimization **step size of 1fs**. The **maximum number of steps** to perform if the maximum force is not reached is **10,000 steps**. The previously generated **FREEZE** group is used to keep the system frozen except for the **dummy atoms**.\n",
    "\n",
    "Please note that as previously described, for the stateA (forward transition, Isoleucine to Alanine mutation), as there are no dummies, **the energy minimization is omitted** and **the energy minimization step is skipped**. "
   ]
  },
  {
   "cell_type": "code",
   "execution_count": 8,
   "metadata": {
    "scrolled": true
   },
   "outputs": [
    {
     "name": "stderr",
     "output_type": "stream",
     "text": [
      "2020-10-14 11:35:22,886 [MainThread  ] [INFO ]  GROMACS Grompp 20191 version detected\n",
      "2020-10-14 11:35:22,892 [MainThread  ] [INFO ]  Extracting: /home/gbayarri_local/projects/BioBB/tutorials/biobb_wf_pmx_tutorial/biobb_wf_pmx_tutorial/notebooks/pmxB_top.zip\n",
      "2020-10-14 11:35:22,893 [MainThread  ] [INFO ]  to:\n",
      "2020-10-14 11:35:22,894 [MainThread  ] [INFO ]  ['2dcd8b3d-29cb-4d2d-95f1-9c9a2b0d2d95/p2g.top', '2dcd8b3d-29cb-4d2d-95f1-9c9a2b0d2d95/pmx_p2g_Ion_chain_C.itp', '2dcd8b3d-29cb-4d2d-95f1-9c9a2b0d2d95/pmx_p2g_Protein_chain_A.itp', '2dcd8b3d-29cb-4d2d-95f1-9c9a2b0d2d95/posre_Ion_chain_C.itp', '2dcd8b3d-29cb-4d2d-95f1-9c9a2b0d2d95/posre_Protein_chain_A.itp']\n",
      "2020-10-14 11:35:22,895 [MainThread  ] [INFO ]  Unzipping: \n",
      "2020-10-14 11:35:22,896 [MainThread  ] [INFO ]  pmxB_top.zip\n",
      "2020-10-14 11:35:22,897 [MainThread  ] [INFO ]  To: \n",
      "2020-10-14 11:35:22,898 [MainThread  ] [INFO ]  2dcd8b3d-29cb-4d2d-95f1-9c9a2b0d2d95/p2g.top\n",
      "2020-10-14 11:35:22,899 [MainThread  ] [INFO ]  2dcd8b3d-29cb-4d2d-95f1-9c9a2b0d2d95/pmx_p2g_Ion_chain_C.itp\n",
      "2020-10-14 11:35:22,900 [MainThread  ] [INFO ]  2dcd8b3d-29cb-4d2d-95f1-9c9a2b0d2d95/pmx_p2g_Protein_chain_A.itp\n",
      "2020-10-14 11:35:22,903 [MainThread  ] [INFO ]  2dcd8b3d-29cb-4d2d-95f1-9c9a2b0d2d95/posre_Ion_chain_C.itp\n",
      "2020-10-14 11:35:22,905 [MainThread  ] [INFO ]  2dcd8b3d-29cb-4d2d-95f1-9c9a2b0d2d95/posre_Protein_chain_A.itp\n",
      "2020-10-14 11:35:22,907 [MainThread  ] [INFO ]  Will run a minimization md of 10000 steps\n",
      "2020-10-14 11:35:22,908 [MainThread  ] [INFO ]  Not using any container\n",
      "2020-10-14 11:35:23,256 [MainThread  ] [INFO ]  gmx -nobackup -nocopyright grompp -f 6eb0c205-4fb8-4b6a-aa82-c46e20a076cd/grompp.mdp -c pdb2gmxB.gro -r pdb2gmxB.gro -p 2dcd8b3d-29cb-4d2d-95f1-9c9a2b0d2d95/p2g.top -o em.tpr -po mdout.mdp -maxwarn 10 -n indexB.ndx\n",
      "\n",
      "2020-10-14 11:35:23,257 [MainThread  ] [INFO ]  Exit code 0\n",
      "\n",
      "2020-10-14 11:35:23,257 [MainThread  ] [INFO ]  Calculating fourier grid dimensions for X Y Z\n",
      "Using a fourier grid of 72x72x72, spacing 0.110 0.110 0.110\n",
      "This run will generate roughly 3 Mb of data\n",
      "\n",
      "2020-10-14 11:35:23,258 [MainThread  ] [INFO ]                        :-) GROMACS - gmx grompp, 2019.1 (-:\n",
      "\n",
      "Executable:   /anaconda3/envs/biobb_dev_37/bin/gmx\n",
      "Data prefix:  /anaconda3/envs/biobb_dev_37\n",
      "Working dir:  /home/gbayarri_local/projects/BioBB/tutorials/biobb_wf_pmx_tutorial/biobb_wf_pmx_tutorial/notebooks\n",
      "Command line:\n",
      "  gmx -nobackup -nocopyright grompp -f 6eb0c205-4fb8-4b6a-aa82-c46e20a076cd/grompp.mdp -c pdb2gmxB.gro -r pdb2gmxB.gro -p 2dcd8b3d-29cb-4d2d-95f1-9c9a2b0d2d95/p2g.top -o em.tpr -po mdout.mdp -maxwarn 10 -n indexB.ndx\n",
      "\n",
      "Setting the LD random seed to -2070922462\n",
      "Generated 5253 of the 5253 non-bonded parameter combinations\n",
      "Generating 1-4 interactions: fudge = 0.5\n",
      "Generated 5253 of the 5253 1-4 parameter combinations\n",
      "Excluding 3 bonded neighbours molecule type 'Protein_chain_A'\n",
      "Excluding 3 bonded neighbours molecule type 'Ion_chain_C'\n",
      "Excluding 2 bonded neighbours molecule type 'SOL'\n",
      "Excluding 2 bonded neighbours molecule type 'SOL'\n",
      "Removing all charge groups because cutoff-scheme=Verlet\n",
      "Number of degrees of freedom in T-Coupling group rest is 24.00\n",
      "Estimate for the relative computational load of the PME mesh part: 0.19\n",
      "\n",
      "GROMACS reminds you: \"The best part of winter in Stockholm is going to Australia\" (Mark Abraham)\n",
      "\n",
      "\n",
      "2020-10-14 11:35:23,259 [MainThread  ] [INFO ]  Removed: ['mdout.mdp', '2dcd8b3d-29cb-4d2d-95f1-9c9a2b0d2d95', '6eb0c205-4fb8-4b6a-aa82-c46e20a076cd']\n"
     ]
    },
    {
     "data": {
      "text/plain": [
       "0"
      ]
     },
     "execution_count": 8,
     "metadata": {},
     "output_type": "execute_result"
    }
   ],
   "source": [
    "# Grompp: Creating portable binary run file for dummy atoms energy minimization\n",
    "from biobb_md.gromacs.grompp import Grompp\n",
    "\n",
    "#### State B (Mut->WT) ####\n",
    "\n",
    "# Create prop dict and inputs/outputs\n",
    "output_tpr_min = 'em.tpr'\n",
    "\n",
    "prop = {\n",
    "    'gmxlib' : gmxlib,\n",
    "    'mdp':{\n",
    "        'type': 'minimization',\n",
    "        'integrator' : 'steep',\n",
    "        'emtol': '100',\n",
    "        'dt': '0.001',\n",
    "        'nsteps':'10000',\n",
    "        'nstcomm': '1',\n",
    "        'nstcalcenergy': '1',\n",
    "        'freezegrps' : 'FREEZE',\n",
    "        'freezedim' : \"Y Y Y\"\n",
    "    }\n",
    "}\n",
    "\n",
    "# Create and launch bb\n",
    "Grompp(input_gro_path=output_pdb2gmxB_gro,\n",
    "       input_top_zip_path=output_pmxtopB_top_zip,\n",
    "       input_ndx_path=output_ndx,\n",
    "       output_tpr_path=output_tpr_min,\n",
    "       properties=prop).launch()"
   ]
  },
  {
   "cell_type": "markdown",
   "metadata": {},
   "source": [
    "<a id=\"emStep2\"></a>\n",
    "### Step 2: Running Energy Minimization\n",
    "Running **energy minimization** using the **tpr file** generated in the previous step."
   ]
  },
  {
   "cell_type": "code",
   "execution_count": 9,
   "metadata": {},
   "outputs": [
    {
     "name": "stderr",
     "output_type": "stream",
     "text": [
      "2020-10-14 11:35:29,865 [MainThread  ] [INFO ]  GROMACS Mdrun 20191 version detected\n",
      "2020-10-14 11:35:29,866 [MainThread  ] [INFO ]  Not using any container\n",
      "2020-10-14 11:35:33,594 [MainThread  ] [INFO ]  gmx -nobackup -nocopyright mdrun -s em.tpr -o emout.trr -c emout.gro -e emout.edr -g emout.log -nt 0\n",
      "\n",
      "2020-10-14 11:35:33,594 [MainThread  ] [INFO ]  Exit code 0\n",
      "\n",
      "2020-10-14 11:35:33,595 [MainThread  ] [INFO ]                        :-) GROMACS - gmx mdrun, 2019.1 (-:\n",
      "\n",
      "Executable:   /anaconda3/envs/biobb_dev_37/bin/gmx\n",
      "Data prefix:  /anaconda3/envs/biobb_dev_37\n",
      "Working dir:  /home/gbayarri_local/projects/BioBB/tutorials/biobb_wf_pmx_tutorial/biobb_wf_pmx_tutorial/notebooks\n",
      "Command line:\n",
      "  gmx -nobackup -nocopyright mdrun -s em.tpr -o emout.trr -c emout.gro -e emout.edr -g emout.log -nt 0\n",
      "\n",
      "Compiled SIMD: SSE2, but for this host/run AVX2_256 might be better (see log).\n",
      "The current CPU can measure timings more accurately than the code in\n",
      "gmx mdrun was configured to use. This might affect your simulation\n",
      "speed as accurate timings are needed for load-balancing.\n",
      "Please consider rebuilding gmx mdrun with the GMX_USE_RDTSCP=ON CMake option.\n",
      "Reading file em.tpr, VERSION 2019.1 (single precision)\n",
      "\n",
      "Using 1 MPI thread\n",
      "Using 8 OpenMP threads \n",
      "\n",
      "\n",
      "Steepest Descents:\n",
      "   Tolerance (Fmax)   =  1.00000e+02\n",
      "   Number of steps    =        10000\n",
      "\n",
      "Energy minimization has stopped, but the forces have not converged to the\n",
      "requested precision Fmax < 100 (which may not be possible for your system).\n",
      "It stopped because the algorithm tried to make a new step whose size was too\n",
      "small, or there was no change in the energy since last step. Either way, we\n",
      "regard the minimization as converged to within the available machine\n",
      "precision, given your starting configuration and EM parameters.\n",
      "\n",
      "Double precision normally gives you higher accuracy, but this is often not\n",
      "needed for preparing to run molecular dynamics.\n",
      "You might need to increase your constraint accuracy, or turn\n",
      "off constraints altogether (set constraints = none in mdp file)\n",
      "\n",
      "writing lowest energy coordinates.\n",
      "\n",
      "Steepest Descents converged to machine precision in 53 steps,\n",
      "but did not reach the requested Fmax < 100.\n",
      "Potential Energy  = -5.2573931e+05\n",
      "Maximum force     =  2.3964275e+02 on atom 173\n",
      "Norm of force     =  2.1982876e+00\n",
      "\n",
      "GROMACS reminds you: \"That Was Really Cool\" (Butthead)\n",
      "\n",
      "\n",
      "2020-10-14 11:35:33,595 [MainThread  ] [INFO ]  Removed: []\n"
     ]
    },
    {
     "data": {
      "text/plain": [
       "0"
      ]
     },
     "execution_count": 9,
     "metadata": {},
     "output_type": "execute_result"
    }
   ],
   "source": [
    "# Mdrun: Running minimization\n",
    "from biobb_md.gromacs.mdrun import Mdrun\n",
    "\n",
    "# Create prop dict and inputs/outputs\n",
    "output_min_trr = 'emout.trr'\n",
    "output_min_gro = 'emout.gro'\n",
    "output_min_edr = 'emout.edr'\n",
    "output_min_log = 'emout.log'\n",
    "\n",
    "# Create and launch bb\n",
    "Mdrun(input_tpr_path=output_tpr_min,\n",
    "      output_trr_path=output_min_trr,\n",
    "      output_gro_path=output_min_gro,\n",
    "      output_edr_path=output_min_edr,\n",
    "      output_log_path=output_min_log).launch()"
   ]
  },
  {
   "cell_type": "markdown",
   "metadata": {},
   "source": [
    "<a id=\"emStep3\"></a>\n",
    "### Step 3: Checking Energy Minimization results\n",
    "Checking **energy minimization** results. Plotting **potential energy** by time during the minimization process. "
   ]
  },
  {
   "cell_type": "code",
   "execution_count": 10,
   "metadata": {},
   "outputs": [
    {
     "name": "stderr",
     "output_type": "stream",
     "text": [
      "2020-10-14 11:35:48,182 [MainThread  ] [INFO ]  Not using any container\n",
      "2020-10-14 11:35:48,195 [MainThread  ] [INFO ]  gmx energy -f /home/gbayarri_local/projects/BioBB/tutorials/biobb_wf_pmx_tutorial/biobb_wf_pmx_tutorial/notebooks/emout.edr -o min_ene.xvg -xvg none < 2197f6da-9a24-4ff5-968d-4e238c1655a4/instructions.in\n",
      "\n",
      "2020-10-14 11:35:48,197 [MainThread  ] [INFO ]  Exit code 0\n",
      "\n",
      "2020-10-14 11:35:48,198 [MainThread  ] [INFO ]  \n",
      "Statistics over 42 steps [ 0.0000 through 41.0000 ps ], 1 data sets\n",
      "All statistics are over 31 points (frames)\n",
      "\n",
      "Energy                      Average   Err.Est.       RMSD  Tot-Drift\n",
      "-------------------------------------------------------------------------------\n",
      "Potential                   -525653         73    225.442   -414.764  (kJ/mol)\n",
      "\n",
      "2020-10-14 11:35:48,198 [MainThread  ] [INFO ]                        :-) GROMACS - gmx energy, 2019.1 (-:\n",
      "\n",
      "                            GROMACS is written by:\n",
      "     Emile Apol      Rossen Apostolov      Paul Bauer     Herman J.C. Berendsen\n",
      "    Par Bjelkmar      Christian Blau   Viacheslav Bolnykh     Kevin Boyd    \n",
      " Aldert van Buuren   Rudi van Drunen     Anton Feenstra       Alan Gray     \n",
      "  Gerrit Groenhof     Anca Hamuraru    Vincent Hindriksen  M. Eric Irrgang  \n",
      "  Aleksei Iupinov   Christoph Junghans     Joe Jordan     Dimitrios Karkoulis\n",
      "    Peter Kasson        Jiri Kraus      Carsten Kutzner      Per Larsson    \n",
      "  Justin A. Lemkul    Viveca Lindahl    Magnus Lundborg     Erik Marklund   \n",
      "    Pascal Merz     Pieter Meulenhoff    Teemu Murtola       Szilard Pall   \n",
      "    Sander Pronk      Roland Schulz      Michael Shirts    Alexey Shvetsov  \n",
      "   Alfons Sijbers     Peter Tieleman      Jon Vincent      Teemu Virolainen \n",
      " Christian Wennberg    Maarten Wolf   \n",
      "                           and the project leaders:\n",
      "        Mark Abraham, Berk Hess, Erik Lindahl, and David van der Spoel\n",
      "\n",
      "Copyright (c) 1991-2000, University of Groningen, The Netherlands.\n",
      "Copyright (c) 2001-2018, The GROMACS development team at\n",
      "Uppsala University, Stockholm University and\n",
      "the Royal Institute of Technology, Sweden.\n",
      "check out http://www.gromacs.org for more information.\n",
      "\n",
      "GROMACS is free software; you can redistribute it and/or modify it\n",
      "under the terms of the GNU Lesser General Public License\n",
      "as published by the Free Software Foundation; either version 2.1\n",
      "of the License, or (at your option) any later version.\n",
      "\n",
      "GROMACS:      gmx energy, version 2019.1\n",
      "Executable:   /anaconda3/envs/biobb_dev_37/bin/gmx\n",
      "Data prefix:  /anaconda3/envs/biobb_dev_37\n",
      "Working dir:  /home/gbayarri_local/projects/BioBB/tutorials/biobb_wf_pmx_tutorial/biobb_wf_pmx_tutorial/notebooks\n",
      "Command line:\n",
      "  gmx energy -f /home/gbayarri_local/projects/BioBB/tutorials/biobb_wf_pmx_tutorial/biobb_wf_pmx_tutorial/notebooks/emout.edr -o min_ene.xvg -xvg none\n",
      "\n",
      "Opened /home/gbayarri_local/projects/BioBB/tutorials/biobb_wf_pmx_tutorial/biobb_wf_pmx_tutorial/notebooks/emout.edr as single precision energy file\n",
      "\n",
      "Select the terms you want from the following list by\n",
      "selecting either (part of) the name or the number or a combination.\n",
      "End your selection with an empty line or a zero.\n",
      "-------------------------------------------------------------------\n",
      "  1  Bond             2  Angle            3  Proper-Dih.      4  Improper-Dih. \n",
      "  5  LJ-14            6  Coulomb-14       7  LJ-(SR)          8  Coulomb-(SR)  \n",
      "  9  Coul.-recip.    10  Position-Rest.  11  Potential       12  Pressure      \n",
      " 13  Vir-XX          14  Vir-XY          15  Vir-XZ          16  Vir-YX        \n",
      " 17  Vir-YY          18  Vir-YZ          19  Vir-ZX          20  Vir-ZY        \n",
      " 21  Vir-ZZ          22  Pres-XX         23  Pres-XY         24  Pres-XZ       \n",
      " 25  Pres-YX         26  Pres-YY         27  Pres-YZ         28  Pres-ZX       \n",
      " 29  Pres-ZY         30  Pres-ZZ         31  #Surf*SurfTen   32  T-rest        \n",
      "\n",
      "Last energy frame read 30 time   41.000           \n",
      "\n",
      "GROMACS reminds you: \"Home computers are being called upon to perform many new functions, including the consumption of homework formerly eaten by the dog.\" (Doug Larson)\n",
      "\n",
      "\n",
      "2020-10-14 11:35:48,200 [MainThread  ] [INFO ]  Removed: [PurePosixPath('2197f6da-9a24-4ff5-968d-4e238c1655a4')]\n"
     ]
    },
    {
     "data": {
      "text/plain": [
       "0"
      ]
     },
     "execution_count": 10,
     "metadata": {},
     "output_type": "execute_result"
    }
   ],
   "source": [
    "# GMXEnergy: Getting system energy by time  \n",
    "from biobb_analysis.gromacs.gmx_energy import GMXEnergy\n",
    "\n",
    "# Create prop dict and inputs/outputs\n",
    "output_min_ene_xvg = 'min_ene.xvg'\n",
    "prop = {\n",
    "    'terms':  [\"Potential\"]\n",
    "}\n",
    "\n",
    "# Create and launch bb\n",
    "GMXEnergy(input_energy_path=output_min_edr, \n",
    "          output_xvg_path=output_min_ene_xvg, \n",
    "          properties=prop).launch()"
   ]
  },
  {
   "cell_type": "code",
   "execution_count": 11,
   "metadata": {},
   "outputs": [
    {
     "data": {
      "text/html": [
       "        <script type=\"text/javascript\">\n",
       "        window.PlotlyConfig = {MathJaxConfig: 'local'};\n",
       "        if (window.MathJax) {MathJax.Hub.Config({SVG: {font: \"STIX-Web\"}});}\n",
       "        if (typeof require !== 'undefined') {\n",
       "        require.undef(\"plotly\");\n",
       "        requirejs.config({\n",
       "            paths: {\n",
       "                'plotly': ['https://cdn.plot.ly/plotly-latest.min']\n",
       "            }\n",
       "        });\n",
       "        require(['plotly'], function(Plotly) {\n",
       "            window._Plotly = Plotly;\n",
       "        });\n",
       "        }\n",
       "        </script>\n",
       "        "
      ]
     },
     "metadata": {},
     "output_type": "display_data"
    },
    {
     "data": {
      "application/vnd.plotly.v1+json": {
       "config": {
        "linkText": "Export to plot.ly",
        "plotlyServerURL": "https://plot.ly",
        "showLink": false
       },
       "data": [
        {
         "type": "scatter",
         "x": [
          0,
          1,
          2,
          3,
          4,
          5,
          7,
          10,
          12,
          13,
          14,
          16,
          17,
          19,
          20,
          21,
          22,
          24,
          25,
          27,
          28,
          30,
          31,
          33,
          34,
          35,
          36,
          38,
          39,
          40,
          41
         ],
         "y": [
          -524711.6875,
          -525036.9375,
          -525302.75,
          -525508,
          -525656.375,
          -525670.4375,
          -525717.9375,
          -525725.25,
          -525727.6875,
          -525728.3125,
          -525730.125,
          -525731.4375,
          -525732.0625,
          -525733.25,
          -525734.125,
          -525734.25,
          -525735.1875,
          -525735.8125,
          -525736.0625,
          -525736.625,
          -525736.875,
          -525737.3125,
          -525737.5,
          -525737.625,
          -525737.9375,
          -525738.1875,
          -525738.375,
          -525738.625,
          -525738.8125,
          -525739.0625,
          -525739.3125
         ]
        }
       ],
       "layout": {
        "template": {
         "data": {
          "bar": [
           {
            "error_x": {
             "color": "#2a3f5f"
            },
            "error_y": {
             "color": "#2a3f5f"
            },
            "marker": {
             "line": {
              "color": "#E5ECF6",
              "width": 0.5
             }
            },
            "type": "bar"
           }
          ],
          "barpolar": [
           {
            "marker": {
             "line": {
              "color": "#E5ECF6",
              "width": 0.5
             }
            },
            "type": "barpolar"
           }
          ],
          "carpet": [
           {
            "aaxis": {
             "endlinecolor": "#2a3f5f",
             "gridcolor": "white",
             "linecolor": "white",
             "minorgridcolor": "white",
             "startlinecolor": "#2a3f5f"
            },
            "baxis": {
             "endlinecolor": "#2a3f5f",
             "gridcolor": "white",
             "linecolor": "white",
             "minorgridcolor": "white",
             "startlinecolor": "#2a3f5f"
            },
            "type": "carpet"
           }
          ],
          "choropleth": [
           {
            "colorbar": {
             "outlinewidth": 0,
             "ticks": ""
            },
            "type": "choropleth"
           }
          ],
          "contour": [
           {
            "colorbar": {
             "outlinewidth": 0,
             "ticks": ""
            },
            "colorscale": [
             [
              0,
              "#0d0887"
             ],
             [
              0.1111111111111111,
              "#46039f"
             ],
             [
              0.2222222222222222,
              "#7201a8"
             ],
             [
              0.3333333333333333,
              "#9c179e"
             ],
             [
              0.4444444444444444,
              "#bd3786"
             ],
             [
              0.5555555555555556,
              "#d8576b"
             ],
             [
              0.6666666666666666,
              "#ed7953"
             ],
             [
              0.7777777777777778,
              "#fb9f3a"
             ],
             [
              0.8888888888888888,
              "#fdca26"
             ],
             [
              1,
              "#f0f921"
             ]
            ],
            "type": "contour"
           }
          ],
          "contourcarpet": [
           {
            "colorbar": {
             "outlinewidth": 0,
             "ticks": ""
            },
            "type": "contourcarpet"
           }
          ],
          "heatmap": [
           {
            "colorbar": {
             "outlinewidth": 0,
             "ticks": ""
            },
            "colorscale": [
             [
              0,
              "#0d0887"
             ],
             [
              0.1111111111111111,
              "#46039f"
             ],
             [
              0.2222222222222222,
              "#7201a8"
             ],
             [
              0.3333333333333333,
              "#9c179e"
             ],
             [
              0.4444444444444444,
              "#bd3786"
             ],
             [
              0.5555555555555556,
              "#d8576b"
             ],
             [
              0.6666666666666666,
              "#ed7953"
             ],
             [
              0.7777777777777778,
              "#fb9f3a"
             ],
             [
              0.8888888888888888,
              "#fdca26"
             ],
             [
              1,
              "#f0f921"
             ]
            ],
            "type": "heatmap"
           }
          ],
          "heatmapgl": [
           {
            "colorbar": {
             "outlinewidth": 0,
             "ticks": ""
            },
            "colorscale": [
             [
              0,
              "#0d0887"
             ],
             [
              0.1111111111111111,
              "#46039f"
             ],
             [
              0.2222222222222222,
              "#7201a8"
             ],
             [
              0.3333333333333333,
              "#9c179e"
             ],
             [
              0.4444444444444444,
              "#bd3786"
             ],
             [
              0.5555555555555556,
              "#d8576b"
             ],
             [
              0.6666666666666666,
              "#ed7953"
             ],
             [
              0.7777777777777778,
              "#fb9f3a"
             ],
             [
              0.8888888888888888,
              "#fdca26"
             ],
             [
              1,
              "#f0f921"
             ]
            ],
            "type": "heatmapgl"
           }
          ],
          "histogram": [
           {
            "marker": {
             "colorbar": {
              "outlinewidth": 0,
              "ticks": ""
             }
            },
            "type": "histogram"
           }
          ],
          "histogram2d": [
           {
            "colorbar": {
             "outlinewidth": 0,
             "ticks": ""
            },
            "colorscale": [
             [
              0,
              "#0d0887"
             ],
             [
              0.1111111111111111,
              "#46039f"
             ],
             [
              0.2222222222222222,
              "#7201a8"
             ],
             [
              0.3333333333333333,
              "#9c179e"
             ],
             [
              0.4444444444444444,
              "#bd3786"
             ],
             [
              0.5555555555555556,
              "#d8576b"
             ],
             [
              0.6666666666666666,
              "#ed7953"
             ],
             [
              0.7777777777777778,
              "#fb9f3a"
             ],
             [
              0.8888888888888888,
              "#fdca26"
             ],
             [
              1,
              "#f0f921"
             ]
            ],
            "type": "histogram2d"
           }
          ],
          "histogram2dcontour": [
           {
            "colorbar": {
             "outlinewidth": 0,
             "ticks": ""
            },
            "colorscale": [
             [
              0,
              "#0d0887"
             ],
             [
              0.1111111111111111,
              "#46039f"
             ],
             [
              0.2222222222222222,
              "#7201a8"
             ],
             [
              0.3333333333333333,
              "#9c179e"
             ],
             [
              0.4444444444444444,
              "#bd3786"
             ],
             [
              0.5555555555555556,
              "#d8576b"
             ],
             [
              0.6666666666666666,
              "#ed7953"
             ],
             [
              0.7777777777777778,
              "#fb9f3a"
             ],
             [
              0.8888888888888888,
              "#fdca26"
             ],
             [
              1,
              "#f0f921"
             ]
            ],
            "type": "histogram2dcontour"
           }
          ],
          "mesh3d": [
           {
            "colorbar": {
             "outlinewidth": 0,
             "ticks": ""
            },
            "type": "mesh3d"
           }
          ],
          "parcoords": [
           {
            "line": {
             "colorbar": {
              "outlinewidth": 0,
              "ticks": ""
             }
            },
            "type": "parcoords"
           }
          ],
          "pie": [
           {
            "automargin": true,
            "type": "pie"
           }
          ],
          "scatter": [
           {
            "marker": {
             "colorbar": {
              "outlinewidth": 0,
              "ticks": ""
             }
            },
            "type": "scatter"
           }
          ],
          "scatter3d": [
           {
            "line": {
             "colorbar": {
              "outlinewidth": 0,
              "ticks": ""
             }
            },
            "marker": {
             "colorbar": {
              "outlinewidth": 0,
              "ticks": ""
             }
            },
            "type": "scatter3d"
           }
          ],
          "scattercarpet": [
           {
            "marker": {
             "colorbar": {
              "outlinewidth": 0,
              "ticks": ""
             }
            },
            "type": "scattercarpet"
           }
          ],
          "scattergeo": [
           {
            "marker": {
             "colorbar": {
              "outlinewidth": 0,
              "ticks": ""
             }
            },
            "type": "scattergeo"
           }
          ],
          "scattergl": [
           {
            "marker": {
             "colorbar": {
              "outlinewidth": 0,
              "ticks": ""
             }
            },
            "type": "scattergl"
           }
          ],
          "scattermapbox": [
           {
            "marker": {
             "colorbar": {
              "outlinewidth": 0,
              "ticks": ""
             }
            },
            "type": "scattermapbox"
           }
          ],
          "scatterpolar": [
           {
            "marker": {
             "colorbar": {
              "outlinewidth": 0,
              "ticks": ""
             }
            },
            "type": "scatterpolar"
           }
          ],
          "scatterpolargl": [
           {
            "marker": {
             "colorbar": {
              "outlinewidth": 0,
              "ticks": ""
             }
            },
            "type": "scatterpolargl"
           }
          ],
          "scatterternary": [
           {
            "marker": {
             "colorbar": {
              "outlinewidth": 0,
              "ticks": ""
             }
            },
            "type": "scatterternary"
           }
          ],
          "surface": [
           {
            "colorbar": {
             "outlinewidth": 0,
             "ticks": ""
            },
            "colorscale": [
             [
              0,
              "#0d0887"
             ],
             [
              0.1111111111111111,
              "#46039f"
             ],
             [
              0.2222222222222222,
              "#7201a8"
             ],
             [
              0.3333333333333333,
              "#9c179e"
             ],
             [
              0.4444444444444444,
              "#bd3786"
             ],
             [
              0.5555555555555556,
              "#d8576b"
             ],
             [
              0.6666666666666666,
              "#ed7953"
             ],
             [
              0.7777777777777778,
              "#fb9f3a"
             ],
             [
              0.8888888888888888,
              "#fdca26"
             ],
             [
              1,
              "#f0f921"
             ]
            ],
            "type": "surface"
           }
          ],
          "table": [
           {
            "cells": {
             "fill": {
              "color": "#EBF0F8"
             },
             "line": {
              "color": "white"
             }
            },
            "header": {
             "fill": {
              "color": "#C8D4E3"
             },
             "line": {
              "color": "white"
             }
            },
            "type": "table"
           }
          ]
         },
         "layout": {
          "annotationdefaults": {
           "arrowcolor": "#2a3f5f",
           "arrowhead": 0,
           "arrowwidth": 1
          },
          "coloraxis": {
           "colorbar": {
            "outlinewidth": 0,
            "ticks": ""
           }
          },
          "colorscale": {
           "diverging": [
            [
             0,
             "#8e0152"
            ],
            [
             0.1,
             "#c51b7d"
            ],
            [
             0.2,
             "#de77ae"
            ],
            [
             0.3,
             "#f1b6da"
            ],
            [
             0.4,
             "#fde0ef"
            ],
            [
             0.5,
             "#f7f7f7"
            ],
            [
             0.6,
             "#e6f5d0"
            ],
            [
             0.7,
             "#b8e186"
            ],
            [
             0.8,
             "#7fbc41"
            ],
            [
             0.9,
             "#4d9221"
            ],
            [
             1,
             "#276419"
            ]
           ],
           "sequential": [
            [
             0,
             "#0d0887"
            ],
            [
             0.1111111111111111,
             "#46039f"
            ],
            [
             0.2222222222222222,
             "#7201a8"
            ],
            [
             0.3333333333333333,
             "#9c179e"
            ],
            [
             0.4444444444444444,
             "#bd3786"
            ],
            [
             0.5555555555555556,
             "#d8576b"
            ],
            [
             0.6666666666666666,
             "#ed7953"
            ],
            [
             0.7777777777777778,
             "#fb9f3a"
            ],
            [
             0.8888888888888888,
             "#fdca26"
            ],
            [
             1,
             "#f0f921"
            ]
           ],
           "sequentialminus": [
            [
             0,
             "#0d0887"
            ],
            [
             0.1111111111111111,
             "#46039f"
            ],
            [
             0.2222222222222222,
             "#7201a8"
            ],
            [
             0.3333333333333333,
             "#9c179e"
            ],
            [
             0.4444444444444444,
             "#bd3786"
            ],
            [
             0.5555555555555556,
             "#d8576b"
            ],
            [
             0.6666666666666666,
             "#ed7953"
            ],
            [
             0.7777777777777778,
             "#fb9f3a"
            ],
            [
             0.8888888888888888,
             "#fdca26"
            ],
            [
             1,
             "#f0f921"
            ]
           ]
          },
          "colorway": [
           "#636efa",
           "#EF553B",
           "#00cc96",
           "#ab63fa",
           "#FFA15A",
           "#19d3f3",
           "#FF6692",
           "#B6E880",
           "#FF97FF",
           "#FECB52"
          ],
          "font": {
           "color": "#2a3f5f"
          },
          "geo": {
           "bgcolor": "white",
           "lakecolor": "white",
           "landcolor": "#E5ECF6",
           "showlakes": true,
           "showland": true,
           "subunitcolor": "white"
          },
          "hoverlabel": {
           "align": "left"
          },
          "hovermode": "closest",
          "mapbox": {
           "style": "light"
          },
          "paper_bgcolor": "white",
          "plot_bgcolor": "#E5ECF6",
          "polar": {
           "angularaxis": {
            "gridcolor": "white",
            "linecolor": "white",
            "ticks": ""
           },
           "bgcolor": "#E5ECF6",
           "radialaxis": {
            "gridcolor": "white",
            "linecolor": "white",
            "ticks": ""
           }
          },
          "scene": {
           "xaxis": {
            "backgroundcolor": "#E5ECF6",
            "gridcolor": "white",
            "gridwidth": 2,
            "linecolor": "white",
            "showbackground": true,
            "ticks": "",
            "zerolinecolor": "white"
           },
           "yaxis": {
            "backgroundcolor": "#E5ECF6",
            "gridcolor": "white",
            "gridwidth": 2,
            "linecolor": "white",
            "showbackground": true,
            "ticks": "",
            "zerolinecolor": "white"
           },
           "zaxis": {
            "backgroundcolor": "#E5ECF6",
            "gridcolor": "white",
            "gridwidth": 2,
            "linecolor": "white",
            "showbackground": true,
            "ticks": "",
            "zerolinecolor": "white"
           }
          },
          "shapedefaults": {
           "line": {
            "color": "#2a3f5f"
           }
          },
          "ternary": {
           "aaxis": {
            "gridcolor": "white",
            "linecolor": "white",
            "ticks": ""
           },
           "baxis": {
            "gridcolor": "white",
            "linecolor": "white",
            "ticks": ""
           },
           "bgcolor": "#E5ECF6",
           "caxis": {
            "gridcolor": "white",
            "linecolor": "white",
            "ticks": ""
           }
          },
          "title": {
           "x": 0.05
          },
          "xaxis": {
           "automargin": true,
           "gridcolor": "white",
           "linecolor": "white",
           "ticks": "",
           "title": {
            "standoff": 15
           },
           "zerolinecolor": "white",
           "zerolinewidth": 2
          },
          "yaxis": {
           "automargin": true,
           "gridcolor": "white",
           "linecolor": "white",
           "ticks": "",
           "title": {
            "standoff": 15
           },
           "zerolinecolor": "white",
           "zerolinewidth": 2
          }
         }
        },
        "title": {
         "text": "Energy Minimization"
        },
        "xaxis": {
         "title": {
          "text": "Energy Minimization Step"
         }
        },
        "yaxis": {
         "title": {
          "text": "Potential Energy KJ/mol-1"
         }
        }
       }
      },
      "text/html": [
       "<div>\n",
       "        \n",
       "        \n",
       "            <div id=\"18287652-ca8e-4784-ba14-61284cf54932\" class=\"plotly-graph-div\" style=\"height:525px; width:100%;\"></div>\n",
       "            <script type=\"text/javascript\">\n",
       "                require([\"plotly\"], function(Plotly) {\n",
       "                    window.PLOTLYENV=window.PLOTLYENV || {};\n",
       "                    \n",
       "                if (document.getElementById(\"18287652-ca8e-4784-ba14-61284cf54932\")) {\n",
       "                    Plotly.newPlot(\n",
       "                        '18287652-ca8e-4784-ba14-61284cf54932',\n",
       "                        [{\"type\": \"scatter\", \"x\": [0.0, 1.0, 2.0, 3.0, 4.0, 5.0, 7.0, 10.0, 12.0, 13.0, 14.0, 16.0, 17.0, 19.0, 20.0, 21.0, 22.0, 24.0, 25.0, 27.0, 28.0, 30.0, 31.0, 33.0, 34.0, 35.0, 36.0, 38.0, 39.0, 40.0, 41.0], \"y\": [-524711.6875, -525036.9375, -525302.75, -525508.0, -525656.375, -525670.4375, -525717.9375, -525725.25, -525727.6875, -525728.3125, -525730.125, -525731.4375, -525732.0625, -525733.25, -525734.125, -525734.25, -525735.1875, -525735.8125, -525736.0625, -525736.625, -525736.875, -525737.3125, -525737.5, -525737.625, -525737.9375, -525738.1875, -525738.375, -525738.625, -525738.8125, -525739.0625, -525739.3125]}],\n",
       "                        {\"template\": {\"data\": {\"bar\": [{\"error_x\": {\"color\": \"#2a3f5f\"}, \"error_y\": {\"color\": \"#2a3f5f\"}, \"marker\": {\"line\": {\"color\": \"#E5ECF6\", \"width\": 0.5}}, \"type\": \"bar\"}], \"barpolar\": [{\"marker\": {\"line\": {\"color\": \"#E5ECF6\", \"width\": 0.5}}, \"type\": \"barpolar\"}], \"carpet\": [{\"aaxis\": {\"endlinecolor\": \"#2a3f5f\", \"gridcolor\": \"white\", \"linecolor\": \"white\", \"minorgridcolor\": \"white\", \"startlinecolor\": \"#2a3f5f\"}, \"baxis\": {\"endlinecolor\": \"#2a3f5f\", \"gridcolor\": \"white\", \"linecolor\": \"white\", \"minorgridcolor\": \"white\", \"startlinecolor\": \"#2a3f5f\"}, \"type\": \"carpet\"}], \"choropleth\": [{\"colorbar\": {\"outlinewidth\": 0, \"ticks\": \"\"}, \"type\": \"choropleth\"}], \"contour\": [{\"colorbar\": {\"outlinewidth\": 0, \"ticks\": \"\"}, \"colorscale\": [[0.0, \"#0d0887\"], [0.1111111111111111, \"#46039f\"], [0.2222222222222222, \"#7201a8\"], [0.3333333333333333, \"#9c179e\"], [0.4444444444444444, \"#bd3786\"], [0.5555555555555556, \"#d8576b\"], [0.6666666666666666, \"#ed7953\"], [0.7777777777777778, \"#fb9f3a\"], [0.8888888888888888, \"#fdca26\"], [1.0, \"#f0f921\"]], \"type\": \"contour\"}], \"contourcarpet\": [{\"colorbar\": {\"outlinewidth\": 0, \"ticks\": \"\"}, \"type\": \"contourcarpet\"}], \"heatmap\": [{\"colorbar\": {\"outlinewidth\": 0, \"ticks\": \"\"}, \"colorscale\": [[0.0, \"#0d0887\"], [0.1111111111111111, \"#46039f\"], [0.2222222222222222, \"#7201a8\"], [0.3333333333333333, \"#9c179e\"], [0.4444444444444444, \"#bd3786\"], [0.5555555555555556, \"#d8576b\"], [0.6666666666666666, \"#ed7953\"], [0.7777777777777778, \"#fb9f3a\"], [0.8888888888888888, \"#fdca26\"], [1.0, \"#f0f921\"]], \"type\": \"heatmap\"}], \"heatmapgl\": [{\"colorbar\": {\"outlinewidth\": 0, \"ticks\": \"\"}, \"colorscale\": [[0.0, \"#0d0887\"], [0.1111111111111111, \"#46039f\"], [0.2222222222222222, \"#7201a8\"], [0.3333333333333333, \"#9c179e\"], [0.4444444444444444, \"#bd3786\"], [0.5555555555555556, \"#d8576b\"], [0.6666666666666666, \"#ed7953\"], [0.7777777777777778, \"#fb9f3a\"], [0.8888888888888888, \"#fdca26\"], [1.0, \"#f0f921\"]], \"type\": \"heatmapgl\"}], \"histogram\": [{\"marker\": {\"colorbar\": {\"outlinewidth\": 0, \"ticks\": \"\"}}, \"type\": \"histogram\"}], \"histogram2d\": [{\"colorbar\": {\"outlinewidth\": 0, \"ticks\": \"\"}, \"colorscale\": [[0.0, \"#0d0887\"], [0.1111111111111111, \"#46039f\"], [0.2222222222222222, \"#7201a8\"], [0.3333333333333333, \"#9c179e\"], [0.4444444444444444, \"#bd3786\"], [0.5555555555555556, \"#d8576b\"], [0.6666666666666666, \"#ed7953\"], [0.7777777777777778, \"#fb9f3a\"], [0.8888888888888888, \"#fdca26\"], [1.0, \"#f0f921\"]], \"type\": \"histogram2d\"}], \"histogram2dcontour\": [{\"colorbar\": {\"outlinewidth\": 0, \"ticks\": \"\"}, \"colorscale\": [[0.0, \"#0d0887\"], [0.1111111111111111, \"#46039f\"], [0.2222222222222222, \"#7201a8\"], [0.3333333333333333, \"#9c179e\"], [0.4444444444444444, \"#bd3786\"], [0.5555555555555556, \"#d8576b\"], [0.6666666666666666, \"#ed7953\"], [0.7777777777777778, \"#fb9f3a\"], [0.8888888888888888, \"#fdca26\"], [1.0, \"#f0f921\"]], \"type\": \"histogram2dcontour\"}], \"mesh3d\": [{\"colorbar\": {\"outlinewidth\": 0, \"ticks\": \"\"}, \"type\": \"mesh3d\"}], \"parcoords\": [{\"line\": {\"colorbar\": {\"outlinewidth\": 0, \"ticks\": \"\"}}, \"type\": \"parcoords\"}], \"pie\": [{\"automargin\": true, \"type\": \"pie\"}], \"scatter\": [{\"marker\": {\"colorbar\": {\"outlinewidth\": 0, \"ticks\": \"\"}}, \"type\": \"scatter\"}], \"scatter3d\": [{\"line\": {\"colorbar\": {\"outlinewidth\": 0, \"ticks\": \"\"}}, \"marker\": {\"colorbar\": {\"outlinewidth\": 0, \"ticks\": \"\"}}, \"type\": \"scatter3d\"}], \"scattercarpet\": [{\"marker\": {\"colorbar\": {\"outlinewidth\": 0, \"ticks\": \"\"}}, \"type\": \"scattercarpet\"}], \"scattergeo\": [{\"marker\": {\"colorbar\": {\"outlinewidth\": 0, \"ticks\": \"\"}}, \"type\": \"scattergeo\"}], \"scattergl\": [{\"marker\": {\"colorbar\": {\"outlinewidth\": 0, \"ticks\": \"\"}}, \"type\": \"scattergl\"}], \"scattermapbox\": [{\"marker\": {\"colorbar\": {\"outlinewidth\": 0, \"ticks\": \"\"}}, \"type\": \"scattermapbox\"}], \"scatterpolar\": [{\"marker\": {\"colorbar\": {\"outlinewidth\": 0, \"ticks\": \"\"}}, \"type\": \"scatterpolar\"}], \"scatterpolargl\": [{\"marker\": {\"colorbar\": {\"outlinewidth\": 0, \"ticks\": \"\"}}, \"type\": \"scatterpolargl\"}], \"scatterternary\": [{\"marker\": {\"colorbar\": {\"outlinewidth\": 0, \"ticks\": \"\"}}, \"type\": \"scatterternary\"}], \"surface\": [{\"colorbar\": {\"outlinewidth\": 0, \"ticks\": \"\"}, \"colorscale\": [[0.0, \"#0d0887\"], [0.1111111111111111, \"#46039f\"], [0.2222222222222222, \"#7201a8\"], [0.3333333333333333, \"#9c179e\"], [0.4444444444444444, \"#bd3786\"], [0.5555555555555556, \"#d8576b\"], [0.6666666666666666, \"#ed7953\"], [0.7777777777777778, \"#fb9f3a\"], [0.8888888888888888, \"#fdca26\"], [1.0, \"#f0f921\"]], \"type\": \"surface\"}], \"table\": [{\"cells\": {\"fill\": {\"color\": \"#EBF0F8\"}, \"line\": {\"color\": \"white\"}}, \"header\": {\"fill\": {\"color\": \"#C8D4E3\"}, \"line\": {\"color\": \"white\"}}, \"type\": \"table\"}]}, \"layout\": {\"annotationdefaults\": {\"arrowcolor\": \"#2a3f5f\", \"arrowhead\": 0, \"arrowwidth\": 1}, \"coloraxis\": {\"colorbar\": {\"outlinewidth\": 0, \"ticks\": \"\"}}, \"colorscale\": {\"diverging\": [[0, \"#8e0152\"], [0.1, \"#c51b7d\"], [0.2, \"#de77ae\"], [0.3, \"#f1b6da\"], [0.4, \"#fde0ef\"], [0.5, \"#f7f7f7\"], [0.6, \"#e6f5d0\"], [0.7, \"#b8e186\"], [0.8, \"#7fbc41\"], [0.9, \"#4d9221\"], [1, \"#276419\"]], \"sequential\": [[0.0, \"#0d0887\"], [0.1111111111111111, \"#46039f\"], [0.2222222222222222, \"#7201a8\"], [0.3333333333333333, \"#9c179e\"], [0.4444444444444444, \"#bd3786\"], [0.5555555555555556, \"#d8576b\"], [0.6666666666666666, \"#ed7953\"], [0.7777777777777778, \"#fb9f3a\"], [0.8888888888888888, \"#fdca26\"], [1.0, \"#f0f921\"]], \"sequentialminus\": [[0.0, \"#0d0887\"], [0.1111111111111111, \"#46039f\"], [0.2222222222222222, \"#7201a8\"], [0.3333333333333333, \"#9c179e\"], [0.4444444444444444, \"#bd3786\"], [0.5555555555555556, \"#d8576b\"], [0.6666666666666666, \"#ed7953\"], [0.7777777777777778, \"#fb9f3a\"], [0.8888888888888888, \"#fdca26\"], [1.0, \"#f0f921\"]]}, \"colorway\": [\"#636efa\", \"#EF553B\", \"#00cc96\", \"#ab63fa\", \"#FFA15A\", \"#19d3f3\", \"#FF6692\", \"#B6E880\", \"#FF97FF\", \"#FECB52\"], \"font\": {\"color\": \"#2a3f5f\"}, \"geo\": {\"bgcolor\": \"white\", \"lakecolor\": \"white\", \"landcolor\": \"#E5ECF6\", \"showlakes\": true, \"showland\": true, \"subunitcolor\": \"white\"}, \"hoverlabel\": {\"align\": \"left\"}, \"hovermode\": \"closest\", \"mapbox\": {\"style\": \"light\"}, \"paper_bgcolor\": \"white\", \"plot_bgcolor\": \"#E5ECF6\", \"polar\": {\"angularaxis\": {\"gridcolor\": \"white\", \"linecolor\": \"white\", \"ticks\": \"\"}, \"bgcolor\": \"#E5ECF6\", \"radialaxis\": {\"gridcolor\": \"white\", \"linecolor\": \"white\", \"ticks\": \"\"}}, \"scene\": {\"xaxis\": {\"backgroundcolor\": \"#E5ECF6\", \"gridcolor\": \"white\", \"gridwidth\": 2, \"linecolor\": \"white\", \"showbackground\": true, \"ticks\": \"\", \"zerolinecolor\": \"white\"}, \"yaxis\": {\"backgroundcolor\": \"#E5ECF6\", \"gridcolor\": \"white\", \"gridwidth\": 2, \"linecolor\": \"white\", \"showbackground\": true, \"ticks\": \"\", \"zerolinecolor\": \"white\"}, \"zaxis\": {\"backgroundcolor\": \"#E5ECF6\", \"gridcolor\": \"white\", \"gridwidth\": 2, \"linecolor\": \"white\", \"showbackground\": true, \"ticks\": \"\", \"zerolinecolor\": \"white\"}}, \"shapedefaults\": {\"line\": {\"color\": \"#2a3f5f\"}}, \"ternary\": {\"aaxis\": {\"gridcolor\": \"white\", \"linecolor\": \"white\", \"ticks\": \"\"}, \"baxis\": {\"gridcolor\": \"white\", \"linecolor\": \"white\", \"ticks\": \"\"}, \"bgcolor\": \"#E5ECF6\", \"caxis\": {\"gridcolor\": \"white\", \"linecolor\": \"white\", \"ticks\": \"\"}}, \"title\": {\"x\": 0.05}, \"xaxis\": {\"automargin\": true, \"gridcolor\": \"white\", \"linecolor\": \"white\", \"ticks\": \"\", \"title\": {\"standoff\": 15}, \"zerolinecolor\": \"white\", \"zerolinewidth\": 2}, \"yaxis\": {\"automargin\": true, \"gridcolor\": \"white\", \"linecolor\": \"white\", \"ticks\": \"\", \"title\": {\"standoff\": 15}, \"zerolinecolor\": \"white\", \"zerolinewidth\": 2}}}, \"title\": {\"text\": \"Energy Minimization\"}, \"xaxis\": {\"title\": {\"text\": \"Energy Minimization Step\"}}, \"yaxis\": {\"title\": {\"text\": \"Potential Energy KJ/mol-1\"}}},\n",
       "                        {\"responsive\": true}\n",
       "                    ).then(function(){\n",
       "                            \n",
       "var gd = document.getElementById('18287652-ca8e-4784-ba14-61284cf54932');\n",
       "var x = new MutationObserver(function (mutations, observer) {{\n",
       "        var display = window.getComputedStyle(gd).display;\n",
       "        if (!display || display === 'none') {{\n",
       "            console.log([gd, 'removed!']);\n",
       "            Plotly.purge(gd);\n",
       "            observer.disconnect();\n",
       "        }}\n",
       "}});\n",
       "\n",
       "// Listen for the removal of the full notebook cells\n",
       "var notebookContainer = gd.closest('#notebook-container');\n",
       "if (notebookContainer) {{\n",
       "    x.observe(notebookContainer, {childList: true});\n",
       "}}\n",
       "\n",
       "// Listen for the clearing of the current output cell\n",
       "var outputEl = gd.closest('.output');\n",
       "if (outputEl) {{\n",
       "    x.observe(outputEl, {childList: true});\n",
       "}}\n",
       "\n",
       "                        })\n",
       "                };\n",
       "                });\n",
       "            </script>\n",
       "        </div>"
      ]
     },
     "metadata": {},
     "output_type": "display_data"
    }
   ],
   "source": [
    "import plotly\n",
    "import plotly.graph_objs as go\n",
    "\n",
    "# Read data from file and filter energy values higher than 1000 Kj/mol^-1\n",
    "with open(output_min_ene_xvg,'r') as energy_file:\n",
    "    x,y = map(\n",
    "        list,\n",
    "        zip(*[\n",
    "            (float(line.split()[0]),float(line.split()[1]))\n",
    "            for line in energy_file \n",
    "            if not line.startswith((\"#\",\"@\")) \n",
    "            if float(line.split()[1]) < 1000 \n",
    "        ])\n",
    "    )\n",
    "\n",
    "plotly.offline.init_notebook_mode(connected=True)\n",
    "\n",
    "fig = ({\n",
    "    \"data\": [go.Scatter(x=x, y=y)],\n",
    "    \"layout\": go.Layout(title=\"Energy Minimization\",\n",
    "                        xaxis=dict(title = \"Energy Minimization Step\"),\n",
    "                        yaxis=dict(title = \"Potential Energy KJ/mol-1\")\n",
    "                       )\n",
    "})\n",
    "\n",
    "plotly.offline.iplot(fig)"
   ]
  },
  {
   "cell_type": "markdown",
   "metadata": {},
   "source": [
    "<a id=\"npt\"></a>\n",
    "***\n",
    "## Equilibrate the system (NPT)\n",
    "Equilibrate the **protein system** in **NPT** ensemble (constant Number of particles, Pressure and Temperature).\n",
    "- [Step 1](#eqNPTStep1): Creating portable binary run file for system equilibration\n",
    "- [Step 2](#eqNPTStep2): Equilibrate the **protein system** with **NPT** ensemble.\n",
    "- [Step 3](#eqNPTStep3): Checking **NPT Equilibration** results. Plotting **system pressure and density** by time during the **NPT equilibration** process.\n",
    "***\n",
    "**Building Blocks** used:\n",
    " - [Grompp](https://biobb-md.readthedocs.io/en/latest/gromacs.html#module-gromacs.grompp) from **biobb_md.gromacs.grompp** \n",
    " - [Mdrun](https://biobb-md.readthedocs.io/en/latest/gromacs.html#module-gromacs.mdrun) from **biobb_md.gromacs.mdrun** \n",
    " - [GMXEnergy](https://biobb-analysis.readthedocs.io/en/latest/gromacs.html#module-gromacs.gmx_energy) from **biobb_analysis.gromacs.gmx_energy** \n",
    "***"
   ]
  },
  {
   "cell_type": "markdown",
   "metadata": {},
   "source": [
    "<a id=\"eqNPTStep1\"></a>\n",
    "### Step 1: Creating portable binary run file for system equilibration (NPT)\n",
    "\n",
    "The **npt** type of the **molecular dynamics parameters (mdp) property** contains the main default parameters to run an **NPT equilibration** with **protein restraints** (see [GROMACS mdp options](http://manual.gromacs.org/documentation/2018/user-guide/mdp-options.html)):\n",
    "\n",
    "-  integrator               = md\n",
    "-  dt                       = 0.001\n",
    "-  nsteps                   = 10000\n",
    "-  pcoupl = Parrinello-Rahman\n",
    "-  pcoupltype = isotropic\n",
    "-  tau_p = 1.0\n",
    "-  ref_p = 1.0\n",
    "-  compressibility = 4.5e-5\n",
    "-  refcoord_scaling = com\n",
    "-  gen_vel = no\n",
    "\n",
    "In this particular example, the default parameters will be used: **md** integrator algorithm, a **time step** of **2fs**, **5,000 equilibration steps**, and a Parrinello-Rahman **pressure coupling** algorithm.\n",
    "\n",
    "*Please note that for the sake of time this tutorial is only running 10ps of NPT equilibration, whereas in the [original example](http://pmx.mpibpc.mpg.de/sardinia2018_tutorial1/eq.mdp) the simulated time was 100ps.*"
   ]
  },
  {
   "cell_type": "code",
   "execution_count": 12,
   "metadata": {},
   "outputs": [
    {
     "name": "stderr",
     "output_type": "stream",
     "text": [
      "2020-10-14 11:36:43,584 [MainThread  ] [INFO ]  GROMACS Grompp 20191 version detected\n",
      "2020-10-14 11:36:43,589 [MainThread  ] [INFO ]  Extracting: /home/gbayarri_local/projects/BioBB/tutorials/biobb_wf_pmx_tutorial/biobb_wf_pmx_tutorial/notebooks/pmxA_top.zip\n",
      "2020-10-14 11:36:43,590 [MainThread  ] [INFO ]  to:\n",
      "2020-10-14 11:36:43,591 [MainThread  ] [INFO ]  ['92968317-411f-4891-8a50-9cd6390f32ee/p2g.top', '92968317-411f-4891-8a50-9cd6390f32ee/pmx_p2g_Ion_chain_C.itp', '92968317-411f-4891-8a50-9cd6390f32ee/pmx_p2g_Protein_chain_A.itp', '92968317-411f-4891-8a50-9cd6390f32ee/posre_Ion_chain_C.itp', '92968317-411f-4891-8a50-9cd6390f32ee/posre_Protein_chain_A.itp']\n",
      "2020-10-14 11:36:43,591 [MainThread  ] [INFO ]  Unzipping: \n",
      "2020-10-14 11:36:43,592 [MainThread  ] [INFO ]  pmxA_top.zip\n",
      "2020-10-14 11:36:43,592 [MainThread  ] [INFO ]  To: \n",
      "2020-10-14 11:36:43,593 [MainThread  ] [INFO ]  92968317-411f-4891-8a50-9cd6390f32ee/p2g.top\n",
      "2020-10-14 11:36:43,593 [MainThread  ] [INFO ]  92968317-411f-4891-8a50-9cd6390f32ee/pmx_p2g_Ion_chain_C.itp\n",
      "2020-10-14 11:36:43,595 [MainThread  ] [INFO ]  92968317-411f-4891-8a50-9cd6390f32ee/pmx_p2g_Protein_chain_A.itp\n",
      "2020-10-14 11:36:43,597 [MainThread  ] [INFO ]  92968317-411f-4891-8a50-9cd6390f32ee/posre_Ion_chain_C.itp\n",
      "2020-10-14 11:36:43,598 [MainThread  ] [INFO ]  92968317-411f-4891-8a50-9cd6390f32ee/posre_Protein_chain_A.itp\n",
      "2020-10-14 11:36:43,600 [MainThread  ] [INFO ]  Will run a free md of 10.0 pico seconds\n",
      "2020-10-14 11:36:43,601 [MainThread  ] [INFO ]  Not using any container\n",
      "2020-10-14 11:36:43,909 [MainThread  ] [INFO ]  gmx -nobackup -nocopyright grompp -f a69c37c6-d8bc-4b53-8d74-02d96c018e90/grompp.mdp -c pdb2gmxA.gro -r pdb2gmxA.gro -p 92968317-411f-4891-8a50-9cd6390f32ee/p2g.top -o eqA_20ps.tpr -po mdout.mdp -maxwarn 10\n",
      "\n",
      "2020-10-14 11:36:43,910 [MainThread  ] [INFO ]  Exit code 0\n",
      "\n",
      "2020-10-14 11:36:43,911 [MainThread  ] [INFO ]  turning H bonds into constraints...\n",
      "turning H bonds into constraints...\n",
      "turning H bonds into constraints...\n",
      "Analysing residue names:\n",
      "There are:   136    Protein residues\n",
      "There are:    74        Ion residues\n",
      "There are: 10948      Water residues\n",
      "Analysing Protein...\n",
      "Analysing residues not classified as Protein/DNA/RNA/Water and splitting into groups...\n",
      "Determining Verlet buffer for a tolerance of 0.005 kJ/mol/ps at 300 K\n",
      "Calculated rlist for 1x1 atom pair-list as 1.012 nm, buffer size 0.012 nm\n",
      "Set rlist, assuming 4x4 atom pair-list, to 1.000 nm, buffer size 0.000 nm\n",
      "Note that mdrun will redetermine rlist based on the actual pair-list setup\n",
      "Calculating fourier grid dimensions for X Y Z\n",
      "Using a fourier grid of 72x72x72, spacing 0.110 0.110 0.110\n",
      "This run will generate roughly 7 Mb of data\n",
      "\n",
      "2020-10-14 11:36:43,912 [MainThread  ] [INFO ]                        :-) GROMACS - gmx grompp, 2019.1 (-:\n",
      "\n",
      "Executable:   /anaconda3/envs/biobb_dev_37/bin/gmx\n",
      "Data prefix:  /anaconda3/envs/biobb_dev_37\n",
      "Working dir:  /home/gbayarri_local/projects/BioBB/tutorials/biobb_wf_pmx_tutorial/biobb_wf_pmx_tutorial/notebooks\n",
      "Command line:\n",
      "  gmx -nobackup -nocopyright grompp -f a69c37c6-d8bc-4b53-8d74-02d96c018e90/grompp.mdp -c pdb2gmxA.gro -r pdb2gmxA.gro -p 92968317-411f-4891-8a50-9cd6390f32ee/p2g.top -o eqA_20ps.tpr -po mdout.mdp -maxwarn 10\n",
      "\n",
      "Setting the LD random seed to 1390265005\n",
      "Generated 5253 of the 5253 non-bonded parameter combinations\n",
      "Generating 1-4 interactions: fudge = 0.5\n",
      "Generated 5253 of the 5253 1-4 parameter combinations\n",
      "Excluding 3 bonded neighbours molecule type 'Protein_chain_A'\n",
      "Excluding 3 bonded neighbours molecule type 'Ion_chain_C'\n",
      "Excluding 2 bonded neighbours molecule type 'SOL'\n",
      "Excluding 2 bonded neighbours molecule type 'SOL'\n",
      "Removing all charge groups because cutoff-scheme=Verlet\n",
      "\n",
      "NOTE 1 [file p2g.top, line 24]:\n",
      "  In moleculetype 'Ion_chain_C' 74 atoms are not bound by a potential or\n",
      "  constraint to any other atom in the same moleculetype. Although\n",
      "  technically this might not cause issues in a simulation, this often means\n",
      "  that the user forgot to add a bond/potential/constraint or put multiple\n",
      "  molecules in the same moleculetype definition by mistake. Run with -v to\n",
      "  get information for each atom.\n",
      "\n",
      "Number of degrees of freedom in T-Coupling group Protein is 5543.77\n",
      "Number of degrees of freedom in T-Coupling group non-Protein is 65907.23\n",
      "Estimate for the relative computational load of the PME mesh part: 0.21\n",
      "\n",
      "There was 1 note\n",
      "\n",
      "GROMACS reminds you: \"Jede der Scherben spiegelt das Licht\" (Wir sind Helden)\n",
      "\n",
      "\n",
      "2020-10-14 11:36:43,913 [MainThread  ] [INFO ]  Removed: ['mdout.mdp', '92968317-411f-4891-8a50-9cd6390f32ee', 'a69c37c6-d8bc-4b53-8d74-02d96c018e90']\n",
      "2020-10-14 11:36:43,932 [MainThread  ] [INFO ]  GROMACS Grompp 20191 version detected\n",
      "2020-10-14 11:36:43,939 [MainThread  ] [INFO ]  Extracting: /home/gbayarri_local/projects/BioBB/tutorials/biobb_wf_pmx_tutorial/biobb_wf_pmx_tutorial/notebooks/pmxB_top.zip\n",
      "2020-10-14 11:36:43,941 [MainThread  ] [INFO ]  to:\n",
      "2020-10-14 11:36:43,942 [MainThread  ] [INFO ]  ['14b81b38-9919-45cc-a0a0-c79dc7435b27/p2g.top', '14b81b38-9919-45cc-a0a0-c79dc7435b27/pmx_p2g_Ion_chain_C.itp', '14b81b38-9919-45cc-a0a0-c79dc7435b27/pmx_p2g_Protein_chain_A.itp', '14b81b38-9919-45cc-a0a0-c79dc7435b27/posre_Ion_chain_C.itp', '14b81b38-9919-45cc-a0a0-c79dc7435b27/posre_Protein_chain_A.itp']\n",
      "2020-10-14 11:36:43,942 [MainThread  ] [INFO ]  Unzipping: \n",
      "2020-10-14 11:36:43,943 [MainThread  ] [INFO ]  pmxB_top.zip\n",
      "2020-10-14 11:36:43,944 [MainThread  ] [INFO ]  To: \n",
      "2020-10-14 11:36:43,945 [MainThread  ] [INFO ]  14b81b38-9919-45cc-a0a0-c79dc7435b27/p2g.top\n",
      "2020-10-14 11:36:43,946 [MainThread  ] [INFO ]  14b81b38-9919-45cc-a0a0-c79dc7435b27/pmx_p2g_Ion_chain_C.itp\n",
      "2020-10-14 11:36:43,947 [MainThread  ] [INFO ]  14b81b38-9919-45cc-a0a0-c79dc7435b27/pmx_p2g_Protein_chain_A.itp\n",
      "2020-10-14 11:36:43,950 [MainThread  ] [INFO ]  14b81b38-9919-45cc-a0a0-c79dc7435b27/posre_Ion_chain_C.itp\n",
      "2020-10-14 11:36:43,951 [MainThread  ] [INFO ]  14b81b38-9919-45cc-a0a0-c79dc7435b27/posre_Protein_chain_A.itp\n",
      "2020-10-14 11:36:43,954 [MainThread  ] [INFO ]  Will run a free md of 10.0 pico seconds\n",
      "2020-10-14 11:36:43,956 [MainThread  ] [INFO ]  Not using any container\n",
      "2020-10-14 11:36:44,275 [MainThread  ] [INFO ]  gmx -nobackup -nocopyright grompp -f 6e3e3e1c-0954-4739-94bc-d3474ad0bf93/grompp.mdp -c emout.gro -r emout.gro -p 14b81b38-9919-45cc-a0a0-c79dc7435b27/p2g.top -o eqB_20ps.tpr -po mdout.mdp -maxwarn 10\n",
      "\n",
      "2020-10-14 11:36:44,276 [MainThread  ] [INFO ]  Exit code 0\n",
      "\n",
      "2020-10-14 11:36:44,276 [MainThread  ] [INFO ]  turning H bonds into constraints...\n",
      "turning H bonds into constraints...\n",
      "turning H bonds into constraints...\n",
      "Analysing residue names:\n",
      "There are:   136    Protein residues\n",
      "There are:    74        Ion residues\n",
      "There are: 10949      Water residues\n",
      "Analysing Protein...\n",
      "Analysing residues not classified as Protein/DNA/RNA/Water and splitting into groups...\n",
      "Determining Verlet buffer for a tolerance of 0.005 kJ/mol/ps at 300 K\n",
      "Calculated rlist for 1x1 atom pair-list as 1.012 nm, buffer size 0.012 nm\n",
      "Set rlist, assuming 4x4 atom pair-list, to 1.000 nm, buffer size 0.000 nm\n",
      "Note that mdrun will redetermine rlist based on the actual pair-list setup\n",
      "Calculating fourier grid dimensions for X Y Z\n",
      "Using a fourier grid of 72x72x72, spacing 0.110 0.110 0.110\n",
      "This run will generate roughly 7 Mb of data\n",
      "\n",
      "2020-10-14 11:36:44,276 [MainThread  ] [INFO ]                        :-) GROMACS - gmx grompp, 2019.1 (-:\n",
      "\n",
      "Executable:   /anaconda3/envs/biobb_dev_37/bin/gmx\n",
      "Data prefix:  /anaconda3/envs/biobb_dev_37\n",
      "Working dir:  /home/gbayarri_local/projects/BioBB/tutorials/biobb_wf_pmx_tutorial/biobb_wf_pmx_tutorial/notebooks\n",
      "Command line:\n",
      "  gmx -nobackup -nocopyright grompp -f 6e3e3e1c-0954-4739-94bc-d3474ad0bf93/grompp.mdp -c emout.gro -r emout.gro -p 14b81b38-9919-45cc-a0a0-c79dc7435b27/p2g.top -o eqB_20ps.tpr -po mdout.mdp -maxwarn 10\n",
      "\n",
      "Setting the LD random seed to 2055309728\n",
      "Generated 5253 of the 5253 non-bonded parameter combinations\n",
      "Generating 1-4 interactions: fudge = 0.5\n",
      "Generated 5253 of the 5253 1-4 parameter combinations\n",
      "Excluding 3 bonded neighbours molecule type 'Protein_chain_A'\n",
      "Excluding 3 bonded neighbours molecule type 'Ion_chain_C'\n",
      "Excluding 2 bonded neighbours molecule type 'SOL'\n",
      "Excluding 2 bonded neighbours molecule type 'SOL'\n",
      "Removing all charge groups because cutoff-scheme=Verlet\n",
      "\n",
      "NOTE 1 [file p2g.top, line 24]:\n",
      "  In moleculetype 'Ion_chain_C' 74 atoms are not bound by a potential or\n",
      "  constraint to any other atom in the same moleculetype. Although\n",
      "  technically this might not cause issues in a simulation, this often means\n",
      "  that the user forgot to add a bond/potential/constraint or put multiple\n",
      "  molecules in the same moleculetype definition by mistake. Run with -v to\n",
      "  get information for each atom.\n",
      "\n",
      "Number of degrees of freedom in T-Coupling group Protein is 5543.77\n",
      "Number of degrees of freedom in T-Coupling group non-Protein is 65913.23\n",
      "Estimate for the relative computational load of the PME mesh part: 0.21\n",
      "\n",
      "There was 1 note\n",
      "\n",
      "GROMACS reminds you: \"Everybody's Good Enough For Some Change\" (LIVE)\n",
      "\n",
      "\n"
     ]
    },
    {
     "name": "stderr",
     "output_type": "stream",
     "text": [
      "2020-10-14 11:36:44,278 [MainThread  ] [INFO ]  Removed: ['mdout.mdp', '14b81b38-9919-45cc-a0a0-c79dc7435b27', '6e3e3e1c-0954-4739-94bc-d3474ad0bf93']\n"
     ]
    },
    {
     "data": {
      "text/plain": [
       "0"
      ]
     },
     "execution_count": 12,
     "metadata": {},
     "output_type": "execute_result"
    }
   ],
   "source": [
    "# Grompp: Creating portable binary run file for system equilibration\n",
    "from biobb_md.gromacs.grompp import Grompp\n",
    "\n",
    "#### State A (WT->Mut) ####\n",
    "\n",
    "# Create prop dict and inputs/outputs\n",
    "output_tprA_eq = 'eqA_20ps.tpr'\n",
    "\n",
    "prop = {\n",
    "    'gmxlib' : gmxlib,\n",
    "    'mdp':{\n",
    "        'type': 'free',\n",
    "        'nsteps':'10000',\n",
    "        'nstcomm' : '1',\n",
    "        'dt':'0.001',\n",
    "        'nstcalcenergy' : '1'\n",
    "    }\n",
    "    \n",
    "}\n",
    "\n",
    "#Create and launch bb\n",
    "Grompp(input_gro_path=output_pdb2gmxA_gro,\n",
    "       input_top_zip_path=output_pmxtopA_top_zip,\n",
    "       output_tpr_path=output_tprA_eq,\n",
    "       properties=prop).launch()\n",
    "\n",
    "\n",
    "#### State B (Mut->WT) ####\n",
    "\n",
    "# Create prop dict and inputs/outputs\n",
    "output_tprB_eq = 'eqB_20ps.tpr'\n",
    "\n",
    "prop = {\n",
    "    'gmxlib' : gmxlib,\n",
    "    'mdp':{\n",
    "        'type': 'free',\n",
    "        'nsteps':'10000', # 10000 steps x 1fs (timestep) = 10ps \n",
    "        'dt':'0.001', # 1 fs of timestep, to properly equilibrate dummy atoms\n",
    "        'nstcomm' : '1',\n",
    "        'nstcalcenergy' : '1'\n",
    "    }\n",
    "}\n",
    "#Create and launch bb\n",
    "Grompp(input_gro_path=output_min_gro,\n",
    "       input_top_zip_path=output_pmxtopB_top_zip,\n",
    "       output_tpr_path=output_tprB_eq,\n",
    "       properties=prop).launch()\n"
   ]
  },
  {
   "cell_type": "markdown",
   "metadata": {},
   "source": [
    "<a id=\"eqNPTStep2\"></a>\n",
    "### Step 2: Running NPT equilibration"
   ]
  },
  {
   "cell_type": "code",
   "execution_count": 13,
   "metadata": {},
   "outputs": [
    {
     "name": "stderr",
     "output_type": "stream",
     "text": [
      "2020-10-14 11:36:48,583 [MainThread  ] [INFO ]  GROMACS Mdrun 20191 version detected\n",
      "2020-10-14 11:36:48,585 [MainThread  ] [INFO ]  Not using any container\n",
      "2020-10-14 11:40:35,509 [MainThread  ] [INFO ]  gmx -nobackup -nocopyright mdrun -s eqA_20ps.tpr -o eqoutA.trr -c eqoutA.gro -e eqoutA.edr -g eqoutA.log -nt 0\n",
      "\n",
      "2020-10-14 11:40:35,509 [MainThread  ] [INFO ]  Exit code 0\n",
      "\n",
      "2020-10-14 11:40:35,510 [MainThread  ] [INFO ]                        :-) GROMACS - gmx mdrun, 2019.1 (-:\n",
      "\n",
      "Executable:   /anaconda3/envs/biobb_dev_37/bin/gmx\n",
      "Data prefix:  /anaconda3/envs/biobb_dev_37\n",
      "Working dir:  /home/gbayarri_local/projects/BioBB/tutorials/biobb_wf_pmx_tutorial/biobb_wf_pmx_tutorial/notebooks\n",
      "Command line:\n",
      "  gmx -nobackup -nocopyright mdrun -s eqA_20ps.tpr -o eqoutA.trr -c eqoutA.gro -e eqoutA.edr -g eqoutA.log -nt 0\n",
      "\n",
      "Compiled SIMD: SSE2, but for this host/run AVX2_256 might be better (see log).\n",
      "The current CPU can measure timings more accurately than the code in\n",
      "gmx mdrun was configured to use. This might affect your simulation\n",
      "speed as accurate timings are needed for load-balancing.\n",
      "Please consider rebuilding gmx mdrun with the GMX_USE_RDTSCP=ON CMake option.\n",
      "Reading file eqA_20ps.tpr, VERSION 2019.1 (single precision)\n",
      "Changing nstlist from 10 to 80, rlist from 1 to 1.097\n",
      "\n",
      "\n",
      "Using 1 MPI thread\n",
      "Using 8 OpenMP threads \n",
      "\n",
      "starting mdrun 'PMX MODEL'\n",
      "10000 steps,     10.0 ps.\n",
      "\n",
      "Writing final coordinates.\n",
      "\n",
      "               Core t (s)   Wall t (s)        (%)\n",
      "       Time:     1795.371      224.421      800.0\n",
      "                 (ns/day)    (hour/ns)\n",
      "Performance:        3.850        6.233\n",
      "\n",
      "GROMACS reminds you: \"How Do You Like Your Vacation So Far ?\" (Speed 2 - Cruise Control)\n",
      "\n",
      "\n",
      "2020-10-14 11:40:35,511 [MainThread  ] [INFO ]  Removed: []\n",
      "2020-10-14 11:40:35,530 [MainThread  ] [INFO ]  GROMACS Mdrun 20191 version detected\n",
      "2020-10-14 11:40:35,532 [MainThread  ] [INFO ]  Not using any container\n",
      "2020-10-14 11:44:39,829 [MainThread  ] [INFO ]  gmx -nobackup -nocopyright mdrun -s eqB_20ps.tpr -o eqoutB.trr -c eqoutB.gro -e eqoutB.edr -g eqoutB.log -nt 0\n",
      "\n",
      "2020-10-14 11:44:39,830 [MainThread  ] [INFO ]  Exit code 0\n",
      "\n",
      "2020-10-14 11:44:39,831 [MainThread  ] [INFO ]                        :-) GROMACS - gmx mdrun, 2019.1 (-:\n",
      "\n",
      "Executable:   /anaconda3/envs/biobb_dev_37/bin/gmx\n",
      "Data prefix:  /anaconda3/envs/biobb_dev_37\n",
      "Working dir:  /home/gbayarri_local/projects/BioBB/tutorials/biobb_wf_pmx_tutorial/biobb_wf_pmx_tutorial/notebooks\n",
      "Command line:\n",
      "  gmx -nobackup -nocopyright mdrun -s eqB_20ps.tpr -o eqoutB.trr -c eqoutB.gro -e eqoutB.edr -g eqoutB.log -nt 0\n",
      "\n",
      "Compiled SIMD: SSE2, but for this host/run AVX2_256 might be better (see log).\n",
      "The current CPU can measure timings more accurately than the code in\n",
      "gmx mdrun was configured to use. This might affect your simulation\n",
      "speed as accurate timings are needed for load-balancing.\n",
      "Please consider rebuilding gmx mdrun with the GMX_USE_RDTSCP=ON CMake option.\n",
      "Reading file eqB_20ps.tpr, VERSION 2019.1 (single precision)\n",
      "Changing nstlist from 10 to 80, rlist from 1 to 1.097\n",
      "\n",
      "\n",
      "Using 1 MPI thread\n",
      "Using 8 OpenMP threads \n",
      "\n",
      "starting mdrun 'PMX MODEL'\n",
      "10000 steps,     10.0 ps.\n",
      "\n",
      "Writing final coordinates.\n",
      "\n",
      "               Core t (s)   Wall t (s)        (%)\n",
      "       Time:     1935.296      241.912      800.0\n",
      "                 (ns/day)    (hour/ns)\n",
      "Performance:        3.572        6.719\n",
      "\n",
      "GROMACS reminds you: \"If You Touch Me, You'll Get Shocked\" (Beastie Boys)\n",
      "\n",
      "\n",
      "2020-10-14 11:44:39,832 [MainThread  ] [INFO ]  Removed: []\n"
     ]
    },
    {
     "data": {
      "text/plain": [
       "0"
      ]
     },
     "execution_count": 13,
     "metadata": {},
     "output_type": "execute_result"
    }
   ],
   "source": [
    "# Mdrun: Running equilibration\n",
    "from biobb_md.gromacs.mdrun import Mdrun\n",
    "\n",
    "#### State A (WT->Mut) ####\n",
    "\n",
    "# Create prop dict and inputs/outputs\n",
    "output_eqA_trr = 'eqoutA.trr'\n",
    "output_eqA_gro = 'eqoutA.gro'\n",
    "output_eqA_edr = 'eqoutA.edr'\n",
    "output_eqA_log = 'eqoutA.log'\n",
    "\n",
    "# Create and launch bb\n",
    "Mdrun(input_tpr_path=output_tprA_eq,\n",
    "      output_trr_path=output_eqA_trr,\n",
    "      output_gro_path=output_eqA_gro,\n",
    "      output_edr_path=output_eqA_edr,\n",
    "      output_log_path=output_eqA_log).launch()\n",
    "\n",
    "#### State B (Mut->WT) ####\n",
    "\n",
    "# Create prop dict and inputs/outputs\n",
    "output_eqB_trr = 'eqoutB.trr'\n",
    "output_eqB_gro = 'eqoutB.gro'\n",
    "output_eqB_edr = 'eqoutB.edr'\n",
    "output_eqB_log = 'eqoutB.log'\n",
    "\n",
    "# Create and launch bb\n",
    "Mdrun(input_tpr_path=output_tprB_eq,\n",
    "      output_trr_path=output_eqB_trr,\n",
    "      output_gro_path=output_eqB_gro,\n",
    "      output_edr_path=output_eqB_edr,\n",
    "      output_log_path=output_eqB_log).launch()"
   ]
  },
  {
   "cell_type": "markdown",
   "metadata": {},
   "source": [
    "<a id=\"eqNPTStep3\"></a>\n",
    "### Step 3: Checking NPT Equilibration results\n",
    "Checking **NPT Equilibration** results. Plotting **system pressure and density** by time during the **NPT equilibration** process. "
   ]
  },
  {
   "cell_type": "code",
   "execution_count": 15,
   "metadata": {},
   "outputs": [
    {
     "name": "stderr",
     "output_type": "stream",
     "text": [
      "2020-10-14 11:45:04,544 [MainThread  ] [INFO ]  Not using any container\n",
      "2020-10-14 11:45:04,560 [MainThread  ] [INFO ]  gmx energy -f /home/gbayarri_local/projects/BioBB/tutorials/biobb_wf_pmx_tutorial/biobb_wf_pmx_tutorial/notebooks/eqoutA.edr -o eqA_PD.xvg -xvg none < 28319c71-6667-4319-90df-a31048575512/instructions.in\n",
      "\n",
      "2020-10-14 11:45:04,561 [MainThread  ] [INFO ]  Exit code 0\n",
      "\n",
      "2020-10-14 11:45:04,561 [MainThread  ] [INFO ]  \n",
      "Statistics over 10001 steps [ 0.0000 through 10.0000 ps ], 2 data sets\n",
      "All statistics are over 10001 points\n",
      "\n",
      "Energy                      Average   Err.Est.       RMSD  Tot-Drift\n",
      "-------------------------------------------------------------------------------\n",
      "Pressure                   -135.276         --    2602.53    519.349  (bar)\n",
      "Density                     1013.23         --    32.3523    45.4076  (kg/m^3)\n",
      "\n",
      "2020-10-14 11:45:04,562 [MainThread  ] [INFO ]                        :-) GROMACS - gmx energy, 2019.1 (-:\n",
      "\n",
      "                            GROMACS is written by:\n",
      "     Emile Apol      Rossen Apostolov      Paul Bauer     Herman J.C. Berendsen\n",
      "    Par Bjelkmar      Christian Blau   Viacheslav Bolnykh     Kevin Boyd    \n",
      " Aldert van Buuren   Rudi van Drunen     Anton Feenstra       Alan Gray     \n",
      "  Gerrit Groenhof     Anca Hamuraru    Vincent Hindriksen  M. Eric Irrgang  \n",
      "  Aleksei Iupinov   Christoph Junghans     Joe Jordan     Dimitrios Karkoulis\n",
      "    Peter Kasson        Jiri Kraus      Carsten Kutzner      Per Larsson    \n",
      "  Justin A. Lemkul    Viveca Lindahl    Magnus Lundborg     Erik Marklund   \n",
      "    Pascal Merz     Pieter Meulenhoff    Teemu Murtola       Szilard Pall   \n",
      "    Sander Pronk      Roland Schulz      Michael Shirts    Alexey Shvetsov  \n",
      "   Alfons Sijbers     Peter Tieleman      Jon Vincent      Teemu Virolainen \n",
      " Christian Wennberg    Maarten Wolf   \n",
      "                           and the project leaders:\n",
      "        Mark Abraham, Berk Hess, Erik Lindahl, and David van der Spoel\n",
      "\n",
      "Copyright (c) 1991-2000, University of Groningen, The Netherlands.\n",
      "Copyright (c) 2001-2018, The GROMACS development team at\n",
      "Uppsala University, Stockholm University and\n",
      "the Royal Institute of Technology, Sweden.\n",
      "check out http://www.gromacs.org for more information.\n",
      "\n",
      "GROMACS is free software; you can redistribute it and/or modify it\n",
      "under the terms of the GNU Lesser General Public License\n",
      "as published by the Free Software Foundation; either version 2.1\n",
      "of the License, or (at your option) any later version.\n",
      "\n",
      "GROMACS:      gmx energy, version 2019.1\n",
      "Executable:   /anaconda3/envs/biobb_dev_37/bin/gmx\n",
      "Data prefix:  /anaconda3/envs/biobb_dev_37\n",
      "Working dir:  /home/gbayarri_local/projects/BioBB/tutorials/biobb_wf_pmx_tutorial/biobb_wf_pmx_tutorial/notebooks\n",
      "Command line:\n",
      "  gmx energy -f /home/gbayarri_local/projects/BioBB/tutorials/biobb_wf_pmx_tutorial/biobb_wf_pmx_tutorial/notebooks/eqoutA.edr -o eqA_PD.xvg -xvg none\n",
      "\n",
      "Opened /home/gbayarri_local/projects/BioBB/tutorials/biobb_wf_pmx_tutorial/biobb_wf_pmx_tutorial/notebooks/eqoutA.edr as single precision energy file\n",
      "\n",
      "Select the terms you want from the following list by\n",
      "selecting either (part of) the name or the number or a combination.\n",
      "End your selection with an empty line or a zero.\n",
      "-------------------------------------------------------------------\n",
      "  1  Bond             2  Angle            3  Proper-Dih.      4  Improper-Dih. \n",
      "  5  LJ-14            6  Coulomb-14       7  LJ-(SR)          8  Disper.-corr. \n",
      "  9  Coulomb-(SR)    10  Coul.-recip.    11  Potential       12  Kinetic-En.   \n",
      " 13  Total-Energy    14  Conserved-En.   15  Temperature     16  Pres.-DC      \n",
      " 17  Pressure        18  Constr.-rmsd    19  Box-X           20  Box-Y         \n",
      " 21  Box-Z           22  Volume          23  Density         24  pV            \n",
      " 25  Enthalpy        26  Vir-XX          27  Vir-XY          28  Vir-XZ        \n",
      " 29  Vir-YX          30  Vir-YY          31  Vir-YZ          32  Vir-ZX        \n",
      " 33  Vir-ZY          34  Vir-ZZ          35  Pres-XX         36  Pres-XY       \n",
      " 37  Pres-XZ         38  Pres-YX         39  Pres-YY         40  Pres-YZ       \n",
      " 41  Pres-ZX         42  Pres-ZY         43  Pres-ZZ         44  #Surf*SurfTen \n",
      " 45  Box-Vel-XX      46  Box-Vel-YY      47  Box-Vel-ZZ      48  T-Protein     \n",
      " 49  T-non-Protein                       50  Lamb-Protein                      \n",
      " 51  Lamb-non-Protein                  \n",
      "\n",
      "\n",
      "Back Off! I just backed up eqA_PD.xvg to ./#eqA_PD.xvg.1#\n",
      "Last energy frame read 2 time   10.000            \n",
      "\n",
      "GROMACS reminds you: \"set: No match.\" (tcsh)\n",
      "\n",
      "\n",
      "2020-10-14 11:45:04,564 [MainThread  ] [INFO ]  Removed: [PurePosixPath('28319c71-6667-4319-90df-a31048575512')]\n",
      "2020-10-14 11:45:04,575 [MainThread  ] [INFO ]  Not using any container\n",
      "2020-10-14 11:45:04,592 [MainThread  ] [INFO ]  gmx energy -f /home/gbayarri_local/projects/BioBB/tutorials/biobb_wf_pmx_tutorial/biobb_wf_pmx_tutorial/notebooks/eqoutB.edr -o eqB_PD.xvg -xvg none < c48121a4-a29b-4321-b74a-7288ee61acbb/instructions.in\n",
      "\n",
      "2020-10-14 11:45:04,593 [MainThread  ] [INFO ]  Exit code 0\n",
      "\n",
      "2020-10-14 11:45:04,594 [MainThread  ] [INFO ]  \n",
      "Statistics over 10001 steps [ 0.0000 through 10.0000 ps ], 2 data sets\n",
      "All statistics are over 10001 points\n",
      "\n",
      "Energy                      Average   Err.Est.       RMSD  Tot-Drift\n",
      "-------------------------------------------------------------------------------\n",
      "Pressure                    8.00685         --    618.246   -36.7026  (bar)\n",
      "Density                     1028.17         --    7.80258   -7.01425  (kg/m^3)\n",
      "\n",
      "2020-10-14 11:45:04,595 [MainThread  ] [INFO ]                        :-) GROMACS - gmx energy, 2019.1 (-:\n",
      "\n",
      "                            GROMACS is written by:\n",
      "     Emile Apol      Rossen Apostolov      Paul Bauer     Herman J.C. Berendsen\n",
      "    Par Bjelkmar      Christian Blau   Viacheslav Bolnykh     Kevin Boyd    \n",
      " Aldert van Buuren   Rudi van Drunen     Anton Feenstra       Alan Gray     \n",
      "  Gerrit Groenhof     Anca Hamuraru    Vincent Hindriksen  M. Eric Irrgang  \n",
      "  Aleksei Iupinov   Christoph Junghans     Joe Jordan     Dimitrios Karkoulis\n",
      "    Peter Kasson        Jiri Kraus      Carsten Kutzner      Per Larsson    \n",
      "  Justin A. Lemkul    Viveca Lindahl    Magnus Lundborg     Erik Marklund   \n",
      "    Pascal Merz     Pieter Meulenhoff    Teemu Murtola       Szilard Pall   \n",
      "    Sander Pronk      Roland Schulz      Michael Shirts    Alexey Shvetsov  \n",
      "   Alfons Sijbers     Peter Tieleman      Jon Vincent      Teemu Virolainen \n",
      " Christian Wennberg    Maarten Wolf   \n",
      "                           and the project leaders:\n",
      "        Mark Abraham, Berk Hess, Erik Lindahl, and David van der Spoel\n",
      "\n",
      "Copyright (c) 1991-2000, University of Groningen, The Netherlands.\n",
      "Copyright (c) 2001-2018, The GROMACS development team at\n",
      "Uppsala University, Stockholm University and\n",
      "the Royal Institute of Technology, Sweden.\n",
      "check out http://www.gromacs.org for more information.\n",
      "\n",
      "GROMACS is free software; you can redistribute it and/or modify it\n",
      "under the terms of the GNU Lesser General Public License\n",
      "as published by the Free Software Foundation; either version 2.1\n",
      "of the License, or (at your option) any later version.\n",
      "\n",
      "GROMACS:      gmx energy, version 2019.1\n",
      "Executable:   /anaconda3/envs/biobb_dev_37/bin/gmx\n",
      "Data prefix:  /anaconda3/envs/biobb_dev_37\n",
      "Working dir:  /home/gbayarri_local/projects/BioBB/tutorials/biobb_wf_pmx_tutorial/biobb_wf_pmx_tutorial/notebooks\n",
      "Command line:\n",
      "  gmx energy -f /home/gbayarri_local/projects/BioBB/tutorials/biobb_wf_pmx_tutorial/biobb_wf_pmx_tutorial/notebooks/eqoutB.edr -o eqB_PD.xvg -xvg none\n",
      "\n",
      "Opened /home/gbayarri_local/projects/BioBB/tutorials/biobb_wf_pmx_tutorial/biobb_wf_pmx_tutorial/notebooks/eqoutB.edr as single precision energy file\n",
      "\n",
      "Select the terms you want from the following list by\n",
      "selecting either (part of) the name or the number or a combination.\n",
      "End your selection with an empty line or a zero.\n",
      "-------------------------------------------------------------------\n",
      "  1  Bond             2  Angle            3  Proper-Dih.      4  Improper-Dih. \n",
      "  5  LJ-14            6  Coulomb-14       7  LJ-(SR)          8  Disper.-corr. \n",
      "  9  Coulomb-(SR)    10  Coul.-recip.    11  Potential       12  Kinetic-En.   \n",
      " 13  Total-Energy    14  Conserved-En.   15  Temperature     16  Pres.-DC      \n",
      " 17  Pressure        18  Constr.-rmsd    19  Box-X           20  Box-Y         \n",
      " 21  Box-Z           22  Volume          23  Density         24  pV            \n",
      " 25  Enthalpy        26  Vir-XX          27  Vir-XY          28  Vir-XZ        \n",
      " 29  Vir-YX          30  Vir-YY          31  Vir-YZ          32  Vir-ZX        \n",
      " 33  Vir-ZY          34  Vir-ZZ          35  Pres-XX         36  Pres-XY       \n",
      " 37  Pres-XZ         38  Pres-YX         39  Pres-YY         40  Pres-YZ       \n",
      " 41  Pres-ZX         42  Pres-ZY         43  Pres-ZZ         44  #Surf*SurfTen \n",
      " 45  Box-Vel-XX      46  Box-Vel-YY      47  Box-Vel-ZZ      48  T-Protein     \n",
      " 49  T-non-Protein                       50  Lamb-Protein                      \n",
      " 51  Lamb-non-Protein                  \n",
      "\n",
      "\n",
      "Back Off! I just backed up eqB_PD.xvg to ./#eqB_PD.xvg.1#\n",
      "Last energy frame read 2 time   10.000            \n",
      "\n",
      "GROMACS reminds you: \"Protons give an atom its identity, electrons its personality.\" (Bill Bryson)\n",
      "\n",
      "\n"
     ]
    },
    {
     "name": "stderr",
     "output_type": "stream",
     "text": [
      "2020-10-14 11:45:04,598 [MainThread  ] [INFO ]  Removed: [PurePosixPath('c48121a4-a29b-4321-b74a-7288ee61acbb')]\n"
     ]
    },
    {
     "data": {
      "text/plain": [
       "0"
      ]
     },
     "execution_count": 15,
     "metadata": {},
     "output_type": "execute_result"
    }
   ],
   "source": [
    "# GMXEnergy: Getting system pressure and density by time during NPT Equilibration  \n",
    "from biobb_analysis.gromacs.gmx_energy import GMXEnergy\n",
    "\n",
    "#### State A (WT->Mut) ####\n",
    "\n",
    "# Create prop dict and inputs/outputs\n",
    "output_eqA_pd_xvg = 'eqA_PD.xvg'\n",
    "prop = {\n",
    "    'terms':  [\"Pressure\",\"Density\"]\n",
    "}\n",
    "\n",
    "# Create and launch bb\n",
    "GMXEnergy(input_energy_path=output_eqA_edr, \n",
    "          output_xvg_path=output_eqA_pd_xvg, \n",
    "          properties=prop).launch()\n",
    "\n",
    "#### State B (Mut->WT) ####\n",
    "\n",
    "# Create prop dict and inputs/outputs\n",
    "output_eqB_pd_xvg = 'eqB_PD.xvg'\n",
    "prop = {\n",
    "    'terms':  [\"Pressure\",\"Density\"]\n",
    "}\n",
    "\n",
    "# Create and launch bb\n",
    "GMXEnergy(input_energy_path=output_eqB_edr, \n",
    "          output_xvg_path=output_eqB_pd_xvg, \n",
    "          properties=prop).launch()"
   ]
  },
  {
   "cell_type": "markdown",
   "metadata": {},
   "source": [
    "Please note the information shown by the next plots **increases with the time simulated**, and are included as a **reference for more complex calculations**.   "
   ]
  },
  {
   "cell_type": "code",
   "execution_count": 16,
   "metadata": {},
   "outputs": [
    {
     "data": {
      "text/html": [
       "        <script type=\"text/javascript\">\n",
       "        window.PlotlyConfig = {MathJaxConfig: 'local'};\n",
       "        if (window.MathJax) {MathJax.Hub.Config({SVG: {font: \"STIX-Web\"}});}\n",
       "        if (typeof require !== 'undefined') {\n",
       "        require.undef(\"plotly\");\n",
       "        requirejs.config({\n",
       "            paths: {\n",
       "                'plotly': ['https://cdn.plot.ly/plotly-latest.min']\n",
       "            }\n",
       "        });\n",
       "        require(['plotly'], function(Plotly) {\n",
       "            window._Plotly = Plotly;\n",
       "        });\n",
       "        }\n",
       "        </script>\n",
       "        "
      ]
     },
     "metadata": {},
     "output_type": "display_data"
    },
    {
     "data": {
      "application/vnd.plotly.v1+json": {
       "config": {
        "linkText": "Export to plot.ly",
        "plotlyServerURL": "https://plot.ly",
        "showLink": false
       },
       "data": [
        {
         "type": "scatter",
         "x": [
          0,
          5,
          10
         ],
         "xaxis": "x",
         "y": [
          149486.796875,
          49.129608,
          172.673065
         ],
         "yaxis": "y"
        },
        {
         "type": "scatter",
         "x": [
          0,
          5,
          10
         ],
         "xaxis": "x2",
         "y": [
          1018.499634,
          1022.415222,
          1030.057861
         ],
         "yaxis": "y2"
        }
       ],
       "layout": {
        "showlegend": false,
        "template": {
         "data": {
          "bar": [
           {
            "error_x": {
             "color": "#2a3f5f"
            },
            "error_y": {
             "color": "#2a3f5f"
            },
            "marker": {
             "line": {
              "color": "#E5ECF6",
              "width": 0.5
             }
            },
            "type": "bar"
           }
          ],
          "barpolar": [
           {
            "marker": {
             "line": {
              "color": "#E5ECF6",
              "width": 0.5
             }
            },
            "type": "barpolar"
           }
          ],
          "carpet": [
           {
            "aaxis": {
             "endlinecolor": "#2a3f5f",
             "gridcolor": "white",
             "linecolor": "white",
             "minorgridcolor": "white",
             "startlinecolor": "#2a3f5f"
            },
            "baxis": {
             "endlinecolor": "#2a3f5f",
             "gridcolor": "white",
             "linecolor": "white",
             "minorgridcolor": "white",
             "startlinecolor": "#2a3f5f"
            },
            "type": "carpet"
           }
          ],
          "choropleth": [
           {
            "colorbar": {
             "outlinewidth": 0,
             "ticks": ""
            },
            "type": "choropleth"
           }
          ],
          "contour": [
           {
            "colorbar": {
             "outlinewidth": 0,
             "ticks": ""
            },
            "colorscale": [
             [
              0,
              "#0d0887"
             ],
             [
              0.1111111111111111,
              "#46039f"
             ],
             [
              0.2222222222222222,
              "#7201a8"
             ],
             [
              0.3333333333333333,
              "#9c179e"
             ],
             [
              0.4444444444444444,
              "#bd3786"
             ],
             [
              0.5555555555555556,
              "#d8576b"
             ],
             [
              0.6666666666666666,
              "#ed7953"
             ],
             [
              0.7777777777777778,
              "#fb9f3a"
             ],
             [
              0.8888888888888888,
              "#fdca26"
             ],
             [
              1,
              "#f0f921"
             ]
            ],
            "type": "contour"
           }
          ],
          "contourcarpet": [
           {
            "colorbar": {
             "outlinewidth": 0,
             "ticks": ""
            },
            "type": "contourcarpet"
           }
          ],
          "heatmap": [
           {
            "colorbar": {
             "outlinewidth": 0,
             "ticks": ""
            },
            "colorscale": [
             [
              0,
              "#0d0887"
             ],
             [
              0.1111111111111111,
              "#46039f"
             ],
             [
              0.2222222222222222,
              "#7201a8"
             ],
             [
              0.3333333333333333,
              "#9c179e"
             ],
             [
              0.4444444444444444,
              "#bd3786"
             ],
             [
              0.5555555555555556,
              "#d8576b"
             ],
             [
              0.6666666666666666,
              "#ed7953"
             ],
             [
              0.7777777777777778,
              "#fb9f3a"
             ],
             [
              0.8888888888888888,
              "#fdca26"
             ],
             [
              1,
              "#f0f921"
             ]
            ],
            "type": "heatmap"
           }
          ],
          "heatmapgl": [
           {
            "colorbar": {
             "outlinewidth": 0,
             "ticks": ""
            },
            "colorscale": [
             [
              0,
              "#0d0887"
             ],
             [
              0.1111111111111111,
              "#46039f"
             ],
             [
              0.2222222222222222,
              "#7201a8"
             ],
             [
              0.3333333333333333,
              "#9c179e"
             ],
             [
              0.4444444444444444,
              "#bd3786"
             ],
             [
              0.5555555555555556,
              "#d8576b"
             ],
             [
              0.6666666666666666,
              "#ed7953"
             ],
             [
              0.7777777777777778,
              "#fb9f3a"
             ],
             [
              0.8888888888888888,
              "#fdca26"
             ],
             [
              1,
              "#f0f921"
             ]
            ],
            "type": "heatmapgl"
           }
          ],
          "histogram": [
           {
            "marker": {
             "colorbar": {
              "outlinewidth": 0,
              "ticks": ""
             }
            },
            "type": "histogram"
           }
          ],
          "histogram2d": [
           {
            "colorbar": {
             "outlinewidth": 0,
             "ticks": ""
            },
            "colorscale": [
             [
              0,
              "#0d0887"
             ],
             [
              0.1111111111111111,
              "#46039f"
             ],
             [
              0.2222222222222222,
              "#7201a8"
             ],
             [
              0.3333333333333333,
              "#9c179e"
             ],
             [
              0.4444444444444444,
              "#bd3786"
             ],
             [
              0.5555555555555556,
              "#d8576b"
             ],
             [
              0.6666666666666666,
              "#ed7953"
             ],
             [
              0.7777777777777778,
              "#fb9f3a"
             ],
             [
              0.8888888888888888,
              "#fdca26"
             ],
             [
              1,
              "#f0f921"
             ]
            ],
            "type": "histogram2d"
           }
          ],
          "histogram2dcontour": [
           {
            "colorbar": {
             "outlinewidth": 0,
             "ticks": ""
            },
            "colorscale": [
             [
              0,
              "#0d0887"
             ],
             [
              0.1111111111111111,
              "#46039f"
             ],
             [
              0.2222222222222222,
              "#7201a8"
             ],
             [
              0.3333333333333333,
              "#9c179e"
             ],
             [
              0.4444444444444444,
              "#bd3786"
             ],
             [
              0.5555555555555556,
              "#d8576b"
             ],
             [
              0.6666666666666666,
              "#ed7953"
             ],
             [
              0.7777777777777778,
              "#fb9f3a"
             ],
             [
              0.8888888888888888,
              "#fdca26"
             ],
             [
              1,
              "#f0f921"
             ]
            ],
            "type": "histogram2dcontour"
           }
          ],
          "mesh3d": [
           {
            "colorbar": {
             "outlinewidth": 0,
             "ticks": ""
            },
            "type": "mesh3d"
           }
          ],
          "parcoords": [
           {
            "line": {
             "colorbar": {
              "outlinewidth": 0,
              "ticks": ""
             }
            },
            "type": "parcoords"
           }
          ],
          "pie": [
           {
            "automargin": true,
            "type": "pie"
           }
          ],
          "scatter": [
           {
            "marker": {
             "colorbar": {
              "outlinewidth": 0,
              "ticks": ""
             }
            },
            "type": "scatter"
           }
          ],
          "scatter3d": [
           {
            "line": {
             "colorbar": {
              "outlinewidth": 0,
              "ticks": ""
             }
            },
            "marker": {
             "colorbar": {
              "outlinewidth": 0,
              "ticks": ""
             }
            },
            "type": "scatter3d"
           }
          ],
          "scattercarpet": [
           {
            "marker": {
             "colorbar": {
              "outlinewidth": 0,
              "ticks": ""
             }
            },
            "type": "scattercarpet"
           }
          ],
          "scattergeo": [
           {
            "marker": {
             "colorbar": {
              "outlinewidth": 0,
              "ticks": ""
             }
            },
            "type": "scattergeo"
           }
          ],
          "scattergl": [
           {
            "marker": {
             "colorbar": {
              "outlinewidth": 0,
              "ticks": ""
             }
            },
            "type": "scattergl"
           }
          ],
          "scattermapbox": [
           {
            "marker": {
             "colorbar": {
              "outlinewidth": 0,
              "ticks": ""
             }
            },
            "type": "scattermapbox"
           }
          ],
          "scatterpolar": [
           {
            "marker": {
             "colorbar": {
              "outlinewidth": 0,
              "ticks": ""
             }
            },
            "type": "scatterpolar"
           }
          ],
          "scatterpolargl": [
           {
            "marker": {
             "colorbar": {
              "outlinewidth": 0,
              "ticks": ""
             }
            },
            "type": "scatterpolargl"
           }
          ],
          "scatterternary": [
           {
            "marker": {
             "colorbar": {
              "outlinewidth": 0,
              "ticks": ""
             }
            },
            "type": "scatterternary"
           }
          ],
          "surface": [
           {
            "colorbar": {
             "outlinewidth": 0,
             "ticks": ""
            },
            "colorscale": [
             [
              0,
              "#0d0887"
             ],
             [
              0.1111111111111111,
              "#46039f"
             ],
             [
              0.2222222222222222,
              "#7201a8"
             ],
             [
              0.3333333333333333,
              "#9c179e"
             ],
             [
              0.4444444444444444,
              "#bd3786"
             ],
             [
              0.5555555555555556,
              "#d8576b"
             ],
             [
              0.6666666666666666,
              "#ed7953"
             ],
             [
              0.7777777777777778,
              "#fb9f3a"
             ],
             [
              0.8888888888888888,
              "#fdca26"
             ],
             [
              1,
              "#f0f921"
             ]
            ],
            "type": "surface"
           }
          ],
          "table": [
           {
            "cells": {
             "fill": {
              "color": "#EBF0F8"
             },
             "line": {
              "color": "white"
             }
            },
            "header": {
             "fill": {
              "color": "#C8D4E3"
             },
             "line": {
              "color": "white"
             }
            },
            "type": "table"
           }
          ]
         },
         "layout": {
          "annotationdefaults": {
           "arrowcolor": "#2a3f5f",
           "arrowhead": 0,
           "arrowwidth": 1
          },
          "coloraxis": {
           "colorbar": {
            "outlinewidth": 0,
            "ticks": ""
           }
          },
          "colorscale": {
           "diverging": [
            [
             0,
             "#8e0152"
            ],
            [
             0.1,
             "#c51b7d"
            ],
            [
             0.2,
             "#de77ae"
            ],
            [
             0.3,
             "#f1b6da"
            ],
            [
             0.4,
             "#fde0ef"
            ],
            [
             0.5,
             "#f7f7f7"
            ],
            [
             0.6,
             "#e6f5d0"
            ],
            [
             0.7,
             "#b8e186"
            ],
            [
             0.8,
             "#7fbc41"
            ],
            [
             0.9,
             "#4d9221"
            ],
            [
             1,
             "#276419"
            ]
           ],
           "sequential": [
            [
             0,
             "#0d0887"
            ],
            [
             0.1111111111111111,
             "#46039f"
            ],
            [
             0.2222222222222222,
             "#7201a8"
            ],
            [
             0.3333333333333333,
             "#9c179e"
            ],
            [
             0.4444444444444444,
             "#bd3786"
            ],
            [
             0.5555555555555556,
             "#d8576b"
            ],
            [
             0.6666666666666666,
             "#ed7953"
            ],
            [
             0.7777777777777778,
             "#fb9f3a"
            ],
            [
             0.8888888888888888,
             "#fdca26"
            ],
            [
             1,
             "#f0f921"
            ]
           ],
           "sequentialminus": [
            [
             0,
             "#0d0887"
            ],
            [
             0.1111111111111111,
             "#46039f"
            ],
            [
             0.2222222222222222,
             "#7201a8"
            ],
            [
             0.3333333333333333,
             "#9c179e"
            ],
            [
             0.4444444444444444,
             "#bd3786"
            ],
            [
             0.5555555555555556,
             "#d8576b"
            ],
            [
             0.6666666666666666,
             "#ed7953"
            ],
            [
             0.7777777777777778,
             "#fb9f3a"
            ],
            [
             0.8888888888888888,
             "#fdca26"
            ],
            [
             1,
             "#f0f921"
            ]
           ]
          },
          "colorway": [
           "#636efa",
           "#EF553B",
           "#00cc96",
           "#ab63fa",
           "#FFA15A",
           "#19d3f3",
           "#FF6692",
           "#B6E880",
           "#FF97FF",
           "#FECB52"
          ],
          "font": {
           "color": "#2a3f5f"
          },
          "geo": {
           "bgcolor": "white",
           "lakecolor": "white",
           "landcolor": "#E5ECF6",
           "showlakes": true,
           "showland": true,
           "subunitcolor": "white"
          },
          "hoverlabel": {
           "align": "left"
          },
          "hovermode": "closest",
          "mapbox": {
           "style": "light"
          },
          "paper_bgcolor": "white",
          "plot_bgcolor": "#E5ECF6",
          "polar": {
           "angularaxis": {
            "gridcolor": "white",
            "linecolor": "white",
            "ticks": ""
           },
           "bgcolor": "#E5ECF6",
           "radialaxis": {
            "gridcolor": "white",
            "linecolor": "white",
            "ticks": ""
           }
          },
          "scene": {
           "xaxis": {
            "backgroundcolor": "#E5ECF6",
            "gridcolor": "white",
            "gridwidth": 2,
            "linecolor": "white",
            "showbackground": true,
            "ticks": "",
            "zerolinecolor": "white"
           },
           "yaxis": {
            "backgroundcolor": "#E5ECF6",
            "gridcolor": "white",
            "gridwidth": 2,
            "linecolor": "white",
            "showbackground": true,
            "ticks": "",
            "zerolinecolor": "white"
           },
           "zaxis": {
            "backgroundcolor": "#E5ECF6",
            "gridcolor": "white",
            "gridwidth": 2,
            "linecolor": "white",
            "showbackground": true,
            "ticks": "",
            "zerolinecolor": "white"
           }
          },
          "shapedefaults": {
           "line": {
            "color": "#2a3f5f"
           }
          },
          "ternary": {
           "aaxis": {
            "gridcolor": "white",
            "linecolor": "white",
            "ticks": ""
           },
           "baxis": {
            "gridcolor": "white",
            "linecolor": "white",
            "ticks": ""
           },
           "bgcolor": "#E5ECF6",
           "caxis": {
            "gridcolor": "white",
            "linecolor": "white",
            "ticks": ""
           }
          },
          "title": {
           "x": 0.05
          },
          "xaxis": {
           "automargin": true,
           "gridcolor": "white",
           "linecolor": "white",
           "ticks": "",
           "title": {
            "standoff": 15
           },
           "zerolinecolor": "white",
           "zerolinewidth": 2
          },
          "yaxis": {
           "automargin": true,
           "gridcolor": "white",
           "linecolor": "white",
           "ticks": "",
           "title": {
            "standoff": 15
           },
           "zerolinecolor": "white",
           "zerolinewidth": 2
          }
         }
        },
        "title": {
         "text": "Pressure and Density during NPT Equilibration"
        },
        "xaxis": {
         "anchor": "y",
         "domain": [
          0,
          0.45
         ],
         "title": {
          "text": "Time (ps)"
         }
        },
        "xaxis2": {
         "anchor": "y2",
         "domain": [
          0.55,
          1
         ],
         "title": {
          "text": "Time (ps)"
         }
        },
        "yaxis": {
         "anchor": "x",
         "domain": [
          0,
          1
         ],
         "title": {
          "text": "Pressure (bar)"
         }
        },
        "yaxis2": {
         "anchor": "x2",
         "domain": [
          0,
          1
         ],
         "title": {
          "text": "Density (Kg*m^-3)"
         }
        }
       }
      },
      "text/html": [
       "<div>\n",
       "        \n",
       "        \n",
       "            <div id=\"a0999660-aad8-4084-bc23-d721ad228489\" class=\"plotly-graph-div\" style=\"height:525px; width:100%;\"></div>\n",
       "            <script type=\"text/javascript\">\n",
       "                require([\"plotly\"], function(Plotly) {\n",
       "                    window.PLOTLYENV=window.PLOTLYENV || {};\n",
       "                    \n",
       "                if (document.getElementById(\"a0999660-aad8-4084-bc23-d721ad228489\")) {\n",
       "                    Plotly.newPlot(\n",
       "                        'a0999660-aad8-4084-bc23-d721ad228489',\n",
       "                        [{\"type\": \"scatter\", \"x\": [0.0, 5.0, 10.0], \"xaxis\": \"x\", \"y\": [149486.796875, 49.129608, 172.673065], \"yaxis\": \"y\"}, {\"type\": \"scatter\", \"x\": [0.0, 5.0, 10.0], \"xaxis\": \"x2\", \"y\": [1018.499634, 1022.415222, 1030.057861], \"yaxis\": \"y2\"}],\n",
       "                        {\"showlegend\": false, \"template\": {\"data\": {\"bar\": [{\"error_x\": {\"color\": \"#2a3f5f\"}, \"error_y\": {\"color\": \"#2a3f5f\"}, \"marker\": {\"line\": {\"color\": \"#E5ECF6\", \"width\": 0.5}}, \"type\": \"bar\"}], \"barpolar\": [{\"marker\": {\"line\": {\"color\": \"#E5ECF6\", \"width\": 0.5}}, \"type\": \"barpolar\"}], \"carpet\": [{\"aaxis\": {\"endlinecolor\": \"#2a3f5f\", \"gridcolor\": \"white\", \"linecolor\": \"white\", \"minorgridcolor\": \"white\", \"startlinecolor\": \"#2a3f5f\"}, \"baxis\": {\"endlinecolor\": \"#2a3f5f\", \"gridcolor\": \"white\", \"linecolor\": \"white\", \"minorgridcolor\": \"white\", \"startlinecolor\": \"#2a3f5f\"}, \"type\": \"carpet\"}], \"choropleth\": [{\"colorbar\": {\"outlinewidth\": 0, \"ticks\": \"\"}, \"type\": \"choropleth\"}], \"contour\": [{\"colorbar\": {\"outlinewidth\": 0, \"ticks\": \"\"}, \"colorscale\": [[0.0, \"#0d0887\"], [0.1111111111111111, \"#46039f\"], [0.2222222222222222, \"#7201a8\"], [0.3333333333333333, \"#9c179e\"], [0.4444444444444444, \"#bd3786\"], [0.5555555555555556, \"#d8576b\"], [0.6666666666666666, \"#ed7953\"], [0.7777777777777778, \"#fb9f3a\"], [0.8888888888888888, \"#fdca26\"], [1.0, \"#f0f921\"]], \"type\": \"contour\"}], \"contourcarpet\": [{\"colorbar\": {\"outlinewidth\": 0, \"ticks\": \"\"}, \"type\": \"contourcarpet\"}], \"heatmap\": [{\"colorbar\": {\"outlinewidth\": 0, \"ticks\": \"\"}, \"colorscale\": [[0.0, \"#0d0887\"], [0.1111111111111111, \"#46039f\"], [0.2222222222222222, \"#7201a8\"], [0.3333333333333333, \"#9c179e\"], [0.4444444444444444, \"#bd3786\"], [0.5555555555555556, \"#d8576b\"], [0.6666666666666666, \"#ed7953\"], [0.7777777777777778, \"#fb9f3a\"], [0.8888888888888888, \"#fdca26\"], [1.0, \"#f0f921\"]], \"type\": \"heatmap\"}], \"heatmapgl\": [{\"colorbar\": {\"outlinewidth\": 0, \"ticks\": \"\"}, \"colorscale\": [[0.0, \"#0d0887\"], [0.1111111111111111, \"#46039f\"], [0.2222222222222222, \"#7201a8\"], [0.3333333333333333, \"#9c179e\"], [0.4444444444444444, \"#bd3786\"], [0.5555555555555556, \"#d8576b\"], [0.6666666666666666, \"#ed7953\"], [0.7777777777777778, \"#fb9f3a\"], [0.8888888888888888, \"#fdca26\"], [1.0, \"#f0f921\"]], \"type\": \"heatmapgl\"}], \"histogram\": [{\"marker\": {\"colorbar\": {\"outlinewidth\": 0, \"ticks\": \"\"}}, \"type\": \"histogram\"}], \"histogram2d\": [{\"colorbar\": {\"outlinewidth\": 0, \"ticks\": \"\"}, \"colorscale\": [[0.0, \"#0d0887\"], [0.1111111111111111, \"#46039f\"], [0.2222222222222222, \"#7201a8\"], [0.3333333333333333, \"#9c179e\"], [0.4444444444444444, \"#bd3786\"], [0.5555555555555556, \"#d8576b\"], [0.6666666666666666, \"#ed7953\"], [0.7777777777777778, \"#fb9f3a\"], [0.8888888888888888, \"#fdca26\"], [1.0, \"#f0f921\"]], \"type\": \"histogram2d\"}], \"histogram2dcontour\": [{\"colorbar\": {\"outlinewidth\": 0, \"ticks\": \"\"}, \"colorscale\": [[0.0, \"#0d0887\"], [0.1111111111111111, \"#46039f\"], [0.2222222222222222, \"#7201a8\"], [0.3333333333333333, \"#9c179e\"], [0.4444444444444444, \"#bd3786\"], [0.5555555555555556, \"#d8576b\"], [0.6666666666666666, \"#ed7953\"], [0.7777777777777778, \"#fb9f3a\"], [0.8888888888888888, \"#fdca26\"], [1.0, \"#f0f921\"]], \"type\": \"histogram2dcontour\"}], \"mesh3d\": [{\"colorbar\": {\"outlinewidth\": 0, \"ticks\": \"\"}, \"type\": \"mesh3d\"}], \"parcoords\": [{\"line\": {\"colorbar\": {\"outlinewidth\": 0, \"ticks\": \"\"}}, \"type\": \"parcoords\"}], \"pie\": [{\"automargin\": true, \"type\": \"pie\"}], \"scatter\": [{\"marker\": {\"colorbar\": {\"outlinewidth\": 0, \"ticks\": \"\"}}, \"type\": \"scatter\"}], \"scatter3d\": [{\"line\": {\"colorbar\": {\"outlinewidth\": 0, \"ticks\": \"\"}}, \"marker\": {\"colorbar\": {\"outlinewidth\": 0, \"ticks\": \"\"}}, \"type\": \"scatter3d\"}], \"scattercarpet\": [{\"marker\": {\"colorbar\": {\"outlinewidth\": 0, \"ticks\": \"\"}}, \"type\": \"scattercarpet\"}], \"scattergeo\": [{\"marker\": {\"colorbar\": {\"outlinewidth\": 0, \"ticks\": \"\"}}, \"type\": \"scattergeo\"}], \"scattergl\": [{\"marker\": {\"colorbar\": {\"outlinewidth\": 0, \"ticks\": \"\"}}, \"type\": \"scattergl\"}], \"scattermapbox\": [{\"marker\": {\"colorbar\": {\"outlinewidth\": 0, \"ticks\": \"\"}}, \"type\": \"scattermapbox\"}], \"scatterpolar\": [{\"marker\": {\"colorbar\": {\"outlinewidth\": 0, \"ticks\": \"\"}}, \"type\": \"scatterpolar\"}], \"scatterpolargl\": [{\"marker\": {\"colorbar\": {\"outlinewidth\": 0, \"ticks\": \"\"}}, \"type\": \"scatterpolargl\"}], \"scatterternary\": [{\"marker\": {\"colorbar\": {\"outlinewidth\": 0, \"ticks\": \"\"}}, \"type\": \"scatterternary\"}], \"surface\": [{\"colorbar\": {\"outlinewidth\": 0, \"ticks\": \"\"}, \"colorscale\": [[0.0, \"#0d0887\"], [0.1111111111111111, \"#46039f\"], [0.2222222222222222, \"#7201a8\"], [0.3333333333333333, \"#9c179e\"], [0.4444444444444444, \"#bd3786\"], [0.5555555555555556, \"#d8576b\"], [0.6666666666666666, \"#ed7953\"], [0.7777777777777778, \"#fb9f3a\"], [0.8888888888888888, \"#fdca26\"], [1.0, \"#f0f921\"]], \"type\": \"surface\"}], \"table\": [{\"cells\": {\"fill\": {\"color\": \"#EBF0F8\"}, \"line\": {\"color\": \"white\"}}, \"header\": {\"fill\": {\"color\": \"#C8D4E3\"}, \"line\": {\"color\": \"white\"}}, \"type\": \"table\"}]}, \"layout\": {\"annotationdefaults\": {\"arrowcolor\": \"#2a3f5f\", \"arrowhead\": 0, \"arrowwidth\": 1}, \"coloraxis\": {\"colorbar\": {\"outlinewidth\": 0, \"ticks\": \"\"}}, \"colorscale\": {\"diverging\": [[0, \"#8e0152\"], [0.1, \"#c51b7d\"], [0.2, \"#de77ae\"], [0.3, \"#f1b6da\"], [0.4, \"#fde0ef\"], [0.5, \"#f7f7f7\"], [0.6, \"#e6f5d0\"], [0.7, \"#b8e186\"], [0.8, \"#7fbc41\"], [0.9, \"#4d9221\"], [1, \"#276419\"]], \"sequential\": [[0.0, \"#0d0887\"], [0.1111111111111111, \"#46039f\"], [0.2222222222222222, \"#7201a8\"], [0.3333333333333333, \"#9c179e\"], [0.4444444444444444, \"#bd3786\"], [0.5555555555555556, \"#d8576b\"], [0.6666666666666666, \"#ed7953\"], [0.7777777777777778, \"#fb9f3a\"], [0.8888888888888888, \"#fdca26\"], [1.0, \"#f0f921\"]], \"sequentialminus\": [[0.0, \"#0d0887\"], [0.1111111111111111, \"#46039f\"], [0.2222222222222222, \"#7201a8\"], [0.3333333333333333, \"#9c179e\"], [0.4444444444444444, \"#bd3786\"], [0.5555555555555556, \"#d8576b\"], [0.6666666666666666, \"#ed7953\"], [0.7777777777777778, \"#fb9f3a\"], [0.8888888888888888, \"#fdca26\"], [1.0, \"#f0f921\"]]}, \"colorway\": [\"#636efa\", \"#EF553B\", \"#00cc96\", \"#ab63fa\", \"#FFA15A\", \"#19d3f3\", \"#FF6692\", \"#B6E880\", \"#FF97FF\", \"#FECB52\"], \"font\": {\"color\": \"#2a3f5f\"}, \"geo\": {\"bgcolor\": \"white\", \"lakecolor\": \"white\", \"landcolor\": \"#E5ECF6\", \"showlakes\": true, \"showland\": true, \"subunitcolor\": \"white\"}, \"hoverlabel\": {\"align\": \"left\"}, \"hovermode\": \"closest\", \"mapbox\": {\"style\": \"light\"}, \"paper_bgcolor\": \"white\", \"plot_bgcolor\": \"#E5ECF6\", \"polar\": {\"angularaxis\": {\"gridcolor\": \"white\", \"linecolor\": \"white\", \"ticks\": \"\"}, \"bgcolor\": \"#E5ECF6\", \"radialaxis\": {\"gridcolor\": \"white\", \"linecolor\": \"white\", \"ticks\": \"\"}}, \"scene\": {\"xaxis\": {\"backgroundcolor\": \"#E5ECF6\", \"gridcolor\": \"white\", \"gridwidth\": 2, \"linecolor\": \"white\", \"showbackground\": true, \"ticks\": \"\", \"zerolinecolor\": \"white\"}, \"yaxis\": {\"backgroundcolor\": \"#E5ECF6\", \"gridcolor\": \"white\", \"gridwidth\": 2, \"linecolor\": \"white\", \"showbackground\": true, \"ticks\": \"\", \"zerolinecolor\": \"white\"}, \"zaxis\": {\"backgroundcolor\": \"#E5ECF6\", \"gridcolor\": \"white\", \"gridwidth\": 2, \"linecolor\": \"white\", \"showbackground\": true, \"ticks\": \"\", \"zerolinecolor\": \"white\"}}, \"shapedefaults\": {\"line\": {\"color\": \"#2a3f5f\"}}, \"ternary\": {\"aaxis\": {\"gridcolor\": \"white\", \"linecolor\": \"white\", \"ticks\": \"\"}, \"baxis\": {\"gridcolor\": \"white\", \"linecolor\": \"white\", \"ticks\": \"\"}, \"bgcolor\": \"#E5ECF6\", \"caxis\": {\"gridcolor\": \"white\", \"linecolor\": \"white\", \"ticks\": \"\"}}, \"title\": {\"x\": 0.05}, \"xaxis\": {\"automargin\": true, \"gridcolor\": \"white\", \"linecolor\": \"white\", \"ticks\": \"\", \"title\": {\"standoff\": 15}, \"zerolinecolor\": \"white\", \"zerolinewidth\": 2}, \"yaxis\": {\"automargin\": true, \"gridcolor\": \"white\", \"linecolor\": \"white\", \"ticks\": \"\", \"title\": {\"standoff\": 15}, \"zerolinecolor\": \"white\", \"zerolinewidth\": 2}}}, \"title\": {\"text\": \"Pressure and Density during NPT Equilibration\"}, \"xaxis\": {\"anchor\": \"y\", \"domain\": [0.0, 0.45], \"title\": {\"text\": \"Time (ps)\"}}, \"xaxis2\": {\"anchor\": \"y2\", \"domain\": [0.55, 1.0], \"title\": {\"text\": \"Time (ps)\"}}, \"yaxis\": {\"anchor\": \"x\", \"domain\": [0.0, 1.0], \"title\": {\"text\": \"Pressure (bar)\"}}, \"yaxis2\": {\"anchor\": \"x2\", \"domain\": [0.0, 1.0], \"title\": {\"text\": \"Density (Kg*m^-3)\"}}},\n",
       "                        {\"responsive\": true}\n",
       "                    ).then(function(){\n",
       "                            \n",
       "var gd = document.getElementById('a0999660-aad8-4084-bc23-d721ad228489');\n",
       "var x = new MutationObserver(function (mutations, observer) {{\n",
       "        var display = window.getComputedStyle(gd).display;\n",
       "        if (!display || display === 'none') {{\n",
       "            console.log([gd, 'removed!']);\n",
       "            Plotly.purge(gd);\n",
       "            observer.disconnect();\n",
       "        }}\n",
       "}});\n",
       "\n",
       "// Listen for the removal of the full notebook cells\n",
       "var notebookContainer = gd.closest('#notebook-container');\n",
       "if (notebookContainer) {{\n",
       "    x.observe(notebookContainer, {childList: true});\n",
       "}}\n",
       "\n",
       "// Listen for the clearing of the current output cell\n",
       "var outputEl = gd.closest('.output');\n",
       "if (outputEl) {{\n",
       "    x.observe(outputEl, {childList: true});\n",
       "}}\n",
       "\n",
       "                        })\n",
       "                };\n",
       "                });\n",
       "            </script>\n",
       "        </div>"
      ]
     },
     "metadata": {},
     "output_type": "display_data"
    }
   ],
   "source": [
    "import plotly\n",
    "from plotly import subplots\n",
    "import plotly.graph_objs as go\n",
    "\n",
    "# Read pressure and density data from file \n",
    "with open(output_eqA_pd_xvg,'r') as pd_file:\n",
    "    x,y,z = map(\n",
    "        list,\n",
    "        zip(*[\n",
    "            (float(line.split()[0]),float(line.split()[1]),float(line.split()[2]))\n",
    "            for line in pd_file \n",
    "            if not line.startswith((\"#\",\"@\")) \n",
    "        ])\n",
    "    )\n",
    "\n",
    "plotly.offline.init_notebook_mode(connected=True)\n",
    "\n",
    "trace1 = go.Scatter(\n",
    "    x=x,y=y\n",
    ")\n",
    "trace2 = go.Scatter(\n",
    "    x=x,y=z\n",
    ")\n",
    "\n",
    "fig = subplots.make_subplots(rows=1, cols=2, print_grid=False)\n",
    "\n",
    "fig.append_trace(trace1, 1, 1)\n",
    "fig.append_trace(trace2, 1, 2)\n",
    "\n",
    "fig['layout']['xaxis1'].update(title='Time (ps)')\n",
    "fig['layout']['xaxis2'].update(title='Time (ps)')\n",
    "fig['layout']['yaxis1'].update(title='Pressure (bar)')\n",
    "fig['layout']['yaxis2'].update(title='Density (Kg*m^-3)')\n",
    "\n",
    "fig['layout'].update(title='Pressure and Density during NPT Equilibration')\n",
    "fig['layout'].update(showlegend=False)\n",
    "\n",
    "plotly.offline.iplot(fig)"
   ]
  },
  {
   "cell_type": "code",
   "execution_count": 17,
   "metadata": {},
   "outputs": [
    {
     "data": {
      "text/html": [
       "        <script type=\"text/javascript\">\n",
       "        window.PlotlyConfig = {MathJaxConfig: 'local'};\n",
       "        if (window.MathJax) {MathJax.Hub.Config({SVG: {font: \"STIX-Web\"}});}\n",
       "        if (typeof require !== 'undefined') {\n",
       "        require.undef(\"plotly\");\n",
       "        requirejs.config({\n",
       "            paths: {\n",
       "                'plotly': ['https://cdn.plot.ly/plotly-latest.min']\n",
       "            }\n",
       "        });\n",
       "        require(['plotly'], function(Plotly) {\n",
       "            window._Plotly = Plotly;\n",
       "        });\n",
       "        }\n",
       "        </script>\n",
       "        "
      ]
     },
     "metadata": {},
     "output_type": "display_data"
    },
    {
     "data": {
      "application/vnd.plotly.v1+json": {
       "config": {
        "linkText": "Export to plot.ly",
        "plotlyServerURL": "https://plot.ly",
        "showLink": false
       },
       "data": [
        {
         "type": "scatter",
         "x": [
          0,
          5,
          10
         ],
         "xaxis": "x",
         "y": [
          -3419.431641,
          -43.942734,
          -110.278572
         ],
         "yaxis": "y"
        },
        {
         "type": "scatter",
         "x": [
          0,
          5,
          10
         ],
         "xaxis": "x2",
         "y": [
          1020.489685,
          1029.997437,
          1025.575195
         ],
         "yaxis": "y2"
        }
       ],
       "layout": {
        "showlegend": false,
        "template": {
         "data": {
          "bar": [
           {
            "error_x": {
             "color": "#2a3f5f"
            },
            "error_y": {
             "color": "#2a3f5f"
            },
            "marker": {
             "line": {
              "color": "#E5ECF6",
              "width": 0.5
             }
            },
            "type": "bar"
           }
          ],
          "barpolar": [
           {
            "marker": {
             "line": {
              "color": "#E5ECF6",
              "width": 0.5
             }
            },
            "type": "barpolar"
           }
          ],
          "carpet": [
           {
            "aaxis": {
             "endlinecolor": "#2a3f5f",
             "gridcolor": "white",
             "linecolor": "white",
             "minorgridcolor": "white",
             "startlinecolor": "#2a3f5f"
            },
            "baxis": {
             "endlinecolor": "#2a3f5f",
             "gridcolor": "white",
             "linecolor": "white",
             "minorgridcolor": "white",
             "startlinecolor": "#2a3f5f"
            },
            "type": "carpet"
           }
          ],
          "choropleth": [
           {
            "colorbar": {
             "outlinewidth": 0,
             "ticks": ""
            },
            "type": "choropleth"
           }
          ],
          "contour": [
           {
            "colorbar": {
             "outlinewidth": 0,
             "ticks": ""
            },
            "colorscale": [
             [
              0,
              "#0d0887"
             ],
             [
              0.1111111111111111,
              "#46039f"
             ],
             [
              0.2222222222222222,
              "#7201a8"
             ],
             [
              0.3333333333333333,
              "#9c179e"
             ],
             [
              0.4444444444444444,
              "#bd3786"
             ],
             [
              0.5555555555555556,
              "#d8576b"
             ],
             [
              0.6666666666666666,
              "#ed7953"
             ],
             [
              0.7777777777777778,
              "#fb9f3a"
             ],
             [
              0.8888888888888888,
              "#fdca26"
             ],
             [
              1,
              "#f0f921"
             ]
            ],
            "type": "contour"
           }
          ],
          "contourcarpet": [
           {
            "colorbar": {
             "outlinewidth": 0,
             "ticks": ""
            },
            "type": "contourcarpet"
           }
          ],
          "heatmap": [
           {
            "colorbar": {
             "outlinewidth": 0,
             "ticks": ""
            },
            "colorscale": [
             [
              0,
              "#0d0887"
             ],
             [
              0.1111111111111111,
              "#46039f"
             ],
             [
              0.2222222222222222,
              "#7201a8"
             ],
             [
              0.3333333333333333,
              "#9c179e"
             ],
             [
              0.4444444444444444,
              "#bd3786"
             ],
             [
              0.5555555555555556,
              "#d8576b"
             ],
             [
              0.6666666666666666,
              "#ed7953"
             ],
             [
              0.7777777777777778,
              "#fb9f3a"
             ],
             [
              0.8888888888888888,
              "#fdca26"
             ],
             [
              1,
              "#f0f921"
             ]
            ],
            "type": "heatmap"
           }
          ],
          "heatmapgl": [
           {
            "colorbar": {
             "outlinewidth": 0,
             "ticks": ""
            },
            "colorscale": [
             [
              0,
              "#0d0887"
             ],
             [
              0.1111111111111111,
              "#46039f"
             ],
             [
              0.2222222222222222,
              "#7201a8"
             ],
             [
              0.3333333333333333,
              "#9c179e"
             ],
             [
              0.4444444444444444,
              "#bd3786"
             ],
             [
              0.5555555555555556,
              "#d8576b"
             ],
             [
              0.6666666666666666,
              "#ed7953"
             ],
             [
              0.7777777777777778,
              "#fb9f3a"
             ],
             [
              0.8888888888888888,
              "#fdca26"
             ],
             [
              1,
              "#f0f921"
             ]
            ],
            "type": "heatmapgl"
           }
          ],
          "histogram": [
           {
            "marker": {
             "colorbar": {
              "outlinewidth": 0,
              "ticks": ""
             }
            },
            "type": "histogram"
           }
          ],
          "histogram2d": [
           {
            "colorbar": {
             "outlinewidth": 0,
             "ticks": ""
            },
            "colorscale": [
             [
              0,
              "#0d0887"
             ],
             [
              0.1111111111111111,
              "#46039f"
             ],
             [
              0.2222222222222222,
              "#7201a8"
             ],
             [
              0.3333333333333333,
              "#9c179e"
             ],
             [
              0.4444444444444444,
              "#bd3786"
             ],
             [
              0.5555555555555556,
              "#d8576b"
             ],
             [
              0.6666666666666666,
              "#ed7953"
             ],
             [
              0.7777777777777778,
              "#fb9f3a"
             ],
             [
              0.8888888888888888,
              "#fdca26"
             ],
             [
              1,
              "#f0f921"
             ]
            ],
            "type": "histogram2d"
           }
          ],
          "histogram2dcontour": [
           {
            "colorbar": {
             "outlinewidth": 0,
             "ticks": ""
            },
            "colorscale": [
             [
              0,
              "#0d0887"
             ],
             [
              0.1111111111111111,
              "#46039f"
             ],
             [
              0.2222222222222222,
              "#7201a8"
             ],
             [
              0.3333333333333333,
              "#9c179e"
             ],
             [
              0.4444444444444444,
              "#bd3786"
             ],
             [
              0.5555555555555556,
              "#d8576b"
             ],
             [
              0.6666666666666666,
              "#ed7953"
             ],
             [
              0.7777777777777778,
              "#fb9f3a"
             ],
             [
              0.8888888888888888,
              "#fdca26"
             ],
             [
              1,
              "#f0f921"
             ]
            ],
            "type": "histogram2dcontour"
           }
          ],
          "mesh3d": [
           {
            "colorbar": {
             "outlinewidth": 0,
             "ticks": ""
            },
            "type": "mesh3d"
           }
          ],
          "parcoords": [
           {
            "line": {
             "colorbar": {
              "outlinewidth": 0,
              "ticks": ""
             }
            },
            "type": "parcoords"
           }
          ],
          "pie": [
           {
            "automargin": true,
            "type": "pie"
           }
          ],
          "scatter": [
           {
            "marker": {
             "colorbar": {
              "outlinewidth": 0,
              "ticks": ""
             }
            },
            "type": "scatter"
           }
          ],
          "scatter3d": [
           {
            "line": {
             "colorbar": {
              "outlinewidth": 0,
              "ticks": ""
             }
            },
            "marker": {
             "colorbar": {
              "outlinewidth": 0,
              "ticks": ""
             }
            },
            "type": "scatter3d"
           }
          ],
          "scattercarpet": [
           {
            "marker": {
             "colorbar": {
              "outlinewidth": 0,
              "ticks": ""
             }
            },
            "type": "scattercarpet"
           }
          ],
          "scattergeo": [
           {
            "marker": {
             "colorbar": {
              "outlinewidth": 0,
              "ticks": ""
             }
            },
            "type": "scattergeo"
           }
          ],
          "scattergl": [
           {
            "marker": {
             "colorbar": {
              "outlinewidth": 0,
              "ticks": ""
             }
            },
            "type": "scattergl"
           }
          ],
          "scattermapbox": [
           {
            "marker": {
             "colorbar": {
              "outlinewidth": 0,
              "ticks": ""
             }
            },
            "type": "scattermapbox"
           }
          ],
          "scatterpolar": [
           {
            "marker": {
             "colorbar": {
              "outlinewidth": 0,
              "ticks": ""
             }
            },
            "type": "scatterpolar"
           }
          ],
          "scatterpolargl": [
           {
            "marker": {
             "colorbar": {
              "outlinewidth": 0,
              "ticks": ""
             }
            },
            "type": "scatterpolargl"
           }
          ],
          "scatterternary": [
           {
            "marker": {
             "colorbar": {
              "outlinewidth": 0,
              "ticks": ""
             }
            },
            "type": "scatterternary"
           }
          ],
          "surface": [
           {
            "colorbar": {
             "outlinewidth": 0,
             "ticks": ""
            },
            "colorscale": [
             [
              0,
              "#0d0887"
             ],
             [
              0.1111111111111111,
              "#46039f"
             ],
             [
              0.2222222222222222,
              "#7201a8"
             ],
             [
              0.3333333333333333,
              "#9c179e"
             ],
             [
              0.4444444444444444,
              "#bd3786"
             ],
             [
              0.5555555555555556,
              "#d8576b"
             ],
             [
              0.6666666666666666,
              "#ed7953"
             ],
             [
              0.7777777777777778,
              "#fb9f3a"
             ],
             [
              0.8888888888888888,
              "#fdca26"
             ],
             [
              1,
              "#f0f921"
             ]
            ],
            "type": "surface"
           }
          ],
          "table": [
           {
            "cells": {
             "fill": {
              "color": "#EBF0F8"
             },
             "line": {
              "color": "white"
             }
            },
            "header": {
             "fill": {
              "color": "#C8D4E3"
             },
             "line": {
              "color": "white"
             }
            },
            "type": "table"
           }
          ]
         },
         "layout": {
          "annotationdefaults": {
           "arrowcolor": "#2a3f5f",
           "arrowhead": 0,
           "arrowwidth": 1
          },
          "coloraxis": {
           "colorbar": {
            "outlinewidth": 0,
            "ticks": ""
           }
          },
          "colorscale": {
           "diverging": [
            [
             0,
             "#8e0152"
            ],
            [
             0.1,
             "#c51b7d"
            ],
            [
             0.2,
             "#de77ae"
            ],
            [
             0.3,
             "#f1b6da"
            ],
            [
             0.4,
             "#fde0ef"
            ],
            [
             0.5,
             "#f7f7f7"
            ],
            [
             0.6,
             "#e6f5d0"
            ],
            [
             0.7,
             "#b8e186"
            ],
            [
             0.8,
             "#7fbc41"
            ],
            [
             0.9,
             "#4d9221"
            ],
            [
             1,
             "#276419"
            ]
           ],
           "sequential": [
            [
             0,
             "#0d0887"
            ],
            [
             0.1111111111111111,
             "#46039f"
            ],
            [
             0.2222222222222222,
             "#7201a8"
            ],
            [
             0.3333333333333333,
             "#9c179e"
            ],
            [
             0.4444444444444444,
             "#bd3786"
            ],
            [
             0.5555555555555556,
             "#d8576b"
            ],
            [
             0.6666666666666666,
             "#ed7953"
            ],
            [
             0.7777777777777778,
             "#fb9f3a"
            ],
            [
             0.8888888888888888,
             "#fdca26"
            ],
            [
             1,
             "#f0f921"
            ]
           ],
           "sequentialminus": [
            [
             0,
             "#0d0887"
            ],
            [
             0.1111111111111111,
             "#46039f"
            ],
            [
             0.2222222222222222,
             "#7201a8"
            ],
            [
             0.3333333333333333,
             "#9c179e"
            ],
            [
             0.4444444444444444,
             "#bd3786"
            ],
            [
             0.5555555555555556,
             "#d8576b"
            ],
            [
             0.6666666666666666,
             "#ed7953"
            ],
            [
             0.7777777777777778,
             "#fb9f3a"
            ],
            [
             0.8888888888888888,
             "#fdca26"
            ],
            [
             1,
             "#f0f921"
            ]
           ]
          },
          "colorway": [
           "#636efa",
           "#EF553B",
           "#00cc96",
           "#ab63fa",
           "#FFA15A",
           "#19d3f3",
           "#FF6692",
           "#B6E880",
           "#FF97FF",
           "#FECB52"
          ],
          "font": {
           "color": "#2a3f5f"
          },
          "geo": {
           "bgcolor": "white",
           "lakecolor": "white",
           "landcolor": "#E5ECF6",
           "showlakes": true,
           "showland": true,
           "subunitcolor": "white"
          },
          "hoverlabel": {
           "align": "left"
          },
          "hovermode": "closest",
          "mapbox": {
           "style": "light"
          },
          "paper_bgcolor": "white",
          "plot_bgcolor": "#E5ECF6",
          "polar": {
           "angularaxis": {
            "gridcolor": "white",
            "linecolor": "white",
            "ticks": ""
           },
           "bgcolor": "#E5ECF6",
           "radialaxis": {
            "gridcolor": "white",
            "linecolor": "white",
            "ticks": ""
           }
          },
          "scene": {
           "xaxis": {
            "backgroundcolor": "#E5ECF6",
            "gridcolor": "white",
            "gridwidth": 2,
            "linecolor": "white",
            "showbackground": true,
            "ticks": "",
            "zerolinecolor": "white"
           },
           "yaxis": {
            "backgroundcolor": "#E5ECF6",
            "gridcolor": "white",
            "gridwidth": 2,
            "linecolor": "white",
            "showbackground": true,
            "ticks": "",
            "zerolinecolor": "white"
           },
           "zaxis": {
            "backgroundcolor": "#E5ECF6",
            "gridcolor": "white",
            "gridwidth": 2,
            "linecolor": "white",
            "showbackground": true,
            "ticks": "",
            "zerolinecolor": "white"
           }
          },
          "shapedefaults": {
           "line": {
            "color": "#2a3f5f"
           }
          },
          "ternary": {
           "aaxis": {
            "gridcolor": "white",
            "linecolor": "white",
            "ticks": ""
           },
           "baxis": {
            "gridcolor": "white",
            "linecolor": "white",
            "ticks": ""
           },
           "bgcolor": "#E5ECF6",
           "caxis": {
            "gridcolor": "white",
            "linecolor": "white",
            "ticks": ""
           }
          },
          "title": {
           "x": 0.05
          },
          "xaxis": {
           "automargin": true,
           "gridcolor": "white",
           "linecolor": "white",
           "ticks": "",
           "title": {
            "standoff": 15
           },
           "zerolinecolor": "white",
           "zerolinewidth": 2
          },
          "yaxis": {
           "automargin": true,
           "gridcolor": "white",
           "linecolor": "white",
           "ticks": "",
           "title": {
            "standoff": 15
           },
           "zerolinecolor": "white",
           "zerolinewidth": 2
          }
         }
        },
        "title": {
         "text": "Pressure and Density during NPT Equilibration"
        },
        "xaxis": {
         "anchor": "y",
         "domain": [
          0,
          0.45
         ],
         "title": {
          "text": "Time (ps)"
         }
        },
        "xaxis2": {
         "anchor": "y2",
         "domain": [
          0.55,
          1
         ],
         "title": {
          "text": "Time (ps)"
         }
        },
        "yaxis": {
         "anchor": "x",
         "domain": [
          0,
          1
         ],
         "title": {
          "text": "Pressure (bar)"
         }
        },
        "yaxis2": {
         "anchor": "x2",
         "domain": [
          0,
          1
         ],
         "title": {
          "text": "Density (Kg*m^-3)"
         }
        }
       }
      },
      "text/html": [
       "<div>\n",
       "        \n",
       "        \n",
       "            <div id=\"106ba703-2d7a-4c0f-8bd4-4656a3868dd7\" class=\"plotly-graph-div\" style=\"height:525px; width:100%;\"></div>\n",
       "            <script type=\"text/javascript\">\n",
       "                require([\"plotly\"], function(Plotly) {\n",
       "                    window.PLOTLYENV=window.PLOTLYENV || {};\n",
       "                    \n",
       "                if (document.getElementById(\"106ba703-2d7a-4c0f-8bd4-4656a3868dd7\")) {\n",
       "                    Plotly.newPlot(\n",
       "                        '106ba703-2d7a-4c0f-8bd4-4656a3868dd7',\n",
       "                        [{\"type\": \"scatter\", \"x\": [0.0, 5.0, 10.0], \"xaxis\": \"x\", \"y\": [-3419.431641, -43.942734, -110.278572], \"yaxis\": \"y\"}, {\"type\": \"scatter\", \"x\": [0.0, 5.0, 10.0], \"xaxis\": \"x2\", \"y\": [1020.489685, 1029.997437, 1025.575195], \"yaxis\": \"y2\"}],\n",
       "                        {\"showlegend\": false, \"template\": {\"data\": {\"bar\": [{\"error_x\": {\"color\": \"#2a3f5f\"}, \"error_y\": {\"color\": \"#2a3f5f\"}, \"marker\": {\"line\": {\"color\": \"#E5ECF6\", \"width\": 0.5}}, \"type\": \"bar\"}], \"barpolar\": [{\"marker\": {\"line\": {\"color\": \"#E5ECF6\", \"width\": 0.5}}, \"type\": \"barpolar\"}], \"carpet\": [{\"aaxis\": {\"endlinecolor\": \"#2a3f5f\", \"gridcolor\": \"white\", \"linecolor\": \"white\", \"minorgridcolor\": \"white\", \"startlinecolor\": \"#2a3f5f\"}, \"baxis\": {\"endlinecolor\": \"#2a3f5f\", \"gridcolor\": \"white\", \"linecolor\": \"white\", \"minorgridcolor\": \"white\", \"startlinecolor\": \"#2a3f5f\"}, \"type\": \"carpet\"}], \"choropleth\": [{\"colorbar\": {\"outlinewidth\": 0, \"ticks\": \"\"}, \"type\": \"choropleth\"}], \"contour\": [{\"colorbar\": {\"outlinewidth\": 0, \"ticks\": \"\"}, \"colorscale\": [[0.0, \"#0d0887\"], [0.1111111111111111, \"#46039f\"], [0.2222222222222222, \"#7201a8\"], [0.3333333333333333, \"#9c179e\"], [0.4444444444444444, \"#bd3786\"], [0.5555555555555556, \"#d8576b\"], [0.6666666666666666, \"#ed7953\"], [0.7777777777777778, \"#fb9f3a\"], [0.8888888888888888, \"#fdca26\"], [1.0, \"#f0f921\"]], \"type\": \"contour\"}], \"contourcarpet\": [{\"colorbar\": {\"outlinewidth\": 0, \"ticks\": \"\"}, \"type\": \"contourcarpet\"}], \"heatmap\": [{\"colorbar\": {\"outlinewidth\": 0, \"ticks\": \"\"}, \"colorscale\": [[0.0, \"#0d0887\"], [0.1111111111111111, \"#46039f\"], [0.2222222222222222, \"#7201a8\"], [0.3333333333333333, \"#9c179e\"], [0.4444444444444444, \"#bd3786\"], [0.5555555555555556, \"#d8576b\"], [0.6666666666666666, \"#ed7953\"], [0.7777777777777778, \"#fb9f3a\"], [0.8888888888888888, \"#fdca26\"], [1.0, \"#f0f921\"]], \"type\": \"heatmap\"}], \"heatmapgl\": [{\"colorbar\": {\"outlinewidth\": 0, \"ticks\": \"\"}, \"colorscale\": [[0.0, \"#0d0887\"], [0.1111111111111111, \"#46039f\"], [0.2222222222222222, \"#7201a8\"], [0.3333333333333333, \"#9c179e\"], [0.4444444444444444, \"#bd3786\"], [0.5555555555555556, \"#d8576b\"], [0.6666666666666666, \"#ed7953\"], [0.7777777777777778, \"#fb9f3a\"], [0.8888888888888888, \"#fdca26\"], [1.0, \"#f0f921\"]], \"type\": \"heatmapgl\"}], \"histogram\": [{\"marker\": {\"colorbar\": {\"outlinewidth\": 0, \"ticks\": \"\"}}, \"type\": \"histogram\"}], \"histogram2d\": [{\"colorbar\": {\"outlinewidth\": 0, \"ticks\": \"\"}, \"colorscale\": [[0.0, \"#0d0887\"], [0.1111111111111111, \"#46039f\"], [0.2222222222222222, \"#7201a8\"], [0.3333333333333333, \"#9c179e\"], [0.4444444444444444, \"#bd3786\"], [0.5555555555555556, \"#d8576b\"], [0.6666666666666666, \"#ed7953\"], [0.7777777777777778, \"#fb9f3a\"], [0.8888888888888888, \"#fdca26\"], [1.0, \"#f0f921\"]], \"type\": \"histogram2d\"}], \"histogram2dcontour\": [{\"colorbar\": {\"outlinewidth\": 0, \"ticks\": \"\"}, \"colorscale\": [[0.0, \"#0d0887\"], [0.1111111111111111, \"#46039f\"], [0.2222222222222222, \"#7201a8\"], [0.3333333333333333, \"#9c179e\"], [0.4444444444444444, \"#bd3786\"], [0.5555555555555556, \"#d8576b\"], [0.6666666666666666, \"#ed7953\"], [0.7777777777777778, \"#fb9f3a\"], [0.8888888888888888, \"#fdca26\"], [1.0, \"#f0f921\"]], \"type\": \"histogram2dcontour\"}], \"mesh3d\": [{\"colorbar\": {\"outlinewidth\": 0, \"ticks\": \"\"}, \"type\": \"mesh3d\"}], \"parcoords\": [{\"line\": {\"colorbar\": {\"outlinewidth\": 0, \"ticks\": \"\"}}, \"type\": \"parcoords\"}], \"pie\": [{\"automargin\": true, \"type\": \"pie\"}], \"scatter\": [{\"marker\": {\"colorbar\": {\"outlinewidth\": 0, \"ticks\": \"\"}}, \"type\": \"scatter\"}], \"scatter3d\": [{\"line\": {\"colorbar\": {\"outlinewidth\": 0, \"ticks\": \"\"}}, \"marker\": {\"colorbar\": {\"outlinewidth\": 0, \"ticks\": \"\"}}, \"type\": \"scatter3d\"}], \"scattercarpet\": [{\"marker\": {\"colorbar\": {\"outlinewidth\": 0, \"ticks\": \"\"}}, \"type\": \"scattercarpet\"}], \"scattergeo\": [{\"marker\": {\"colorbar\": {\"outlinewidth\": 0, \"ticks\": \"\"}}, \"type\": \"scattergeo\"}], \"scattergl\": [{\"marker\": {\"colorbar\": {\"outlinewidth\": 0, \"ticks\": \"\"}}, \"type\": \"scattergl\"}], \"scattermapbox\": [{\"marker\": {\"colorbar\": {\"outlinewidth\": 0, \"ticks\": \"\"}}, \"type\": \"scattermapbox\"}], \"scatterpolar\": [{\"marker\": {\"colorbar\": {\"outlinewidth\": 0, \"ticks\": \"\"}}, \"type\": \"scatterpolar\"}], \"scatterpolargl\": [{\"marker\": {\"colorbar\": {\"outlinewidth\": 0, \"ticks\": \"\"}}, \"type\": \"scatterpolargl\"}], \"scatterternary\": [{\"marker\": {\"colorbar\": {\"outlinewidth\": 0, \"ticks\": \"\"}}, \"type\": \"scatterternary\"}], \"surface\": [{\"colorbar\": {\"outlinewidth\": 0, \"ticks\": \"\"}, \"colorscale\": [[0.0, \"#0d0887\"], [0.1111111111111111, \"#46039f\"], [0.2222222222222222, \"#7201a8\"], [0.3333333333333333, \"#9c179e\"], [0.4444444444444444, \"#bd3786\"], [0.5555555555555556, \"#d8576b\"], [0.6666666666666666, \"#ed7953\"], [0.7777777777777778, \"#fb9f3a\"], [0.8888888888888888, \"#fdca26\"], [1.0, \"#f0f921\"]], \"type\": \"surface\"}], \"table\": [{\"cells\": {\"fill\": {\"color\": \"#EBF0F8\"}, \"line\": {\"color\": \"white\"}}, \"header\": {\"fill\": {\"color\": \"#C8D4E3\"}, \"line\": {\"color\": \"white\"}}, \"type\": \"table\"}]}, \"layout\": {\"annotationdefaults\": {\"arrowcolor\": \"#2a3f5f\", \"arrowhead\": 0, \"arrowwidth\": 1}, \"coloraxis\": {\"colorbar\": {\"outlinewidth\": 0, \"ticks\": \"\"}}, \"colorscale\": {\"diverging\": [[0, \"#8e0152\"], [0.1, \"#c51b7d\"], [0.2, \"#de77ae\"], [0.3, \"#f1b6da\"], [0.4, \"#fde0ef\"], [0.5, \"#f7f7f7\"], [0.6, \"#e6f5d0\"], [0.7, \"#b8e186\"], [0.8, \"#7fbc41\"], [0.9, \"#4d9221\"], [1, \"#276419\"]], \"sequential\": [[0.0, \"#0d0887\"], [0.1111111111111111, \"#46039f\"], [0.2222222222222222, \"#7201a8\"], [0.3333333333333333, \"#9c179e\"], [0.4444444444444444, \"#bd3786\"], [0.5555555555555556, \"#d8576b\"], [0.6666666666666666, \"#ed7953\"], [0.7777777777777778, \"#fb9f3a\"], [0.8888888888888888, \"#fdca26\"], [1.0, \"#f0f921\"]], \"sequentialminus\": [[0.0, \"#0d0887\"], [0.1111111111111111, \"#46039f\"], [0.2222222222222222, \"#7201a8\"], [0.3333333333333333, \"#9c179e\"], [0.4444444444444444, \"#bd3786\"], [0.5555555555555556, \"#d8576b\"], [0.6666666666666666, \"#ed7953\"], [0.7777777777777778, \"#fb9f3a\"], [0.8888888888888888, \"#fdca26\"], [1.0, \"#f0f921\"]]}, \"colorway\": [\"#636efa\", \"#EF553B\", \"#00cc96\", \"#ab63fa\", \"#FFA15A\", \"#19d3f3\", \"#FF6692\", \"#B6E880\", \"#FF97FF\", \"#FECB52\"], \"font\": {\"color\": \"#2a3f5f\"}, \"geo\": {\"bgcolor\": \"white\", \"lakecolor\": \"white\", \"landcolor\": \"#E5ECF6\", \"showlakes\": true, \"showland\": true, \"subunitcolor\": \"white\"}, \"hoverlabel\": {\"align\": \"left\"}, \"hovermode\": \"closest\", \"mapbox\": {\"style\": \"light\"}, \"paper_bgcolor\": \"white\", \"plot_bgcolor\": \"#E5ECF6\", \"polar\": {\"angularaxis\": {\"gridcolor\": \"white\", \"linecolor\": \"white\", \"ticks\": \"\"}, \"bgcolor\": \"#E5ECF6\", \"radialaxis\": {\"gridcolor\": \"white\", \"linecolor\": \"white\", \"ticks\": \"\"}}, \"scene\": {\"xaxis\": {\"backgroundcolor\": \"#E5ECF6\", \"gridcolor\": \"white\", \"gridwidth\": 2, \"linecolor\": \"white\", \"showbackground\": true, \"ticks\": \"\", \"zerolinecolor\": \"white\"}, \"yaxis\": {\"backgroundcolor\": \"#E5ECF6\", \"gridcolor\": \"white\", \"gridwidth\": 2, \"linecolor\": \"white\", \"showbackground\": true, \"ticks\": \"\", \"zerolinecolor\": \"white\"}, \"zaxis\": {\"backgroundcolor\": \"#E5ECF6\", \"gridcolor\": \"white\", \"gridwidth\": 2, \"linecolor\": \"white\", \"showbackground\": true, \"ticks\": \"\", \"zerolinecolor\": \"white\"}}, \"shapedefaults\": {\"line\": {\"color\": \"#2a3f5f\"}}, \"ternary\": {\"aaxis\": {\"gridcolor\": \"white\", \"linecolor\": \"white\", \"ticks\": \"\"}, \"baxis\": {\"gridcolor\": \"white\", \"linecolor\": \"white\", \"ticks\": \"\"}, \"bgcolor\": \"#E5ECF6\", \"caxis\": {\"gridcolor\": \"white\", \"linecolor\": \"white\", \"ticks\": \"\"}}, \"title\": {\"x\": 0.05}, \"xaxis\": {\"automargin\": true, \"gridcolor\": \"white\", \"linecolor\": \"white\", \"ticks\": \"\", \"title\": {\"standoff\": 15}, \"zerolinecolor\": \"white\", \"zerolinewidth\": 2}, \"yaxis\": {\"automargin\": true, \"gridcolor\": \"white\", \"linecolor\": \"white\", \"ticks\": \"\", \"title\": {\"standoff\": 15}, \"zerolinecolor\": \"white\", \"zerolinewidth\": 2}}}, \"title\": {\"text\": \"Pressure and Density during NPT Equilibration\"}, \"xaxis\": {\"anchor\": \"y\", \"domain\": [0.0, 0.45], \"title\": {\"text\": \"Time (ps)\"}}, \"xaxis2\": {\"anchor\": \"y2\", \"domain\": [0.55, 1.0], \"title\": {\"text\": \"Time (ps)\"}}, \"yaxis\": {\"anchor\": \"x\", \"domain\": [0.0, 1.0], \"title\": {\"text\": \"Pressure (bar)\"}}, \"yaxis2\": {\"anchor\": \"x2\", \"domain\": [0.0, 1.0], \"title\": {\"text\": \"Density (Kg*m^-3)\"}}},\n",
       "                        {\"responsive\": true}\n",
       "                    ).then(function(){\n",
       "                            \n",
       "var gd = document.getElementById('106ba703-2d7a-4c0f-8bd4-4656a3868dd7');\n",
       "var x = new MutationObserver(function (mutations, observer) {{\n",
       "        var display = window.getComputedStyle(gd).display;\n",
       "        if (!display || display === 'none') {{\n",
       "            console.log([gd, 'removed!']);\n",
       "            Plotly.purge(gd);\n",
       "            observer.disconnect();\n",
       "        }}\n",
       "}});\n",
       "\n",
       "// Listen for the removal of the full notebook cells\n",
       "var notebookContainer = gd.closest('#notebook-container');\n",
       "if (notebookContainer) {{\n",
       "    x.observe(notebookContainer, {childList: true});\n",
       "}}\n",
       "\n",
       "// Listen for the clearing of the current output cell\n",
       "var outputEl = gd.closest('.output');\n",
       "if (outputEl) {{\n",
       "    x.observe(outputEl, {childList: true});\n",
       "}}\n",
       "\n",
       "                        })\n",
       "                };\n",
       "                });\n",
       "            </script>\n",
       "        </div>"
      ]
     },
     "metadata": {},
     "output_type": "display_data"
    }
   ],
   "source": [
    "import plotly\n",
    "from plotly import subplots\n",
    "import plotly.graph_objs as go\n",
    "\n",
    "# Read pressure and density data from file \n",
    "with open(output_eqB_pd_xvg,'r') as pd_file:\n",
    "    x,y,z = map(\n",
    "        list,\n",
    "        zip(*[\n",
    "            (float(line.split()[0]),float(line.split()[1]),float(line.split()[2]))\n",
    "            for line in pd_file \n",
    "            if not line.startswith((\"#\",\"@\")) \n",
    "        ])\n",
    "    )\n",
    "\n",
    "plotly.offline.init_notebook_mode(connected=True)\n",
    "\n",
    "trace1 = go.Scatter(\n",
    "    x=x,y=y\n",
    ")\n",
    "trace2 = go.Scatter(\n",
    "    x=x,y=z\n",
    ")\n",
    "\n",
    "fig = subplots.make_subplots(rows=1, cols=2, print_grid=False)\n",
    "\n",
    "fig.append_trace(trace1, 1, 1)\n",
    "fig.append_trace(trace2, 1, 2)\n",
    "\n",
    "fig['layout']['xaxis1'].update(title='Time (ps)')\n",
    "fig['layout']['xaxis2'].update(title='Time (ps)')\n",
    "fig['layout']['yaxis1'].update(title='Pressure (bar)')\n",
    "fig['layout']['yaxis2'].update(title='Density (Kg*m^-3)')\n",
    "\n",
    "fig['layout'].update(title='Pressure and Density during NPT Equilibration')\n",
    "fig['layout'].update(showlegend=False)\n",
    "\n",
    "plotly.offline.iplot(fig)"
   ]
  },
  {
   "cell_type": "markdown",
   "metadata": {},
   "source": [
    "<a id=\"free\"></a>\n",
    "***\n",
    "## Free Energy Simulation\n",
    "**Alchemical transition (thermodynamic integration)** free energy estimation approach is used with **GROMACS**: **free energy** is switched on, the **initial lambda** is chosen as zero, and **delta-lambda** (per MD step) is set such that at the end of the simulation **lambda** is at 1 (1 / nsteps). The **dhdl files** (dH/dl) written as a result will contain the **work values** required to perform these **transitions**.\n",
    "\n",
    "- [Step 1](#mdStep1): Creating portable binary run file to run the **free energy simulation**.\n",
    "- [Step 2](#mdStep2): Run short MD simulation of the **protein system**.\n",
    "***\n",
    "**Building Blocks** used:\n",
    " - [Grompp](https://biobb-md.readthedocs.io/en/latest/gromacs.html#module-gromacs.grompp) from **biobb_md.gromacs.grompp** \n",
    " - [Mdrun](https://biobb-md.readthedocs.io/en/latest/gromacs.html#module-gromacs.mdrun) from **biobb_md.gromacs.mdrun** \n",
    "***"
   ]
  },
  {
   "cell_type": "markdown",
   "metadata": {},
   "source": [
    "<a id=\"mdStep1\"></a>\n",
    "### Step 1: Creating portable binary run file to run a free energy simulation\n",
    "\n",
    "The **free_energy** type of the **molecular dynamics parameters (mdp) property** contains the main default parameters to run an **free energy simulation** (see [GROMACS mdp options](http://manual.gromacs.org/documentation/2018/user-guide/mdp-options.html)):\n",
    "\n",
    "-  integrator               = md\n",
    "-  dt                       = 0.002 (ps)\n",
    "-  nsteps                   = 5000\n",
    "-  free_energy              = yes\n",
    "-  init_lambda              = 0\n",
    "-  delta_lambda             = 0.0002\n",
    "-  sc-alpha                 = 0\n",
    "-  sc-sigma                 = 0.3\n",
    "\n",
    "In this particular example, the default parameters will be used: **md** integrator algorithm, a **time step** of **2fs**, a total of **5,000 md steps** (10ps), all with the **free energy** flag turned on, with an **intial lambda** of 0 and a **delta lambda** of 0.00002.\n",
    "\n",
    "*Please note that for the sake of time this tutorial is only running 10ps of NPT equilibration, whereas in the [original example](http://pmx.mpibpc.mpg.de/sardinia2018_tutorial1/eq.mdp) the simulated time was 100ps.*"
   ]
  },
  {
   "cell_type": "code",
   "execution_count": 18,
   "metadata": {},
   "outputs": [
    {
     "name": "stderr",
     "output_type": "stream",
     "text": [
      "2020-10-14 11:45:25,162 [MainThread  ] [INFO ]  GROMACS Grompp 20191 version detected\n",
      "2020-10-14 11:45:25,169 [MainThread  ] [INFO ]  Extracting: /home/gbayarri_local/projects/BioBB/tutorials/biobb_wf_pmx_tutorial/biobb_wf_pmx_tutorial/notebooks/pmxA_top.zip\n",
      "2020-10-14 11:45:25,170 [MainThread  ] [INFO ]  to:\n",
      "2020-10-14 11:45:25,170 [MainThread  ] [INFO ]  ['db8873ce-e59c-4efc-9f6a-f5c89122899f/p2g.top', 'db8873ce-e59c-4efc-9f6a-f5c89122899f/pmx_p2g_Ion_chain_C.itp', 'db8873ce-e59c-4efc-9f6a-f5c89122899f/pmx_p2g_Protein_chain_A.itp', 'db8873ce-e59c-4efc-9f6a-f5c89122899f/posre_Ion_chain_C.itp', 'db8873ce-e59c-4efc-9f6a-f5c89122899f/posre_Protein_chain_A.itp']\n",
      "2020-10-14 11:45:25,171 [MainThread  ] [INFO ]  Unzipping: \n",
      "2020-10-14 11:45:25,173 [MainThread  ] [INFO ]  pmxA_top.zip\n",
      "2020-10-14 11:45:25,174 [MainThread  ] [INFO ]  To: \n",
      "2020-10-14 11:45:25,175 [MainThread  ] [INFO ]  db8873ce-e59c-4efc-9f6a-f5c89122899f/p2g.top\n",
      "2020-10-14 11:45:25,176 [MainThread  ] [INFO ]  db8873ce-e59c-4efc-9f6a-f5c89122899f/pmx_p2g_Ion_chain_C.itp\n",
      "2020-10-14 11:45:25,176 [MainThread  ] [INFO ]  db8873ce-e59c-4efc-9f6a-f5c89122899f/pmx_p2g_Protein_chain_A.itp\n",
      "2020-10-14 11:45:25,177 [MainThread  ] [INFO ]  db8873ce-e59c-4efc-9f6a-f5c89122899f/posre_Ion_chain_C.itp\n",
      "2020-10-14 11:45:25,178 [MainThread  ] [INFO ]  db8873ce-e59c-4efc-9f6a-f5c89122899f/posre_Protein_chain_A.itp\n",
      "2020-10-14 11:45:25,180 [MainThread  ] [INFO ]  Will run a free md of 10.0 pico seconds\n",
      "2020-10-14 11:45:25,181 [MainThread  ] [INFO ]  Not using any container\n",
      "2020-10-14 11:45:25,517 [MainThread  ] [INFO ]  gmx -nobackup -nocopyright grompp -f cbd90c1a-3bcc-4f0b-86f6-473fb9245e79/grompp.mdp -c eqoutA.gro -r eqoutA.gro -p db8873ce-e59c-4efc-9f6a-f5c89122899f/p2g.top -o tiA.tpr -po mdout.mdp -maxwarn 10\n",
      "\n",
      "2020-10-14 11:45:25,518 [MainThread  ] [INFO ]  Exit code 0\n",
      "\n",
      "2020-10-14 11:45:25,518 [MainThread  ] [INFO ]  turning H bonds into constraints...\n",
      "turning H bonds into constraints...\n",
      "turning H bonds into constraints...\n",
      "Analysing residue names:\n",
      "There are:   136    Protein residues\n",
      "There are:    74        Ion residues\n",
      "There are: 10948      Water residues\n",
      "Analysing Protein...\n",
      "Analysing residues not classified as Protein/DNA/RNA/Water and splitting into groups...\n",
      "Determining Verlet buffer for a tolerance of 0.005 kJ/mol/ps at 300 K\n",
      "Calculated rlist for 1x1 atom pair-list as 1.035 nm, buffer size 0.035 nm\n",
      "Set rlist, assuming 4x4 atom pair-list, to 1.000 nm, buffer size 0.000 nm\n",
      "Note that mdrun will redetermine rlist based on the actual pair-list setup\n",
      "Calculating fourier grid dimensions for X Y Z\n",
      "Using a fourier grid of 72x72x72, spacing 0.110 0.110 0.110\n",
      "This run will generate roughly 5 Mb of data\n",
      "\n",
      "2020-10-14 11:45:25,519 [MainThread  ] [INFO ]                        :-) GROMACS - gmx grompp, 2019.1 (-:\n",
      "\n",
      "Executable:   /anaconda3/envs/biobb_dev_37/bin/gmx\n",
      "Data prefix:  /anaconda3/envs/biobb_dev_37\n",
      "Working dir:  /home/gbayarri_local/projects/BioBB/tutorials/biobb_wf_pmx_tutorial/biobb_wf_pmx_tutorial/notebooks\n",
      "Command line:\n",
      "  gmx -nobackup -nocopyright grompp -f cbd90c1a-3bcc-4f0b-86f6-473fb9245e79/grompp.mdp -c eqoutA.gro -r eqoutA.gro -p db8873ce-e59c-4efc-9f6a-f5c89122899f/p2g.top -o tiA.tpr -po mdout.mdp -maxwarn 10\n",
      "\n",
      "\n",
      "WARNING 1 [file cbd90c1a-3bcc-4f0b-86f6-473fb9245e79/grompp.mdp, line 73]:\n",
      "  You are using soft-core interactions while the Van der Waals interactions\n",
      "  are not decoupled (note that the sc-coul option is only active when using\n",
      "  lambda states). Although this will not lead to errors, you will need much\n",
      "  more sampling than without soft-core interactions. Consider using\n",
      "  sc-alpha=0.\n",
      "\n",
      "\n",
      "NOTE 1 [file cbd90c1a-3bcc-4f0b-86f6-473fb9245e79/grompp.mdp]:\n",
      "  Setting nstcalcenergy (100) equal to nstdhdl (50)\n",
      "\n",
      "\n",
      "NOTE 2 [file cbd90c1a-3bcc-4f0b-86f6-473fb9245e79/grompp.mdp]:\n",
      "  With PME there is a minor soft core effect present at the cut-off,\n",
      "  proportional to (LJsigma/rcoulomb)^6. This could have a minor effect on\n",
      "  energy conservation, but usually other effects dominate. With a common\n",
      "  sigma value of 0.34 nm the fraction of the particle-particle potential at\n",
      "  the cut-off at lambda=0.5 is around 3.9e-05, while ewald-rtol is 1.0e-05.\n",
      "\n",
      "Setting the LD random seed to 2047306754\n",
      "Generated 5253 of the 5253 non-bonded parameter combinations\n",
      "Generating 1-4 interactions: fudge = 0.5\n",
      "Generated 5253 of the 5253 1-4 parameter combinations\n",
      "Excluding 3 bonded neighbours molecule type 'Protein_chain_A'\n",
      "Excluding 3 bonded neighbours molecule type 'Ion_chain_C'\n",
      "Excluding 2 bonded neighbours molecule type 'SOL'\n",
      "Excluding 2 bonded neighbours molecule type 'SOL'\n",
      "Removing all charge groups because cutoff-scheme=Verlet\n",
      "\n",
      "NOTE 3 [file p2g.top, line 24]:\n",
      "  In moleculetype 'Ion_chain_C' 74 atoms are not bound by a potential or\n",
      "  constraint to any other atom in the same moleculetype. Although\n",
      "  technically this might not cause issues in a simulation, this often means\n",
      "  that the user forgot to add a bond/potential/constraint or put multiple\n",
      "  molecules in the same moleculetype definition by mistake. Run with -v to\n",
      "  get information for each atom.\n",
      "\n",
      "Number of degrees of freedom in T-Coupling group Protein is 5543.77\n",
      "Number of degrees of freedom in T-Coupling group non-Protein is 65907.23\n",
      "Estimate for the relative computational load of the PME mesh part: 0.34\n",
      "\n",
      "There were 3 notes\n",
      "\n",
      "There was 1 warning\n",
      "\n",
      "GROMACS reminds you: \"Philosophy of science is about as useful to scientists as ornithology is to birds.\" (Richard Feynman)\n",
      "\n",
      "\n",
      "2020-10-14 11:45:25,520 [MainThread  ] [INFO ]  Removed: ['mdout.mdp', 'db8873ce-e59c-4efc-9f6a-f5c89122899f', 'cbd90c1a-3bcc-4f0b-86f6-473fb9245e79']\n",
      "2020-10-14 11:45:25,540 [MainThread  ] [INFO ]  GROMACS Grompp 20191 version detected\n",
      "2020-10-14 11:45:25,545 [MainThread  ] [INFO ]  Extracting: /home/gbayarri_local/projects/BioBB/tutorials/biobb_wf_pmx_tutorial/biobb_wf_pmx_tutorial/notebooks/pmxB_top.zip\n",
      "2020-10-14 11:45:25,545 [MainThread  ] [INFO ]  to:\n",
      "2020-10-14 11:45:25,546 [MainThread  ] [INFO ]  ['624b9be7-1fce-412b-b38c-0b0fb91807e1/p2g.top', '624b9be7-1fce-412b-b38c-0b0fb91807e1/pmx_p2g_Ion_chain_C.itp', '624b9be7-1fce-412b-b38c-0b0fb91807e1/pmx_p2g_Protein_chain_A.itp', '624b9be7-1fce-412b-b38c-0b0fb91807e1/posre_Ion_chain_C.itp', '624b9be7-1fce-412b-b38c-0b0fb91807e1/posre_Protein_chain_A.itp']\n",
      "2020-10-14 11:45:25,546 [MainThread  ] [INFO ]  Unzipping: \n",
      "2020-10-14 11:45:25,547 [MainThread  ] [INFO ]  pmxB_top.zip\n",
      "2020-10-14 11:45:25,548 [MainThread  ] [INFO ]  To: \n",
      "2020-10-14 11:45:25,548 [MainThread  ] [INFO ]  624b9be7-1fce-412b-b38c-0b0fb91807e1/p2g.top\n",
      "2020-10-14 11:45:25,551 [MainThread  ] [INFO ]  624b9be7-1fce-412b-b38c-0b0fb91807e1/pmx_p2g_Ion_chain_C.itp\n",
      "2020-10-14 11:45:25,551 [MainThread  ] [INFO ]  624b9be7-1fce-412b-b38c-0b0fb91807e1/pmx_p2g_Protein_chain_A.itp\n",
      "2020-10-14 11:45:25,552 [MainThread  ] [INFO ]  624b9be7-1fce-412b-b38c-0b0fb91807e1/posre_Ion_chain_C.itp\n",
      "2020-10-14 11:45:25,554 [MainThread  ] [INFO ]  624b9be7-1fce-412b-b38c-0b0fb91807e1/posre_Protein_chain_A.itp\n",
      "2020-10-14 11:45:25,559 [MainThread  ] [INFO ]  Will run a free md of 10.0 pico seconds\n",
      "2020-10-14 11:45:25,561 [MainThread  ] [INFO ]  Not using any container\n",
      "2020-10-14 11:45:25,892 [MainThread  ] [INFO ]  gmx -nobackup -nocopyright grompp -f 9a9b908c-ed15-4185-a6d9-001b88bf7ab2/grompp.mdp -c eqoutB.gro -r eqoutB.gro -p 624b9be7-1fce-412b-b38c-0b0fb91807e1/p2g.top -o tiB.tpr -po mdout.mdp -maxwarn 10\n",
      "\n",
      "2020-10-14 11:45:25,893 [MainThread  ] [INFO ]  Exit code 0\n",
      "\n",
      "2020-10-14 11:45:25,893 [MainThread  ] [INFO ]  turning H bonds into constraints...\n",
      "turning H bonds into constraints...\n",
      "turning H bonds into constraints...\n",
      "Analysing residue names:\n",
      "There are:   136    Protein residues\n",
      "There are:    74        Ion residues\n",
      "There are: 10949      Water residues\n",
      "Analysing Protein...\n",
      "Analysing residues not classified as Protein/DNA/RNA/Water and splitting into groups...\n",
      "Determining Verlet buffer for a tolerance of 0.005 kJ/mol/ps at 300 K\n",
      "Calculated rlist for 1x1 atom pair-list as 1.035 nm, buffer size 0.035 nm\n",
      "Set rlist, assuming 4x4 atom pair-list, to 1.000 nm, buffer size 0.000 nm\n",
      "Note that mdrun will redetermine rlist based on the actual pair-list setup\n",
      "Calculating fourier grid dimensions for X Y Z\n",
      "Using a fourier grid of 72x72x72, spacing 0.110 0.110 0.110\n",
      "This run will generate roughly 5 Mb of data\n",
      "\n"
     ]
    },
    {
     "name": "stderr",
     "output_type": "stream",
     "text": [
      "2020-10-14 11:45:25,894 [MainThread  ] [INFO ]                        :-) GROMACS - gmx grompp, 2019.1 (-:\n",
      "\n",
      "Executable:   /anaconda3/envs/biobb_dev_37/bin/gmx\n",
      "Data prefix:  /anaconda3/envs/biobb_dev_37\n",
      "Working dir:  /home/gbayarri_local/projects/BioBB/tutorials/biobb_wf_pmx_tutorial/biobb_wf_pmx_tutorial/notebooks\n",
      "Command line:\n",
      "  gmx -nobackup -nocopyright grompp -f 9a9b908c-ed15-4185-a6d9-001b88bf7ab2/grompp.mdp -c eqoutB.gro -r eqoutB.gro -p 624b9be7-1fce-412b-b38c-0b0fb91807e1/p2g.top -o tiB.tpr -po mdout.mdp -maxwarn 10\n",
      "\n",
      "\n",
      "WARNING 1 [file 9a9b908c-ed15-4185-a6d9-001b88bf7ab2/grompp.mdp, line 73]:\n",
      "  You are using soft-core interactions while the Van der Waals interactions\n",
      "  are not decoupled (note that the sc-coul option is only active when using\n",
      "  lambda states). Although this will not lead to errors, you will need much\n",
      "  more sampling than without soft-core interactions. Consider using\n",
      "  sc-alpha=0.\n",
      "\n",
      "\n",
      "NOTE 1 [file 9a9b908c-ed15-4185-a6d9-001b88bf7ab2/grompp.mdp]:\n",
      "  Setting nstcalcenergy (100) equal to nstdhdl (50)\n",
      "\n",
      "\n",
      "NOTE 2 [file 9a9b908c-ed15-4185-a6d9-001b88bf7ab2/grompp.mdp]:\n",
      "  With PME there is a minor soft core effect present at the cut-off,\n",
      "  proportional to (LJsigma/rcoulomb)^6. This could have a minor effect on\n",
      "  energy conservation, but usually other effects dominate. With a common\n",
      "  sigma value of 0.34 nm the fraction of the particle-particle potential at\n",
      "  the cut-off at lambda=0.5 is around 3.9e-05, while ewald-rtol is 1.0e-05.\n",
      "\n",
      "Setting the LD random seed to 887167989\n",
      "Generated 5253 of the 5253 non-bonded parameter combinations\n",
      "Generating 1-4 interactions: fudge = 0.5\n",
      "Generated 5253 of the 5253 1-4 parameter combinations\n",
      "Excluding 3 bonded neighbours molecule type 'Protein_chain_A'\n",
      "Excluding 3 bonded neighbours molecule type 'Ion_chain_C'\n",
      "Excluding 2 bonded neighbours molecule type 'SOL'\n",
      "Excluding 2 bonded neighbours molecule type 'SOL'\n",
      "Removing all charge groups because cutoff-scheme=Verlet\n",
      "\n",
      "NOTE 3 [file p2g.top, line 24]:\n",
      "  In moleculetype 'Ion_chain_C' 74 atoms are not bound by a potential or\n",
      "  constraint to any other atom in the same moleculetype. Although\n",
      "  technically this might not cause issues in a simulation, this often means\n",
      "  that the user forgot to add a bond/potential/constraint or put multiple\n",
      "  molecules in the same moleculetype definition by mistake. Run with -v to\n",
      "  get information for each atom.\n",
      "\n",
      "\n",
      "NOTE 4 [file p2g.top, line 24]:\n",
      "  The bond in molecule-type Protein_chain_A between atoms 170 DCD1 and 171\n",
      "  DHD1 has an estimated oscillational period of 1.1e-02 ps, which is less\n",
      "  than 10 times the time step of 2.0e-03 ps.\n",
      "  Maybe you forgot to change the constraints mdp option.\n",
      "\n",
      "Number of degrees of freedom in T-Coupling group Protein is 5543.77\n",
      "Number of degrees of freedom in T-Coupling group non-Protein is 65913.23\n",
      "Estimate for the relative computational load of the PME mesh part: 0.34\n",
      "\n",
      "There were 4 notes\n",
      "\n",
      "There was 1 warning\n",
      "\n",
      "GROMACS reminds you: \"On average, it takes twenty years for the world's largest super computer to shrink down to the size of your laptop.\" (Pete Beckman)\n",
      "\n",
      "\n",
      "2020-10-14 11:45:25,896 [MainThread  ] [INFO ]  Removed: ['mdout.mdp', '624b9be7-1fce-412b-b38c-0b0fb91807e1', '9a9b908c-ed15-4185-a6d9-001b88bf7ab2']\n"
     ]
    },
    {
     "data": {
      "text/plain": [
       "0"
      ]
     },
     "execution_count": 18,
     "metadata": {},
     "output_type": "execute_result"
    }
   ],
   "source": [
    "# Grompp: Creating portable binary run file for thermodynamic integration (TI)\n",
    "from biobb_md.gromacs.grompp import Grompp\n",
    "\n",
    "#### State A (WT->Mut) ####\n",
    "\n",
    "# Create prop dict and inputs/outputs\n",
    "output_tprA_ti = 'tiA.tpr'\n",
    "\n",
    "prop = {\n",
    "    'gmxlib' : gmxlib,\n",
    "    'mdp':{\n",
    "        'type': 'free',\n",
    "        'nsteps':'5000',\n",
    "        'free_energy' : 'yes',\n",
    "        'init-lambda' : '0',\n",
    "        'delta-lambda' : '2e-4',\n",
    "        'sc-alpha' : '0.3',\n",
    "        'sc-coul' : 'yes',\n",
    "        'sc-sigma' : '0.25'\n",
    "    }\n",
    "}\n",
    "\n",
    "# Create and launch bb\n",
    "Grompp(input_gro_path=output_eqA_gro,\n",
    "       input_top_zip_path=output_pmxtopA_top_zip,\n",
    "       output_tpr_path=output_tprA_ti,\n",
    "       properties=prop).launch()\n",
    "\n",
    "#### State B (Mut->WT) ####\n",
    "\n",
    "# Create prop dict and inputs/outputs\n",
    "output_tprB_ti = 'tiB.tpr'\n",
    "\n",
    "prop = {\n",
    "    'gmxlib' : gmxlib,\n",
    "    'mdp':{\n",
    "        'type': 'free',\n",
    "        'nsteps':'5000',\n",
    "        'free_energy' : 'yes',\n",
    "        'init-lambda' : '0',\n",
    "        'delta-lambda' : '4e-5',\n",
    "        'sc-alpha' : '0.3',\n",
    "        'sc-coul' : 'yes',\n",
    "        'sc-sigma' : '0.25'\n",
    "    }\n",
    "}\n",
    "\n",
    "# Create and launch bb\n",
    "Grompp(input_gro_path=output_eqB_gro,\n",
    "       input_top_zip_path=output_pmxtopB_top_zip,\n",
    "       output_tpr_path=output_tprB_ti,\n",
    "       properties=prop).launch()\n"
   ]
  },
  {
   "cell_type": "markdown",
   "metadata": {},
   "source": [
    "<a id=\"mdStep2\"></a>\n",
    "### Step 2: Running free energy simulation"
   ]
  },
  {
   "cell_type": "code",
   "execution_count": 19,
   "metadata": {},
   "outputs": [
    {
     "name": "stderr",
     "output_type": "stream",
     "text": [
      "2020-10-14 11:45:27,976 [MainThread  ] [INFO ]  GROMACS Mdrun 20191 version detected\n",
      "2020-10-14 11:45:27,977 [MainThread  ] [INFO ]  Not using any container\n",
      "2020-10-14 11:47:37,212 [MainThread  ] [INFO ]  gmx -nobackup -nocopyright mdrun -s tiA.tpr -o tiA.trr -c tiA.gro -e tiA.edr -g tiA.log -nt 0 -dhdl tiA.dhdl\n",
      "\n",
      "2020-10-14 11:47:37,213 [MainThread  ] [INFO ]  Exit code 0\n",
      "\n",
      "2020-10-14 11:47:37,214 [MainThread  ] [INFO ]                        :-) GROMACS - gmx mdrun, 2019.1 (-:\n",
      "\n",
      "Executable:   /anaconda3/envs/biobb_dev_37/bin/gmx\n",
      "Data prefix:  /anaconda3/envs/biobb_dev_37\n",
      "Working dir:  /home/gbayarri_local/projects/BioBB/tutorials/biobb_wf_pmx_tutorial/biobb_wf_pmx_tutorial/notebooks\n",
      "Command line:\n",
      "  gmx -nobackup -nocopyright mdrun -s tiA.tpr -o tiA.trr -c tiA.gro -e tiA.edr -g tiA.log -nt 0 -dhdl tiA.dhdl\n",
      "\n",
      "Compiled SIMD: SSE2, but for this host/run AVX2_256 might be better (see log).\n",
      "The current CPU can measure timings more accurately than the code in\n",
      "gmx mdrun was configured to use. This might affect your simulation\n",
      "speed as accurate timings are needed for load-balancing.\n",
      "Please consider rebuilding gmx mdrun with the GMX_USE_RDTSCP=ON CMake option.\n",
      "Reading file tiA.tpr, VERSION 2019.1 (single precision)\n",
      "Changing nstlist from 10 to 50, rlist from 1 to 1.116\n",
      "\n",
      "\n",
      "Using 1 MPI thread\n",
      "Using 8 OpenMP threads \n",
      "\n",
      "starting mdrun 'PMX MODEL'\n",
      "5000 steps,     10.0 ps.\n",
      "\n",
      "Writing final coordinates.\n",
      "\n",
      "               Core t (s)   Wall t (s)        (%)\n",
      "       Time:     1017.218      127.152      800.0\n",
      "                 (ns/day)    (hour/ns)\n",
      "Performance:        6.796        3.531\n",
      "\n",
      "GROMACS reminds you: \"Suzy is a headbanger, her mother is a geek\" (The Ramones)\n",
      "\n",
      "\n",
      "2020-10-14 11:47:37,215 [MainThread  ] [INFO ]  Removed: []\n",
      "2020-10-14 11:47:37,235 [MainThread  ] [INFO ]  GROMACS Mdrun 20191 version detected\n",
      "2020-10-14 11:47:37,237 [MainThread  ] [INFO ]  Not using any container\n",
      "2020-10-14 11:49:34,842 [MainThread  ] [INFO ]  gmx -nobackup -nocopyright mdrun -s tiB.tpr -o tiB.trr -c tiB.gro -e tiB.edr -g tiB.log -nt 0 -dhdl tiB.dhdl\n",
      "\n",
      "2020-10-14 11:49:34,843 [MainThread  ] [INFO ]  Exit code 0\n",
      "\n",
      "2020-10-14 11:49:34,844 [MainThread  ] [INFO ]                        :-) GROMACS - gmx mdrun, 2019.1 (-:\n",
      "\n",
      "Executable:   /anaconda3/envs/biobb_dev_37/bin/gmx\n",
      "Data prefix:  /anaconda3/envs/biobb_dev_37\n",
      "Working dir:  /home/gbayarri_local/projects/BioBB/tutorials/biobb_wf_pmx_tutorial/biobb_wf_pmx_tutorial/notebooks\n",
      "Command line:\n",
      "  gmx -nobackup -nocopyright mdrun -s tiB.tpr -o tiB.trr -c tiB.gro -e tiB.edr -g tiB.log -nt 0 -dhdl tiB.dhdl\n",
      "\n",
      "Compiled SIMD: SSE2, but for this host/run AVX2_256 might be better (see log).\n",
      "The current CPU can measure timings more accurately than the code in\n",
      "gmx mdrun was configured to use. This might affect your simulation\n",
      "speed as accurate timings are needed for load-balancing.\n",
      "Please consider rebuilding gmx mdrun with the GMX_USE_RDTSCP=ON CMake option.\n",
      "Reading file tiB.tpr, VERSION 2019.1 (single precision)\n",
      "Changing nstlist from 10 to 50, rlist from 1 to 1.115\n",
      "\n",
      "\n",
      "Using 1 MPI thread\n",
      "Using 8 OpenMP threads \n",
      "\n",
      "starting mdrun 'PMX MODEL'\n",
      "5000 steps,     10.0 ps.\n",
      "\n",
      "Writing final coordinates.\n",
      "\n",
      "               Core t (s)   Wall t (s)        (%)\n",
      "       Time:      923.995      115.500      800.0\n",
      "                 (ns/day)    (hour/ns)\n",
      "Performance:        7.482        3.208\n",
      "\n",
      "GROMACS reminds you: \"The great tragedy of science - the slaying of a beautiful hypothesis by an ugly fact.\" (Thomas Henry Huxley)\n",
      "\n",
      "\n",
      "2020-10-14 11:49:34,845 [MainThread  ] [INFO ]  Removed: []\n"
     ]
    },
    {
     "data": {
      "text/plain": [
       "0"
      ]
     },
     "execution_count": 19,
     "metadata": {},
     "output_type": "execute_result"
    }
   ],
   "source": [
    "# Mdrun: Running equilibration\n",
    "from biobb_md.gromacs.mdrun import Mdrun\n",
    "\n",
    "#### State A (WT->Mut) ####\n",
    "\n",
    "# Create prop dict and inputs/outputs\n",
    "output_tiA_trr = 'tiA.trr'\n",
    "output_tiA_gro = 'tiA.gro'\n",
    "output_tiA_edr = 'tiA.edr'\n",
    "output_tiA_log = 'tiA.log'\n",
    "output_tiA_dhdl = 'tiA.dhdl'\n",
    "\n",
    "# Create and launch bb\n",
    "Mdrun(input_tpr_path=output_tprA_ti,\n",
    "      output_trr_path=output_tiA_trr,\n",
    "      output_gro_path=output_tiA_gro,\n",
    "      output_edr_path=output_tiA_edr,\n",
    "      output_log_path=output_tiA_log,\n",
    "      output_dhdl_path=output_tiA_dhdl).launch()\n",
    "\n",
    "#### State B (Mut->WT) ####\n",
    "\n",
    "# Create prop dict and inputs/outputs\n",
    "output_tiB_trr = 'tiB.trr'\n",
    "output_tiB_gro = 'tiB.gro'\n",
    "output_tiB_edr = 'tiB.edr'\n",
    "output_tiB_log = 'tiB.log'\n",
    "output_tiB_dhdl = 'tiB.dhdl'\n",
    "\n",
    "# Create and launch bb\n",
    "Mdrun(input_tpr_path=output_tprB_ti,\n",
    "      output_trr_path=output_tiB_trr,\n",
    "      output_gro_path=output_tiB_gro,\n",
    "      output_edr_path=output_tiB_edr,\n",
    "      output_log_path=output_tiB_log,\n",
    "      output_dhdl_path=output_tiB_dhdl).launch()"
   ]
  },
  {
   "cell_type": "markdown",
   "metadata": {},
   "source": [
    "<a id=\"post\"></a>\n",
    "***\n",
    "## Free Energy Estimation\n",
    "The **Fast Growth TI** approach relies on **Jarzynski's equality** (when transition is performed in one direction only) or on the **Crooks Fluctuation Theorem** or the **Bennett Acceptance Ratio** (when the transitions are performed in both directions). \n",
    "\n",
    "**Workflow-generated results** should be used if a **minimum number of transitions** are calculated. In this particular case, as the tutorial is just computing 1 transition (forward + reverse), the number of work values computed are **not enough to extract the free energy**. Instead, we will use values taken from a **real run** of the snase example that can be found in the [pmx web page](http://pmx.mpibpc.mpg.de/sardinia2018_tutorial1/index.html).\n",
    "\n",
    "- [Step 1](#tiStep1): Gathering together all the generated **dhdl files** (work values required to perform the transitions).\n",
    "- [Step 2](#tiStep2): Compute the **free energy** using **Jarzynski's equality**, **Crooks Fluctuation Theorem** and  **Bennett Acceptance Ratio** with pmx.\n",
    "\n",
    "*Note:* This tutorial is using a **Docker container** to run **pmx**. To use a local installation of **pmx**, just modify the appropriate properties parameter **pmx_cli_path**. \n",
    "***\n",
    "**Building Blocks** used:\n",
    " - [Pmxanalyse](https://biobb-pmx.readthedocs.io/en/latest/pmx.html#module-pmx.pmxanalyse) from **biobb_pmx.pmx.pmxanalyse** \n",
    "***"
   ]
  },
  {
   "cell_type": "markdown",
   "metadata": {},
   "source": [
    "<a id=\"tiStep1\"></a>\n",
    "### Step 1: Gathering together all the generated **dhdl files**\n",
    "Gathering together all the generated **dhdl files** (work values required to perform the transitions). To be used as input for the final pmx free energy estimation."
   ]
  },
  {
   "cell_type": "code",
   "execution_count": 20,
   "metadata": {},
   "outputs": [],
   "source": [
    "# Gathering together all the generated dhdl files (work values required to perform the transitions) \n",
    "# from the free energy simulations.\n",
    "# To be used as input for the final pmx free energy estimation.\n",
    "\n",
    "#### State A (WT->Mut) ####\n",
    "\n",
    "zf = zipfile.ZipFile('dhdlsA.zip', mode='w')\n",
    "\n",
    "for file in os.listdir(os.getcwd()):\n",
    "    if file.endswith(\"A.dhdl.xvg\"):\n",
    "            zf.write(file)\n",
    "zf.close()\n",
    "\n",
    "#### State B (Mut->WT) ####\n",
    "\n",
    "zf = zipfile.ZipFile('dhdlsB.zip', mode='w')\n",
    "\n",
    "for file in os.listdir(os.getcwd()):\n",
    "    if file.endswith(\"B.dhdl.xvg\"):\n",
    "            zf.write(file)\n",
    "zf.close()"
   ]
  },
  {
   "cell_type": "markdown",
   "metadata": {},
   "source": [
    "<a id=\"tiStep2\"></a>\n",
    "### Step 2: Compute the free energy estimation\n",
    "Compute the **free energy** using **Jarzynski's equality**, **Crooks Fluctuation Theorem** and **Bennett Acceptance Ratio** with pmx."
   ]
  },
  {
   "cell_type": "code",
   "execution_count": 21,
   "metadata": {},
   "outputs": [
    {
     "name": "stderr",
     "output_type": "stream",
     "text": [
      "2020-10-14 11:49:42,002 [MainThread  ] [INFO ]  Extracting: /home/gbayarri_local/projects/BioBB/tutorials/biobb_wf_pmx_tutorial/biobb_wf_pmx_tutorial/notebooks/pmx_tutorial/dhdlA.zip\n",
      "2020-10-14 11:49:42,003 [MainThread  ] [INFO ]  to:\n",
      "2020-10-14 11:49:42,003 [MainThread  ] [INFO ]  ['47103fe8-d06b-4eb9-a3ec-56907b987b41/stateA/frame0/dhdl0.xvg', '47103fe8-d06b-4eb9-a3ec-56907b987b41/stateA/frame1/dhdl1.xvg', '47103fe8-d06b-4eb9-a3ec-56907b987b41/stateA/frame10/dhdl10.xvg', '47103fe8-d06b-4eb9-a3ec-56907b987b41/stateA/frame11/dhdl11.xvg', '47103fe8-d06b-4eb9-a3ec-56907b987b41/stateA/frame12/dhdl12.xvg', '47103fe8-d06b-4eb9-a3ec-56907b987b41/stateA/frame13/dhdl13.xvg', '47103fe8-d06b-4eb9-a3ec-56907b987b41/stateA/frame14/dhdl14.xvg', '47103fe8-d06b-4eb9-a3ec-56907b987b41/stateA/frame15/dhdl15.xvg', '47103fe8-d06b-4eb9-a3ec-56907b987b41/stateA/frame16/dhdl16.xvg', '47103fe8-d06b-4eb9-a3ec-56907b987b41/stateA/frame17/dhdl17.xvg', '47103fe8-d06b-4eb9-a3ec-56907b987b41/stateA/frame18/dhdl18.xvg', '47103fe8-d06b-4eb9-a3ec-56907b987b41/stateA/frame19/dhdl19.xvg', '47103fe8-d06b-4eb9-a3ec-56907b987b41/stateA/frame2/dhdl2.xvg', '47103fe8-d06b-4eb9-a3ec-56907b987b41/stateA/frame20/dhdl20.xvg', '47103fe8-d06b-4eb9-a3ec-56907b987b41/stateA/frame21/dhdl21.xvg', '47103fe8-d06b-4eb9-a3ec-56907b987b41/stateA/frame22/dhdl22.xvg', '47103fe8-d06b-4eb9-a3ec-56907b987b41/stateA/frame23/dhdl23.xvg', '47103fe8-d06b-4eb9-a3ec-56907b987b41/stateA/frame24/dhdl24.xvg', '47103fe8-d06b-4eb9-a3ec-56907b987b41/stateA/frame25/dhdl25.xvg', '47103fe8-d06b-4eb9-a3ec-56907b987b41/stateA/frame26/dhdl26.xvg', '47103fe8-d06b-4eb9-a3ec-56907b987b41/stateA/frame27/dhdl27.xvg', '47103fe8-d06b-4eb9-a3ec-56907b987b41/stateA/frame28/dhdl28.xvg', '47103fe8-d06b-4eb9-a3ec-56907b987b41/stateA/frame29/dhdl29.xvg', '47103fe8-d06b-4eb9-a3ec-56907b987b41/stateA/frame3/dhdl3.xvg', '47103fe8-d06b-4eb9-a3ec-56907b987b41/stateA/frame30/dhdl30.xvg', '47103fe8-d06b-4eb9-a3ec-56907b987b41/stateA/frame31/dhdl31.xvg', '47103fe8-d06b-4eb9-a3ec-56907b987b41/stateA/frame32/dhdl32.xvg', '47103fe8-d06b-4eb9-a3ec-56907b987b41/stateA/frame33/dhdl33.xvg', '47103fe8-d06b-4eb9-a3ec-56907b987b41/stateA/frame34/dhdl34.xvg', '47103fe8-d06b-4eb9-a3ec-56907b987b41/stateA/frame35/dhdl35.xvg', '47103fe8-d06b-4eb9-a3ec-56907b987b41/stateA/frame36/dhdl36.xvg', '47103fe8-d06b-4eb9-a3ec-56907b987b41/stateA/frame37/dhdl37.xvg', '47103fe8-d06b-4eb9-a3ec-56907b987b41/stateA/frame38/dhdl38.xvg', '47103fe8-d06b-4eb9-a3ec-56907b987b41/stateA/frame39/dhdl39.xvg', '47103fe8-d06b-4eb9-a3ec-56907b987b41/stateA/frame4/dhdl4.xvg', '47103fe8-d06b-4eb9-a3ec-56907b987b41/stateA/frame40/dhdl40.xvg', '47103fe8-d06b-4eb9-a3ec-56907b987b41/stateA/frame41/dhdl41.xvg', '47103fe8-d06b-4eb9-a3ec-56907b987b41/stateA/frame42/dhdl42.xvg', '47103fe8-d06b-4eb9-a3ec-56907b987b41/stateA/frame43/dhdl43.xvg', '47103fe8-d06b-4eb9-a3ec-56907b987b41/stateA/frame44/dhdl44.xvg', '47103fe8-d06b-4eb9-a3ec-56907b987b41/stateA/frame45/dhdl45.xvg', '47103fe8-d06b-4eb9-a3ec-56907b987b41/stateA/frame46/dhdl46.xvg', '47103fe8-d06b-4eb9-a3ec-56907b987b41/stateA/frame47/dhdl47.xvg', '47103fe8-d06b-4eb9-a3ec-56907b987b41/stateA/frame48/dhdl48.xvg', '47103fe8-d06b-4eb9-a3ec-56907b987b41/stateA/frame49/dhdl49.xvg', '47103fe8-d06b-4eb9-a3ec-56907b987b41/stateA/frame5/dhdl5.xvg', '47103fe8-d06b-4eb9-a3ec-56907b987b41/stateA/frame50/dhdl50.xvg', '47103fe8-d06b-4eb9-a3ec-56907b987b41/stateA/frame51/dhdl51.xvg', '47103fe8-d06b-4eb9-a3ec-56907b987b41/stateA/frame52/dhdl52.xvg', '47103fe8-d06b-4eb9-a3ec-56907b987b41/stateA/frame53/dhdl53.xvg', '47103fe8-d06b-4eb9-a3ec-56907b987b41/stateA/frame54/dhdl54.xvg', '47103fe8-d06b-4eb9-a3ec-56907b987b41/stateA/frame55/dhdl55.xvg', '47103fe8-d06b-4eb9-a3ec-56907b987b41/stateA/frame56/dhdl56.xvg', '47103fe8-d06b-4eb9-a3ec-56907b987b41/stateA/frame57/dhdl57.xvg', '47103fe8-d06b-4eb9-a3ec-56907b987b41/stateA/frame58/dhdl58.xvg', '47103fe8-d06b-4eb9-a3ec-56907b987b41/stateA/frame59/dhdl59.xvg', '47103fe8-d06b-4eb9-a3ec-56907b987b41/stateA/frame6/dhdl6.xvg', '47103fe8-d06b-4eb9-a3ec-56907b987b41/stateA/frame60/dhdl60.xvg', '47103fe8-d06b-4eb9-a3ec-56907b987b41/stateA/frame61/dhdl61.xvg', '47103fe8-d06b-4eb9-a3ec-56907b987b41/stateA/frame62/dhdl62.xvg', '47103fe8-d06b-4eb9-a3ec-56907b987b41/stateA/frame63/dhdl63.xvg', '47103fe8-d06b-4eb9-a3ec-56907b987b41/stateA/frame64/dhdl64.xvg', '47103fe8-d06b-4eb9-a3ec-56907b987b41/stateA/frame65/dhdl65.xvg', '47103fe8-d06b-4eb9-a3ec-56907b987b41/stateA/frame66/dhdl66.xvg', '47103fe8-d06b-4eb9-a3ec-56907b987b41/stateA/frame67/dhdl67.xvg', '47103fe8-d06b-4eb9-a3ec-56907b987b41/stateA/frame68/dhdl68.xvg', '47103fe8-d06b-4eb9-a3ec-56907b987b41/stateA/frame69/dhdl69.xvg', '47103fe8-d06b-4eb9-a3ec-56907b987b41/stateA/frame7/dhdl7.xvg', '47103fe8-d06b-4eb9-a3ec-56907b987b41/stateA/frame70/dhdl70.xvg', '47103fe8-d06b-4eb9-a3ec-56907b987b41/stateA/frame71/dhdl71.xvg', '47103fe8-d06b-4eb9-a3ec-56907b987b41/stateA/frame72/dhdl72.xvg', '47103fe8-d06b-4eb9-a3ec-56907b987b41/stateA/frame73/dhdl73.xvg', '47103fe8-d06b-4eb9-a3ec-56907b987b41/stateA/frame74/dhdl74.xvg', '47103fe8-d06b-4eb9-a3ec-56907b987b41/stateA/frame75/dhdl75.xvg', '47103fe8-d06b-4eb9-a3ec-56907b987b41/stateA/frame76/dhdl76.xvg', '47103fe8-d06b-4eb9-a3ec-56907b987b41/stateA/frame77/dhdl77.xvg', '47103fe8-d06b-4eb9-a3ec-56907b987b41/stateA/frame78/dhdl78.xvg', '47103fe8-d06b-4eb9-a3ec-56907b987b41/stateA/frame79/dhdl79.xvg', '47103fe8-d06b-4eb9-a3ec-56907b987b41/stateA/frame8/dhdl8.xvg', '47103fe8-d06b-4eb9-a3ec-56907b987b41/stateA/frame80/dhdl80.xvg', '47103fe8-d06b-4eb9-a3ec-56907b987b41/stateA/frame81/dhdl81.xvg', '47103fe8-d06b-4eb9-a3ec-56907b987b41/stateA/frame82/dhdl82.xvg', '47103fe8-d06b-4eb9-a3ec-56907b987b41/stateA/frame83/dhdl83.xvg', '47103fe8-d06b-4eb9-a3ec-56907b987b41/stateA/frame84/dhdl84.xvg', '47103fe8-d06b-4eb9-a3ec-56907b987b41/stateA/frame85/dhdl85.xvg', '47103fe8-d06b-4eb9-a3ec-56907b987b41/stateA/frame86/dhdl86.xvg', '47103fe8-d06b-4eb9-a3ec-56907b987b41/stateA/frame87/dhdl87.xvg', '47103fe8-d06b-4eb9-a3ec-56907b987b41/stateA/frame88/dhdl88.xvg', '47103fe8-d06b-4eb9-a3ec-56907b987b41/stateA/frame89/dhdl89.xvg', '47103fe8-d06b-4eb9-a3ec-56907b987b41/stateA/frame9/dhdl9.xvg', '47103fe8-d06b-4eb9-a3ec-56907b987b41/stateA/frame90/dhdl90.xvg', '47103fe8-d06b-4eb9-a3ec-56907b987b41/stateA/frame91/dhdl91.xvg', '47103fe8-d06b-4eb9-a3ec-56907b987b41/stateA/frame92/dhdl92.xvg', '47103fe8-d06b-4eb9-a3ec-56907b987b41/stateA/frame93/dhdl93.xvg', '47103fe8-d06b-4eb9-a3ec-56907b987b41/stateA/frame94/dhdl94.xvg', '47103fe8-d06b-4eb9-a3ec-56907b987b41/stateA/frame95/dhdl95.xvg', '47103fe8-d06b-4eb9-a3ec-56907b987b41/stateA/frame96/dhdl96.xvg', '47103fe8-d06b-4eb9-a3ec-56907b987b41/stateA/frame97/dhdl97.xvg', '47103fe8-d06b-4eb9-a3ec-56907b987b41/stateA/frame98/dhdl98.xvg', '47103fe8-d06b-4eb9-a3ec-56907b987b41/stateA/frame99/dhdl99.xvg']\n",
      "2020-10-14 11:49:42,396 [MainThread  ] [INFO ]  Extracting: /home/gbayarri_local/projects/BioBB/tutorials/biobb_wf_pmx_tutorial/biobb_wf_pmx_tutorial/notebooks/pmx_tutorial/dhdlB.zip\n",
      "2020-10-14 11:49:42,397 [MainThread  ] [INFO ]  to:\n",
      "2020-10-14 11:49:42,397 [MainThread  ] [INFO ]  ['fe86ad54-04a4-4de8-a2c4-58c2a0d7ee96/stateB/frame0/dhdl0.xvg', 'fe86ad54-04a4-4de8-a2c4-58c2a0d7ee96/stateB/frame1/dhdl1.xvg', 'fe86ad54-04a4-4de8-a2c4-58c2a0d7ee96/stateB/frame10/dhdl10.xvg', 'fe86ad54-04a4-4de8-a2c4-58c2a0d7ee96/stateB/frame11/dhdl11.xvg', 'fe86ad54-04a4-4de8-a2c4-58c2a0d7ee96/stateB/frame12/dhdl12.xvg', 'fe86ad54-04a4-4de8-a2c4-58c2a0d7ee96/stateB/frame13/dhdl13.xvg', 'fe86ad54-04a4-4de8-a2c4-58c2a0d7ee96/stateB/frame14/dhdl14.xvg', 'fe86ad54-04a4-4de8-a2c4-58c2a0d7ee96/stateB/frame15/dhdl15.xvg', 'fe86ad54-04a4-4de8-a2c4-58c2a0d7ee96/stateB/frame16/dhdl16.xvg', 'fe86ad54-04a4-4de8-a2c4-58c2a0d7ee96/stateB/frame17/dhdl17.xvg', 'fe86ad54-04a4-4de8-a2c4-58c2a0d7ee96/stateB/frame18/dhdl18.xvg', 'fe86ad54-04a4-4de8-a2c4-58c2a0d7ee96/stateB/frame19/dhdl19.xvg', 'fe86ad54-04a4-4de8-a2c4-58c2a0d7ee96/stateB/frame2/dhdl2.xvg', 'fe86ad54-04a4-4de8-a2c4-58c2a0d7ee96/stateB/frame20/dhdl20.xvg', 'fe86ad54-04a4-4de8-a2c4-58c2a0d7ee96/stateB/frame21/dhdl21.xvg', 'fe86ad54-04a4-4de8-a2c4-58c2a0d7ee96/stateB/frame22/dhdl22.xvg', 'fe86ad54-04a4-4de8-a2c4-58c2a0d7ee96/stateB/frame23/dhdl23.xvg', 'fe86ad54-04a4-4de8-a2c4-58c2a0d7ee96/stateB/frame24/dhdl24.xvg', 'fe86ad54-04a4-4de8-a2c4-58c2a0d7ee96/stateB/frame25/dhdl25.xvg', 'fe86ad54-04a4-4de8-a2c4-58c2a0d7ee96/stateB/frame26/dhdl26.xvg', 'fe86ad54-04a4-4de8-a2c4-58c2a0d7ee96/stateB/frame27/dhdl27.xvg', 'fe86ad54-04a4-4de8-a2c4-58c2a0d7ee96/stateB/frame28/dhdl28.xvg', 'fe86ad54-04a4-4de8-a2c4-58c2a0d7ee96/stateB/frame29/dhdl29.xvg', 'fe86ad54-04a4-4de8-a2c4-58c2a0d7ee96/stateB/frame3/dhdl3.xvg', 'fe86ad54-04a4-4de8-a2c4-58c2a0d7ee96/stateB/frame30/dhdl30.xvg', 'fe86ad54-04a4-4de8-a2c4-58c2a0d7ee96/stateB/frame31/dhdl31.xvg', 'fe86ad54-04a4-4de8-a2c4-58c2a0d7ee96/stateB/frame32/dhdl32.xvg', 'fe86ad54-04a4-4de8-a2c4-58c2a0d7ee96/stateB/frame33/dhdl33.xvg', 'fe86ad54-04a4-4de8-a2c4-58c2a0d7ee96/stateB/frame34/dhdl34.xvg', 'fe86ad54-04a4-4de8-a2c4-58c2a0d7ee96/stateB/frame35/dhdl35.xvg', 'fe86ad54-04a4-4de8-a2c4-58c2a0d7ee96/stateB/frame36/dhdl36.xvg', 'fe86ad54-04a4-4de8-a2c4-58c2a0d7ee96/stateB/frame37/dhdl37.xvg', 'fe86ad54-04a4-4de8-a2c4-58c2a0d7ee96/stateB/frame38/dhdl38.xvg', 'fe86ad54-04a4-4de8-a2c4-58c2a0d7ee96/stateB/frame39/dhdl39.xvg', 'fe86ad54-04a4-4de8-a2c4-58c2a0d7ee96/stateB/frame4/dhdl4.xvg', 'fe86ad54-04a4-4de8-a2c4-58c2a0d7ee96/stateB/frame40/dhdl40.xvg', 'fe86ad54-04a4-4de8-a2c4-58c2a0d7ee96/stateB/frame41/dhdl41.xvg', 'fe86ad54-04a4-4de8-a2c4-58c2a0d7ee96/stateB/frame42/dhdl42.xvg', 'fe86ad54-04a4-4de8-a2c4-58c2a0d7ee96/stateB/frame43/dhdl43.xvg', 'fe86ad54-04a4-4de8-a2c4-58c2a0d7ee96/stateB/frame44/dhdl44.xvg', 'fe86ad54-04a4-4de8-a2c4-58c2a0d7ee96/stateB/frame45/dhdl45.xvg', 'fe86ad54-04a4-4de8-a2c4-58c2a0d7ee96/stateB/frame46/dhdl46.xvg', 'fe86ad54-04a4-4de8-a2c4-58c2a0d7ee96/stateB/frame47/dhdl47.xvg', 'fe86ad54-04a4-4de8-a2c4-58c2a0d7ee96/stateB/frame48/dhdl48.xvg', 'fe86ad54-04a4-4de8-a2c4-58c2a0d7ee96/stateB/frame49/dhdl49.xvg', 'fe86ad54-04a4-4de8-a2c4-58c2a0d7ee96/stateB/frame5/dhdl5.xvg', 'fe86ad54-04a4-4de8-a2c4-58c2a0d7ee96/stateB/frame50/dhdl50.xvg', 'fe86ad54-04a4-4de8-a2c4-58c2a0d7ee96/stateB/frame51/dhdl51.xvg', 'fe86ad54-04a4-4de8-a2c4-58c2a0d7ee96/stateB/frame52/dhdl52.xvg', 'fe86ad54-04a4-4de8-a2c4-58c2a0d7ee96/stateB/frame53/dhdl53.xvg', 'fe86ad54-04a4-4de8-a2c4-58c2a0d7ee96/stateB/frame54/dhdl54.xvg', 'fe86ad54-04a4-4de8-a2c4-58c2a0d7ee96/stateB/frame55/dhdl55.xvg', 'fe86ad54-04a4-4de8-a2c4-58c2a0d7ee96/stateB/frame56/dhdl56.xvg', 'fe86ad54-04a4-4de8-a2c4-58c2a0d7ee96/stateB/frame57/dhdl57.xvg', 'fe86ad54-04a4-4de8-a2c4-58c2a0d7ee96/stateB/frame58/dhdl58.xvg', 'fe86ad54-04a4-4de8-a2c4-58c2a0d7ee96/stateB/frame59/dhdl59.xvg', 'fe86ad54-04a4-4de8-a2c4-58c2a0d7ee96/stateB/frame6/dhdl6.xvg', 'fe86ad54-04a4-4de8-a2c4-58c2a0d7ee96/stateB/frame60/dhdl60.xvg', 'fe86ad54-04a4-4de8-a2c4-58c2a0d7ee96/stateB/frame61/dhdl61.xvg', 'fe86ad54-04a4-4de8-a2c4-58c2a0d7ee96/stateB/frame62/dhdl62.xvg', 'fe86ad54-04a4-4de8-a2c4-58c2a0d7ee96/stateB/frame63/dhdl63.xvg', 'fe86ad54-04a4-4de8-a2c4-58c2a0d7ee96/stateB/frame64/dhdl64.xvg', 'fe86ad54-04a4-4de8-a2c4-58c2a0d7ee96/stateB/frame65/dhdl65.xvg', 'fe86ad54-04a4-4de8-a2c4-58c2a0d7ee96/stateB/frame66/dhdl66.xvg', 'fe86ad54-04a4-4de8-a2c4-58c2a0d7ee96/stateB/frame67/dhdl67.xvg', 'fe86ad54-04a4-4de8-a2c4-58c2a0d7ee96/stateB/frame68/dhdl68.xvg', 'fe86ad54-04a4-4de8-a2c4-58c2a0d7ee96/stateB/frame69/dhdl69.xvg', 'fe86ad54-04a4-4de8-a2c4-58c2a0d7ee96/stateB/frame7/dhdl7.xvg', 'fe86ad54-04a4-4de8-a2c4-58c2a0d7ee96/stateB/frame70/dhdl70.xvg', 'fe86ad54-04a4-4de8-a2c4-58c2a0d7ee96/stateB/frame71/dhdl71.xvg', 'fe86ad54-04a4-4de8-a2c4-58c2a0d7ee96/stateB/frame72/dhdl72.xvg', 'fe86ad54-04a4-4de8-a2c4-58c2a0d7ee96/stateB/frame73/dhdl73.xvg', 'fe86ad54-04a4-4de8-a2c4-58c2a0d7ee96/stateB/frame74/dhdl74.xvg', 'fe86ad54-04a4-4de8-a2c4-58c2a0d7ee96/stateB/frame75/dhdl75.xvg', 'fe86ad54-04a4-4de8-a2c4-58c2a0d7ee96/stateB/frame76/dhdl76.xvg', 'fe86ad54-04a4-4de8-a2c4-58c2a0d7ee96/stateB/frame77/dhdl77.xvg', 'fe86ad54-04a4-4de8-a2c4-58c2a0d7ee96/stateB/frame78/dhdl78.xvg', 'fe86ad54-04a4-4de8-a2c4-58c2a0d7ee96/stateB/frame79/dhdl79.xvg', 'fe86ad54-04a4-4de8-a2c4-58c2a0d7ee96/stateB/frame8/dhdl8.xvg', 'fe86ad54-04a4-4de8-a2c4-58c2a0d7ee96/stateB/frame80/dhdl80.xvg', 'fe86ad54-04a4-4de8-a2c4-58c2a0d7ee96/stateB/frame81/dhdl81.xvg', 'fe86ad54-04a4-4de8-a2c4-58c2a0d7ee96/stateB/frame82/dhdl82.xvg', 'fe86ad54-04a4-4de8-a2c4-58c2a0d7ee96/stateB/frame83/dhdl83.xvg', 'fe86ad54-04a4-4de8-a2c4-58c2a0d7ee96/stateB/frame84/dhdl84.xvg', 'fe86ad54-04a4-4de8-a2c4-58c2a0d7ee96/stateB/frame85/dhdl85.xvg', 'fe86ad54-04a4-4de8-a2c4-58c2a0d7ee96/stateB/frame86/dhdl86.xvg', 'fe86ad54-04a4-4de8-a2c4-58c2a0d7ee96/stateB/frame87/dhdl87.xvg', 'fe86ad54-04a4-4de8-a2c4-58c2a0d7ee96/stateB/frame88/dhdl88.xvg', 'fe86ad54-04a4-4de8-a2c4-58c2a0d7ee96/stateB/frame89/dhdl89.xvg', 'fe86ad54-04a4-4de8-a2c4-58c2a0d7ee96/stateB/frame9/dhdl9.xvg', 'fe86ad54-04a4-4de8-a2c4-58c2a0d7ee96/stateB/frame90/dhdl90.xvg', 'fe86ad54-04a4-4de8-a2c4-58c2a0d7ee96/stateB/frame91/dhdl91.xvg', 'fe86ad54-04a4-4de8-a2c4-58c2a0d7ee96/stateB/frame92/dhdl92.xvg', 'fe86ad54-04a4-4de8-a2c4-58c2a0d7ee96/stateB/frame93/dhdl93.xvg', 'fe86ad54-04a4-4de8-a2c4-58c2a0d7ee96/stateB/frame94/dhdl94.xvg', 'fe86ad54-04a4-4de8-a2c4-58c2a0d7ee96/stateB/frame95/dhdl95.xvg', 'fe86ad54-04a4-4de8-a2c4-58c2a0d7ee96/stateB/frame96/dhdl96.xvg', 'fe86ad54-04a4-4de8-a2c4-58c2a0d7ee96/stateB/frame97/dhdl97.xvg', 'fe86ad54-04a4-4de8-a2c4-58c2a0d7ee96/stateB/frame98/dhdl98.xvg', 'fe86ad54-04a4-4de8-a2c4-58c2a0d7ee96/stateB/frame99/dhdl99.xvg']\n"
     ]
    },
    {
     "name": "stderr",
     "output_type": "stream",
     "text": [
      "2020-10-14 11:49:42,400 [MainThread  ] [INFO ]  Not using any container\n",
      "2020-10-14 11:49:50,234 [MainThread  ] [INFO ]  pmx analyse -fA 47103fe8-d06b-4eb9-a3ec-56907b987b41/stateA/frame0/dhdl0.xvg 47103fe8-d06b-4eb9-a3ec-56907b987b41/stateA/frame1/dhdl1.xvg 47103fe8-d06b-4eb9-a3ec-56907b987b41/stateA/frame10/dhdl10.xvg 47103fe8-d06b-4eb9-a3ec-56907b987b41/stateA/frame11/dhdl11.xvg 47103fe8-d06b-4eb9-a3ec-56907b987b41/stateA/frame12/dhdl12.xvg 47103fe8-d06b-4eb9-a3ec-56907b987b41/stateA/frame13/dhdl13.xvg 47103fe8-d06b-4eb9-a3ec-56907b987b41/stateA/frame14/dhdl14.xvg 47103fe8-d06b-4eb9-a3ec-56907b987b41/stateA/frame15/dhdl15.xvg 47103fe8-d06b-4eb9-a3ec-56907b987b41/stateA/frame16/dhdl16.xvg 47103fe8-d06b-4eb9-a3ec-56907b987b41/stateA/frame17/dhdl17.xvg 47103fe8-d06b-4eb9-a3ec-56907b987b41/stateA/frame18/dhdl18.xvg 47103fe8-d06b-4eb9-a3ec-56907b987b41/stateA/frame19/dhdl19.xvg 47103fe8-d06b-4eb9-a3ec-56907b987b41/stateA/frame2/dhdl2.xvg 47103fe8-d06b-4eb9-a3ec-56907b987b41/stateA/frame20/dhdl20.xvg 47103fe8-d06b-4eb9-a3ec-56907b987b41/stateA/frame21/dhdl21.xvg 47103fe8-d06b-4eb9-a3ec-56907b987b41/stateA/frame22/dhdl22.xvg 47103fe8-d06b-4eb9-a3ec-56907b987b41/stateA/frame23/dhdl23.xvg 47103fe8-d06b-4eb9-a3ec-56907b987b41/stateA/frame24/dhdl24.xvg 47103fe8-d06b-4eb9-a3ec-56907b987b41/stateA/frame25/dhdl25.xvg 47103fe8-d06b-4eb9-a3ec-56907b987b41/stateA/frame26/dhdl26.xvg 47103fe8-d06b-4eb9-a3ec-56907b987b41/stateA/frame27/dhdl27.xvg 47103fe8-d06b-4eb9-a3ec-56907b987b41/stateA/frame28/dhdl28.xvg 47103fe8-d06b-4eb9-a3ec-56907b987b41/stateA/frame29/dhdl29.xvg 47103fe8-d06b-4eb9-a3ec-56907b987b41/stateA/frame3/dhdl3.xvg 47103fe8-d06b-4eb9-a3ec-56907b987b41/stateA/frame30/dhdl30.xvg 47103fe8-d06b-4eb9-a3ec-56907b987b41/stateA/frame31/dhdl31.xvg 47103fe8-d06b-4eb9-a3ec-56907b987b41/stateA/frame32/dhdl32.xvg 47103fe8-d06b-4eb9-a3ec-56907b987b41/stateA/frame33/dhdl33.xvg 47103fe8-d06b-4eb9-a3ec-56907b987b41/stateA/frame34/dhdl34.xvg 47103fe8-d06b-4eb9-a3ec-56907b987b41/stateA/frame35/dhdl35.xvg 47103fe8-d06b-4eb9-a3ec-56907b987b41/stateA/frame36/dhdl36.xvg 47103fe8-d06b-4eb9-a3ec-56907b987b41/stateA/frame37/dhdl37.xvg 47103fe8-d06b-4eb9-a3ec-56907b987b41/stateA/frame38/dhdl38.xvg 47103fe8-d06b-4eb9-a3ec-56907b987b41/stateA/frame39/dhdl39.xvg 47103fe8-d06b-4eb9-a3ec-56907b987b41/stateA/frame4/dhdl4.xvg 47103fe8-d06b-4eb9-a3ec-56907b987b41/stateA/frame40/dhdl40.xvg 47103fe8-d06b-4eb9-a3ec-56907b987b41/stateA/frame41/dhdl41.xvg 47103fe8-d06b-4eb9-a3ec-56907b987b41/stateA/frame42/dhdl42.xvg 47103fe8-d06b-4eb9-a3ec-56907b987b41/stateA/frame43/dhdl43.xvg 47103fe8-d06b-4eb9-a3ec-56907b987b41/stateA/frame44/dhdl44.xvg 47103fe8-d06b-4eb9-a3ec-56907b987b41/stateA/frame45/dhdl45.xvg 47103fe8-d06b-4eb9-a3ec-56907b987b41/stateA/frame46/dhdl46.xvg 47103fe8-d06b-4eb9-a3ec-56907b987b41/stateA/frame47/dhdl47.xvg 47103fe8-d06b-4eb9-a3ec-56907b987b41/stateA/frame48/dhdl48.xvg 47103fe8-d06b-4eb9-a3ec-56907b987b41/stateA/frame49/dhdl49.xvg 47103fe8-d06b-4eb9-a3ec-56907b987b41/stateA/frame5/dhdl5.xvg 47103fe8-d06b-4eb9-a3ec-56907b987b41/stateA/frame50/dhdl50.xvg 47103fe8-d06b-4eb9-a3ec-56907b987b41/stateA/frame51/dhdl51.xvg 47103fe8-d06b-4eb9-a3ec-56907b987b41/stateA/frame52/dhdl52.xvg 47103fe8-d06b-4eb9-a3ec-56907b987b41/stateA/frame53/dhdl53.xvg 47103fe8-d06b-4eb9-a3ec-56907b987b41/stateA/frame54/dhdl54.xvg 47103fe8-d06b-4eb9-a3ec-56907b987b41/stateA/frame55/dhdl55.xvg 47103fe8-d06b-4eb9-a3ec-56907b987b41/stateA/frame56/dhdl56.xvg 47103fe8-d06b-4eb9-a3ec-56907b987b41/stateA/frame57/dhdl57.xvg 47103fe8-d06b-4eb9-a3ec-56907b987b41/stateA/frame58/dhdl58.xvg 47103fe8-d06b-4eb9-a3ec-56907b987b41/stateA/frame59/dhdl59.xvg 47103fe8-d06b-4eb9-a3ec-56907b987b41/stateA/frame6/dhdl6.xvg 47103fe8-d06b-4eb9-a3ec-56907b987b41/stateA/frame60/dhdl60.xvg 47103fe8-d06b-4eb9-a3ec-56907b987b41/stateA/frame61/dhdl61.xvg 47103fe8-d06b-4eb9-a3ec-56907b987b41/stateA/frame62/dhdl62.xvg 47103fe8-d06b-4eb9-a3ec-56907b987b41/stateA/frame63/dhdl63.xvg 47103fe8-d06b-4eb9-a3ec-56907b987b41/stateA/frame64/dhdl64.xvg 47103fe8-d06b-4eb9-a3ec-56907b987b41/stateA/frame65/dhdl65.xvg 47103fe8-d06b-4eb9-a3ec-56907b987b41/stateA/frame66/dhdl66.xvg 47103fe8-d06b-4eb9-a3ec-56907b987b41/stateA/frame67/dhdl67.xvg 47103fe8-d06b-4eb9-a3ec-56907b987b41/stateA/frame68/dhdl68.xvg 47103fe8-d06b-4eb9-a3ec-56907b987b41/stateA/frame69/dhdl69.xvg 47103fe8-d06b-4eb9-a3ec-56907b987b41/stateA/frame7/dhdl7.xvg 47103fe8-d06b-4eb9-a3ec-56907b987b41/stateA/frame70/dhdl70.xvg 47103fe8-d06b-4eb9-a3ec-56907b987b41/stateA/frame71/dhdl71.xvg 47103fe8-d06b-4eb9-a3ec-56907b987b41/stateA/frame72/dhdl72.xvg 47103fe8-d06b-4eb9-a3ec-56907b987b41/stateA/frame73/dhdl73.xvg 47103fe8-d06b-4eb9-a3ec-56907b987b41/stateA/frame74/dhdl74.xvg 47103fe8-d06b-4eb9-a3ec-56907b987b41/stateA/frame75/dhdl75.xvg 47103fe8-d06b-4eb9-a3ec-56907b987b41/stateA/frame76/dhdl76.xvg 47103fe8-d06b-4eb9-a3ec-56907b987b41/stateA/frame77/dhdl77.xvg 47103fe8-d06b-4eb9-a3ec-56907b987b41/stateA/frame78/dhdl78.xvg 47103fe8-d06b-4eb9-a3ec-56907b987b41/stateA/frame79/dhdl79.xvg 47103fe8-d06b-4eb9-a3ec-56907b987b41/stateA/frame8/dhdl8.xvg 47103fe8-d06b-4eb9-a3ec-56907b987b41/stateA/frame80/dhdl80.xvg 47103fe8-d06b-4eb9-a3ec-56907b987b41/stateA/frame81/dhdl81.xvg 47103fe8-d06b-4eb9-a3ec-56907b987b41/stateA/frame82/dhdl82.xvg 47103fe8-d06b-4eb9-a3ec-56907b987b41/stateA/frame83/dhdl83.xvg 47103fe8-d06b-4eb9-a3ec-56907b987b41/stateA/frame84/dhdl84.xvg 47103fe8-d06b-4eb9-a3ec-56907b987b41/stateA/frame85/dhdl85.xvg 47103fe8-d06b-4eb9-a3ec-56907b987b41/stateA/frame86/dhdl86.xvg 47103fe8-d06b-4eb9-a3ec-56907b987b41/stateA/frame87/dhdl87.xvg 47103fe8-d06b-4eb9-a3ec-56907b987b41/stateA/frame88/dhdl88.xvg 47103fe8-d06b-4eb9-a3ec-56907b987b41/stateA/frame89/dhdl89.xvg 47103fe8-d06b-4eb9-a3ec-56907b987b41/stateA/frame9/dhdl9.xvg 47103fe8-d06b-4eb9-a3ec-56907b987b41/stateA/frame90/dhdl90.xvg 47103fe8-d06b-4eb9-a3ec-56907b987b41/stateA/frame91/dhdl91.xvg 47103fe8-d06b-4eb9-a3ec-56907b987b41/stateA/frame92/dhdl92.xvg 47103fe8-d06b-4eb9-a3ec-56907b987b41/stateA/frame93/dhdl93.xvg 47103fe8-d06b-4eb9-a3ec-56907b987b41/stateA/frame94/dhdl94.xvg 47103fe8-d06b-4eb9-a3ec-56907b987b41/stateA/frame95/dhdl95.xvg 47103fe8-d06b-4eb9-a3ec-56907b987b41/stateA/frame96/dhdl96.xvg 47103fe8-d06b-4eb9-a3ec-56907b987b41/stateA/frame97/dhdl97.xvg 47103fe8-d06b-4eb9-a3ec-56907b987b41/stateA/frame98/dhdl98.xvg 47103fe8-d06b-4eb9-a3ec-56907b987b41/stateA/frame99/dhdl99.xvg -fB fe86ad54-04a4-4de8-a2c4-58c2a0d7ee96/stateB/frame0/dhdl0.xvg fe86ad54-04a4-4de8-a2c4-58c2a0d7ee96/stateB/frame1/dhdl1.xvg fe86ad54-04a4-4de8-a2c4-58c2a0d7ee96/stateB/frame10/dhdl10.xvg fe86ad54-04a4-4de8-a2c4-58c2a0d7ee96/stateB/frame11/dhdl11.xvg fe86ad54-04a4-4de8-a2c4-58c2a0d7ee96/stateB/frame12/dhdl12.xvg fe86ad54-04a4-4de8-a2c4-58c2a0d7ee96/stateB/frame13/dhdl13.xvg fe86ad54-04a4-4de8-a2c4-58c2a0d7ee96/stateB/frame14/dhdl14.xvg fe86ad54-04a4-4de8-a2c4-58c2a0d7ee96/stateB/frame15/dhdl15.xvg fe86ad54-04a4-4de8-a2c4-58c2a0d7ee96/stateB/frame16/dhdl16.xvg fe86ad54-04a4-4de8-a2c4-58c2a0d7ee96/stateB/frame17/dhdl17.xvg fe86ad54-04a4-4de8-a2c4-58c2a0d7ee96/stateB/frame18/dhdl18.xvg fe86ad54-04a4-4de8-a2c4-58c2a0d7ee96/stateB/frame19/dhdl19.xvg fe86ad54-04a4-4de8-a2c4-58c2a0d7ee96/stateB/frame2/dhdl2.xvg fe86ad54-04a4-4de8-a2c4-58c2a0d7ee96/stateB/frame20/dhdl20.xvg fe86ad54-04a4-4de8-a2c4-58c2a0d7ee96/stateB/frame21/dhdl21.xvg fe86ad54-04a4-4de8-a2c4-58c2a0d7ee96/stateB/frame22/dhdl22.xvg fe86ad54-04a4-4de8-a2c4-58c2a0d7ee96/stateB/frame23/dhdl23.xvg fe86ad54-04a4-4de8-a2c4-58c2a0d7ee96/stateB/frame24/dhdl24.xvg fe86ad54-04a4-4de8-a2c4-58c2a0d7ee96/stateB/frame25/dhdl25.xvg fe86ad54-04a4-4de8-a2c4-58c2a0d7ee96/stateB/frame26/dhdl26.xvg fe86ad54-04a4-4de8-a2c4-58c2a0d7ee96/stateB/frame27/dhdl27.xvg fe86ad54-04a4-4de8-a2c4-58c2a0d7ee96/stateB/frame28/dhdl28.xvg fe86ad54-04a4-4de8-a2c4-58c2a0d7ee96/stateB/frame29/dhdl29.xvg fe86ad54-04a4-4de8-a2c4-58c2a0d7ee96/stateB/frame3/dhdl3.xvg fe86ad54-04a4-4de8-a2c4-58c2a0d7ee96/stateB/frame30/dhdl30.xvg fe86ad54-04a4-4de8-a2c4-58c2a0d7ee96/stateB/frame31/dhdl31.xvg fe86ad54-04a4-4de8-a2c4-58c2a0d7ee96/stateB/frame32/dhdl32.xvg fe86ad54-04a4-4de8-a2c4-58c2a0d7ee96/stateB/frame33/dhdl33.xvg fe86ad54-04a4-4de8-a2c4-58c2a0d7ee96/stateB/frame34/dhdl34.xvg fe86ad54-04a4-4de8-a2c4-58c2a0d7ee96/stateB/frame35/dhdl35.xvg fe86ad54-04a4-4de8-a2c4-58c2a0d7ee96/stateB/frame36/dhdl36.xvg fe86ad54-04a4-4de8-a2c4-58c2a0d7ee96/stateB/frame37/dhdl37.xvg fe86ad54-04a4-4de8-a2c4-58c2a0d7ee96/stateB/frame38/dhdl38.xvg fe86ad54-04a4-4de8-a2c4-58c2a0d7ee96/stateB/frame39/dhdl39.xvg fe86ad54-04a4-4de8-a2c4-58c2a0d7ee96/stateB/frame4/dhdl4.xvg fe86ad54-04a4-4de8-a2c4-58c2a0d7ee96/stateB/frame40/dhdl40.xvg fe86ad54-04a4-4de8-a2c4-58c2a0d7ee96/stateB/frame41/dhdl41.xvg fe86ad54-04a4-4de8-a2c4-58c2a0d7ee96/stateB/frame42/dhdl42.xvg fe86ad54-04a4-4de8-a2c4-58c2a0d7ee96/stateB/frame43/dhdl43.xvg fe86ad54-04a4-4de8-a2c4-58c2a0d7ee96/stateB/frame44/dhdl44.xvg fe86ad54-04a4-4de8-a2c4-58c2a0d7ee96/stateB/frame45/dhdl45.xvg fe86ad54-04a4-4de8-a2c4-58c2a0d7ee96/stateB/frame46/dhdl46.xvg fe86ad54-04a4-4de8-a2c4-58c2a0d7ee96/stateB/frame47/dhdl47.xvg fe86ad54-04a4-4de8-a2c4-58c2a0d7ee96/stateB/frame48/dhdl48.xvg fe86ad54-04a4-4de8-a2c4-58c2a0d7ee96/stateB/frame49/dhdl49.xvg fe86ad54-04a4-4de8-a2c4-58c2a0d7ee96/stateB/frame5/dhdl5.xvg fe86ad54-04a4-4de8-a2c4-58c2a0d7ee96/stateB/frame50/dhdl50.xvg fe86ad54-04a4-4de8-a2c4-58c2a0d7ee96/stateB/frame51/dhdl51.xvg fe86ad54-04a4-4de8-a2c4-58c2a0d7ee96/stateB/frame52/dhdl52.xvg fe86ad54-04a4-4de8-a2c4-58c2a0d7ee96/stateB/frame53/dhdl53.xvg fe86ad54-04a4-4de8-a2c4-58c2a0d7ee96/stateB/frame54/dhdl54.xvg fe86ad54-04a4-4de8-a2c4-58c2a0d7ee96/stateB/frame55/dhdl55.xvg fe86ad54-04a4-4de8-a2c4-58c2a0d7ee96/stateB/frame56/dhdl56.xvg fe86ad54-04a4-4de8-a2c4-58c2a0d7ee96/stateB/frame57/dhdl57.xvg fe86ad54-04a4-4de8-a2c4-58c2a0d7ee96/stateB/frame58/dhdl58.xvg fe86ad54-04a4-4de8-a2c4-58c2a0d7ee96/stateB/frame59/dhdl59.xvg fe86ad54-04a4-4de8-a2c4-58c2a0d7ee96/stateB/frame6/dhdl6.xvg fe86ad54-04a4-4de8-a2c4-58c2a0d7ee96/stateB/frame60/dhdl60.xvg fe86ad54-04a4-4de8-a2c4-58c2a0d7ee96/stateB/frame61/dhdl61.xvg fe86ad54-04a4-4de8-a2c4-58c2a0d7ee96/stateB/frame62/dhdl62.xvg fe86ad54-04a4-4de8-a2c4-58c2a0d7ee96/stateB/frame63/dhdl63.xvg fe86ad54-04a4-4de8-a2c4-58c2a0d7ee96/stateB/frame64/dhdl64.xvg fe86ad54-04a4-4de8-a2c4-58c2a0d7ee96/stateB/frame65/dhdl65.xvg fe86ad54-04a4-4de8-a2c4-58c2a0d7ee96/stateB/frame66/dhdl66.xvg fe86ad54-04a4-4de8-a2c4-58c2a0d7ee96/stateB/frame67/dhdl67.xvg fe86ad54-04a4-4de8-a2c4-58c2a0d7ee96/stateB/frame68/dhdl68.xvg fe86ad54-04a4-4de8-a2c4-58c2a0d7ee96/stateB/frame69/dhdl69.xvg fe86ad54-04a4-4de8-a2c4-58c2a0d7ee96/stateB/frame7/dhdl7.xvg fe86ad54-04a4-4de8-a2c4-58c2a0d7ee96/stateB/frame70/dhdl70.xvg fe86ad54-04a4-4de8-a2c4-58c2a0d7ee96/stateB/frame71/dhdl71.xvg fe86ad54-04a4-4de8-a2c4-58c2a0d7ee96/stateB/frame72/dhdl72.xvg fe86ad54-04a4-4de8-a2c4-58c2a0d7ee96/stateB/frame73/dhdl73.xvg fe86ad54-04a4-4de8-a2c4-58c2a0d7ee96/stateB/frame74/dhdl74.xvg fe86ad54-04a4-4de8-a2c4-58c2a0d7ee96/stateB/frame75/dhdl75.xvg fe86ad54-04a4-4de8-a2c4-58c2a0d7ee96/stateB/frame76/dhdl76.xvg fe86ad54-04a4-4de8-a2c4-58c2a0d7ee96/stateB/frame77/dhdl77.xvg fe86ad54-04a4-4de8-a2c4-58c2a0d7ee96/stateB/frame78/dhdl78.xvg fe86ad54-04a4-4de8-a2c4-58c2a0d7ee96/stateB/frame79/dhdl79.xvg fe86ad54-04a4-4de8-a2c4-58c2a0d7ee96/stateB/frame8/dhdl8.xvg fe86ad54-04a4-4de8-a2c4-58c2a0d7ee96/stateB/frame80/dhdl80.xvg fe86ad54-04a4-4de8-a2c4-58c2a0d7ee96/stateB/frame81/dhdl81.xvg fe86ad54-04a4-4de8-a2c4-58c2a0d7ee96/stateB/frame82/dhdl82.xvg fe86ad54-04a4-4de8-a2c4-58c2a0d7ee96/stateB/frame83/dhdl83.xvg fe86ad54-04a4-4de8-a2c4-58c2a0d7ee96/stateB/frame84/dhdl84.xvg fe86ad54-04a4-4de8-a2c4-58c2a0d7ee96/stateB/frame85/dhdl85.xvg fe86ad54-04a4-4de8-a2c4-58c2a0d7ee96/stateB/frame86/dhdl86.xvg fe86ad54-04a4-4de8-a2c4-58c2a0d7ee96/stateB/frame87/dhdl87.xvg fe86ad54-04a4-4de8-a2c4-58c2a0d7ee96/stateB/frame88/dhdl88.xvg fe86ad54-04a4-4de8-a2c4-58c2a0d7ee96/stateB/frame89/dhdl89.xvg fe86ad54-04a4-4de8-a2c4-58c2a0d7ee96/stateB/frame9/dhdl9.xvg fe86ad54-04a4-4de8-a2c4-58c2a0d7ee96/stateB/frame90/dhdl90.xvg fe86ad54-04a4-4de8-a2c4-58c2a0d7ee96/stateB/frame91/dhdl91.xvg fe86ad54-04a4-4de8-a2c4-58c2a0d7ee96/stateB/frame92/dhdl92.xvg fe86ad54-04a4-4de8-a2c4-58c2a0d7ee96/stateB/frame93/dhdl93.xvg fe86ad54-04a4-4de8-a2c4-58c2a0d7ee96/stateB/frame94/dhdl94.xvg fe86ad54-04a4-4de8-a2c4-58c2a0d7ee96/stateB/frame95/dhdl95.xvg fe86ad54-04a4-4de8-a2c4-58c2a0d7ee96/stateB/frame96/dhdl96.xvg fe86ad54-04a4-4de8-a2c4-58c2a0d7ee96/stateB/frame97/dhdl97.xvg fe86ad54-04a4-4de8-a2c4-58c2a0d7ee96/stateB/frame98/dhdl98.xvg fe86ad54-04a4-4de8-a2c4-58c2a0d7ee96/stateB/frame99/dhdl99.xvg -o pmx.outputs -w pmx.plots.png --reverseB\n",
      "\n"
     ]
    },
    {
     "name": "stderr",
     "output_type": "stream",
     "text": [
      "2020-10-14 11:49:50,235 [MainThread  ] [INFO ]  Exit code 0\n",
      "\n",
      "2020-10-14 11:49:50,236 [MainThread  ] [INFO ]  \n",
      "\n",
      " ========================================================\n",
      "                   PROCESSING THE DATA\n",
      " ========================================================\n",
      "  Forward Data\n",
      "    First accepted file: 47103fe8-d06b-4eb9-a3ec-56907b987b41/stateA/frame0/dhdl0.xvg\n",
      "    # data points: 25001\n",
      "    Length of trajectory:   50.000 ps\n",
      "    Delta lambda:  0.00004\n",
      "    Reading 47103fe8-d06b-4eb9-a3ec-56907b987b41/stateA/frame99/dhdl99.xvg\n",
      "\n",
      "  Reverse Data\n",
      "    First accepted file: fe86ad54-04a4-4de8-a2c4-58c2a0d7ee96/stateB/frame0/dhdl0.xvg\n",
      "    # data points: 25001\n",
      "    Length of trajectory:   50.000 ps\n",
      "    Delta lambda: -0.00004\n",
      "    Reading fe86ad54-04a4-4de8-a2c4-58c2a0d7ee96/stateB/frame99/dhdl99.xvg\n",
      "\n",
      " ========================================================\n",
      "                       ANALYSIS\n",
      " ========================================================\n",
      "  Number of forward (0->1) trajectories: 100\n",
      "  Number of reverse (1->0) trajectories: 100\n",
      "  Temperature : 298.15 K\n",
      "\n",
      " --------------------------------------------------------\n",
      "             Crooks Gaussian Intersection     \n",
      " --------------------------------------------------------\n",
      "  Calculating Intersection...\n",
      "  CGI: Forward Gauss mean =    13.51 kJ/mol std =     4.03 kJ/mol\n",
      "  CGI: Reverse Gauss mean =    -5.40 kJ/mol std =     8.49 kJ/mol\n",
      "  CGI: dG =     6.14 kJ/mol\n",
      "\n",
      "  Running KS-test...\n",
      "    Forward: gaussian quality = 0.41\n",
      "             ---> KS-Test Ok\n",
      "    Reverse: gaussian quality = 0.98\n",
      "             ---> KS-Test Ok\n",
      "\n",
      " --------------------------------------------------------\n",
      "             Bennett Acceptance Ratio     \n",
      " --------------------------------------------------------\n",
      "  Running Nelder-Mead Simplex algorithm... \n",
      "  BAR: dG =     6.17 kJ/mol\n",
      "  BAR: Std Err (analytical) =     0.59 kJ/mol\n",
      "  BAR: Conv =     0.15\n",
      "\n",
      " --------------------------------------------------------\n",
      "             Jarzynski estimator     \n",
      " --------------------------------------------------------\n",
      "  JARZ: dG Forward =    10.24 kJ/mol\n",
      "  JARZ: dG Reverse =     4.34 kJ/mol\n",
      "  JARZ: dG Mean    =     7.29 kJ/mol\n",
      "  JARZ_Gauss: dG Forward =    10.19 kJ/mol\n",
      "  JARZ_Gauss: dG Reverse =     9.28 kJ/mol\n",
      "  JARZ_Gauss: dG Mean    =     9.74 kJ/mol\n",
      "  JARZ_Gauss: Std Err (analytical) Forward =     0.62 kJ/mol\n",
      "  JARZ_Gauss: Std Err (analytical) Reverse =     2.25 kJ/mol\n",
      " ========================================================\n",
      "\n",
      "   Plotting histograms......\n",
      "\n",
      "   ......done...........\n",
      "\n",
      "   Execution time = 00:00:06\n",
      "\n",
      "\n",
      "2020-10-14 11:49:50,277 [MainThread  ] [INFO ]  Removed: ['47103fe8-d06b-4eb9-a3ec-56907b987b41', 'fe86ad54-04a4-4de8-a2c4-58c2a0d7ee96']\n"
     ]
    },
    {
     "data": {
      "text/plain": [
       "0"
      ]
     },
     "execution_count": 21,
     "metadata": {},
     "output_type": "execute_result"
    }
   ],
   "source": [
    "# pmx analyse: analyze_dhdl command from pmx package\n",
    "\n",
    "# Import module\n",
    "from biobb_pmx.pmx.pmxanalyse import Pmxanalyse\n",
    "\n",
    "# Create prop dict and inputs/outputs\n",
    "\n",
    "# Workflow-generated results should be used if a minimum number of transitions are calculated.\n",
    "#state_A_xvg_zip = 'dhdlsA.zip'\n",
    "#state_B_xvg_zip = 'dhdlsB.zip'\n",
    "\n",
    "# In this particular case, as the tutorial is just computing 1 transition (forward + reverse),\n",
    "# values taken from a real run of the snase example will be used instead.\n",
    "state_A_xvg_zip = 'pmx_tutorial/dhdlA.zip'\n",
    "state_B_xvg_zip = 'pmx_tutorial/dhdlB.zip'\n",
    "\n",
    "output_result = 'pmx.outputs'\n",
    "output_work_plot = 'pmx.plots.png'\n",
    "  \n",
    "prop = {\n",
    "    'reverseB' : True,\n",
    "}\n",
    "\n",
    "#Create and launch bb\n",
    "Pmxanalyse(input_a_xvg_zip_path=state_A_xvg_zip,\n",
    "        input_b_xvg_zip_path=state_B_xvg_zip,\n",
    "        output_result_path=output_result,\n",
    "        output_work_plot_path=output_work_plot,\n",
    "        properties=prop).launch()\n"
   ]
  },
  {
   "cell_type": "code",
   "execution_count": 22,
   "metadata": {},
   "outputs": [
    {
     "data": {
      "image/png": "[encoded data removed]",
      "text/plain": [
       "<IPython.core.display.Image object>"
      ]
     },
     "execution_count": 22,
     "metadata": {},
     "output_type": "execute_result"
    }
   ],
   "source": [
    "from IPython.display import Image\n",
    "Image(filename=output_work_plot)"
   ]
  },
  {
   "cell_type": "markdown",
   "metadata": {
    "variables": {
     "output_result": "pmx.outputs",
     "output_work_plot": "pmx.plots.png"
    }
   },
   "source": [
    "<a id=\"output\"></a>\n",
    "## Output files\n",
    "\n",
    "Important **Output files** generated:\n",
    " - {{output_result}}: **Final free energy estimation**. Summary of information got applying the different methods.\n",
    " - {{output_work_plot}}: **Final free energy plot** of the **Mutation free energy** pipeline."
   ]
  },
  {
   "cell_type": "markdown",
   "metadata": {},
   "source": [
    "***\n",
    "<a id=\"questions\"></a>\n",
    "\n",
    "## Questions & Comments\n",
    "\n",
    "Questions, issues, suggestions and comments are really welcome!\n",
    "\n",
    "* GitHub issues:\n",
    "    * [https://github.com/bioexcel/biobb](https://github.com/bioexcel/biobb)\n",
    "\n",
    "* BioExcel forum:\n",
    "    * [https://ask.bioexcel.eu/c/BioExcel-Building-Blocks-library](https://ask.bioexcel.eu/c/BioExcel-Building-Blocks-library)\n"
   ]
  },
  {
   "cell_type": "code",
   "execution_count": null,
   "metadata": {},
   "outputs": [],
   "source": []
  }
 ],
 "metadata": {
  "anaconda-cloud": {},
  "kernelspec": {
   "display_name": "Python 3",
   "language": "python",
   "name": "python3"
  },
  "language_info": {
   "codemirror_mode": {
    "name": "ipython",
    "version": 3
   },
   "file_extension": ".py",
   "mimetype": "text/x-python",
   "name": "python",
   "nbconvert_exporter": "python",
   "pygments_lexer": "ipython3",
   "version": "3.7.6"
  }
 },
 "nbformat": 4,
 "nbformat_minor": 2
}

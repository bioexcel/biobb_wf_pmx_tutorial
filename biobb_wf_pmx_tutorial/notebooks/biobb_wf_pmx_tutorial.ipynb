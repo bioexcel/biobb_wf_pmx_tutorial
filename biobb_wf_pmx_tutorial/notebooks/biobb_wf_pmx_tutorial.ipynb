{
 "cells": [
  {
   "cell_type": "markdown",
   "metadata": {},
   "source": [
    "# Mutation Free Energy Calculations using BioExcel Building Blocks (biobb)\n",
    "### Based on the official pmx tutorial: http://pmx.mpibpc.mpg.de/sardinia2018_tutorial1/index.html\n",
    "***\n",
    "This tutorial aims to illustrate how to compute a **fast-growth** **mutation free energy** calculation, step by step, using the **BioExcel Building Blocks library (biobb)**. The particular example used is the **Staphylococcal nuclease** protein (PDB code 1STN), a small, minimal protein, appropriate for a short tutorial. \n",
    "\n",
    "The **non-equilibrium free energy calculation** protocol performs a **fast alchemical transition** in the direction **WT->Mut** and back **Mut->WT**. The two **equilibrium trajectories** needed for the tutorial, one for **Wild Type (WT)** and another for the **Mutated (Mut)** protein (Isoleucine 10 to Alanine -I10A-), have already been generated and are included in this example.  We will name **WT as stateA** and **Mut as stateB**."
   ]
  },
  {
   "cell_type": "markdown",
   "metadata": {},
   "source": [
    "<img src=\"schema.png\" />"
   ]
  },
  {
   "cell_type": "markdown",
   "metadata": {},
   "source": [
    "The tutorial calculates the **free energy difference** in the folded state of a protein. Starting from **two 1ns-length independent equilibrium simulations** (WT and mutant), snapshots are selected to start **fast (50ps) transitions** driving the system in the **forward** (WT to mutant) and **reverse** (mutant to WT) directions, and the **work values** required to perform these transitions are collected. With these values, **Crooks Gaussian Intersection** (CGI), **Bennett Acceptance Ratio** (BAR) and **Jarzynski estimator** methods are used to calculate the **free energy difference** between the two states.\n",
    "\n",
    "*Please note that for the sake of disk space this tutorial is using 1ns-length equilibrium trajectories, whereas in the [original example](http://pmx.mpibpc.mpg.de/sardinia2018_tutorial1/eq.mdp) the equilibrium trajectories used were obtained from 10ns-length simulations.*\n",
    "***\n",
    "**Biobb modules** used:\n",
    "\n",
    " - [biobb_pmx](https://github.com/bioexcel/biobb_pmx): Tools to setup and run Alchemical Free Energy calculations.\n",
    " - [biobb_md](https://github.com/bioexcel/biobb_md): Tools to setup and run Molecular Dynamics simulations.\n",
    " - [biobb_analysis](https://github.com/bioexcel/biobb_analysis): Tools to analyse Molecular Dynamics trajectories.\n",
    " \n",
    "**Auxiliar libraries** used:\n",
    "\n",
    " - [nb_conda_kernels](https://github.com/Anaconda-Platform/nb_conda_kernels): Enables a Jupyter Notebook or JupyterLab application in one conda environment to access kernels for Python, R, and other languages found in other environments.\n",
    " - [os](https://docs.python.org/3/library/os.html): Python miscellaneous operating system interfaces\n",
    " - [plotly](https://plot.ly/python/offline/): Python interactive graphing library integrated in Jupyter notebooks.\n",
    "\n",
    "### Conda Installation and Launch\n",
    "\n",
    "```console\n",
    " git clone https://github.com/bioexcel/biobb_wf_pmx_tutorial.git\n",
    " cd biobb_wf_pmx_tutorial\n",
    " conda env create -f conda_env/environment.yml\n",
    " conda activate biobb_wf_pmx_tutorial\n",
    " conda install -y -c bioconda biobb_analysis==2.0.1\n",
    " jupyter-notebook biobb_wf_pmx_tutorial/notebooks/biobb_wf_pmx_tutorial.ipynb\n",
    "  ``` \n",
    "\n",
    "***\n",
    "### Pipeline steps:\n",
    " 1. [Workflow required files](#input)\n",
    " 2. [Extract Snapshots from Equilibrium Trajectories](#extract)\n",
    " 3. [Modelling mutated structure](#mut)\n",
    " 4. [Create Protein System Topology](#top)\n",
    " 5. [Generate Hybrid Topology](#hybridtop)\n",
    " 6. [Creating an index file for the dummy atoms in the morphed structure](#index)\n",
    " 7. [Energetically Minimize the System](#min)\n",
    " 8. [Equilibrate the System (NPT)](#npt)\n",
    " 9. [Free Energy Simulation](#free)\n",
    " 10. [Free Energy Estimation](#post)\n",
    " 11. [Output Files](#output)\n",
    " 12. [Questions & Comments](#questions)"
   ]
  },
  {
   "cell_type": "markdown",
   "metadata": {},
   "source": [
    "***\n",
    "<img style=\"width:400px;\" src=\"logo.png\" />\n",
    "\n",
    "***"
   ]
  },
  {
   "cell_type": "markdown",
   "metadata": {},
   "source": [
    "<a id=\"input\"></a>\n",
    "## Workflow required files\n",
    "Workflow **Input files** needed:\n",
    " - **stateA_traj**: Equilibrium trajectory for the **WT protein**.\n",
    " - **stateB_traj**: Equilibrium trajectory for the **Mutated protein**.\n",
    " - **stateA_tpr**: **WT protein topology** (GROMACS tpr format).\n",
    " - **stateB_tpr**: **Mutated protein topology** (GROMACS tpr format).\n",
    " \n",
    "Auxiliar **force field libraries** needed:\n",
    " - **mutff45** (folder): pmx mutation force field libraries. \n",
    " \n",
    "Collected **transitions work values**:  \n",
    " - **dhdlA.zip**: **Forward** work values required to illustrate how to perform the last step of the pmx workflow with real values, to extract the **free energy**.\n",
    " - **dhdlB.zip**: **Reverse** work values required to illustrate how to perform the last step of the pmx workflow with real values, to extract the **free energy**.\n",
    " "
   ]
  },
  {
   "cell_type": "code",
   "execution_count": 1,
   "metadata": {},
   "outputs": [],
   "source": [
    "import os\n",
    "import zipfile\n",
    "\n",
    "cwd = os.getcwd()\n",
    "gmxlib = cwd + \"/pmx_tutorial/mutff45\"\n",
    "\n",
    "stateA_traj = cwd + \"/pmx_tutorial/stateA_1ns.xtc\"\n",
    "stateA_tpr = cwd + \"/pmx_tutorial/stateA.tpr\"\n",
    "\n",
    "stateB_traj = cwd + \"/pmx_tutorial/stateB_1ns.xtc\"\n",
    "stateB_tpr = cwd + \"/pmx_tutorial/stateB.tpr\""
   ]
  },
  {
   "cell_type": "markdown",
   "metadata": {},
   "source": [
    "<a id=\"extract\"></a>\n",
    "## Extract Snapshots from Equilibrium Trajectories\n",
    "**Extract snapshots** from **equilibrium trajectories** (stateA, stateB).\n",
    "\n",
    "In the **fast-growth method**, the **free energy difference** in the folded state of a protein is calculated from **two independent equilibrium simulations**, **WT** and **mutant**. These simulations need to **sufficiently sample** the **end state ensembles**, as the **free energy accuracy** will depend on the **sampling convergence**. Typically the equilibrium simulations are in the **nanosecond to microsecond time range**. From the generated trajectories, a suitable number of **snapshots** are selected to start **fast (typically 10 - 200 ps) transitions** driving the system in the **forward (WT to mutant)** and **reverse (mutant to WT)** directions. This particular step **extracts the snapshots** from the **input equilibrium trajectories**. \n",
    "\n",
    "In this tutorial, just **5 snapshots** for each state (forward, reverse) are generated, for **illustration purposes**. In a real example, both **input trajectories should be longer** (10ns upwards) and the **number of extracted snapshots higher**. The number of suitable number of snapshots depend on the **complexity of the mutation**. Larger perturbations will take **longer to converge** in the simulation, so a smaller or more conservative change might be more promising. \n",
    "\n",
    "**WT snapshots**: **stateA**   //    **Mutant snapshots**: **stateB**\n",
    "***\n",
    "**Building Blocks** used:\n",
    " - [GMXTrjConvStrEns](https://biobb-analysis.readthedocs.io/en/latest/gromacs.html#gromacs-gmx-trjconv-str-ens-module) from **biobb_analysis.gromacs.gmx_trjconv_str_ens**\n",
    "***"
   ]
  },
  {
   "cell_type": "code",
   "execution_count": 2,
   "metadata": {},
   "outputs": [
    {
     "name": "stderr",
     "output_type": "stream",
     "text": [
      "2019-12-04 17:44:42,387 [MainThread  ] [INFO ]  Creating 940f0722-b2f3-467a-b6c4-e5383e27f18d temporary folder\n",
      "2019-12-04 17:44:42,388 [MainThread  ] [INFO ]  Not using any container\n",
      "2019-12-04 17:44:44,236 [MainThread  ] [INFO ]  echo \"System\" | gmx trjconv -f /home/gbayarri_local/projects/BioBB/tutorials/biobb_wf_pmx_tutorial/biobb_wf_pmx_tutorial/notebooks/pmx_tutorial/stateA_1ns.xtc -s /home/gbayarri_local/projects/BioBB/tutorials/biobb_wf_pmx_tutorial/biobb_wf_pmx_tutorial/notebooks/pmx_tutorial/stateA.tpr -b 1 -e 1000 -dt 200 -sep -o 940f0722-b2f3-467a-b6c4-e5383e27f18d/frameA.pdb\n",
      "\n",
      "2019-12-04 17:44:44,237 [MainThread  ] [INFO ]  Exit code 0\n",
      "\n",
      "2019-12-04 17:44:44,238 [MainThread  ] [INFO ]  Note that major changes are planned in future for trjconv, to improve usability and utility.Select group for output\n",
      "Selected 0: 'System'\n",
      "\n",
      "2019-12-04 17:44:44,238 [MainThread  ] [INFO ]                       :-) GROMACS - gmx trjconv, 2019.1 (-:\n",
      "\n",
      "                            GROMACS is written by:\n",
      "     Emile Apol      Rossen Apostolov      Paul Bauer     Herman J.C. Berendsen\n",
      "    Par Bjelkmar      Christian Blau   Viacheslav Bolnykh     Kevin Boyd    \n",
      " Aldert van Buuren   Rudi van Drunen     Anton Feenstra       Alan Gray     \n",
      "  Gerrit Groenhof     Anca Hamuraru    Vincent Hindriksen  M. Eric Irrgang  \n",
      "  Aleksei Iupinov   Christoph Junghans     Joe Jordan     Dimitrios Karkoulis\n",
      "    Peter Kasson        Jiri Kraus      Carsten Kutzner      Per Larsson    \n",
      "  Justin A. Lemkul    Viveca Lindahl    Magnus Lundborg     Erik Marklund   \n",
      "    Pascal Merz     Pieter Meulenhoff    Teemu Murtola       Szilard Pall   \n",
      "    Sander Pronk      Roland Schulz      Michael Shirts    Alexey Shvetsov  \n",
      "   Alfons Sijbers     Peter Tieleman      Jon Vincent      Teemu Virolainen \n",
      " Christian Wennberg    Maarten Wolf   \n",
      "                           and the project leaders:\n",
      "        Mark Abraham, Berk Hess, Erik Lindahl, and David van der Spoel\n",
      "\n",
      "Copyright (c) 1991-2000, University of Groningen, The Netherlands.\n",
      "Copyright (c) 2001-2018, The GROMACS development team at\n",
      "Uppsala University, Stockholm University and\n",
      "the Royal Institute of Technology, Sweden.\n",
      "check out http://www.gromacs.org for more information.\n",
      "\n",
      "GROMACS is free software; you can redistribute it and/or modify it\n",
      "under the terms of the GNU Lesser General Public License\n",
      "as published by the Free Software Foundation; either version 2.1\n",
      "of the License, or (at your option) any later version.\n",
      "\n",
      "GROMACS:      gmx trjconv, version 2019.1\n",
      "Executable:   /anaconda3/envs/biobb_dev/bin/gmx\n",
      "Data prefix:  /anaconda3/envs/biobb_dev\n",
      "Working dir:  /home/gbayarri_local/projects/BioBB/tutorials/biobb_wf_pmx_tutorial/biobb_wf_pmx_tutorial/notebooks\n",
      "Command line:\n",
      "  gmx trjconv -f /home/gbayarri_local/projects/BioBB/tutorials/biobb_wf_pmx_tutorial/biobb_wf_pmx_tutorial/notebooks/pmx_tutorial/stateA_1ns.xtc -s /home/gbayarri_local/projects/BioBB/tutorials/biobb_wf_pmx_tutorial/biobb_wf_pmx_tutorial/notebooks/pmx_tutorial/stateA.tpr -b 1 -e 1000 -dt 200 -sep -o 940f0722-b2f3-467a-b6c4-e5383e27f18d/frameA.pdb\n",
      "\n",
      "Will write pdb: Protein data bank file\n",
      "Reading file /home/gbayarri_local/projects/BioBB/tutorials/biobb_wf_pmx_tutorial/biobb_wf_pmx_tutorial/notebooks/pmx_tutorial/stateA.tpr, VERSION 4.6.4-dev-20131114-c1cb6d2 (single precision)\n",
      "Reading file /home/gbayarri_local/projects/BioBB/tutorials/biobb_wf_pmx_tutorial/biobb_wf_pmx_tutorial/notebooks/pmx_tutorial/stateA.tpr, VERSION 4.6.4-dev-20131114-c1cb6d2 (single precision)\n",
      "Group     0 (         System) has 35144 elements\n",
      "Group     1 (        Protein) has  2226 elements\n",
      "Group     2 (      Protein-H) has  1092 elements\n",
      "Group     3 (        C-alpha) has   136 elements\n",
      "Group     4 (       Backbone) has   408 elements\n",
      "Group     5 (      MainChain) has   545 elements\n",
      "Group     6 (   MainChain+Cb) has   672 elements\n",
      "Group     7 (    MainChain+H) has   677 elements\n",
      "Group     8 (      SideChain) has  1549 elements\n",
      "Group     9 (    SideChain-H) has   547 elements\n",
      "Group    10 (    Prot-Masses) has  2226 elements\n",
      "Group    11 (    non-Protein) has 32918 elements\n",
      "Group    12 (          Water) has 32844 elements\n",
      "Group    13 (            SOL) has 32844 elements\n",
      "Group    14 (      non-Water) has  2300 elements\n",
      "Group    15 (          Other) has    74 elements\n",
      "Group    16 (            NaJ) has    32 elements\n",
      "Group    17 (            ClJ) has    42 elements\n",
      "Reading frame       0 time   20.000   \n",
      "Precision of /home/gbayarri_local/projects/BioBB/tutorials/biobb_wf_pmx_tutorial/biobb_wf_pmx_tutorial/notebooks/pmx_tutorial/stateA_1ns.xtc is 0.001 (nm)\n",
      "Reading frame      40 time  820.000    ->  frame      4 time  820.000      \n",
      "\n",
      "\n",
      "GROMACS reminds you: \"Problems worthy of attack prove their worth by hitting back.\" (Piet Hein)\n",
      "\n",
      "\n",
      "2019-12-04 17:44:44,301 [MainThread  ] [INFO ]  Adding:\n",
      "2019-12-04 17:44:44,305 [MainThread  ] [INFO ]  [PosixPath('940f0722-b2f3-467a-b6c4-e5383e27f18d/frameA0.pdb'), PosixPath('940f0722-b2f3-467a-b6c4-e5383e27f18d/frameA1.pdb'), PosixPath('940f0722-b2f3-467a-b6c4-e5383e27f18d/frameA2.pdb'), PosixPath('940f0722-b2f3-467a-b6c4-e5383e27f18d/frameA3.pdb'), PosixPath('940f0722-b2f3-467a-b6c4-e5383e27f18d/frameA4.pdb')]\n",
      "2019-12-04 17:44:44,308 [MainThread  ] [INFO ]  to: /home/gbayarri_local/projects/BioBB/tutorials/biobb_wf_pmx_tutorial/biobb_wf_pmx_tutorial/notebooks/stateA_frames.zip\n",
      "2019-12-04 17:44:44,317 [MainThread  ] [INFO ]  Removed temporary folder: 940f0722-b2f3-467a-b6c4-e5383e27f18d\n",
      "2019-12-04 17:44:44,409 [MainThread  ] [INFO ]  Creating 0b1fc312-6c44-44c1-9efa-f55168a2898f temporary folder\n",
      "2019-12-04 17:44:44,411 [MainThread  ] [INFO ]  Not using any container\n",
      "2019-12-04 17:44:46,171 [MainThread  ] [INFO ]  echo \"System\" | gmx trjconv -f /home/gbayarri_local/projects/BioBB/tutorials/biobb_wf_pmx_tutorial/biobb_wf_pmx_tutorial/notebooks/pmx_tutorial/stateB_1ns.xtc -s /home/gbayarri_local/projects/BioBB/tutorials/biobb_wf_pmx_tutorial/biobb_wf_pmx_tutorial/notebooks/pmx_tutorial/stateB.tpr -b 1 -e 1000 -dt 200 -sep -o 0b1fc312-6c44-44c1-9efa-f55168a2898f/frameB.pdb\n",
      "\n",
      "2019-12-04 17:44:46,172 [MainThread  ] [INFO ]  Exit code 0\n",
      "\n",
      "2019-12-04 17:44:46,172 [MainThread  ] [INFO ]  Note that major changes are planned in future for trjconv, to improve usability and utility.Select group for output\n",
      "Selected 0: 'System'\n",
      "\n",
      "2019-12-04 17:44:46,173 [MainThread  ] [INFO ]                       :-) GROMACS - gmx trjconv, 2019.1 (-:\n",
      "\n",
      "                            GROMACS is written by:\n",
      "     Emile Apol      Rossen Apostolov      Paul Bauer     Herman J.C. Berendsen\n",
      "    Par Bjelkmar      Christian Blau   Viacheslav Bolnykh     Kevin Boyd    \n",
      " Aldert van Buuren   Rudi van Drunen     Anton Feenstra       Alan Gray     \n",
      "  Gerrit Groenhof     Anca Hamuraru    Vincent Hindriksen  M. Eric Irrgang  \n",
      "  Aleksei Iupinov   Christoph Junghans     Joe Jordan     Dimitrios Karkoulis\n",
      "    Peter Kasson        Jiri Kraus      Carsten Kutzner      Per Larsson    \n",
      "  Justin A. Lemkul    Viveca Lindahl    Magnus Lundborg     Erik Marklund   \n",
      "    Pascal Merz     Pieter Meulenhoff    Teemu Murtola       Szilard Pall   \n",
      "    Sander Pronk      Roland Schulz      Michael Shirts    Alexey Shvetsov  \n",
      "   Alfons Sijbers     Peter Tieleman      Jon Vincent      Teemu Virolainen \n",
      " Christian Wennberg    Maarten Wolf   \n",
      "                           and the project leaders:\n",
      "        Mark Abraham, Berk Hess, Erik Lindahl, and David van der Spoel\n",
      "\n",
      "Copyright (c) 1991-2000, University of Groningen, The Netherlands.\n",
      "Copyright (c) 2001-2018, The GROMACS development team at\n",
      "Uppsala University, Stockholm University and\n",
      "the Royal Institute of Technology, Sweden.\n",
      "check out http://www.gromacs.org for more information.\n",
      "\n",
      "GROMACS is free software; you can redistribute it and/or modify it\n",
      "under the terms of the GNU Lesser General Public License\n",
      "as published by the Free Software Foundation; either version 2.1\n",
      "of the License, or (at your option) any later version.\n",
      "\n",
      "GROMACS:      gmx trjconv, version 2019.1\n",
      "Executable:   /anaconda3/envs/biobb_dev/bin/gmx\n",
      "Data prefix:  /anaconda3/envs/biobb_dev\n",
      "Working dir:  /home/gbayarri_local/projects/BioBB/tutorials/biobb_wf_pmx_tutorial/biobb_wf_pmx_tutorial/notebooks\n",
      "Command line:\n",
      "  gmx trjconv -f /home/gbayarri_local/projects/BioBB/tutorials/biobb_wf_pmx_tutorial/biobb_wf_pmx_tutorial/notebooks/pmx_tutorial/stateB_1ns.xtc -s /home/gbayarri_local/projects/BioBB/tutorials/biobb_wf_pmx_tutorial/biobb_wf_pmx_tutorial/notebooks/pmx_tutorial/stateB.tpr -b 1 -e 1000 -dt 200 -sep -o 0b1fc312-6c44-44c1-9efa-f55168a2898f/frameB.pdb\n",
      "\n",
      "Will write pdb: Protein data bank file\n",
      "Reading file /home/gbayarri_local/projects/BioBB/tutorials/biobb_wf_pmx_tutorial/biobb_wf_pmx_tutorial/notebooks/pmx_tutorial/stateB.tpr, VERSION 4.6.4-dev-20131114-c1cb6d2 (single precision)\n",
      "Reading file /home/gbayarri_local/projects/BioBB/tutorials/biobb_wf_pmx_tutorial/biobb_wf_pmx_tutorial/notebooks/pmx_tutorial/stateB.tpr, VERSION 4.6.4-dev-20131114-c1cb6d2 (single precision)\n",
      "Group     0 (         System) has 35138 elements\n",
      "Group     1 (        Protein) has  2217 elements\n",
      "Group     2 (      Protein-H) has  1089 elements\n",
      "Group     3 (        C-alpha) has   136 elements\n",
      "Group     4 (       Backbone) has   408 elements\n",
      "Group     5 (      MainChain) has   545 elements\n",
      "Group     6 (   MainChain+Cb) has   672 elements\n",
      "Group     7 (    MainChain+H) has   677 elements\n",
      "Group     8 (      SideChain) has  1540 elements\n",
      "Group     9 (    SideChain-H) has   544 elements\n",
      "Group    10 (    Prot-Masses) has  2217 elements\n",
      "Group    11 (    non-Protein) has 32921 elements\n",
      "Group    12 (          Water) has 32847 elements\n",
      "Group    13 (            SOL) has 32847 elements\n",
      "Group    14 (      non-Water) has  2291 elements\n",
      "Group    15 (          Other) has    74 elements\n",
      "Group    16 (            NaJ) has    32 elements\n",
      "Group    17 (            ClJ) has    42 elements\n",
      "Reading frame       0 time   20.000   \n",
      "Precision of /home/gbayarri_local/projects/BioBB/tutorials/biobb_wf_pmx_tutorial/biobb_wf_pmx_tutorial/notebooks/pmx_tutorial/stateB_1ns.xtc is 0.001 (nm)\n",
      "Reading frame      40 time  820.000    ->  frame      4 time  820.000      \n",
      "\n",
      "\n",
      "GROMACS reminds you: \"Put Me Inside SSC, Let's Test Superstring Theory, Oh Yoi Yoi Accelerate the Protons\" (Gogol Bordello)\n",
      "\n",
      "\n"
     ]
    },
    {
     "name": "stderr",
     "output_type": "stream",
     "text": [
      "2019-12-04 17:44:46,243 [MainThread  ] [INFO ]  Adding:\n",
      "2019-12-04 17:44:46,244 [MainThread  ] [INFO ]  [PosixPath('0b1fc312-6c44-44c1-9efa-f55168a2898f/frameB0.pdb'), PosixPath('0b1fc312-6c44-44c1-9efa-f55168a2898f/frameB1.pdb'), PosixPath('0b1fc312-6c44-44c1-9efa-f55168a2898f/frameB2.pdb'), PosixPath('0b1fc312-6c44-44c1-9efa-f55168a2898f/frameB3.pdb'), PosixPath('0b1fc312-6c44-44c1-9efa-f55168a2898f/frameB4.pdb')]\n",
      "2019-12-04 17:44:46,247 [MainThread  ] [INFO ]  to: /home/gbayarri_local/projects/BioBB/tutorials/biobb_wf_pmx_tutorial/biobb_wf_pmx_tutorial/notebooks/stateB_frames.zip\n",
      "2019-12-04 17:44:46,256 [MainThread  ] [INFO ]  Removed temporary folder: 0b1fc312-6c44-44c1-9efa-f55168a2898f\n"
     ]
    }
   ],
   "source": [
    "# GMXTrjConvStrEns: extract an ensemble of snapshots from a GROMACS trajectory file\n",
    "# Import module\n",
    "from biobb_analysis.gromacs.gmx_trjconv_str_ens import GMXTrjConvStrEns\n",
    "\n",
    "#### State A ####\n",
    "\n",
    "# Create prop dict and inputs/outputs (StateA)                          \n",
    "output_framesA = 'stateA_frames.zip'\n",
    "\n",
    "prop = {\n",
    "    'selection' : 'System',\n",
    "    'start': 1,    # To be changed to generate as many snapshots as needed\n",
    "    'end': 1000,   # To be changed to generate as many snapshots as needed\n",
    "    'dt': 200,     # To be changed to generate as many snapshots as needed\n",
    "    'output_name': 'frameA',\n",
    "    'output_type': 'pdb'\n",
    "}\n",
    "\n",
    "# Create and launch bb (StateA)        \n",
    "GMXTrjConvStrEns(input_traj_path=stateA_traj,\n",
    "                 input_top_path=stateA_tpr,\n",
    "                 output_str_ens_path=output_framesA,\n",
    "                 properties=prop).launch()\n",
    "\n",
    "# Extract stateA (WT) frames\n",
    "with zipfile.ZipFile(output_framesA, 'r') as zip_f:\n",
    "    zip_f.extractall()\n",
    "    stateA_pdb_list = zip_f.namelist()\n",
    "    \n",
    "#### State B #### \n",
    "    \n",
    "# Create prop dict and inputs/outputs (StateB)                                \n",
    "output_framesB = 'stateB_frames.zip'  \n",
    "    \n",
    "prop = {\n",
    "    'selection' : 'System',\n",
    "    'start': 1,   # To be changed to generate as many snapshots as needed\n",
    "    'end': 1000,  # To be changed to generate as many snapshots as needed\n",
    "    'dt': 200,    # To be changed to generate as many snapshots as needed\n",
    "    'output_name': 'frameB',\n",
    "    'output_type': 'pdb'\n",
    "}\n",
    "\n",
    "# Create and launch bb (StateB)\n",
    "GMXTrjConvStrEns(input_traj_path=stateB_traj,\n",
    "                 input_top_path=stateB_tpr,\n",
    "                 output_str_ens_path=output_framesB,\n",
    "                 properties=prop).launch()\n",
    "    \n",
    "# # Extract stateB (Mutant) frames\n",
    "with zipfile.ZipFile(output_framesB, 'r') as zip_f:\n",
    "    zip_f.extractall()\n",
    "    stateB_pdb_list = zip_f.namelist()"
   ]
  },
  {
   "cell_type": "markdown",
   "metadata": {},
   "source": [
    "***\n",
    "\n",
    "## WARNING\n",
    "For the sake of **time**, this tutorial will only compute the work values for **ONE PARTICULAR frame** of each state. In order to reproduce a **real calculation**, the steps presented in this notebook should be **repeated for the rest of the frames**. The **ensemble of computed work values** should then be used in the **final step of the workflow**, the [free energy calculation](#post).    \n",
    "***"
   ]
  },
  {
   "cell_type": "code",
   "execution_count": 3,
   "metadata": {},
   "outputs": [],
   "source": [
    "# Prepare Mutation Free Energy calculation for ONE PARTICULAR frame of each state\n",
    "# (to be repeated for the rest of the frames)\n",
    "pdbA = stateA_pdb_list[0]\n",
    "pdbB = stateB_pdb_list[0]"
   ]
  },
  {
   "cell_type": "markdown",
   "metadata": {},
   "source": [
    "<a id=\"mut\"></a>\n",
    "## Modelling mutated structures\n",
    "**Modelling mutated structures** with the desired new residues using **pmx** package. In this case:\n",
    "\n",
    "**Isoleucine** residue nº10 will be mutated to an **Alanine** in the **forward** transition.\n",
    "\n",
    "**Alanine** residue nº10 will be mutated to an **Isoleucine** in the **reverse** transition.\n",
    "\n",
    "*Note:* This tutorial is using a **Docker container** to run **pmx**. To use a local installation of **pmx**, just modify the appropriate properties parameter **pmx_cli_path**. \n",
    "***\n",
    "**Building Blocks** used:\n",
    " - [Mutate](https://biobb-pmx.readthedocs.io/en/latest/pmx.html#module-pmx.mutate) from **biobb_pmx.pmx.mutate**\n",
    "***"
   ]
  },
  {
   "cell_type": "markdown",
   "metadata": {},
   "source": [
    "## WARNING\n",
    "The first time that **pmx Docker** container is used, it will be **automatically downloaded** and integrated in the Docker system. This can take **some time, in the order of minutes**, depending on the available **network**. Please, be patient if the workflow gets stuck in this step. \n",
    "\n",
    "This process is **only done once**. When the docker is downloaded, the system will locate it and **it will not be required to download again**.     \n",
    "***"
   ]
  },
  {
   "cell_type": "code",
   "execution_count": 4,
   "metadata": {},
   "outputs": [
    {
     "name": "stderr",
     "output_type": "stream",
     "text": [
      "2019-12-04 17:44:54,340 [MainThread  ] [INFO ]  Using Docker image mmbirb/pmx\n",
      "2019-12-04 17:45:00,522 [MainThread  ] [INFO ]  docker run -v /home/gbayarri_local/projects/BioBB/tutorials/biobb_wf_pmx_tutorial/biobb_wf_pmx_tutorial/notebooks/429be53c-8ce0-427e-ae6c-3540892fe26a:/data mmbirb/pmx /bin/bash -c \"cli.py mutate -f /data/frameA0.pdb -o /data/mutA.pdb -ff amber99sb-star-ildn-mut -script /data/mutations.txt\"\n",
      "\n",
      "2019-12-04 17:45:00,526 [MainThread  ] [INFO ]  Exit code 0\n",
      "\n",
      "2019-12-04 17:45:00,528 [MainThread  ] [INFO ]  ---------------------------------------------------------------------------------------------------------\n",
      " Program: mutate | pmx version 2.0+9.geb3590f\n",
      "---------------------------------------------------------------------------------------------------------\n",
      "     File Options          | Type(s)|Mode    | File(s)                | Description \n",
      "---------------------------------------------------------------------------------------------------------\n",
      "     -f !                  | pdb,gro|r       | /data/frameA0.pdb      | input structure file \n",
      "     -fB                   | pdb,gro|r       | proteinB.pdb           | input structure file of the  \n",
      "                           |                 |                        | Bstate (optional)  \n",
      "     -o !                  | pdb,gro|w       | /data/mutA.pdb         | output structure file \n",
      "     -ff !                 | ff|dir          | amber99sb-star-ildn-mut.ff   | path to mutation forcefield  \n",
      "     -script !             | txt|r           | /data/mutations.txt    | text file with mutations  \n",
      "                           |                 |                        | to insert  \n",
      "---------------------------------------------------------------------------------------------------------\n",
      "     Options               | Type            | Value                  | Description \n",
      "---------------------------------------------------------------------------------------------------------\n",
      "     -[no]h                | bool            | False                  | Show help message and quit  \n",
      "     -[no]resinfo          | bool            | False                  | print a 3-letter -> 1-letter  \n",
      "                           |                 |                        | residue list \n",
      "     -[no]dna              | bool            | False                  | generate hybrid residue for  \n",
      "                           |                 |                        | the DNA nucleotides \n",
      "     -[no]rna              | bool            | False                  | generate hybrid residue for  \n",
      "                           |                 |                        | the RNA nucleotides \n",
      "---------------------------------------------------------------------------------------------------------\n",
      "\n",
      "Opening forcefield: /pmx/pmx/data/mutff45/amber99sb-star-ildn-mut.ff\n",
      "log_> Residue to mutate: 10 | ILE | pmxA \n",
      "log_> Mutation to apply: I->A\n",
      "log_> Hybrid residue name: I2A\n",
      "log_> Scanning database for I2A \n",
      "log_> Inserted hybrid residue I2A at position 10 (chain pmxA)\n",
      "\n",
      "mutations done...........\n",
      "\n",
      "\n",
      "2019-12-04 17:45:00,548 [MainThread  ] [INFO ]  Removed: ['/home/gbayarri_local/projects/BioBB/tutorials/biobb_wf_pmx_tutorial/biobb_wf_pmx_tutorial/notebooks/429be53c-8ce0-427e-ae6c-3540892fe26a', '/home/gbayarri_local/projects/BioBB/tutorials/biobb_wf_pmx_tutorial/biobb_wf_pmx_tutorial/notebooks/36c828b7-35f2-4763-9f9e-3573d11f2c47']\n",
      "2019-12-04 17:45:00,560 [MainThread  ] [INFO ]  Using Docker image mmbirb/pmx\n",
      "2019-12-04 17:45:03,961 [MainThread  ] [INFO ]  docker run -v /home/gbayarri_local/projects/BioBB/tutorials/biobb_wf_pmx_tutorial/biobb_wf_pmx_tutorial/notebooks/ed1ff278-dc4b-4c17-a1f8-be6812a17576:/data mmbirb/pmx /bin/bash -c \"cli.py mutate -f /data/frameB0.pdb -o /data/mutB.pdb -ff amber99sb-star-ildn-mut -script /data/mutations.txt\"\n",
      "\n",
      "2019-12-04 17:45:03,964 [MainThread  ] [INFO ]  Exit code 0\n",
      "\n",
      "2019-12-04 17:45:03,967 [MainThread  ] [INFO ]  ---------------------------------------------------------------------------------------------------------\n",
      " Program: mutate | pmx version 2.0+9.geb3590f\n",
      "---------------------------------------------------------------------------------------------------------\n",
      "     File Options          | Type(s)|Mode    | File(s)                | Description \n",
      "---------------------------------------------------------------------------------------------------------\n",
      "     -f !                  | pdb,gro|r       | /data/frameB0.pdb      | input structure file \n",
      "     -fB                   | pdb,gro|r       | proteinB.pdb           | input structure file of the  \n",
      "                           |                 |                        | Bstate (optional)  \n",
      "     -o !                  | pdb,gro|w       | /data/mutB.pdb         | output structure file \n",
      "     -ff !                 | ff|dir          | amber99sb-star-ildn-mut.ff   | path to mutation forcefield  \n",
      "     -script !             | txt|r           | /data/mutations.txt    | text file with mutations  \n",
      "                           |                 |                        | to insert  \n",
      "---------------------------------------------------------------------------------------------------------\n",
      "     Options               | Type            | Value                  | Description \n",
      "---------------------------------------------------------------------------------------------------------\n",
      "     -[no]h                | bool            | False                  | Show help message and quit  \n",
      "     -[no]resinfo          | bool            | False                  | print a 3-letter -> 1-letter  \n",
      "                           |                 |                        | residue list \n",
      "     -[no]dna              | bool            | False                  | generate hybrid residue for  \n",
      "                           |                 |                        | the DNA nucleotides \n",
      "     -[no]rna              | bool            | False                  | generate hybrid residue for  \n",
      "                           |                 |                        | the RNA nucleotides \n",
      "---------------------------------------------------------------------------------------------------------\n",
      "\n",
      "Opening forcefield: /pmx/pmx/data/mutff45/amber99sb-star-ildn-mut.ff\n",
      "log_> Residue to mutate: 10 | ALA | pmxA \n",
      "log_> Mutation to apply: A->I\n",
      "log_> Hybrid residue name: A2I\n",
      "log_> Scanning database for A2I \n",
      "log_> Inserted hybrid residue A2I at position 10 (chain pmxA)\n",
      "\n",
      "mutations done...........\n",
      "\n",
      "\n",
      "2019-12-04 17:45:03,982 [MainThread  ] [INFO ]  Removed: ['/home/gbayarri_local/projects/BioBB/tutorials/biobb_wf_pmx_tutorial/biobb_wf_pmx_tutorial/notebooks/ed1ff278-dc4b-4c17-a1f8-be6812a17576', '/home/gbayarri_local/projects/BioBB/tutorials/biobb_wf_pmx_tutorial/biobb_wf_pmx_tutorial/notebooks/d683c20f-d225-4af5-9c89-62920f149b0a']\n"
     ]
    },
    {
     "data": {
      "text/plain": [
       "0"
      ]
     },
     "execution_count": 4,
     "metadata": {},
     "output_type": "execute_result"
    }
   ],
   "source": [
    "# pmx mutate: Mutate command from pmx package\n",
    "\n",
    "# Import module\n",
    "from biobb_pmx.pmx.mutate import Mutate\n",
    "\n",
    "#### State A (WT->Mut) ####\n",
    "\n",
    "# Create prop dict and inputs/outputs\n",
    "output_structure_mutA = 'mutA.pdb'\n",
    "  \n",
    "prop = {\n",
    "    'force_field' : 'amber99sb-star-ildn-mut',\n",
    "    'mutation_list' : 'Ile10Ala',\n",
    "    'container_path': 'docker',\n",
    "    'container_image' : 'mmbirb/pmx'\n",
    "    #'pmx_cli_path' : 'PATH/pmx-master/pmx/scripts/cli.py'\n",
    "}\n",
    "# Create and launch bb\n",
    "Mutate(input_structure_path=pdbA,\n",
    "       output_structure_path=output_structure_mutA,\n",
    "       properties=prop).launch()\n",
    "\n",
    "#### State B (Mut->WT) ####\n",
    "\n",
    "# Create prop dict and inputs/outputs\n",
    "output_structure_mutB = 'mutB.pdb'\n",
    "  \n",
    "prop = {\n",
    "    'force_field' : 'amber99sb-star-ildn-mut',\n",
    "    'mutation_list' : 'Ala10Ile',\n",
    "    'container_path': 'docker',\n",
    "    'container_image' : 'mmbirb/pmx'\n",
    "    #'pmx_cli_path' : 'PATH/pmx-master/pmx/scripts/cli.py'\n",
    "}\n",
    "# Create and launch bb\n",
    "Mutate(input_structure_path=pdbB,\n",
    "       output_structure_path=output_structure_mutB,\n",
    "       properties=prop).launch()\n"
   ]
  },
  {
   "cell_type": "markdown",
   "metadata": {},
   "source": [
    "<a id=\"top\"></a>\n",
    "***\n",
    "## Create protein system topology\n",
    "**Building GROMACS topology** for the mutated structures.\n",
    "\n",
    "The force field used in this tutorial is [**amber99sb-ildn-mut**](https://dx.doi.org/10.1002%2Fprot.22711): AMBER **parm99** force field with **corrections on backbone** (sb) and **side-chain torsion potentials** (ildn), with **pmx library of modelled mutations** (mut). The path to the particular force field used is given as a property to the building block (**gmxlib**), and can be changed to the appropriate location.\n",
    "\n",
    "Generating two output files: \n",
    "- **GROMACS structure** (gro file)\n",
    "- **GROMACS topology** ZIP compressed file containing:\n",
    "    - *GROMACS topology top file* (top file)\n",
    "    - *GROMACS position restraint file/s* (itp file/s)\n",
    "***\n",
    "**Building Blocks** used:\n",
    " - [Pdb2gmx](https://biobb-md.readthedocs.io/en/latest/gromacs.html#module-gromacs.pdb2gmx) from **biobb_md.gromacs.pdb2gmx**\n",
    "***"
   ]
  },
  {
   "cell_type": "code",
   "execution_count": 5,
   "metadata": {},
   "outputs": [
    {
     "name": "stderr",
     "output_type": "stream",
     "text": [
      "2019-12-04 17:45:10,669 [MainThread  ] [INFO ]  GROMACS Pdb2gmx 20191 version detected\n",
      "2019-12-04 17:45:10,672 [MainThread  ] [INFO ]  Not using any container\n",
      "2019-12-04 17:45:13,488 [MainThread  ] [INFO ]  gmx -nobackup -nocopyright pdb2gmx -f mutA.pdb -o pdb2gmxA.pdb -p p2g.top -water spce -ff amber99sb-star-ildn-mut -i posre.itp\n",
      "\n",
      "2019-12-04 17:45:13,489 [MainThread  ] [INFO ]  Exit code 0\n",
      "\n",
      "2019-12-04 17:45:13,490 [MainThread  ] [INFO ]  \n",
      "Using the Amber99sb-star-ildn-mut force field in directory /home/gbayarri_local/projects/BioBB/tutorials/biobb_wf_pmx_tutorial/biobb_wf_pmx_tutorial/notebooks/pmx_tutorial/mutff45/amber99sb-star-ildn-mut.ff\n",
      "\n",
      "going to rename /home/gbayarri_local/projects/BioBB/tutorials/biobb_wf_pmx_tutorial/biobb_wf_pmx_tutorial/notebooks/pmx_tutorial/mutff45/amber99sb-star-ildn-mut.ff/aminoacids.r2b\n",
      "going to rename /home/gbayarri_local/projects/BioBB/tutorials/biobb_wf_pmx_tutorial/biobb_wf_pmx_tutorial/notebooks/pmx_tutorial/mutff45/amber99sb-star-ildn-mut.ff/dna.r2b\n",
      "going to rename /home/gbayarri_local/projects/BioBB/tutorials/biobb_wf_pmx_tutorial/biobb_wf_pmx_tutorial/notebooks/pmx_tutorial/mutff45/amber99sb-star-ildn-mut.ff/rna.r2b\n",
      "Reading mutA.pdb...\n",
      "Read 'PMX MODEL', 35144 atoms\n",
      "Analyzing pdb file\n",
      "Splitting chemical chains based on TER records or chain id changing.\n",
      "Moved all the water blocks to the end\n",
      "There are 2 chains and 2 blocks of water and 11158 residues with 35144 atoms\n",
      "\n",
      "  chain  #res #atoms\n",
      "  1 ' '   136   2226  \n",
      "  2 ' '    74     74  \n",
      "  3 ' '  9863  29589  (only water)\n",
      "  4 ' '  1085   3255  (only water)\n",
      "\n",
      "Reading residue database... (Amber99sb-star-ildn-mut)\n",
      "Processing chain 1 (2226 atoms, 136 residues)\n",
      "Identified residue LYS1 as a starting terminus.\n",
      "Identified residue SER136 as a ending terminus.\n",
      "Checking for duplicate atoms....\n",
      "Generating any missing hydrogen atoms and/or adding termini.\n",
      "Now there are 136 residues with 2226 atoms\n",
      "Chain time...\n",
      "Processing chain 2 (74 atoms, 74 residues)\n",
      "Residue NaJ1085 has type 'Ion', assuming it is not linked into a chain.\n",
      "Residue NaJ1086 has type 'Ion', assuming it is not linked into a chain.\n",
      "Residue NaJ1087 has type 'Ion', assuming it is not linked into a chain.\n",
      "Residue NaJ1088 has type 'Ion', assuming it is not linked into a chain.\n",
      "Residue NaJ1089 has type 'Ion', assuming it is not linked into a chain.\n",
      "Disabling further notes about ions.\n",
      "Problem with chain definition, or missing terminal residues.\n",
      "This chain does not appear to contain a recognized chain molecule.\n",
      "If this is incorrect, you can edit residuetypes.dat to modify the behavior.\n",
      "Checking for duplicate atoms....\n",
      "Generating any missing hydrogen atoms and/or adding termini.\n",
      "Now there are 74 residues with 74 atoms\n",
      "Chain time...\n",
      "Processing chain 3 (29589 atoms, 9863 residues)\n",
      "Problem with chain definition, or missing terminal residues.\n",
      "This chain does not appear to contain a recognized chain molecule.\n",
      "If this is incorrect, you can edit residuetypes.dat to modify the behavior.\n",
      "Checking for duplicate atoms....\n",
      "Generating any missing hydrogen atoms and/or adding termini.\n",
      "Now there are 9863 residues with 29589 atoms\n",
      "Processing chain 4 (3255 atoms, 1085 residues)\n",
      "Problem with chain definition, or missing terminal residues.\n",
      "This chain does not appear to contain a recognized chain molecule.\n",
      "If this is incorrect, you can edit residuetypes.dat to modify the behavior.\n",
      "Checking for duplicate atoms....\n",
      "Generating any missing hydrogen atoms and/or adding termini.\n",
      "Now there are 1085 residues with 3255 atoms\n",
      "Including chain 1 in system: 2226 atoms 136 residues\n",
      "Including chain 2 in system: 74 atoms 74 residues\n",
      "Including chain 3 in system: 29589 atoms 9863 residues\n",
      "Including chain 4 in system: 3255 atoms 1085 residues\n",
      "\t\t--------- PLEASE NOTE ------------\n",
      "You have successfully generated a topology from: mutA.pdb.\n",
      "The Amber99sb-star-ildn-mut force field and the spce water model are used.\n",
      "\t\t--------- ETON ESAELP ------------\n",
      "\n",
      "2019-12-04 17:45:13,490 [MainThread  ] [INFO ]                       :-) GROMACS - gmx pdb2gmx, 2019.1 (-:\n",
      "\n",
      "Executable:   /anaconda3/envs/biobb_dev/bin/gmx\n",
      "Data prefix:  /anaconda3/envs/biobb_dev\n",
      "Working dir:  /home/gbayarri_local/projects/BioBB/tutorials/biobb_wf_pmx_tutorial/biobb_wf_pmx_tutorial/notebooks\n",
      "Command line:\n",
      "  gmx -nobackup -nocopyright pdb2gmx -f mutA.pdb -o pdb2gmxA.pdb -p p2g.top -water spce -ff amber99sb-star-ildn-mut -i posre.itp\n",
      "\n",
      "Opening force field file /home/gbayarri_local/projects/BioBB/tutorials/biobb_wf_pmx_tutorial/biobb_wf_pmx_tutorial/notebooks/pmx_tutorial/mutff45/amber99sb-star-ildn-mut.ff/aminoacids.r2b\n",
      "Opening force field file /home/gbayarri_local/projects/BioBB/tutorials/biobb_wf_pmx_tutorial/biobb_wf_pmx_tutorial/notebooks/pmx_tutorial/mutff45/amber99sb-star-ildn-mut.ff/dna.r2b\n",
      "Opening force field file /home/gbayarri_local/projects/BioBB/tutorials/biobb_wf_pmx_tutorial/biobb_wf_pmx_tutorial/notebooks/pmx_tutorial/mutff45/amber99sb-star-ildn-mut.ff/rna.r2b\n",
      "All occupancies are one\n",
      "Opening force field file /home/gbayarri_local/projects/BioBB/tutorials/biobb_wf_pmx_tutorial/biobb_wf_pmx_tutorial/notebooks/pmx_tutorial/mutff45/amber99sb-star-ildn-mut.ff/atomtypes.atp\n",
      "Atomtype 103\n",
      "Opening force field file /home/gbayarri_local/projects/BioBB/tutorials/biobb_wf_pmx_tutorial/biobb_wf_pmx_tutorial/notebooks/pmx_tutorial/mutff45/amber99sb-star-ildn-mut.ff/aminoacids.rtp\n",
      "Residue 103\n",
      "Sorting it all out...\n",
      "Opening force field file /home/gbayarri_local/projects/BioBB/tutorials/biobb_wf_pmx_tutorial/biobb_wf_pmx_tutorial/notebooks/pmx_tutorial/mutff45/amber99sb-star-ildn-mut.ff/dna.rtp\n",
      "Residue 119\n",
      "Sorting it all out...\n",
      "Opening force field file /home/gbayarri_local/projects/BioBB/tutorials/biobb_wf_pmx_tutorial/biobb_wf_pmx_tutorial/notebooks/pmx_tutorial/mutff45/amber99sb-star-ildn-mut.ff/mutres.rtp\n",
      "Residue 671\n",
      "Sorting it all out...\n",
      "Opening force field file /home/gbayarri_local/projects/BioBB/tutorials/biobb_wf_pmx_tutorial/biobb_wf_pmx_tutorial/notebooks/pmx_tutorial/mutff45/amber99sb-star-ildn-mut.ff/rna.rtp\n",
      "Residue 687\n",
      "Sorting it all out...\n",
      "Opening force field file /home/gbayarri_local/projects/BioBB/tutorials/biobb_wf_pmx_tutorial/biobb_wf_pmx_tutorial/notebooks/pmx_tutorial/mutff45/amber99sb-star-ildn-mut.ff/aminoacids.hdb\n",
      "Opening force field file /home/gbayarri_local/projects/BioBB/tutorials/biobb_wf_pmx_tutorial/biobb_wf_pmx_tutorial/notebooks/pmx_tutorial/mutff45/amber99sb-star-ildn-mut.ff/dna.hdb\n",
      "Opening force field file /home/gbayarri_local/projects/BioBB/tutorials/biobb_wf_pmx_tutorial/biobb_wf_pmx_tutorial/notebooks/pmx_tutorial/mutff45/amber99sb-star-ildn-mut.ff/rna.hdb\n",
      "Opening force field file /home/gbayarri_local/projects/BioBB/tutorials/biobb_wf_pmx_tutorial/biobb_wf_pmx_tutorial/notebooks/pmx_tutorial/mutff45/amber99sb-star-ildn-mut.ff/aminoacids.n.tdb\n",
      "Opening force field file /home/gbayarri_local/projects/BioBB/tutorials/biobb_wf_pmx_tutorial/biobb_wf_pmx_tutorial/notebooks/pmx_tutorial/mutff45/amber99sb-star-ildn-mut.ff/aminoacids.c.tdb\n",
      "Analysing hydrogen-bonding network for automated assignment of histidine\n",
      " protonation. 210 donors and 198 acceptors were found.\n",
      "There are 298 hydrogen bonds\n",
      "Will use HISE for residue 3\n",
      "Will use HISE for residue 41\n",
      "Will use HISE for residue 116\n",
      "Will use HISE for residue 119\n",
      "8 out of 8 lines of specbond.dat converted successfully\n",
      "Special Atom Distance matrix:\n",
      "                    HIS3   MET21   MET27   HIS41   MET60   MET93  HIS116\n",
      "                   NE255   SD337   SD435  NE2675   SD975  SD1506 NE21875\n",
      "   MET21   SD337   1.570\n",
      "   MET27   SD435   0.902   1.059\n",
      "   HIS41  NE2675   2.903   2.796   2.200\n",
      "   MET60   SD975   2.057   2.210   1.909   2.403\n",
      "   MET93  SD1506   1.532   2.338   1.673   2.458   0.926\n",
      "  HIS116 NE21875   1.254   2.411   1.637   2.700   1.436   0.535\n",
      "  HIS119 NE21924   1.961   2.850   2.206   2.811   1.159   0.541   0.770\n",
      "                \n",
      "                \n",
      "Opening force field file /home/gbayarri_local/projects/BioBB/tutorials/biobb_wf_pmx_tutorial/biobb_wf_pmx_tutorial/notebooks/pmx_tutorial/mutff45/amber99sb-star-ildn-mut.ff/aminoacids.arn\n",
      "Opening force field file /home/gbayarri_local/projects/BioBB/tutorials/biobb_wf_pmx_tutorial/biobb_wf_pmx_tutorial/notebooks/pmx_tutorial/mutff45/amber99sb-star-ildn-mut.ff/dna.arn\n",
      "Opening force field file /home/gbayarri_local/projects/BioBB/tutorials/biobb_wf_pmx_tutorial/biobb_wf_pmx_tutorial/notebooks/pmx_tutorial/mutff45/amber99sb-star-ildn-mut.ff/rna.arn\n",
      "Making bonds...\n",
      "Number of bonds was 2248, now 2247\n",
      "Generating angles, dihedrals and pairs...\n",
      "Before cleaning: 5932 pairs\n",
      "Before cleaning: 6154 dihedrals\n",
      "Keeping all generated dihedrals\n",
      "Making cmap torsions...\n",
      "There are 6154 dihedrals,  531 impropers, 4097 angles\n",
      "          5899 pairs,     2247 bonds and     0 virtual sites\n",
      "Total mass 15516.202 a.m.u.\n",
      "Total charge 10.000 e\n",
      "Writing topology\n",
      "8 out of 8 lines of specbond.dat converted successfully\n",
      "Opening force field file /home/gbayarri_local/projects/BioBB/tutorials/biobb_wf_pmx_tutorial/biobb_wf_pmx_tutorial/notebooks/pmx_tutorial/mutff45/amber99sb-star-ildn-mut.ff/aminoacids.arn\n",
      "Opening force field file /home/gbayarri_local/projects/BioBB/tutorials/biobb_wf_pmx_tutorial/biobb_wf_pmx_tutorial/notebooks/pmx_tutorial/mutff45/amber99sb-star-ildn-mut.ff/dna.arn\n",
      "Opening force field file /home/gbayarri_local/projects/BioBB/tutorials/biobb_wf_pmx_tutorial/biobb_wf_pmx_tutorial/notebooks/pmx_tutorial/mutff45/amber99sb-star-ildn-mut.ff/rna.arn\n",
      "Making bonds...\n",
      "No bonds\n",
      "Generating angles, dihedrals and pairs...\n",
      "Making cmap torsions...\n",
      "There are    0 dihedrals,    0 impropers,    0 angles\n",
      "             0 pairs,        0 bonds and     0 virtual sites\n",
      "Total mass 2224.580 a.m.u.\n",
      "Total charge -10.000 e\n",
      "Writing topology\n",
      "8 out of 8 lines of specbond.dat converted successfully\n",
      "Opening force field file /home/gbayarri_local/projects/BioBB/tutorials/biobb_wf_pmx_tutorial/biobb_wf_pmx_tutorial/notebooks/pmx_tutorial/mutff45/amber99sb-star-ildn-mut.ff/aminoacids.arn\n",
      "Opening force field file /home/gbayarri_local/projects/BioBB/tutorials/biobb_wf_pmx_tutorial/biobb_wf_pmx_tutorial/notebooks/pmx_tutorial/mutff45/amber99sb-star-ildn-mut.ff/dna.arn\n",
      "Opening force field file /home/gbayarri_local/projects/BioBB/tutorials/biobb_wf_pmx_tutorial/biobb_wf_pmx_tutorial/notebooks/pmx_tutorial/mutff45/amber99sb-star-ildn-mut.ff/rna.arn\n",
      "Making bonds...\n",
      "Number of bonds was 19726, now 19726\n",
      "Generating angles, dihedrals and pairs...\n",
      "Making cmap torsions...\n",
      "There are    0 dihedrals,    0 impropers, 9863 angles\n",
      "             0 pairs,     19726 bonds and     0 virtual sites\n",
      "Total mass 177691.808 a.m.u.\n",
      "Total charge 0.000 e\n",
      "8 out of 8 lines of specbond.dat converted successfully\n",
      "Opening force field file /home/gbayarri_local/projects/BioBB/tutorials/biobb_wf_pmx_tutorial/biobb_wf_pmx_tutorial/notebooks/pmx_tutorial/mutff45/amber99sb-star-ildn-mut.ff/aminoacids.arn\n",
      "Opening force field file /home/gbayarri_local/projects/BioBB/tutorials/biobb_wf_pmx_tutorial/biobb_wf_pmx_tutorial/notebooks/pmx_tutorial/mutff45/amber99sb-star-ildn-mut.ff/dna.arn\n",
      "Opening force field file /home/gbayarri_local/projects/BioBB/tutorials/biobb_wf_pmx_tutorial/biobb_wf_pmx_tutorial/notebooks/pmx_tutorial/mutff45/amber99sb-star-ildn-mut.ff/rna.arn\n",
      "Making bonds...\n",
      "Number of bonds was 2170, now 2170\n",
      "Generating angles, dihedrals and pairs...\n",
      "Making cmap torsions...\n",
      "There are    0 dihedrals,    0 impropers, 1085 angles\n",
      "             0 pairs,     2170 bonds and     0 virtual sites\n",
      "Total mass 19547.360 a.m.u.\n",
      "Total charge 0.000 e\n",
      "Now there are 35144 atoms and 11158 residues\n",
      "Total mass in system 214979.951 a.m.u.\n",
      "Total charge in system 0.000 e\n",
      "\n",
      "Writing coordinate file...\n",
      "\n",
      "GROMACS reminds you: \"Welcome to the Power Age\" (2 Unlimited)\n",
      "\n",
      "\n"
     ]
    },
    {
     "name": "stderr",
     "output_type": "stream",
     "text": [
      "2019-12-04 17:45:13,492 [MainThread  ] [INFO ]  Compressing topology to: pdb2gmxA_top.zip\n",
      "2019-12-04 17:45:13,494 [MainThread  ] [INFO ]  Ignored file amber99sb-star-ildn-mut.ff/forcefield.itp\n",
      "2019-12-04 17:45:13,518 [MainThread  ] [INFO ]  Ignored file amber99sb-star-ildn-mut.ff/spce.itp\n",
      "2019-12-04 17:45:13,520 [MainThread  ] [INFO ]  Ignored file amber99sb-star-ildn-mut.ff/ions.itp\n",
      "2019-12-04 17:45:13,530 [MainThread  ] [INFO ]  Adding:\n",
      "2019-12-04 17:45:13,534 [MainThread  ] [INFO ]  ['p2g.top', 'p2g_Ion2.itp', 'p2g_Protein.itp', 'posre_Ion2.itp', 'posre_Protein.itp']\n",
      "2019-12-04 17:45:13,535 [MainThread  ] [INFO ]  to: /home/gbayarri_local/projects/BioBB/tutorials/biobb_wf_pmx_tutorial/biobb_wf_pmx_tutorial/notebooks/pdb2gmxA_top.zip\n",
      "2019-12-04 17:45:13,536 [MainThread  ] [INFO ]  Removed: ['p2g.top']\n",
      "2019-12-04 17:45:13,556 [MainThread  ] [INFO ]  GROMACS Pdb2gmx 20191 version detected\n",
      "2019-12-04 17:45:13,558 [MainThread  ] [INFO ]  Not using any container\n",
      "2019-12-04 17:45:16,938 [MainThread  ] [INFO ]  gmx -nobackup -nocopyright pdb2gmx -f mutB.pdb -o pdb2gmxB.pdb -p p2g.top -water spce -ff amber99sb-star-ildn-mut -i posre.itp\n",
      "\n",
      "2019-12-04 17:45:16,939 [MainThread  ] [INFO ]  Exit code 0\n",
      "\n",
      "2019-12-04 17:45:16,940 [MainThread  ] [INFO ]  \n",
      "Using the Amber99sb-star-ildn-mut force field in directory /home/gbayarri_local/projects/BioBB/tutorials/biobb_wf_pmx_tutorial/biobb_wf_pmx_tutorial/notebooks/pmx_tutorial/mutff45/amber99sb-star-ildn-mut.ff\n",
      "\n",
      "going to rename /home/gbayarri_local/projects/BioBB/tutorials/biobb_wf_pmx_tutorial/biobb_wf_pmx_tutorial/notebooks/pmx_tutorial/mutff45/amber99sb-star-ildn-mut.ff/aminoacids.r2b\n",
      "going to rename /home/gbayarri_local/projects/BioBB/tutorials/biobb_wf_pmx_tutorial/biobb_wf_pmx_tutorial/notebooks/pmx_tutorial/mutff45/amber99sb-star-ildn-mut.ff/dna.r2b\n",
      "going to rename /home/gbayarri_local/projects/BioBB/tutorials/biobb_wf_pmx_tutorial/biobb_wf_pmx_tutorial/notebooks/pmx_tutorial/mutff45/amber99sb-star-ildn-mut.ff/rna.r2b\n",
      "Reading mutB.pdb...\n",
      "Read 'PMX MODEL', 35147 atoms\n",
      "Analyzing pdb file\n",
      "Splitting chemical chains based on TER records or chain id changing.\n",
      "Moved all the water blocks to the end\n",
      "There are 2 chains and 2 blocks of water and 11159 residues with 35147 atoms\n",
      "\n",
      "  chain  #res #atoms\n",
      "  1 ' '   136   2226  \n",
      "  2 ' '    74     74  \n",
      "  3 ' '  9863  29589  (only water)\n",
      "  4 ' '  1086   3258  (only water)\n",
      "\n",
      "Reading residue database... (Amber99sb-star-ildn-mut)\n",
      "Processing chain 1 (2226 atoms, 136 residues)\n",
      "Identified residue LYS1 as a starting terminus.\n",
      "Identified residue SER136 as a ending terminus.\n",
      "Checking for duplicate atoms....\n",
      "Generating any missing hydrogen atoms and/or adding termini.\n",
      "Now there are 136 residues with 2226 atoms\n",
      "Chain time...\n",
      "Processing chain 2 (74 atoms, 74 residues)\n",
      "Residue NaJ1086 has type 'Ion', assuming it is not linked into a chain.\n",
      "Residue NaJ1087 has type 'Ion', assuming it is not linked into a chain.\n",
      "Residue NaJ1088 has type 'Ion', assuming it is not linked into a chain.\n",
      "Residue NaJ1089 has type 'Ion', assuming it is not linked into a chain.\n",
      "Residue NaJ1090 has type 'Ion', assuming it is not linked into a chain.\n",
      "Disabling further notes about ions.\n",
      "Problem with chain definition, or missing terminal residues.\n",
      "This chain does not appear to contain a recognized chain molecule.\n",
      "If this is incorrect, you can edit residuetypes.dat to modify the behavior.\n",
      "Checking for duplicate atoms....\n",
      "Generating any missing hydrogen atoms and/or adding termini.\n",
      "Now there are 74 residues with 74 atoms\n",
      "Chain time...\n",
      "Processing chain 3 (29589 atoms, 9863 residues)\n",
      "Problem with chain definition, or missing terminal residues.\n",
      "This chain does not appear to contain a recognized chain molecule.\n",
      "If this is incorrect, you can edit residuetypes.dat to modify the behavior.\n",
      "Checking for duplicate atoms....\n",
      "Generating any missing hydrogen atoms and/or adding termini.\n",
      "Now there are 9863 residues with 29589 atoms\n",
      "Processing chain 4 (3258 atoms, 1086 residues)\n",
      "Problem with chain definition, or missing terminal residues.\n",
      "This chain does not appear to contain a recognized chain molecule.\n",
      "If this is incorrect, you can edit residuetypes.dat to modify the behavior.\n",
      "Checking for duplicate atoms....\n",
      "Generating any missing hydrogen atoms and/or adding termini.\n",
      "Now there are 1086 residues with 3258 atoms\n",
      "Including chain 1 in system: 2226 atoms 136 residues\n",
      "Including chain 2 in system: 74 atoms 74 residues\n",
      "Including chain 3 in system: 29589 atoms 9863 residues\n",
      "Including chain 4 in system: 3258 atoms 1086 residues\n",
      "\t\t--------- PLEASE NOTE ------------\n",
      "You have successfully generated a topology from: mutB.pdb.\n",
      "The Amber99sb-star-ildn-mut force field and the spce water model are used.\n",
      "\t\t--------- ETON ESAELP ------------\n",
      "\n",
      "2019-12-04 17:45:16,941 [MainThread  ] [INFO ]                       :-) GROMACS - gmx pdb2gmx, 2019.1 (-:\n",
      "\n",
      "Executable:   /anaconda3/envs/biobb_dev/bin/gmx\n",
      "Data prefix:  /anaconda3/envs/biobb_dev\n",
      "Working dir:  /home/gbayarri_local/projects/BioBB/tutorials/biobb_wf_pmx_tutorial/biobb_wf_pmx_tutorial/notebooks\n",
      "Command line:\n",
      "  gmx -nobackup -nocopyright pdb2gmx -f mutB.pdb -o pdb2gmxB.pdb -p p2g.top -water spce -ff amber99sb-star-ildn-mut -i posre.itp\n",
      "\n",
      "Opening force field file /home/gbayarri_local/projects/BioBB/tutorials/biobb_wf_pmx_tutorial/biobb_wf_pmx_tutorial/notebooks/pmx_tutorial/mutff45/amber99sb-star-ildn-mut.ff/aminoacids.r2b\n",
      "Opening force field file /home/gbayarri_local/projects/BioBB/tutorials/biobb_wf_pmx_tutorial/biobb_wf_pmx_tutorial/notebooks/pmx_tutorial/mutff45/amber99sb-star-ildn-mut.ff/dna.r2b\n",
      "Opening force field file /home/gbayarri_local/projects/BioBB/tutorials/biobb_wf_pmx_tutorial/biobb_wf_pmx_tutorial/notebooks/pmx_tutorial/mutff45/amber99sb-star-ildn-mut.ff/rna.r2b\n",
      "All occupancies are one\n",
      "Opening force field file /home/gbayarri_local/projects/BioBB/tutorials/biobb_wf_pmx_tutorial/biobb_wf_pmx_tutorial/notebooks/pmx_tutorial/mutff45/amber99sb-star-ildn-mut.ff/atomtypes.atp\n",
      "Atomtype 103\n",
      "Opening force field file /home/gbayarri_local/projects/BioBB/tutorials/biobb_wf_pmx_tutorial/biobb_wf_pmx_tutorial/notebooks/pmx_tutorial/mutff45/amber99sb-star-ildn-mut.ff/aminoacids.rtp\n",
      "Residue 103\n",
      "Sorting it all out...\n",
      "Opening force field file /home/gbayarri_local/projects/BioBB/tutorials/biobb_wf_pmx_tutorial/biobb_wf_pmx_tutorial/notebooks/pmx_tutorial/mutff45/amber99sb-star-ildn-mut.ff/dna.rtp\n",
      "Residue 119\n",
      "Sorting it all out...\n",
      "Opening force field file /home/gbayarri_local/projects/BioBB/tutorials/biobb_wf_pmx_tutorial/biobb_wf_pmx_tutorial/notebooks/pmx_tutorial/mutff45/amber99sb-star-ildn-mut.ff/mutres.rtp\n",
      "Residue 671\n",
      "Sorting it all out...\n",
      "Opening force field file /home/gbayarri_local/projects/BioBB/tutorials/biobb_wf_pmx_tutorial/biobb_wf_pmx_tutorial/notebooks/pmx_tutorial/mutff45/amber99sb-star-ildn-mut.ff/rna.rtp\n",
      "Residue 687\n",
      "Sorting it all out...\n",
      "Opening force field file /home/gbayarri_local/projects/BioBB/tutorials/biobb_wf_pmx_tutorial/biobb_wf_pmx_tutorial/notebooks/pmx_tutorial/mutff45/amber99sb-star-ildn-mut.ff/aminoacids.hdb\n",
      "Opening force field file /home/gbayarri_local/projects/BioBB/tutorials/biobb_wf_pmx_tutorial/biobb_wf_pmx_tutorial/notebooks/pmx_tutorial/mutff45/amber99sb-star-ildn-mut.ff/dna.hdb\n",
      "Opening force field file /home/gbayarri_local/projects/BioBB/tutorials/biobb_wf_pmx_tutorial/biobb_wf_pmx_tutorial/notebooks/pmx_tutorial/mutff45/amber99sb-star-ildn-mut.ff/rna.hdb\n",
      "Opening force field file /home/gbayarri_local/projects/BioBB/tutorials/biobb_wf_pmx_tutorial/biobb_wf_pmx_tutorial/notebooks/pmx_tutorial/mutff45/amber99sb-star-ildn-mut.ff/aminoacids.n.tdb\n",
      "Opening force field file /home/gbayarri_local/projects/BioBB/tutorials/biobb_wf_pmx_tutorial/biobb_wf_pmx_tutorial/notebooks/pmx_tutorial/mutff45/amber99sb-star-ildn-mut.ff/aminoacids.c.tdb\n",
      "Analysing hydrogen-bonding network for automated assignment of histidine\n",
      " protonation. 210 donors and 198 acceptors were found.\n",
      "There are 297 hydrogen bonds\n",
      "Will use HISE for residue 3\n",
      "Will use HISE for residue 41\n",
      "Will use HISE for residue 116\n",
      "Will use HISE for residue 119\n",
      "8 out of 8 lines of specbond.dat converted successfully\n",
      "Special Atom Distance matrix:\n",
      "                    HIS3   MET21   MET27   HIS41   MET60   MET93  HIS116\n",
      "                   NE255   SD337   SD435  NE2675   SD975  SD1506 NE21875\n",
      "   MET21   SD337   2.016\n",
      "   MET27   SD435   1.595   1.007\n",
      "   HIS41  NE2675   3.557   3.050   2.486\n",
      "   MET60   SD975   2.116   2.166   2.004   2.431\n",
      "   MET93  SD1506   1.559   2.354   1.840   2.503   0.925\n",
      "  HIS116 NE21875   1.133   2.478   1.896   2.946   1.470   0.612\n",
      "  HIS119 NE21924   1.876   2.831   2.384   2.834   1.082   0.553   0.831\n",
      "                \n",
      "                \n",
      "Opening force field file /home/gbayarri_local/projects/BioBB/tutorials/biobb_wf_pmx_tutorial/biobb_wf_pmx_tutorial/notebooks/pmx_tutorial/mutff45/amber99sb-star-ildn-mut.ff/aminoacids.arn\n",
      "Opening force field file /home/gbayarri_local/projects/BioBB/tutorials/biobb_wf_pmx_tutorial/biobb_wf_pmx_tutorial/notebooks/pmx_tutorial/mutff45/amber99sb-star-ildn-mut.ff/dna.arn\n",
      "Opening force field file /home/gbayarri_local/projects/BioBB/tutorials/biobb_wf_pmx_tutorial/biobb_wf_pmx_tutorial/notebooks/pmx_tutorial/mutff45/amber99sb-star-ildn-mut.ff/rna.arn\n",
      "Making bonds...\n",
      "Number of bonds was 2248, now 2247\n",
      "Generating angles, dihedrals and pairs...\n",
      "Before cleaning: 5932 pairs\n",
      "Before cleaning: 6154 dihedrals\n",
      "Keeping all generated dihedrals\n",
      "Making cmap torsions...\n",
      "There are 6154 dihedrals,  531 impropers, 4097 angles\n",
      "          5899 pairs,     2247 bonds and     0 virtual sites\n",
      "Total mass 15494.198 a.m.u.\n",
      "Total charge 10.000 e\n",
      "Writing topology\n",
      "8 out of 8 lines of specbond.dat converted successfully\n",
      "Opening force field file /home/gbayarri_local/projects/BioBB/tutorials/biobb_wf_pmx_tutorial/biobb_wf_pmx_tutorial/notebooks/pmx_tutorial/mutff45/amber99sb-star-ildn-mut.ff/aminoacids.arn\n",
      "Opening force field file /home/gbayarri_local/projects/BioBB/tutorials/biobb_wf_pmx_tutorial/biobb_wf_pmx_tutorial/notebooks/pmx_tutorial/mutff45/amber99sb-star-ildn-mut.ff/dna.arn\n",
      "Opening force field file /home/gbayarri_local/projects/BioBB/tutorials/biobb_wf_pmx_tutorial/biobb_wf_pmx_tutorial/notebooks/pmx_tutorial/mutff45/amber99sb-star-ildn-mut.ff/rna.arn\n",
      "Making bonds...\n",
      "No bonds\n",
      "Generating angles, dihedrals and pairs...\n",
      "Making cmap torsions...\n",
      "There are    0 dihedrals,    0 impropers,    0 angles\n",
      "             0 pairs,        0 bonds and     0 virtual sites\n",
      "Total mass 2224.580 a.m.u.\n",
      "Total charge -10.000 e\n",
      "Writing topology\n",
      "8 out of 8 lines of specbond.dat converted successfully\n",
      "Opening force field file /home/gbayarri_local/projects/BioBB/tutorials/biobb_wf_pmx_tutorial/biobb_wf_pmx_tutorial/notebooks/pmx_tutorial/mutff45/amber99sb-star-ildn-mut.ff/aminoacids.arn\n",
      "Opening force field file /home/gbayarri_local/projects/BioBB/tutorials/biobb_wf_pmx_tutorial/biobb_wf_pmx_tutorial/notebooks/pmx_tutorial/mutff45/amber99sb-star-ildn-mut.ff/dna.arn\n",
      "Opening force field file /home/gbayarri_local/projects/BioBB/tutorials/biobb_wf_pmx_tutorial/biobb_wf_pmx_tutorial/notebooks/pmx_tutorial/mutff45/amber99sb-star-ildn-mut.ff/rna.arn\n",
      "Making bonds...\n",
      "Number of bonds was 19726, now 19726\n",
      "Generating angles, dihedrals and pairs...\n",
      "Making cmap torsions...\n",
      "There are    0 dihedrals,    0 impropers, 9863 angles\n",
      "             0 pairs,     19726 bonds and     0 virtual sites\n",
      "Total mass 177691.808 a.m.u.\n",
      "Total charge 0.000 e\n",
      "8 out of 8 lines of specbond.dat converted successfully\n",
      "Opening force field file /home/gbayarri_local/projects/BioBB/tutorials/biobb_wf_pmx_tutorial/biobb_wf_pmx_tutorial/notebooks/pmx_tutorial/mutff45/amber99sb-star-ildn-mut.ff/aminoacids.arn\n",
      "Opening force field file /home/gbayarri_local/projects/BioBB/tutorials/biobb_wf_pmx_tutorial/biobb_wf_pmx_tutorial/notebooks/pmx_tutorial/mutff45/amber99sb-star-ildn-mut.ff/dna.arn\n",
      "Opening force field file /home/gbayarri_local/projects/BioBB/tutorials/biobb_wf_pmx_tutorial/biobb_wf_pmx_tutorial/notebooks/pmx_tutorial/mutff45/amber99sb-star-ildn-mut.ff/rna.arn\n",
      "Making bonds...\n",
      "Number of bonds was 2172, now 2172\n",
      "Generating angles, dihedrals and pairs...\n",
      "Making cmap torsions...\n",
      "There are    0 dihedrals,    0 impropers, 1086 angles\n",
      "             0 pairs,     2172 bonds and     0 virtual sites\n",
      "Total mass 19565.376 a.m.u.\n",
      "Total charge 0.000 e\n",
      "Now there are 35147 atoms and 11159 residues\n",
      "Total mass in system 214975.963 a.m.u.\n",
      "Total charge in system 0.000 e\n",
      "\n",
      "Writing coordinate file...\n",
      "\n",
      "GROMACS reminds you: \"I'd Like Monday Mornings Better If They Started Later\" (Garfield)\n",
      "\n",
      "\n"
     ]
    },
    {
     "name": "stderr",
     "output_type": "stream",
     "text": [
      "2019-12-04 17:45:16,942 [MainThread  ] [INFO ]  Compressing topology to: pdb2gmxB_top.zip\n",
      "2019-12-04 17:45:16,943 [MainThread  ] [INFO ]  Ignored file amber99sb-star-ildn-mut.ff/forcefield.itp\n",
      "2019-12-04 17:45:16,958 [MainThread  ] [INFO ]  Ignored file amber99sb-star-ildn-mut.ff/spce.itp\n",
      "2019-12-04 17:45:16,959 [MainThread  ] [INFO ]  Ignored file amber99sb-star-ildn-mut.ff/ions.itp\n",
      "2019-12-04 17:45:16,963 [MainThread  ] [INFO ]  Adding:\n",
      "2019-12-04 17:45:16,964 [MainThread  ] [INFO ]  ['p2g.top', 'p2g_Ion2.itp', 'p2g_Protein.itp', 'posre_Ion2.itp', 'posre_Protein.itp']\n",
      "2019-12-04 17:45:16,967 [MainThread  ] [INFO ]  to: /home/gbayarri_local/projects/BioBB/tutorials/biobb_wf_pmx_tutorial/biobb_wf_pmx_tutorial/notebooks/pdb2gmxB_top.zip\n",
      "2019-12-04 17:45:16,970 [MainThread  ] [INFO ]  Removed: ['p2g.top']\n"
     ]
    },
    {
     "data": {
      "text/plain": [
       "0"
      ]
     },
     "execution_count": 5,
     "metadata": {},
     "output_type": "execute_result"
    }
   ],
   "source": [
    "# Create system topology\n",
    "\n",
    "# Import module\n",
    "from biobb_md.gromacs.pdb2gmx import Pdb2gmx\n",
    "\n",
    "#### State A (WT->Mut) ####\n",
    "\n",
    "# Create inputs/outputs\n",
    "output_pdb2gmxA_gro = 'pdb2gmxA.pdb'\n",
    "output_pdb2gmxA_top_zip = 'pdb2gmxA_top.zip'\n",
    "  \n",
    "prop = {\n",
    "    'force_field' : 'amber99sb-star-ildn-mut',\n",
    "    'gmxlib' : gmxlib\n",
    "}\n",
    "\n",
    "# Create and launch bb\n",
    "Pdb2gmx(input_pdb_path=output_structure_mutA,\n",
    "        output_gro_path=output_pdb2gmxA_gro,\n",
    "        output_top_zip_path=output_pdb2gmxA_top_zip,\n",
    "        properties=prop).launch()\n",
    "\n",
    "#### State B (Mut->WT) ####\n",
    "\n",
    "# Create inputs/outputs\n",
    "output_pdb2gmxB_gro = 'pdb2gmxB.pdb'\n",
    "output_pdb2gmxB_top_zip = 'pdb2gmxB_top.zip'\n",
    "  \n",
    "prop = {\n",
    "    'force_field' : 'amber99sb-star-ildn-mut',\n",
    "    'gmxlib' : gmxlib\n",
    "}\n",
    "\n",
    "# Create and launch bb\n",
    "Pdb2gmx(input_pdb_path=output_structure_mutB,\n",
    "        output_gro_path=output_pdb2gmxB_gro,\n",
    "        output_top_zip_path=output_pdb2gmxB_top_zip,\n",
    "        properties=prop).launch()"
   ]
  },
  {
   "cell_type": "markdown",
   "metadata": {},
   "source": [
    "<a id=\"hybridtop\"></a>\n",
    "## Generate Hybrid Topology\n",
    "**Generate Hybrid Topology** for the mutated structure using **pmx** package, adding the **morphing parameters**. \n",
    "\n",
    "*Note:* This tutorial is using a **Docker container** to run **pmx**. To use a local installation of **pmx**, just modify the appropriate properties parameter **pmx_cli_path**. \n",
    "***\n",
    "**Building Blocks** used:\n",
    " - [Gentop](https://biobb-pmx.readthedocs.io/en/latest/pmx.html#module-pmx.gentop) from **biobb_pmx.pmx.gentop**\n",
    "***"
   ]
  },
  {
   "cell_type": "code",
   "execution_count": 6,
   "metadata": {},
   "outputs": [
    {
     "name": "stderr",
     "output_type": "stream",
     "text": [
      "2019-12-04 17:45:16,988 [MainThread  ] [INFO ]  Extracting: /home/gbayarri_local/projects/BioBB/tutorials/biobb_wf_pmx_tutorial/biobb_wf_pmx_tutorial/notebooks/pdb2gmxA_top.zip\n",
      "2019-12-04 17:45:16,989 [MainThread  ] [INFO ]  to:\n",
      "2019-12-04 17:45:16,990 [MainThread  ] [INFO ]  ['260063cd-df72-4b74-90a9-8f19e6c9e4d6/p2g.top', '260063cd-df72-4b74-90a9-8f19e6c9e4d6/p2g_Ion2.itp', '260063cd-df72-4b74-90a9-8f19e6c9e4d6/p2g_Protein.itp', '260063cd-df72-4b74-90a9-8f19e6c9e4d6/posre_Ion2.itp', '260063cd-df72-4b74-90a9-8f19e6c9e4d6/posre_Protein.itp']\n",
      "2019-12-04 17:45:16,990 [MainThread  ] [INFO ]  Unzipping: \n",
      "2019-12-04 17:45:16,991 [MainThread  ] [INFO ]  pdb2gmxA_top.zip\n",
      "2019-12-04 17:45:16,992 [MainThread  ] [INFO ]  To: \n",
      "2019-12-04 17:45:16,993 [MainThread  ] [INFO ]  260063cd-df72-4b74-90a9-8f19e6c9e4d6/p2g.top\n",
      "2019-12-04 17:45:16,994 [MainThread  ] [INFO ]  260063cd-df72-4b74-90a9-8f19e6c9e4d6/p2g_Ion2.itp\n",
      "2019-12-04 17:45:16,994 [MainThread  ] [INFO ]  260063cd-df72-4b74-90a9-8f19e6c9e4d6/p2g_Protein.itp\n",
      "2019-12-04 17:45:16,995 [MainThread  ] [INFO ]  260063cd-df72-4b74-90a9-8f19e6c9e4d6/posre_Ion2.itp\n",
      "2019-12-04 17:45:16,996 [MainThread  ] [INFO ]  260063cd-df72-4b74-90a9-8f19e6c9e4d6/posre_Protein.itp\n",
      "2019-12-04 17:45:16,997 [MainThread  ] [INFO ]  Gentop will be executed on this list of files: \n",
      "2019-12-04 17:45:16,998 [MainThread  ] [INFO ]  {'posre_Protein.itp', 'p2g.top', 'p2g_Protein.itp'}\n",
      "2019-12-04 17:45:17,000 [MainThread  ] [INFO ]  Using Docker image mmbirb/pmx\n",
      "2019-12-04 17:45:18,378 [MainThread  ] [INFO ]  docker run -v /home/gbayarri_local/projects/BioBB/tutorials/biobb_wf_pmx_tutorial/biobb_wf_pmx_tutorial/notebooks/c3a01e86-857f-48bf-8f31-e12d920bd59d:/inout mmbirb/pmx /bin/bash -c \"cli.py gentop -o /inout/posre_Protein.itp -ff amber99sb-star-ildn-mut -log /inout/pmxA_top.log -itp /inout/posre_Protein.itp\"\n",
      "\n",
      "2019-12-04 17:45:18,381 [MainThread  ] [INFO ]  Exit code 0\n",
      "\n",
      "2019-12-04 17:45:18,383 [MainThread  ] [INFO ]  ---------------------------------------------------------------------------------------------------------\n",
      " Program: gentop | pmx version 2.0+9.geb3590f\n",
      "---------------------------------------------------------------------------------------------------------\n",
      "     File Options          | Type(s)|Mode    | File(s)                | Description \n",
      "---------------------------------------------------------------------------------------------------------\n",
      "     -p                    | top|r           | topol.top              | Input Topology File \n",
      "     -itp !                | itp|r           | /inout/posre_Protein.itp   | Optional Input ITP  File \n",
      "     -o !                  | top,itp|w       | /inout/posre_Protein.itp   | Topology or ITP output file  \n",
      "     -ff !                 | ff|dir          | amber99sb-star-ildn-mut.ff   | Mutation force field  \n",
      "     -log !                | log|w           | /inout/pmxA_top.log    | Log file \n",
      "---------------------------------------------------------------------------------------------------------\n",
      "     Options               | Type            | Value                  | Description \n",
      "---------------------------------------------------------------------------------------------------------\n",
      "     -[no]h                | bool            | False                  | Show help message and quit  \n",
      "     -[no]split            | bool            | False                  | Write splitted topologies  \n",
      "                           |                 |                        | for vdw and q morphes \n",
      "     -[no]scale_mass       | bool            | True                   | scale_mass \n",
      "     -[no]dna              | bool            | False                  | generate hybrid residue for  \n",
      "                           |                 |                        | the DNA nucleotides \n",
      "     -[no]rna              | bool            | False                  | generate hybrid residue for  \n",
      "                           |                 |                        | the RNA nucleotides \n",
      "---------------------------------------------------------------------------------------------------------\n",
      "\n",
      "Opening forcefield: /pmx/pmx/data/mutff45/amber99sb-star-ildn-mut.ff\n",
      "Opening forcefield: /pmx/pmx/data/mutff45/amber99sb-star-ildn-mut.ff\n",
      "log_> Reading input .itp file \"/inout/posre_Protein.itp\"\"\n",
      "Opening forcefield: /pmx/pmx/data/mutff45/amber99sb-star-ildn-mut.ff\n",
      "log_> Making bonds for state B -> 0 bonds with perturbed atoms\n",
      "log_> Making angles for state B -> 0 angles with perturbed atoms\n",
      "log_> Making dihedrals for state B -> 0 dihedrals with perturbed atoms\n",
      "log_> Removed 0 fake dihedrals\n",
      "log_> Total charge of state A =  0.0\n",
      "log_> Total charge of state B =  0.0\n",
      "\n",
      "making b-states done...........\n",
      "\n",
      "\n",
      "2019-12-04 17:45:18,397 [MainThread  ] [INFO ]  Using Docker image mmbirb/pmx\n",
      "2019-12-04 17:45:19,651 [MainThread  ] [INFO ]  docker run -v /home/gbayarri_local/projects/BioBB/tutorials/biobb_wf_pmx_tutorial/biobb_wf_pmx_tutorial/notebooks/c3a01e86-857f-48bf-8f31-e12d920bd59d:/inout mmbirb/pmx /bin/bash -c \"cli.py gentop -o /inout/p2g.top -ff amber99sb-star-ildn-mut -log /inout/pmxA_top.log -p /inout/p2g.top\"\n",
      "\n",
      "2019-12-04 17:45:19,652 [MainThread  ] [INFO ]  Exit code 0\n",
      "\n",
      "2019-12-04 17:45:19,653 [MainThread  ] [INFO ]  ---------------------------------------------------------------------------------------------------------\n",
      " Program: gentop | pmx version 2.0+9.geb3590f\n",
      "---------------------------------------------------------------------------------------------------------\n",
      "     File Options          | Type(s)|Mode    | File(s)                | Description \n",
      "---------------------------------------------------------------------------------------------------------\n",
      "     -p !                  | top|r           | /inout/p2g.top         | Input Topology File \n",
      "     -itp                  | itp|r           | topol.itp              | Optional Input ITP  File \n",
      "     -o !                  | top,itp|w       | /inout/p2g.top         | Topology or ITP output file  \n",
      "     -ff !                 | ff|dir          | amber99sb-star-ildn-mut.ff   | Mutation force field  \n",
      "     -log !                | log|w           | /inout/pmxA_top.log    | Log file \n",
      "---------------------------------------------------------------------------------------------------------\n",
      "     Options               | Type            | Value                  | Description \n",
      "---------------------------------------------------------------------------------------------------------\n",
      "     -[no]h                | bool            | False                  | Show help message and quit  \n",
      "     -[no]split            | bool            | False                  | Write splitted topologies  \n",
      "                           |                 |                        | for vdw and q morphes \n",
      "     -[no]scale_mass       | bool            | True                   | scale_mass \n",
      "     -[no]dna              | bool            | False                  | generate hybrid residue for  \n",
      "                           |                 |                        | the DNA nucleotides \n",
      "     -[no]rna              | bool            | False                  | generate hybrid residue for  \n",
      "                           |                 |                        | the RNA nucleotides \n",
      "---------------------------------------------------------------------------------------------------------\n",
      "\n",
      "Opening forcefield: /pmx/pmx/data/mutff45/amber99sb-star-ildn-mut.ff\n",
      "Opening forcefield: /pmx/pmx/data/mutff45/amber99sb-star-ildn-mut.ff\n",
      "log_> Reading input .top file \"/inout/p2g.top\"\n",
      "log_> Making bonds for state B -> 0 bonds with perturbed atoms\n",
      "log_> Making angles for state B -> 0 angles with perturbed atoms\n",
      "log_> Making dihedrals for state B -> 0 dihedrals with perturbed atoms\n",
      "log_> Removed 0 fake dihedrals\n",
      "log_> Total charge of state A =  0.0\n",
      "log_> Total charge of state B =  0.0\n",
      "\n",
      "making b-states done...........\n",
      "\n",
      "\n",
      "2019-12-04 17:45:19,656 [MainThread  ] [INFO ]  Using Docker image mmbirb/pmx\n",
      "2019-12-04 17:45:24,274 [MainThread  ] [INFO ]  docker run -v /home/gbayarri_local/projects/BioBB/tutorials/biobb_wf_pmx_tutorial/biobb_wf_pmx_tutorial/notebooks/c3a01e86-857f-48bf-8f31-e12d920bd59d:/inout mmbirb/pmx /bin/bash -c \"cli.py gentop -o /inout/p2g_Protein.itp -ff amber99sb-star-ildn-mut -log /inout/pmxA_top.log -itp /inout/p2g_Protein.itp\"\n",
      "\n"
     ]
    },
    {
     "name": "stderr",
     "output_type": "stream",
     "text": [
      "2019-12-04 17:45:24,277 [MainThread  ] [INFO ]  Exit code 0\n",
      "\n",
      "2019-12-04 17:45:24,279 [MainThread  ] [INFO ]  ---------------------------------------------------------------------------------------------------------\n",
      " Program: gentop | pmx version 2.0+9.geb3590f\n",
      "---------------------------------------------------------------------------------------------------------\n",
      "     File Options          | Type(s)|Mode    | File(s)                | Description \n",
      "---------------------------------------------------------------------------------------------------------\n",
      "     -p                    | top|r           | topol.top              | Input Topology File \n",
      "     -itp !                | itp|r           | /inout/p2g_Protein.itp   | Optional Input ITP  File \n",
      "     -o !                  | top,itp|w       | /inout/p2g_Protein.itp   | Topology or ITP output file  \n",
      "     -ff !                 | ff|dir          | amber99sb-star-ildn-mut.ff   | Mutation force field  \n",
      "     -log !                | log|w           | /inout/pmxA_top.log    | Log file \n",
      "---------------------------------------------------------------------------------------------------------\n",
      "     Options               | Type            | Value                  | Description \n",
      "---------------------------------------------------------------------------------------------------------\n",
      "     -[no]h                | bool            | False                  | Show help message and quit  \n",
      "     -[no]split            | bool            | False                  | Write splitted topologies  \n",
      "                           |                 |                        | for vdw and q morphes \n",
      "     -[no]scale_mass       | bool            | True                   | scale_mass \n",
      "     -[no]dna              | bool            | False                  | generate hybrid residue for  \n",
      "                           |                 |                        | the DNA nucleotides \n",
      "     -[no]rna              | bool            | False                  | generate hybrid residue for  \n",
      "                           |                 |                        | the RNA nucleotides \n",
      "---------------------------------------------------------------------------------------------------------\n",
      "\n",
      "Opening forcefield: /pmx/pmx/data/mutff45/amber99sb-star-ildn-mut.ff\n",
      "Opening forcefield: /pmx/pmx/data/mutff45/amber99sb-star-ildn-mut.ff\n",
      "log_> Reading input .itp file \"/inout/p2g_Protein.itp\"\"\n",
      "Opening forcefield: /pmx/pmx/data/mutff45/amber99sb-star-ildn-mut.ff\n",
      "log_> Scanning database for I2A \n",
      "log_> Hybrid Residue -> 10 | I2A \n",
      "log_> Making bonds for state B -> 20 bonds with perturbed atoms\n",
      "log_> Making angles for state B -> 40 angles with perturbed atoms\n",
      "default-star\n",
      "log_> Making dihedrals for state B -> 52 dihedrals with perturbed atoms\n",
      "log_> Removed 0 fake dihedrals\n",
      "log_> Total charge of state A =  10.0\n",
      "log_> Total charge of state B =  10.0\n",
      "pmx.forcefield_> Making target charge 0 for residue I2A\n",
      "pmx.forcefield_> No corrections applied to ensure integer charges\n",
      "\n",
      "making b-states done...........\n",
      "\n",
      "\n",
      "2019-12-04 17:45:24,284 [MainThread  ] [INFO ]  Dictionary of itp replacements: \n",
      "2019-12-04 17:45:24,286 [MainThread  ] [INFO ]  {'posre_Protein.itp': 'posre_Protein.itp', 'p2g.top': 'p2g.top', 'p2g_Protein.itp': 'p2g_Protein.itp'}\n",
      "2019-12-04 17:45:24,312 [MainThread  ] [INFO ]  Compressing topology to: pmxA_top.zip\n",
      "2019-12-04 17:45:24,313 [MainThread  ] [INFO ]  Ignored file 260063cd-df72-4b74-90a9-8f19e6c9e4d6/amber99sb-star-ildn-mut.ff/forcefield.itp\n",
      "2019-12-04 17:45:24,333 [MainThread  ] [INFO ]  Ignored file 260063cd-df72-4b74-90a9-8f19e6c9e4d6/amber99sb-star-ildn-mut.ff/spce.itp\n",
      "2019-12-04 17:45:24,334 [MainThread  ] [INFO ]  Ignored file 260063cd-df72-4b74-90a9-8f19e6c9e4d6/amber99sb-star-ildn-mut.ff/ions.itp\n",
      "2019-12-04 17:45:24,342 [MainThread  ] [INFO ]  Adding:\n",
      "2019-12-04 17:45:24,343 [MainThread  ] [INFO ]  ['260063cd-df72-4b74-90a9-8f19e6c9e4d6/p2g.top', '260063cd-df72-4b74-90a9-8f19e6c9e4d6/p2g_Ion2.itp', '260063cd-df72-4b74-90a9-8f19e6c9e4d6/p2g_Protein.itp', '260063cd-df72-4b74-90a9-8f19e6c9e4d6/posre_Ion2.itp']\n",
      "2019-12-04 17:45:24,344 [MainThread  ] [INFO ]  to: /home/gbayarri_local/projects/BioBB/tutorials/biobb_wf_pmx_tutorial/biobb_wf_pmx_tutorial/notebooks/pmxA_top.zip\n",
      "2019-12-04 17:45:24,349 [MainThread  ] [INFO ]  Removed: ['260063cd-df72-4b74-90a9-8f19e6c9e4d6']\n",
      "2019-12-04 17:45:24,360 [MainThread  ] [INFO ]  Extracting: /home/gbayarri_local/projects/BioBB/tutorials/biobb_wf_pmx_tutorial/biobb_wf_pmx_tutorial/notebooks/pdb2gmxB_top.zip\n",
      "2019-12-04 17:45:24,361 [MainThread  ] [INFO ]  to:\n",
      "2019-12-04 17:45:24,363 [MainThread  ] [INFO ]  ['02f38047-38cb-47ae-9f9b-d74bd636da51/p2g.top', '02f38047-38cb-47ae-9f9b-d74bd636da51/p2g_Ion2.itp', '02f38047-38cb-47ae-9f9b-d74bd636da51/p2g_Protein.itp', '02f38047-38cb-47ae-9f9b-d74bd636da51/posre_Ion2.itp', '02f38047-38cb-47ae-9f9b-d74bd636da51/posre_Protein.itp']\n",
      "2019-12-04 17:45:24,364 [MainThread  ] [INFO ]  Unzipping: \n",
      "2019-12-04 17:45:24,367 [MainThread  ] [INFO ]  pdb2gmxB_top.zip\n",
      "2019-12-04 17:45:24,368 [MainThread  ] [INFO ]  To: \n",
      "2019-12-04 17:45:24,369 [MainThread  ] [INFO ]  02f38047-38cb-47ae-9f9b-d74bd636da51/p2g.top\n",
      "2019-12-04 17:45:24,370 [MainThread  ] [INFO ]  02f38047-38cb-47ae-9f9b-d74bd636da51/p2g_Ion2.itp\n",
      "2019-12-04 17:45:24,373 [MainThread  ] [INFO ]  02f38047-38cb-47ae-9f9b-d74bd636da51/p2g_Protein.itp\n",
      "2019-12-04 17:45:24,374 [MainThread  ] [INFO ]  02f38047-38cb-47ae-9f9b-d74bd636da51/posre_Ion2.itp\n",
      "2019-12-04 17:45:24,375 [MainThread  ] [INFO ]  02f38047-38cb-47ae-9f9b-d74bd636da51/posre_Protein.itp\n",
      "2019-12-04 17:45:24,376 [MainThread  ] [INFO ]  Gentop will be executed on this list of files: \n",
      "2019-12-04 17:45:24,378 [MainThread  ] [INFO ]  {'posre_Protein.itp', 'p2g.top', 'p2g_Protein.itp'}\n",
      "2019-12-04 17:45:24,387 [MainThread  ] [INFO ]  Using Docker image mmbirb/pmx\n",
      "2019-12-04 17:45:25,692 [MainThread  ] [INFO ]  docker run -v /home/gbayarri_local/projects/BioBB/tutorials/biobb_wf_pmx_tutorial/biobb_wf_pmx_tutorial/notebooks/5099007e-3eb2-4039-b5e0-c83000bcca62:/inout mmbirb/pmx /bin/bash -c \"cli.py gentop -o /inout/posre_Protein.itp -ff amber99sb-star-ildn-mut -log /inout/pmxB_top.log -itp /inout/posre_Protein.itp\"\n",
      "\n",
      "2019-12-04 17:45:25,693 [MainThread  ] [INFO ]  Exit code 0\n",
      "\n",
      "2019-12-04 17:45:25,693 [MainThread  ] [INFO ]  ---------------------------------------------------------------------------------------------------------\n",
      " Program: gentop | pmx version 2.0+9.geb3590f\n",
      "---------------------------------------------------------------------------------------------------------\n",
      "     File Options          | Type(s)|Mode    | File(s)                | Description \n",
      "---------------------------------------------------------------------------------------------------------\n",
      "     -p                    | top|r           | topol.top              | Input Topology File \n",
      "     -itp !                | itp|r           | /inout/posre_Protein.itp   | Optional Input ITP  File \n",
      "     -o !                  | top,itp|w       | /inout/posre_Protein.itp   | Topology or ITP output file  \n",
      "     -ff !                 | ff|dir          | amber99sb-star-ildn-mut.ff   | Mutation force field  \n",
      "     -log !                | log|w           | /inout/pmxB_top.log    | Log file \n",
      "---------------------------------------------------------------------------------------------------------\n",
      "     Options               | Type            | Value                  | Description \n",
      "---------------------------------------------------------------------------------------------------------\n",
      "     -[no]h                | bool            | False                  | Show help message and quit  \n",
      "     -[no]split            | bool            | False                  | Write splitted topologies  \n",
      "                           |                 |                        | for vdw and q morphes \n",
      "     -[no]scale_mass       | bool            | True                   | scale_mass \n",
      "     -[no]dna              | bool            | False                  | generate hybrid residue for  \n",
      "                           |                 |                        | the DNA nucleotides \n",
      "     -[no]rna              | bool            | False                  | generate hybrid residue for  \n",
      "                           |                 |                        | the RNA nucleotides \n",
      "---------------------------------------------------------------------------------------------------------\n",
      "\n",
      "Opening forcefield: /pmx/pmx/data/mutff45/amber99sb-star-ildn-mut.ff\n",
      "Opening forcefield: /pmx/pmx/data/mutff45/amber99sb-star-ildn-mut.ff\n",
      "log_> Reading input .itp file \"/inout/posre_Protein.itp\"\"\n",
      "Opening forcefield: /pmx/pmx/data/mutff45/amber99sb-star-ildn-mut.ff\n",
      "log_> Making bonds for state B -> 0 bonds with perturbed atoms\n",
      "log_> Making angles for state B -> 0 angles with perturbed atoms\n",
      "log_> Making dihedrals for state B -> 0 dihedrals with perturbed atoms\n",
      "log_> Removed 0 fake dihedrals\n",
      "log_> Total charge of state A =  0.0\n",
      "log_> Total charge of state B =  0.0\n",
      "\n",
      "making b-states done...........\n",
      "\n",
      "\n"
     ]
    },
    {
     "name": "stderr",
     "output_type": "stream",
     "text": [
      "2019-12-04 17:45:25,696 [MainThread  ] [INFO ]  Using Docker image mmbirb/pmx\n",
      "2019-12-04 17:45:27,050 [MainThread  ] [INFO ]  docker run -v /home/gbayarri_local/projects/BioBB/tutorials/biobb_wf_pmx_tutorial/biobb_wf_pmx_tutorial/notebooks/5099007e-3eb2-4039-b5e0-c83000bcca62:/inout mmbirb/pmx /bin/bash -c \"cli.py gentop -o /inout/p2g.top -ff amber99sb-star-ildn-mut -log /inout/pmxB_top.log -p /inout/p2g.top\"\n",
      "\n",
      "2019-12-04 17:45:27,054 [MainThread  ] [INFO ]  Exit code 0\n",
      "\n",
      "2019-12-04 17:45:27,056 [MainThread  ] [INFO ]  ---------------------------------------------------------------------------------------------------------\n",
      " Program: gentop | pmx version 2.0+9.geb3590f\n",
      "---------------------------------------------------------------------------------------------------------\n",
      "     File Options          | Type(s)|Mode    | File(s)                | Description \n",
      "---------------------------------------------------------------------------------------------------------\n",
      "     -p !                  | top|r           | /inout/p2g.top         | Input Topology File \n",
      "     -itp                  | itp|r           | topol.itp              | Optional Input ITP  File \n",
      "     -o !                  | top,itp|w       | /inout/p2g.top         | Topology or ITP output file  \n",
      "     -ff !                 | ff|dir          | amber99sb-star-ildn-mut.ff   | Mutation force field  \n",
      "     -log !                | log|w           | /inout/pmxB_top.log    | Log file \n",
      "---------------------------------------------------------------------------------------------------------\n",
      "     Options               | Type            | Value                  | Description \n",
      "---------------------------------------------------------------------------------------------------------\n",
      "     -[no]h                | bool            | False                  | Show help message and quit  \n",
      "     -[no]split            | bool            | False                  | Write splitted topologies  \n",
      "                           |                 |                        | for vdw and q morphes \n",
      "     -[no]scale_mass       | bool            | True                   | scale_mass \n",
      "     -[no]dna              | bool            | False                  | generate hybrid residue for  \n",
      "                           |                 |                        | the DNA nucleotides \n",
      "     -[no]rna              | bool            | False                  | generate hybrid residue for  \n",
      "                           |                 |                        | the RNA nucleotides \n",
      "---------------------------------------------------------------------------------------------------------\n",
      "\n",
      "Opening forcefield: /pmx/pmx/data/mutff45/amber99sb-star-ildn-mut.ff\n",
      "Opening forcefield: /pmx/pmx/data/mutff45/amber99sb-star-ildn-mut.ff\n",
      "log_> Reading input .top file \"/inout/p2g.top\"\n",
      "log_> Making bonds for state B -> 0 bonds with perturbed atoms\n",
      "log_> Making angles for state B -> 0 angles with perturbed atoms\n",
      "log_> Making dihedrals for state B -> 0 dihedrals with perturbed atoms\n",
      "log_> Removed 0 fake dihedrals\n",
      "log_> Total charge of state A =  0.0\n",
      "log_> Total charge of state B =  0.0\n",
      "\n",
      "making b-states done...........\n",
      "\n",
      "\n",
      "2019-12-04 17:45:27,068 [MainThread  ] [INFO ]  Using Docker image mmbirb/pmx\n",
      "2019-12-04 17:45:33,027 [MainThread  ] [INFO ]  docker run -v /home/gbayarri_local/projects/BioBB/tutorials/biobb_wf_pmx_tutorial/biobb_wf_pmx_tutorial/notebooks/5099007e-3eb2-4039-b5e0-c83000bcca62:/inout mmbirb/pmx /bin/bash -c \"cli.py gentop -o /inout/p2g_Protein.itp -ff amber99sb-star-ildn-mut -log /inout/pmxB_top.log -itp /inout/p2g_Protein.itp\"\n",
      "\n",
      "2019-12-04 17:45:33,030 [MainThread  ] [INFO ]  Exit code 0\n",
      "\n",
      "2019-12-04 17:45:33,031 [MainThread  ] [INFO ]  ---------------------------------------------------------------------------------------------------------\n",
      " Program: gentop | pmx version 2.0+9.geb3590f\n",
      "---------------------------------------------------------------------------------------------------------\n",
      "     File Options          | Type(s)|Mode    | File(s)                | Description \n",
      "---------------------------------------------------------------------------------------------------------\n",
      "     -p                    | top|r           | topol.top              | Input Topology File \n",
      "     -itp !                | itp|r           | /inout/p2g_Protein.itp   | Optional Input ITP  File \n",
      "     -o !                  | top,itp|w       | /inout/p2g_Protein.itp   | Topology or ITP output file  \n",
      "     -ff !                 | ff|dir          | amber99sb-star-ildn-mut.ff   | Mutation force field  \n",
      "     -log !                | log|w           | /inout/pmxB_top.log    | Log file \n",
      "---------------------------------------------------------------------------------------------------------\n",
      "     Options               | Type            | Value                  | Description \n",
      "---------------------------------------------------------------------------------------------------------\n",
      "     -[no]h                | bool            | False                  | Show help message and quit  \n",
      "     -[no]split            | bool            | False                  | Write splitted topologies  \n",
      "                           |                 |                        | for vdw and q morphes \n",
      "     -[no]scale_mass       | bool            | True                   | scale_mass \n",
      "     -[no]dna              | bool            | False                  | generate hybrid residue for  \n",
      "                           |                 |                        | the DNA nucleotides \n",
      "     -[no]rna              | bool            | False                  | generate hybrid residue for  \n",
      "                           |                 |                        | the RNA nucleotides \n",
      "---------------------------------------------------------------------------------------------------------\n",
      "\n",
      "Opening forcefield: /pmx/pmx/data/mutff45/amber99sb-star-ildn-mut.ff\n",
      "Opening forcefield: /pmx/pmx/data/mutff45/amber99sb-star-ildn-mut.ff\n",
      "log_> Reading input .itp file \"/inout/p2g_Protein.itp\"\"\n",
      "Opening forcefield: /pmx/pmx/data/mutff45/amber99sb-star-ildn-mut.ff\n",
      "log_> Scanning database for A2I \n",
      "log_> Hybrid Residue -> 10 | A2I \n",
      "log_> Making bonds for state B -> 20 bonds with perturbed atoms\n",
      "log_> Making angles for state B -> 40 angles with perturbed atoms\n",
      "default-star\n",
      "log_> Making dihedrals for state B -> 52 dihedrals with perturbed atoms\n",
      "log_> Removed 0 fake dihedrals\n",
      "log_> Total charge of state A =  10.0\n",
      "log_> Total charge of state B =  10.0\n",
      "pmx.forcefield_> Making target charge 0 for residue A2I\n",
      "pmx.forcefield_> No corrections applied to ensure integer charges\n",
      "\n",
      "making b-states done...........\n",
      "\n",
      "\n",
      "2019-12-04 17:45:33,040 [MainThread  ] [INFO ]  Dictionary of itp replacements: \n",
      "2019-12-04 17:45:33,042 [MainThread  ] [INFO ]  {'posre_Protein.itp': 'posre_Protein.itp', 'p2g.top': 'p2g.top', 'p2g_Protein.itp': 'p2g_Protein.itp'}\n",
      "2019-12-04 17:45:33,072 [MainThread  ] [INFO ]  Compressing topology to: pmxB_top.zip\n",
      "2019-12-04 17:45:33,073 [MainThread  ] [INFO ]  Ignored file 02f38047-38cb-47ae-9f9b-d74bd636da51/amber99sb-star-ildn-mut.ff/forcefield.itp\n",
      "2019-12-04 17:45:33,091 [MainThread  ] [INFO ]  Ignored file 02f38047-38cb-47ae-9f9b-d74bd636da51/amber99sb-star-ildn-mut.ff/spce.itp\n",
      "2019-12-04 17:45:33,092 [MainThread  ] [INFO ]  Ignored file 02f38047-38cb-47ae-9f9b-d74bd636da51/amber99sb-star-ildn-mut.ff/ions.itp\n",
      "2019-12-04 17:45:33,099 [MainThread  ] [INFO ]  Adding:\n",
      "2019-12-04 17:45:33,101 [MainThread  ] [INFO ]  ['02f38047-38cb-47ae-9f9b-d74bd636da51/p2g.top', '02f38047-38cb-47ae-9f9b-d74bd636da51/p2g_Ion2.itp', '02f38047-38cb-47ae-9f9b-d74bd636da51/p2g_Protein.itp', '02f38047-38cb-47ae-9f9b-d74bd636da51/posre_Ion2.itp']\n",
      "2019-12-04 17:45:33,103 [MainThread  ] [INFO ]  to: /home/gbayarri_local/projects/BioBB/tutorials/biobb_wf_pmx_tutorial/biobb_wf_pmx_tutorial/notebooks/pmxB_top.zip\n",
      "2019-12-04 17:45:33,105 [MainThread  ] [INFO ]  Removed: ['02f38047-38cb-47ae-9f9b-d74bd636da51']\n"
     ]
    },
    {
     "data": {
      "text/plain": [
       "0"
      ]
     },
     "execution_count": 6,
     "metadata": {},
     "output_type": "execute_result"
    }
   ],
   "source": [
    "# pmx gentop: Gentop command (Generate Hybrid Topology) from pmx package\n",
    "\n",
    "# Import module\n",
    "from biobb_pmx.pmx.gentop import Gentop\n",
    "\n",
    "#### State A (WT->Mut) ####\n",
    "\n",
    "# Create prop dict and inputs/outputs\n",
    "output_pmxtopA_top_zip = 'pmxA_top.zip'\n",
    "output_pmxtopA_log = 'pmxA_top.log'\n",
    "  \n",
    "prop = {\n",
    "    'force_field' : 'amber99sb-star-ildn-mut',\n",
    "    'container_path' : 'docker',\n",
    "    'container_image' : 'mmbirb/pmx'\n",
    "    #'pmx_cli_path' : 'PATH/pmx-master/pmx/scripts/cli.py'\n",
    "}\n",
    "\n",
    "#Create and launch bb\n",
    "Gentop(input_top_zip_path=output_pdb2gmxA_top_zip,\n",
    "       output_top_zip_path=output_pmxtopA_top_zip,\n",
    "       output_log_path=output_pmxtopA_log,\n",
    "       properties=prop).launch()\n",
    "\n",
    "#### State B (Mut->WT) ####\n",
    "\n",
    "# Create prop dict and inputs/outputs\n",
    "output_pmxtopB_top_zip = 'pmxB_top.zip'\n",
    "output_pmxtopB_log = 'pmxB_top.log'\n",
    "  \n",
    "prop = {\n",
    "    'force_field' : 'amber99sb-star-ildn-mut',\n",
    "    'container_path' : 'docker',\n",
    "    'container_image' : 'mmbirb/pmx'\n",
    "    #'pmx_cli_path' : 'PATH/pmx-master/pmx/scripts/cli.py'\n",
    "}\n",
    "\n",
    "# Create and launch bb\n",
    "Gentop(input_top_zip_path=output_pdb2gmxB_top_zip,\n",
    "       output_top_zip_path=output_pmxtopB_top_zip,\n",
    "       output_log_path=output_pmxtopB_log,\n",
    "       properties=prop).launch()"
   ]
  },
  {
   "cell_type": "markdown",
   "metadata": {},
   "source": [
    "<a id=\"index\"></a>\n",
    "## Creating an index file for the dummy atoms in the morphed structure\n",
    "\n",
    "Some of the **mutations** done to the protein residues involve the generation of **dummy atoms**, atoms that are **slowly appearing** during the **transition** from the WT to the mutated structure. These **dummy atoms** need to be energy minimized before starting the **thermodynamic integration** step. If there are **no dummy atoms** in the corresponding state, this **energy minimization step can be omitted**.\n",
    "\n",
    "In this particular example, the **WT to mutated protein transition** (Isoleucine to Alanine) is not generating any **dummy atoms**, so it does not need any minimization step. Conversely, the **mutated to WT transition** (Alanine to Isoleucine) is generating 9 **dummy atoms**, so the minimization step is needed for the **reverse transition** (stateB).\n",
    "\n",
    "The **GROMACS** index file is built to **identify the dummy atoms** in the following **energy minimization** step, generating a new **FREEZE group** containing all atoms of the system except the **dummy atoms**. In the minimization process, this group will be **kept frozen**, whereas the **dummy atoms** will be left able to move. \n",
    "***\n",
    "**Building Blocks** used:\n",
    " - [MakeNdx](https://biobb-md.readthedocs.io/en/latest/gromacs.html#module-gromacs.make_ndx) from **biobb_md.gromacs.make_ndx**\n",
    "***"
   ]
  },
  {
   "cell_type": "code",
   "execution_count": 7,
   "metadata": {},
   "outputs": [
    {
     "name": "stderr",
     "output_type": "stream",
     "text": [
      "2019-12-04 17:46:11,069 [MainThread  ] [INFO ]  GROMACS MakeNdx 20191 version detected\n",
      "2019-12-04 17:46:11,071 [MainThread  ] [INFO ]  Not using any container\n",
      "2019-12-04 17:46:11,592 [MainThread  ] [INFO ]  echo 'a D*\n",
      "0 & ! 19\n",
      "name 20 FREEZE \n",
      " q' | gmx -nobackup -nocopyright make_ndx -f pdb2gmxB.pdb -o indexB.ndx\n",
      "\n",
      "2019-12-04 17:46:11,593 [MainThread  ] [INFO ]  Exit code 0\n",
      "\n",
      "2019-12-04 17:46:11,594 [MainThread  ] [INFO ]  Going to read 0 old index file(s)\n",
      "Analysing residue names:\n",
      "There are:   135    Protein residues\n",
      "There are:    75      Other residues\n",
      "There are: 10949      Water residues\n",
      "Analysing Protein...\n",
      "Analysing residues not classified as Protein/DNA/RNA/Water and splitting into groups...\n",
      "\n",
      "  0 System              : 35147 atoms\n",
      "  1 Protein             :  2207 atoms\n",
      "  2 Protein-H           :  1084 atoms\n",
      "  3 C-alpha             :   135 atoms\n",
      "  4 Backbone            :   405 atoms\n",
      "  5 MainChain           :   541 atoms\n",
      "  6 MainChain+Cb        :   667 atoms\n",
      "  7 MainChain+H         :   672 atoms\n",
      "  8 SideChain           :  1535 atoms\n",
      "  9 SideChain-H         :   543 atoms\n",
      " 10 Prot-Masses         :  2207 atoms\n",
      " 11 non-Protein         : 32940 atoms\n",
      " 12 Other               :    93 atoms\n",
      " 13 A2I                 :    19 atoms\n",
      " 14 NaJ                 :    32 atoms\n",
      " 15 ClJ                 :    42 atoms\n",
      " 16 Water               : 32847 atoms\n",
      " 17 SOL                 : 32847 atoms\n",
      " 18 non-Water           :  2300 atoms\n",
      "\n",
      " nr : group      '!': not  'name' nr name   'splitch' nr    Enter: list groups\n",
      " 'a': atom       '&': and  'del' nr         'splitres' nr   'l': list residues\n",
      " 't': atom type  '|': or   'keep' nr        'splitat' nr    'h': help\n",
      " 'r': residue              'res' nr         'chain' char\n",
      " \"name\": group             'case': case sensitive           'q': save and quit\n",
      " 'ri': residue index\n",
      "\n",
      "> \n",
      "Found 9 atoms with name D*\n",
      "\n",
      " 19 D*                  :     9 atoms\n",
      "\n",
      "> \n",
      "Copied index group 0 'System'\n",
      "Copied index group 19 'D*'\n",
      "Complemented group: 35138 atoms\n",
      "Merged two groups with AND: 35147 35138 -> 35138\n",
      "\n",
      " 20 System_&_!D*        : 35138 atoms\n",
      "\n",
      "> \n",
      "\n",
      "> \n",
      "\n",
      "2019-12-04 17:46:11,594 [MainThread  ] [INFO ]                       :-) GROMACS - gmx make_ndx, 2019.1 (-:\n",
      "\n",
      "Executable:   /anaconda3/envs/biobb_dev/bin/gmx\n",
      "Data prefix:  /anaconda3/envs/biobb_dev\n",
      "Working dir:  /home/gbayarri_local/projects/BioBB/tutorials/biobb_wf_pmx_tutorial/biobb_wf_pmx_tutorial/notebooks\n",
      "Command line:\n",
      "  gmx -nobackup -nocopyright make_ndx -f pdb2gmxB.pdb -o indexB.ndx\n",
      "\n",
      "\n",
      "Reading structure file\n",
      "\n",
      "GROMACS reminds you: \"Been There, Done It\" (Beavis and Butthead)\n",
      "\n",
      "\n",
      "2019-12-04 17:46:11,595 [MainThread  ] [INFO ]  Removed: []\n"
     ]
    },
    {
     "data": {
      "text/plain": [
       "0"
      ]
     },
     "execution_count": 7,
     "metadata": {},
     "output_type": "execute_result"
    }
   ],
   "source": [
    "# Gromacs make_ndx: GROMACS Make index command from biobb_md package\n",
    "# IMPORTANT: Only needed for stateB\n",
    "\n",
    "# Import module\n",
    "from biobb_md.gromacs.make_ndx import MakeNdx\n",
    "\n",
    "# Create prop dict and inputs/outputs\n",
    "output_ndx = 'indexB.ndx'\n",
    "  \n",
    "prop = {\n",
    "    'selection' : 'a D*\\n0 & ! 19\\nname 20 FREEZE'\n",
    "}\n",
    "\n",
    "# Create and launch bb\n",
    "MakeNdx(input_structure_path=output_pdb2gmxB_gro,\n",
    "        output_ndx_path=output_ndx,\n",
    "        properties=prop).launch()"
   ]
  },
  {
   "cell_type": "markdown",
   "metadata": {},
   "source": [
    "<a id=\"min\"></a>\n",
    "***\n",
    "## Energetically minimize the system\n",
    "Energetically minimize the **mutated protein** till reaching a desired potential energy.\n",
    "- [Step 1](#emStep1): Creating portable binary run file for energy minimization\n",
    "- [Step 2](#emStep2): Energetically minimize the **dummy atoms** till reaching a force of 100 kJ mol-1 nm-1.\n",
    "- [Step 3](#emStep3): Checking **energy minimization** results. Plotting energy by time during the **minimization** process.\n",
    "***\n",
    "**Building Blocks** used:\n",
    " - [Grompp](https://biobb-md.readthedocs.io/en/latest/gromacs.html#module-gromacs.grompp) from **biobb_md.gromacs.grompp** \n",
    " - [Mdrun](https://biobb-md.readthedocs.io/en/latest/gromacs.html#module-gromacs.mdrun) from **biobb_md.gromacs.mdrun** \n",
    " - [GMXEnergy](https://biobb-analysis.readthedocs.io/en/latest/gromacs.html#module-gromacs.gmx_energy) from **biobb_analysis.gromacs.gmx_energy** \n",
    "***"
   ]
  },
  {
   "cell_type": "markdown",
   "metadata": {},
   "source": [
    "<a id=\"emStep1\"></a>\n",
    "### Step 1: Creating portable binary run file for energy minimization\n",
    "\n",
    "Method used to run the **energy minimization** is a **steepest descent**, with a **maximum force of 100 KJ/mol\\*nm^2**, and a minimization **step size of 1fs**. The **maximum number of steps** to perform if the maximum force is not reached is **10,000 steps**. The previously generated **FREEZE** group is used to keep the system frozen except for the **dummy atoms**.\n",
    "\n",
    "Please note that as previously described, for the stateA (forward transition, Isoleucine to Alanine mutation), as there are no dummies, **the energy minimization is omitted** and **the energy minimization step is skipped**. "
   ]
  },
  {
   "cell_type": "code",
   "execution_count": 8,
   "metadata": {
    "scrolled": true
   },
   "outputs": [
    {
     "name": "stderr",
     "output_type": "stream",
     "text": [
      "2019-12-04 17:46:14,262 [MainThread  ] [INFO ]  GROMACS Grompp 20191 version detected\n",
      "2019-12-04 17:46:14,268 [MainThread  ] [INFO ]  Extracting: /home/gbayarri_local/projects/BioBB/tutorials/biobb_wf_pmx_tutorial/biobb_wf_pmx_tutorial/notebooks/pmxB_top.zip\n",
      "2019-12-04 17:46:14,270 [MainThread  ] [INFO ]  to:\n",
      "2019-12-04 17:46:14,271 [MainThread  ] [INFO ]  ['8a77da46-20f2-406a-9496-7475f7450634/p2g.top', '8a77da46-20f2-406a-9496-7475f7450634/p2g_Ion2.itp', '8a77da46-20f2-406a-9496-7475f7450634/p2g_Protein.itp', '8a77da46-20f2-406a-9496-7475f7450634/posre_Ion2.itp']\n",
      "2019-12-04 17:46:14,273 [MainThread  ] [INFO ]  Unzipping: \n",
      "2019-12-04 17:46:14,274 [MainThread  ] [INFO ]  pmxB_top.zip\n",
      "2019-12-04 17:46:14,275 [MainThread  ] [INFO ]  To: \n",
      "2019-12-04 17:46:14,276 [MainThread  ] [INFO ]  8a77da46-20f2-406a-9496-7475f7450634/p2g.top\n",
      "2019-12-04 17:46:14,278 [MainThread  ] [INFO ]  8a77da46-20f2-406a-9496-7475f7450634/p2g_Ion2.itp\n",
      "2019-12-04 17:46:14,279 [MainThread  ] [INFO ]  8a77da46-20f2-406a-9496-7475f7450634/p2g_Protein.itp\n",
      "2019-12-04 17:46:14,281 [MainThread  ] [INFO ]  8a77da46-20f2-406a-9496-7475f7450634/posre_Ion2.itp\n",
      "2019-12-04 17:46:14,284 [MainThread  ] [INFO ]  Will run a minimization md of 10000 steps\n",
      "2019-12-04 17:46:14,288 [MainThread  ] [INFO ]  Not using any container\n",
      "2019-12-04 17:46:14,630 [MainThread  ] [INFO ]  gmx -nobackup -nocopyright grompp -f 2d1ad51e-2d06-4912-a049-0d6a7d7bc4d6/grompp.mdp -c pdb2gmxB.pdb -r pdb2gmxB.pdb -p 8a77da46-20f2-406a-9496-7475f7450634/p2g.top -o em.tpr -po mdout.mdp -maxwarn 10 -n indexB.ndx\n",
      "\n",
      "2019-12-04 17:46:14,631 [MainThread  ] [INFO ]  Exit code 0\n",
      "\n",
      "2019-12-04 17:46:14,632 [MainThread  ] [INFO ]  Calculating fourier grid dimensions for X Y Z\n",
      "Using a fourier grid of 72x72x72, spacing 0.110 0.110 0.110\n",
      "This run will generate roughly 3 Mb of data\n",
      "\n",
      "2019-12-04 17:46:14,633 [MainThread  ] [INFO ]                        :-) GROMACS - gmx grompp, 2019.1 (-:\n",
      "\n",
      "Executable:   /anaconda3/envs/biobb_dev/bin/gmx\n",
      "Data prefix:  /anaconda3/envs/biobb_dev\n",
      "Working dir:  /home/gbayarri_local/projects/BioBB/tutorials/biobb_wf_pmx_tutorial/biobb_wf_pmx_tutorial/notebooks\n",
      "Command line:\n",
      "  gmx -nobackup -nocopyright grompp -f 2d1ad51e-2d06-4912-a049-0d6a7d7bc4d6/grompp.mdp -c pdb2gmxB.pdb -r pdb2gmxB.pdb -p 8a77da46-20f2-406a-9496-7475f7450634/p2g.top -o em.tpr -po mdout.mdp -maxwarn 10 -n indexB.ndx\n",
      "\n",
      "Setting the LD random seed to 2007202331\n",
      "Generated 5253 of the 5253 non-bonded parameter combinations\n",
      "Generating 1-4 interactions: fudge = 0.5\n",
      "Generated 5253 of the 5253 1-4 parameter combinations\n",
      "Excluding 3 bonded neighbours molecule type 'Protein'\n",
      "Excluding 3 bonded neighbours molecule type 'Ion2'\n",
      "Excluding 2 bonded neighbours molecule type 'SOL'\n",
      "Excluding 2 bonded neighbours molecule type 'SOL'\n",
      "Removing all charge groups because cutoff-scheme=Verlet\n",
      "Number of degrees of freedom in T-Coupling group rest is 24.00\n",
      "Estimate for the relative computational load of the PME mesh part: 0.19\n",
      "\n",
      "GROMACS reminds you: \"I know poetry is not dead, nor genius lost; nor has Mammon gained power over either, to bind or slay; they will both assert their existence, their presence, their liberty and strength again one day.\" (Jane Eyre in Jane Eyre by Charlotte Bronte)\n",
      "\n",
      "\n",
      "2019-12-04 17:46:14,635 [MainThread  ] [INFO ]  Removed: ['mdout.mdp', '8a77da46-20f2-406a-9496-7475f7450634', '2d1ad51e-2d06-4912-a049-0d6a7d7bc4d6']\n"
     ]
    },
    {
     "data": {
      "text/plain": [
       "0"
      ]
     },
     "execution_count": 8,
     "metadata": {},
     "output_type": "execute_result"
    }
   ],
   "source": [
    "# Grompp: Creating portable binary run file for dummy atoms energy minimization\n",
    "from biobb_md.gromacs.grompp import Grompp\n",
    "\n",
    "#### State B (Mut->WT) ####\n",
    "\n",
    "# Create prop dict and inputs/outputs\n",
    "output_tpr_min = 'em.tpr'\n",
    "\n",
    "prop = {\n",
    "    'gmxlib' : gmxlib,\n",
    "    'mdp':{\n",
    "        'type': 'minimization',\n",
    "        'integrator' : 'steep',\n",
    "        'emtol': '100',\n",
    "        'dt': '0.001',\n",
    "        'nsteps':'10000',\n",
    "        'nstcomm': '1',\n",
    "        'nstcalcenergy': '1',\n",
    "        'freezegrps' : 'FREEZE',\n",
    "        'freezedim' : \"Y Y Y\"\n",
    "    }\n",
    "}\n",
    "\n",
    "# Create and launch bb\n",
    "Grompp(input_gro_path=output_pdb2gmxB_gro,\n",
    "       input_top_zip_path=output_pmxtopB_top_zip,\n",
    "       input_ndx_path=output_ndx,\n",
    "       output_tpr_path=output_tpr_min,\n",
    "       properties=prop).launch()"
   ]
  },
  {
   "cell_type": "markdown",
   "metadata": {},
   "source": [
    "<a id=\"emStep2\"></a>\n",
    "### Step 2: Running Energy Minimization\n",
    "Running **energy minimization** using the **tpr file** generated in the previous step."
   ]
  },
  {
   "cell_type": "code",
   "execution_count": 9,
   "metadata": {},
   "outputs": [
    {
     "name": "stderr",
     "output_type": "stream",
     "text": [
      "2019-12-04 17:46:17,086 [MainThread  ] [INFO ]  GROMACS Mdrun 20191 version detected\n",
      "2019-12-04 17:46:17,088 [MainThread  ] [INFO ]  Not using any container\n",
      "2019-12-04 17:46:22,450 [MainThread  ] [INFO ]  gmx -nobackup -nocopyright mdrun -s em.tpr -o emout.trr -c emout.gro -e emout.edr -g emout.log -nt 0\n",
      "\n",
      "2019-12-04 17:46:22,451 [MainThread  ] [INFO ]  Exit code 0\n",
      "\n",
      "2019-12-04 17:46:22,451 [MainThread  ] [INFO ]                        :-) GROMACS - gmx mdrun, 2019.1 (-:\n",
      "\n",
      "Executable:   /anaconda3/envs/biobb_dev/bin/gmx\n",
      "Data prefix:  /anaconda3/envs/biobb_dev\n",
      "Working dir:  /home/gbayarri_local/projects/BioBB/tutorials/biobb_wf_pmx_tutorial/biobb_wf_pmx_tutorial/notebooks\n",
      "Command line:\n",
      "  gmx -nobackup -nocopyright mdrun -s em.tpr -o emout.trr -c emout.gro -e emout.edr -g emout.log -nt 0\n",
      "\n",
      "Compiled SIMD: SSE2, but for this host/run AVX2_256 might be better (see log).\n",
      "The current CPU can measure timings more accurately than the code in\n",
      "gmx mdrun was configured to use. This might affect your simulation\n",
      "speed as accurate timings are needed for load-balancing.\n",
      "Please consider rebuilding gmx mdrun with the GMX_USE_RDTSCP=ON CMake option.\n",
      "Reading file em.tpr, VERSION 2019.1 (single precision)\n",
      "\n",
      "Using 1 MPI thread\n",
      "Using 8 OpenMP threads \n",
      "\n",
      "\n",
      "Steepest Descents:\n",
      "   Tolerance (Fmax)   =  1.00000e+02\n",
      "   Number of steps    =        10000\n",
      "\n",
      "Energy minimization has stopped, but the forces have not converged to the\n",
      "requested precision Fmax < 100 (which may not be possible for your system).\n",
      "It stopped because the algorithm tried to make a new step whose size was too\n",
      "small, or there was no change in the energy since last step. Either way, we\n",
      "regard the minimization as converged to within the available machine\n",
      "precision, given your starting configuration and EM parameters.\n",
      "\n",
      "Double precision normally gives you higher accuracy, but this is often not\n",
      "needed for preparing to run molecular dynamics.\n",
      "You might need to increase your constraint accuracy, or turn\n",
      "off constraints altogether (set constraints = none in mdp file)\n",
      "\n",
      "writing lowest energy coordinates.\n",
      "\n",
      "Steepest Descents converged to machine precision in 94 steps,\n",
      "but did not reach the requested Fmax < 100.\n",
      "Potential Energy  = -5.2575581e+05\n",
      "Maximum force     =  1.5352049e+02 on atom 170\n",
      "Norm of force     =  1.2745203e+00\n",
      "\n",
      "GROMACS reminds you: \"There was no preconception on what to do\" (Daft Punk)\n",
      "\n",
      "\n",
      "2019-12-04 17:46:22,452 [MainThread  ] [INFO ]  Removed: []\n"
     ]
    },
    {
     "data": {
      "text/plain": [
       "0"
      ]
     },
     "execution_count": 9,
     "metadata": {},
     "output_type": "execute_result"
    }
   ],
   "source": [
    "# Mdrun: Running minimization\n",
    "from biobb_md.gromacs.mdrun import Mdrun\n",
    "\n",
    "# Create prop dict and inputs/outputs\n",
    "output_min_trr = 'emout.trr'\n",
    "output_min_gro = 'emout.gro'\n",
    "output_min_edr = 'emout.edr'\n",
    "output_min_log = 'emout.log'\n",
    "\n",
    "# Create and launch bb\n",
    "Mdrun(input_tpr_path=output_tpr_min,\n",
    "      output_trr_path=output_min_trr,\n",
    "      output_gro_path=output_min_gro,\n",
    "      output_edr_path=output_min_edr,\n",
    "      output_log_path=output_min_log).launch()"
   ]
  },
  {
   "cell_type": "markdown",
   "metadata": {},
   "source": [
    "<a id=\"emStep3\"></a>\n",
    "### Step 3: Checking Energy Minimization results\n",
    "Checking **energy minimization** results. Plotting **potential energy** by time during the minimization process. "
   ]
  },
  {
   "cell_type": "code",
   "execution_count": 10,
   "metadata": {},
   "outputs": [
    {
     "name": "stderr",
     "output_type": "stream",
     "text": [
      "2019-12-04 17:46:25,887 [MainThread  ] [INFO ]  Not using any container\n",
      "2019-12-04 17:46:25,900 [MainThread  ] [INFO ]  gmx energy -f /home/gbayarri_local/projects/BioBB/tutorials/biobb_wf_pmx_tutorial/biobb_wf_pmx_tutorial/notebooks/emout.edr -o min_ene.xvg -xvg none < 0967b207-d076-4fad-a425-8a2d1304b4bf/instructions.in\n",
      "\n",
      "2019-12-04 17:46:25,901 [MainThread  ] [INFO ]  Exit code 0\n",
      "\n",
      "2019-12-04 17:46:25,902 [MainThread  ] [INFO ]  \n",
      "Statistics over 85 steps [ 0.0000 through 84.0000 ps ], 1 data sets\n",
      "All statistics are over 64 points (frames)\n",
      "\n",
      "Energy                      Average   Err.Est.       RMSD  Tot-Drift\n",
      "-------------------------------------------------------------------------------\n",
      "Potential                   -525710         41    163.546   -245.001  (kJ/mol)\n",
      "\n",
      "2019-12-04 17:46:25,903 [MainThread  ] [INFO ]                        :-) GROMACS - gmx energy, 2019.1 (-:\n",
      "\n",
      "                            GROMACS is written by:\n",
      "     Emile Apol      Rossen Apostolov      Paul Bauer     Herman J.C. Berendsen\n",
      "    Par Bjelkmar      Christian Blau   Viacheslav Bolnykh     Kevin Boyd    \n",
      " Aldert van Buuren   Rudi van Drunen     Anton Feenstra       Alan Gray     \n",
      "  Gerrit Groenhof     Anca Hamuraru    Vincent Hindriksen  M. Eric Irrgang  \n",
      "  Aleksei Iupinov   Christoph Junghans     Joe Jordan     Dimitrios Karkoulis\n",
      "    Peter Kasson        Jiri Kraus      Carsten Kutzner      Per Larsson    \n",
      "  Justin A. Lemkul    Viveca Lindahl    Magnus Lundborg     Erik Marklund   \n",
      "    Pascal Merz     Pieter Meulenhoff    Teemu Murtola       Szilard Pall   \n",
      "    Sander Pronk      Roland Schulz      Michael Shirts    Alexey Shvetsov  \n",
      "   Alfons Sijbers     Peter Tieleman      Jon Vincent      Teemu Virolainen \n",
      " Christian Wennberg    Maarten Wolf   \n",
      "                           and the project leaders:\n",
      "        Mark Abraham, Berk Hess, Erik Lindahl, and David van der Spoel\n",
      "\n",
      "Copyright (c) 1991-2000, University of Groningen, The Netherlands.\n",
      "Copyright (c) 2001-2018, The GROMACS development team at\n",
      "Uppsala University, Stockholm University and\n",
      "the Royal Institute of Technology, Sweden.\n",
      "check out http://www.gromacs.org for more information.\n",
      "\n",
      "GROMACS is free software; you can redistribute it and/or modify it\n",
      "under the terms of the GNU Lesser General Public License\n",
      "as published by the Free Software Foundation; either version 2.1\n",
      "of the License, or (at your option) any later version.\n",
      "\n",
      "GROMACS:      gmx energy, version 2019.1\n",
      "Executable:   /anaconda3/envs/biobb_dev/bin/gmx\n",
      "Data prefix:  /anaconda3/envs/biobb_dev\n",
      "Working dir:  /home/gbayarri_local/projects/BioBB/tutorials/biobb_wf_pmx_tutorial/biobb_wf_pmx_tutorial/notebooks\n",
      "Command line:\n",
      "  gmx energy -f /home/gbayarri_local/projects/BioBB/tutorials/biobb_wf_pmx_tutorial/biobb_wf_pmx_tutorial/notebooks/emout.edr -o min_ene.xvg -xvg none\n",
      "\n",
      "Opened /home/gbayarri_local/projects/BioBB/tutorials/biobb_wf_pmx_tutorial/biobb_wf_pmx_tutorial/notebooks/emout.edr as single precision energy file\n",
      "\n",
      "Select the terms you want from the following list by\n",
      "selecting either (part of) the name or the number or a combination.\n",
      "End your selection with an empty line or a zero.\n",
      "-------------------------------------------------------------------\n",
      "  1  Bond             2  Angle            3  Proper-Dih.      4  Improper-Dih. \n",
      "  5  LJ-14            6  Coulomb-14       7  LJ-(SR)          8  Coulomb-(SR)  \n",
      "  9  Coul.-recip.    10  Position-Rest.  11  Potential       12  Pressure      \n",
      " 13  Vir-XX          14  Vir-XY          15  Vir-XZ          16  Vir-YX        \n",
      " 17  Vir-YY          18  Vir-YZ          19  Vir-ZX          20  Vir-ZY        \n",
      " 21  Vir-ZZ          22  Pres-XX         23  Pres-XY         24  Pres-XZ       \n",
      " 25  Pres-YX         26  Pres-YY         27  Pres-YZ         28  Pres-ZX       \n",
      " 29  Pres-ZY         30  Pres-ZZ         31  #Surf*SurfTen   32  T-rest        \n",
      "\n",
      "\n",
      "Back Off! I just backed up min_ene.xvg to ./#min_ene.xvg.2#\n",
      "Last energy frame read 63 time   84.000           \n",
      "\n",
      "GROMACS reminds you: \"History has expired\" (PubMed Central)\n",
      "\n",
      "\n",
      "2019-12-04 17:46:25,904 [MainThread  ] [INFO ]  Removed: [PurePosixPath('0967b207-d076-4fad-a425-8a2d1304b4bf')]\n"
     ]
    },
    {
     "data": {
      "text/plain": [
       "0"
      ]
     },
     "execution_count": 10,
     "metadata": {},
     "output_type": "execute_result"
    }
   ],
   "source": [
    "# GMXEnergy: Getting system energy by time  \n",
    "from biobb_analysis.gromacs.gmx_energy import GMXEnergy\n",
    "\n",
    "# Create prop dict and inputs/outputs\n",
    "output_min_ene_xvg = 'min_ene.xvg'\n",
    "prop = {\n",
    "    'terms':  [\"Potential\"]\n",
    "}\n",
    "\n",
    "# Create and launch bb\n",
    "GMXEnergy(input_energy_path=output_min_edr, \n",
    "          output_xvg_path=output_min_ene_xvg, \n",
    "          properties=prop).launch()"
   ]
  },
  {
   "cell_type": "code",
   "execution_count": 11,
   "metadata": {},
   "outputs": [
    {
     "data": {
      "text/html": [
       "        <script type=\"text/javascript\">\n",
       "        window.PlotlyConfig = {MathJaxConfig: 'local'};\n",
       "        if (window.MathJax) {MathJax.Hub.Config({SVG: {font: \"STIX-Web\"}});}\n",
       "        if (typeof require !== 'undefined') {\n",
       "        require.undef(\"plotly\");\n",
       "        requirejs.config({\n",
       "            paths: {\n",
       "                'plotly': ['https://cdn.plot.ly/plotly-latest.min']\n",
       "            }\n",
       "        });\n",
       "        require(['plotly'], function(Plotly) {\n",
       "            window._Plotly = Plotly;\n",
       "        });\n",
       "        }\n",
       "        </script>\n",
       "        "
      ]
     },
     "metadata": {},
     "output_type": "display_data"
    },
    {
     "data": {
      "application/vnd.plotly.v1+json": {
       "config": {
        "linkText": "Export to plot.ly",
        "plotlyServerURL": "https://plot.ly",
        "showLink": false
       },
       "data": [
        {
         "type": "scatter",
         "x": [
          0,
          1,
          2,
          3,
          4,
          5,
          7,
          10,
          11,
          13,
          14,
          15,
          17,
          18,
          20,
          22,
          23,
          24,
          25,
          27,
          28,
          30,
          31,
          32,
          33,
          35,
          36,
          37,
          38,
          40,
          41,
          43,
          44,
          45,
          46,
          48,
          49,
          50,
          51,
          53,
          54,
          55,
          56,
          58,
          59,
          61,
          62,
          63,
          64,
          66,
          67,
          69,
          70,
          71,
          72,
          73,
          74,
          76,
          77,
          78,
          79,
          81,
          82,
          84
         ],
         "y": [
          -524720.375,
          -525047.4375,
          -525313.5,
          -525518.0625,
          -525665.1875,
          -525672.375,
          -525729.5625,
          -525733.9375,
          -525735,
          -525738.9375,
          -525740.5625,
          -525741.375,
          -525744.0625,
          -525745.6875,
          -525746.5625,
          -525746.9375,
          -525747.3125,
          -525747.5625,
          -525748.1875,
          -525748.3125,
          -525748.875,
          -525749.0625,
          -525749.3125,
          -525749.4375,
          -525749.8125,
          -525750,
          -525750.1875,
          -525750.3125,
          -525750.75,
          -525750.9375,
          -525751.1875,
          -525751.375,
          -525751.4375,
          -525751.6875,
          -525751.875,
          -525752.0625,
          -525752.1875,
          -525752.3125,
          -525752.5,
          -525752.6875,
          -525752.875,
          -525752.9375,
          -525753.125,
          -525753.3125,
          -525753.5,
          -525753.5625,
          -525753.6875,
          -525753.8125,
          -525754.0625,
          -525754.125,
          -525754.3125,
          -525754.375,
          -525754.4375,
          -525754.6875,
          -525754.75,
          -525754.8125,
          -525754.9375,
          -525755.125,
          -525755.1875,
          -525755.3125,
          -525755.5,
          -525755.5625,
          -525755.6875,
          -525755.8125
         ]
        }
       ],
       "layout": {
        "template": {
         "data": {
          "bar": [
           {
            "error_x": {
             "color": "#2a3f5f"
            },
            "error_y": {
             "color": "#2a3f5f"
            },
            "marker": {
             "line": {
              "color": "#E5ECF6",
              "width": 0.5
             }
            },
            "type": "bar"
           }
          ],
          "barpolar": [
           {
            "marker": {
             "line": {
              "color": "#E5ECF6",
              "width": 0.5
             }
            },
            "type": "barpolar"
           }
          ],
          "carpet": [
           {
            "aaxis": {
             "endlinecolor": "#2a3f5f",
             "gridcolor": "white",
             "linecolor": "white",
             "minorgridcolor": "white",
             "startlinecolor": "#2a3f5f"
            },
            "baxis": {
             "endlinecolor": "#2a3f5f",
             "gridcolor": "white",
             "linecolor": "white",
             "minorgridcolor": "white",
             "startlinecolor": "#2a3f5f"
            },
            "type": "carpet"
           }
          ],
          "choropleth": [
           {
            "colorbar": {
             "outlinewidth": 0,
             "ticks": ""
            },
            "type": "choropleth"
           }
          ],
          "contour": [
           {
            "colorbar": {
             "outlinewidth": 0,
             "ticks": ""
            },
            "colorscale": [
             [
              0,
              "#0d0887"
             ],
             [
              0.1111111111111111,
              "#46039f"
             ],
             [
              0.2222222222222222,
              "#7201a8"
             ],
             [
              0.3333333333333333,
              "#9c179e"
             ],
             [
              0.4444444444444444,
              "#bd3786"
             ],
             [
              0.5555555555555556,
              "#d8576b"
             ],
             [
              0.6666666666666666,
              "#ed7953"
             ],
             [
              0.7777777777777778,
              "#fb9f3a"
             ],
             [
              0.8888888888888888,
              "#fdca26"
             ],
             [
              1,
              "#f0f921"
             ]
            ],
            "type": "contour"
           }
          ],
          "contourcarpet": [
           {
            "colorbar": {
             "outlinewidth": 0,
             "ticks": ""
            },
            "type": "contourcarpet"
           }
          ],
          "heatmap": [
           {
            "colorbar": {
             "outlinewidth": 0,
             "ticks": ""
            },
            "colorscale": [
             [
              0,
              "#0d0887"
             ],
             [
              0.1111111111111111,
              "#46039f"
             ],
             [
              0.2222222222222222,
              "#7201a8"
             ],
             [
              0.3333333333333333,
              "#9c179e"
             ],
             [
              0.4444444444444444,
              "#bd3786"
             ],
             [
              0.5555555555555556,
              "#d8576b"
             ],
             [
              0.6666666666666666,
              "#ed7953"
             ],
             [
              0.7777777777777778,
              "#fb9f3a"
             ],
             [
              0.8888888888888888,
              "#fdca26"
             ],
             [
              1,
              "#f0f921"
             ]
            ],
            "type": "heatmap"
           }
          ],
          "heatmapgl": [
           {
            "colorbar": {
             "outlinewidth": 0,
             "ticks": ""
            },
            "colorscale": [
             [
              0,
              "#0d0887"
             ],
             [
              0.1111111111111111,
              "#46039f"
             ],
             [
              0.2222222222222222,
              "#7201a8"
             ],
             [
              0.3333333333333333,
              "#9c179e"
             ],
             [
              0.4444444444444444,
              "#bd3786"
             ],
             [
              0.5555555555555556,
              "#d8576b"
             ],
             [
              0.6666666666666666,
              "#ed7953"
             ],
             [
              0.7777777777777778,
              "#fb9f3a"
             ],
             [
              0.8888888888888888,
              "#fdca26"
             ],
             [
              1,
              "#f0f921"
             ]
            ],
            "type": "heatmapgl"
           }
          ],
          "histogram": [
           {
            "marker": {
             "colorbar": {
              "outlinewidth": 0,
              "ticks": ""
             }
            },
            "type": "histogram"
           }
          ],
          "histogram2d": [
           {
            "colorbar": {
             "outlinewidth": 0,
             "ticks": ""
            },
            "colorscale": [
             [
              0,
              "#0d0887"
             ],
             [
              0.1111111111111111,
              "#46039f"
             ],
             [
              0.2222222222222222,
              "#7201a8"
             ],
             [
              0.3333333333333333,
              "#9c179e"
             ],
             [
              0.4444444444444444,
              "#bd3786"
             ],
             [
              0.5555555555555556,
              "#d8576b"
             ],
             [
              0.6666666666666666,
              "#ed7953"
             ],
             [
              0.7777777777777778,
              "#fb9f3a"
             ],
             [
              0.8888888888888888,
              "#fdca26"
             ],
             [
              1,
              "#f0f921"
             ]
            ],
            "type": "histogram2d"
           }
          ],
          "histogram2dcontour": [
           {
            "colorbar": {
             "outlinewidth": 0,
             "ticks": ""
            },
            "colorscale": [
             [
              0,
              "#0d0887"
             ],
             [
              0.1111111111111111,
              "#46039f"
             ],
             [
              0.2222222222222222,
              "#7201a8"
             ],
             [
              0.3333333333333333,
              "#9c179e"
             ],
             [
              0.4444444444444444,
              "#bd3786"
             ],
             [
              0.5555555555555556,
              "#d8576b"
             ],
             [
              0.6666666666666666,
              "#ed7953"
             ],
             [
              0.7777777777777778,
              "#fb9f3a"
             ],
             [
              0.8888888888888888,
              "#fdca26"
             ],
             [
              1,
              "#f0f921"
             ]
            ],
            "type": "histogram2dcontour"
           }
          ],
          "mesh3d": [
           {
            "colorbar": {
             "outlinewidth": 0,
             "ticks": ""
            },
            "type": "mesh3d"
           }
          ],
          "parcoords": [
           {
            "line": {
             "colorbar": {
              "outlinewidth": 0,
              "ticks": ""
             }
            },
            "type": "parcoords"
           }
          ],
          "scatter": [
           {
            "marker": {
             "colorbar": {
              "outlinewidth": 0,
              "ticks": ""
             }
            },
            "type": "scatter"
           }
          ],
          "scatter3d": [
           {
            "line": {
             "colorbar": {
              "outlinewidth": 0,
              "ticks": ""
             }
            },
            "marker": {
             "colorbar": {
              "outlinewidth": 0,
              "ticks": ""
             }
            },
            "type": "scatter3d"
           }
          ],
          "scattercarpet": [
           {
            "marker": {
             "colorbar": {
              "outlinewidth": 0,
              "ticks": ""
             }
            },
            "type": "scattercarpet"
           }
          ],
          "scattergeo": [
           {
            "marker": {
             "colorbar": {
              "outlinewidth": 0,
              "ticks": ""
             }
            },
            "type": "scattergeo"
           }
          ],
          "scattergl": [
           {
            "marker": {
             "colorbar": {
              "outlinewidth": 0,
              "ticks": ""
             }
            },
            "type": "scattergl"
           }
          ],
          "scattermapbox": [
           {
            "marker": {
             "colorbar": {
              "outlinewidth": 0,
              "ticks": ""
             }
            },
            "type": "scattermapbox"
           }
          ],
          "scatterpolar": [
           {
            "marker": {
             "colorbar": {
              "outlinewidth": 0,
              "ticks": ""
             }
            },
            "type": "scatterpolar"
           }
          ],
          "scatterpolargl": [
           {
            "marker": {
             "colorbar": {
              "outlinewidth": 0,
              "ticks": ""
             }
            },
            "type": "scatterpolargl"
           }
          ],
          "scatterternary": [
           {
            "marker": {
             "colorbar": {
              "outlinewidth": 0,
              "ticks": ""
             }
            },
            "type": "scatterternary"
           }
          ],
          "surface": [
           {
            "colorbar": {
             "outlinewidth": 0,
             "ticks": ""
            },
            "colorscale": [
             [
              0,
              "#0d0887"
             ],
             [
              0.1111111111111111,
              "#46039f"
             ],
             [
              0.2222222222222222,
              "#7201a8"
             ],
             [
              0.3333333333333333,
              "#9c179e"
             ],
             [
              0.4444444444444444,
              "#bd3786"
             ],
             [
              0.5555555555555556,
              "#d8576b"
             ],
             [
              0.6666666666666666,
              "#ed7953"
             ],
             [
              0.7777777777777778,
              "#fb9f3a"
             ],
             [
              0.8888888888888888,
              "#fdca26"
             ],
             [
              1,
              "#f0f921"
             ]
            ],
            "type": "surface"
           }
          ],
          "table": [
           {
            "cells": {
             "fill": {
              "color": "#EBF0F8"
             },
             "line": {
              "color": "white"
             }
            },
            "header": {
             "fill": {
              "color": "#C8D4E3"
             },
             "line": {
              "color": "white"
             }
            },
            "type": "table"
           }
          ]
         },
         "layout": {
          "annotationdefaults": {
           "arrowcolor": "#2a3f5f",
           "arrowhead": 0,
           "arrowwidth": 1
          },
          "colorscale": {
           "diverging": [
            [
             0,
             "#8e0152"
            ],
            [
             0.1,
             "#c51b7d"
            ],
            [
             0.2,
             "#de77ae"
            ],
            [
             0.3,
             "#f1b6da"
            ],
            [
             0.4,
             "#fde0ef"
            ],
            [
             0.5,
             "#f7f7f7"
            ],
            [
             0.6,
             "#e6f5d0"
            ],
            [
             0.7,
             "#b8e186"
            ],
            [
             0.8,
             "#7fbc41"
            ],
            [
             0.9,
             "#4d9221"
            ],
            [
             1,
             "#276419"
            ]
           ],
           "sequential": [
            [
             0,
             "#0d0887"
            ],
            [
             0.1111111111111111,
             "#46039f"
            ],
            [
             0.2222222222222222,
             "#7201a8"
            ],
            [
             0.3333333333333333,
             "#9c179e"
            ],
            [
             0.4444444444444444,
             "#bd3786"
            ],
            [
             0.5555555555555556,
             "#d8576b"
            ],
            [
             0.6666666666666666,
             "#ed7953"
            ],
            [
             0.7777777777777778,
             "#fb9f3a"
            ],
            [
             0.8888888888888888,
             "#fdca26"
            ],
            [
             1,
             "#f0f921"
            ]
           ],
           "sequentialminus": [
            [
             0,
             "#0d0887"
            ],
            [
             0.1111111111111111,
             "#46039f"
            ],
            [
             0.2222222222222222,
             "#7201a8"
            ],
            [
             0.3333333333333333,
             "#9c179e"
            ],
            [
             0.4444444444444444,
             "#bd3786"
            ],
            [
             0.5555555555555556,
             "#d8576b"
            ],
            [
             0.6666666666666666,
             "#ed7953"
            ],
            [
             0.7777777777777778,
             "#fb9f3a"
            ],
            [
             0.8888888888888888,
             "#fdca26"
            ],
            [
             1,
             "#f0f921"
            ]
           ]
          },
          "colorway": [
           "#636efa",
           "#EF553B",
           "#00cc96",
           "#ab63fa",
           "#FFA15A",
           "#19d3f3",
           "#FF6692",
           "#B6E880",
           "#FF97FF",
           "#FECB52"
          ],
          "font": {
           "color": "#2a3f5f"
          },
          "geo": {
           "bgcolor": "white",
           "lakecolor": "white",
           "landcolor": "#E5ECF6",
           "showlakes": true,
           "showland": true,
           "subunitcolor": "white"
          },
          "hoverlabel": {
           "align": "left"
          },
          "hovermode": "closest",
          "mapbox": {
           "style": "light"
          },
          "paper_bgcolor": "white",
          "plot_bgcolor": "#E5ECF6",
          "polar": {
           "angularaxis": {
            "gridcolor": "white",
            "linecolor": "white",
            "ticks": ""
           },
           "bgcolor": "#E5ECF6",
           "radialaxis": {
            "gridcolor": "white",
            "linecolor": "white",
            "ticks": ""
           }
          },
          "scene": {
           "xaxis": {
            "backgroundcolor": "#E5ECF6",
            "gridcolor": "white",
            "gridwidth": 2,
            "linecolor": "white",
            "showbackground": true,
            "ticks": "",
            "zerolinecolor": "white"
           },
           "yaxis": {
            "backgroundcolor": "#E5ECF6",
            "gridcolor": "white",
            "gridwidth": 2,
            "linecolor": "white",
            "showbackground": true,
            "ticks": "",
            "zerolinecolor": "white"
           },
           "zaxis": {
            "backgroundcolor": "#E5ECF6",
            "gridcolor": "white",
            "gridwidth": 2,
            "linecolor": "white",
            "showbackground": true,
            "ticks": "",
            "zerolinecolor": "white"
           }
          },
          "shapedefaults": {
           "line": {
            "color": "#2a3f5f"
           }
          },
          "ternary": {
           "aaxis": {
            "gridcolor": "white",
            "linecolor": "white",
            "ticks": ""
           },
           "baxis": {
            "gridcolor": "white",
            "linecolor": "white",
            "ticks": ""
           },
           "bgcolor": "#E5ECF6",
           "caxis": {
            "gridcolor": "white",
            "linecolor": "white",
            "ticks": ""
           }
          },
          "title": {
           "x": 0.05
          },
          "xaxis": {
           "automargin": true,
           "gridcolor": "white",
           "linecolor": "white",
           "ticks": "",
           "zerolinecolor": "white",
           "zerolinewidth": 2
          },
          "yaxis": {
           "automargin": true,
           "gridcolor": "white",
           "linecolor": "white",
           "ticks": "",
           "zerolinecolor": "white",
           "zerolinewidth": 2
          }
         }
        },
        "title": {
         "text": "Energy Minimization"
        },
        "xaxis": {
         "title": {
          "text": "Energy Minimization Step"
         }
        },
        "yaxis": {
         "title": {
          "text": "Potential Energy KJ/mol-1"
         }
        }
       }
      },
      "text/html": [
       "<div>\n",
       "        \n",
       "        \n",
       "            <div id=\"8c63dc96-81d9-45f0-ac07-9aea421a165a\" class=\"plotly-graph-div\" style=\"height:525px; width:100%;\"></div>\n",
       "            <script type=\"text/javascript\">\n",
       "                require([\"plotly\"], function(Plotly) {\n",
       "                    window.PLOTLYENV=window.PLOTLYENV || {};\n",
       "                    \n",
       "                if (document.getElementById(\"8c63dc96-81d9-45f0-ac07-9aea421a165a\")) {\n",
       "                    Plotly.newPlot(\n",
       "                        '8c63dc96-81d9-45f0-ac07-9aea421a165a',\n",
       "                        [{\"type\": \"scatter\", \"x\": [0.0, 1.0, 2.0, 3.0, 4.0, 5.0, 7.0, 10.0, 11.0, 13.0, 14.0, 15.0, 17.0, 18.0, 20.0, 22.0, 23.0, 24.0, 25.0, 27.0, 28.0, 30.0, 31.0, 32.0, 33.0, 35.0, 36.0, 37.0, 38.0, 40.0, 41.0, 43.0, 44.0, 45.0, 46.0, 48.0, 49.0, 50.0, 51.0, 53.0, 54.0, 55.0, 56.0, 58.0, 59.0, 61.0, 62.0, 63.0, 64.0, 66.0, 67.0, 69.0, 70.0, 71.0, 72.0, 73.0, 74.0, 76.0, 77.0, 78.0, 79.0, 81.0, 82.0, 84.0], \"y\": [-524720.375, -525047.4375, -525313.5, -525518.0625, -525665.1875, -525672.375, -525729.5625, -525733.9375, -525735.0, -525738.9375, -525740.5625, -525741.375, -525744.0625, -525745.6875, -525746.5625, -525746.9375, -525747.3125, -525747.5625, -525748.1875, -525748.3125, -525748.875, -525749.0625, -525749.3125, -525749.4375, -525749.8125, -525750.0, -525750.1875, -525750.3125, -525750.75, -525750.9375, -525751.1875, -525751.375, -525751.4375, -525751.6875, -525751.875, -525752.0625, -525752.1875, -525752.3125, -525752.5, -525752.6875, -525752.875, -525752.9375, -525753.125, -525753.3125, -525753.5, -525753.5625, -525753.6875, -525753.8125, -525754.0625, -525754.125, -525754.3125, -525754.375, -525754.4375, -525754.6875, -525754.75, -525754.8125, -525754.9375, -525755.125, -525755.1875, -525755.3125, -525755.5, -525755.5625, -525755.6875, -525755.8125]}],\n",
       "                        {\"template\": {\"data\": {\"bar\": [{\"error_x\": {\"color\": \"#2a3f5f\"}, \"error_y\": {\"color\": \"#2a3f5f\"}, \"marker\": {\"line\": {\"color\": \"#E5ECF6\", \"width\": 0.5}}, \"type\": \"bar\"}], \"barpolar\": [{\"marker\": {\"line\": {\"color\": \"#E5ECF6\", \"width\": 0.5}}, \"type\": \"barpolar\"}], \"carpet\": [{\"aaxis\": {\"endlinecolor\": \"#2a3f5f\", \"gridcolor\": \"white\", \"linecolor\": \"white\", \"minorgridcolor\": \"white\", \"startlinecolor\": \"#2a3f5f\"}, \"baxis\": {\"endlinecolor\": \"#2a3f5f\", \"gridcolor\": \"white\", \"linecolor\": \"white\", \"minorgridcolor\": \"white\", \"startlinecolor\": \"#2a3f5f\"}, \"type\": \"carpet\"}], \"choropleth\": [{\"colorbar\": {\"outlinewidth\": 0, \"ticks\": \"\"}, \"type\": \"choropleth\"}], \"contour\": [{\"colorbar\": {\"outlinewidth\": 0, \"ticks\": \"\"}, \"colorscale\": [[0.0, \"#0d0887\"], [0.1111111111111111, \"#46039f\"], [0.2222222222222222, \"#7201a8\"], [0.3333333333333333, \"#9c179e\"], [0.4444444444444444, \"#bd3786\"], [0.5555555555555556, \"#d8576b\"], [0.6666666666666666, \"#ed7953\"], [0.7777777777777778, \"#fb9f3a\"], [0.8888888888888888, \"#fdca26\"], [1.0, \"#f0f921\"]], \"type\": \"contour\"}], \"contourcarpet\": [{\"colorbar\": {\"outlinewidth\": 0, \"ticks\": \"\"}, \"type\": \"contourcarpet\"}], \"heatmap\": [{\"colorbar\": {\"outlinewidth\": 0, \"ticks\": \"\"}, \"colorscale\": [[0.0, \"#0d0887\"], [0.1111111111111111, \"#46039f\"], [0.2222222222222222, \"#7201a8\"], [0.3333333333333333, \"#9c179e\"], [0.4444444444444444, \"#bd3786\"], [0.5555555555555556, \"#d8576b\"], [0.6666666666666666, \"#ed7953\"], [0.7777777777777778, \"#fb9f3a\"], [0.8888888888888888, \"#fdca26\"], [1.0, \"#f0f921\"]], \"type\": \"heatmap\"}], \"heatmapgl\": [{\"colorbar\": {\"outlinewidth\": 0, \"ticks\": \"\"}, \"colorscale\": [[0.0, \"#0d0887\"], [0.1111111111111111, \"#46039f\"], [0.2222222222222222, \"#7201a8\"], [0.3333333333333333, \"#9c179e\"], [0.4444444444444444, \"#bd3786\"], [0.5555555555555556, \"#d8576b\"], [0.6666666666666666, \"#ed7953\"], [0.7777777777777778, \"#fb9f3a\"], [0.8888888888888888, \"#fdca26\"], [1.0, \"#f0f921\"]], \"type\": \"heatmapgl\"}], \"histogram\": [{\"marker\": {\"colorbar\": {\"outlinewidth\": 0, \"ticks\": \"\"}}, \"type\": \"histogram\"}], \"histogram2d\": [{\"colorbar\": {\"outlinewidth\": 0, \"ticks\": \"\"}, \"colorscale\": [[0.0, \"#0d0887\"], [0.1111111111111111, \"#46039f\"], [0.2222222222222222, \"#7201a8\"], [0.3333333333333333, \"#9c179e\"], [0.4444444444444444, \"#bd3786\"], [0.5555555555555556, \"#d8576b\"], [0.6666666666666666, \"#ed7953\"], [0.7777777777777778, \"#fb9f3a\"], [0.8888888888888888, \"#fdca26\"], [1.0, \"#f0f921\"]], \"type\": \"histogram2d\"}], \"histogram2dcontour\": [{\"colorbar\": {\"outlinewidth\": 0, \"ticks\": \"\"}, \"colorscale\": [[0.0, \"#0d0887\"], [0.1111111111111111, \"#46039f\"], [0.2222222222222222, \"#7201a8\"], [0.3333333333333333, \"#9c179e\"], [0.4444444444444444, \"#bd3786\"], [0.5555555555555556, \"#d8576b\"], [0.6666666666666666, \"#ed7953\"], [0.7777777777777778, \"#fb9f3a\"], [0.8888888888888888, \"#fdca26\"], [1.0, \"#f0f921\"]], \"type\": \"histogram2dcontour\"}], \"mesh3d\": [{\"colorbar\": {\"outlinewidth\": 0, \"ticks\": \"\"}, \"type\": \"mesh3d\"}], \"parcoords\": [{\"line\": {\"colorbar\": {\"outlinewidth\": 0, \"ticks\": \"\"}}, \"type\": \"parcoords\"}], \"scatter\": [{\"marker\": {\"colorbar\": {\"outlinewidth\": 0, \"ticks\": \"\"}}, \"type\": \"scatter\"}], \"scatter3d\": [{\"line\": {\"colorbar\": {\"outlinewidth\": 0, \"ticks\": \"\"}}, \"marker\": {\"colorbar\": {\"outlinewidth\": 0, \"ticks\": \"\"}}, \"type\": \"scatter3d\"}], \"scattercarpet\": [{\"marker\": {\"colorbar\": {\"outlinewidth\": 0, \"ticks\": \"\"}}, \"type\": \"scattercarpet\"}], \"scattergeo\": [{\"marker\": {\"colorbar\": {\"outlinewidth\": 0, \"ticks\": \"\"}}, \"type\": \"scattergeo\"}], \"scattergl\": [{\"marker\": {\"colorbar\": {\"outlinewidth\": 0, \"ticks\": \"\"}}, \"type\": \"scattergl\"}], \"scattermapbox\": [{\"marker\": {\"colorbar\": {\"outlinewidth\": 0, \"ticks\": \"\"}}, \"type\": \"scattermapbox\"}], \"scatterpolar\": [{\"marker\": {\"colorbar\": {\"outlinewidth\": 0, \"ticks\": \"\"}}, \"type\": \"scatterpolar\"}], \"scatterpolargl\": [{\"marker\": {\"colorbar\": {\"outlinewidth\": 0, \"ticks\": \"\"}}, \"type\": \"scatterpolargl\"}], \"scatterternary\": [{\"marker\": {\"colorbar\": {\"outlinewidth\": 0, \"ticks\": \"\"}}, \"type\": \"scatterternary\"}], \"surface\": [{\"colorbar\": {\"outlinewidth\": 0, \"ticks\": \"\"}, \"colorscale\": [[0.0, \"#0d0887\"], [0.1111111111111111, \"#46039f\"], [0.2222222222222222, \"#7201a8\"], [0.3333333333333333, \"#9c179e\"], [0.4444444444444444, \"#bd3786\"], [0.5555555555555556, \"#d8576b\"], [0.6666666666666666, \"#ed7953\"], [0.7777777777777778, \"#fb9f3a\"], [0.8888888888888888, \"#fdca26\"], [1.0, \"#f0f921\"]], \"type\": \"surface\"}], \"table\": [{\"cells\": {\"fill\": {\"color\": \"#EBF0F8\"}, \"line\": {\"color\": \"white\"}}, \"header\": {\"fill\": {\"color\": \"#C8D4E3\"}, \"line\": {\"color\": \"white\"}}, \"type\": \"table\"}]}, \"layout\": {\"annotationdefaults\": {\"arrowcolor\": \"#2a3f5f\", \"arrowhead\": 0, \"arrowwidth\": 1}, \"colorscale\": {\"diverging\": [[0, \"#8e0152\"], [0.1, \"#c51b7d\"], [0.2, \"#de77ae\"], [0.3, \"#f1b6da\"], [0.4, \"#fde0ef\"], [0.5, \"#f7f7f7\"], [0.6, \"#e6f5d0\"], [0.7, \"#b8e186\"], [0.8, \"#7fbc41\"], [0.9, \"#4d9221\"], [1, \"#276419\"]], \"sequential\": [[0.0, \"#0d0887\"], [0.1111111111111111, \"#46039f\"], [0.2222222222222222, \"#7201a8\"], [0.3333333333333333, \"#9c179e\"], [0.4444444444444444, \"#bd3786\"], [0.5555555555555556, \"#d8576b\"], [0.6666666666666666, \"#ed7953\"], [0.7777777777777778, \"#fb9f3a\"], [0.8888888888888888, \"#fdca26\"], [1.0, \"#f0f921\"]], \"sequentialminus\": [[0.0, \"#0d0887\"], [0.1111111111111111, \"#46039f\"], [0.2222222222222222, \"#7201a8\"], [0.3333333333333333, \"#9c179e\"], [0.4444444444444444, \"#bd3786\"], [0.5555555555555556, \"#d8576b\"], [0.6666666666666666, \"#ed7953\"], [0.7777777777777778, \"#fb9f3a\"], [0.8888888888888888, \"#fdca26\"], [1.0, \"#f0f921\"]]}, \"colorway\": [\"#636efa\", \"#EF553B\", \"#00cc96\", \"#ab63fa\", \"#FFA15A\", \"#19d3f3\", \"#FF6692\", \"#B6E880\", \"#FF97FF\", \"#FECB52\"], \"font\": {\"color\": \"#2a3f5f\"}, \"geo\": {\"bgcolor\": \"white\", \"lakecolor\": \"white\", \"landcolor\": \"#E5ECF6\", \"showlakes\": true, \"showland\": true, \"subunitcolor\": \"white\"}, \"hoverlabel\": {\"align\": \"left\"}, \"hovermode\": \"closest\", \"mapbox\": {\"style\": \"light\"}, \"paper_bgcolor\": \"white\", \"plot_bgcolor\": \"#E5ECF6\", \"polar\": {\"angularaxis\": {\"gridcolor\": \"white\", \"linecolor\": \"white\", \"ticks\": \"\"}, \"bgcolor\": \"#E5ECF6\", \"radialaxis\": {\"gridcolor\": \"white\", \"linecolor\": \"white\", \"ticks\": \"\"}}, \"scene\": {\"xaxis\": {\"backgroundcolor\": \"#E5ECF6\", \"gridcolor\": \"white\", \"gridwidth\": 2, \"linecolor\": \"white\", \"showbackground\": true, \"ticks\": \"\", \"zerolinecolor\": \"white\"}, \"yaxis\": {\"backgroundcolor\": \"#E5ECF6\", \"gridcolor\": \"white\", \"gridwidth\": 2, \"linecolor\": \"white\", \"showbackground\": true, \"ticks\": \"\", \"zerolinecolor\": \"white\"}, \"zaxis\": {\"backgroundcolor\": \"#E5ECF6\", \"gridcolor\": \"white\", \"gridwidth\": 2, \"linecolor\": \"white\", \"showbackground\": true, \"ticks\": \"\", \"zerolinecolor\": \"white\"}}, \"shapedefaults\": {\"line\": {\"color\": \"#2a3f5f\"}}, \"ternary\": {\"aaxis\": {\"gridcolor\": \"white\", \"linecolor\": \"white\", \"ticks\": \"\"}, \"baxis\": {\"gridcolor\": \"white\", \"linecolor\": \"white\", \"ticks\": \"\"}, \"bgcolor\": \"#E5ECF6\", \"caxis\": {\"gridcolor\": \"white\", \"linecolor\": \"white\", \"ticks\": \"\"}}, \"title\": {\"x\": 0.05}, \"xaxis\": {\"automargin\": true, \"gridcolor\": \"white\", \"linecolor\": \"white\", \"ticks\": \"\", \"zerolinecolor\": \"white\", \"zerolinewidth\": 2}, \"yaxis\": {\"automargin\": true, \"gridcolor\": \"white\", \"linecolor\": \"white\", \"ticks\": \"\", \"zerolinecolor\": \"white\", \"zerolinewidth\": 2}}}, \"title\": {\"text\": \"Energy Minimization\"}, \"xaxis\": {\"title\": {\"text\": \"Energy Minimization Step\"}}, \"yaxis\": {\"title\": {\"text\": \"Potential Energy KJ/mol-1\"}}},\n",
       "                        {\"responsive\": true}\n",
       "                    ).then(function(){\n",
       "                            \n",
       "var gd = document.getElementById('8c63dc96-81d9-45f0-ac07-9aea421a165a');\n",
       "var x = new MutationObserver(function (mutations, observer) {{\n",
       "        var display = window.getComputedStyle(gd).display;\n",
       "        if (!display || display === 'none') {{\n",
       "            console.log([gd, 'removed!']);\n",
       "            Plotly.purge(gd);\n",
       "            observer.disconnect();\n",
       "        }}\n",
       "}});\n",
       "\n",
       "// Listen for the removal of the full notebook cells\n",
       "var notebookContainer = gd.closest('#notebook-container');\n",
       "if (notebookContainer) {{\n",
       "    x.observe(notebookContainer, {childList: true});\n",
       "}}\n",
       "\n",
       "// Listen for the clearing of the current output cell\n",
       "var outputEl = gd.closest('.output');\n",
       "if (outputEl) {{\n",
       "    x.observe(outputEl, {childList: true});\n",
       "}}\n",
       "\n",
       "                        })\n",
       "                };\n",
       "                });\n",
       "            </script>\n",
       "        </div>"
      ]
     },
     "metadata": {},
     "output_type": "display_data"
    }
   ],
   "source": [
    "import plotly\n",
    "import plotly.graph_objs as go\n",
    "\n",
    "# Read data from file and filter energy values higher than 1000 Kj/mol^-1\n",
    "with open(output_min_ene_xvg,'r') as energy_file:\n",
    "    x,y = map(\n",
    "        list,\n",
    "        zip(*[\n",
    "            (float(line.split()[0]),float(line.split()[1]))\n",
    "            for line in energy_file \n",
    "            if not line.startswith((\"#\",\"@\")) \n",
    "            if float(line.split()[1]) < 1000 \n",
    "        ])\n",
    "    )\n",
    "\n",
    "plotly.offline.init_notebook_mode(connected=True)\n",
    "\n",
    "fig = ({\n",
    "    \"data\": [go.Scatter(x=x, y=y)],\n",
    "    \"layout\": go.Layout(title=\"Energy Minimization\",\n",
    "                        xaxis=dict(title = \"Energy Minimization Step\"),\n",
    "                        yaxis=dict(title = \"Potential Energy KJ/mol-1\")\n",
    "                       )\n",
    "})\n",
    "\n",
    "plotly.offline.iplot(fig)"
   ]
  },
  {
   "cell_type": "markdown",
   "metadata": {},
   "source": [
    "<a id=\"npt\"></a>\n",
    "***\n",
    "## Equilibrate the system (NPT)\n",
    "Equilibrate the **protein system** in **NPT** ensemble (constant Number of particles, Pressure and Temperature).\n",
    "- [Step 1](#eqNPTStep1): Creating portable binary run file for system equilibration\n",
    "- [Step 2](#eqNPTStep2): Equilibrate the **protein system** with **NPT** ensemble.\n",
    "- [Step 3](#eqNPTStep3): Checking **NPT Equilibration** results. Plotting **system pressure and density** by time during the **NPT equilibration** process.\n",
    "***\n",
    "**Building Blocks** used:\n",
    " - [Grompp](https://biobb-md.readthedocs.io/en/latest/gromacs.html#module-gromacs.grompp) from **biobb_md.gromacs.grompp** \n",
    " - [Mdrun](https://biobb-md.readthedocs.io/en/latest/gromacs.html#module-gromacs.mdrun) from **biobb_md.gromacs.mdrun** \n",
    " - [GMXEnergy](https://biobb-analysis.readthedocs.io/en/latest/gromacs.html#module-gromacs.gmx_energy) from **biobb_analysis.gromacs.gmx_energy** \n",
    "***"
   ]
  },
  {
   "cell_type": "markdown",
   "metadata": {},
   "source": [
    "<a id=\"eqNPTStep1\"></a>\n",
    "### Step 1: Creating portable binary run file for system equilibration (NPT)\n",
    "\n",
    "The **npt** type of the **molecular dynamics parameters (mdp) property** contains the main default parameters to run an **NPT equilibration** with **protein restraints** (see [GROMACS mdp options](http://manual.gromacs.org/documentation/2018/user-guide/mdp-options.html)):\n",
    "\n",
    "-  integrator               = md\n",
    "-  dt                       = 0.002\n",
    "-  nsteps                   = 5000\n",
    "-  pcoupl = Parrinello-Rahman\n",
    "-  pcoupltype = isotropic\n",
    "-  tau_p = 1.0\n",
    "-  ref_p = 1.0\n",
    "-  compressibility = 4.5e-5\n",
    "-  refcoord_scaling = com\n",
    "-  gen_vel = no\n",
    "\n",
    "In this particular example, the default parameters will be used: **md** integrator algorithm, a **time step** of **2fs**, **5,000 equilibration steps**, and a Parrinello-Rahman **pressure coupling** algorithm.\n",
    "\n",
    "*Please note that for the sake of time this tutorial is only running 10ps of NPT equilibration, whereas in the [original example](http://pmx.mpibpc.mpg.de/sardinia2018_tutorial1/eq.mdp) the simulated time was 100ps.*"
   ]
  },
  {
   "cell_type": "code",
   "execution_count": 12,
   "metadata": {},
   "outputs": [
    {
     "name": "stderr",
     "output_type": "stream",
     "text": [
      "2019-12-04 17:46:30,856 [MainThread  ] [INFO ]  GROMACS Grompp 20191 version detected\n",
      "2019-12-04 17:46:30,861 [MainThread  ] [INFO ]  Extracting: /home/gbayarri_local/projects/BioBB/tutorials/biobb_wf_pmx_tutorial/biobb_wf_pmx_tutorial/notebooks/pmxA_top.zip\n",
      "2019-12-04 17:46:30,861 [MainThread  ] [INFO ]  to:\n",
      "2019-12-04 17:46:30,862 [MainThread  ] [INFO ]  ['6751fdee-56d9-470a-b29e-a7f5d0966c07/p2g.top', '6751fdee-56d9-470a-b29e-a7f5d0966c07/p2g_Ion2.itp', '6751fdee-56d9-470a-b29e-a7f5d0966c07/p2g_Protein.itp', '6751fdee-56d9-470a-b29e-a7f5d0966c07/posre_Ion2.itp']\n",
      "2019-12-04 17:46:30,863 [MainThread  ] [INFO ]  Unzipping: \n",
      "2019-12-04 17:46:30,863 [MainThread  ] [INFO ]  pmxA_top.zip\n",
      "2019-12-04 17:46:30,864 [MainThread  ] [INFO ]  To: \n",
      "2019-12-04 17:46:30,865 [MainThread  ] [INFO ]  6751fdee-56d9-470a-b29e-a7f5d0966c07/p2g.top\n",
      "2019-12-04 17:46:30,865 [MainThread  ] [INFO ]  6751fdee-56d9-470a-b29e-a7f5d0966c07/p2g_Ion2.itp\n",
      "2019-12-04 17:46:30,868 [MainThread  ] [INFO ]  6751fdee-56d9-470a-b29e-a7f5d0966c07/p2g_Protein.itp\n",
      "2019-12-04 17:46:30,869 [MainThread  ] [INFO ]  6751fdee-56d9-470a-b29e-a7f5d0966c07/posre_Ion2.itp\n",
      "2019-12-04 17:46:30,872 [MainThread  ] [INFO ]  Will run a free md of 10.0 pico seconds\n",
      "2019-12-04 17:46:30,873 [MainThread  ] [INFO ]  Not using any container\n",
      "2019-12-04 17:46:31,209 [MainThread  ] [INFO ]  gmx -nobackup -nocopyright grompp -f b8877744-d68c-4f82-a0fc-f27e458e8ee5/grompp.mdp -c pdb2gmxA.pdb -r pdb2gmxA.pdb -p 6751fdee-56d9-470a-b29e-a7f5d0966c07/p2g.top -o eqA_20ps.tpr -po mdout.mdp -maxwarn 10\n",
      "\n",
      "2019-12-04 17:46:31,210 [MainThread  ] [INFO ]  Exit code 0\n",
      "\n",
      "2019-12-04 17:46:31,210 [MainThread  ] [INFO ]  turning all bonds into constraints...\n",
      "turning all bonds into constraints...\n",
      "turning all bonds into constraints...\n",
      "Analysing residue names:\n",
      "There are:   136    Protein residues\n",
      "There are:    74        Ion residues\n",
      "There are: 10948      Water residues\n",
      "Analysing Protein...\n",
      "Analysing residues not classified as Protein/DNA/RNA/Water and splitting into groups...\n",
      "Determining Verlet buffer for a tolerance of 0.005 kJ/mol/ps at 300 K\n",
      "Calculated rlist for 1x1 atom pair-list as 1.035 nm, buffer size 0.035 nm\n",
      "Set rlist, assuming 4x4 atom pair-list, to 1.000 nm, buffer size 0.000 nm\n",
      "Note that mdrun will redetermine rlist based on the actual pair-list setup\n",
      "Calculating fourier grid dimensions for X Y Z\n",
      "Using a fourier grid of 72x72x72, spacing 0.110 0.110 0.110\n",
      "This run will generate roughly 5 Mb of data\n",
      "\n",
      "2019-12-04 17:46:31,211 [MainThread  ] [INFO ]                        :-) GROMACS - gmx grompp, 2019.1 (-:\n",
      "\n",
      "Executable:   /anaconda3/envs/biobb_dev/bin/gmx\n",
      "Data prefix:  /anaconda3/envs/biobb_dev\n",
      "Working dir:  /home/gbayarri_local/projects/BioBB/tutorials/biobb_wf_pmx_tutorial/biobb_wf_pmx_tutorial/notebooks\n",
      "Command line:\n",
      "  gmx -nobackup -nocopyright grompp -f b8877744-d68c-4f82-a0fc-f27e458e8ee5/grompp.mdp -c pdb2gmxA.pdb -r pdb2gmxA.pdb -p 6751fdee-56d9-470a-b29e-a7f5d0966c07/p2g.top -o eqA_20ps.tpr -po mdout.mdp -maxwarn 10\n",
      "\n",
      "Setting the LD random seed to -1341973157\n",
      "Generated 5253 of the 5253 non-bonded parameter combinations\n",
      "Generating 1-4 interactions: fudge = 0.5\n",
      "Generated 5253 of the 5253 1-4 parameter combinations\n",
      "Excluding 3 bonded neighbours molecule type 'Protein'\n",
      "Excluding 3 bonded neighbours molecule type 'Ion2'\n",
      "Excluding 2 bonded neighbours molecule type 'SOL'\n",
      "Excluding 2 bonded neighbours molecule type 'SOL'\n",
      "\n",
      "NOTE 1 [file unknown]:\n",
      "  You are using constraints on all bonds, whereas the forcefield has been\n",
      "  parametrized only with constraints involving hydrogen atoms. We suggest\n",
      "  using constraints = h-bonds instead, this will also improve performance.\n",
      "\n",
      "Removing all charge groups because cutoff-scheme=Verlet\n",
      "\n",
      "NOTE 2 [file unknown]:\n",
      "  In moleculetype 'Ion2' 74 atoms are not bound by a potential or\n",
      "  constraint to any other atom in the same moleculetype. Although\n",
      "  technically this might not cause issues in a simulation, this often means\n",
      "  that the user forgot to add a bond/potential/constraint or put multiple\n",
      "  molecules in the same moleculetype definition by mistake. Run with -v to\n",
      "  get information for each atom.\n",
      "\n",
      "Number of degrees of freedom in T-Coupling group Protein is 4430.81\n",
      "Number of degrees of freedom in T-Coupling group non-Protein is 65907.19\n",
      "Estimate for the relative computational load of the PME mesh part: 0.21\n",
      "\n",
      "There were 2 notes\n",
      "\n",
      "GROMACS reminds you: \"GROMACS First : Making MD Great Again\" (Vedran Miletic)\n",
      "\n",
      "\n",
      "2019-12-04 17:46:31,213 [MainThread  ] [INFO ]  Removed: ['mdout.mdp', '6751fdee-56d9-470a-b29e-a7f5d0966c07', 'b8877744-d68c-4f82-a0fc-f27e458e8ee5']\n",
      "2019-12-04 17:46:31,236 [MainThread  ] [INFO ]  GROMACS Grompp 20191 version detected\n",
      "2019-12-04 17:46:31,244 [MainThread  ] [INFO ]  Extracting: /home/gbayarri_local/projects/BioBB/tutorials/biobb_wf_pmx_tutorial/biobb_wf_pmx_tutorial/notebooks/pmxB_top.zip\n",
      "2019-12-04 17:46:31,246 [MainThread  ] [INFO ]  to:\n",
      "2019-12-04 17:46:31,247 [MainThread  ] [INFO ]  ['e5340a80-ea8c-4a0a-bfe1-383d2dcca8e1/p2g.top', 'e5340a80-ea8c-4a0a-bfe1-383d2dcca8e1/p2g_Ion2.itp', 'e5340a80-ea8c-4a0a-bfe1-383d2dcca8e1/p2g_Protein.itp', 'e5340a80-ea8c-4a0a-bfe1-383d2dcca8e1/posre_Ion2.itp']\n",
      "2019-12-04 17:46:31,249 [MainThread  ] [INFO ]  Unzipping: \n",
      "2019-12-04 17:46:31,251 [MainThread  ] [INFO ]  pmxB_top.zip\n",
      "2019-12-04 17:46:31,251 [MainThread  ] [INFO ]  To: \n",
      "2019-12-04 17:46:31,254 [MainThread  ] [INFO ]  e5340a80-ea8c-4a0a-bfe1-383d2dcca8e1/p2g.top\n",
      "2019-12-04 17:46:31,255 [MainThread  ] [INFO ]  e5340a80-ea8c-4a0a-bfe1-383d2dcca8e1/p2g_Ion2.itp\n",
      "2019-12-04 17:46:31,256 [MainThread  ] [INFO ]  e5340a80-ea8c-4a0a-bfe1-383d2dcca8e1/p2g_Protein.itp\n",
      "2019-12-04 17:46:31,256 [MainThread  ] [INFO ]  e5340a80-ea8c-4a0a-bfe1-383d2dcca8e1/posre_Ion2.itp\n",
      "2019-12-04 17:46:31,258 [MainThread  ] [INFO ]  Will run a free md of 10.0 pico seconds\n",
      "2019-12-04 17:46:31,260 [MainThread  ] [INFO ]  Not using any container\n",
      "2019-12-04 17:46:31,641 [MainThread  ] [INFO ]  gmx -nobackup -nocopyright grompp -f cb9807ee-73c1-4c7b-bc78-96b166ca9fd2/grompp.mdp -c emout.gro -r emout.gro -p e5340a80-ea8c-4a0a-bfe1-383d2dcca8e1/p2g.top -o eqB_20ps.tpr -po mdout.mdp -maxwarn 10\n",
      "\n",
      "2019-12-04 17:46:31,642 [MainThread  ] [INFO ]  Exit code 0\n",
      "\n",
      "2019-12-04 17:46:31,643 [MainThread  ] [INFO ]  turning all bonds into constraints...\n",
      "turning all bonds into constraints...\n",
      "turning all bonds into constraints...\n",
      "Analysing residue names:\n",
      "There are:   136    Protein residues\n",
      "There are:    74        Ion residues\n",
      "There are: 10949      Water residues\n",
      "Analysing Protein...\n",
      "Analysing residues not classified as Protein/DNA/RNA/Water and splitting into groups...\n",
      "Determining Verlet buffer for a tolerance of 0.005 kJ/mol/ps at 300 K\n",
      "Calculated rlist for 1x1 atom pair-list as 1.035 nm, buffer size 0.035 nm\n",
      "Set rlist, assuming 4x4 atom pair-list, to 1.000 nm, buffer size 0.000 nm\n",
      "Note that mdrun will redetermine rlist based on the actual pair-list setup\n",
      "Calculating fourier grid dimensions for X Y Z\n",
      "Using a fourier grid of 72x72x72, spacing 0.110 0.110 0.110\n",
      "This run will generate roughly 5 Mb of data\n",
      "\n",
      "2019-12-04 17:46:31,643 [MainThread  ] [INFO ]                        :-) GROMACS - gmx grompp, 2019.1 (-:\n",
      "\n",
      "Executable:   /anaconda3/envs/biobb_dev/bin/gmx\n",
      "Data prefix:  /anaconda3/envs/biobb_dev\n",
      "Working dir:  /home/gbayarri_local/projects/BioBB/tutorials/biobb_wf_pmx_tutorial/biobb_wf_pmx_tutorial/notebooks\n",
      "Command line:\n",
      "  gmx -nobackup -nocopyright grompp -f cb9807ee-73c1-4c7b-bc78-96b166ca9fd2/grompp.mdp -c emout.gro -r emout.gro -p e5340a80-ea8c-4a0a-bfe1-383d2dcca8e1/p2g.top -o eqB_20ps.tpr -po mdout.mdp -maxwarn 10\n",
      "\n",
      "Setting the LD random seed to -448956736\n",
      "Generated 5253 of the 5253 non-bonded parameter combinations\n",
      "Generating 1-4 interactions: fudge = 0.5\n",
      "Generated 5253 of the 5253 1-4 parameter combinations\n",
      "Excluding 3 bonded neighbours molecule type 'Protein'\n",
      "Excluding 3 bonded neighbours molecule type 'Ion2'\n",
      "Excluding 2 bonded neighbours molecule type 'SOL'\n",
      "Excluding 2 bonded neighbours molecule type 'SOL'\n",
      "\n",
      "NOTE 1 [file unknown]:\n",
      "  You are using constraints on all bonds, whereas the forcefield has been\n",
      "  parametrized only with constraints involving hydrogen atoms. We suggest\n",
      "  using constraints = h-bonds instead, this will also improve performance.\n",
      "\n",
      "Removing all charge groups because cutoff-scheme=Verlet\n",
      "\n",
      "NOTE 2 [file unknown]:\n",
      "  In moleculetype 'Ion2' 74 atoms are not bound by a potential or\n",
      "  constraint to any other atom in the same moleculetype. Although\n",
      "  technically this might not cause issues in a simulation, this often means\n",
      "  that the user forgot to add a bond/potential/constraint or put multiple\n",
      "  molecules in the same moleculetype definition by mistake. Run with -v to\n",
      "  get information for each atom.\n",
      "\n",
      "Number of degrees of freedom in T-Coupling group Protein is 4430.81\n",
      "Number of degrees of freedom in T-Coupling group non-Protein is 65913.19\n",
      "Estimate for the relative computational load of the PME mesh part: 0.21\n",
      "\n",
      "There were 2 notes\n",
      "\n",
      "GROMACS reminds you: \"Research ! A mere excuse for idleness; it has never achieved, and will never achieve any results of the slightest value.\" (Benjamin Jowett, British theologian, 1817-93)\n",
      "\n",
      "\n"
     ]
    },
    {
     "name": "stderr",
     "output_type": "stream",
     "text": [
      "2019-12-04 17:46:31,645 [MainThread  ] [INFO ]  Removed: ['mdout.mdp', 'e5340a80-ea8c-4a0a-bfe1-383d2dcca8e1', 'cb9807ee-73c1-4c7b-bc78-96b166ca9fd2']\n"
     ]
    },
    {
     "data": {
      "text/plain": [
       "0"
      ]
     },
     "execution_count": 12,
     "metadata": {},
     "output_type": "execute_result"
    }
   ],
   "source": [
    "# Grompp: Creating portable binary run file for system equilibration\n",
    "from biobb_md.gromacs.grompp import Grompp\n",
    "\n",
    "#### State A (WT->Mut) ####\n",
    "\n",
    "\n",
    "cwd = os.getcwd()\n",
    "gmxlib = cwd + \"/pmx_tutorial/mutff45\"\n",
    "\n",
    "# Create prop dict and inputs/outputs\n",
    "output_tprA_eq = 'eqA_20ps.tpr'\n",
    "\n",
    "prop = {\n",
    "    'gmxlib' : gmxlib,\n",
    "    'mdp':{\n",
    "        'type': 'free',\n",
    "        'nsteps':'5000',\n",
    "        'nstcomm' : '1',\n",
    "        'nstcalcenergy' : '1'\n",
    "    }\n",
    "}\n",
    "\n",
    "#Create and launch bb\n",
    "Grompp(input_gro_path=output_pdb2gmxA_gro,\n",
    "       input_top_zip_path=output_pmxtopA_top_zip,\n",
    "       output_tpr_path=output_tprA_eq,\n",
    "       properties=prop).launch()\n",
    "\n",
    "#### State B (Mut->WT) ####\n",
    "\n",
    "# Create prop dict and inputs/outputs\n",
    "output_tprB_eq = 'eqB_20ps.tpr'\n",
    "\n",
    "prop = {\n",
    "    'gmxlib' : gmxlib,\n",
    "    'mdp':{\n",
    "        'type': 'free',\n",
    "        'nsteps':'5000',\n",
    "        'nstcomm' : '1',\n",
    "        'nstcalcenergy' : '1'\n",
    "    }\n",
    "}\n",
    "#Create and launch bb\n",
    "Grompp(input_gro_path=output_min_gro,\n",
    "       input_top_zip_path=output_pmxtopB_top_zip,\n",
    "       output_tpr_path=output_tprB_eq,\n",
    "       properties=prop).launch()\n"
   ]
  },
  {
   "cell_type": "markdown",
   "metadata": {},
   "source": [
    "<a id=\"eqNPTStep2\"></a>\n",
    "### Step 2: Running NPT equilibration"
   ]
  },
  {
   "cell_type": "code",
   "execution_count": 13,
   "metadata": {},
   "outputs": [
    {
     "name": "stderr",
     "output_type": "stream",
     "text": [
      "2019-12-04 17:46:34,041 [MainThread  ] [INFO ]  GROMACS Mdrun 20191 version detected\n",
      "2019-12-04 17:46:34,042 [MainThread  ] [INFO ]  Not using any container\n",
      "2019-12-04 17:48:49,726 [MainThread  ] [INFO ]  gmx -nobackup -nocopyright mdrun -s eqA_20ps.tpr -o eqoutA.trr -c eqoutA.gro -e eqoutA.edr -g eqoutA.log -nt 0\n",
      "\n",
      "2019-12-04 17:48:49,727 [MainThread  ] [INFO ]  Exit code 0\n",
      "\n",
      "2019-12-04 17:48:49,728 [MainThread  ] [INFO ]                        :-) GROMACS - gmx mdrun, 2019.1 (-:\n",
      "\n",
      "Executable:   /anaconda3/envs/biobb_dev/bin/gmx\n",
      "Data prefix:  /anaconda3/envs/biobb_dev\n",
      "Working dir:  /home/gbayarri_local/projects/BioBB/tutorials/biobb_wf_pmx_tutorial/biobb_wf_pmx_tutorial/notebooks\n",
      "Command line:\n",
      "  gmx -nobackup -nocopyright mdrun -s eqA_20ps.tpr -o eqoutA.trr -c eqoutA.gro -e eqoutA.edr -g eqoutA.log -nt 0\n",
      "\n",
      "Compiled SIMD: SSE2, but for this host/run AVX2_256 might be better (see log).\n",
      "The current CPU can measure timings more accurately than the code in\n",
      "gmx mdrun was configured to use. This might affect your simulation\n",
      "speed as accurate timings are needed for load-balancing.\n",
      "Please consider rebuilding gmx mdrun with the GMX_USE_RDTSCP=ON CMake option.\n",
      "Reading file eqA_20ps.tpr, VERSION 2019.1 (single precision)\n",
      "Changing nstlist from 10 to 50, rlist from 1 to 1.115\n",
      "\n",
      "\n",
      "Using 1 MPI thread\n",
      "Using 8 OpenMP threads \n",
      "\n",
      "starting mdrun 'PMX MODEL'\n",
      "5000 steps,     10.0 ps.\n",
      "\n",
      "Writing final coordinates.\n",
      "\n",
      "               Core t (s)   Wall t (s)        (%)\n",
      "       Time:     1065.675      133.210      800.0\n",
      "                 (ns/day)    (hour/ns)\n",
      "Performance:        6.487        3.700\n",
      "\n",
      "GROMACS reminds you: \"I believe in miracles cause I'm one\" (The Ramones)\n",
      "\n",
      "\n",
      "2019-12-04 17:48:49,729 [MainThread  ] [INFO ]  Removed: []\n",
      "2019-12-04 17:48:49,743 [MainThread  ] [INFO ]  GROMACS Mdrun 20191 version detected\n",
      "2019-12-04 17:48:49,744 [MainThread  ] [INFO ]  Not using any container\n",
      "2019-12-04 17:51:12,837 [MainThread  ] [INFO ]  gmx -nobackup -nocopyright mdrun -s eqB_20ps.tpr -o eqoutB.trr -c eqoutB.gro -e eqoutB.edr -g eqoutB.log -nt 0\n",
      "\n",
      "2019-12-04 17:51:12,838 [MainThread  ] [INFO ]  Exit code 0\n",
      "\n",
      "2019-12-04 17:51:12,839 [MainThread  ] [INFO ]                        :-) GROMACS - gmx mdrun, 2019.1 (-:\n",
      "\n",
      "Executable:   /anaconda3/envs/biobb_dev/bin/gmx\n",
      "Data prefix:  /anaconda3/envs/biobb_dev\n",
      "Working dir:  /home/gbayarri_local/projects/BioBB/tutorials/biobb_wf_pmx_tutorial/biobb_wf_pmx_tutorial/notebooks\n",
      "Command line:\n",
      "  gmx -nobackup -nocopyright mdrun -s eqB_20ps.tpr -o eqoutB.trr -c eqoutB.gro -e eqoutB.edr -g eqoutB.log -nt 0\n",
      "\n",
      "Compiled SIMD: SSE2, but for this host/run AVX2_256 might be better (see log).\n",
      "The current CPU can measure timings more accurately than the code in\n",
      "gmx mdrun was configured to use. This might affect your simulation\n",
      "speed as accurate timings are needed for load-balancing.\n",
      "Please consider rebuilding gmx mdrun with the GMX_USE_RDTSCP=ON CMake option.\n",
      "Reading file eqB_20ps.tpr, VERSION 2019.1 (single precision)\n",
      "Changing nstlist from 10 to 50, rlist from 1 to 1.115\n",
      "\n",
      "\n",
      "Using 1 MPI thread\n",
      "Using 8 OpenMP threads \n",
      "\n",
      "starting mdrun 'PMX MODEL'\n",
      "5000 steps,     10.0 ps.\n",
      "\n",
      "Writing final coordinates.\n",
      "\n",
      "               Core t (s)   Wall t (s)        (%)\n",
      "       Time:     1122.678      140.335      800.0\n",
      "                 (ns/day)    (hour/ns)\n",
      "Performance:        6.158        3.897\n",
      "\n",
      "GROMACS reminds you: \"Never replicate a successful experiment.\" (Fett's law.)\n",
      "\n",
      "\n",
      "2019-12-04 17:51:12,840 [MainThread  ] [INFO ]  Removed: []\n"
     ]
    },
    {
     "data": {
      "text/plain": [
       "0"
      ]
     },
     "execution_count": 13,
     "metadata": {},
     "output_type": "execute_result"
    }
   ],
   "source": [
    "# Mdrun: Running equilibration\n",
    "from biobb_md.gromacs.mdrun import Mdrun\n",
    "\n",
    "#### State A (WT->Mut) ####\n",
    "\n",
    "# Create prop dict and inputs/outputs\n",
    "output_eqA_trr = 'eqoutA.trr'\n",
    "output_eqA_gro = 'eqoutA.gro'\n",
    "output_eqA_edr = 'eqoutA.edr'\n",
    "output_eqA_log = 'eqoutA.log'\n",
    "\n",
    "# Create and launch bb\n",
    "Mdrun(input_tpr_path=output_tprA_eq,\n",
    "      output_trr_path=output_eqA_trr,\n",
    "      output_gro_path=output_eqA_gro,\n",
    "      output_edr_path=output_eqA_edr,\n",
    "      output_log_path=output_eqA_log).launch()\n",
    "\n",
    "#### State B (Mut->WT) ####\n",
    "\n",
    "# Create prop dict and inputs/outputs\n",
    "output_eqB_trr = 'eqoutB.trr'\n",
    "output_eqB_gro = 'eqoutB.gro'\n",
    "output_eqB_edr = 'eqoutB.edr'\n",
    "output_eqB_log = 'eqoutB.log'\n",
    "\n",
    "# Create and launch bb\n",
    "Mdrun(input_tpr_path=output_tprB_eq,\n",
    "      output_trr_path=output_eqB_trr,\n",
    "      output_gro_path=output_eqB_gro,\n",
    "      output_edr_path=output_eqB_edr,\n",
    "      output_log_path=output_eqB_log).launch()"
   ]
  },
  {
   "cell_type": "markdown",
   "metadata": {},
   "source": [
    "<a id=\"eqNPTStep3\"></a>\n",
    "### Step 3: Checking NPT Equilibration results\n",
    "Checking **NPT Equilibration** results. Plotting **system pressure and density** by time during the **NPT equilibration** process. "
   ]
  },
  {
   "cell_type": "code",
   "execution_count": 14,
   "metadata": {},
   "outputs": [
    {
     "name": "stderr",
     "output_type": "stream",
     "text": [
      "2019-12-04 17:51:29,330 [MainThread  ] [INFO ]  Not using any container\n",
      "2019-12-04 17:51:29,365 [MainThread  ] [INFO ]  gmx energy -f /home/gbayarri_local/projects/BioBB/tutorials/biobb_wf_pmx_tutorial/biobb_wf_pmx_tutorial/notebooks/eqoutA.edr -o eqA_PD.xvg -xvg none < 0e95cff0-7941-4d3b-8ee8-ebe500d211b6/instructions.in\n",
      "\n",
      "2019-12-04 17:51:29,371 [MainThread  ] [INFO ]  Exit code 0\n",
      "\n",
      "2019-12-04 17:51:29,372 [MainThread  ] [INFO ]  \n",
      "Statistics over 5001 steps [ 0.0000 through 10.0000 ps ], 2 data sets\n",
      "All statistics are over 5001 points\n",
      "\n",
      "Energy                      Average   Err.Est.       RMSD  Tot-Drift\n",
      "-------------------------------------------------------------------------------\n",
      "Pressure                   -61.5082         --    1378.18   -76255.9  (bar)\n",
      "Density                        1023         --    10.7769    8.99755  (kg/m^3)\n",
      "\n",
      "2019-12-04 17:51:29,373 [MainThread  ] [INFO ]                        :-) GROMACS - gmx energy, 2019.1 (-:\n",
      "\n",
      "                            GROMACS is written by:\n",
      "     Emile Apol      Rossen Apostolov      Paul Bauer     Herman J.C. Berendsen\n",
      "    Par Bjelkmar      Christian Blau   Viacheslav Bolnykh     Kevin Boyd    \n",
      " Aldert van Buuren   Rudi van Drunen     Anton Feenstra       Alan Gray     \n",
      "  Gerrit Groenhof     Anca Hamuraru    Vincent Hindriksen  M. Eric Irrgang  \n",
      "  Aleksei Iupinov   Christoph Junghans     Joe Jordan     Dimitrios Karkoulis\n",
      "    Peter Kasson        Jiri Kraus      Carsten Kutzner      Per Larsson    \n",
      "  Justin A. Lemkul    Viveca Lindahl    Magnus Lundborg     Erik Marklund   \n",
      "    Pascal Merz     Pieter Meulenhoff    Teemu Murtola       Szilard Pall   \n",
      "    Sander Pronk      Roland Schulz      Michael Shirts    Alexey Shvetsov  \n",
      "   Alfons Sijbers     Peter Tieleman      Jon Vincent      Teemu Virolainen \n",
      " Christian Wennberg    Maarten Wolf   \n",
      "                           and the project leaders:\n",
      "        Mark Abraham, Berk Hess, Erik Lindahl, and David van der Spoel\n",
      "\n",
      "Copyright (c) 1991-2000, University of Groningen, The Netherlands.\n",
      "Copyright (c) 2001-2018, The GROMACS development team at\n",
      "Uppsala University, Stockholm University and\n",
      "the Royal Institute of Technology, Sweden.\n",
      "check out http://www.gromacs.org for more information.\n",
      "\n",
      "GROMACS is free software; you can redistribute it and/or modify it\n",
      "under the terms of the GNU Lesser General Public License\n",
      "as published by the Free Software Foundation; either version 2.1\n",
      "of the License, or (at your option) any later version.\n",
      "\n",
      "GROMACS:      gmx energy, version 2019.1\n",
      "Executable:   /anaconda3/envs/biobb_dev/bin/gmx\n",
      "Data prefix:  /anaconda3/envs/biobb_dev\n",
      "Working dir:  /home/gbayarri_local/projects/BioBB/tutorials/biobb_wf_pmx_tutorial/biobb_wf_pmx_tutorial/notebooks\n",
      "Command line:\n",
      "  gmx energy -f /home/gbayarri_local/projects/BioBB/tutorials/biobb_wf_pmx_tutorial/biobb_wf_pmx_tutorial/notebooks/eqoutA.edr -o eqA_PD.xvg -xvg none\n",
      "\n",
      "Opened /home/gbayarri_local/projects/BioBB/tutorials/biobb_wf_pmx_tutorial/biobb_wf_pmx_tutorial/notebooks/eqoutA.edr as single precision energy file\n",
      "\n",
      "Select the terms you want from the following list by\n",
      "selecting either (part of) the name or the number or a combination.\n",
      "End your selection with an empty line or a zero.\n",
      "-------------------------------------------------------------------\n",
      "  1  Angle            2  Proper-Dih.      3  Improper-Dih.    4  LJ-14         \n",
      "  5  Coulomb-14       6  LJ-(SR)          7  Disper.-corr.    8  Coulomb-(SR)  \n",
      "  9  Coul.-recip.    10  Potential       11  Kinetic-En.     12  Total-Energy  \n",
      " 13  Conserved-En.   14  Temperature     15  Pres.-DC        16  Pressure      \n",
      " 17  Constr.-rmsd    18  Box-X           19  Box-Y           20  Box-Z         \n",
      " 21  Volume          22  Density         23  pV              24  Enthalpy      \n",
      " 25  Vir-XX          26  Vir-XY          27  Vir-XZ          28  Vir-YX        \n",
      " 29  Vir-YY          30  Vir-YZ          31  Vir-ZX          32  Vir-ZY        \n",
      " 33  Vir-ZZ          34  Pres-XX         35  Pres-XY         36  Pres-XZ       \n",
      " 37  Pres-YX         38  Pres-YY         39  Pres-YZ         40  Pres-ZX       \n",
      " 41  Pres-ZY         42  Pres-ZZ         43  #Surf*SurfTen   44  Box-Vel-XX    \n",
      " 45  Box-Vel-YY      46  Box-Vel-ZZ      47  T-Protein       48  T-non-Protein \n",
      " 49  Lamb-Protein                        50  Lamb-non-Protein                  \n",
      "\n",
      "\n",
      "Back Off! I just backed up eqA_PD.xvg to ./#eqA_PD.xvg.2#\n",
      "Last energy frame read 1 time   10.000            \n",
      "\n",
      "GROMACS reminds you: \"The three principal virtues of a programmer are Laziness, Impatience, and Hubris\" (Larry Wall)\n",
      "\n",
      "\n",
      "2019-12-04 17:51:29,376 [MainThread  ] [INFO ]  Removed: [PurePosixPath('0e95cff0-7941-4d3b-8ee8-ebe500d211b6')]\n",
      "2019-12-04 17:51:29,391 [MainThread  ] [INFO ]  Not using any container\n",
      "2019-12-04 17:51:29,427 [MainThread  ] [INFO ]  gmx energy -f /home/gbayarri_local/projects/BioBB/tutorials/biobb_wf_pmx_tutorial/biobb_wf_pmx_tutorial/notebooks/eqoutB.edr -o eqB_PD.xvg -xvg none < d5496bf7-8977-4844-b2ed-cd2a483b75aa/instructions.in\n",
      "\n",
      "2019-12-04 17:51:29,433 [MainThread  ] [INFO ]  Exit code 0\n",
      "\n",
      "2019-12-04 17:51:29,440 [MainThread  ] [INFO ]  \n",
      "Statistics over 5001 steps [ 0.0000 through 10.0000 ps ], 2 data sets\n",
      "All statistics are over 5001 points\n",
      "\n",
      "Energy                      Average   Err.Est.       RMSD  Tot-Drift\n",
      "-------------------------------------------------------------------------------\n",
      "Pressure                    3.31102         --    676.965    4822.03  (bar)\n",
      "Density                     1029.19         --    7.82779    17.4998  (kg/m^3)\n",
      "\n",
      "2019-12-04 17:51:29,445 [MainThread  ] [INFO ]                        :-) GROMACS - gmx energy, 2019.1 (-:\n",
      "\n",
      "                            GROMACS is written by:\n",
      "     Emile Apol      Rossen Apostolov      Paul Bauer     Herman J.C. Berendsen\n",
      "    Par Bjelkmar      Christian Blau   Viacheslav Bolnykh     Kevin Boyd    \n",
      " Aldert van Buuren   Rudi van Drunen     Anton Feenstra       Alan Gray     \n",
      "  Gerrit Groenhof     Anca Hamuraru    Vincent Hindriksen  M. Eric Irrgang  \n",
      "  Aleksei Iupinov   Christoph Junghans     Joe Jordan     Dimitrios Karkoulis\n",
      "    Peter Kasson        Jiri Kraus      Carsten Kutzner      Per Larsson    \n",
      "  Justin A. Lemkul    Viveca Lindahl    Magnus Lundborg     Erik Marklund   \n",
      "    Pascal Merz     Pieter Meulenhoff    Teemu Murtola       Szilard Pall   \n",
      "    Sander Pronk      Roland Schulz      Michael Shirts    Alexey Shvetsov  \n",
      "   Alfons Sijbers     Peter Tieleman      Jon Vincent      Teemu Virolainen \n",
      " Christian Wennberg    Maarten Wolf   \n",
      "                           and the project leaders:\n",
      "        Mark Abraham, Berk Hess, Erik Lindahl, and David van der Spoel\n",
      "\n",
      "Copyright (c) 1991-2000, University of Groningen, The Netherlands.\n",
      "Copyright (c) 2001-2018, The GROMACS development team at\n",
      "Uppsala University, Stockholm University and\n",
      "the Royal Institute of Technology, Sweden.\n",
      "check out http://www.gromacs.org for more information.\n",
      "\n",
      "GROMACS is free software; you can redistribute it and/or modify it\n",
      "under the terms of the GNU Lesser General Public License\n",
      "as published by the Free Software Foundation; either version 2.1\n",
      "of the License, or (at your option) any later version.\n",
      "\n",
      "GROMACS:      gmx energy, version 2019.1\n",
      "Executable:   /anaconda3/envs/biobb_dev/bin/gmx\n",
      "Data prefix:  /anaconda3/envs/biobb_dev\n",
      "Working dir:  /home/gbayarri_local/projects/BioBB/tutorials/biobb_wf_pmx_tutorial/biobb_wf_pmx_tutorial/notebooks\n",
      "Command line:\n",
      "  gmx energy -f /home/gbayarri_local/projects/BioBB/tutorials/biobb_wf_pmx_tutorial/biobb_wf_pmx_tutorial/notebooks/eqoutB.edr -o eqB_PD.xvg -xvg none\n",
      "\n",
      "Opened /home/gbayarri_local/projects/BioBB/tutorials/biobb_wf_pmx_tutorial/biobb_wf_pmx_tutorial/notebooks/eqoutB.edr as single precision energy file\n",
      "\n",
      "Select the terms you want from the following list by\n",
      "selecting either (part of) the name or the number or a combination.\n",
      "End your selection with an empty line or a zero.\n",
      "-------------------------------------------------------------------\n",
      "  1  Angle            2  Proper-Dih.      3  Improper-Dih.    4  LJ-14         \n",
      "  5  Coulomb-14       6  LJ-(SR)          7  Disper.-corr.    8  Coulomb-(SR)  \n",
      "  9  Coul.-recip.    10  Potential       11  Kinetic-En.     12  Total-Energy  \n",
      " 13  Conserved-En.   14  Temperature     15  Pres.-DC        16  Pressure      \n",
      " 17  Constr.-rmsd    18  Box-X           19  Box-Y           20  Box-Z         \n",
      " 21  Volume          22  Density         23  pV              24  Enthalpy      \n",
      " 25  Vir-XX          26  Vir-XY          27  Vir-XZ          28  Vir-YX        \n",
      " 29  Vir-YY          30  Vir-YZ          31  Vir-ZX          32  Vir-ZY        \n",
      " 33  Vir-ZZ          34  Pres-XX         35  Pres-XY         36  Pres-XZ       \n",
      " 37  Pres-YX         38  Pres-YY         39  Pres-YZ         40  Pres-ZX       \n",
      " 41  Pres-ZY         42  Pres-ZZ         43  #Surf*SurfTen   44  Box-Vel-XX    \n",
      " 45  Box-Vel-YY      46  Box-Vel-ZZ      47  T-Protein       48  T-non-Protein \n",
      " 49  Lamb-Protein                        50  Lamb-non-Protein                  \n",
      "\n",
      "\n",
      "Back Off! I just backed up eqB_PD.xvg to ./#eqB_PD.xvg.2#\n",
      "Last energy frame read 1 time   10.000            \n",
      "\n",
      "GROMACS reminds you: \"People disagree with me. I just ignore them.\" (Linus Torvalds on the use of C++ in the kernel)\n",
      "\n",
      "\n"
     ]
    },
    {
     "name": "stderr",
     "output_type": "stream",
     "text": [
      "2019-12-04 17:51:29,449 [MainThread  ] [INFO ]  Removed: [PurePosixPath('d5496bf7-8977-4844-b2ed-cd2a483b75aa')]\n"
     ]
    },
    {
     "data": {
      "text/plain": [
       "0"
      ]
     },
     "execution_count": 14,
     "metadata": {},
     "output_type": "execute_result"
    }
   ],
   "source": [
    "# GMXEnergy: Getting system pressure and density by time during NPT Equilibration  \n",
    "from biobb_analysis.gromacs.gmx_energy import GMXEnergy\n",
    "\n",
    "#### State A (WT->Mut) ####\n",
    "\n",
    "# Create prop dict and inputs/outputs\n",
    "output_eqA_pd_xvg = 'eqA_PD.xvg'\n",
    "prop = {\n",
    "    'terms':  [\"Pressure\",\"Density\"]\n",
    "}\n",
    "\n",
    "# Create and launch bb\n",
    "GMXEnergy(input_energy_path=output_eqA_edr, \n",
    "          output_xvg_path=output_eqA_pd_xvg, \n",
    "          properties=prop).launch()\n",
    "\n",
    "#### State B (Mut->WT) ####\n",
    "\n",
    "# Create prop dict and inputs/outputs\n",
    "output_eqB_pd_xvg = 'eqB_PD.xvg'\n",
    "prop = {\n",
    "    'terms':  [\"Pressure\",\"Density\"]\n",
    "}\n",
    "\n",
    "# Create and launch bb\n",
    "GMXEnergy(input_energy_path=output_eqB_edr, \n",
    "          output_xvg_path=output_eqB_pd_xvg, \n",
    "          properties=prop).launch()"
   ]
  },
  {
   "cell_type": "markdown",
   "metadata": {},
   "source": [
    "Please note the information shown by the next plots **increases with the time simulated**, and are included as a **reference for more complex calculations**.   "
   ]
  },
  {
   "cell_type": "code",
   "execution_count": 15,
   "metadata": {},
   "outputs": [
    {
     "data": {
      "text/html": [
       "        <script type=\"text/javascript\">\n",
       "        window.PlotlyConfig = {MathJaxConfig: 'local'};\n",
       "        if (window.MathJax) {MathJax.Hub.Config({SVG: {font: \"STIX-Web\"}});}\n",
       "        if (typeof require !== 'undefined') {\n",
       "        require.undef(\"plotly\");\n",
       "        requirejs.config({\n",
       "            paths: {\n",
       "                'plotly': ['https://cdn.plot.ly/plotly-latest.min']\n",
       "            }\n",
       "        });\n",
       "        require(['plotly'], function(Plotly) {\n",
       "            window._Plotly = Plotly;\n",
       "        });\n",
       "        }\n",
       "        </script>\n",
       "        "
      ]
     },
     "metadata": {},
     "output_type": "display_data"
    },
    {
     "name": "stderr",
     "output_type": "stream",
     "text": [
      "/anaconda3/envs/biobb_dev/lib/python3.6/site-packages/plotly/tools.py:465: DeprecationWarning:\n",
      "\n",
      "plotly.tools.make_subplots is deprecated, please use plotly.subplots.make_subplots instead\n",
      "\n"
     ]
    },
    {
     "data": {
      "application/vnd.plotly.v1+json": {
       "config": {
        "linkText": "Export to plot.ly",
        "plotlyServerURL": "https://plot.ly",
        "showLink": false
       },
       "data": [
        {
         "type": "scatter",
         "x": [
          0,
          10
         ],
         "xaxis": "x",
         "y": [
          38066.445312,
          -101.888496
         ],
         "yaxis": "y"
        },
        {
         "type": "scatter",
         "x": [
          0,
          10
         ],
         "xaxis": "x2",
         "y": [
          1018.499023,
          1026.0979
         ],
         "yaxis": "y2"
        }
       ],
       "layout": {
        "showlegend": false,
        "template": {
         "data": {
          "bar": [
           {
            "error_x": {
             "color": "#2a3f5f"
            },
            "error_y": {
             "color": "#2a3f5f"
            },
            "marker": {
             "line": {
              "color": "#E5ECF6",
              "width": 0.5
             }
            },
            "type": "bar"
           }
          ],
          "barpolar": [
           {
            "marker": {
             "line": {
              "color": "#E5ECF6",
              "width": 0.5
             }
            },
            "type": "barpolar"
           }
          ],
          "carpet": [
           {
            "aaxis": {
             "endlinecolor": "#2a3f5f",
             "gridcolor": "white",
             "linecolor": "white",
             "minorgridcolor": "white",
             "startlinecolor": "#2a3f5f"
            },
            "baxis": {
             "endlinecolor": "#2a3f5f",
             "gridcolor": "white",
             "linecolor": "white",
             "minorgridcolor": "white",
             "startlinecolor": "#2a3f5f"
            },
            "type": "carpet"
           }
          ],
          "choropleth": [
           {
            "colorbar": {
             "outlinewidth": 0,
             "ticks": ""
            },
            "type": "choropleth"
           }
          ],
          "contour": [
           {
            "colorbar": {
             "outlinewidth": 0,
             "ticks": ""
            },
            "colorscale": [
             [
              0,
              "#0d0887"
             ],
             [
              0.1111111111111111,
              "#46039f"
             ],
             [
              0.2222222222222222,
              "#7201a8"
             ],
             [
              0.3333333333333333,
              "#9c179e"
             ],
             [
              0.4444444444444444,
              "#bd3786"
             ],
             [
              0.5555555555555556,
              "#d8576b"
             ],
             [
              0.6666666666666666,
              "#ed7953"
             ],
             [
              0.7777777777777778,
              "#fb9f3a"
             ],
             [
              0.8888888888888888,
              "#fdca26"
             ],
             [
              1,
              "#f0f921"
             ]
            ],
            "type": "contour"
           }
          ],
          "contourcarpet": [
           {
            "colorbar": {
             "outlinewidth": 0,
             "ticks": ""
            },
            "type": "contourcarpet"
           }
          ],
          "heatmap": [
           {
            "colorbar": {
             "outlinewidth": 0,
             "ticks": ""
            },
            "colorscale": [
             [
              0,
              "#0d0887"
             ],
             [
              0.1111111111111111,
              "#46039f"
             ],
             [
              0.2222222222222222,
              "#7201a8"
             ],
             [
              0.3333333333333333,
              "#9c179e"
             ],
             [
              0.4444444444444444,
              "#bd3786"
             ],
             [
              0.5555555555555556,
              "#d8576b"
             ],
             [
              0.6666666666666666,
              "#ed7953"
             ],
             [
              0.7777777777777778,
              "#fb9f3a"
             ],
             [
              0.8888888888888888,
              "#fdca26"
             ],
             [
              1,
              "#f0f921"
             ]
            ],
            "type": "heatmap"
           }
          ],
          "heatmapgl": [
           {
            "colorbar": {
             "outlinewidth": 0,
             "ticks": ""
            },
            "colorscale": [
             [
              0,
              "#0d0887"
             ],
             [
              0.1111111111111111,
              "#46039f"
             ],
             [
              0.2222222222222222,
              "#7201a8"
             ],
             [
              0.3333333333333333,
              "#9c179e"
             ],
             [
              0.4444444444444444,
              "#bd3786"
             ],
             [
              0.5555555555555556,
              "#d8576b"
             ],
             [
              0.6666666666666666,
              "#ed7953"
             ],
             [
              0.7777777777777778,
              "#fb9f3a"
             ],
             [
              0.8888888888888888,
              "#fdca26"
             ],
             [
              1,
              "#f0f921"
             ]
            ],
            "type": "heatmapgl"
           }
          ],
          "histogram": [
           {
            "marker": {
             "colorbar": {
              "outlinewidth": 0,
              "ticks": ""
             }
            },
            "type": "histogram"
           }
          ],
          "histogram2d": [
           {
            "colorbar": {
             "outlinewidth": 0,
             "ticks": ""
            },
            "colorscale": [
             [
              0,
              "#0d0887"
             ],
             [
              0.1111111111111111,
              "#46039f"
             ],
             [
              0.2222222222222222,
              "#7201a8"
             ],
             [
              0.3333333333333333,
              "#9c179e"
             ],
             [
              0.4444444444444444,
              "#bd3786"
             ],
             [
              0.5555555555555556,
              "#d8576b"
             ],
             [
              0.6666666666666666,
              "#ed7953"
             ],
             [
              0.7777777777777778,
              "#fb9f3a"
             ],
             [
              0.8888888888888888,
              "#fdca26"
             ],
             [
              1,
              "#f0f921"
             ]
            ],
            "type": "histogram2d"
           }
          ],
          "histogram2dcontour": [
           {
            "colorbar": {
             "outlinewidth": 0,
             "ticks": ""
            },
            "colorscale": [
             [
              0,
              "#0d0887"
             ],
             [
              0.1111111111111111,
              "#46039f"
             ],
             [
              0.2222222222222222,
              "#7201a8"
             ],
             [
              0.3333333333333333,
              "#9c179e"
             ],
             [
              0.4444444444444444,
              "#bd3786"
             ],
             [
              0.5555555555555556,
              "#d8576b"
             ],
             [
              0.6666666666666666,
              "#ed7953"
             ],
             [
              0.7777777777777778,
              "#fb9f3a"
             ],
             [
              0.8888888888888888,
              "#fdca26"
             ],
             [
              1,
              "#f0f921"
             ]
            ],
            "type": "histogram2dcontour"
           }
          ],
          "mesh3d": [
           {
            "colorbar": {
             "outlinewidth": 0,
             "ticks": ""
            },
            "type": "mesh3d"
           }
          ],
          "parcoords": [
           {
            "line": {
             "colorbar": {
              "outlinewidth": 0,
              "ticks": ""
             }
            },
            "type": "parcoords"
           }
          ],
          "scatter": [
           {
            "marker": {
             "colorbar": {
              "outlinewidth": 0,
              "ticks": ""
             }
            },
            "type": "scatter"
           }
          ],
          "scatter3d": [
           {
            "line": {
             "colorbar": {
              "outlinewidth": 0,
              "ticks": ""
             }
            },
            "marker": {
             "colorbar": {
              "outlinewidth": 0,
              "ticks": ""
             }
            },
            "type": "scatter3d"
           }
          ],
          "scattercarpet": [
           {
            "marker": {
             "colorbar": {
              "outlinewidth": 0,
              "ticks": ""
             }
            },
            "type": "scattercarpet"
           }
          ],
          "scattergeo": [
           {
            "marker": {
             "colorbar": {
              "outlinewidth": 0,
              "ticks": ""
             }
            },
            "type": "scattergeo"
           }
          ],
          "scattergl": [
           {
            "marker": {
             "colorbar": {
              "outlinewidth": 0,
              "ticks": ""
             }
            },
            "type": "scattergl"
           }
          ],
          "scattermapbox": [
           {
            "marker": {
             "colorbar": {
              "outlinewidth": 0,
              "ticks": ""
             }
            },
            "type": "scattermapbox"
           }
          ],
          "scatterpolar": [
           {
            "marker": {
             "colorbar": {
              "outlinewidth": 0,
              "ticks": ""
             }
            },
            "type": "scatterpolar"
           }
          ],
          "scatterpolargl": [
           {
            "marker": {
             "colorbar": {
              "outlinewidth": 0,
              "ticks": ""
             }
            },
            "type": "scatterpolargl"
           }
          ],
          "scatterternary": [
           {
            "marker": {
             "colorbar": {
              "outlinewidth": 0,
              "ticks": ""
             }
            },
            "type": "scatterternary"
           }
          ],
          "surface": [
           {
            "colorbar": {
             "outlinewidth": 0,
             "ticks": ""
            },
            "colorscale": [
             [
              0,
              "#0d0887"
             ],
             [
              0.1111111111111111,
              "#46039f"
             ],
             [
              0.2222222222222222,
              "#7201a8"
             ],
             [
              0.3333333333333333,
              "#9c179e"
             ],
             [
              0.4444444444444444,
              "#bd3786"
             ],
             [
              0.5555555555555556,
              "#d8576b"
             ],
             [
              0.6666666666666666,
              "#ed7953"
             ],
             [
              0.7777777777777778,
              "#fb9f3a"
             ],
             [
              0.8888888888888888,
              "#fdca26"
             ],
             [
              1,
              "#f0f921"
             ]
            ],
            "type": "surface"
           }
          ],
          "table": [
           {
            "cells": {
             "fill": {
              "color": "#EBF0F8"
             },
             "line": {
              "color": "white"
             }
            },
            "header": {
             "fill": {
              "color": "#C8D4E3"
             },
             "line": {
              "color": "white"
             }
            },
            "type": "table"
           }
          ]
         },
         "layout": {
          "annotationdefaults": {
           "arrowcolor": "#2a3f5f",
           "arrowhead": 0,
           "arrowwidth": 1
          },
          "colorscale": {
           "diverging": [
            [
             0,
             "#8e0152"
            ],
            [
             0.1,
             "#c51b7d"
            ],
            [
             0.2,
             "#de77ae"
            ],
            [
             0.3,
             "#f1b6da"
            ],
            [
             0.4,
             "#fde0ef"
            ],
            [
             0.5,
             "#f7f7f7"
            ],
            [
             0.6,
             "#e6f5d0"
            ],
            [
             0.7,
             "#b8e186"
            ],
            [
             0.8,
             "#7fbc41"
            ],
            [
             0.9,
             "#4d9221"
            ],
            [
             1,
             "#276419"
            ]
           ],
           "sequential": [
            [
             0,
             "#0d0887"
            ],
            [
             0.1111111111111111,
             "#46039f"
            ],
            [
             0.2222222222222222,
             "#7201a8"
            ],
            [
             0.3333333333333333,
             "#9c179e"
            ],
            [
             0.4444444444444444,
             "#bd3786"
            ],
            [
             0.5555555555555556,
             "#d8576b"
            ],
            [
             0.6666666666666666,
             "#ed7953"
            ],
            [
             0.7777777777777778,
             "#fb9f3a"
            ],
            [
             0.8888888888888888,
             "#fdca26"
            ],
            [
             1,
             "#f0f921"
            ]
           ],
           "sequentialminus": [
            [
             0,
             "#0d0887"
            ],
            [
             0.1111111111111111,
             "#46039f"
            ],
            [
             0.2222222222222222,
             "#7201a8"
            ],
            [
             0.3333333333333333,
             "#9c179e"
            ],
            [
             0.4444444444444444,
             "#bd3786"
            ],
            [
             0.5555555555555556,
             "#d8576b"
            ],
            [
             0.6666666666666666,
             "#ed7953"
            ],
            [
             0.7777777777777778,
             "#fb9f3a"
            ],
            [
             0.8888888888888888,
             "#fdca26"
            ],
            [
             1,
             "#f0f921"
            ]
           ]
          },
          "colorway": [
           "#636efa",
           "#EF553B",
           "#00cc96",
           "#ab63fa",
           "#FFA15A",
           "#19d3f3",
           "#FF6692",
           "#B6E880",
           "#FF97FF",
           "#FECB52"
          ],
          "font": {
           "color": "#2a3f5f"
          },
          "geo": {
           "bgcolor": "white",
           "lakecolor": "white",
           "landcolor": "#E5ECF6",
           "showlakes": true,
           "showland": true,
           "subunitcolor": "white"
          },
          "hoverlabel": {
           "align": "left"
          },
          "hovermode": "closest",
          "mapbox": {
           "style": "light"
          },
          "paper_bgcolor": "white",
          "plot_bgcolor": "#E5ECF6",
          "polar": {
           "angularaxis": {
            "gridcolor": "white",
            "linecolor": "white",
            "ticks": ""
           },
           "bgcolor": "#E5ECF6",
           "radialaxis": {
            "gridcolor": "white",
            "linecolor": "white",
            "ticks": ""
           }
          },
          "scene": {
           "xaxis": {
            "backgroundcolor": "#E5ECF6",
            "gridcolor": "white",
            "gridwidth": 2,
            "linecolor": "white",
            "showbackground": true,
            "ticks": "",
            "zerolinecolor": "white"
           },
           "yaxis": {
            "backgroundcolor": "#E5ECF6",
            "gridcolor": "white",
            "gridwidth": 2,
            "linecolor": "white",
            "showbackground": true,
            "ticks": "",
            "zerolinecolor": "white"
           },
           "zaxis": {
            "backgroundcolor": "#E5ECF6",
            "gridcolor": "white",
            "gridwidth": 2,
            "linecolor": "white",
            "showbackground": true,
            "ticks": "",
            "zerolinecolor": "white"
           }
          },
          "shapedefaults": {
           "line": {
            "color": "#2a3f5f"
           }
          },
          "ternary": {
           "aaxis": {
            "gridcolor": "white",
            "linecolor": "white",
            "ticks": ""
           },
           "baxis": {
            "gridcolor": "white",
            "linecolor": "white",
            "ticks": ""
           },
           "bgcolor": "#E5ECF6",
           "caxis": {
            "gridcolor": "white",
            "linecolor": "white",
            "ticks": ""
           }
          },
          "title": {
           "x": 0.05
          },
          "xaxis": {
           "automargin": true,
           "gridcolor": "white",
           "linecolor": "white",
           "ticks": "",
           "zerolinecolor": "white",
           "zerolinewidth": 2
          },
          "yaxis": {
           "automargin": true,
           "gridcolor": "white",
           "linecolor": "white",
           "ticks": "",
           "zerolinecolor": "white",
           "zerolinewidth": 2
          }
         }
        },
        "title": {
         "text": "Pressure and Density during NPT Equilibration"
        },
        "xaxis": {
         "anchor": "y",
         "domain": [
          0,
          0.45
         ],
         "title": {
          "text": "Time (ps)"
         }
        },
        "xaxis2": {
         "anchor": "y2",
         "domain": [
          0.55,
          1
         ],
         "title": {
          "text": "Time (ps)"
         }
        },
        "yaxis": {
         "anchor": "x",
         "domain": [
          0,
          1
         ],
         "title": {
          "text": "Pressure (bar)"
         }
        },
        "yaxis2": {
         "anchor": "x2",
         "domain": [
          0,
          1
         ],
         "title": {
          "text": "Density (Kg*m^-3)"
         }
        }
       }
      },
      "text/html": [
       "<div>\n",
       "        \n",
       "        \n",
       "            <div id=\"69f7a57d-2f32-462e-a18e-d650e6ce53fd\" class=\"plotly-graph-div\" style=\"height:525px; width:100%;\"></div>\n",
       "            <script type=\"text/javascript\">\n",
       "                require([\"plotly\"], function(Plotly) {\n",
       "                    window.PLOTLYENV=window.PLOTLYENV || {};\n",
       "                    \n",
       "                if (document.getElementById(\"69f7a57d-2f32-462e-a18e-d650e6ce53fd\")) {\n",
       "                    Plotly.newPlot(\n",
       "                        '69f7a57d-2f32-462e-a18e-d650e6ce53fd',\n",
       "                        [{\"type\": \"scatter\", \"x\": [0.0, 10.0], \"xaxis\": \"x\", \"y\": [38066.445312, -101.888496], \"yaxis\": \"y\"}, {\"type\": \"scatter\", \"x\": [0.0, 10.0], \"xaxis\": \"x2\", \"y\": [1018.499023, 1026.0979], \"yaxis\": \"y2\"}],\n",
       "                        {\"showlegend\": false, \"template\": {\"data\": {\"bar\": [{\"error_x\": {\"color\": \"#2a3f5f\"}, \"error_y\": {\"color\": \"#2a3f5f\"}, \"marker\": {\"line\": {\"color\": \"#E5ECF6\", \"width\": 0.5}}, \"type\": \"bar\"}], \"barpolar\": [{\"marker\": {\"line\": {\"color\": \"#E5ECF6\", \"width\": 0.5}}, \"type\": \"barpolar\"}], \"carpet\": [{\"aaxis\": {\"endlinecolor\": \"#2a3f5f\", \"gridcolor\": \"white\", \"linecolor\": \"white\", \"minorgridcolor\": \"white\", \"startlinecolor\": \"#2a3f5f\"}, \"baxis\": {\"endlinecolor\": \"#2a3f5f\", \"gridcolor\": \"white\", \"linecolor\": \"white\", \"minorgridcolor\": \"white\", \"startlinecolor\": \"#2a3f5f\"}, \"type\": \"carpet\"}], \"choropleth\": [{\"colorbar\": {\"outlinewidth\": 0, \"ticks\": \"\"}, \"type\": \"choropleth\"}], \"contour\": [{\"colorbar\": {\"outlinewidth\": 0, \"ticks\": \"\"}, \"colorscale\": [[0.0, \"#0d0887\"], [0.1111111111111111, \"#46039f\"], [0.2222222222222222, \"#7201a8\"], [0.3333333333333333, \"#9c179e\"], [0.4444444444444444, \"#bd3786\"], [0.5555555555555556, \"#d8576b\"], [0.6666666666666666, \"#ed7953\"], [0.7777777777777778, \"#fb9f3a\"], [0.8888888888888888, \"#fdca26\"], [1.0, \"#f0f921\"]], \"type\": \"contour\"}], \"contourcarpet\": [{\"colorbar\": {\"outlinewidth\": 0, \"ticks\": \"\"}, \"type\": \"contourcarpet\"}], \"heatmap\": [{\"colorbar\": {\"outlinewidth\": 0, \"ticks\": \"\"}, \"colorscale\": [[0.0, \"#0d0887\"], [0.1111111111111111, \"#46039f\"], [0.2222222222222222, \"#7201a8\"], [0.3333333333333333, \"#9c179e\"], [0.4444444444444444, \"#bd3786\"], [0.5555555555555556, \"#d8576b\"], [0.6666666666666666, \"#ed7953\"], [0.7777777777777778, \"#fb9f3a\"], [0.8888888888888888, \"#fdca26\"], [1.0, \"#f0f921\"]], \"type\": \"heatmap\"}], \"heatmapgl\": [{\"colorbar\": {\"outlinewidth\": 0, \"ticks\": \"\"}, \"colorscale\": [[0.0, \"#0d0887\"], [0.1111111111111111, \"#46039f\"], [0.2222222222222222, \"#7201a8\"], [0.3333333333333333, \"#9c179e\"], [0.4444444444444444, \"#bd3786\"], [0.5555555555555556, \"#d8576b\"], [0.6666666666666666, \"#ed7953\"], [0.7777777777777778, \"#fb9f3a\"], [0.8888888888888888, \"#fdca26\"], [1.0, \"#f0f921\"]], \"type\": \"heatmapgl\"}], \"histogram\": [{\"marker\": {\"colorbar\": {\"outlinewidth\": 0, \"ticks\": \"\"}}, \"type\": \"histogram\"}], \"histogram2d\": [{\"colorbar\": {\"outlinewidth\": 0, \"ticks\": \"\"}, \"colorscale\": [[0.0, \"#0d0887\"], [0.1111111111111111, \"#46039f\"], [0.2222222222222222, \"#7201a8\"], [0.3333333333333333, \"#9c179e\"], [0.4444444444444444, \"#bd3786\"], [0.5555555555555556, \"#d8576b\"], [0.6666666666666666, \"#ed7953\"], [0.7777777777777778, \"#fb9f3a\"], [0.8888888888888888, \"#fdca26\"], [1.0, \"#f0f921\"]], \"type\": \"histogram2d\"}], \"histogram2dcontour\": [{\"colorbar\": {\"outlinewidth\": 0, \"ticks\": \"\"}, \"colorscale\": [[0.0, \"#0d0887\"], [0.1111111111111111, \"#46039f\"], [0.2222222222222222, \"#7201a8\"], [0.3333333333333333, \"#9c179e\"], [0.4444444444444444, \"#bd3786\"], [0.5555555555555556, \"#d8576b\"], [0.6666666666666666, \"#ed7953\"], [0.7777777777777778, \"#fb9f3a\"], [0.8888888888888888, \"#fdca26\"], [1.0, \"#f0f921\"]], \"type\": \"histogram2dcontour\"}], \"mesh3d\": [{\"colorbar\": {\"outlinewidth\": 0, \"ticks\": \"\"}, \"type\": \"mesh3d\"}], \"parcoords\": [{\"line\": {\"colorbar\": {\"outlinewidth\": 0, \"ticks\": \"\"}}, \"type\": \"parcoords\"}], \"scatter\": [{\"marker\": {\"colorbar\": {\"outlinewidth\": 0, \"ticks\": \"\"}}, \"type\": \"scatter\"}], \"scatter3d\": [{\"line\": {\"colorbar\": {\"outlinewidth\": 0, \"ticks\": \"\"}}, \"marker\": {\"colorbar\": {\"outlinewidth\": 0, \"ticks\": \"\"}}, \"type\": \"scatter3d\"}], \"scattercarpet\": [{\"marker\": {\"colorbar\": {\"outlinewidth\": 0, \"ticks\": \"\"}}, \"type\": \"scattercarpet\"}], \"scattergeo\": [{\"marker\": {\"colorbar\": {\"outlinewidth\": 0, \"ticks\": \"\"}}, \"type\": \"scattergeo\"}], \"scattergl\": [{\"marker\": {\"colorbar\": {\"outlinewidth\": 0, \"ticks\": \"\"}}, \"type\": \"scattergl\"}], \"scattermapbox\": [{\"marker\": {\"colorbar\": {\"outlinewidth\": 0, \"ticks\": \"\"}}, \"type\": \"scattermapbox\"}], \"scatterpolar\": [{\"marker\": {\"colorbar\": {\"outlinewidth\": 0, \"ticks\": \"\"}}, \"type\": \"scatterpolar\"}], \"scatterpolargl\": [{\"marker\": {\"colorbar\": {\"outlinewidth\": 0, \"ticks\": \"\"}}, \"type\": \"scatterpolargl\"}], \"scatterternary\": [{\"marker\": {\"colorbar\": {\"outlinewidth\": 0, \"ticks\": \"\"}}, \"type\": \"scatterternary\"}], \"surface\": [{\"colorbar\": {\"outlinewidth\": 0, \"ticks\": \"\"}, \"colorscale\": [[0.0, \"#0d0887\"], [0.1111111111111111, \"#46039f\"], [0.2222222222222222, \"#7201a8\"], [0.3333333333333333, \"#9c179e\"], [0.4444444444444444, \"#bd3786\"], [0.5555555555555556, \"#d8576b\"], [0.6666666666666666, \"#ed7953\"], [0.7777777777777778, \"#fb9f3a\"], [0.8888888888888888, \"#fdca26\"], [1.0, \"#f0f921\"]], \"type\": \"surface\"}], \"table\": [{\"cells\": {\"fill\": {\"color\": \"#EBF0F8\"}, \"line\": {\"color\": \"white\"}}, \"header\": {\"fill\": {\"color\": \"#C8D4E3\"}, \"line\": {\"color\": \"white\"}}, \"type\": \"table\"}]}, \"layout\": {\"annotationdefaults\": {\"arrowcolor\": \"#2a3f5f\", \"arrowhead\": 0, \"arrowwidth\": 1}, \"colorscale\": {\"diverging\": [[0, \"#8e0152\"], [0.1, \"#c51b7d\"], [0.2, \"#de77ae\"], [0.3, \"#f1b6da\"], [0.4, \"#fde0ef\"], [0.5, \"#f7f7f7\"], [0.6, \"#e6f5d0\"], [0.7, \"#b8e186\"], [0.8, \"#7fbc41\"], [0.9, \"#4d9221\"], [1, \"#276419\"]], \"sequential\": [[0.0, \"#0d0887\"], [0.1111111111111111, \"#46039f\"], [0.2222222222222222, \"#7201a8\"], [0.3333333333333333, \"#9c179e\"], [0.4444444444444444, \"#bd3786\"], [0.5555555555555556, \"#d8576b\"], [0.6666666666666666, \"#ed7953\"], [0.7777777777777778, \"#fb9f3a\"], [0.8888888888888888, \"#fdca26\"], [1.0, \"#f0f921\"]], \"sequentialminus\": [[0.0, \"#0d0887\"], [0.1111111111111111, \"#46039f\"], [0.2222222222222222, \"#7201a8\"], [0.3333333333333333, \"#9c179e\"], [0.4444444444444444, \"#bd3786\"], [0.5555555555555556, \"#d8576b\"], [0.6666666666666666, \"#ed7953\"], [0.7777777777777778, \"#fb9f3a\"], [0.8888888888888888, \"#fdca26\"], [1.0, \"#f0f921\"]]}, \"colorway\": [\"#636efa\", \"#EF553B\", \"#00cc96\", \"#ab63fa\", \"#FFA15A\", \"#19d3f3\", \"#FF6692\", \"#B6E880\", \"#FF97FF\", \"#FECB52\"], \"font\": {\"color\": \"#2a3f5f\"}, \"geo\": {\"bgcolor\": \"white\", \"lakecolor\": \"white\", \"landcolor\": \"#E5ECF6\", \"showlakes\": true, \"showland\": true, \"subunitcolor\": \"white\"}, \"hoverlabel\": {\"align\": \"left\"}, \"hovermode\": \"closest\", \"mapbox\": {\"style\": \"light\"}, \"paper_bgcolor\": \"white\", \"plot_bgcolor\": \"#E5ECF6\", \"polar\": {\"angularaxis\": {\"gridcolor\": \"white\", \"linecolor\": \"white\", \"ticks\": \"\"}, \"bgcolor\": \"#E5ECF6\", \"radialaxis\": {\"gridcolor\": \"white\", \"linecolor\": \"white\", \"ticks\": \"\"}}, \"scene\": {\"xaxis\": {\"backgroundcolor\": \"#E5ECF6\", \"gridcolor\": \"white\", \"gridwidth\": 2, \"linecolor\": \"white\", \"showbackground\": true, \"ticks\": \"\", \"zerolinecolor\": \"white\"}, \"yaxis\": {\"backgroundcolor\": \"#E5ECF6\", \"gridcolor\": \"white\", \"gridwidth\": 2, \"linecolor\": \"white\", \"showbackground\": true, \"ticks\": \"\", \"zerolinecolor\": \"white\"}, \"zaxis\": {\"backgroundcolor\": \"#E5ECF6\", \"gridcolor\": \"white\", \"gridwidth\": 2, \"linecolor\": \"white\", \"showbackground\": true, \"ticks\": \"\", \"zerolinecolor\": \"white\"}}, \"shapedefaults\": {\"line\": {\"color\": \"#2a3f5f\"}}, \"ternary\": {\"aaxis\": {\"gridcolor\": \"white\", \"linecolor\": \"white\", \"ticks\": \"\"}, \"baxis\": {\"gridcolor\": \"white\", \"linecolor\": \"white\", \"ticks\": \"\"}, \"bgcolor\": \"#E5ECF6\", \"caxis\": {\"gridcolor\": \"white\", \"linecolor\": \"white\", \"ticks\": \"\"}}, \"title\": {\"x\": 0.05}, \"xaxis\": {\"automargin\": true, \"gridcolor\": \"white\", \"linecolor\": \"white\", \"ticks\": \"\", \"zerolinecolor\": \"white\", \"zerolinewidth\": 2}, \"yaxis\": {\"automargin\": true, \"gridcolor\": \"white\", \"linecolor\": \"white\", \"ticks\": \"\", \"zerolinecolor\": \"white\", \"zerolinewidth\": 2}}}, \"title\": {\"text\": \"Pressure and Density during NPT Equilibration\"}, \"xaxis\": {\"anchor\": \"y\", \"domain\": [0.0, 0.45], \"title\": {\"text\": \"Time (ps)\"}}, \"xaxis2\": {\"anchor\": \"y2\", \"domain\": [0.55, 1.0], \"title\": {\"text\": \"Time (ps)\"}}, \"yaxis\": {\"anchor\": \"x\", \"domain\": [0.0, 1.0], \"title\": {\"text\": \"Pressure (bar)\"}}, \"yaxis2\": {\"anchor\": \"x2\", \"domain\": [0.0, 1.0], \"title\": {\"text\": \"Density (Kg*m^-3)\"}}},\n",
       "                        {\"responsive\": true}\n",
       "                    ).then(function(){\n",
       "                            \n",
       "var gd = document.getElementById('69f7a57d-2f32-462e-a18e-d650e6ce53fd');\n",
       "var x = new MutationObserver(function (mutations, observer) {{\n",
       "        var display = window.getComputedStyle(gd).display;\n",
       "        if (!display || display === 'none') {{\n",
       "            console.log([gd, 'removed!']);\n",
       "            Plotly.purge(gd);\n",
       "            observer.disconnect();\n",
       "        }}\n",
       "}});\n",
       "\n",
       "// Listen for the removal of the full notebook cells\n",
       "var notebookContainer = gd.closest('#notebook-container');\n",
       "if (notebookContainer) {{\n",
       "    x.observe(notebookContainer, {childList: true});\n",
       "}}\n",
       "\n",
       "// Listen for the clearing of the current output cell\n",
       "var outputEl = gd.closest('.output');\n",
       "if (outputEl) {{\n",
       "    x.observe(outputEl, {childList: true});\n",
       "}}\n",
       "\n",
       "                        })\n",
       "                };\n",
       "                });\n",
       "            </script>\n",
       "        </div>"
      ]
     },
     "metadata": {},
     "output_type": "display_data"
    }
   ],
   "source": [
    "import plotly\n",
    "from plotly import tools\n",
    "import plotly.graph_objs as go\n",
    "\n",
    "# Read pressure and density data from file \n",
    "with open(output_eqA_pd_xvg,'r') as pd_file:\n",
    "    x,y,z = map(\n",
    "        list,\n",
    "        zip(*[\n",
    "            (float(line.split()[0]),float(line.split()[1]),float(line.split()[2]))\n",
    "            for line in pd_file \n",
    "            if not line.startswith((\"#\",\"@\")) \n",
    "        ])\n",
    "    )\n",
    "\n",
    "plotly.offline.init_notebook_mode(connected=True)\n",
    "\n",
    "trace1 = go.Scatter(\n",
    "    x=x,y=y\n",
    ")\n",
    "trace2 = go.Scatter(\n",
    "    x=x,y=z\n",
    ")\n",
    "\n",
    "fig = tools.make_subplots(rows=1, cols=2, print_grid=False)\n",
    "\n",
    "fig.append_trace(trace1, 1, 1)\n",
    "fig.append_trace(trace2, 1, 2)\n",
    "\n",
    "fig['layout']['xaxis1'].update(title='Time (ps)')\n",
    "fig['layout']['xaxis2'].update(title='Time (ps)')\n",
    "fig['layout']['yaxis1'].update(title='Pressure (bar)')\n",
    "fig['layout']['yaxis2'].update(title='Density (Kg*m^-3)')\n",
    "\n",
    "fig['layout'].update(title='Pressure and Density during NPT Equilibration')\n",
    "fig['layout'].update(showlegend=False)\n",
    "\n",
    "plotly.offline.iplot(fig)"
   ]
  },
  {
   "cell_type": "code",
   "execution_count": 16,
   "metadata": {},
   "outputs": [
    {
     "data": {
      "text/html": [
       "        <script type=\"text/javascript\">\n",
       "        window.PlotlyConfig = {MathJaxConfig: 'local'};\n",
       "        if (window.MathJax) {MathJax.Hub.Config({SVG: {font: \"STIX-Web\"}});}\n",
       "        if (typeof require !== 'undefined') {\n",
       "        require.undef(\"plotly\");\n",
       "        requirejs.config({\n",
       "            paths: {\n",
       "                'plotly': ['https://cdn.plot.ly/plotly-latest.min']\n",
       "            }\n",
       "        });\n",
       "        require(['plotly'], function(Plotly) {\n",
       "            window._Plotly = Plotly;\n",
       "        });\n",
       "        }\n",
       "        </script>\n",
       "        "
      ]
     },
     "metadata": {},
     "output_type": "display_data"
    },
    {
     "data": {
      "application/vnd.plotly.v1+json": {
       "config": {
        "linkText": "Export to plot.ly",
        "plotlyServerURL": "https://plot.ly",
        "showLink": false
       },
       "data": [
        {
         "type": "scatter",
         "x": [
          0,
          10
         ],
         "xaxis": "x",
         "y": [
          -2407.704102,
          -74.866714
         ],
         "yaxis": "y"
        },
        {
         "type": "scatter",
         "x": [
          0,
          10
         ],
         "xaxis": "x2",
         "y": [
          1020.437073,
          1025.246582
         ],
         "yaxis": "y2"
        }
       ],
       "layout": {
        "showlegend": false,
        "template": {
         "data": {
          "bar": [
           {
            "error_x": {
             "color": "#2a3f5f"
            },
            "error_y": {
             "color": "#2a3f5f"
            },
            "marker": {
             "line": {
              "color": "#E5ECF6",
              "width": 0.5
             }
            },
            "type": "bar"
           }
          ],
          "barpolar": [
           {
            "marker": {
             "line": {
              "color": "#E5ECF6",
              "width": 0.5
             }
            },
            "type": "barpolar"
           }
          ],
          "carpet": [
           {
            "aaxis": {
             "endlinecolor": "#2a3f5f",
             "gridcolor": "white",
             "linecolor": "white",
             "minorgridcolor": "white",
             "startlinecolor": "#2a3f5f"
            },
            "baxis": {
             "endlinecolor": "#2a3f5f",
             "gridcolor": "white",
             "linecolor": "white",
             "minorgridcolor": "white",
             "startlinecolor": "#2a3f5f"
            },
            "type": "carpet"
           }
          ],
          "choropleth": [
           {
            "colorbar": {
             "outlinewidth": 0,
             "ticks": ""
            },
            "type": "choropleth"
           }
          ],
          "contour": [
           {
            "colorbar": {
             "outlinewidth": 0,
             "ticks": ""
            },
            "colorscale": [
             [
              0,
              "#0d0887"
             ],
             [
              0.1111111111111111,
              "#46039f"
             ],
             [
              0.2222222222222222,
              "#7201a8"
             ],
             [
              0.3333333333333333,
              "#9c179e"
             ],
             [
              0.4444444444444444,
              "#bd3786"
             ],
             [
              0.5555555555555556,
              "#d8576b"
             ],
             [
              0.6666666666666666,
              "#ed7953"
             ],
             [
              0.7777777777777778,
              "#fb9f3a"
             ],
             [
              0.8888888888888888,
              "#fdca26"
             ],
             [
              1,
              "#f0f921"
             ]
            ],
            "type": "contour"
           }
          ],
          "contourcarpet": [
           {
            "colorbar": {
             "outlinewidth": 0,
             "ticks": ""
            },
            "type": "contourcarpet"
           }
          ],
          "heatmap": [
           {
            "colorbar": {
             "outlinewidth": 0,
             "ticks": ""
            },
            "colorscale": [
             [
              0,
              "#0d0887"
             ],
             [
              0.1111111111111111,
              "#46039f"
             ],
             [
              0.2222222222222222,
              "#7201a8"
             ],
             [
              0.3333333333333333,
              "#9c179e"
             ],
             [
              0.4444444444444444,
              "#bd3786"
             ],
             [
              0.5555555555555556,
              "#d8576b"
             ],
             [
              0.6666666666666666,
              "#ed7953"
             ],
             [
              0.7777777777777778,
              "#fb9f3a"
             ],
             [
              0.8888888888888888,
              "#fdca26"
             ],
             [
              1,
              "#f0f921"
             ]
            ],
            "type": "heatmap"
           }
          ],
          "heatmapgl": [
           {
            "colorbar": {
             "outlinewidth": 0,
             "ticks": ""
            },
            "colorscale": [
             [
              0,
              "#0d0887"
             ],
             [
              0.1111111111111111,
              "#46039f"
             ],
             [
              0.2222222222222222,
              "#7201a8"
             ],
             [
              0.3333333333333333,
              "#9c179e"
             ],
             [
              0.4444444444444444,
              "#bd3786"
             ],
             [
              0.5555555555555556,
              "#d8576b"
             ],
             [
              0.6666666666666666,
              "#ed7953"
             ],
             [
              0.7777777777777778,
              "#fb9f3a"
             ],
             [
              0.8888888888888888,
              "#fdca26"
             ],
             [
              1,
              "#f0f921"
             ]
            ],
            "type": "heatmapgl"
           }
          ],
          "histogram": [
           {
            "marker": {
             "colorbar": {
              "outlinewidth": 0,
              "ticks": ""
             }
            },
            "type": "histogram"
           }
          ],
          "histogram2d": [
           {
            "colorbar": {
             "outlinewidth": 0,
             "ticks": ""
            },
            "colorscale": [
             [
              0,
              "#0d0887"
             ],
             [
              0.1111111111111111,
              "#46039f"
             ],
             [
              0.2222222222222222,
              "#7201a8"
             ],
             [
              0.3333333333333333,
              "#9c179e"
             ],
             [
              0.4444444444444444,
              "#bd3786"
             ],
             [
              0.5555555555555556,
              "#d8576b"
             ],
             [
              0.6666666666666666,
              "#ed7953"
             ],
             [
              0.7777777777777778,
              "#fb9f3a"
             ],
             [
              0.8888888888888888,
              "#fdca26"
             ],
             [
              1,
              "#f0f921"
             ]
            ],
            "type": "histogram2d"
           }
          ],
          "histogram2dcontour": [
           {
            "colorbar": {
             "outlinewidth": 0,
             "ticks": ""
            },
            "colorscale": [
             [
              0,
              "#0d0887"
             ],
             [
              0.1111111111111111,
              "#46039f"
             ],
             [
              0.2222222222222222,
              "#7201a8"
             ],
             [
              0.3333333333333333,
              "#9c179e"
             ],
             [
              0.4444444444444444,
              "#bd3786"
             ],
             [
              0.5555555555555556,
              "#d8576b"
             ],
             [
              0.6666666666666666,
              "#ed7953"
             ],
             [
              0.7777777777777778,
              "#fb9f3a"
             ],
             [
              0.8888888888888888,
              "#fdca26"
             ],
             [
              1,
              "#f0f921"
             ]
            ],
            "type": "histogram2dcontour"
           }
          ],
          "mesh3d": [
           {
            "colorbar": {
             "outlinewidth": 0,
             "ticks": ""
            },
            "type": "mesh3d"
           }
          ],
          "parcoords": [
           {
            "line": {
             "colorbar": {
              "outlinewidth": 0,
              "ticks": ""
             }
            },
            "type": "parcoords"
           }
          ],
          "scatter": [
           {
            "marker": {
             "colorbar": {
              "outlinewidth": 0,
              "ticks": ""
             }
            },
            "type": "scatter"
           }
          ],
          "scatter3d": [
           {
            "line": {
             "colorbar": {
              "outlinewidth": 0,
              "ticks": ""
             }
            },
            "marker": {
             "colorbar": {
              "outlinewidth": 0,
              "ticks": ""
             }
            },
            "type": "scatter3d"
           }
          ],
          "scattercarpet": [
           {
            "marker": {
             "colorbar": {
              "outlinewidth": 0,
              "ticks": ""
             }
            },
            "type": "scattercarpet"
           }
          ],
          "scattergeo": [
           {
            "marker": {
             "colorbar": {
              "outlinewidth": 0,
              "ticks": ""
             }
            },
            "type": "scattergeo"
           }
          ],
          "scattergl": [
           {
            "marker": {
             "colorbar": {
              "outlinewidth": 0,
              "ticks": ""
             }
            },
            "type": "scattergl"
           }
          ],
          "scattermapbox": [
           {
            "marker": {
             "colorbar": {
              "outlinewidth": 0,
              "ticks": ""
             }
            },
            "type": "scattermapbox"
           }
          ],
          "scatterpolar": [
           {
            "marker": {
             "colorbar": {
              "outlinewidth": 0,
              "ticks": ""
             }
            },
            "type": "scatterpolar"
           }
          ],
          "scatterpolargl": [
           {
            "marker": {
             "colorbar": {
              "outlinewidth": 0,
              "ticks": ""
             }
            },
            "type": "scatterpolargl"
           }
          ],
          "scatterternary": [
           {
            "marker": {
             "colorbar": {
              "outlinewidth": 0,
              "ticks": ""
             }
            },
            "type": "scatterternary"
           }
          ],
          "surface": [
           {
            "colorbar": {
             "outlinewidth": 0,
             "ticks": ""
            },
            "colorscale": [
             [
              0,
              "#0d0887"
             ],
             [
              0.1111111111111111,
              "#46039f"
             ],
             [
              0.2222222222222222,
              "#7201a8"
             ],
             [
              0.3333333333333333,
              "#9c179e"
             ],
             [
              0.4444444444444444,
              "#bd3786"
             ],
             [
              0.5555555555555556,
              "#d8576b"
             ],
             [
              0.6666666666666666,
              "#ed7953"
             ],
             [
              0.7777777777777778,
              "#fb9f3a"
             ],
             [
              0.8888888888888888,
              "#fdca26"
             ],
             [
              1,
              "#f0f921"
             ]
            ],
            "type": "surface"
           }
          ],
          "table": [
           {
            "cells": {
             "fill": {
              "color": "#EBF0F8"
             },
             "line": {
              "color": "white"
             }
            },
            "header": {
             "fill": {
              "color": "#C8D4E3"
             },
             "line": {
              "color": "white"
             }
            },
            "type": "table"
           }
          ]
         },
         "layout": {
          "annotationdefaults": {
           "arrowcolor": "#2a3f5f",
           "arrowhead": 0,
           "arrowwidth": 1
          },
          "colorscale": {
           "diverging": [
            [
             0,
             "#8e0152"
            ],
            [
             0.1,
             "#c51b7d"
            ],
            [
             0.2,
             "#de77ae"
            ],
            [
             0.3,
             "#f1b6da"
            ],
            [
             0.4,
             "#fde0ef"
            ],
            [
             0.5,
             "#f7f7f7"
            ],
            [
             0.6,
             "#e6f5d0"
            ],
            [
             0.7,
             "#b8e186"
            ],
            [
             0.8,
             "#7fbc41"
            ],
            [
             0.9,
             "#4d9221"
            ],
            [
             1,
             "#276419"
            ]
           ],
           "sequential": [
            [
             0,
             "#0d0887"
            ],
            [
             0.1111111111111111,
             "#46039f"
            ],
            [
             0.2222222222222222,
             "#7201a8"
            ],
            [
             0.3333333333333333,
             "#9c179e"
            ],
            [
             0.4444444444444444,
             "#bd3786"
            ],
            [
             0.5555555555555556,
             "#d8576b"
            ],
            [
             0.6666666666666666,
             "#ed7953"
            ],
            [
             0.7777777777777778,
             "#fb9f3a"
            ],
            [
             0.8888888888888888,
             "#fdca26"
            ],
            [
             1,
             "#f0f921"
            ]
           ],
           "sequentialminus": [
            [
             0,
             "#0d0887"
            ],
            [
             0.1111111111111111,
             "#46039f"
            ],
            [
             0.2222222222222222,
             "#7201a8"
            ],
            [
             0.3333333333333333,
             "#9c179e"
            ],
            [
             0.4444444444444444,
             "#bd3786"
            ],
            [
             0.5555555555555556,
             "#d8576b"
            ],
            [
             0.6666666666666666,
             "#ed7953"
            ],
            [
             0.7777777777777778,
             "#fb9f3a"
            ],
            [
             0.8888888888888888,
             "#fdca26"
            ],
            [
             1,
             "#f0f921"
            ]
           ]
          },
          "colorway": [
           "#636efa",
           "#EF553B",
           "#00cc96",
           "#ab63fa",
           "#FFA15A",
           "#19d3f3",
           "#FF6692",
           "#B6E880",
           "#FF97FF",
           "#FECB52"
          ],
          "font": {
           "color": "#2a3f5f"
          },
          "geo": {
           "bgcolor": "white",
           "lakecolor": "white",
           "landcolor": "#E5ECF6",
           "showlakes": true,
           "showland": true,
           "subunitcolor": "white"
          },
          "hoverlabel": {
           "align": "left"
          },
          "hovermode": "closest",
          "mapbox": {
           "style": "light"
          },
          "paper_bgcolor": "white",
          "plot_bgcolor": "#E5ECF6",
          "polar": {
           "angularaxis": {
            "gridcolor": "white",
            "linecolor": "white",
            "ticks": ""
           },
           "bgcolor": "#E5ECF6",
           "radialaxis": {
            "gridcolor": "white",
            "linecolor": "white",
            "ticks": ""
           }
          },
          "scene": {
           "xaxis": {
            "backgroundcolor": "#E5ECF6",
            "gridcolor": "white",
            "gridwidth": 2,
            "linecolor": "white",
            "showbackground": true,
            "ticks": "",
            "zerolinecolor": "white"
           },
           "yaxis": {
            "backgroundcolor": "#E5ECF6",
            "gridcolor": "white",
            "gridwidth": 2,
            "linecolor": "white",
            "showbackground": true,
            "ticks": "",
            "zerolinecolor": "white"
           },
           "zaxis": {
            "backgroundcolor": "#E5ECF6",
            "gridcolor": "white",
            "gridwidth": 2,
            "linecolor": "white",
            "showbackground": true,
            "ticks": "",
            "zerolinecolor": "white"
           }
          },
          "shapedefaults": {
           "line": {
            "color": "#2a3f5f"
           }
          },
          "ternary": {
           "aaxis": {
            "gridcolor": "white",
            "linecolor": "white",
            "ticks": ""
           },
           "baxis": {
            "gridcolor": "white",
            "linecolor": "white",
            "ticks": ""
           },
           "bgcolor": "#E5ECF6",
           "caxis": {
            "gridcolor": "white",
            "linecolor": "white",
            "ticks": ""
           }
          },
          "title": {
           "x": 0.05
          },
          "xaxis": {
           "automargin": true,
           "gridcolor": "white",
           "linecolor": "white",
           "ticks": "",
           "zerolinecolor": "white",
           "zerolinewidth": 2
          },
          "yaxis": {
           "automargin": true,
           "gridcolor": "white",
           "linecolor": "white",
           "ticks": "",
           "zerolinecolor": "white",
           "zerolinewidth": 2
          }
         }
        },
        "title": {
         "text": "Pressure and Density during NPT Equilibration"
        },
        "xaxis": {
         "anchor": "y",
         "domain": [
          0,
          0.45
         ],
         "title": {
          "text": "Time (ps)"
         }
        },
        "xaxis2": {
         "anchor": "y2",
         "domain": [
          0.55,
          1
         ],
         "title": {
          "text": "Time (ps)"
         }
        },
        "yaxis": {
         "anchor": "x",
         "domain": [
          0,
          1
         ],
         "title": {
          "text": "Pressure (bar)"
         }
        },
        "yaxis2": {
         "anchor": "x2",
         "domain": [
          0,
          1
         ],
         "title": {
          "text": "Density (Kg*m^-3)"
         }
        }
       }
      },
      "text/html": [
       "<div>\n",
       "        \n",
       "        \n",
       "            <div id=\"c1a18843-6e35-431c-a32a-5729aa74b68c\" class=\"plotly-graph-div\" style=\"height:525px; width:100%;\"></div>\n",
       "            <script type=\"text/javascript\">\n",
       "                require([\"plotly\"], function(Plotly) {\n",
       "                    window.PLOTLYENV=window.PLOTLYENV || {};\n",
       "                    \n",
       "                if (document.getElementById(\"c1a18843-6e35-431c-a32a-5729aa74b68c\")) {\n",
       "                    Plotly.newPlot(\n",
       "                        'c1a18843-6e35-431c-a32a-5729aa74b68c',\n",
       "                        [{\"type\": \"scatter\", \"x\": [0.0, 10.0], \"xaxis\": \"x\", \"y\": [-2407.704102, -74.866714], \"yaxis\": \"y\"}, {\"type\": \"scatter\", \"x\": [0.0, 10.0], \"xaxis\": \"x2\", \"y\": [1020.437073, 1025.246582], \"yaxis\": \"y2\"}],\n",
       "                        {\"showlegend\": false, \"template\": {\"data\": {\"bar\": [{\"error_x\": {\"color\": \"#2a3f5f\"}, \"error_y\": {\"color\": \"#2a3f5f\"}, \"marker\": {\"line\": {\"color\": \"#E5ECF6\", \"width\": 0.5}}, \"type\": \"bar\"}], \"barpolar\": [{\"marker\": {\"line\": {\"color\": \"#E5ECF6\", \"width\": 0.5}}, \"type\": \"barpolar\"}], \"carpet\": [{\"aaxis\": {\"endlinecolor\": \"#2a3f5f\", \"gridcolor\": \"white\", \"linecolor\": \"white\", \"minorgridcolor\": \"white\", \"startlinecolor\": \"#2a3f5f\"}, \"baxis\": {\"endlinecolor\": \"#2a3f5f\", \"gridcolor\": \"white\", \"linecolor\": \"white\", \"minorgridcolor\": \"white\", \"startlinecolor\": \"#2a3f5f\"}, \"type\": \"carpet\"}], \"choropleth\": [{\"colorbar\": {\"outlinewidth\": 0, \"ticks\": \"\"}, \"type\": \"choropleth\"}], \"contour\": [{\"colorbar\": {\"outlinewidth\": 0, \"ticks\": \"\"}, \"colorscale\": [[0.0, \"#0d0887\"], [0.1111111111111111, \"#46039f\"], [0.2222222222222222, \"#7201a8\"], [0.3333333333333333, \"#9c179e\"], [0.4444444444444444, \"#bd3786\"], [0.5555555555555556, \"#d8576b\"], [0.6666666666666666, \"#ed7953\"], [0.7777777777777778, \"#fb9f3a\"], [0.8888888888888888, \"#fdca26\"], [1.0, \"#f0f921\"]], \"type\": \"contour\"}], \"contourcarpet\": [{\"colorbar\": {\"outlinewidth\": 0, \"ticks\": \"\"}, \"type\": \"contourcarpet\"}], \"heatmap\": [{\"colorbar\": {\"outlinewidth\": 0, \"ticks\": \"\"}, \"colorscale\": [[0.0, \"#0d0887\"], [0.1111111111111111, \"#46039f\"], [0.2222222222222222, \"#7201a8\"], [0.3333333333333333, \"#9c179e\"], [0.4444444444444444, \"#bd3786\"], [0.5555555555555556, \"#d8576b\"], [0.6666666666666666, \"#ed7953\"], [0.7777777777777778, \"#fb9f3a\"], [0.8888888888888888, \"#fdca26\"], [1.0, \"#f0f921\"]], \"type\": \"heatmap\"}], \"heatmapgl\": [{\"colorbar\": {\"outlinewidth\": 0, \"ticks\": \"\"}, \"colorscale\": [[0.0, \"#0d0887\"], [0.1111111111111111, \"#46039f\"], [0.2222222222222222, \"#7201a8\"], [0.3333333333333333, \"#9c179e\"], [0.4444444444444444, \"#bd3786\"], [0.5555555555555556, \"#d8576b\"], [0.6666666666666666, \"#ed7953\"], [0.7777777777777778, \"#fb9f3a\"], [0.8888888888888888, \"#fdca26\"], [1.0, \"#f0f921\"]], \"type\": \"heatmapgl\"}], \"histogram\": [{\"marker\": {\"colorbar\": {\"outlinewidth\": 0, \"ticks\": \"\"}}, \"type\": \"histogram\"}], \"histogram2d\": [{\"colorbar\": {\"outlinewidth\": 0, \"ticks\": \"\"}, \"colorscale\": [[0.0, \"#0d0887\"], [0.1111111111111111, \"#46039f\"], [0.2222222222222222, \"#7201a8\"], [0.3333333333333333, \"#9c179e\"], [0.4444444444444444, \"#bd3786\"], [0.5555555555555556, \"#d8576b\"], [0.6666666666666666, \"#ed7953\"], [0.7777777777777778, \"#fb9f3a\"], [0.8888888888888888, \"#fdca26\"], [1.0, \"#f0f921\"]], \"type\": \"histogram2d\"}], \"histogram2dcontour\": [{\"colorbar\": {\"outlinewidth\": 0, \"ticks\": \"\"}, \"colorscale\": [[0.0, \"#0d0887\"], [0.1111111111111111, \"#46039f\"], [0.2222222222222222, \"#7201a8\"], [0.3333333333333333, \"#9c179e\"], [0.4444444444444444, \"#bd3786\"], [0.5555555555555556, \"#d8576b\"], [0.6666666666666666, \"#ed7953\"], [0.7777777777777778, \"#fb9f3a\"], [0.8888888888888888, \"#fdca26\"], [1.0, \"#f0f921\"]], \"type\": \"histogram2dcontour\"}], \"mesh3d\": [{\"colorbar\": {\"outlinewidth\": 0, \"ticks\": \"\"}, \"type\": \"mesh3d\"}], \"parcoords\": [{\"line\": {\"colorbar\": {\"outlinewidth\": 0, \"ticks\": \"\"}}, \"type\": \"parcoords\"}], \"scatter\": [{\"marker\": {\"colorbar\": {\"outlinewidth\": 0, \"ticks\": \"\"}}, \"type\": \"scatter\"}], \"scatter3d\": [{\"line\": {\"colorbar\": {\"outlinewidth\": 0, \"ticks\": \"\"}}, \"marker\": {\"colorbar\": {\"outlinewidth\": 0, \"ticks\": \"\"}}, \"type\": \"scatter3d\"}], \"scattercarpet\": [{\"marker\": {\"colorbar\": {\"outlinewidth\": 0, \"ticks\": \"\"}}, \"type\": \"scattercarpet\"}], \"scattergeo\": [{\"marker\": {\"colorbar\": {\"outlinewidth\": 0, \"ticks\": \"\"}}, \"type\": \"scattergeo\"}], \"scattergl\": [{\"marker\": {\"colorbar\": {\"outlinewidth\": 0, \"ticks\": \"\"}}, \"type\": \"scattergl\"}], \"scattermapbox\": [{\"marker\": {\"colorbar\": {\"outlinewidth\": 0, \"ticks\": \"\"}}, \"type\": \"scattermapbox\"}], \"scatterpolar\": [{\"marker\": {\"colorbar\": {\"outlinewidth\": 0, \"ticks\": \"\"}}, \"type\": \"scatterpolar\"}], \"scatterpolargl\": [{\"marker\": {\"colorbar\": {\"outlinewidth\": 0, \"ticks\": \"\"}}, \"type\": \"scatterpolargl\"}], \"scatterternary\": [{\"marker\": {\"colorbar\": {\"outlinewidth\": 0, \"ticks\": \"\"}}, \"type\": \"scatterternary\"}], \"surface\": [{\"colorbar\": {\"outlinewidth\": 0, \"ticks\": \"\"}, \"colorscale\": [[0.0, \"#0d0887\"], [0.1111111111111111, \"#46039f\"], [0.2222222222222222, \"#7201a8\"], [0.3333333333333333, \"#9c179e\"], [0.4444444444444444, \"#bd3786\"], [0.5555555555555556, \"#d8576b\"], [0.6666666666666666, \"#ed7953\"], [0.7777777777777778, \"#fb9f3a\"], [0.8888888888888888, \"#fdca26\"], [1.0, \"#f0f921\"]], \"type\": \"surface\"}], \"table\": [{\"cells\": {\"fill\": {\"color\": \"#EBF0F8\"}, \"line\": {\"color\": \"white\"}}, \"header\": {\"fill\": {\"color\": \"#C8D4E3\"}, \"line\": {\"color\": \"white\"}}, \"type\": \"table\"}]}, \"layout\": {\"annotationdefaults\": {\"arrowcolor\": \"#2a3f5f\", \"arrowhead\": 0, \"arrowwidth\": 1}, \"colorscale\": {\"diverging\": [[0, \"#8e0152\"], [0.1, \"#c51b7d\"], [0.2, \"#de77ae\"], [0.3, \"#f1b6da\"], [0.4, \"#fde0ef\"], [0.5, \"#f7f7f7\"], [0.6, \"#e6f5d0\"], [0.7, \"#b8e186\"], [0.8, \"#7fbc41\"], [0.9, \"#4d9221\"], [1, \"#276419\"]], \"sequential\": [[0.0, \"#0d0887\"], [0.1111111111111111, \"#46039f\"], [0.2222222222222222, \"#7201a8\"], [0.3333333333333333, \"#9c179e\"], [0.4444444444444444, \"#bd3786\"], [0.5555555555555556, \"#d8576b\"], [0.6666666666666666, \"#ed7953\"], [0.7777777777777778, \"#fb9f3a\"], [0.8888888888888888, \"#fdca26\"], [1.0, \"#f0f921\"]], \"sequentialminus\": [[0.0, \"#0d0887\"], [0.1111111111111111, \"#46039f\"], [0.2222222222222222, \"#7201a8\"], [0.3333333333333333, \"#9c179e\"], [0.4444444444444444, \"#bd3786\"], [0.5555555555555556, \"#d8576b\"], [0.6666666666666666, \"#ed7953\"], [0.7777777777777778, \"#fb9f3a\"], [0.8888888888888888, \"#fdca26\"], [1.0, \"#f0f921\"]]}, \"colorway\": [\"#636efa\", \"#EF553B\", \"#00cc96\", \"#ab63fa\", \"#FFA15A\", \"#19d3f3\", \"#FF6692\", \"#B6E880\", \"#FF97FF\", \"#FECB52\"], \"font\": {\"color\": \"#2a3f5f\"}, \"geo\": {\"bgcolor\": \"white\", \"lakecolor\": \"white\", \"landcolor\": \"#E5ECF6\", \"showlakes\": true, \"showland\": true, \"subunitcolor\": \"white\"}, \"hoverlabel\": {\"align\": \"left\"}, \"hovermode\": \"closest\", \"mapbox\": {\"style\": \"light\"}, \"paper_bgcolor\": \"white\", \"plot_bgcolor\": \"#E5ECF6\", \"polar\": {\"angularaxis\": {\"gridcolor\": \"white\", \"linecolor\": \"white\", \"ticks\": \"\"}, \"bgcolor\": \"#E5ECF6\", \"radialaxis\": {\"gridcolor\": \"white\", \"linecolor\": \"white\", \"ticks\": \"\"}}, \"scene\": {\"xaxis\": {\"backgroundcolor\": \"#E5ECF6\", \"gridcolor\": \"white\", \"gridwidth\": 2, \"linecolor\": \"white\", \"showbackground\": true, \"ticks\": \"\", \"zerolinecolor\": \"white\"}, \"yaxis\": {\"backgroundcolor\": \"#E5ECF6\", \"gridcolor\": \"white\", \"gridwidth\": 2, \"linecolor\": \"white\", \"showbackground\": true, \"ticks\": \"\", \"zerolinecolor\": \"white\"}, \"zaxis\": {\"backgroundcolor\": \"#E5ECF6\", \"gridcolor\": \"white\", \"gridwidth\": 2, \"linecolor\": \"white\", \"showbackground\": true, \"ticks\": \"\", \"zerolinecolor\": \"white\"}}, \"shapedefaults\": {\"line\": {\"color\": \"#2a3f5f\"}}, \"ternary\": {\"aaxis\": {\"gridcolor\": \"white\", \"linecolor\": \"white\", \"ticks\": \"\"}, \"baxis\": {\"gridcolor\": \"white\", \"linecolor\": \"white\", \"ticks\": \"\"}, \"bgcolor\": \"#E5ECF6\", \"caxis\": {\"gridcolor\": \"white\", \"linecolor\": \"white\", \"ticks\": \"\"}}, \"title\": {\"x\": 0.05}, \"xaxis\": {\"automargin\": true, \"gridcolor\": \"white\", \"linecolor\": \"white\", \"ticks\": \"\", \"zerolinecolor\": \"white\", \"zerolinewidth\": 2}, \"yaxis\": {\"automargin\": true, \"gridcolor\": \"white\", \"linecolor\": \"white\", \"ticks\": \"\", \"zerolinecolor\": \"white\", \"zerolinewidth\": 2}}}, \"title\": {\"text\": \"Pressure and Density during NPT Equilibration\"}, \"xaxis\": {\"anchor\": \"y\", \"domain\": [0.0, 0.45], \"title\": {\"text\": \"Time (ps)\"}}, \"xaxis2\": {\"anchor\": \"y2\", \"domain\": [0.55, 1.0], \"title\": {\"text\": \"Time (ps)\"}}, \"yaxis\": {\"anchor\": \"x\", \"domain\": [0.0, 1.0], \"title\": {\"text\": \"Pressure (bar)\"}}, \"yaxis2\": {\"anchor\": \"x2\", \"domain\": [0.0, 1.0], \"title\": {\"text\": \"Density (Kg*m^-3)\"}}},\n",
       "                        {\"responsive\": true}\n",
       "                    ).then(function(){\n",
       "                            \n",
       "var gd = document.getElementById('c1a18843-6e35-431c-a32a-5729aa74b68c');\n",
       "var x = new MutationObserver(function (mutations, observer) {{\n",
       "        var display = window.getComputedStyle(gd).display;\n",
       "        if (!display || display === 'none') {{\n",
       "            console.log([gd, 'removed!']);\n",
       "            Plotly.purge(gd);\n",
       "            observer.disconnect();\n",
       "        }}\n",
       "}});\n",
       "\n",
       "// Listen for the removal of the full notebook cells\n",
       "var notebookContainer = gd.closest('#notebook-container');\n",
       "if (notebookContainer) {{\n",
       "    x.observe(notebookContainer, {childList: true});\n",
       "}}\n",
       "\n",
       "// Listen for the clearing of the current output cell\n",
       "var outputEl = gd.closest('.output');\n",
       "if (outputEl) {{\n",
       "    x.observe(outputEl, {childList: true});\n",
       "}}\n",
       "\n",
       "                        })\n",
       "                };\n",
       "                });\n",
       "            </script>\n",
       "        </div>"
      ]
     },
     "metadata": {},
     "output_type": "display_data"
    }
   ],
   "source": [
    "import plotly\n",
    "from plotly import tools\n",
    "import plotly.graph_objs as go\n",
    "\n",
    "# Read pressure and density data from file \n",
    "with open(output_eqB_pd_xvg,'r') as pd_file:\n",
    "    x,y,z = map(\n",
    "        list,\n",
    "        zip(*[\n",
    "            (float(line.split()[0]),float(line.split()[1]),float(line.split()[2]))\n",
    "            for line in pd_file \n",
    "            if not line.startswith((\"#\",\"@\")) \n",
    "        ])\n",
    "    )\n",
    "\n",
    "plotly.offline.init_notebook_mode(connected=True)\n",
    "\n",
    "trace1 = go.Scatter(\n",
    "    x=x,y=y\n",
    ")\n",
    "trace2 = go.Scatter(\n",
    "    x=x,y=z\n",
    ")\n",
    "\n",
    "fig = tools.make_subplots(rows=1, cols=2, print_grid=False)\n",
    "\n",
    "fig.append_trace(trace1, 1, 1)\n",
    "fig.append_trace(trace2, 1, 2)\n",
    "\n",
    "fig['layout']['xaxis1'].update(title='Time (ps)')\n",
    "fig['layout']['xaxis2'].update(title='Time (ps)')\n",
    "fig['layout']['yaxis1'].update(title='Pressure (bar)')\n",
    "fig['layout']['yaxis2'].update(title='Density (Kg*m^-3)')\n",
    "\n",
    "fig['layout'].update(title='Pressure and Density during NPT Equilibration')\n",
    "fig['layout'].update(showlegend=False)\n",
    "\n",
    "plotly.offline.iplot(fig)"
   ]
  },
  {
   "cell_type": "markdown",
   "metadata": {},
   "source": [
    "<a id=\"free\"></a>\n",
    "***\n",
    "## Free Energy Simulation\n",
    "**Alchemical transition (thermodynamic integration)** free energy estimation approach is used with **GROMACS**: **free energy** is switched on, the **initial lambda** is chosen as zero, and **delta-lambda** (per MD step) is set such that at the end of the simulation **lambda** is at 1 (1 / nsteps). The **dhdl files** (dH/dl) written as a result will contain the **work values** required to perform these **transitions**.\n",
    "\n",
    "- [Step 1](#mdStep1): Creating portable binary run file to run the **free energy simulation**.\n",
    "- [Step 2](#mdStep2): Run short MD simulation of the **protein system**.\n",
    "***\n",
    "**Building Blocks** used:\n",
    " - [Grompp](https://biobb-md.readthedocs.io/en/latest/gromacs.html#module-gromacs.grompp) from **biobb_md.gromacs.grompp** \n",
    " - [Mdrun](https://biobb-md.readthedocs.io/en/latest/gromacs.html#module-gromacs.mdrun) from **biobb_md.gromacs.mdrun** \n",
    "***"
   ]
  },
  {
   "cell_type": "markdown",
   "metadata": {},
   "source": [
    "<a id=\"mdStep1\"></a>\n",
    "### Step 1: Creating portable binary run file to run a free energy simulation\n",
    "\n",
    "The **free_energy** type of the **molecular dynamics parameters (mdp) property** contains the main default parameters to run an **free energy simulation** (see [GROMACS mdp options](http://manual.gromacs.org/documentation/2018/user-guide/mdp-options.html)):\n",
    "\n",
    "-  integrator               = md\n",
    "-  dt                       = 0.002 (ps)\n",
    "-  nsteps                   = 5000\n",
    "-  free_energy              = yes\n",
    "-  init_lambda              = 0\n",
    "-  delta_lambda             = 0.0002\n",
    "-  sc-alpha                 = 0\n",
    "-  sc-sigma                 = 0.3\n",
    "\n",
    "In this particular example, the default parameters will be used: **md** integrator algorithm, a **time step** of **2fs**, a total of **5,000 md steps** (10ps), all with the **free energy** flag turned on, with an **intial lambda** of 0 and a **delta lambda** of 0.00002.\n",
    "\n",
    "*Please note that for the sake of time this tutorial is only running 10ps of NPT equilibration, whereas in the [original example](http://pmx.mpibpc.mpg.de/sardinia2018_tutorial1/eq.mdp) the simulated time was 100ps.*"
   ]
  },
  {
   "cell_type": "code",
   "execution_count": 17,
   "metadata": {},
   "outputs": [
    {
     "name": "stderr",
     "output_type": "stream",
     "text": [
      "2019-12-04 17:51:37,713 [MainThread  ] [INFO ]  GROMACS Grompp 20191 version detected\n",
      "2019-12-04 17:51:37,723 [MainThread  ] [INFO ]  Extracting: /home/gbayarri_local/projects/BioBB/tutorials/biobb_wf_pmx_tutorial/biobb_wf_pmx_tutorial/notebooks/pmxA_top.zip\n",
      "2019-12-04 17:51:37,724 [MainThread  ] [INFO ]  to:\n",
      "2019-12-04 17:51:37,729 [MainThread  ] [INFO ]  ['b0f8adc2-8e6b-4da8-b308-e5571935f82b/p2g.top', 'b0f8adc2-8e6b-4da8-b308-e5571935f82b/p2g_Ion2.itp', 'b0f8adc2-8e6b-4da8-b308-e5571935f82b/p2g_Protein.itp', 'b0f8adc2-8e6b-4da8-b308-e5571935f82b/posre_Ion2.itp']\n",
      "2019-12-04 17:51:37,734 [MainThread  ] [INFO ]  Unzipping: \n",
      "2019-12-04 17:51:37,740 [MainThread  ] [INFO ]  pmxA_top.zip\n",
      "2019-12-04 17:51:37,744 [MainThread  ] [INFO ]  To: \n",
      "2019-12-04 17:51:37,746 [MainThread  ] [INFO ]  b0f8adc2-8e6b-4da8-b308-e5571935f82b/p2g.top\n",
      "2019-12-04 17:51:37,750 [MainThread  ] [INFO ]  b0f8adc2-8e6b-4da8-b308-e5571935f82b/p2g_Ion2.itp\n",
      "2019-12-04 17:51:37,754 [MainThread  ] [INFO ]  b0f8adc2-8e6b-4da8-b308-e5571935f82b/p2g_Protein.itp\n",
      "2019-12-04 17:51:37,762 [MainThread  ] [INFO ]  b0f8adc2-8e6b-4da8-b308-e5571935f82b/posre_Ion2.itp\n",
      "2019-12-04 17:51:37,773 [MainThread  ] [INFO ]  Will run a free md of 10.0 pico seconds\n",
      "2019-12-04 17:51:37,775 [MainThread  ] [INFO ]  Not using any container\n",
      "2019-12-04 17:51:38,471 [MainThread  ] [INFO ]  gmx -nobackup -nocopyright grompp -f 62251563-712e-4d0d-9b6e-a7a563138f0f/grompp.mdp -c eqoutA.gro -r eqoutA.gro -p b0f8adc2-8e6b-4da8-b308-e5571935f82b/p2g.top -o tiA.tpr -po mdout.mdp -maxwarn 10\n",
      "\n",
      "2019-12-04 17:51:38,473 [MainThread  ] [INFO ]  Exit code 0\n",
      "\n",
      "2019-12-04 17:51:38,475 [MainThread  ] [INFO ]  turning all bonds into constraints...\n",
      "turning all bonds into constraints...\n",
      "turning all bonds into constraints...\n",
      "Analysing residue names:\n",
      "There are:   136    Protein residues\n",
      "There are:    74        Ion residues\n",
      "There are: 10948      Water residues\n",
      "Analysing Protein...\n",
      "Analysing residues not classified as Protein/DNA/RNA/Water and splitting into groups...\n",
      "Determining Verlet buffer for a tolerance of 0.005 kJ/mol/ps at 300 K\n",
      "Calculated rlist for 1x1 atom pair-list as 1.035 nm, buffer size 0.035 nm\n",
      "Set rlist, assuming 4x4 atom pair-list, to 1.000 nm, buffer size 0.000 nm\n",
      "Note that mdrun will redetermine rlist based on the actual pair-list setup\n",
      "Calculating fourier grid dimensions for X Y Z\n",
      "Using a fourier grid of 72x72x72, spacing 0.110 0.110 0.110\n",
      "This run will generate roughly 5 Mb of data\n",
      "\n",
      "2019-12-04 17:51:38,479 [MainThread  ] [INFO ]                        :-) GROMACS - gmx grompp, 2019.1 (-:\n",
      "\n",
      "Executable:   /anaconda3/envs/biobb_dev/bin/gmx\n",
      "Data prefix:  /anaconda3/envs/biobb_dev\n",
      "Working dir:  /home/gbayarri_local/projects/BioBB/tutorials/biobb_wf_pmx_tutorial/biobb_wf_pmx_tutorial/notebooks\n",
      "Command line:\n",
      "  gmx -nobackup -nocopyright grompp -f 62251563-712e-4d0d-9b6e-a7a563138f0f/grompp.mdp -c eqoutA.gro -r eqoutA.gro -p b0f8adc2-8e6b-4da8-b308-e5571935f82b/p2g.top -o tiA.tpr -po mdout.mdp -maxwarn 10\n",
      "\n",
      "\n",
      "WARNING 1 [file 62251563-712e-4d0d-9b6e-a7a563138f0f/grompp.mdp, line 73]:\n",
      "  You are using soft-core interactions while the Van der Waals interactions\n",
      "  are not decoupled (note that the sc-coul option is only active when using\n",
      "  lambda states). Although this will not lead to errors, you will need much\n",
      "  more sampling than without soft-core interactions. Consider using\n",
      "  sc-alpha=0.\n",
      "\n",
      "\n",
      "NOTE 1 [file 62251563-712e-4d0d-9b6e-a7a563138f0f/grompp.mdp]:\n",
      "  Setting nstcalcenergy (100) equal to nstdhdl (50)\n",
      "\n",
      "\n",
      "NOTE 2 [file 62251563-712e-4d0d-9b6e-a7a563138f0f/grompp.mdp]:\n",
      "  With PME there is a minor soft core effect present at the cut-off,\n",
      "  proportional to (LJsigma/rcoulomb)^6. This could have a minor effect on\n",
      "  energy conservation, but usually other effects dominate. With a common\n",
      "  sigma value of 0.34 nm the fraction of the particle-particle potential at\n",
      "  the cut-off at lambda=0.5 is around 3.9e-05, while ewald-rtol is 1.0e-05.\n",
      "\n",
      "Setting the LD random seed to -739551622\n",
      "Generated 5253 of the 5253 non-bonded parameter combinations\n",
      "Generating 1-4 interactions: fudge = 0.5\n",
      "Generated 5253 of the 5253 1-4 parameter combinations\n",
      "Excluding 3 bonded neighbours molecule type 'Protein'\n",
      "Excluding 3 bonded neighbours molecule type 'Ion2'\n",
      "Excluding 2 bonded neighbours molecule type 'SOL'\n",
      "Excluding 2 bonded neighbours molecule type 'SOL'\n",
      "\n",
      "NOTE 3 [file unknown]:\n",
      "  You are using constraints on all bonds, whereas the forcefield has been\n",
      "  parametrized only with constraints involving hydrogen atoms. We suggest\n",
      "  using constraints = h-bonds instead, this will also improve performance.\n",
      "\n",
      "Removing all charge groups because cutoff-scheme=Verlet\n",
      "\n",
      "NOTE 4 [file unknown]:\n",
      "  In moleculetype 'Ion2' 74 atoms are not bound by a potential or\n",
      "  constraint to any other atom in the same moleculetype. Although\n",
      "  technically this might not cause issues in a simulation, this often means\n",
      "  that the user forgot to add a bond/potential/constraint or put multiple\n",
      "  molecules in the same moleculetype definition by mistake. Run with -v to\n",
      "  get information for each atom.\n",
      "\n",
      "Number of degrees of freedom in T-Coupling group Protein is 4430.81\n",
      "Number of degrees of freedom in T-Coupling group non-Protein is 65907.19\n",
      "Estimate for the relative computational load of the PME mesh part: 0.34\n",
      "\n",
      "There were 4 notes\n",
      "\n",
      "There was 1 warning\n",
      "\n",
      "GROMACS reminds you: \"There's so many shades of black\" (The Raconteurs)\n",
      "\n",
      "\n",
      "2019-12-04 17:51:38,482 [MainThread  ] [INFO ]  Removed: ['mdout.mdp', 'b0f8adc2-8e6b-4da8-b308-e5571935f82b', '62251563-712e-4d0d-9b6e-a7a563138f0f']\n",
      "2019-12-04 17:51:38,540 [MainThread  ] [INFO ]  GROMACS Grompp 20191 version detected\n",
      "2019-12-04 17:51:38,561 [MainThread  ] [INFO ]  Extracting: /home/gbayarri_local/projects/BioBB/tutorials/biobb_wf_pmx_tutorial/biobb_wf_pmx_tutorial/notebooks/pmxB_top.zip\n",
      "2019-12-04 17:51:38,563 [MainThread  ] [INFO ]  to:\n",
      "2019-12-04 17:51:38,569 [MainThread  ] [INFO ]  ['7385f7c7-8153-4820-af4c-e912a740e9b2/p2g.top', '7385f7c7-8153-4820-af4c-e912a740e9b2/p2g_Ion2.itp', '7385f7c7-8153-4820-af4c-e912a740e9b2/p2g_Protein.itp', '7385f7c7-8153-4820-af4c-e912a740e9b2/posre_Ion2.itp']\n",
      "2019-12-04 17:51:38,575 [MainThread  ] [INFO ]  Unzipping: \n",
      "2019-12-04 17:51:38,577 [MainThread  ] [INFO ]  pmxB_top.zip\n",
      "2019-12-04 17:51:38,581 [MainThread  ] [INFO ]  To: \n",
      "2019-12-04 17:51:38,585 [MainThread  ] [INFO ]  7385f7c7-8153-4820-af4c-e912a740e9b2/p2g.top\n",
      "2019-12-04 17:51:38,591 [MainThread  ] [INFO ]  7385f7c7-8153-4820-af4c-e912a740e9b2/p2g_Ion2.itp\n",
      "2019-12-04 17:51:38,593 [MainThread  ] [INFO ]  7385f7c7-8153-4820-af4c-e912a740e9b2/p2g_Protein.itp\n",
      "2019-12-04 17:51:38,607 [MainThread  ] [INFO ]  7385f7c7-8153-4820-af4c-e912a740e9b2/posre_Ion2.itp\n",
      "2019-12-04 17:51:38,613 [MainThread  ] [INFO ]  Will run a free md of 10.0 pico seconds\n",
      "2019-12-04 17:51:38,615 [MainThread  ] [INFO ]  Not using any container\n",
      "2019-12-04 17:51:39,321 [MainThread  ] [INFO ]  gmx -nobackup -nocopyright grompp -f 56ec24b5-99f0-4008-bee0-25bf466752db/grompp.mdp -c eqoutB.gro -r eqoutB.gro -p 7385f7c7-8153-4820-af4c-e912a740e9b2/p2g.top -o tiB.tpr -po mdout.mdp -maxwarn 10\n",
      "\n",
      "2019-12-04 17:51:39,323 [MainThread  ] [INFO ]  Exit code 0\n",
      "\n",
      "2019-12-04 17:51:39,325 [MainThread  ] [INFO ]  turning all bonds into constraints...\n",
      "turning all bonds into constraints...\n",
      "turning all bonds into constraints...\n",
      "Analysing residue names:\n",
      "There are:   136    Protein residues\n",
      "There are:    74        Ion residues\n",
      "There are: 10949      Water residues\n",
      "Analysing Protein...\n",
      "Analysing residues not classified as Protein/DNA/RNA/Water and splitting into groups...\n",
      "Determining Verlet buffer for a tolerance of 0.005 kJ/mol/ps at 300 K\n",
      "Calculated rlist for 1x1 atom pair-list as 1.035 nm, buffer size 0.035 nm\n",
      "Set rlist, assuming 4x4 atom pair-list, to 1.000 nm, buffer size 0.000 nm\n",
      "Note that mdrun will redetermine rlist based on the actual pair-list setup\n",
      "Calculating fourier grid dimensions for X Y Z\n",
      "Using a fourier grid of 72x72x72, spacing 0.110 0.110 0.110\n",
      "This run will generate roughly 5 Mb of data\n",
      "\n",
      "2019-12-04 17:51:39,327 [MainThread  ] [INFO ]                        :-) GROMACS - gmx grompp, 2019.1 (-:\n",
      "\n",
      "Executable:   /anaconda3/envs/biobb_dev/bin/gmx\n",
      "Data prefix:  /anaconda3/envs/biobb_dev\n",
      "Working dir:  /home/gbayarri_local/projects/BioBB/tutorials/biobb_wf_pmx_tutorial/biobb_wf_pmx_tutorial/notebooks\n",
      "Command line:\n",
      "  gmx -nobackup -nocopyright grompp -f 56ec24b5-99f0-4008-bee0-25bf466752db/grompp.mdp -c eqoutB.gro -r eqoutB.gro -p 7385f7c7-8153-4820-af4c-e912a740e9b2/p2g.top -o tiB.tpr -po mdout.mdp -maxwarn 10\n",
      "\n",
      "\n",
      "WARNING 1 [file 56ec24b5-99f0-4008-bee0-25bf466752db/grompp.mdp, line 73]:\n",
      "  You are using soft-core interactions while the Van der Waals interactions\n",
      "  are not decoupled (note that the sc-coul option is only active when using\n",
      "  lambda states). Although this will not lead to errors, you will need much\n",
      "  more sampling than without soft-core interactions. Consider using\n",
      "  sc-alpha=0.\n",
      "\n",
      "\n",
      "NOTE 1 [file 56ec24b5-99f0-4008-bee0-25bf466752db/grompp.mdp]:\n",
      "  Setting nstcalcenergy (100) equal to nstdhdl (50)\n",
      "\n",
      "\n",
      "NOTE 2 [file 56ec24b5-99f0-4008-bee0-25bf466752db/grompp.mdp]:\n",
      "  With PME there is a minor soft core effect present at the cut-off,\n",
      "  proportional to (LJsigma/rcoulomb)^6. This could have a minor effect on\n",
      "  energy conservation, but usually other effects dominate. With a common\n",
      "  sigma value of 0.34 nm the fraction of the particle-particle potential at\n",
      "  the cut-off at lambda=0.5 is around 3.9e-05, while ewald-rtol is 1.0e-05.\n",
      "\n",
      "Setting the LD random seed to 1006459760\n",
      "Generated 5253 of the 5253 non-bonded parameter combinations\n",
      "Generating 1-4 interactions: fudge = 0.5\n",
      "Generated 5253 of the 5253 1-4 parameter combinations\n",
      "Excluding 3 bonded neighbours molecule type 'Protein'\n",
      "Excluding 3 bonded neighbours molecule type 'Ion2'\n",
      "Excluding 2 bonded neighbours molecule type 'SOL'\n",
      "Excluding 2 bonded neighbours molecule type 'SOL'\n",
      "\n",
      "NOTE 3 [file unknown]:\n",
      "  You are using constraints on all bonds, whereas the forcefield has been\n",
      "  parametrized only with constraints involving hydrogen atoms. We suggest\n",
      "  using constraints = h-bonds instead, this will also improve performance.\n",
      "\n",
      "Removing all charge groups because cutoff-scheme=Verlet\n",
      "\n",
      "NOTE 4 [file unknown]:\n",
      "  In moleculetype 'Ion2' 74 atoms are not bound by a potential or\n",
      "  constraint to any other atom in the same moleculetype. Although\n",
      "  technically this might not cause issues in a simulation, this often means\n",
      "  that the user forgot to add a bond/potential/constraint or put multiple\n",
      "  molecules in the same moleculetype definition by mistake. Run with -v to\n",
      "  get information for each atom.\n",
      "\n",
      "Number of degrees of freedom in T-Coupling group Protein is 4430.81\n",
      "Number of degrees of freedom in T-Coupling group non-Protein is 65913.19\n",
      "Estimate for the relative computational load of the PME mesh part: 0.34\n",
      "\n",
      "There were 4 notes\n",
      "\n",
      "There was 1 warning\n",
      "\n",
      "GROMACS reminds you: \"Every electron is sacred.\" (Greg McMullan, on Cryo-EM detectors)\n",
      "\n",
      "\n"
     ]
    },
    {
     "name": "stderr",
     "output_type": "stream",
     "text": [
      "2019-12-04 17:51:39,330 [MainThread  ] [INFO ]  Removed: ['mdout.mdp', '7385f7c7-8153-4820-af4c-e912a740e9b2', '56ec24b5-99f0-4008-bee0-25bf466752db']\n"
     ]
    },
    {
     "data": {
      "text/plain": [
       "0"
      ]
     },
     "execution_count": 17,
     "metadata": {},
     "output_type": "execute_result"
    }
   ],
   "source": [
    "# Grompp: Creating portable binary run file for thermodynamic integration (TI)\n",
    "from biobb_md.gromacs.grompp import Grompp\n",
    "\n",
    "#### State A (WT->Mut) ####\n",
    "\n",
    "# Create prop dict and inputs/outputs\n",
    "output_tprA_ti = 'tiA.tpr'\n",
    "\n",
    "prop = {\n",
    "    'gmxlib' : gmxlib,\n",
    "    'mdp':{\n",
    "        'type': 'free',\n",
    "        'nsteps':'5000',\n",
    "        'free_energy' : 'yes',\n",
    "        'init-lambda' : '0',\n",
    "        'delta-lambda' : '2e-4',\n",
    "        'sc-alpha' : '0.3',\n",
    "        'sc-coul' : 'yes',\n",
    "        'sc-sigma' : '0.25'\n",
    "    }\n",
    "}\n",
    "\n",
    "# Create and launch bb\n",
    "Grompp(input_gro_path=output_eqA_gro,\n",
    "       input_top_zip_path=output_pmxtopA_top_zip,\n",
    "       output_tpr_path=output_tprA_ti,\n",
    "       properties=prop).launch()\n",
    "\n",
    "#### State B (Mut->WT) ####\n",
    "\n",
    "# Create prop dict and inputs/outputs\n",
    "output_tprB_ti = 'tiB.tpr'\n",
    "\n",
    "prop = {\n",
    "    'gmxlib' : gmxlib,\n",
    "    'mdp':{\n",
    "        'type': 'free',\n",
    "        'nsteps':'5000',\n",
    "        'free_energy' : 'yes',\n",
    "        'init-lambda' : '0',\n",
    "        'delta-lambda' : '4e-5',\n",
    "        'sc-alpha' : '0.3',\n",
    "        'sc-coul' : 'yes',\n",
    "        'sc-sigma' : '0.25'\n",
    "    }\n",
    "}\n",
    "\n",
    "# Create and launch bb\n",
    "Grompp(input_gro_path=output_eqB_gro,\n",
    "       input_top_zip_path=output_pmxtopB_top_zip,\n",
    "       output_tpr_path=output_tprB_ti,\n",
    "       properties=prop).launch()\n"
   ]
  },
  {
   "cell_type": "markdown",
   "metadata": {},
   "source": [
    "<a id=\"mdStep2\"></a>\n",
    "### Step 2: Running free energy simulation"
   ]
  },
  {
   "cell_type": "code",
   "execution_count": 18,
   "metadata": {},
   "outputs": [
    {
     "name": "stderr",
     "output_type": "stream",
     "text": [
      "2019-12-04 17:51:41,359 [MainThread  ] [INFO ]  GROMACS Mdrun 20191 version detected\n",
      "2019-12-04 17:51:41,365 [MainThread  ] [INFO ]  Not using any container\n",
      "2019-12-04 17:55:22,194 [MainThread  ] [INFO ]  gmx -nobackup -nocopyright mdrun -s tiA.tpr -o tiA.trr -c tiA.gro -e tiA.edr -g tiA.log -nt 0 -dhdl tiA.dhdl\n",
      "\n",
      "2019-12-04 17:55:22,196 [MainThread  ] [INFO ]  Exit code 0\n",
      "\n",
      "2019-12-04 17:55:22,197 [MainThread  ] [INFO ]                        :-) GROMACS - gmx mdrun, 2019.1 (-:\n",
      "\n",
      "Executable:   /anaconda3/envs/biobb_dev/bin/gmx\n",
      "Data prefix:  /anaconda3/envs/biobb_dev\n",
      "Working dir:  /home/gbayarri_local/projects/BioBB/tutorials/biobb_wf_pmx_tutorial/biobb_wf_pmx_tutorial/notebooks\n",
      "Command line:\n",
      "  gmx -nobackup -nocopyright mdrun -s tiA.tpr -o tiA.trr -c tiA.gro -e tiA.edr -g tiA.log -nt 0 -dhdl tiA.dhdl\n",
      "\n",
      "Compiled SIMD: SSE2, but for this host/run AVX2_256 might be better (see log).\n",
      "The current CPU can measure timings more accurately than the code in\n",
      "gmx mdrun was configured to use. This might affect your simulation\n",
      "speed as accurate timings are needed for load-balancing.\n",
      "Please consider rebuilding gmx mdrun with the GMX_USE_RDTSCP=ON CMake option.\n",
      "Reading file tiA.tpr, VERSION 2019.1 (single precision)\n",
      "Changing nstlist from 10 to 50, rlist from 1 to 1.116\n",
      "\n",
      "\n",
      "Using 1 MPI thread\n",
      "Using 8 OpenMP threads \n",
      "\n",
      "starting mdrun 'PMX MODEL'\n",
      "5000 steps,     10.0 ps.\n",
      "\n",
      "Writing final coordinates.\n",
      "\n",
      "               Core t (s)   Wall t (s)        (%)\n",
      "       Time:     1730.468      216.309      800.0\n",
      "                 (ns/day)    (hour/ns)\n",
      "Performance:        3.995        6.007\n",
      "\n",
      "GROMACS reminds you: \"I Need Love, Not Games\" (Iggy Pop & Kate Pierson)\n",
      "\n",
      "\n",
      "2019-12-04 17:55:22,199 [MainThread  ] [INFO ]  Removed: []\n",
      "2019-12-04 17:55:22,218 [MainThread  ] [INFO ]  GROMACS Mdrun 20191 version detected\n",
      "2019-12-04 17:55:22,219 [MainThread  ] [INFO ]  Not using any container\n",
      "2019-12-04 17:58:20,248 [MainThread  ] [INFO ]  gmx -nobackup -nocopyright mdrun -s tiB.tpr -o tiB.trr -c tiB.gro -e tiB.edr -g tiB.log -nt 0 -dhdl tiB.dhdl\n",
      "\n",
      "2019-12-04 17:58:20,250 [MainThread  ] [INFO ]  Exit code 0\n",
      "\n",
      "2019-12-04 17:58:20,250 [MainThread  ] [INFO ]                        :-) GROMACS - gmx mdrun, 2019.1 (-:\n",
      "\n",
      "Executable:   /anaconda3/envs/biobb_dev/bin/gmx\n",
      "Data prefix:  /anaconda3/envs/biobb_dev\n",
      "Working dir:  /home/gbayarri_local/projects/BioBB/tutorials/biobb_wf_pmx_tutorial/biobb_wf_pmx_tutorial/notebooks\n",
      "Command line:\n",
      "  gmx -nobackup -nocopyright mdrun -s tiB.tpr -o tiB.trr -c tiB.gro -e tiB.edr -g tiB.log -nt 0 -dhdl tiB.dhdl\n",
      "\n",
      "Compiled SIMD: SSE2, but for this host/run AVX2_256 might be better (see log).\n",
      "The current CPU can measure timings more accurately than the code in\n",
      "gmx mdrun was configured to use. This might affect your simulation\n",
      "speed as accurate timings are needed for load-balancing.\n",
      "Please consider rebuilding gmx mdrun with the GMX_USE_RDTSCP=ON CMake option.\n",
      "Reading file tiB.tpr, VERSION 2019.1 (single precision)\n",
      "Changing nstlist from 10 to 50, rlist from 1 to 1.116\n",
      "\n",
      "\n",
      "Using 1 MPI thread\n",
      "Using 8 OpenMP threads \n",
      "\n",
      "starting mdrun 'PMX MODEL'\n",
      "5000 steps,     10.0 ps.\n",
      "\n",
      "Writing final coordinates.\n",
      "\n",
      "               Core t (s)   Wall t (s)        (%)\n",
      "       Time:     1401.487      175.186      800.0\n",
      "                 (ns/day)    (hour/ns)\n",
      "Performance:        4.933        4.865\n",
      "\n",
      "GROMACS reminds you: \"Everything Must Go\" (Red Hot Chili Peppers)\n",
      "\n",
      "\n",
      "2019-12-04 17:58:20,251 [MainThread  ] [INFO ]  Removed: []\n"
     ]
    },
    {
     "data": {
      "text/plain": [
       "0"
      ]
     },
     "execution_count": 18,
     "metadata": {},
     "output_type": "execute_result"
    }
   ],
   "source": [
    "# Mdrun: Running equilibration\n",
    "from biobb_md.gromacs.mdrun import Mdrun\n",
    "\n",
    "#### State A (WT->Mut) ####\n",
    "\n",
    "# Create prop dict and inputs/outputs\n",
    "output_tiA_trr = 'tiA.trr'\n",
    "output_tiA_gro = 'tiA.gro'\n",
    "output_tiA_edr = 'tiA.edr'\n",
    "output_tiA_log = 'tiA.log'\n",
    "output_tiA_dhdl = 'tiA.dhdl'\n",
    "\n",
    "# Create and launch bb\n",
    "Mdrun(input_tpr_path=output_tprA_ti,\n",
    "      output_trr_path=output_tiA_trr,\n",
    "      output_gro_path=output_tiA_gro,\n",
    "      output_edr_path=output_tiA_edr,\n",
    "      output_log_path=output_tiA_log,\n",
    "      output_dhdl_path=output_tiA_dhdl).launch()\n",
    "\n",
    "#### State B (Mut->WT) ####\n",
    "\n",
    "# Create prop dict and inputs/outputs\n",
    "output_tiB_trr = 'tiB.trr'\n",
    "output_tiB_gro = 'tiB.gro'\n",
    "output_tiB_edr = 'tiB.edr'\n",
    "output_tiB_log = 'tiB.log'\n",
    "output_tiB_dhdl = 'tiB.dhdl'\n",
    "\n",
    "# Create and launch bb\n",
    "Mdrun(input_tpr_path=output_tprB_ti,\n",
    "      output_trr_path=output_tiB_trr,\n",
    "      output_gro_path=output_tiB_gro,\n",
    "      output_edr_path=output_tiB_edr,\n",
    "      output_log_path=output_tiB_log,\n",
    "      output_dhdl_path=output_tiB_dhdl).launch()"
   ]
  },
  {
   "cell_type": "markdown",
   "metadata": {},
   "source": [
    "<a id=\"post\"></a>\n",
    "***\n",
    "## Free Energy Estimation\n",
    "The **Fast Growth TI** approach relies on **Jarzynski's equality** (when transition is performed in one direction only) or on the **Crooks Fluctuation Theorem** or the **Bennett Acceptance Ratio** (when the transitions are performed in both directions). \n",
    "\n",
    "**Workflow-generated results** should be used if a **minimum number of transitions** are calculated. In this particular case, as the tutorial is just computing 1 transition (forward + reverse), the number of work values computed are **not enough to extract the free energy**. Instead, we will use values taken from a **real run** of the snase example that can be found in the [pmx web page](http://pmx.mpibpc.mpg.de/sardinia2018_tutorial1/index.html).\n",
    "\n",
    "- [Step 1](#tiStep1): Gathering together all the generated **dhdl files** (work values required to perform the transitions).\n",
    "- [Step 2](#tiStep2): Compute the **free energy** using **Jarzynski's equality**, **Crooks Fluctuation Theorem** and  **Bennett Acceptance Ratio** with pmx.\n",
    "\n",
    "*Note:* This tutorial is using a **Docker container** to run **pmx**. To use a local installation of **pmx**, just modify the appropriate properties parameter **pmx_cli_path**. \n",
    "***\n",
    "**Building Blocks** used:\n",
    " - [Analyse](https://biobb-pmx.readthedocs.io/en/latest/pmx.html#module-pmx.analyse) from **biobb_pmx.pmx.analyse** \n",
    "***"
   ]
  },
  {
   "cell_type": "markdown",
   "metadata": {},
   "source": [
    "<a id=\"tiStep1\"></a>\n",
    "### Step 1: Gathering together all the generated **dhdl files**\n",
    "Gathering together all the generated **dhdl files** (work values required to perform the transitions). To be used as input for the final pmx free energy estimation."
   ]
  },
  {
   "cell_type": "code",
   "execution_count": 19,
   "metadata": {},
   "outputs": [],
   "source": [
    "# Gathering together all the generated dhdl files (work values required to perform the transitions) \n",
    "# from the free energy simulations.\n",
    "# To be used as input for the final pmx free energy estimation.\n",
    "\n",
    "#### State A (WT->Mut) ####\n",
    "\n",
    "zf = zipfile.ZipFile('dhdlsA.zip', mode='w')\n",
    "\n",
    "for file in os.listdir(os.getcwd()):\n",
    "    if file.endswith(\"A.dhdl.xvg\"):\n",
    "            zf.write(file)\n",
    "zf.close()\n",
    "\n",
    "#### State B (Mut->WT) ####\n",
    "\n",
    "zf = zipfile.ZipFile('dhdlsB.zip', mode='w')\n",
    "\n",
    "for file in os.listdir(os.getcwd()):\n",
    "    if file.endswith(\"B.dhdl.xvg\"):\n",
    "            zf.write(file)\n",
    "zf.close()"
   ]
  },
  {
   "cell_type": "markdown",
   "metadata": {},
   "source": [
    "<a id=\"tiStep2\"></a>\n",
    "### Step 2: Compute the free energy estimation\n",
    "Compute the **free energy** using **Jarzynski's equality**, **Crooks Fluctuation Theorem** and **Bennett Acceptance Ratio** with pmx."
   ]
  },
  {
   "cell_type": "code",
   "execution_count": 20,
   "metadata": {},
   "outputs": [
    {
     "name": "stderr",
     "output_type": "stream",
     "text": [
      "2019-12-04 17:59:14,376 [MainThread  ] [INFO ]  Extracting: /home/gbayarri_local/projects/BioBB/tutorials/biobb_wf_pmx_tutorial/biobb_wf_pmx_tutorial/notebooks/pmx_tutorial/dhdlA.zip\n",
      "2019-12-04 17:59:14,377 [MainThread  ] [INFO ]  to:\n",
      "2019-12-04 17:59:14,377 [MainThread  ] [INFO ]  ['a01ac477-274e-4343-901a-4fd8afde426f/stateA/frame0/dhdl0.xvg', 'a01ac477-274e-4343-901a-4fd8afde426f/stateA/frame1/dhdl1.xvg', 'a01ac477-274e-4343-901a-4fd8afde426f/stateA/frame10/dhdl10.xvg', 'a01ac477-274e-4343-901a-4fd8afde426f/stateA/frame11/dhdl11.xvg', 'a01ac477-274e-4343-901a-4fd8afde426f/stateA/frame12/dhdl12.xvg', 'a01ac477-274e-4343-901a-4fd8afde426f/stateA/frame13/dhdl13.xvg', 'a01ac477-274e-4343-901a-4fd8afde426f/stateA/frame14/dhdl14.xvg', 'a01ac477-274e-4343-901a-4fd8afde426f/stateA/frame15/dhdl15.xvg', 'a01ac477-274e-4343-901a-4fd8afde426f/stateA/frame16/dhdl16.xvg', 'a01ac477-274e-4343-901a-4fd8afde426f/stateA/frame17/dhdl17.xvg', 'a01ac477-274e-4343-901a-4fd8afde426f/stateA/frame18/dhdl18.xvg', 'a01ac477-274e-4343-901a-4fd8afde426f/stateA/frame19/dhdl19.xvg', 'a01ac477-274e-4343-901a-4fd8afde426f/stateA/frame2/dhdl2.xvg', 'a01ac477-274e-4343-901a-4fd8afde426f/stateA/frame20/dhdl20.xvg', 'a01ac477-274e-4343-901a-4fd8afde426f/stateA/frame21/dhdl21.xvg', 'a01ac477-274e-4343-901a-4fd8afde426f/stateA/frame22/dhdl22.xvg', 'a01ac477-274e-4343-901a-4fd8afde426f/stateA/frame23/dhdl23.xvg', 'a01ac477-274e-4343-901a-4fd8afde426f/stateA/frame24/dhdl24.xvg', 'a01ac477-274e-4343-901a-4fd8afde426f/stateA/frame25/dhdl25.xvg', 'a01ac477-274e-4343-901a-4fd8afde426f/stateA/frame26/dhdl26.xvg', 'a01ac477-274e-4343-901a-4fd8afde426f/stateA/frame27/dhdl27.xvg', 'a01ac477-274e-4343-901a-4fd8afde426f/stateA/frame28/dhdl28.xvg', 'a01ac477-274e-4343-901a-4fd8afde426f/stateA/frame29/dhdl29.xvg', 'a01ac477-274e-4343-901a-4fd8afde426f/stateA/frame3/dhdl3.xvg', 'a01ac477-274e-4343-901a-4fd8afde426f/stateA/frame30/dhdl30.xvg', 'a01ac477-274e-4343-901a-4fd8afde426f/stateA/frame31/dhdl31.xvg', 'a01ac477-274e-4343-901a-4fd8afde426f/stateA/frame32/dhdl32.xvg', 'a01ac477-274e-4343-901a-4fd8afde426f/stateA/frame33/dhdl33.xvg', 'a01ac477-274e-4343-901a-4fd8afde426f/stateA/frame34/dhdl34.xvg', 'a01ac477-274e-4343-901a-4fd8afde426f/stateA/frame35/dhdl35.xvg', 'a01ac477-274e-4343-901a-4fd8afde426f/stateA/frame36/dhdl36.xvg', 'a01ac477-274e-4343-901a-4fd8afde426f/stateA/frame37/dhdl37.xvg', 'a01ac477-274e-4343-901a-4fd8afde426f/stateA/frame38/dhdl38.xvg', 'a01ac477-274e-4343-901a-4fd8afde426f/stateA/frame39/dhdl39.xvg', 'a01ac477-274e-4343-901a-4fd8afde426f/stateA/frame4/dhdl4.xvg', 'a01ac477-274e-4343-901a-4fd8afde426f/stateA/frame40/dhdl40.xvg', 'a01ac477-274e-4343-901a-4fd8afde426f/stateA/frame41/dhdl41.xvg', 'a01ac477-274e-4343-901a-4fd8afde426f/stateA/frame42/dhdl42.xvg', 'a01ac477-274e-4343-901a-4fd8afde426f/stateA/frame43/dhdl43.xvg', 'a01ac477-274e-4343-901a-4fd8afde426f/stateA/frame44/dhdl44.xvg', 'a01ac477-274e-4343-901a-4fd8afde426f/stateA/frame45/dhdl45.xvg', 'a01ac477-274e-4343-901a-4fd8afde426f/stateA/frame46/dhdl46.xvg', 'a01ac477-274e-4343-901a-4fd8afde426f/stateA/frame47/dhdl47.xvg', 'a01ac477-274e-4343-901a-4fd8afde426f/stateA/frame48/dhdl48.xvg', 'a01ac477-274e-4343-901a-4fd8afde426f/stateA/frame49/dhdl49.xvg', 'a01ac477-274e-4343-901a-4fd8afde426f/stateA/frame5/dhdl5.xvg', 'a01ac477-274e-4343-901a-4fd8afde426f/stateA/frame50/dhdl50.xvg', 'a01ac477-274e-4343-901a-4fd8afde426f/stateA/frame51/dhdl51.xvg', 'a01ac477-274e-4343-901a-4fd8afde426f/stateA/frame52/dhdl52.xvg', 'a01ac477-274e-4343-901a-4fd8afde426f/stateA/frame53/dhdl53.xvg', 'a01ac477-274e-4343-901a-4fd8afde426f/stateA/frame54/dhdl54.xvg', 'a01ac477-274e-4343-901a-4fd8afde426f/stateA/frame55/dhdl55.xvg', 'a01ac477-274e-4343-901a-4fd8afde426f/stateA/frame56/dhdl56.xvg', 'a01ac477-274e-4343-901a-4fd8afde426f/stateA/frame57/dhdl57.xvg', 'a01ac477-274e-4343-901a-4fd8afde426f/stateA/frame58/dhdl58.xvg', 'a01ac477-274e-4343-901a-4fd8afde426f/stateA/frame59/dhdl59.xvg', 'a01ac477-274e-4343-901a-4fd8afde426f/stateA/frame6/dhdl6.xvg', 'a01ac477-274e-4343-901a-4fd8afde426f/stateA/frame60/dhdl60.xvg', 'a01ac477-274e-4343-901a-4fd8afde426f/stateA/frame61/dhdl61.xvg', 'a01ac477-274e-4343-901a-4fd8afde426f/stateA/frame62/dhdl62.xvg', 'a01ac477-274e-4343-901a-4fd8afde426f/stateA/frame63/dhdl63.xvg', 'a01ac477-274e-4343-901a-4fd8afde426f/stateA/frame64/dhdl64.xvg', 'a01ac477-274e-4343-901a-4fd8afde426f/stateA/frame65/dhdl65.xvg', 'a01ac477-274e-4343-901a-4fd8afde426f/stateA/frame66/dhdl66.xvg', 'a01ac477-274e-4343-901a-4fd8afde426f/stateA/frame67/dhdl67.xvg', 'a01ac477-274e-4343-901a-4fd8afde426f/stateA/frame68/dhdl68.xvg', 'a01ac477-274e-4343-901a-4fd8afde426f/stateA/frame69/dhdl69.xvg', 'a01ac477-274e-4343-901a-4fd8afde426f/stateA/frame7/dhdl7.xvg', 'a01ac477-274e-4343-901a-4fd8afde426f/stateA/frame70/dhdl70.xvg', 'a01ac477-274e-4343-901a-4fd8afde426f/stateA/frame71/dhdl71.xvg', 'a01ac477-274e-4343-901a-4fd8afde426f/stateA/frame72/dhdl72.xvg', 'a01ac477-274e-4343-901a-4fd8afde426f/stateA/frame73/dhdl73.xvg', 'a01ac477-274e-4343-901a-4fd8afde426f/stateA/frame74/dhdl74.xvg', 'a01ac477-274e-4343-901a-4fd8afde426f/stateA/frame75/dhdl75.xvg', 'a01ac477-274e-4343-901a-4fd8afde426f/stateA/frame76/dhdl76.xvg', 'a01ac477-274e-4343-901a-4fd8afde426f/stateA/frame77/dhdl77.xvg', 'a01ac477-274e-4343-901a-4fd8afde426f/stateA/frame78/dhdl78.xvg', 'a01ac477-274e-4343-901a-4fd8afde426f/stateA/frame79/dhdl79.xvg', 'a01ac477-274e-4343-901a-4fd8afde426f/stateA/frame8/dhdl8.xvg', 'a01ac477-274e-4343-901a-4fd8afde426f/stateA/frame80/dhdl80.xvg', 'a01ac477-274e-4343-901a-4fd8afde426f/stateA/frame81/dhdl81.xvg', 'a01ac477-274e-4343-901a-4fd8afde426f/stateA/frame82/dhdl82.xvg', 'a01ac477-274e-4343-901a-4fd8afde426f/stateA/frame83/dhdl83.xvg', 'a01ac477-274e-4343-901a-4fd8afde426f/stateA/frame84/dhdl84.xvg', 'a01ac477-274e-4343-901a-4fd8afde426f/stateA/frame85/dhdl85.xvg', 'a01ac477-274e-4343-901a-4fd8afde426f/stateA/frame86/dhdl86.xvg', 'a01ac477-274e-4343-901a-4fd8afde426f/stateA/frame87/dhdl87.xvg', 'a01ac477-274e-4343-901a-4fd8afde426f/stateA/frame88/dhdl88.xvg', 'a01ac477-274e-4343-901a-4fd8afde426f/stateA/frame89/dhdl89.xvg', 'a01ac477-274e-4343-901a-4fd8afde426f/stateA/frame9/dhdl9.xvg', 'a01ac477-274e-4343-901a-4fd8afde426f/stateA/frame90/dhdl90.xvg', 'a01ac477-274e-4343-901a-4fd8afde426f/stateA/frame91/dhdl91.xvg', 'a01ac477-274e-4343-901a-4fd8afde426f/stateA/frame92/dhdl92.xvg', 'a01ac477-274e-4343-901a-4fd8afde426f/stateA/frame93/dhdl93.xvg', 'a01ac477-274e-4343-901a-4fd8afde426f/stateA/frame94/dhdl94.xvg', 'a01ac477-274e-4343-901a-4fd8afde426f/stateA/frame95/dhdl95.xvg', 'a01ac477-274e-4343-901a-4fd8afde426f/stateA/frame96/dhdl96.xvg', 'a01ac477-274e-4343-901a-4fd8afde426f/stateA/frame97/dhdl97.xvg', 'a01ac477-274e-4343-901a-4fd8afde426f/stateA/frame98/dhdl98.xvg', 'a01ac477-274e-4343-901a-4fd8afde426f/stateA/frame99/dhdl99.xvg']\n",
      "2019-12-04 17:59:14,789 [MainThread  ] [INFO ]  Extracting: /home/gbayarri_local/projects/BioBB/tutorials/biobb_wf_pmx_tutorial/biobb_wf_pmx_tutorial/notebooks/pmx_tutorial/dhdlB.zip\n",
      "2019-12-04 17:59:14,789 [MainThread  ] [INFO ]  to:\n",
      "2019-12-04 17:59:14,790 [MainThread  ] [INFO ]  ['6141dcac-857b-4f9b-9450-fec7a73277d3/stateB/frame0/dhdl0.xvg', '6141dcac-857b-4f9b-9450-fec7a73277d3/stateB/frame1/dhdl1.xvg', '6141dcac-857b-4f9b-9450-fec7a73277d3/stateB/frame10/dhdl10.xvg', '6141dcac-857b-4f9b-9450-fec7a73277d3/stateB/frame11/dhdl11.xvg', '6141dcac-857b-4f9b-9450-fec7a73277d3/stateB/frame12/dhdl12.xvg', '6141dcac-857b-4f9b-9450-fec7a73277d3/stateB/frame13/dhdl13.xvg', '6141dcac-857b-4f9b-9450-fec7a73277d3/stateB/frame14/dhdl14.xvg', '6141dcac-857b-4f9b-9450-fec7a73277d3/stateB/frame15/dhdl15.xvg', '6141dcac-857b-4f9b-9450-fec7a73277d3/stateB/frame16/dhdl16.xvg', '6141dcac-857b-4f9b-9450-fec7a73277d3/stateB/frame17/dhdl17.xvg', '6141dcac-857b-4f9b-9450-fec7a73277d3/stateB/frame18/dhdl18.xvg', '6141dcac-857b-4f9b-9450-fec7a73277d3/stateB/frame19/dhdl19.xvg', '6141dcac-857b-4f9b-9450-fec7a73277d3/stateB/frame2/dhdl2.xvg', '6141dcac-857b-4f9b-9450-fec7a73277d3/stateB/frame20/dhdl20.xvg', '6141dcac-857b-4f9b-9450-fec7a73277d3/stateB/frame21/dhdl21.xvg', '6141dcac-857b-4f9b-9450-fec7a73277d3/stateB/frame22/dhdl22.xvg', '6141dcac-857b-4f9b-9450-fec7a73277d3/stateB/frame23/dhdl23.xvg', '6141dcac-857b-4f9b-9450-fec7a73277d3/stateB/frame24/dhdl24.xvg', '6141dcac-857b-4f9b-9450-fec7a73277d3/stateB/frame25/dhdl25.xvg', '6141dcac-857b-4f9b-9450-fec7a73277d3/stateB/frame26/dhdl26.xvg', '6141dcac-857b-4f9b-9450-fec7a73277d3/stateB/frame27/dhdl27.xvg', '6141dcac-857b-4f9b-9450-fec7a73277d3/stateB/frame28/dhdl28.xvg', '6141dcac-857b-4f9b-9450-fec7a73277d3/stateB/frame29/dhdl29.xvg', '6141dcac-857b-4f9b-9450-fec7a73277d3/stateB/frame3/dhdl3.xvg', '6141dcac-857b-4f9b-9450-fec7a73277d3/stateB/frame30/dhdl30.xvg', '6141dcac-857b-4f9b-9450-fec7a73277d3/stateB/frame31/dhdl31.xvg', '6141dcac-857b-4f9b-9450-fec7a73277d3/stateB/frame32/dhdl32.xvg', '6141dcac-857b-4f9b-9450-fec7a73277d3/stateB/frame33/dhdl33.xvg', '6141dcac-857b-4f9b-9450-fec7a73277d3/stateB/frame34/dhdl34.xvg', '6141dcac-857b-4f9b-9450-fec7a73277d3/stateB/frame35/dhdl35.xvg', '6141dcac-857b-4f9b-9450-fec7a73277d3/stateB/frame36/dhdl36.xvg', '6141dcac-857b-4f9b-9450-fec7a73277d3/stateB/frame37/dhdl37.xvg', '6141dcac-857b-4f9b-9450-fec7a73277d3/stateB/frame38/dhdl38.xvg', '6141dcac-857b-4f9b-9450-fec7a73277d3/stateB/frame39/dhdl39.xvg', '6141dcac-857b-4f9b-9450-fec7a73277d3/stateB/frame4/dhdl4.xvg', '6141dcac-857b-4f9b-9450-fec7a73277d3/stateB/frame40/dhdl40.xvg', '6141dcac-857b-4f9b-9450-fec7a73277d3/stateB/frame41/dhdl41.xvg', '6141dcac-857b-4f9b-9450-fec7a73277d3/stateB/frame42/dhdl42.xvg', '6141dcac-857b-4f9b-9450-fec7a73277d3/stateB/frame43/dhdl43.xvg', '6141dcac-857b-4f9b-9450-fec7a73277d3/stateB/frame44/dhdl44.xvg', '6141dcac-857b-4f9b-9450-fec7a73277d3/stateB/frame45/dhdl45.xvg', '6141dcac-857b-4f9b-9450-fec7a73277d3/stateB/frame46/dhdl46.xvg', '6141dcac-857b-4f9b-9450-fec7a73277d3/stateB/frame47/dhdl47.xvg', '6141dcac-857b-4f9b-9450-fec7a73277d3/stateB/frame48/dhdl48.xvg', '6141dcac-857b-4f9b-9450-fec7a73277d3/stateB/frame49/dhdl49.xvg', '6141dcac-857b-4f9b-9450-fec7a73277d3/stateB/frame5/dhdl5.xvg', '6141dcac-857b-4f9b-9450-fec7a73277d3/stateB/frame50/dhdl50.xvg', '6141dcac-857b-4f9b-9450-fec7a73277d3/stateB/frame51/dhdl51.xvg', '6141dcac-857b-4f9b-9450-fec7a73277d3/stateB/frame52/dhdl52.xvg', '6141dcac-857b-4f9b-9450-fec7a73277d3/stateB/frame53/dhdl53.xvg', '6141dcac-857b-4f9b-9450-fec7a73277d3/stateB/frame54/dhdl54.xvg', '6141dcac-857b-4f9b-9450-fec7a73277d3/stateB/frame55/dhdl55.xvg', '6141dcac-857b-4f9b-9450-fec7a73277d3/stateB/frame56/dhdl56.xvg', '6141dcac-857b-4f9b-9450-fec7a73277d3/stateB/frame57/dhdl57.xvg', '6141dcac-857b-4f9b-9450-fec7a73277d3/stateB/frame58/dhdl58.xvg', '6141dcac-857b-4f9b-9450-fec7a73277d3/stateB/frame59/dhdl59.xvg', '6141dcac-857b-4f9b-9450-fec7a73277d3/stateB/frame6/dhdl6.xvg', '6141dcac-857b-4f9b-9450-fec7a73277d3/stateB/frame60/dhdl60.xvg', '6141dcac-857b-4f9b-9450-fec7a73277d3/stateB/frame61/dhdl61.xvg', '6141dcac-857b-4f9b-9450-fec7a73277d3/stateB/frame62/dhdl62.xvg', '6141dcac-857b-4f9b-9450-fec7a73277d3/stateB/frame63/dhdl63.xvg', '6141dcac-857b-4f9b-9450-fec7a73277d3/stateB/frame64/dhdl64.xvg', '6141dcac-857b-4f9b-9450-fec7a73277d3/stateB/frame65/dhdl65.xvg', '6141dcac-857b-4f9b-9450-fec7a73277d3/stateB/frame66/dhdl66.xvg', '6141dcac-857b-4f9b-9450-fec7a73277d3/stateB/frame67/dhdl67.xvg', '6141dcac-857b-4f9b-9450-fec7a73277d3/stateB/frame68/dhdl68.xvg', '6141dcac-857b-4f9b-9450-fec7a73277d3/stateB/frame69/dhdl69.xvg', '6141dcac-857b-4f9b-9450-fec7a73277d3/stateB/frame7/dhdl7.xvg', '6141dcac-857b-4f9b-9450-fec7a73277d3/stateB/frame70/dhdl70.xvg', '6141dcac-857b-4f9b-9450-fec7a73277d3/stateB/frame71/dhdl71.xvg', '6141dcac-857b-4f9b-9450-fec7a73277d3/stateB/frame72/dhdl72.xvg', '6141dcac-857b-4f9b-9450-fec7a73277d3/stateB/frame73/dhdl73.xvg', '6141dcac-857b-4f9b-9450-fec7a73277d3/stateB/frame74/dhdl74.xvg', '6141dcac-857b-4f9b-9450-fec7a73277d3/stateB/frame75/dhdl75.xvg', '6141dcac-857b-4f9b-9450-fec7a73277d3/stateB/frame76/dhdl76.xvg', '6141dcac-857b-4f9b-9450-fec7a73277d3/stateB/frame77/dhdl77.xvg', '6141dcac-857b-4f9b-9450-fec7a73277d3/stateB/frame78/dhdl78.xvg', '6141dcac-857b-4f9b-9450-fec7a73277d3/stateB/frame79/dhdl79.xvg', '6141dcac-857b-4f9b-9450-fec7a73277d3/stateB/frame8/dhdl8.xvg', '6141dcac-857b-4f9b-9450-fec7a73277d3/stateB/frame80/dhdl80.xvg', '6141dcac-857b-4f9b-9450-fec7a73277d3/stateB/frame81/dhdl81.xvg', '6141dcac-857b-4f9b-9450-fec7a73277d3/stateB/frame82/dhdl82.xvg', '6141dcac-857b-4f9b-9450-fec7a73277d3/stateB/frame83/dhdl83.xvg', '6141dcac-857b-4f9b-9450-fec7a73277d3/stateB/frame84/dhdl84.xvg', '6141dcac-857b-4f9b-9450-fec7a73277d3/stateB/frame85/dhdl85.xvg', '6141dcac-857b-4f9b-9450-fec7a73277d3/stateB/frame86/dhdl86.xvg', '6141dcac-857b-4f9b-9450-fec7a73277d3/stateB/frame87/dhdl87.xvg', '6141dcac-857b-4f9b-9450-fec7a73277d3/stateB/frame88/dhdl88.xvg', '6141dcac-857b-4f9b-9450-fec7a73277d3/stateB/frame89/dhdl89.xvg', '6141dcac-857b-4f9b-9450-fec7a73277d3/stateB/frame9/dhdl9.xvg', '6141dcac-857b-4f9b-9450-fec7a73277d3/stateB/frame90/dhdl90.xvg', '6141dcac-857b-4f9b-9450-fec7a73277d3/stateB/frame91/dhdl91.xvg', '6141dcac-857b-4f9b-9450-fec7a73277d3/stateB/frame92/dhdl92.xvg', '6141dcac-857b-4f9b-9450-fec7a73277d3/stateB/frame93/dhdl93.xvg', '6141dcac-857b-4f9b-9450-fec7a73277d3/stateB/frame94/dhdl94.xvg', '6141dcac-857b-4f9b-9450-fec7a73277d3/stateB/frame95/dhdl95.xvg', '6141dcac-857b-4f9b-9450-fec7a73277d3/stateB/frame96/dhdl96.xvg', '6141dcac-857b-4f9b-9450-fec7a73277d3/stateB/frame97/dhdl97.xvg', '6141dcac-857b-4f9b-9450-fec7a73277d3/stateB/frame98/dhdl98.xvg', '6141dcac-857b-4f9b-9450-fec7a73277d3/stateB/frame99/dhdl99.xvg']\n"
     ]
    },
    {
     "name": "stderr",
     "output_type": "stream",
     "text": [
      "2019-12-04 17:59:14,938 [MainThread  ] [INFO ]  Using Docker image mmbirb/pmx\n",
      "2019-12-04 17:59:32,332 [MainThread  ] [INFO ]  docker run -v /home/gbayarri_local/projects/BioBB/tutorials/biobb_wf_pmx_tutorial/biobb_wf_pmx_tutorial/notebooks/62bea9a5-317d-4f80-8490-779edb548955:/inout mmbirb/pmx /bin/bash -c \"cli.py analyse -fA /inout/a01ac477-274e-4343-901a-4fd8afde426f/stateA/frame0/dhdl0.xvg /inout/a01ac477-274e-4343-901a-4fd8afde426f/stateA/frame1/dhdl1.xvg /inout/a01ac477-274e-4343-901a-4fd8afde426f/stateA/frame10/dhdl10.xvg /inout/a01ac477-274e-4343-901a-4fd8afde426f/stateA/frame11/dhdl11.xvg /inout/a01ac477-274e-4343-901a-4fd8afde426f/stateA/frame12/dhdl12.xvg /inout/a01ac477-274e-4343-901a-4fd8afde426f/stateA/frame13/dhdl13.xvg /inout/a01ac477-274e-4343-901a-4fd8afde426f/stateA/frame14/dhdl14.xvg /inout/a01ac477-274e-4343-901a-4fd8afde426f/stateA/frame15/dhdl15.xvg /inout/a01ac477-274e-4343-901a-4fd8afde426f/stateA/frame16/dhdl16.xvg /inout/a01ac477-274e-4343-901a-4fd8afde426f/stateA/frame17/dhdl17.xvg /inout/a01ac477-274e-4343-901a-4fd8afde426f/stateA/frame18/dhdl18.xvg /inout/a01ac477-274e-4343-901a-4fd8afde426f/stateA/frame19/dhdl19.xvg /inout/a01ac477-274e-4343-901a-4fd8afde426f/stateA/frame2/dhdl2.xvg /inout/a01ac477-274e-4343-901a-4fd8afde426f/stateA/frame20/dhdl20.xvg /inout/a01ac477-274e-4343-901a-4fd8afde426f/stateA/frame21/dhdl21.xvg /inout/a01ac477-274e-4343-901a-4fd8afde426f/stateA/frame22/dhdl22.xvg /inout/a01ac477-274e-4343-901a-4fd8afde426f/stateA/frame23/dhdl23.xvg /inout/a01ac477-274e-4343-901a-4fd8afde426f/stateA/frame24/dhdl24.xvg /inout/a01ac477-274e-4343-901a-4fd8afde426f/stateA/frame25/dhdl25.xvg /inout/a01ac477-274e-4343-901a-4fd8afde426f/stateA/frame26/dhdl26.xvg /inout/a01ac477-274e-4343-901a-4fd8afde426f/stateA/frame27/dhdl27.xvg /inout/a01ac477-274e-4343-901a-4fd8afde426f/stateA/frame28/dhdl28.xvg /inout/a01ac477-274e-4343-901a-4fd8afde426f/stateA/frame29/dhdl29.xvg /inout/a01ac477-274e-4343-901a-4fd8afde426f/stateA/frame3/dhdl3.xvg /inout/a01ac477-274e-4343-901a-4fd8afde426f/stateA/frame30/dhdl30.xvg /inout/a01ac477-274e-4343-901a-4fd8afde426f/stateA/frame31/dhdl31.xvg /inout/a01ac477-274e-4343-901a-4fd8afde426f/stateA/frame32/dhdl32.xvg /inout/a01ac477-274e-4343-901a-4fd8afde426f/stateA/frame33/dhdl33.xvg /inout/a01ac477-274e-4343-901a-4fd8afde426f/stateA/frame34/dhdl34.xvg /inout/a01ac477-274e-4343-901a-4fd8afde426f/stateA/frame35/dhdl35.xvg /inout/a01ac477-274e-4343-901a-4fd8afde426f/stateA/frame36/dhdl36.xvg /inout/a01ac477-274e-4343-901a-4fd8afde426f/stateA/frame37/dhdl37.xvg /inout/a01ac477-274e-4343-901a-4fd8afde426f/stateA/frame38/dhdl38.xvg /inout/a01ac477-274e-4343-901a-4fd8afde426f/stateA/frame39/dhdl39.xvg /inout/a01ac477-274e-4343-901a-4fd8afde426f/stateA/frame4/dhdl4.xvg /inout/a01ac477-274e-4343-901a-4fd8afde426f/stateA/frame40/dhdl40.xvg /inout/a01ac477-274e-4343-901a-4fd8afde426f/stateA/frame41/dhdl41.xvg /inout/a01ac477-274e-4343-901a-4fd8afde426f/stateA/frame42/dhdl42.xvg /inout/a01ac477-274e-4343-901a-4fd8afde426f/stateA/frame43/dhdl43.xvg /inout/a01ac477-274e-4343-901a-4fd8afde426f/stateA/frame44/dhdl44.xvg /inout/a01ac477-274e-4343-901a-4fd8afde426f/stateA/frame45/dhdl45.xvg /inout/a01ac477-274e-4343-901a-4fd8afde426f/stateA/frame46/dhdl46.xvg /inout/a01ac477-274e-4343-901a-4fd8afde426f/stateA/frame47/dhdl47.xvg /inout/a01ac477-274e-4343-901a-4fd8afde426f/stateA/frame48/dhdl48.xvg /inout/a01ac477-274e-4343-901a-4fd8afde426f/stateA/frame49/dhdl49.xvg /inout/a01ac477-274e-4343-901a-4fd8afde426f/stateA/frame5/dhdl5.xvg /inout/a01ac477-274e-4343-901a-4fd8afde426f/stateA/frame50/dhdl50.xvg /inout/a01ac477-274e-4343-901a-4fd8afde426f/stateA/frame51/dhdl51.xvg /inout/a01ac477-274e-4343-901a-4fd8afde426f/stateA/frame52/dhdl52.xvg /inout/a01ac477-274e-4343-901a-4fd8afde426f/stateA/frame53/dhdl53.xvg /inout/a01ac477-274e-4343-901a-4fd8afde426f/stateA/frame54/dhdl54.xvg /inout/a01ac477-274e-4343-901a-4fd8afde426f/stateA/frame55/dhdl55.xvg /inout/a01ac477-274e-4343-901a-4fd8afde426f/stateA/frame56/dhdl56.xvg /inout/a01ac477-274e-4343-901a-4fd8afde426f/stateA/frame57/dhdl57.xvg /inout/a01ac477-274e-4343-901a-4fd8afde426f/stateA/frame58/dhdl58.xvg /inout/a01ac477-274e-4343-901a-4fd8afde426f/stateA/frame59/dhdl59.xvg /inout/a01ac477-274e-4343-901a-4fd8afde426f/stateA/frame6/dhdl6.xvg /inout/a01ac477-274e-4343-901a-4fd8afde426f/stateA/frame60/dhdl60.xvg /inout/a01ac477-274e-4343-901a-4fd8afde426f/stateA/frame61/dhdl61.xvg /inout/a01ac477-274e-4343-901a-4fd8afde426f/stateA/frame62/dhdl62.xvg /inout/a01ac477-274e-4343-901a-4fd8afde426f/stateA/frame63/dhdl63.xvg /inout/a01ac477-274e-4343-901a-4fd8afde426f/stateA/frame64/dhdl64.xvg /inout/a01ac477-274e-4343-901a-4fd8afde426f/stateA/frame65/dhdl65.xvg /inout/a01ac477-274e-4343-901a-4fd8afde426f/stateA/frame66/dhdl66.xvg /inout/a01ac477-274e-4343-901a-4fd8afde426f/stateA/frame67/dhdl67.xvg /inout/a01ac477-274e-4343-901a-4fd8afde426f/stateA/frame68/dhdl68.xvg /inout/a01ac477-274e-4343-901a-4fd8afde426f/stateA/frame69/dhdl69.xvg /inout/a01ac477-274e-4343-901a-4fd8afde426f/stateA/frame7/dhdl7.xvg /inout/a01ac477-274e-4343-901a-4fd8afde426f/stateA/frame70/dhdl70.xvg /inout/a01ac477-274e-4343-901a-4fd8afde426f/stateA/frame71/dhdl71.xvg /inout/a01ac477-274e-4343-901a-4fd8afde426f/stateA/frame72/dhdl72.xvg /inout/a01ac477-274e-4343-901a-4fd8afde426f/stateA/frame73/dhdl73.xvg /inout/a01ac477-274e-4343-901a-4fd8afde426f/stateA/frame74/dhdl74.xvg /inout/a01ac477-274e-4343-901a-4fd8afde426f/stateA/frame75/dhdl75.xvg /inout/a01ac477-274e-4343-901a-4fd8afde426f/stateA/frame76/dhdl76.xvg /inout/a01ac477-274e-4343-901a-4fd8afde426f/stateA/frame77/dhdl77.xvg /inout/a01ac477-274e-4343-901a-4fd8afde426f/stateA/frame78/dhdl78.xvg /inout/a01ac477-274e-4343-901a-4fd8afde426f/stateA/frame79/dhdl79.xvg /inout/a01ac477-274e-4343-901a-4fd8afde426f/stateA/frame8/dhdl8.xvg /inout/a01ac477-274e-4343-901a-4fd8afde426f/stateA/frame80/dhdl80.xvg /inout/a01ac477-274e-4343-901a-4fd8afde426f/stateA/frame81/dhdl81.xvg /inout/a01ac477-274e-4343-901a-4fd8afde426f/stateA/frame82/dhdl82.xvg /inout/a01ac477-274e-4343-901a-4fd8afde426f/stateA/frame83/dhdl83.xvg /inout/a01ac477-274e-4343-901a-4fd8afde426f/stateA/frame84/dhdl84.xvg /inout/a01ac477-274e-4343-901a-4fd8afde426f/stateA/frame85/dhdl85.xvg /inout/a01ac477-274e-4343-901a-4fd8afde426f/stateA/frame86/dhdl86.xvg /inout/a01ac477-274e-4343-901a-4fd8afde426f/stateA/frame87/dhdl87.xvg /inout/a01ac477-274e-4343-901a-4fd8afde426f/stateA/frame88/dhdl88.xvg /inout/a01ac477-274e-4343-901a-4fd8afde426f/stateA/frame89/dhdl89.xvg /inout/a01ac477-274e-4343-901a-4fd8afde426f/stateA/frame9/dhdl9.xvg /inout/a01ac477-274e-4343-901a-4fd8afde426f/stateA/frame90/dhdl90.xvg /inout/a01ac477-274e-4343-901a-4fd8afde426f/stateA/frame91/dhdl91.xvg /inout/a01ac477-274e-4343-901a-4fd8afde426f/stateA/frame92/dhdl92.xvg /inout/a01ac477-274e-4343-901a-4fd8afde426f/stateA/frame93/dhdl93.xvg /inout/a01ac477-274e-4343-901a-4fd8afde426f/stateA/frame94/dhdl94.xvg /inout/a01ac477-274e-4343-901a-4fd8afde426f/stateA/frame95/dhdl95.xvg /inout/a01ac477-274e-4343-901a-4fd8afde426f/stateA/frame96/dhdl96.xvg /inout/a01ac477-274e-4343-901a-4fd8afde426f/stateA/frame97/dhdl97.xvg /inout/a01ac477-274e-4343-901a-4fd8afde426f/stateA/frame98/dhdl98.xvg /inout/a01ac477-274e-4343-901a-4fd8afde426f/stateA/frame99/dhdl99.xvg -fB /inout/6141dcac-857b-4f9b-9450-fec7a73277d3/stateB/frame0/dhdl0.xvg /inout/6141dcac-857b-4f9b-9450-fec7a73277d3/stateB/frame1/dhdl1.xvg /inout/6141dcac-857b-4f9b-9450-fec7a73277d3/stateB/frame10/dhdl10.xvg /inout/6141dcac-857b-4f9b-9450-fec7a73277d3/stateB/frame11/dhdl11.xvg /inout/6141dcac-857b-4f9b-9450-fec7a73277d3/stateB/frame12/dhdl12.xvg /inout/6141dcac-857b-4f9b-9450-fec7a73277d3/stateB/frame13/dhdl13.xvg /inout/6141dcac-857b-4f9b-9450-fec7a73277d3/stateB/frame14/dhdl14.xvg /inout/6141dcac-857b-4f9b-9450-fec7a73277d3/stateB/frame15/dhdl15.xvg /inout/6141dcac-857b-4f9b-9450-fec7a73277d3/stateB/frame16/dhdl16.xvg /inout/6141dcac-857b-4f9b-9450-fec7a73277d3/stateB/frame17/dhdl17.xvg /inout/6141dcac-857b-4f9b-9450-fec7a73277d3/stateB/frame18/dhdl18.xvg /inout/6141dcac-857b-4f9b-9450-fec7a73277d3/stateB/frame19/dhdl19.xvg /inout/6141dcac-857b-4f9b-9450-fec7a73277d3/stateB/frame2/dhdl2.xvg /inout/6141dcac-857b-4f9b-9450-fec7a73277d3/stateB/frame20/dhdl20.xvg /inout/6141dcac-857b-4f9b-9450-fec7a73277d3/stateB/frame21/dhdl21.xvg /inout/6141dcac-857b-4f9b-9450-fec7a73277d3/stateB/frame22/dhdl22.xvg /inout/6141dcac-857b-4f9b-9450-fec7a73277d3/stateB/frame23/dhdl23.xvg /inout/6141dcac-857b-4f9b-9450-fec7a73277d3/stateB/frame24/dhdl24.xvg /inout/6141dcac-857b-4f9b-9450-fec7a73277d3/stateB/frame25/dhdl25.xvg /inout/6141dcac-857b-4f9b-9450-fec7a73277d3/stateB/frame26/dhdl26.xvg /inout/6141dcac-857b-4f9b-9450-fec7a73277d3/stateB/frame27/dhdl27.xvg /inout/6141dcac-857b-4f9b-9450-fec7a73277d3/stateB/frame28/dhdl28.xvg /inout/6141dcac-857b-4f9b-9450-fec7a73277d3/stateB/frame29/dhdl29.xvg /inout/6141dcac-857b-4f9b-9450-fec7a73277d3/stateB/frame3/dhdl3.xvg /inout/6141dcac-857b-4f9b-9450-fec7a73277d3/stateB/frame30/dhdl30.xvg /inout/6141dcac-857b-4f9b-9450-fec7a73277d3/stateB/frame31/dhdl31.xvg /inout/6141dcac-857b-4f9b-9450-fec7a73277d3/stateB/frame32/dhdl32.xvg /inout/6141dcac-857b-4f9b-9450-fec7a73277d3/stateB/frame33/dhdl33.xvg /inout/6141dcac-857b-4f9b-9450-fec7a73277d3/stateB/frame34/dhdl34.xvg /inout/6141dcac-857b-4f9b-9450-fec7a73277d3/stateB/frame35/dhdl35.xvg /inout/6141dcac-857b-4f9b-9450-fec7a73277d3/stateB/frame36/dhdl36.xvg /inout/6141dcac-857b-4f9b-9450-fec7a73277d3/stateB/frame37/dhdl37.xvg /inout/6141dcac-857b-4f9b-9450-fec7a73277d3/stateB/frame38/dhdl38.xvg /inout/6141dcac-857b-4f9b-9450-fec7a73277d3/stateB/frame39/dhdl39.xvg /inout/6141dcac-857b-4f9b-9450-fec7a73277d3/stateB/frame4/dhdl4.xvg /inout/6141dcac-857b-4f9b-9450-fec7a73277d3/stateB/frame40/dhdl40.xvg /inout/6141dcac-857b-4f9b-9450-fec7a73277d3/stateB/frame41/dhdl41.xvg /inout/6141dcac-857b-4f9b-9450-fec7a73277d3/stateB/frame42/dhdl42.xvg /inout/6141dcac-857b-4f9b-9450-fec7a73277d3/stateB/frame43/dhdl43.xvg /inout/6141dcac-857b-4f9b-9450-fec7a73277d3/stateB/frame44/dhdl44.xvg /inout/6141dcac-857b-4f9b-9450-fec7a73277d3/stateB/frame45/dhdl45.xvg /inout/6141dcac-857b-4f9b-9450-fec7a73277d3/stateB/frame46/dhdl46.xvg /inout/6141dcac-857b-4f9b-9450-fec7a73277d3/stateB/frame47/dhdl47.xvg /inout/6141dcac-857b-4f9b-9450-fec7a73277d3/stateB/frame48/dhdl48.xvg /inout/6141dcac-857b-4f9b-9450-fec7a73277d3/stateB/frame49/dhdl49.xvg /inout/6141dcac-857b-4f9b-9450-fec7a73277d3/stateB/frame5/dhdl5.xvg /inout/6141dcac-857b-4f9b-9450-fec7a73277d3/stateB/frame50/dhdl50.xvg /inout/6141dcac-857b-4f9b-9450-fec7a73277d3/stateB/frame51/dhdl51.xvg /inout/6141dcac-857b-4f9b-9450-fec7a73277d3/stateB/frame52/dhdl52.xvg /inout/6141dcac-857b-4f9b-9450-fec7a73277d3/stateB/frame53/dhdl53.xvg /inout/6141dcac-857b-4f9b-9450-fec7a73277d3/stateB/frame54/dhdl54.xvg /inout/6141dcac-857b-4f9b-9450-fec7a73277d3/stateB/frame55/dhdl55.xvg /inout/6141dcac-857b-4f9b-9450-fec7a73277d3/stateB/frame56/dhdl56.xvg /inout/6141dcac-857b-4f9b-9450-fec7a73277d3/stateB/frame57/dhdl57.xvg /inout/6141dcac-857b-4f9b-9450-fec7a73277d3/stateB/frame58/dhdl58.xvg /inout/6141dcac-857b-4f9b-9450-fec7a73277d3/stateB/frame59/dhdl59.xvg /inout/6141dcac-857b-4f9b-9450-fec7a73277d3/stateB/frame6/dhdl6.xvg /inout/6141dcac-857b-4f9b-9450-fec7a73277d3/stateB/frame60/dhdl60.xvg /inout/6141dcac-857b-4f9b-9450-fec7a73277d3/stateB/frame61/dhdl61.xvg /inout/6141dcac-857b-4f9b-9450-fec7a73277d3/stateB/frame62/dhdl62.xvg /inout/6141dcac-857b-4f9b-9450-fec7a73277d3/stateB/frame63/dhdl63.xvg /inout/6141dcac-857b-4f9b-9450-fec7a73277d3/stateB/frame64/dhdl64.xvg /inout/6141dcac-857b-4f9b-9450-fec7a73277d3/stateB/frame65/dhdl65.xvg /inout/6141dcac-857b-4f9b-9450-fec7a73277d3/stateB/frame66/dhdl66.xvg /inout/6141dcac-857b-4f9b-9450-fec7a73277d3/stateB/frame67/dhdl67.xvg /inout/6141dcac-857b-4f9b-9450-fec7a73277d3/stateB/frame68/dhdl68.xvg /inout/6141dcac-857b-4f9b-9450-fec7a73277d3/stateB/frame69/dhdl69.xvg /inout/6141dcac-857b-4f9b-9450-fec7a73277d3/stateB/frame7/dhdl7.xvg /inout/6141dcac-857b-4f9b-9450-fec7a73277d3/stateB/frame70/dhdl70.xvg /inout/6141dcac-857b-4f9b-9450-fec7a73277d3/stateB/frame71/dhdl71.xvg /inout/6141dcac-857b-4f9b-9450-fec7a73277d3/stateB/frame72/dhdl72.xvg /inout/6141dcac-857b-4f9b-9450-fec7a73277d3/stateB/frame73/dhdl73.xvg /inout/6141dcac-857b-4f9b-9450-fec7a73277d3/stateB/frame74/dhdl74.xvg /inout/6141dcac-857b-4f9b-9450-fec7a73277d3/stateB/frame75/dhdl75.xvg /inout/6141dcac-857b-4f9b-9450-fec7a73277d3/stateB/frame76/dhdl76.xvg /inout/6141dcac-857b-4f9b-9450-fec7a73277d3/stateB/frame77/dhdl77.xvg /inout/6141dcac-857b-4f9b-9450-fec7a73277d3/stateB/frame78/dhdl78.xvg /inout/6141dcac-857b-4f9b-9450-fec7a73277d3/stateB/frame79/dhdl79.xvg /inout/6141dcac-857b-4f9b-9450-fec7a73277d3/stateB/frame8/dhdl8.xvg /inout/6141dcac-857b-4f9b-9450-fec7a73277d3/stateB/frame80/dhdl80.xvg /inout/6141dcac-857b-4f9b-9450-fec7a73277d3/stateB/frame81/dhdl81.xvg /inout/6141dcac-857b-4f9b-9450-fec7a73277d3/stateB/frame82/dhdl82.xvg /inout/6141dcac-857b-4f9b-9450-fec7a73277d3/stateB/frame83/dhdl83.xvg /inout/6141dcac-857b-4f9b-9450-fec7a73277d3/stateB/frame84/dhdl84.xvg /inout/6141dcac-857b-4f9b-9450-fec7a73277d3/stateB/frame85/dhdl85.xvg /inout/6141dcac-857b-4f9b-9450-fec7a73277d3/stateB/frame86/dhdl86.xvg /inout/6141dcac-857b-4f9b-9450-fec7a73277d3/stateB/frame87/dhdl87.xvg /inout/6141dcac-857b-4f9b-9450-fec7a73277d3/stateB/frame88/dhdl88.xvg /inout/6141dcac-857b-4f9b-9450-fec7a73277d3/stateB/frame89/dhdl89.xvg /inout/6141dcac-857b-4f9b-9450-fec7a73277d3/stateB/frame9/dhdl9.xvg /inout/6141dcac-857b-4f9b-9450-fec7a73277d3/stateB/frame90/dhdl90.xvg /inout/6141dcac-857b-4f9b-9450-fec7a73277d3/stateB/frame91/dhdl91.xvg /inout/6141dcac-857b-4f9b-9450-fec7a73277d3/stateB/frame92/dhdl92.xvg /inout/6141dcac-857b-4f9b-9450-fec7a73277d3/stateB/frame93/dhdl93.xvg /inout/6141dcac-857b-4f9b-9450-fec7a73277d3/stateB/frame94/dhdl94.xvg /inout/6141dcac-857b-4f9b-9450-fec7a73277d3/stateB/frame95/dhdl95.xvg /inout/6141dcac-857b-4f9b-9450-fec7a73277d3/stateB/frame96/dhdl96.xvg /inout/6141dcac-857b-4f9b-9450-fec7a73277d3/stateB/frame97/dhdl97.xvg /inout/6141dcac-857b-4f9b-9450-fec7a73277d3/stateB/frame98/dhdl98.xvg /inout/6141dcac-857b-4f9b-9450-fec7a73277d3/stateB/frame99/dhdl99.xvg -o /inout/pmx.outputs --work_plot /inout/pmx.plots.png --reverseB\"\n",
      "\n"
     ]
    },
    {
     "name": "stderr",
     "output_type": "stream",
     "text": [
      "2019-12-04 17:59:32,333 [MainThread  ] [INFO ]  Exit code 0\n",
      "\n",
      "2019-12-04 17:59:32,334 [MainThread  ] [INFO ]  \n",
      "\n",
      " ========================================================\n",
      "                   PROCESSING THE DATA\n",
      " ========================================================\n",
      "  Forward Data\n",
      "    # data points: 25001\n",
      "    Length of trajectory:   50.000 ps\n",
      "    Delta lambda:  0.00004\n",
      "    Reading /inout/a01ac477-274e-4343-901a-4fd8afde426f/stateA/frame99/dhdl99.xvg\n",
      "\n",
      "  Reverse Data\n",
      "    # data points: 25001\n",
      "    Length of trajectory:   50.000 ps\n",
      "    Delta lambda: -0.00004\n",
      "    Reading /inout/6141dcac-857b-4f9b-9450-fec7a73277d3/stateB/frame99/dhdl99.xvg\n",
      "\n",
      " ========================================================\n",
      "                       ANALYSIS\n",
      " ========================================================\n",
      "  Number of forward (0->1) trajectories: 100\n",
      "  Number of reverse (1->0) trajectories: 100\n",
      "  Temperature : 298.15 K\n",
      "\n",
      " --------------------------------------------------------\n",
      "             Crooks Gaussian Intersection     \n",
      " --------------------------------------------------------\n",
      "  Calculating Intersection...\n",
      "  Bootstrap (Std Err): iteration 100/100\n",
      "  CGI: Forward Gauss mean =    13.51 kJ/mol std =     4.03 kJ/mol\n",
      "  CGI: Reverse Gauss mean =    -5.40 kJ/mol std =     8.49 kJ/mol\n",
      "  CGI: dG =     6.14 kJ/mol\n",
      "  CGI: Std Err (bootstrap:parametric) =     0.47 kJ/mol\n",
      "  CGI: Std Err (bootstrap) =     0.51 kJ/mol\n",
      "\n",
      "  Running KS-test...\n",
      "    Forward: gaussian quality = 0.41\n",
      "             ---> KS-Test Ok\n",
      "    Reverse: gaussian quality = 0.98\n",
      "             ---> KS-Test Ok\n",
      "\n",
      " --------------------------------------------------------\n",
      "             Bennett Acceptance Ratio     \n",
      " --------------------------------------------------------\n",
      "  Running Nelder-Mead Simplex algorithm... \n",
      "  Bootstrap (Std Err): iteration 100/100\n",
      "  Bootstrap (Conv): iteration 100/100\n",
      "  BAR: dG =     6.17 kJ/mol\n",
      "  BAR: Std Err (analytical) =     0.59 kJ/mol\n",
      "  BAR: Std Err (bootstrap)  =     0.50 kJ/mol\n",
      "  BAR: Conv =     0.15\n",
      "  BAR: Conv Std Err (bootstrap) =     0.07\n",
      "\n",
      " --------------------------------------------------------\n",
      "             Jarzynski estimator     \n",
      " --------------------------------------------------------\n",
      "  Bootstrap (Std Err): iteration 100/100\n",
      "  Bootstrap (Std Err): iteration 100/100\n",
      "  JARZ: dG Forward =    10.24 kJ/mol\n",
      "  JARZ: dG Reverse =     4.34 kJ/mol\n",
      "  JARZ: dG Mean    =     7.29 kJ/mol\n",
      "  JARZ: Std Err Forward (bootstrap) =     0.58 kJ/mol\n",
      "  JARZ: Std Err Reverse (bootstrap) =     1.13 kJ/mol\n",
      "Running Jarzynski Gaussian approximation analysis...\n",
      "  Bootstrap (Std Err): iteration 100/100\n",
      "  Bootstrap (Std Err): iteration 100/100\n",
      "  JARZ_Gauss: dG Forward =    10.19 kJ/mol\n",
      "  JARZ_Gauss: dG Reverse =     9.28 kJ/mol\n",
      "  JARZ_Gauss: dG Mean    =     9.74 kJ/mol\n",
      "  JARZ_Gauss: Std Err (analytical) Forward =     0.62 kJ/mol\n",
      "  JARZ_Gauss: Std Err (analytical) Reverse =     2.25 kJ/mol\n",
      "  JARZ_Gauss: Std Err Forward (bootstrap) =     0.70 kJ/mol\n",
      "  JARZ_Gauss: Std Err Reverse (bootstrap) =     2.26 kJ/mol\n",
      " ========================================================\n",
      "\n",
      "   Plotting histograms......\n",
      "\n",
      "   ......done...........\n",
      "\n",
      "   Execution time = 00:00:14\n",
      "\n",
      "\n"
     ]
    },
    {
     "ename": "PermissionError",
     "evalue": "[Errno 13] Permission denied: 'pmx.outputs'",
     "output_type": "error",
     "traceback": [
      "\u001b[0;31m---------------------------------------------------------------------------\u001b[0m",
      "\u001b[0;31mPermissionError\u001b[0m                           Traceback (most recent call last)",
      "\u001b[0;32m<ipython-input-20-dffc79cde850>\u001b[0m in \u001b[0;36m<module>\u001b[0;34m\u001b[0m\n\u001b[1;32m     29\u001b[0m         \u001b[0moutput_result_path\u001b[0m\u001b[0;34m=\u001b[0m\u001b[0moutput_result\u001b[0m\u001b[0;34m,\u001b[0m\u001b[0;34m\u001b[0m\u001b[0m\n\u001b[1;32m     30\u001b[0m         \u001b[0moutput_work_plot_path\u001b[0m\u001b[0;34m=\u001b[0m\u001b[0moutput_work_plot\u001b[0m\u001b[0;34m,\u001b[0m\u001b[0;34m\u001b[0m\u001b[0m\n\u001b[0;32m---> 31\u001b[0;31m         properties=prop).launch()\n\u001b[0m",
      "\u001b[0;32m~/projects/BioBB/biobb_common/biobb_common/tools/file_utils.py\u001b[0m in \u001b[0;36mwrapper_log\u001b[0;34m(*args, **kwargs)\u001b[0m\n\u001b[1;32m    272\u001b[0m         args[0].out_log, args[0].err_log = get_logs(path=args[0].path, prefix=args[0].prefix, step=args[0].step,\n\u001b[1;32m    273\u001b[0m                                                     can_write_console=args[0].can_write_console_log)\n\u001b[0;32m--> 274\u001b[0;31m         \u001b[0mvalue\u001b[0m \u001b[0;34m=\u001b[0m \u001b[0mfunc\u001b[0m\u001b[0;34m(\u001b[0m\u001b[0;34m*\u001b[0m\u001b[0margs\u001b[0m\u001b[0;34m,\u001b[0m \u001b[0;34m**\u001b[0m\u001b[0mkwargs\u001b[0m\u001b[0;34m)\u001b[0m\u001b[0;34m\u001b[0m\u001b[0m\n\u001b[0m\u001b[1;32m    275\u001b[0m         \u001b[0mhandlers\u001b[0m \u001b[0;34m=\u001b[0m \u001b[0margs\u001b[0m\u001b[0;34m[\u001b[0m\u001b[0;36m0\u001b[0m\u001b[0;34m]\u001b[0m\u001b[0;34m.\u001b[0m\u001b[0mout_log\u001b[0m\u001b[0;34m.\u001b[0m\u001b[0mhandlers\u001b[0m\u001b[0;34m[\u001b[0m\u001b[0;34m:\u001b[0m\u001b[0;34m]\u001b[0m  \u001b[0;31m# Create a copy [:] of the handler list to be able to modify it while we are iterating\u001b[0m\u001b[0;34m\u001b[0m\u001b[0m\n\u001b[1;32m    276\u001b[0m         \u001b[0;32mfor\u001b[0m \u001b[0mhandler\u001b[0m \u001b[0;32min\u001b[0m \u001b[0mhandlers\u001b[0m\u001b[0;34m:\u001b[0m\u001b[0;34m\u001b[0m\u001b[0m\n",
      "\u001b[0;32m~/projects/BioBB/biobb_pmx/biobb_pmx/pmx/analyse.py\u001b[0m in \u001b[0;36mlaunch\u001b[0;34m(self)\u001b[0m\n\u001b[1;32m    193\u001b[0m                                  out_log=out_log, global_log=self.global_log)\n\u001b[1;32m    194\u001b[0m         \u001b[0mreturncode\u001b[0m \u001b[0;34m=\u001b[0m \u001b[0mcmd_wrapper\u001b[0m\u001b[0;34m.\u001b[0m\u001b[0mCmdWrapper\u001b[0m\u001b[0;34m(\u001b[0m\u001b[0mcmd\u001b[0m\u001b[0;34m,\u001b[0m \u001b[0mout_log\u001b[0m\u001b[0;34m,\u001b[0m \u001b[0merr_log\u001b[0m\u001b[0;34m,\u001b[0m \u001b[0mself\u001b[0m\u001b[0;34m.\u001b[0m\u001b[0mglobal_log\u001b[0m\u001b[0;34m)\u001b[0m\u001b[0;34m.\u001b[0m\u001b[0mlaunch\u001b[0m\u001b[0;34m(\u001b[0m\u001b[0;34m)\u001b[0m\u001b[0;34m\u001b[0m\u001b[0m\n\u001b[0;32m--> 195\u001b[0;31m         \u001b[0mfu\u001b[0m\u001b[0;34m.\u001b[0m\u001b[0mcopy_to_host\u001b[0m\u001b[0;34m(\u001b[0m\u001b[0mself\u001b[0m\u001b[0;34m.\u001b[0m\u001b[0mcontainer_path\u001b[0m\u001b[0;34m,\u001b[0m \u001b[0mcontainer_io_dict\u001b[0m\u001b[0;34m,\u001b[0m \u001b[0mself\u001b[0m\u001b[0;34m.\u001b[0m\u001b[0mio_dict\u001b[0m\u001b[0;34m)\u001b[0m\u001b[0;34m\u001b[0m\u001b[0m\n\u001b[0m\u001b[1;32m    196\u001b[0m \u001b[0;34m\u001b[0m\u001b[0m\n\u001b[1;32m    197\u001b[0m         \u001b[0mtmp_files\u001b[0m\u001b[0;34m.\u001b[0m\u001b[0mappend\u001b[0m\u001b[0;34m(\u001b[0m\u001b[0mcontainer_io_dict\u001b[0m\u001b[0;34m.\u001b[0m\u001b[0mget\u001b[0m\u001b[0;34m(\u001b[0m\u001b[0;34m\"unique_dir\"\u001b[0m\u001b[0;34m)\u001b[0m\u001b[0;34m)\u001b[0m\u001b[0;34m\u001b[0m\u001b[0m\n",
      "\u001b[0;32m~/projects/BioBB/biobb_common/biobb_common/tools/file_utils.py\u001b[0m in \u001b[0;36mcopy_to_host\u001b[0;34m(container_path, container_io_dict, io_dict)\u001b[0m\n\u001b[1;32m    421\u001b[0m             \u001b[0mcontainer_file_path\u001b[0m \u001b[0;34m=\u001b[0m \u001b[0mos\u001b[0m\u001b[0;34m.\u001b[0m\u001b[0mpath\u001b[0m\u001b[0;34m.\u001b[0m\u001b[0mjoin\u001b[0m\u001b[0;34m(\u001b[0m\u001b[0mcontainer_io_dict\u001b[0m\u001b[0;34m[\u001b[0m\u001b[0;34m\"unique_dir\"\u001b[0m\u001b[0;34m]\u001b[0m\u001b[0;34m,\u001b[0m \u001b[0mos\u001b[0m\u001b[0;34m.\u001b[0m\u001b[0mpath\u001b[0m\u001b[0;34m.\u001b[0m\u001b[0mbasename\u001b[0m\u001b[0;34m(\u001b[0m\u001b[0mfile_path\u001b[0m\u001b[0;34m)\u001b[0m\u001b[0;34m)\u001b[0m\u001b[0;34m\u001b[0m\u001b[0m\n\u001b[1;32m    422\u001b[0m             \u001b[0;32mif\u001b[0m \u001b[0mos\u001b[0m\u001b[0;34m.\u001b[0m\u001b[0mpath\u001b[0m\u001b[0;34m.\u001b[0m\u001b[0mexists\u001b[0m\u001b[0;34m(\u001b[0m\u001b[0mcontainer_file_path\u001b[0m\u001b[0;34m)\u001b[0m\u001b[0;34m:\u001b[0m\u001b[0;34m\u001b[0m\u001b[0m\n\u001b[0;32m--> 423\u001b[0;31m                 \u001b[0mshutil\u001b[0m\u001b[0;34m.\u001b[0m\u001b[0mcopy2\u001b[0m\u001b[0;34m(\u001b[0m\u001b[0mcontainer_file_path\u001b[0m\u001b[0;34m,\u001b[0m \u001b[0mio_dict\u001b[0m\u001b[0;34m[\u001b[0m\u001b[0;34m\"out\"\u001b[0m\u001b[0;34m]\u001b[0m\u001b[0;34m[\u001b[0m\u001b[0mfile_ref\u001b[0m\u001b[0;34m]\u001b[0m\u001b[0;34m)\u001b[0m\u001b[0;34m\u001b[0m\u001b[0m\n\u001b[0m\u001b[1;32m    424\u001b[0m \u001b[0;34m\u001b[0m\u001b[0m\n\u001b[1;32m    425\u001b[0m \u001b[0;34m\u001b[0m\u001b[0m\n",
      "\u001b[0;32m/anaconda3/envs/biobb_dev/lib/python3.6/shutil.py\u001b[0m in \u001b[0;36mcopy2\u001b[0;34m(src, dst, follow_symlinks)\u001b[0m\n\u001b[1;32m    249\u001b[0m     \u001b[0;32mif\u001b[0m \u001b[0mos\u001b[0m\u001b[0;34m.\u001b[0m\u001b[0mpath\u001b[0m\u001b[0;34m.\u001b[0m\u001b[0misdir\u001b[0m\u001b[0;34m(\u001b[0m\u001b[0mdst\u001b[0m\u001b[0;34m)\u001b[0m\u001b[0;34m:\u001b[0m\u001b[0;34m\u001b[0m\u001b[0m\n\u001b[1;32m    250\u001b[0m         \u001b[0mdst\u001b[0m \u001b[0;34m=\u001b[0m \u001b[0mos\u001b[0m\u001b[0;34m.\u001b[0m\u001b[0mpath\u001b[0m\u001b[0;34m.\u001b[0m\u001b[0mjoin\u001b[0m\u001b[0;34m(\u001b[0m\u001b[0mdst\u001b[0m\u001b[0;34m,\u001b[0m \u001b[0mos\u001b[0m\u001b[0;34m.\u001b[0m\u001b[0mpath\u001b[0m\u001b[0;34m.\u001b[0m\u001b[0mbasename\u001b[0m\u001b[0;34m(\u001b[0m\u001b[0msrc\u001b[0m\u001b[0;34m)\u001b[0m\u001b[0;34m)\u001b[0m\u001b[0;34m\u001b[0m\u001b[0m\n\u001b[0;32m--> 251\u001b[0;31m     \u001b[0mcopyfile\u001b[0m\u001b[0;34m(\u001b[0m\u001b[0msrc\u001b[0m\u001b[0;34m,\u001b[0m \u001b[0mdst\u001b[0m\u001b[0;34m,\u001b[0m \u001b[0mfollow_symlinks\u001b[0m\u001b[0;34m=\u001b[0m\u001b[0mfollow_symlinks\u001b[0m\u001b[0;34m)\u001b[0m\u001b[0;34m\u001b[0m\u001b[0m\n\u001b[0m\u001b[1;32m    252\u001b[0m     \u001b[0mcopystat\u001b[0m\u001b[0;34m(\u001b[0m\u001b[0msrc\u001b[0m\u001b[0;34m,\u001b[0m \u001b[0mdst\u001b[0m\u001b[0;34m,\u001b[0m \u001b[0mfollow_symlinks\u001b[0m\u001b[0;34m=\u001b[0m\u001b[0mfollow_symlinks\u001b[0m\u001b[0;34m)\u001b[0m\u001b[0;34m\u001b[0m\u001b[0m\n\u001b[1;32m    253\u001b[0m     \u001b[0;32mreturn\u001b[0m \u001b[0mdst\u001b[0m\u001b[0;34m\u001b[0m\u001b[0m\n",
      "\u001b[0;32m/anaconda3/envs/biobb_dev/lib/python3.6/shutil.py\u001b[0m in \u001b[0;36mcopyfile\u001b[0;34m(src, dst, follow_symlinks)\u001b[0m\n\u001b[1;32m    113\u001b[0m     \u001b[0;32melse\u001b[0m\u001b[0;34m:\u001b[0m\u001b[0;34m\u001b[0m\u001b[0m\n\u001b[1;32m    114\u001b[0m         \u001b[0;32mwith\u001b[0m \u001b[0mopen\u001b[0m\u001b[0;34m(\u001b[0m\u001b[0msrc\u001b[0m\u001b[0;34m,\u001b[0m \u001b[0;34m'rb'\u001b[0m\u001b[0;34m)\u001b[0m \u001b[0;32mas\u001b[0m \u001b[0mfsrc\u001b[0m\u001b[0;34m:\u001b[0m\u001b[0;34m\u001b[0m\u001b[0m\n\u001b[0;32m--> 115\u001b[0;31m             \u001b[0;32mwith\u001b[0m \u001b[0mopen\u001b[0m\u001b[0;34m(\u001b[0m\u001b[0mdst\u001b[0m\u001b[0;34m,\u001b[0m \u001b[0;34m'wb'\u001b[0m\u001b[0;34m)\u001b[0m \u001b[0;32mas\u001b[0m \u001b[0mfdst\u001b[0m\u001b[0;34m:\u001b[0m\u001b[0;34m\u001b[0m\u001b[0m\n\u001b[0m\u001b[1;32m    116\u001b[0m                 \u001b[0mcopyfileobj\u001b[0m\u001b[0;34m(\u001b[0m\u001b[0mfsrc\u001b[0m\u001b[0;34m,\u001b[0m \u001b[0mfdst\u001b[0m\u001b[0;34m)\u001b[0m\u001b[0;34m\u001b[0m\u001b[0m\n\u001b[1;32m    117\u001b[0m     \u001b[0;32mreturn\u001b[0m \u001b[0mdst\u001b[0m\u001b[0;34m\u001b[0m\u001b[0m\n",
      "\u001b[0;31mPermissionError\u001b[0m: [Errno 13] Permission denied: 'pmx.outputs'"
     ]
    }
   ],
   "source": [
    "# pmx analyse: analyze_dhdl command from pmx package\n",
    "\n",
    "# Import module\n",
    "from biobb_pmx.pmx.analyse import Analyse\n",
    "\n",
    "# Create prop dict and inputs/outputs\n",
    "\n",
    "# Workflow-generated results should be used if a minimum number of transitions are calculated.\n",
    "#state_A_xvg_zip = 'dhdlsA.zip'\n",
    "#state_B_xvg_zip = 'dhdlsB.zip'\n",
    "\n",
    "# In this particular case, as the tutorial is just computing 1 transition (forward + reverse),\n",
    "# values taken from a real run of the snase example will be used instead.\n",
    "state_A_xvg_zip = 'pmx_tutorial/dhdlA.zip'\n",
    "state_B_xvg_zip = 'pmx_tutorial/dhdlB.zip'\n",
    "\n",
    "output_result = 'pmx.outputs'\n",
    "output_work_plot = 'pmx.plots.png'\n",
    "  \n",
    "prop = {\n",
    "    'reverseB' : True,\n",
    "    'container_path' : 'docker',\n",
    "    'container_image' : 'mmbirb/pmx'\n",
    "}\n",
    "\n",
    "#Create and launch bb\n",
    "Analyse(input_a_xvg_zip_path=state_A_xvg_zip,\n",
    "        input_b_xvg_zip_path=state_B_xvg_zip,\n",
    "        output_result_path=output_result,\n",
    "        output_work_plot_path=output_work_plot,\n",
    "        properties=prop).launch()\n"
   ]
  },
  {
   "cell_type": "markdown",
   "metadata": {
    "variables": {
     "output_result": "pmx.outputs",
     "output_work_plot": "pmx.plots.png"
    }
   },
   "source": [
    "<a id=\"output\"></a>\n",
    "## Output files\n",
    "\n",
    "Important **Output files** generated:\n",
    " - {{output_result}}: **Final free energy estimation**. Summary of information got applying the different methods.\n",
    " - {{output_work_plot}}: **Final free energy plot** of the **Mutation free energy** pipeline."
   ]
  },
  {
   "cell_type": "markdown",
   "metadata": {},
   "source": [
    "***\n",
    "<a id=\"questions\"></a>\n",
    "## Questions & Comments\n",
    "\n",
    "Questions, issues, suggestions and comments are really welcome! \n",
    "\n",
    "* GitHub issues: \n",
    "    * https://github.com/bioexcel/biobb\n",
    "* BioExcel forum:\n",
    "    * https://ask.bioexcel.eu/  (TODO: biobb category)"
   ]
  },
  {
   "cell_type": "code",
   "execution_count": null,
   "metadata": {},
   "outputs": [],
   "source": []
  }
 ],
 "metadata": {
  "anaconda-cloud": {},
  "kernelspec": {
   "display_name": "Python 3",
   "language": "python",
   "name": "python3"
  },
  "language_info": {
   "codemirror_mode": {
    "name": "ipython",
    "version": 3
   },
   "file_extension": ".py",
   "mimetype": "text/x-python",
   "name": "python",
   "nbconvert_exporter": "python",
   "pygments_lexer": "ipython3",
   "version": "3.6.0"
  }
 },
 "nbformat": 4,
 "nbformat_minor": 2
}

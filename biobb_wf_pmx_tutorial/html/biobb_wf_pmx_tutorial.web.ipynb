{
 "cells": [
  {
   "cell_type": "markdown",
   "metadata": {},
   "source": [
    "# Mutation Free Energy Calculations using BioExcel Building Blocks (biobb)\n",
    "### Based on the official pmx tutorial: http://pmx.mpibpc.mpg.de/sardinia2018_tutorial1/index.html\n",
    "***"
   ]
  },
  {
   "cell_type": "markdown",
   "metadata": {},
   "source": [
    "<div style=\"background:#b5e0dd;padding:15px;\"><strong>Important:</strong> This tutorial is using a <strong>Docker container</strong> to run <strong>pmx</strong>. To use a local installation of <strong>pmx</strong>, just modify the appropriate properties parameter <strong>pmx_cli_path</strong>.</div>"
   ]
  },
  {
   "cell_type": "markdown",
   "metadata": {},
   "source": [
    "This tutorial aims to illustrate how to compute a **fast-growth** **mutation free energy** calculation, step by step, using the **BioExcel Building Blocks library (biobb)**. The particular example used is the **Staphylococcal nuclease** protein (PDB code 1STN), a small, minimal protein, appropriate for a short tutorial. \n",
    "\n",
    "The **non-equilibrium free energy calculation** protocol performs a **fast alchemical transition** in the direction **WT->Mut** and back **Mut->WT**. The two **equilibrium trajectories** needed for the tutorial, one for **Wild Type (WT)** and another for the **Mutated (Mut)** protein (Isoleucine 10 to Alanine -I10A-), have already been generated and are included in this example.  We will name **WT as stateA** and **Mut as stateB**."
   ]
  },
  {
   "cell_type": "markdown",
   "metadata": {},
   "source": [
    "<img src=\"schema.png\" />"
   ]
  },
  {
   "cell_type": "markdown",
   "metadata": {},
   "source": [
    "The tutorial calculates the **free energy difference** in the folded state of a protein. Starting from **two 1ns-length independent equilibrium simulations** (WT and mutant), snapshots are selected to start **fast (50ps) transitions** driving the system in the **forward** (WT to mutant) and **reverse** (mutant to WT) directions, and the **work values** required to perform these transitions are collected. With these values, **Crooks Gaussian Intersection** (CGI), **Bennett Acceptance Ratio** (BAR) and **Jarzynski estimator** methods are used to calculate the **free energy difference** between the two states.\n",
    "\n",
    "*Please note that for the sake of disk space this tutorial is using 1ns-length equilibrium trajectories, whereas in the [original example](http://pmx.mpibpc.mpg.de/sardinia2018_tutorial1/eq.mdp) the equilibrium trajectories used were obtained from 10ns-length simulations.*\n",
    "***\n",
    "**Biobb modules** used:\n",
    "\n",
    " - [biobb_pmx](https://github.com/bioexcel/biobb_pmx): Tools to setup and run Alchemical Free Energy calculations.\n",
    " - [biobb_md](https://github.com/bioexcel/biobb_md): Tools to setup and run Molecular Dynamics simulations.\n",
    " - [biobb_analysis](https://github.com/bioexcel/biobb_analysis): Tools to analyse Molecular Dynamics trajectories.\n",
    " \n",
    "**Auxiliar libraries** used:\n",
    "\n",
    " - [nb_conda_kernels](https://github.com/Anaconda-Platform/nb_conda_kernels): Enables a Jupyter Notebook or JupyterLab application in one conda environment to access kernels for Python, R, and other languages found in other environments.\n",
    " - [os](https://docs.python.org/3/library/os.html): Python miscellaneous operating system interfaces\n",
    " - [plotly](https://plot.ly/python/offline/): Python interactive graphing library integrated in Jupyter notebooks.\n",
    "\n",
    "### Conda Installation and Launch\n",
    "\n",
    "```console\n",
    "git clone https://github.com/bioexcel/biobb_wf_pmx_tutorial.git\n",
    "cd biobb_wf_pmx_tutorial\n",
    "conda env create -f conda_env/environment.yml\n",
    "conda activate biobb_wf_pmx_tutorial\n",
    "jupyter-notebook biobb_wf_pmx_tutorial/notebooks/biobb_wf_pmx_tutorial.ipynb\n",
    "  ``` \n",
    "\n",
    "***\n",
    "### Pipeline steps:\n",
    " 1. [Workflow required files](#input)\n",
    " 2. [Extract Snapshots from Equilibrium Trajectories](#extract)\n",
    " 3. [Modelling mutated structure](#mut)\n",
    " 4. [Create Protein System Topology](#top)\n",
    " 5. [Generate Hybrid Topology](#hybridtop)\n",
    " 6. [Creating an index file for the dummy atoms in the morphed structure](#index)\n",
    " 7. [Energetically Minimize the System](#min)\n",
    " 8. [Equilibrate the System (NPT)](#npt)\n",
    " 9. [Free Energy Simulation](#free)\n",
    " 10. [Free Energy Estimation](#post)\n",
    " 11. [Output Files](#output)\n",
    " 12. [Questions & Comments](#questions)"
   ]
  },
  {
   "cell_type": "markdown",
   "metadata": {},
   "source": [
    "***\n",
    "<img style=\"width:400px;\" src=\"logo.png\" />\n",
    "\n",
    "***"
   ]
  },
  {
   "cell_type": "markdown",
   "metadata": {},
   "source": [
    "<a id=\"input\"></a>\n",
    "## Workflow required files\n",
    "Workflow **Input files** needed:\n",
    " - **stateA_traj**: Equilibrium trajectory for the **WT protein**.\n",
    " - **stateB_traj**: Equilibrium trajectory for the **Mutated protein**.\n",
    " - **stateA_tpr**: **WT protein topology** (GROMACS tpr format).\n",
    " - **stateB_tpr**: **Mutated protein topology** (GROMACS tpr format).\n",
    " \n",
    "Auxiliar **force field libraries** needed:\n",
    " - **mutff45** (folder): pmx mutation force field libraries. \n",
    " \n",
    "Collected **transitions work values**:  \n",
    " - **dhdlA.zip**: **Forward** work values required to illustrate how to perform the last step of the pmx workflow with real values, to extract the **free energy**.\n",
    " - **dhdlB.zip**: **Reverse** work values required to illustrate how to perform the last step of the pmx workflow with real values, to extract the **free energy**.\n",
    " "
   ]
  },
  {
   "cell_type": "code",
   "execution_count": 1,
   "metadata": {},
   "outputs": [],
   "source": [
    "import os\n",
    "import zipfile\n",
    "\n",
    "cwd = os.getcwd()\n",
    "gmxlib = cwd + \"/pmx_tutorial/mutff45\"\n",
    "\n",
    "stateA_traj = cwd + \"/pmx_tutorial/stateA_1ns.xtc\"\n",
    "stateA_tpr = cwd + \"/pmx_tutorial/stateA.tpr\"\n",
    "\n",
    "stateB_traj = cwd + \"/pmx_tutorial/stateB_1ns.xtc\"\n",
    "stateB_tpr = cwd + \"/pmx_tutorial/stateB.tpr\""
   ]
  },
  {
   "cell_type": "markdown",
   "metadata": {},
   "source": [
    "<a id=\"extract\"></a>\n",
    "## Extract Snapshots from Equilibrium Trajectories\n",
    "**Extract snapshots** from **equilibrium trajectories** (stateA, stateB).\n",
    "\n",
    "In the **fast-growth method**, the **free energy difference** in the folded state of a protein is calculated from **two independent equilibrium simulations**, **WT** and **mutant**. These simulations need to **sufficiently sample** the **end state ensembles**, as the **free energy accuracy** will depend on the **sampling convergence**. Typically the equilibrium simulations are in the **nanosecond to microsecond time range**. From the generated trajectories, a suitable number of **snapshots** are selected to start **fast (typically 10 - 200 ps) transitions** driving the system in the **forward (WT to mutant)** and **reverse (mutant to WT)** directions. This particular step **extracts the snapshots** from the **input equilibrium trajectories**. \n",
    "\n",
    "In this tutorial, just **5 snapshots** for each state (forward, reverse) are generated, for **illustration purposes**. In a real example, both **input trajectories should be longer** (10ns upwards) and the **number of extracted snapshots higher**. The number of suitable number of snapshots depend on the **complexity of the mutation**. Larger perturbations will take **longer to converge** in the simulation, so a smaller or more conservative change might be more promising. \n",
    "\n",
    "**WT snapshots**: **stateA**   //    **Mutant snapshots**: **stateB**\n",
    "***\n",
    "**Building Blocks** used:\n",
    " - [GMXTrjConvStrEns](https://biobb-analysis.readthedocs.io/en/latest/gromacs.html#gromacs-gmx-trjconv-str-ens-module) from **biobb_analysis.gromacs.gmx_trjconv_str_ens**\n",
    "***"
   ]
  },
  {
   "cell_type": "code",
   "execution_count": 2,
   "metadata": {},
   "outputs": [
    {
     "name": "stderr",
     "output_type": "stream",
     "text": [
      "2020-06-10 13:43:41,146 [MainThread  ] [INFO ]  Creating 1f6f227f-4f07-45a0-b63e-0a83a34081c4 temporary folder\n",
      "2020-06-10 13:43:41,147 [MainThread  ] [INFO ]  Not using any container\n",
      "2020-06-10 13:43:42,819 [MainThread  ] [INFO ]  echo \"System\" | gmx trjconv -f /home/gbayarri_local/projects/BioBB/tutorials/biobb_wf_pmx_tutorial/biobb_wf_pmx_tutorial/notebooks/pmx_tutorial/stateA_1ns.xtc -s /home/gbayarri_local/projects/BioBB/tutorials/biobb_wf_pmx_tutorial/biobb_wf_pmx_tutorial/notebooks/pmx_tutorial/stateA.tpr -skip 1 -b 1 -dt 200 -sep -o 1f6f227f-4f07-45a0-b63e-0a83a34081c4/frameA.pdb -e 1000\n",
      "\n",
      "2020-06-10 13:43:42,820 [MainThread  ] [INFO ]  Exit code 0\n",
      "\n",
      "2020-06-10 13:43:42,820 [MainThread  ] [INFO ]  Note that major changes are planned in future for trjconv, to improve usability and utility.Select group for output\n",
      "Selected 0: 'System'\n",
      "\n",
      "2020-06-10 13:43:42,821 [MainThread  ] [INFO ]                        :-) GROMACS - gmx trjconv, 2019 (-:\n",
      "\n",
      "                            GROMACS is written by:\n",
      "     Emile Apol      Rossen Apostolov      Paul Bauer     Herman J.C. Berendsen\n",
      "    Par Bjelkmar      Christian Blau   Viacheslav Bolnykh     Kevin Boyd    \n",
      " Aldert van Buuren   Rudi van Drunen     Anton Feenstra       Alan Gray     \n",
      "  Gerrit Groenhof     Anca Hamuraru    Vincent Hindriksen  M. Eric Irrgang  \n",
      "  Aleksei Iupinov   Christoph Junghans     Joe Jordan     Dimitrios Karkoulis\n",
      "    Peter Kasson        Jiri Kraus      Carsten Kutzner      Per Larsson    \n",
      "  Justin A. Lemkul    Viveca Lindahl    Magnus Lundborg     Erik Marklund   \n",
      "    Pascal Merz     Pieter Meulenhoff    Teemu Murtola       Szilard Pall   \n",
      "    Sander Pronk      Roland Schulz      Michael Shirts    Alexey Shvetsov  \n",
      "   Alfons Sijbers     Peter Tieleman      Jon Vincent      Teemu Virolainen \n",
      " Christian Wennberg    Maarten Wolf   \n",
      "                           and the project leaders:\n",
      "        Mark Abraham, Berk Hess, Erik Lindahl, and David van der Spoel\n",
      "\n",
      "Copyright (c) 1991-2000, University of Groningen, The Netherlands.\n",
      "Copyright (c) 2001-2018, The GROMACS development team at\n",
      "Uppsala University, Stockholm University and\n",
      "the Royal Institute of Technology, Sweden.\n",
      "check out http://www.gromacs.org for more information.\n",
      "\n",
      "GROMACS is free software; you can redistribute it and/or modify it\n",
      "under the terms of the GNU Lesser General Public License\n",
      "as published by the Free Software Foundation; either version 2.1\n",
      "of the License, or (at your option) any later version.\n",
      "\n",
      "GROMACS:      gmx trjconv, version 2019\n",
      "Executable:   /usr/local/gromacs/bin/gmx\n",
      "Data prefix:  /usr/local/gromacs\n",
      "Working dir:  /home/gbayarri_local/projects/BioBB/tutorials/biobb_wf_pmx_tutorial/biobb_wf_pmx_tutorial/notebooks\n",
      "Command line:\n",
      "  gmx trjconv -f /home/gbayarri_local/projects/BioBB/tutorials/biobb_wf_pmx_tutorial/biobb_wf_pmx_tutorial/notebooks/pmx_tutorial/stateA_1ns.xtc -s /home/gbayarri_local/projects/BioBB/tutorials/biobb_wf_pmx_tutorial/biobb_wf_pmx_tutorial/notebooks/pmx_tutorial/stateA.tpr -skip 1 -b 1 -dt 200 -sep -o 1f6f227f-4f07-45a0-b63e-0a83a34081c4/frameA.pdb -e 1000\n",
      "\n",
      "Will write pdb: Protein data bank file\n",
      "Reading file /home/gbayarri_local/projects/BioBB/tutorials/biobb_wf_pmx_tutorial/biobb_wf_pmx_tutorial/notebooks/pmx_tutorial/stateA.tpr, VERSION 4.6.4-dev-20131114-c1cb6d2 (single precision)\n",
      "Reading file /home/gbayarri_local/projects/BioBB/tutorials/biobb_wf_pmx_tutorial/biobb_wf_pmx_tutorial/notebooks/pmx_tutorial/stateA.tpr, VERSION 4.6.4-dev-20131114-c1cb6d2 (single precision)\n",
      "Group     0 (         System) has 35144 elements\n",
      "Group     1 (        Protein) has  2226 elements\n",
      "Group     2 (      Protein-H) has  1092 elements\n",
      "Group     3 (        C-alpha) has   136 elements\n",
      "Group     4 (       Backbone) has   408 elements\n",
      "Group     5 (      MainChain) has   545 elements\n",
      "Group     6 (   MainChain+Cb) has   672 elements\n",
      "Group     7 (    MainChain+H) has   677 elements\n",
      "Group     8 (      SideChain) has  1549 elements\n",
      "Group     9 (    SideChain-H) has   547 elements\n",
      "Group    10 (    Prot-Masses) has  2226 elements\n",
      "Group    11 (    non-Protein) has 32918 elements\n",
      "Group    12 (          Water) has 32844 elements\n",
      "Group    13 (            SOL) has 32844 elements\n",
      "Group    14 (      non-Water) has  2300 elements\n",
      "Group    15 (          Other) has    74 elements\n",
      "Group    16 (            NaJ) has    32 elements\n",
      "Group    17 (            ClJ) has    42 elements\n",
      "Reading frame       0 time   20.000   \n",
      "Precision of /home/gbayarri_local/projects/BioBB/tutorials/biobb_wf_pmx_tutorial/biobb_wf_pmx_tutorial/notebooks/pmx_tutorial/stateA_1ns.xtc is 0.001 (nm)\n",
      "Reading frame      40 time  820.000    ->  frame      4 time  820.000      \n",
      "\n",
      "\n",
      "GROMACS reminds you: \"A program that has not been tested does not work.\" (Bjarne Stroustrup)\n",
      "\n",
      "\n",
      "2020-06-10 13:43:42,862 [MainThread  ] [INFO ]  Adding:\n",
      "2020-06-10 13:43:42,863 [MainThread  ] [INFO ]  [PosixPath('1f6f227f-4f07-45a0-b63e-0a83a34081c4/frameA0.pdb'), PosixPath('1f6f227f-4f07-45a0-b63e-0a83a34081c4/frameA1.pdb'), PosixPath('1f6f227f-4f07-45a0-b63e-0a83a34081c4/frameA2.pdb'), PosixPath('1f6f227f-4f07-45a0-b63e-0a83a34081c4/frameA3.pdb'), PosixPath('1f6f227f-4f07-45a0-b63e-0a83a34081c4/frameA4.pdb')]\n",
      "2020-06-10 13:43:42,864 [MainThread  ] [INFO ]  to: /home/gbayarri_local/projects/BioBB/tutorials/biobb_wf_pmx_tutorial/biobb_wf_pmx_tutorial/notebooks/stateA_frames.zip\n",
      "2020-06-10 13:43:42,867 [MainThread  ] [INFO ]  Removed temporary folder: 1f6f227f-4f07-45a0-b63e-0a83a34081c4\n",
      "2020-06-10 13:43:42,929 [MainThread  ] [INFO ]  Creating 422df4fb-54c1-4db8-a2f9-52908e93be98 temporary folder\n",
      "2020-06-10 13:43:42,930 [MainThread  ] [INFO ]  Not using any container\n",
      "2020-06-10 13:43:44,599 [MainThread  ] [INFO ]  echo \"System\" | gmx trjconv -f /home/gbayarri_local/projects/BioBB/tutorials/biobb_wf_pmx_tutorial/biobb_wf_pmx_tutorial/notebooks/pmx_tutorial/stateB_1ns.xtc -s /home/gbayarri_local/projects/BioBB/tutorials/biobb_wf_pmx_tutorial/biobb_wf_pmx_tutorial/notebooks/pmx_tutorial/stateB.tpr -skip 1 -b 1 -dt 200 -sep -o 422df4fb-54c1-4db8-a2f9-52908e93be98/frameB.pdb -e 1000\n",
      "\n",
      "2020-06-10 13:43:44,600 [MainThread  ] [INFO ]  Exit code 0\n",
      "\n",
      "2020-06-10 13:43:44,601 [MainThread  ] [INFO ]  Note that major changes are planned in future for trjconv, to improve usability and utility.Select group for output\n",
      "Selected 0: 'System'\n",
      "\n",
      "2020-06-10 13:43:44,601 [MainThread  ] [INFO ]                        :-) GROMACS - gmx trjconv, 2019 (-:\n",
      "\n",
      "                            GROMACS is written by:\n",
      "     Emile Apol      Rossen Apostolov      Paul Bauer     Herman J.C. Berendsen\n",
      "    Par Bjelkmar      Christian Blau   Viacheslav Bolnykh     Kevin Boyd    \n",
      " Aldert van Buuren   Rudi van Drunen     Anton Feenstra       Alan Gray     \n",
      "  Gerrit Groenhof     Anca Hamuraru    Vincent Hindriksen  M. Eric Irrgang  \n",
      "  Aleksei Iupinov   Christoph Junghans     Joe Jordan     Dimitrios Karkoulis\n",
      "    Peter Kasson        Jiri Kraus      Carsten Kutzner      Per Larsson    \n",
      "  Justin A. Lemkul    Viveca Lindahl    Magnus Lundborg     Erik Marklund   \n",
      "    Pascal Merz     Pieter Meulenhoff    Teemu Murtola       Szilard Pall   \n",
      "    Sander Pronk      Roland Schulz      Michael Shirts    Alexey Shvetsov  \n",
      "   Alfons Sijbers     Peter Tieleman      Jon Vincent      Teemu Virolainen \n",
      " Christian Wennberg    Maarten Wolf   \n",
      "                           and the project leaders:\n",
      "        Mark Abraham, Berk Hess, Erik Lindahl, and David van der Spoel\n",
      "\n",
      "Copyright (c) 1991-2000, University of Groningen, The Netherlands.\n",
      "Copyright (c) 2001-2018, The GROMACS development team at\n",
      "Uppsala University, Stockholm University and\n",
      "the Royal Institute of Technology, Sweden.\n",
      "check out http://www.gromacs.org for more information.\n",
      "\n",
      "GROMACS is free software; you can redistribute it and/or modify it\n",
      "under the terms of the GNU Lesser General Public License\n",
      "as published by the Free Software Foundation; either version 2.1\n",
      "of the License, or (at your option) any later version.\n",
      "\n",
      "GROMACS:      gmx trjconv, version 2019\n",
      "Executable:   /usr/local/gromacs/bin/gmx\n",
      "Data prefix:  /usr/local/gromacs\n",
      "Working dir:  /home/gbayarri_local/projects/BioBB/tutorials/biobb_wf_pmx_tutorial/biobb_wf_pmx_tutorial/notebooks\n",
      "Command line:\n",
      "  gmx trjconv -f /home/gbayarri_local/projects/BioBB/tutorials/biobb_wf_pmx_tutorial/biobb_wf_pmx_tutorial/notebooks/pmx_tutorial/stateB_1ns.xtc -s /home/gbayarri_local/projects/BioBB/tutorials/biobb_wf_pmx_tutorial/biobb_wf_pmx_tutorial/notebooks/pmx_tutorial/stateB.tpr -skip 1 -b 1 -dt 200 -sep -o 422df4fb-54c1-4db8-a2f9-52908e93be98/frameB.pdb -e 1000\n",
      "\n",
      "Will write pdb: Protein data bank file\n",
      "Reading file /home/gbayarri_local/projects/BioBB/tutorials/biobb_wf_pmx_tutorial/biobb_wf_pmx_tutorial/notebooks/pmx_tutorial/stateB.tpr, VERSION 4.6.4-dev-20131114-c1cb6d2 (single precision)\n",
      "Reading file /home/gbayarri_local/projects/BioBB/tutorials/biobb_wf_pmx_tutorial/biobb_wf_pmx_tutorial/notebooks/pmx_tutorial/stateB.tpr, VERSION 4.6.4-dev-20131114-c1cb6d2 (single precision)\n",
      "Group     0 (         System) has 35138 elements\n",
      "Group     1 (        Protein) has  2217 elements\n",
      "Group     2 (      Protein-H) has  1089 elements\n",
      "Group     3 (        C-alpha) has   136 elements\n",
      "Group     4 (       Backbone) has   408 elements\n",
      "Group     5 (      MainChain) has   545 elements\n",
      "Group     6 (   MainChain+Cb) has   672 elements\n",
      "Group     7 (    MainChain+H) has   677 elements\n",
      "Group     8 (      SideChain) has  1540 elements\n",
      "Group     9 (    SideChain-H) has   544 elements\n",
      "Group    10 (    Prot-Masses) has  2217 elements\n",
      "Group    11 (    non-Protein) has 32921 elements\n",
      "Group    12 (          Water) has 32847 elements\n",
      "Group    13 (            SOL) has 32847 elements\n",
      "Group    14 (      non-Water) has  2291 elements\n",
      "Group    15 (          Other) has    74 elements\n",
      "Group    16 (            NaJ) has    32 elements\n",
      "Group    17 (            ClJ) has    42 elements\n",
      "Reading frame       0 time   20.000   \n",
      "Precision of /home/gbayarri_local/projects/BioBB/tutorials/biobb_wf_pmx_tutorial/biobb_wf_pmx_tutorial/notebooks/pmx_tutorial/stateB_1ns.xtc is 0.001 (nm)\n",
      "Reading frame      40 time  820.000    ->  frame      4 time  820.000      \n",
      "\n",
      "\n",
      "GROMACS reminds you: \"Ludwig Boltzmann, who spent much of his life studying statistical mechanics, died in 1906, by his own hand. Paul Ehrenfest, carrying on the same work, died similarly in 1933. Now it is our turn to study statistical mechanics. Perhaps it will be wise to approach the subject cautiously.\" (David Goodstein)\n",
      "\n",
      "\n"
     ]
    },
    {
     "name": "stderr",
     "output_type": "stream",
     "text": [
      "2020-06-10 13:43:44,647 [MainThread  ] [INFO ]  Adding:\n",
      "2020-06-10 13:43:44,649 [MainThread  ] [INFO ]  [PosixPath('422df4fb-54c1-4db8-a2f9-52908e93be98/frameB0.pdb'), PosixPath('422df4fb-54c1-4db8-a2f9-52908e93be98/frameB1.pdb'), PosixPath('422df4fb-54c1-4db8-a2f9-52908e93be98/frameB2.pdb'), PosixPath('422df4fb-54c1-4db8-a2f9-52908e93be98/frameB3.pdb'), PosixPath('422df4fb-54c1-4db8-a2f9-52908e93be98/frameB4.pdb')]\n",
      "2020-06-10 13:43:44,650 [MainThread  ] [INFO ]  to: /home/gbayarri_local/projects/BioBB/tutorials/biobb_wf_pmx_tutorial/biobb_wf_pmx_tutorial/notebooks/stateB_frames.zip\n",
      "2020-06-10 13:43:44,656 [MainThread  ] [INFO ]  Removed temporary folder: 422df4fb-54c1-4db8-a2f9-52908e93be98\n"
     ]
    }
   ],
   "source": [
    "# GMXTrjConvStrEns: extract an ensemble of snapshots from a GROMACS trajectory file\n",
    "# Import module\n",
    "from biobb_analysis.gromacs.gmx_trjconv_str_ens import GMXTrjConvStrEns\n",
    "\n",
    "#### State A ####\n",
    "\n",
    "# Create prop dict and inputs/outputs (StateA)                          \n",
    "output_framesA = 'stateA_frames.zip'\n",
    "\n",
    "prop = {\n",
    "    'selection' : 'System',\n",
    "    'start': 1,    # To be changed to generate as many snapshots as needed\n",
    "    'end': 1000,   # To be changed to generate as many snapshots as needed\n",
    "    'dt': 200,     # To be changed to generate as many snapshots as needed\n",
    "    'output_name': 'frameA',\n",
    "    'output_type': 'pdb'\n",
    "}\n",
    "\n",
    "# Create and launch bb (StateA)        \n",
    "GMXTrjConvStrEns(input_traj_path=stateA_traj,\n",
    "                 input_top_path=stateA_tpr,\n",
    "                 output_str_ens_path=output_framesA,\n",
    "                 properties=prop).launch()\n",
    "\n",
    "# Extract stateA (WT) frames\n",
    "with zipfile.ZipFile(output_framesA, 'r') as zip_f:\n",
    "    zip_f.extractall()\n",
    "    stateA_pdb_list = zip_f.namelist()\n",
    "    \n",
    "#### State B #### \n",
    "    \n",
    "# Create prop dict and inputs/outputs (StateB)                                \n",
    "output_framesB = 'stateB_frames.zip'  \n",
    "    \n",
    "prop = {\n",
    "    'selection' : 'System',\n",
    "    'start': 1,   # To be changed to generate as many snapshots as needed\n",
    "    'end': 1000,  # To be changed to generate as many snapshots as needed\n",
    "    'dt': 200,    # To be changed to generate as many snapshots as needed\n",
    "    'output_name': 'frameB',\n",
    "    'output_type': 'pdb'\n",
    "}\n",
    "\n",
    "# Create and launch bb (StateB)\n",
    "GMXTrjConvStrEns(input_traj_path=stateB_traj,\n",
    "                 input_top_path=stateB_tpr,\n",
    "                 output_str_ens_path=output_framesB,\n",
    "                 properties=prop).launch()\n",
    "    \n",
    "# # Extract stateB (Mutant) frames\n",
    "with zipfile.ZipFile(output_framesB, 'r') as zip_f:\n",
    "    zip_f.extractall()\n",
    "    stateB_pdb_list = zip_f.namelist()"
   ]
  },
  {
   "cell_type": "markdown",
   "metadata": {},
   "source": [
    "***\n",
    "\n",
    "## WARNING\n",
    "For the sake of **time**, this tutorial will only compute the work values for **ONE PARTICULAR frame** of each state. In order to reproduce a **real calculation**, the steps presented in this notebook should be **repeated for the rest of the frames**. The **ensemble of computed work values** should then be used in the **final step of the workflow**, the [free energy calculation](#post).    \n",
    "***"
   ]
  },
  {
   "cell_type": "code",
   "execution_count": 4,
   "metadata": {},
   "outputs": [],
   "source": [
    "# Prepare Mutation Free Energy calculation for ONE PARTICULAR frame of each state\n",
    "# (to be repeated for the rest of the frames)\n",
    "pdbA = stateA_pdb_list[0]\n",
    "pdbB = stateB_pdb_list[0]"
   ]
  },
  {
   "cell_type": "markdown",
   "metadata": {},
   "source": [
    "<a id=\"mut\"></a>\n",
    "## Modelling mutated structures\n",
    "**Modelling mutated structures** with the desired new residues using **pmx** package. In this case:\n",
    "\n",
    "**Isoleucine** residue nº10 will be mutated to an **Alanine** in the **forward** transition.\n",
    "\n",
    "**Alanine** residue nº10 will be mutated to an **Isoleucine** in the **reverse** transition.\n",
    "\n",
    "*Note:* This tutorial is using a **Docker container** to run **pmx**. To use a local installation of **pmx**, just modify the appropriate properties parameter **pmx_cli_path**. \n",
    "***\n",
    "**Building Blocks** used:\n",
    " - [Pmxmutate](https://biobb-pmx.readthedocs.io/en/latest/pmx.html#module-pmx.pmxmutate) from **biobb_pmx.pmx.pmxmutate**\n",
    "***"
   ]
  },
  {
   "cell_type": "markdown",
   "metadata": {},
   "source": [
    "## WARNING\n",
    "The first time that **pmx Docker** container is used, it will be **automatically downloaded** and integrated in the Docker system. This can take **some time, in the order of minutes**, depending on the available **network**. Please, be patient if the workflow gets stuck in this step. \n",
    "\n",
    "This process is **only done once**. When the docker is downloaded, the system will locate it and **it will not be required to download again**.     \n",
    "***"
   ]
  },
  {
   "cell_type": "code",
   "execution_count": 5,
   "metadata": {},
   "outputs": [
    {
     "name": "stderr",
     "output_type": "stream",
     "text": [
      "2020-06-10 13:46:18,595 [MainThread  ] [INFO ]  Using Docker image mmbirb/pmx\n"
     ]
    },
    {
     "name": "stdout",
     "output_type": "stream",
     "text": [
      "Ile10Ala\n"
     ]
    },
    {
     "name": "stderr",
     "output_type": "stream",
     "text": [
      "2020-06-10 13:47:16,589 [MainThread  ] [INFO ]  docker run -v /home/gbayarri_local/projects/BioBB/tutorials/biobb_wf_pmx_tutorial/biobb_wf_pmx_tutorial/notebooks/62a2903e-c840-49fb-862e-27cc55fd77c5:/data mmbirb/pmx /bin/bash -c \"cli.py mutate -f /data/frameA0.pdb -o /data/mutA.pdb -ff amber99sb-star-ildn-mut -script /data/mutations.txt\"\n",
      "\n",
      "2020-06-10 13:47:16,590 [MainThread  ] [INFO ]  Exit code 0\n",
      "\n",
      "2020-06-10 13:47:16,591 [MainThread  ] [INFO ]  ---------------------------------------------------------------------------------------------------------\n",
      " Program: mutate | pmx version 2.0+35.gfbfc0c1\n",
      "---------------------------------------------------------------------------------------------------------\n",
      "     File Options          | Type(s)|Mode    | File(s)                | Description \n",
      "---------------------------------------------------------------------------------------------------------\n",
      "     -f !                  | pdb,gro|r       | /data/frameA0.pdb      | input structure file \n",
      "     -fB                   | pdb,gro|r       | proteinB.pdb           | input structure file of the  \n",
      "                           |                 |                        | Bstate (optional)  \n",
      "     -o !                  | pdb,gro|w       | /data/mutA.pdb         | output structure file \n",
      "     -ff !                 | ff|dir          | amber99sb-star-ildn-mut.ff   | path to mutation forcefield  \n",
      "     -script !             | txt|r           | /data/mutations.txt    | text file with mutations  \n",
      "                           |                 |                        | to insert  \n",
      "---------------------------------------------------------------------------------------------------------\n",
      "     Options               | Type            | Value                  | Description \n",
      "---------------------------------------------------------------------------------------------------------\n",
      "     -[no]h                | bool            | False                  | Show help message and quit  \n",
      "     -[no]resinfo          | bool            | False                  | print a 3-letter -> 1-letter  \n",
      "                           |                 |                        | residue list \n",
      "     -[no]dna              | bool            | False                  | generate hybrid residue for  \n",
      "                           |                 |                        | the DNA nucleotides \n",
      "     -[no]rna              | bool            | False                  | generate hybrid residue for  \n",
      "                           |                 |                        | the RNA nucleotides \n",
      "---------------------------------------------------------------------------------------------------------\n",
      "\n",
      "Opening forcefield: /pmx/pmx/data/mutff45/amber99sb-star-ildn-mut.ff\n",
      "log_> Residue to mutate: 10 | ILE | A \n",
      "log_> Mutation to apply: I->A\n",
      "log_> Hybrid residue name: I2A\n",
      "log_> Scanning database for I2A \n",
      "log_> Inserted hybrid residue I2A at position 10 (chain A)\n",
      "\n",
      "mutations done...........\n",
      "\n",
      "\n",
      "2020-06-10 13:47:16,592 [MainThread  ] [INFO ]  Unable to find image 'mmbirb/pmx:latest' locally\n",
      "latest: Pulling from mmbirb/pmx\n",
      "5c939e3a4d10: Pulling fs layer\n",
      "c63719cdbe7a: Pulling fs layer\n",
      "19a861ea6baf: Pulling fs layer\n",
      "651c9d2d6c4f: Pulling fs layer\n",
      "01ae5368f779: Pulling fs layer\n",
      "14be4f5e2377: Pulling fs layer\n",
      "a984a8d68fb9: Pulling fs layer\n",
      "a29383267946: Pulling fs layer\n",
      "92117fc078d8: Pulling fs layer\n",
      "0c13ad7d66c1: Pulling fs layer\n",
      "651c9d2d6c4f: Waiting\n",
      "01ae5368f779: Waiting\n",
      "92117fc078d8: Waiting\n",
      "14be4f5e2377: Waiting\n",
      "0c13ad7d66c1: Waiting\n",
      "a29383267946: Waiting\n",
      "a984a8d68fb9: Waiting\n",
      "c63719cdbe7a: Verifying Checksum\n",
      "c63719cdbe7a: Download complete\n",
      "19a861ea6baf: Download complete\n",
      "5c939e3a4d10: Verifying Checksum\n",
      "5c939e3a4d10: Download complete\n",
      "651c9d2d6c4f: Verifying Checksum\n",
      "651c9d2d6c4f: Download complete\n",
      "14be4f5e2377: Verifying Checksum\n",
      "14be4f5e2377: Download complete\n",
      "01ae5368f779: Verifying Checksum\n",
      "01ae5368f779: Download complete\n",
      "92117fc078d8: Download complete\n",
      "a984a8d68fb9: Verifying Checksum\n",
      "a984a8d68fb9: Download complete\n",
      "a29383267946: Verifying Checksum\n",
      "a29383267946: Download complete\n",
      "0c13ad7d66c1: Verifying Checksum\n",
      "0c13ad7d66c1: Download complete\n",
      "5c939e3a4d10: Pull complete\n",
      "c63719cdbe7a: Pull complete\n",
      "19a861ea6baf: Pull complete\n",
      "651c9d2d6c4f: Pull complete\n",
      "01ae5368f779: Pull complete\n",
      "14be4f5e2377: Pull complete\n",
      "a984a8d68fb9: Pull complete\n",
      "a29383267946: Pull complete\n",
      "92117fc078d8: Pull complete\n",
      "0c13ad7d66c1: Pull complete\n",
      "Digest: sha256:aa22433dba90719684428725be05012ec1acf304215491ff37b393e0f9458f3c\n",
      "Status: Downloaded newer image for mmbirb/pmx:latest\n",
      "\n",
      "2020-06-10 13:47:16,597 [MainThread  ] [INFO ]  Removed: []\n",
      "2020-06-10 13:47:16,612 [MainThread  ] [INFO ]  Using Docker image mmbirb/pmx\n"
     ]
    },
    {
     "name": "stdout",
     "output_type": "stream",
     "text": [
      "Ala10Ile\n"
     ]
    },
    {
     "name": "stderr",
     "output_type": "stream",
     "text": [
      "2020-06-10 13:47:20,068 [MainThread  ] [INFO ]  docker run -v /home/gbayarri_local/projects/BioBB/tutorials/biobb_wf_pmx_tutorial/biobb_wf_pmx_tutorial/notebooks/1f4390dc-14fe-4886-af6c-6625071e1602:/data mmbirb/pmx /bin/bash -c \"cli.py mutate -f /data/frameB0.pdb -o /data/mutB.pdb -ff amber99sb-star-ildn-mut -script /data/mutations.txt\"\n",
      "\n",
      "2020-06-10 13:47:20,069 [MainThread  ] [INFO ]  Exit code 0\n",
      "\n",
      "2020-06-10 13:47:20,070 [MainThread  ] [INFO ]  ---------------------------------------------------------------------------------------------------------\n",
      " Program: mutate | pmx version 2.0+35.gfbfc0c1\n",
      "---------------------------------------------------------------------------------------------------------\n",
      "     File Options          | Type(s)|Mode    | File(s)                | Description \n",
      "---------------------------------------------------------------------------------------------------------\n",
      "     -f !                  | pdb,gro|r       | /data/frameB0.pdb      | input structure file \n",
      "     -fB                   | pdb,gro|r       | proteinB.pdb           | input structure file of the  \n",
      "                           |                 |                        | Bstate (optional)  \n",
      "     -o !                  | pdb,gro|w       | /data/mutB.pdb         | output structure file \n",
      "     -ff !                 | ff|dir          | amber99sb-star-ildn-mut.ff   | path to mutation forcefield  \n",
      "     -script !             | txt|r           | /data/mutations.txt    | text file with mutations  \n",
      "                           |                 |                        | to insert  \n",
      "---------------------------------------------------------------------------------------------------------\n",
      "     Options               | Type            | Value                  | Description \n",
      "---------------------------------------------------------------------------------------------------------\n",
      "     -[no]h                | bool            | False                  | Show help message and quit  \n",
      "     -[no]resinfo          | bool            | False                  | print a 3-letter -> 1-letter  \n",
      "                           |                 |                        | residue list \n",
      "     -[no]dna              | bool            | False                  | generate hybrid residue for  \n",
      "                           |                 |                        | the DNA nucleotides \n",
      "     -[no]rna              | bool            | False                  | generate hybrid residue for  \n",
      "                           |                 |                        | the RNA nucleotides \n",
      "---------------------------------------------------------------------------------------------------------\n",
      "\n",
      "Opening forcefield: /pmx/pmx/data/mutff45/amber99sb-star-ildn-mut.ff\n",
      "log_> Residue to mutate: 10 | ALA | A \n",
      "log_> Mutation to apply: A->I\n",
      "log_> Hybrid residue name: A2I\n",
      "log_> Scanning database for A2I \n",
      "log_> Inserted hybrid residue A2I at position 10 (chain A)\n",
      "\n",
      "mutations done...........\n",
      "\n",
      "\n",
      "2020-06-10 13:47:20,078 [MainThread  ] [INFO ]  Removed: []\n"
     ]
    },
    {
     "data": {
      "text/plain": [
       "0"
      ]
     },
     "execution_count": 5,
     "metadata": {},
     "output_type": "execute_result"
    }
   ],
   "source": [
    "# pmx mutate: Mutate command from pmx package\n",
    "\n",
    "# Import module\n",
    "from biobb_pmx.pmx.pmxmutate import Pmxmutate\n",
    "\n",
    "#### State A (WT->Mut) ####\n",
    "\n",
    "# Create prop dict and inputs/outputs\n",
    "output_structure_mutA = 'mutA.pdb'\n",
    "  \n",
    "prop = {\n",
    "    'force_field' : 'amber99sb-star-ildn-mut',\n",
    "    'mutation_list' : 'Ile10Ala',\n",
    "    'container_path': 'docker',\n",
    "    'container_image' : 'mmbirb/pmx'\n",
    "    #'pmx_cli_path' : 'PATH/pmx-master/pmx/scripts/cli.py'\n",
    "}\n",
    "# Create and launch bb\n",
    "Pmxmutate(input_structure_path=pdbA,\n",
    "       output_structure_path=output_structure_mutA,\n",
    "       properties=prop).launch()\n",
    "\n",
    "#### State B (Mut->WT) ####\n",
    "\n",
    "# Create prop dict and inputs/outputs\n",
    "output_structure_mutB = 'mutB.pdb'\n",
    "  \n",
    "prop = {\n",
    "    'force_field' : 'amber99sb-star-ildn-mut',\n",
    "    'mutation_list' : 'Ala10Ile',\n",
    "    'container_path': 'docker',\n",
    "    'container_image' : 'mmbirb/pmx'\n",
    "    #'pmx_cli_path' : 'PATH/pmx-master/pmx/scripts/cli.py'\n",
    "}\n",
    "# Create and launch bb\n",
    "Pmxmutate(input_structure_path=pdbB,\n",
    "       output_structure_path=output_structure_mutB,\n",
    "       properties=prop).launch()\n"
   ]
  },
  {
   "cell_type": "markdown",
   "metadata": {},
   "source": [
    "<a id=\"top\"></a>\n",
    "***\n",
    "## Create protein system topology\n",
    "**Building GROMACS topology** for the mutated structures.\n",
    "\n",
    "The force field used in this tutorial is [**amber99sb-ildn-mut**](https://dx.doi.org/10.1002%2Fprot.22711): AMBER **parm99** force field with **corrections on backbone** (sb) and **side-chain torsion potentials** (ildn), with **pmx library of modelled mutations** (mut). The path to the particular force field used is given as a property to the building block (**gmxlib**), and can be changed to the appropriate location.\n",
    "\n",
    "Generating two output files: \n",
    "- **GROMACS structure** (gro file)\n",
    "- **GROMACS topology** ZIP compressed file containing:\n",
    "    - *GROMACS topology top file* (top file)\n",
    "    - *GROMACS position restraint file/s* (itp file/s)\n",
    "***\n",
    "**Building Blocks** used:\n",
    " - [Pdb2gmx](https://biobb-md.readthedocs.io/en/latest/gromacs.html#module-gromacs.pdb2gmx) from **biobb_md.gromacs.pdb2gmx**\n",
    "***"
   ]
  },
  {
   "cell_type": "code",
   "execution_count": 6,
   "metadata": {},
   "outputs": [
    {
     "name": "stderr",
     "output_type": "stream",
     "text": [
      "2020-06-10 13:47:54,907 [MainThread  ] [INFO ]  GROMACS Pdb2gmx 20190 version detected\n",
      "2020-06-10 13:47:54,908 [MainThread  ] [INFO ]  Not using any container\n",
      "2020-06-10 13:47:57,755 [MainThread  ] [INFO ]  gmx -nobackup -nocopyright pdb2gmx -f mutA.pdb -o pdb2gmxA.pdb -p p2g.top -water spce -ff amber99sb-star-ildn-mut -i posre.itp\n",
      "\n",
      "2020-06-10 13:47:57,755 [MainThread  ] [INFO ]  Exit code 0\n",
      "\n",
      "2020-06-10 13:47:57,756 [MainThread  ] [INFO ]  \n",
      "Using the Amber99sb-star-ildn-mut force field in directory /home/gbayarri_local/projects/BioBB/tutorials/biobb_wf_pmx_tutorial/biobb_wf_pmx_tutorial/notebooks/pmx_tutorial/mutff45/amber99sb-star-ildn-mut.ff\n",
      "\n",
      "going to rename /home/gbayarri_local/projects/BioBB/tutorials/biobb_wf_pmx_tutorial/biobb_wf_pmx_tutorial/notebooks/pmx_tutorial/mutff45/amber99sb-star-ildn-mut.ff/aminoacids.r2b\n",
      "going to rename /home/gbayarri_local/projects/BioBB/tutorials/biobb_wf_pmx_tutorial/biobb_wf_pmx_tutorial/notebooks/pmx_tutorial/mutff45/amber99sb-star-ildn-mut.ff/dna.r2b\n",
      "going to rename /home/gbayarri_local/projects/BioBB/tutorials/biobb_wf_pmx_tutorial/biobb_wf_pmx_tutorial/notebooks/pmx_tutorial/mutff45/amber99sb-star-ildn-mut.ff/rna.r2b\n",
      "Reading mutA.pdb...\n",
      "Read 'PMX MODEL', 35144 atoms\n",
      "Analyzing pdb file\n",
      "Splitting chemical chains based on TER records or chain id changing.\n",
      "Moved all the water blocks to the end\n",
      "There are 2 chains and 2 blocks of water and 11158 residues with 35144 atoms\n",
      "\n",
      "  chain  #res #atoms\n",
      "  1 'A'   136   2226  \n",
      "  2 'C'    74     74  \n",
      "  3 ' '  9863  29589  (only water)\n",
      "  4 ' '  1085   3255  (only water)\n",
      "\n",
      "Reading residue database... (Amber99sb-star-ildn-mut)\n",
      "Processing chain 1 'A' (2226 atoms, 136 residues)\n",
      "Identified residue LYS1 as a starting terminus.\n",
      "Identified residue SER136 as a ending terminus.\n",
      "Checking for duplicate atoms....\n",
      "Generating any missing hydrogen atoms and/or adding termini.\n",
      "Now there are 136 residues with 2226 atoms\n",
      "Chain time...\n",
      "Processing chain 2 'C' (74 atoms, 74 residues)\n",
      "Residue NaJ1085 has type 'Ion', assuming it is not linked into a chain.\n",
      "Residue NaJ1086 has type 'Ion', assuming it is not linked into a chain.\n",
      "Residue NaJ1087 has type 'Ion', assuming it is not linked into a chain.\n",
      "Residue NaJ1088 has type 'Ion', assuming it is not linked into a chain.\n",
      "Residue NaJ1089 has type 'Ion', assuming it is not linked into a chain.\n",
      "Disabling further notes about ions.\n",
      "Problem with chain definition, or missing terminal residues.\n",
      "This chain does not appear to contain a recognized chain molecule.\n",
      "If this is incorrect, you can edit residuetypes.dat to modify the behavior.\n",
      "Checking for duplicate atoms....\n",
      "Generating any missing hydrogen atoms and/or adding termini.\n",
      "Now there are 74 residues with 74 atoms\n",
      "Chain time...\n",
      "Processing chain 3 (29589 atoms, 9863 residues)\n",
      "Problem with chain definition, or missing terminal residues.\n",
      "This chain does not appear to contain a recognized chain molecule.\n",
      "If this is incorrect, you can edit residuetypes.dat to modify the behavior.\n",
      "Checking for duplicate atoms....\n",
      "Generating any missing hydrogen atoms and/or adding termini.\n",
      "Now there are 9863 residues with 29589 atoms\n",
      "Processing chain 4 (3255 atoms, 1085 residues)\n",
      "Problem with chain definition, or missing terminal residues.\n",
      "This chain does not appear to contain a recognized chain molecule.\n",
      "If this is incorrect, you can edit residuetypes.dat to modify the behavior.\n",
      "Checking for duplicate atoms....\n",
      "Generating any missing hydrogen atoms and/or adding termini.\n",
      "Now there are 1085 residues with 3255 atoms\n",
      "Including chain 1 in system: 2226 atoms 136 residues\n",
      "Including chain 2 in system: 74 atoms 74 residues\n",
      "Including chain 3 in system: 29589 atoms 9863 residues\n",
      "Including chain 4 in system: 3255 atoms 1085 residues\n",
      "\t\t--------- PLEASE NOTE ------------\n",
      "You have successfully generated a topology from: mutA.pdb.\n",
      "The Amber99sb-star-ildn-mut force field and the spce water model are used.\n",
      "\t\t--------- ETON ESAELP ------------\n",
      "\n",
      "2020-06-10 13:47:57,756 [MainThread  ] [INFO ]                        :-) GROMACS - gmx pdb2gmx, 2019 (-:\n",
      "\n",
      "Executable:   /usr/local/gromacs/bin/gmx\n",
      "Data prefix:  /usr/local/gromacs\n",
      "Working dir:  /home/gbayarri_local/projects/BioBB/tutorials/biobb_wf_pmx_tutorial/biobb_wf_pmx_tutorial/notebooks\n",
      "Command line:\n",
      "  gmx -nobackup -nocopyright pdb2gmx -f mutA.pdb -o pdb2gmxA.pdb -p p2g.top -water spce -ff amber99sb-star-ildn-mut -i posre.itp\n",
      "\n",
      "Opening force field file /home/gbayarri_local/projects/BioBB/tutorials/biobb_wf_pmx_tutorial/biobb_wf_pmx_tutorial/notebooks/pmx_tutorial/mutff45/amber99sb-star-ildn-mut.ff/aminoacids.r2b\n",
      "Opening force field file /home/gbayarri_local/projects/BioBB/tutorials/biobb_wf_pmx_tutorial/biobb_wf_pmx_tutorial/notebooks/pmx_tutorial/mutff45/amber99sb-star-ildn-mut.ff/dna.r2b\n",
      "Opening force field file /home/gbayarri_local/projects/BioBB/tutorials/biobb_wf_pmx_tutorial/biobb_wf_pmx_tutorial/notebooks/pmx_tutorial/mutff45/amber99sb-star-ildn-mut.ff/rna.r2b\n",
      "All occupancies are one\n",
      "Opening force field file /home/gbayarri_local/projects/BioBB/tutorials/biobb_wf_pmx_tutorial/biobb_wf_pmx_tutorial/notebooks/pmx_tutorial/mutff45/amber99sb-star-ildn-mut.ff/atomtypes.atp\n",
      "Atomtype 103\n",
      "Opening force field file /home/gbayarri_local/projects/BioBB/tutorials/biobb_wf_pmx_tutorial/biobb_wf_pmx_tutorial/notebooks/pmx_tutorial/mutff45/amber99sb-star-ildn-mut.ff/aminoacids.rtp\n",
      "Residue 103\n",
      "Sorting it all out...\n",
      "Opening force field file /home/gbayarri_local/projects/BioBB/tutorials/biobb_wf_pmx_tutorial/biobb_wf_pmx_tutorial/notebooks/pmx_tutorial/mutff45/amber99sb-star-ildn-mut.ff/dna.rtp\n",
      "Residue 119\n",
      "Sorting it all out...\n",
      "Opening force field file /home/gbayarri_local/projects/BioBB/tutorials/biobb_wf_pmx_tutorial/biobb_wf_pmx_tutorial/notebooks/pmx_tutorial/mutff45/amber99sb-star-ildn-mut.ff/mutres.rtp\n",
      "Residue 671\n",
      "Sorting it all out...\n",
      "Opening force field file /home/gbayarri_local/projects/BioBB/tutorials/biobb_wf_pmx_tutorial/biobb_wf_pmx_tutorial/notebooks/pmx_tutorial/mutff45/amber99sb-star-ildn-mut.ff/rna.rtp\n",
      "Residue 687\n",
      "Sorting it all out...\n",
      "Opening force field file /home/gbayarri_local/projects/BioBB/tutorials/biobb_wf_pmx_tutorial/biobb_wf_pmx_tutorial/notebooks/pmx_tutorial/mutff45/amber99sb-star-ildn-mut.ff/aminoacids.hdb\n",
      "Opening force field file /home/gbayarri_local/projects/BioBB/tutorials/biobb_wf_pmx_tutorial/biobb_wf_pmx_tutorial/notebooks/pmx_tutorial/mutff45/amber99sb-star-ildn-mut.ff/dna.hdb\n",
      "Opening force field file /home/gbayarri_local/projects/BioBB/tutorials/biobb_wf_pmx_tutorial/biobb_wf_pmx_tutorial/notebooks/pmx_tutorial/mutff45/amber99sb-star-ildn-mut.ff/rna.hdb\n",
      "Opening force field file /home/gbayarri_local/projects/BioBB/tutorials/biobb_wf_pmx_tutorial/biobb_wf_pmx_tutorial/notebooks/pmx_tutorial/mutff45/amber99sb-star-ildn-mut.ff/aminoacids.n.tdb\n",
      "Opening force field file /home/gbayarri_local/projects/BioBB/tutorials/biobb_wf_pmx_tutorial/biobb_wf_pmx_tutorial/notebooks/pmx_tutorial/mutff45/amber99sb-star-ildn-mut.ff/aminoacids.c.tdb\n",
      "Analysing hydrogen-bonding network for automated assignment of histidine\n",
      " protonation. 210 donors and 198 acceptors were found.\n",
      "There are 298 hydrogen bonds\n",
      "Will use HISE for residue 3\n",
      "Will use HISE for residue 41\n",
      "Will use HISE for residue 116\n",
      "Will use HISE for residue 119\n",
      "8 out of 8 lines of specbond.dat converted successfully\n",
      "Special Atom Distance matrix:\n",
      "                    HIS3   MET21   MET27   HIS41   MET60   MET93  HIS116\n",
      "                   NE255   SD337   SD435  NE2675   SD975  SD1506 NE21875\n",
      "   MET21   SD337   1.570\n",
      "   MET27   SD435   0.902   1.059\n",
      "   HIS41  NE2675   2.903   2.796   2.200\n",
      "   MET60   SD975   2.057   2.210   1.909   2.403\n",
      "   MET93  SD1506   1.532   2.338   1.673   2.458   0.926\n",
      "  HIS116 NE21875   1.254   2.411   1.637   2.700   1.436   0.535\n",
      "  HIS119 NE21924   1.961   2.850   2.206   2.811   1.159   0.541   0.770\n",
      "                \n",
      "                \n",
      "Opening force field file /home/gbayarri_local/projects/BioBB/tutorials/biobb_wf_pmx_tutorial/biobb_wf_pmx_tutorial/notebooks/pmx_tutorial/mutff45/amber99sb-star-ildn-mut.ff/aminoacids.arn\n",
      "Opening force field file /home/gbayarri_local/projects/BioBB/tutorials/biobb_wf_pmx_tutorial/biobb_wf_pmx_tutorial/notebooks/pmx_tutorial/mutff45/amber99sb-star-ildn-mut.ff/dna.arn\n",
      "Opening force field file /home/gbayarri_local/projects/BioBB/tutorials/biobb_wf_pmx_tutorial/biobb_wf_pmx_tutorial/notebooks/pmx_tutorial/mutff45/amber99sb-star-ildn-mut.ff/rna.arn\n",
      "Making bonds...\n",
      "Number of bonds was 2248, now 2247\n",
      "Generating angles, dihedrals and pairs...\n",
      "Before cleaning: 5932 pairs\n",
      "Before cleaning: 6154 dihedrals\n",
      "Keeping all generated dihedrals\n",
      "Making cmap torsions...\n",
      "There are 6154 dihedrals,  531 impropers, 4097 angles\n",
      "          5899 pairs,     2247 bonds and     0 virtual sites\n",
      "Total mass 15516.202 a.m.u.\n",
      "Total charge 10.000 e\n",
      "Writing topology\n",
      "8 out of 8 lines of specbond.dat converted successfully\n",
      "Opening force field file /home/gbayarri_local/projects/BioBB/tutorials/biobb_wf_pmx_tutorial/biobb_wf_pmx_tutorial/notebooks/pmx_tutorial/mutff45/amber99sb-star-ildn-mut.ff/aminoacids.arn\n",
      "Opening force field file /home/gbayarri_local/projects/BioBB/tutorials/biobb_wf_pmx_tutorial/biobb_wf_pmx_tutorial/notebooks/pmx_tutorial/mutff45/amber99sb-star-ildn-mut.ff/dna.arn\n",
      "Opening force field file /home/gbayarri_local/projects/BioBB/tutorials/biobb_wf_pmx_tutorial/biobb_wf_pmx_tutorial/notebooks/pmx_tutorial/mutff45/amber99sb-star-ildn-mut.ff/rna.arn\n",
      "Making bonds...\n",
      "No bonds\n",
      "Generating angles, dihedrals and pairs...\n",
      "Making cmap torsions...\n",
      "There are    0 dihedrals,    0 impropers,    0 angles\n",
      "             0 pairs,        0 bonds and     0 virtual sites\n",
      "Total mass 2224.580 a.m.u.\n",
      "Total charge -10.000 e\n",
      "Writing topology\n",
      "8 out of 8 lines of specbond.dat converted successfully\n",
      "Opening force field file /home/gbayarri_local/projects/BioBB/tutorials/biobb_wf_pmx_tutorial/biobb_wf_pmx_tutorial/notebooks/pmx_tutorial/mutff45/amber99sb-star-ildn-mut.ff/aminoacids.arn\n",
      "Opening force field file /home/gbayarri_local/projects/BioBB/tutorials/biobb_wf_pmx_tutorial/biobb_wf_pmx_tutorial/notebooks/pmx_tutorial/mutff45/amber99sb-star-ildn-mut.ff/dna.arn\n",
      "Opening force field file /home/gbayarri_local/projects/BioBB/tutorials/biobb_wf_pmx_tutorial/biobb_wf_pmx_tutorial/notebooks/pmx_tutorial/mutff45/amber99sb-star-ildn-mut.ff/rna.arn\n",
      "Making bonds...\n",
      "Number of bonds was 19726, now 19726\n",
      "Generating angles, dihedrals and pairs...\n",
      "Making cmap torsions...\n",
      "There are    0 dihedrals,    0 impropers, 9863 angles\n",
      "             0 pairs,     19726 bonds and     0 virtual sites\n",
      "Total mass 177691.808 a.m.u.\n",
      "Total charge 0.000 e\n",
      "8 out of 8 lines of specbond.dat converted successfully\n",
      "Opening force field file /home/gbayarri_local/projects/BioBB/tutorials/biobb_wf_pmx_tutorial/biobb_wf_pmx_tutorial/notebooks/pmx_tutorial/mutff45/amber99sb-star-ildn-mut.ff/aminoacids.arn\n",
      "Opening force field file /home/gbayarri_local/projects/BioBB/tutorials/biobb_wf_pmx_tutorial/biobb_wf_pmx_tutorial/notebooks/pmx_tutorial/mutff45/amber99sb-star-ildn-mut.ff/dna.arn\n",
      "Opening force field file /home/gbayarri_local/projects/BioBB/tutorials/biobb_wf_pmx_tutorial/biobb_wf_pmx_tutorial/notebooks/pmx_tutorial/mutff45/amber99sb-star-ildn-mut.ff/rna.arn\n",
      "Making bonds...\n",
      "Number of bonds was 2170, now 2170\n",
      "Generating angles, dihedrals and pairs...\n",
      "Making cmap torsions...\n",
      "There are    0 dihedrals,    0 impropers, 1085 angles\n",
      "             0 pairs,     2170 bonds and     0 virtual sites\n",
      "Total mass 19547.360 a.m.u.\n",
      "Total charge 0.000 e\n",
      "Now there are 35144 atoms and 11158 residues\n",
      "Total mass in system 214979.951 a.m.u.\n",
      "Total charge in system 0.000 e\n",
      "\n",
      "Writing coordinate file...\n",
      "\n",
      "GROMACS reminds you: \"Uh-oh\" (Tinky Winky)\n",
      "\n",
      "\n"
     ]
    },
    {
     "name": "stderr",
     "output_type": "stream",
     "text": [
      "2020-06-10 13:47:57,757 [MainThread  ] [INFO ]  Compressing topology to: pdb2gmxA_top.zip\n",
      "2020-06-10 13:47:57,758 [MainThread  ] [INFO ]  Ignored file amber99sb-star-ildn-mut.ff/forcefield.itp\n",
      "2020-06-10 13:47:57,769 [MainThread  ] [INFO ]  Ignored file amber99sb-star-ildn-mut.ff/spce.itp\n",
      "2020-06-10 13:47:57,770 [MainThread  ] [INFO ]  Ignored file amber99sb-star-ildn-mut.ff/ions.itp\n",
      "2020-06-10 13:47:57,776 [MainThread  ] [INFO ]  Adding:\n",
      "2020-06-10 13:47:57,777 [MainThread  ] [INFO ]  ['p2g.top', 'p2g_Ion_chain_C.itp', 'p2g_Protein_chain_A.itp', 'posre_Ion_chain_C.itp', 'posre_Protein_chain_A.itp']\n",
      "2020-06-10 13:47:57,778 [MainThread  ] [INFO ]  to: /home/gbayarri_local/projects/BioBB/tutorials/biobb_wf_pmx_tutorial/biobb_wf_pmx_tutorial/notebooks/pdb2gmxA_top.zip\n",
      "2020-06-10 13:47:57,779 [MainThread  ] [INFO ]  Removed: ['p2g.top']\n",
      "2020-06-10 13:47:57,808 [MainThread  ] [INFO ]  GROMACS Pdb2gmx 20190 version detected\n",
      "2020-06-10 13:47:57,810 [MainThread  ] [INFO ]  Not using any container\n",
      "2020-06-10 13:48:00,743 [MainThread  ] [INFO ]  gmx -nobackup -nocopyright pdb2gmx -f mutB.pdb -o pdb2gmxB.pdb -p p2g.top -water spce -ff amber99sb-star-ildn-mut -i posre.itp\n",
      "\n",
      "2020-06-10 13:48:00,744 [MainThread  ] [INFO ]  Exit code 0\n",
      "\n",
      "2020-06-10 13:48:00,745 [MainThread  ] [INFO ]  \n",
      "Using the Amber99sb-star-ildn-mut force field in directory /home/gbayarri_local/projects/BioBB/tutorials/biobb_wf_pmx_tutorial/biobb_wf_pmx_tutorial/notebooks/pmx_tutorial/mutff45/amber99sb-star-ildn-mut.ff\n",
      "\n",
      "going to rename /home/gbayarri_local/projects/BioBB/tutorials/biobb_wf_pmx_tutorial/biobb_wf_pmx_tutorial/notebooks/pmx_tutorial/mutff45/amber99sb-star-ildn-mut.ff/aminoacids.r2b\n",
      "going to rename /home/gbayarri_local/projects/BioBB/tutorials/biobb_wf_pmx_tutorial/biobb_wf_pmx_tutorial/notebooks/pmx_tutorial/mutff45/amber99sb-star-ildn-mut.ff/dna.r2b\n",
      "going to rename /home/gbayarri_local/projects/BioBB/tutorials/biobb_wf_pmx_tutorial/biobb_wf_pmx_tutorial/notebooks/pmx_tutorial/mutff45/amber99sb-star-ildn-mut.ff/rna.r2b\n",
      "Reading mutB.pdb...\n",
      "Read 'PMX MODEL', 35147 atoms\n",
      "Analyzing pdb file\n",
      "Splitting chemical chains based on TER records or chain id changing.\n",
      "Moved all the water blocks to the end\n",
      "There are 2 chains and 2 blocks of water and 11159 residues with 35147 atoms\n",
      "\n",
      "  chain  #res #atoms\n",
      "  1 'A'   136   2226  \n",
      "  2 'C'    74     74  \n",
      "  3 ' '  9863  29589  (only water)\n",
      "  4 ' '  1086   3258  (only water)\n",
      "\n",
      "Reading residue database... (Amber99sb-star-ildn-mut)\n",
      "Processing chain 1 'A' (2226 atoms, 136 residues)\n",
      "Identified residue LYS1 as a starting terminus.\n",
      "Identified residue SER136 as a ending terminus.\n",
      "Checking for duplicate atoms....\n",
      "Generating any missing hydrogen atoms and/or adding termini.\n",
      "Now there are 136 residues with 2226 atoms\n",
      "Chain time...\n",
      "Processing chain 2 'C' (74 atoms, 74 residues)\n",
      "Residue NaJ1086 has type 'Ion', assuming it is not linked into a chain.\n",
      "Residue NaJ1087 has type 'Ion', assuming it is not linked into a chain.\n",
      "Residue NaJ1088 has type 'Ion', assuming it is not linked into a chain.\n",
      "Residue NaJ1089 has type 'Ion', assuming it is not linked into a chain.\n",
      "Residue NaJ1090 has type 'Ion', assuming it is not linked into a chain.\n",
      "Disabling further notes about ions.\n",
      "Problem with chain definition, or missing terminal residues.\n",
      "This chain does not appear to contain a recognized chain molecule.\n",
      "If this is incorrect, you can edit residuetypes.dat to modify the behavior.\n",
      "Checking for duplicate atoms....\n",
      "Generating any missing hydrogen atoms and/or adding termini.\n",
      "Now there are 74 residues with 74 atoms\n",
      "Chain time...\n",
      "Processing chain 3 (29589 atoms, 9863 residues)\n",
      "Problem with chain definition, or missing terminal residues.\n",
      "This chain does not appear to contain a recognized chain molecule.\n",
      "If this is incorrect, you can edit residuetypes.dat to modify the behavior.\n",
      "Checking for duplicate atoms....\n",
      "Generating any missing hydrogen atoms and/or adding termini.\n",
      "Now there are 9863 residues with 29589 atoms\n",
      "Processing chain 4 (3258 atoms, 1086 residues)\n",
      "Problem with chain definition, or missing terminal residues.\n",
      "This chain does not appear to contain a recognized chain molecule.\n",
      "If this is incorrect, you can edit residuetypes.dat to modify the behavior.\n",
      "Checking for duplicate atoms....\n",
      "Generating any missing hydrogen atoms and/or adding termini.\n",
      "Now there are 1086 residues with 3258 atoms\n",
      "Including chain 1 in system: 2226 atoms 136 residues\n",
      "Including chain 2 in system: 74 atoms 74 residues\n",
      "Including chain 3 in system: 29589 atoms 9863 residues\n",
      "Including chain 4 in system: 3258 atoms 1086 residues\n",
      "\t\t--------- PLEASE NOTE ------------\n",
      "You have successfully generated a topology from: mutB.pdb.\n",
      "The Amber99sb-star-ildn-mut force field and the spce water model are used.\n",
      "\t\t--------- ETON ESAELP ------------\n",
      "\n",
      "2020-06-10 13:48:00,745 [MainThread  ] [INFO ]                        :-) GROMACS - gmx pdb2gmx, 2019 (-:\n",
      "\n",
      "Executable:   /usr/local/gromacs/bin/gmx\n",
      "Data prefix:  /usr/local/gromacs\n",
      "Working dir:  /home/gbayarri_local/projects/BioBB/tutorials/biobb_wf_pmx_tutorial/biobb_wf_pmx_tutorial/notebooks\n",
      "Command line:\n",
      "  gmx -nobackup -nocopyright pdb2gmx -f mutB.pdb -o pdb2gmxB.pdb -p p2g.top -water spce -ff amber99sb-star-ildn-mut -i posre.itp\n",
      "\n",
      "Opening force field file /home/gbayarri_local/projects/BioBB/tutorials/biobb_wf_pmx_tutorial/biobb_wf_pmx_tutorial/notebooks/pmx_tutorial/mutff45/amber99sb-star-ildn-mut.ff/aminoacids.r2b\n",
      "Opening force field file /home/gbayarri_local/projects/BioBB/tutorials/biobb_wf_pmx_tutorial/biobb_wf_pmx_tutorial/notebooks/pmx_tutorial/mutff45/amber99sb-star-ildn-mut.ff/dna.r2b\n",
      "Opening force field file /home/gbayarri_local/projects/BioBB/tutorials/biobb_wf_pmx_tutorial/biobb_wf_pmx_tutorial/notebooks/pmx_tutorial/mutff45/amber99sb-star-ildn-mut.ff/rna.r2b\n",
      "All occupancies are one\n",
      "Opening force field file /home/gbayarri_local/projects/BioBB/tutorials/biobb_wf_pmx_tutorial/biobb_wf_pmx_tutorial/notebooks/pmx_tutorial/mutff45/amber99sb-star-ildn-mut.ff/atomtypes.atp\n",
      "Atomtype 103\n",
      "Opening force field file /home/gbayarri_local/projects/BioBB/tutorials/biobb_wf_pmx_tutorial/biobb_wf_pmx_tutorial/notebooks/pmx_tutorial/mutff45/amber99sb-star-ildn-mut.ff/aminoacids.rtp\n",
      "Residue 103\n",
      "Sorting it all out...\n",
      "Opening force field file /home/gbayarri_local/projects/BioBB/tutorials/biobb_wf_pmx_tutorial/biobb_wf_pmx_tutorial/notebooks/pmx_tutorial/mutff45/amber99sb-star-ildn-mut.ff/dna.rtp\n",
      "Residue 119\n",
      "Sorting it all out...\n",
      "Opening force field file /home/gbayarri_local/projects/BioBB/tutorials/biobb_wf_pmx_tutorial/biobb_wf_pmx_tutorial/notebooks/pmx_tutorial/mutff45/amber99sb-star-ildn-mut.ff/mutres.rtp\n",
      "Residue 671\n",
      "Sorting it all out...\n",
      "Opening force field file /home/gbayarri_local/projects/BioBB/tutorials/biobb_wf_pmx_tutorial/biobb_wf_pmx_tutorial/notebooks/pmx_tutorial/mutff45/amber99sb-star-ildn-mut.ff/rna.rtp\n",
      "Residue 687\n",
      "Sorting it all out...\n",
      "Opening force field file /home/gbayarri_local/projects/BioBB/tutorials/biobb_wf_pmx_tutorial/biobb_wf_pmx_tutorial/notebooks/pmx_tutorial/mutff45/amber99sb-star-ildn-mut.ff/aminoacids.hdb\n",
      "Opening force field file /home/gbayarri_local/projects/BioBB/tutorials/biobb_wf_pmx_tutorial/biobb_wf_pmx_tutorial/notebooks/pmx_tutorial/mutff45/amber99sb-star-ildn-mut.ff/dna.hdb\n",
      "Opening force field file /home/gbayarri_local/projects/BioBB/tutorials/biobb_wf_pmx_tutorial/biobb_wf_pmx_tutorial/notebooks/pmx_tutorial/mutff45/amber99sb-star-ildn-mut.ff/rna.hdb\n",
      "Opening force field file /home/gbayarri_local/projects/BioBB/tutorials/biobb_wf_pmx_tutorial/biobb_wf_pmx_tutorial/notebooks/pmx_tutorial/mutff45/amber99sb-star-ildn-mut.ff/aminoacids.n.tdb\n",
      "Opening force field file /home/gbayarri_local/projects/BioBB/tutorials/biobb_wf_pmx_tutorial/biobb_wf_pmx_tutorial/notebooks/pmx_tutorial/mutff45/amber99sb-star-ildn-mut.ff/aminoacids.c.tdb\n",
      "Analysing hydrogen-bonding network for automated assignment of histidine\n",
      " protonation. 210 donors and 198 acceptors were found.\n",
      "There are 297 hydrogen bonds\n",
      "Will use HISE for residue 3\n",
      "Will use HISE for residue 41\n",
      "Will use HISE for residue 116\n",
      "Will use HISE for residue 119\n",
      "8 out of 8 lines of specbond.dat converted successfully\n",
      "Special Atom Distance matrix:\n",
      "                    HIS3   MET21   MET27   HIS41   MET60   MET93  HIS116\n",
      "                   NE255   SD337   SD435  NE2675   SD975  SD1506 NE21875\n",
      "   MET21   SD337   2.016\n",
      "   MET27   SD435   1.595   1.007\n",
      "   HIS41  NE2675   3.557   3.050   2.486\n",
      "   MET60   SD975   2.116   2.166   2.004   2.431\n",
      "   MET93  SD1506   1.559   2.354   1.840   2.503   0.925\n",
      "  HIS116 NE21875   1.133   2.478   1.896   2.946   1.470   0.612\n",
      "  HIS119 NE21924   1.876   2.831   2.384   2.834   1.082   0.553   0.831\n",
      "                \n",
      "                \n",
      "Opening force field file /home/gbayarri_local/projects/BioBB/tutorials/biobb_wf_pmx_tutorial/biobb_wf_pmx_tutorial/notebooks/pmx_tutorial/mutff45/amber99sb-star-ildn-mut.ff/aminoacids.arn\n",
      "Opening force field file /home/gbayarri_local/projects/BioBB/tutorials/biobb_wf_pmx_tutorial/biobb_wf_pmx_tutorial/notebooks/pmx_tutorial/mutff45/amber99sb-star-ildn-mut.ff/dna.arn\n",
      "Opening force field file /home/gbayarri_local/projects/BioBB/tutorials/biobb_wf_pmx_tutorial/biobb_wf_pmx_tutorial/notebooks/pmx_tutorial/mutff45/amber99sb-star-ildn-mut.ff/rna.arn\n",
      "Making bonds...\n",
      "Number of bonds was 2248, now 2247\n",
      "Generating angles, dihedrals and pairs...\n",
      "Before cleaning: 5932 pairs\n",
      "Before cleaning: 6154 dihedrals\n",
      "Keeping all generated dihedrals\n",
      "Making cmap torsions...\n",
      "There are 6154 dihedrals,  531 impropers, 4097 angles\n",
      "          5899 pairs,     2247 bonds and     0 virtual sites\n",
      "Total mass 15494.198 a.m.u.\n",
      "Total charge 10.000 e\n",
      "Writing topology\n",
      "8 out of 8 lines of specbond.dat converted successfully\n",
      "Opening force field file /home/gbayarri_local/projects/BioBB/tutorials/biobb_wf_pmx_tutorial/biobb_wf_pmx_tutorial/notebooks/pmx_tutorial/mutff45/amber99sb-star-ildn-mut.ff/aminoacids.arn\n",
      "Opening force field file /home/gbayarri_local/projects/BioBB/tutorials/biobb_wf_pmx_tutorial/biobb_wf_pmx_tutorial/notebooks/pmx_tutorial/mutff45/amber99sb-star-ildn-mut.ff/dna.arn\n",
      "Opening force field file /home/gbayarri_local/projects/BioBB/tutorials/biobb_wf_pmx_tutorial/biobb_wf_pmx_tutorial/notebooks/pmx_tutorial/mutff45/amber99sb-star-ildn-mut.ff/rna.arn\n",
      "Making bonds...\n",
      "No bonds\n",
      "Generating angles, dihedrals and pairs...\n",
      "Making cmap torsions...\n",
      "There are    0 dihedrals,    0 impropers,    0 angles\n",
      "             0 pairs,        0 bonds and     0 virtual sites\n",
      "Total mass 2224.580 a.m.u.\n",
      "Total charge -10.000 e\n",
      "Writing topology\n",
      "8 out of 8 lines of specbond.dat converted successfully\n",
      "Opening force field file /home/gbayarri_local/projects/BioBB/tutorials/biobb_wf_pmx_tutorial/biobb_wf_pmx_tutorial/notebooks/pmx_tutorial/mutff45/amber99sb-star-ildn-mut.ff/aminoacids.arn\n",
      "Opening force field file /home/gbayarri_local/projects/BioBB/tutorials/biobb_wf_pmx_tutorial/biobb_wf_pmx_tutorial/notebooks/pmx_tutorial/mutff45/amber99sb-star-ildn-mut.ff/dna.arn\n",
      "Opening force field file /home/gbayarri_local/projects/BioBB/tutorials/biobb_wf_pmx_tutorial/biobb_wf_pmx_tutorial/notebooks/pmx_tutorial/mutff45/amber99sb-star-ildn-mut.ff/rna.arn\n",
      "Making bonds...\n",
      "Number of bonds was 19726, now 19726\n",
      "Generating angles, dihedrals and pairs...\n",
      "Making cmap torsions...\n",
      "There are    0 dihedrals,    0 impropers, 9863 angles\n",
      "             0 pairs,     19726 bonds and     0 virtual sites\n",
      "Total mass 177691.808 a.m.u.\n",
      "Total charge 0.000 e\n",
      "8 out of 8 lines of specbond.dat converted successfully\n",
      "Opening force field file /home/gbayarri_local/projects/BioBB/tutorials/biobb_wf_pmx_tutorial/biobb_wf_pmx_tutorial/notebooks/pmx_tutorial/mutff45/amber99sb-star-ildn-mut.ff/aminoacids.arn\n",
      "Opening force field file /home/gbayarri_local/projects/BioBB/tutorials/biobb_wf_pmx_tutorial/biobb_wf_pmx_tutorial/notebooks/pmx_tutorial/mutff45/amber99sb-star-ildn-mut.ff/dna.arn\n",
      "Opening force field file /home/gbayarri_local/projects/BioBB/tutorials/biobb_wf_pmx_tutorial/biobb_wf_pmx_tutorial/notebooks/pmx_tutorial/mutff45/amber99sb-star-ildn-mut.ff/rna.arn\n",
      "Making bonds...\n",
      "Number of bonds was 2172, now 2172\n",
      "Generating angles, dihedrals and pairs...\n",
      "Making cmap torsions...\n",
      "There are    0 dihedrals,    0 impropers, 1086 angles\n",
      "             0 pairs,     2172 bonds and     0 virtual sites\n",
      "Total mass 19565.376 a.m.u.\n",
      "Total charge 0.000 e\n",
      "Now there are 35147 atoms and 11159 residues\n",
      "Total mass in system 214975.963 a.m.u.\n",
      "Total charge in system 0.000 e\n",
      "\n",
      "Writing coordinate file...\n",
      "\n",
      "GROMACS reminds you: \"You wouldn't walk into a chemistry lab and mix two clear liquids together just because they look pretty much the same, would you?\" (Justin Lemkul)\n",
      "\n",
      "\n"
     ]
    },
    {
     "name": "stderr",
     "output_type": "stream",
     "text": [
      "2020-06-10 13:48:00,746 [MainThread  ] [INFO ]  Compressing topology to: pdb2gmxB_top.zip\n",
      "2020-06-10 13:48:00,748 [MainThread  ] [INFO ]  Ignored file amber99sb-star-ildn-mut.ff/forcefield.itp\n",
      "2020-06-10 13:48:00,760 [MainThread  ] [INFO ]  Ignored file amber99sb-star-ildn-mut.ff/spce.itp\n",
      "2020-06-10 13:48:00,760 [MainThread  ] [INFO ]  Ignored file amber99sb-star-ildn-mut.ff/ions.itp\n",
      "2020-06-10 13:48:00,764 [MainThread  ] [INFO ]  Adding:\n",
      "2020-06-10 13:48:00,764 [MainThread  ] [INFO ]  ['p2g.top', 'p2g_Ion_chain_C.itp', 'p2g_Protein_chain_A.itp', 'posre_Ion_chain_C.itp', 'posre_Protein_chain_A.itp']\n",
      "2020-06-10 13:48:00,765 [MainThread  ] [INFO ]  to: /home/gbayarri_local/projects/BioBB/tutorials/biobb_wf_pmx_tutorial/biobb_wf_pmx_tutorial/notebooks/pdb2gmxB_top.zip\n",
      "2020-06-10 13:48:00,766 [MainThread  ] [INFO ]  Removed: ['p2g.top']\n"
     ]
    },
    {
     "data": {
      "text/plain": [
       "0"
      ]
     },
     "execution_count": 6,
     "metadata": {},
     "output_type": "execute_result"
    }
   ],
   "source": [
    "# Create system topology\n",
    "\n",
    "# Import module\n",
    "from biobb_md.gromacs.pdb2gmx import Pdb2gmx\n",
    "\n",
    "#### State A (WT->Mut) ####\n",
    "\n",
    "# Create inputs/outputs\n",
    "output_pdb2gmxA_gro = 'pdb2gmxA.pdb'\n",
    "output_pdb2gmxA_top_zip = 'pdb2gmxA_top.zip'\n",
    "  \n",
    "prop = {\n",
    "    'force_field' : 'amber99sb-star-ildn-mut',\n",
    "    'gmxlib' : gmxlib\n",
    "}\n",
    "\n",
    "# Create and launch bb\n",
    "Pdb2gmx(input_pdb_path=output_structure_mutA,\n",
    "        output_gro_path=output_pdb2gmxA_gro,\n",
    "        output_top_zip_path=output_pdb2gmxA_top_zip,\n",
    "        properties=prop).launch()\n",
    "\n",
    "#### State B (Mut->WT) ####\n",
    "\n",
    "# Create inputs/outputs\n",
    "output_pdb2gmxB_gro = 'pdb2gmxB.pdb'\n",
    "output_pdb2gmxB_top_zip = 'pdb2gmxB_top.zip'\n",
    "  \n",
    "prop = {\n",
    "    'force_field' : 'amber99sb-star-ildn-mut',\n",
    "    'gmxlib' : gmxlib\n",
    "}\n",
    "\n",
    "# Create and launch bb\n",
    "Pdb2gmx(input_pdb_path=output_structure_mutB,\n",
    "        output_gro_path=output_pdb2gmxB_gro,\n",
    "        output_top_zip_path=output_pdb2gmxB_top_zip,\n",
    "        properties=prop).launch()"
   ]
  },
  {
   "cell_type": "markdown",
   "metadata": {},
   "source": [
    "<a id=\"hybridtop\"></a>\n",
    "## Generate Hybrid Topology\n",
    "**Generate Hybrid Topology** for the mutated structure using **pmx** package, adding the **morphing parameters**. \n",
    "\n",
    "*Note:* This tutorial is using a **Docker container** to run **pmx**. To use a local installation of **pmx**, just modify the appropriate properties parameter **pmx_cli_path**. \n",
    "***\n",
    "**Building Blocks** used:\n",
    " - [Pmxgentop](https://biobb-pmx.readthedocs.io/en/latest/pmx.html#module-pmx.pmxgentop) from **biobb_pmx.pmx.pmxgentop**\n",
    "***"
   ]
  },
  {
   "cell_type": "code",
   "execution_count": 7,
   "metadata": {},
   "outputs": [
    {
     "name": "stderr",
     "output_type": "stream",
     "text": [
      "2020-06-10 13:48:16,962 [MainThread  ] [INFO ]  Extracting: /home/gbayarri_local/projects/BioBB/tutorials/biobb_wf_pmx_tutorial/biobb_wf_pmx_tutorial/notebooks/pdb2gmxA_top.zip\n",
      "2020-06-10 13:48:16,963 [MainThread  ] [INFO ]  to:\n",
      "2020-06-10 13:48:16,964 [MainThread  ] [INFO ]  ['55eb1da7-06c0-4234-86a8-71a4823aef42/p2g.top', '55eb1da7-06c0-4234-86a8-71a4823aef42/p2g_Ion_chain_C.itp', '55eb1da7-06c0-4234-86a8-71a4823aef42/p2g_Protein_chain_A.itp', '55eb1da7-06c0-4234-86a8-71a4823aef42/posre_Ion_chain_C.itp', '55eb1da7-06c0-4234-86a8-71a4823aef42/posre_Protein_chain_A.itp']\n",
      "2020-06-10 13:48:16,965 [MainThread  ] [INFO ]  Unzipping: \n",
      "2020-06-10 13:48:16,966 [MainThread  ] [INFO ]  pdb2gmxA_top.zip\n",
      "2020-06-10 13:48:16,967 [MainThread  ] [INFO ]  To: \n",
      "2020-06-10 13:48:16,968 [MainThread  ] [INFO ]  55eb1da7-06c0-4234-86a8-71a4823aef42/p2g.top\n",
      "2020-06-10 13:48:16,969 [MainThread  ] [INFO ]  55eb1da7-06c0-4234-86a8-71a4823aef42/p2g_Ion_chain_C.itp\n",
      "2020-06-10 13:48:16,970 [MainThread  ] [INFO ]  55eb1da7-06c0-4234-86a8-71a4823aef42/p2g_Protein_chain_A.itp\n",
      "2020-06-10 13:48:16,971 [MainThread  ] [INFO ]  55eb1da7-06c0-4234-86a8-71a4823aef42/posre_Ion_chain_C.itp\n",
      "2020-06-10 13:48:16,971 [MainThread  ] [INFO ]  55eb1da7-06c0-4234-86a8-71a4823aef42/posre_Protein_chain_A.itp\n",
      "2020-06-10 13:48:16,973 [MainThread  ] [INFO ]  Gentop will be executed on this list of files: \n",
      "2020-06-10 13:48:16,973 [MainThread  ] [INFO ]  {'posre_Protein_chain_A.itp', 'p2g.top', 'p2g_Protein_chain_A.itp'}\n",
      "2020-06-10 13:48:16,974 [MainThread  ] [INFO ]  Unique dir: /home/gbayarri_local/projects/BioBB/tutorials/biobb_wf_pmx_tutorial/biobb_wf_pmx_tutorial/notebooks/fc76b5de-af0a-4c0e-93ff-937df3c2c5bd\n",
      "2020-06-10 13:48:16,975 [MainThread  ] [INFO ]  /home/gbayarri_local/projects/BioBB/tutorials/biobb_wf_pmx_tutorial/biobb_wf_pmx_tutorial/notebooks/fc76b5de-af0a-4c0e-93ff-937df3c2c5bd files: []\n",
      "2020-06-10 13:48:16,976 [MainThread  ] [INFO ]  Copy all files of the unzipped original topology to unique dir:\n",
      "2020-06-10 13:48:16,977 [MainThread  ] [INFO ]      Copy: 55eb1da7-06c0-4234-86a8-71a4823aef42/p2g.top to: /home/gbayarri_local/projects/BioBB/tutorials/biobb_wf_pmx_tutorial/biobb_wf_pmx_tutorial/notebooks/fc76b5de-af0a-4c0e-93ff-937df3c2c5bd\n",
      "2020-06-10 13:48:16,979 [MainThread  ] [INFO ]      Copy: 55eb1da7-06c0-4234-86a8-71a4823aef42/p2g_Protein_chain_A.itp to: /home/gbayarri_local/projects/BioBB/tutorials/biobb_wf_pmx_tutorial/biobb_wf_pmx_tutorial/notebooks/fc76b5de-af0a-4c0e-93ff-937df3c2c5bd\n",
      "2020-06-10 13:48:16,979 [MainThread  ] [INFO ]      Copy: 55eb1da7-06c0-4234-86a8-71a4823aef42/posre_Ion_chain_C.itp to: /home/gbayarri_local/projects/BioBB/tutorials/biobb_wf_pmx_tutorial/biobb_wf_pmx_tutorial/notebooks/fc76b5de-af0a-4c0e-93ff-937df3c2c5bd\n",
      "2020-06-10 13:48:16,980 [MainThread  ] [INFO ]      Copy: 55eb1da7-06c0-4234-86a8-71a4823aef42/posre_Protein_chain_A.itp to: /home/gbayarri_local/projects/BioBB/tutorials/biobb_wf_pmx_tutorial/biobb_wf_pmx_tutorial/notebooks/fc76b5de-af0a-4c0e-93ff-937df3c2c5bd\n",
      "2020-06-10 13:48:16,981 [MainThread  ] [INFO ]      Copy: 55eb1da7-06c0-4234-86a8-71a4823aef42/p2g_Ion_chain_C.itp to: /home/gbayarri_local/projects/BioBB/tutorials/biobb_wf_pmx_tutorial/biobb_wf_pmx_tutorial/notebooks/fc76b5de-af0a-4c0e-93ff-937df3c2c5bd\n",
      "2020-06-10 13:48:16,982 [MainThread  ] [INFO ]  List of files where gentop will be applied: {'posre_Protein_chain_A.itp', 'p2g.top', 'p2g_Protein_chain_A.itp'}\n",
      "2020-06-10 13:48:16,983 [MainThread  ] [INFO ]  Change references for container:\n",
      "2020-06-10 13:48:16,987 [MainThread  ] [INFO ]      unique_dir_output_file: /inout/posre_Protein_chain_A.itp\n",
      "2020-06-10 13:48:16,991 [MainThread  ] [INFO ]  Using Docker image mmbirb/pmx\n",
      "2020-06-10 13:48:57,614 [MainThread  ] [INFO ]  docker run -v /home/gbayarri_local/projects/BioBB/tutorials/biobb_wf_pmx_tutorial/biobb_wf_pmx_tutorial/notebooks/fc76b5de-af0a-4c0e-93ff-937df3c2c5bd:/inout mmbirb/pmx /bin/bash -c \"cli.py gentop -o /inout/posre_Protein_chain_A.itp -ff amber99sb-star-ildn-mut -itp /inout/posre_Protein_chain_A.itp\"\n",
      "\n",
      "2020-06-10 13:48:57,615 [MainThread  ] [INFO ]  Exit code 0\n",
      "\n",
      "2020-06-10 13:48:57,616 [MainThread  ] [INFO ]  ---------------------------------------------------------------------------------------------------------\n",
      " Program: gentop | pmx version 2.0+35.gfbfc0c1\n",
      "---------------------------------------------------------------------------------------------------------\n",
      "     File Options          | Type(s)|Mode    | File(s)                | Description \n",
      "---------------------------------------------------------------------------------------------------------\n",
      "     -p                    | top|r           | topol.top              | Input Topology File \n",
      "     -itp !                | itp|r           | /inout/posre_Protein_chain_A.itp   | Optional Input ITP  File \n",
      "     -o !                  | top,itp|w       | /inout/posre_Protein_chain_A.itp   | Topology or ITP output file  \n",
      "     -ff !                 | ff|dir          | amber99sb-star-ildn-mut.ff   | Mutation force field  \n",
      "     -log                  | log|w           | bstate.log             | Log file \n",
      "---------------------------------------------------------------------------------------------------------\n",
      "     Options               | Type            | Value                  | Description \n",
      "---------------------------------------------------------------------------------------------------------\n",
      "     -[no]h                | bool            | False                  | Show help message and quit  \n",
      "     -[no]split            | bool            | False                  | Write splitted topologies  \n",
      "                           |                 |                        | for vdw and q morphes \n",
      "     -[no]scale_mass       | bool            | True                   | scale_mass \n",
      "     -[no]dna              | bool            | False                  | generate hybrid residue for  \n",
      "                           |                 |                        | the DNA nucleotides \n",
      "     -[no]rna              | bool            | False                  | generate hybrid residue for  \n",
      "                           |                 |                        | the RNA nucleotides \n",
      "---------------------------------------------------------------------------------------------------------\n",
      "\n",
      "Opening forcefield: /pmx/pmx/data/mutff45/amber99sb-star-ildn-mut.ff\n",
      "Opening forcefield: /pmx/pmx/data/mutff45/amber99sb-star-ildn-mut.ff\n",
      "log_> Reading input .itp file \"/inout/posre_Protein_chain_A.itp\"\"\n",
      "Opening forcefield: /pmx/pmx/data/mutff45/amber99sb-star-ildn-mut.ff\n",
      "log_> Making bonds for state B -> 0 bonds with perturbed atoms\n",
      "log_> Making angles for state B -> 0 angles with perturbed atoms\n",
      "log_> Making dihedrals for state B -> 0 dihedrals with perturbed atoms\n",
      "log_> Removed 0 fake dihedrals\n",
      "log_> Total charge of state A =  0.0\n",
      "log_> Total charge of state B =  0.0\n",
      "\n",
      "making b-states done...........\n",
      "\n",
      "\n",
      "2020-06-10 13:48:57,617 [MainThread  ] [INFO ]  Replace (copy): /home/gbayarri_local/projects/BioBB/tutorials/biobb_wf_pmx_tutorial/biobb_wf_pmx_tutorial/notebooks/fc76b5de-af0a-4c0e-93ff-937df3c2c5bd/posre_Protein_chain_A.itp to: 55eb1da7-06c0-4234-86a8-71a4823aef42/posre_Protein_chain_A.itp\n",
      "2020-06-10 13:48:57,618 [MainThread  ] [INFO ]  Change references for container:\n",
      "2020-06-10 13:48:57,619 [MainThread  ] [INFO ]      unique_dir_output_file: /inout/p2g.top\n",
      "2020-06-10 13:48:57,619 [MainThread  ] [INFO ]  Using Docker image mmbirb/pmx\n",
      "2020-06-10 13:48:58,992 [MainThread  ] [INFO ]  docker run -v /home/gbayarri_local/projects/BioBB/tutorials/biobb_wf_pmx_tutorial/biobb_wf_pmx_tutorial/notebooks/fc76b5de-af0a-4c0e-93ff-937df3c2c5bd:/inout mmbirb/pmx /bin/bash -c \"cli.py gentop -o /inout/p2g.top -ff amber99sb-star-ildn-mut -p /inout/p2g.top\"\n",
      "\n",
      "2020-06-10 13:48:58,994 [MainThread  ] [INFO ]  Exit code 0\n",
      "\n",
      "2020-06-10 13:48:58,995 [MainThread  ] [INFO ]  ---------------------------------------------------------------------------------------------------------\n",
      " Program: gentop | pmx version 2.0+35.gfbfc0c1\n",
      "---------------------------------------------------------------------------------------------------------\n",
      "     File Options          | Type(s)|Mode    | File(s)                | Description \n",
      "---------------------------------------------------------------------------------------------------------\n",
      "     -p !                  | top|r           | /inout/p2g.top         | Input Topology File \n",
      "     -itp                  | itp|r           | topol.itp              | Optional Input ITP  File \n",
      "     -o !                  | top,itp|w       | /inout/p2g.top         | Topology or ITP output file  \n",
      "     -ff !                 | ff|dir          | amber99sb-star-ildn-mut.ff   | Mutation force field  \n",
      "     -log                  | log|w           | bstate.log             | Log file \n",
      "---------------------------------------------------------------------------------------------------------\n",
      "     Options               | Type            | Value                  | Description \n",
      "---------------------------------------------------------------------------------------------------------\n",
      "     -[no]h                | bool            | False                  | Show help message and quit  \n",
      "     -[no]split            | bool            | False                  | Write splitted topologies  \n",
      "                           |                 |                        | for vdw and q morphes \n",
      "     -[no]scale_mass       | bool            | True                   | scale_mass \n",
      "     -[no]dna              | bool            | False                  | generate hybrid residue for  \n",
      "                           |                 |                        | the DNA nucleotides \n",
      "     -[no]rna              | bool            | False                  | generate hybrid residue for  \n",
      "                           |                 |                        | the RNA nucleotides \n",
      "---------------------------------------------------------------------------------------------------------\n",
      "\n",
      "Opening forcefield: /pmx/pmx/data/mutff45/amber99sb-star-ildn-mut.ff\n",
      "Opening forcefield: /pmx/pmx/data/mutff45/amber99sb-star-ildn-mut.ff\n",
      "log_> Reading input .top file \"/inout/p2g.top\"\n",
      "log_> Making bonds for state B -> 0 bonds with perturbed atoms\n",
      "log_> Making angles for state B -> 0 angles with perturbed atoms\n",
      "log_> Making dihedrals for state B -> 0 dihedrals with perturbed atoms\n",
      "log_> Removed 0 fake dihedrals\n",
      "log_> Total charge of state A =  0.0\n",
      "log_> Total charge of state B =  0.0\n",
      "\n",
      "making b-states done...........\n",
      "\n",
      "\n"
     ]
    },
    {
     "name": "stderr",
     "output_type": "stream",
     "text": [
      "2020-06-10 13:48:58,996 [MainThread  ] [INFO ]  Replace (copy): /home/gbayarri_local/projects/BioBB/tutorials/biobb_wf_pmx_tutorial/biobb_wf_pmx_tutorial/notebooks/fc76b5de-af0a-4c0e-93ff-937df3c2c5bd/p2g.top to: 55eb1da7-06c0-4234-86a8-71a4823aef42/p2g.top\n",
      "2020-06-10 13:48:58,997 [MainThread  ] [INFO ]  Change references for container:\n",
      "2020-06-10 13:48:58,998 [MainThread  ] [INFO ]      unique_dir_output_file: /inout/p2g_Protein_chain_A.itp\n",
      "2020-06-10 13:48:58,998 [MainThread  ] [INFO ]  Using Docker image mmbirb/pmx\n",
      "2020-06-10 13:49:04,147 [MainThread  ] [INFO ]  docker run -v /home/gbayarri_local/projects/BioBB/tutorials/biobb_wf_pmx_tutorial/biobb_wf_pmx_tutorial/notebooks/fc76b5de-af0a-4c0e-93ff-937df3c2c5bd:/inout mmbirb/pmx /bin/bash -c \"cli.py gentop -o /inout/p2g_Protein_chain_A.itp -ff amber99sb-star-ildn-mut -itp /inout/p2g_Protein_chain_A.itp\"\n",
      "\n",
      "2020-06-10 13:49:04,148 [MainThread  ] [INFO ]  Exit code 0\n",
      "\n",
      "2020-06-10 13:49:04,149 [MainThread  ] [INFO ]  ---------------------------------------------------------------------------------------------------------\n",
      " Program: gentop | pmx version 2.0+35.gfbfc0c1\n",
      "---------------------------------------------------------------------------------------------------------\n",
      "     File Options          | Type(s)|Mode    | File(s)                | Description \n",
      "---------------------------------------------------------------------------------------------------------\n",
      "     -p                    | top|r           | topol.top              | Input Topology File \n",
      "     -itp !                | itp|r           | /inout/p2g_Protein_chain_A.itp   | Optional Input ITP  File \n",
      "     -o !                  | top,itp|w       | /inout/p2g_Protein_chain_A.itp   | Topology or ITP output file  \n",
      "     -ff !                 | ff|dir          | amber99sb-star-ildn-mut.ff   | Mutation force field  \n",
      "     -log                  | log|w           | bstate.log             | Log file \n",
      "---------------------------------------------------------------------------------------------------------\n",
      "     Options               | Type            | Value                  | Description \n",
      "---------------------------------------------------------------------------------------------------------\n",
      "     -[no]h                | bool            | False                  | Show help message and quit  \n",
      "     -[no]split            | bool            | False                  | Write splitted topologies  \n",
      "                           |                 |                        | for vdw and q morphes \n",
      "     -[no]scale_mass       | bool            | True                   | scale_mass \n",
      "     -[no]dna              | bool            | False                  | generate hybrid residue for  \n",
      "                           |                 |                        | the DNA nucleotides \n",
      "     -[no]rna              | bool            | False                  | generate hybrid residue for  \n",
      "                           |                 |                        | the RNA nucleotides \n",
      "---------------------------------------------------------------------------------------------------------\n",
      "\n",
      "Opening forcefield: /pmx/pmx/data/mutff45/amber99sb-star-ildn-mut.ff\n",
      "Opening forcefield: /pmx/pmx/data/mutff45/amber99sb-star-ildn-mut.ff\n",
      "log_> Reading input .itp file \"/inout/p2g_Protein_chain_A.itp\"\"\n",
      "Opening forcefield: /pmx/pmx/data/mutff45/amber99sb-star-ildn-mut.ff\n",
      "log_> Scanning database for I2A \n",
      "log_> Hybrid Residue -> 10 | I2A \n",
      "log_> Making bonds for state B -> 20 bonds with perturbed atoms\n",
      "log_> Making angles for state B -> 40 angles with perturbed atoms\n",
      "default-star\n",
      "log_> Making dihedrals for state B -> 52 dihedrals with perturbed atoms\n",
      "log_> Removed 0 fake dihedrals\n",
      "log_> Total charge of state A =  10.0\n",
      "log_> Total charge of state B =  10.0\n",
      "pmx.forcefield_> Making target charge 0 for residue I2A\n",
      "pmx.forcefield_> No corrections applied to ensure integer charges\n",
      "\n",
      "making b-states done...........\n",
      "\n",
      "\n",
      "2020-06-10 13:49:04,151 [MainThread  ] [INFO ]  Replace (copy): /home/gbayarri_local/projects/BioBB/tutorials/biobb_wf_pmx_tutorial/biobb_wf_pmx_tutorial/notebooks/fc76b5de-af0a-4c0e-93ff-937df3c2c5bd/p2g_Protein_chain_A.itp to: 55eb1da7-06c0-4234-86a8-71a4823aef42/p2g_Protein_chain_A.itp\n",
      "2020-06-10 13:49:04,152 [MainThread  ] [INFO ]  End of looping throug files\n",
      "2020-06-10 13:49:04,152 [MainThread  ] [INFO ]  Compressing topology to: pmxA_top.zip\n",
      "2020-06-10 13:49:04,154 [MainThread  ] [INFO ]  Ignored file 55eb1da7-06c0-4234-86a8-71a4823aef42/amber99sb-star-ildn-mut.ff/forcefield.itp\n",
      "2020-06-10 13:49:04,165 [MainThread  ] [INFO ]  Ignored file 55eb1da7-06c0-4234-86a8-71a4823aef42/amber99sb-star-ildn-mut.ff/spce.itp\n",
      "2020-06-10 13:49:04,165 [MainThread  ] [INFO ]  Ignored file 55eb1da7-06c0-4234-86a8-71a4823aef42/amber99sb-star-ildn-mut.ff/ions.itp\n",
      "2020-06-10 13:49:04,172 [MainThread  ] [INFO ]  Adding:\n",
      "2020-06-10 13:49:04,173 [MainThread  ] [INFO ]  ['55eb1da7-06c0-4234-86a8-71a4823aef42/p2g.top', '55eb1da7-06c0-4234-86a8-71a4823aef42/p2g_Ion_chain_C.itp', '55eb1da7-06c0-4234-86a8-71a4823aef42/p2g_Protein_chain_A.itp', '55eb1da7-06c0-4234-86a8-71a4823aef42/posre_Ion_chain_C.itp']\n",
      "2020-06-10 13:49:04,175 [MainThread  ] [INFO ]  to: /home/gbayarri_local/projects/BioBB/tutorials/biobb_wf_pmx_tutorial/biobb_wf_pmx_tutorial/notebooks/pmxA_top.zip\n",
      "2020-06-10 13:49:04,176 [MainThread  ] [INFO ]  Removed: ['55eb1da7-06c0-4234-86a8-71a4823aef42', '/home/gbayarri_local/projects/BioBB/tutorials/biobb_wf_pmx_tutorial/biobb_wf_pmx_tutorial/notebooks/fc76b5de-af0a-4c0e-93ff-937df3c2c5bd']\n",
      "2020-06-10 13:49:04,191 [MainThread  ] [INFO ]  Extracting: /home/gbayarri_local/projects/BioBB/tutorials/biobb_wf_pmx_tutorial/biobb_wf_pmx_tutorial/notebooks/pdb2gmxB_top.zip\n",
      "2020-06-10 13:49:04,193 [MainThread  ] [INFO ]  to:\n",
      "2020-06-10 13:49:04,197 [MainThread  ] [INFO ]  ['5a328560-acde-43cc-84da-2243a8518da7/p2g.top', '5a328560-acde-43cc-84da-2243a8518da7/p2g_Ion_chain_C.itp', '5a328560-acde-43cc-84da-2243a8518da7/p2g_Protein_chain_A.itp', '5a328560-acde-43cc-84da-2243a8518da7/posre_Ion_chain_C.itp', '5a328560-acde-43cc-84da-2243a8518da7/posre_Protein_chain_A.itp']\n",
      "2020-06-10 13:49:04,198 [MainThread  ] [INFO ]  Unzipping: \n",
      "2020-06-10 13:49:04,199 [MainThread  ] [INFO ]  pdb2gmxB_top.zip\n",
      "2020-06-10 13:49:04,199 [MainThread  ] [INFO ]  To: \n",
      "2020-06-10 13:49:04,202 [MainThread  ] [INFO ]  5a328560-acde-43cc-84da-2243a8518da7/p2g.top\n",
      "2020-06-10 13:49:04,203 [MainThread  ] [INFO ]  5a328560-acde-43cc-84da-2243a8518da7/p2g_Ion_chain_C.itp\n",
      "2020-06-10 13:49:04,203 [MainThread  ] [INFO ]  5a328560-acde-43cc-84da-2243a8518da7/p2g_Protein_chain_A.itp\n",
      "2020-06-10 13:49:04,203 [MainThread  ] [INFO ]  5a328560-acde-43cc-84da-2243a8518da7/posre_Ion_chain_C.itp\n",
      "2020-06-10 13:49:04,204 [MainThread  ] [INFO ]  5a328560-acde-43cc-84da-2243a8518da7/posre_Protein_chain_A.itp\n",
      "2020-06-10 13:49:04,205 [MainThread  ] [INFO ]  Gentop will be executed on this list of files: \n",
      "2020-06-10 13:49:04,206 [MainThread  ] [INFO ]  {'posre_Protein_chain_A.itp', 'p2g.top', 'p2g_Protein_chain_A.itp'}\n",
      "2020-06-10 13:49:04,207 [MainThread  ] [INFO ]  Unique dir: /home/gbayarri_local/projects/BioBB/tutorials/biobb_wf_pmx_tutorial/biobb_wf_pmx_tutorial/notebooks/61cbc917-f450-46aa-bbf3-2b207a9d3784\n",
      "2020-06-10 13:49:04,207 [MainThread  ] [INFO ]  /home/gbayarri_local/projects/BioBB/tutorials/biobb_wf_pmx_tutorial/biobb_wf_pmx_tutorial/notebooks/61cbc917-f450-46aa-bbf3-2b207a9d3784 files: []\n",
      "2020-06-10 13:49:04,208 [MainThread  ] [INFO ]  Copy all files of the unzipped original topology to unique dir:\n",
      "2020-06-10 13:49:04,209 [MainThread  ] [INFO ]      Copy: 5a328560-acde-43cc-84da-2243a8518da7/p2g.top to: /home/gbayarri_local/projects/BioBB/tutorials/biobb_wf_pmx_tutorial/biobb_wf_pmx_tutorial/notebooks/61cbc917-f450-46aa-bbf3-2b207a9d3784\n",
      "2020-06-10 13:49:04,213 [MainThread  ] [INFO ]      Copy: 5a328560-acde-43cc-84da-2243a8518da7/p2g_Protein_chain_A.itp to: /home/gbayarri_local/projects/BioBB/tutorials/biobb_wf_pmx_tutorial/biobb_wf_pmx_tutorial/notebooks/61cbc917-f450-46aa-bbf3-2b207a9d3784\n",
      "2020-06-10 13:49:04,214 [MainThread  ] [INFO ]      Copy: 5a328560-acde-43cc-84da-2243a8518da7/posre_Ion_chain_C.itp to: /home/gbayarri_local/projects/BioBB/tutorials/biobb_wf_pmx_tutorial/biobb_wf_pmx_tutorial/notebooks/61cbc917-f450-46aa-bbf3-2b207a9d3784\n"
     ]
    },
    {
     "name": "stderr",
     "output_type": "stream",
     "text": [
      "2020-06-10 13:49:04,215 [MainThread  ] [INFO ]      Copy: 5a328560-acde-43cc-84da-2243a8518da7/posre_Protein_chain_A.itp to: /home/gbayarri_local/projects/BioBB/tutorials/biobb_wf_pmx_tutorial/biobb_wf_pmx_tutorial/notebooks/61cbc917-f450-46aa-bbf3-2b207a9d3784\n",
      "2020-06-10 13:49:04,216 [MainThread  ] [INFO ]      Copy: 5a328560-acde-43cc-84da-2243a8518da7/p2g_Ion_chain_C.itp to: /home/gbayarri_local/projects/BioBB/tutorials/biobb_wf_pmx_tutorial/biobb_wf_pmx_tutorial/notebooks/61cbc917-f450-46aa-bbf3-2b207a9d3784\n",
      "2020-06-10 13:49:04,216 [MainThread  ] [INFO ]  List of files where gentop will be applied: {'posre_Protein_chain_A.itp', 'p2g.top', 'p2g_Protein_chain_A.itp'}\n",
      "2020-06-10 13:49:04,217 [MainThread  ] [INFO ]  Change references for container:\n",
      "2020-06-10 13:49:04,218 [MainThread  ] [INFO ]      unique_dir_output_file: /inout/posre_Protein_chain_A.itp\n",
      "2020-06-10 13:49:04,218 [MainThread  ] [INFO ]  Using Docker image mmbirb/pmx\n",
      "2020-06-10 13:49:05,544 [MainThread  ] [INFO ]  docker run -v /home/gbayarri_local/projects/BioBB/tutorials/biobb_wf_pmx_tutorial/biobb_wf_pmx_tutorial/notebooks/61cbc917-f450-46aa-bbf3-2b207a9d3784:/inout mmbirb/pmx /bin/bash -c \"cli.py gentop -o /inout/posre_Protein_chain_A.itp -ff amber99sb-star-ildn-mut -itp /inout/posre_Protein_chain_A.itp\"\n",
      "\n",
      "2020-06-10 13:49:05,545 [MainThread  ] [INFO ]  Exit code 0\n",
      "\n",
      "2020-06-10 13:49:05,545 [MainThread  ] [INFO ]  ---------------------------------------------------------------------------------------------------------\n",
      " Program: gentop | pmx version 2.0+35.gfbfc0c1\n",
      "---------------------------------------------------------------------------------------------------------\n",
      "     File Options          | Type(s)|Mode    | File(s)                | Description \n",
      "---------------------------------------------------------------------------------------------------------\n",
      "     -p                    | top|r           | topol.top              | Input Topology File \n",
      "     -itp !                | itp|r           | /inout/posre_Protein_chain_A.itp   | Optional Input ITP  File \n",
      "     -o !                  | top,itp|w       | /inout/posre_Protein_chain_A.itp   | Topology or ITP output file  \n",
      "     -ff !                 | ff|dir          | amber99sb-star-ildn-mut.ff   | Mutation force field  \n",
      "     -log                  | log|w           | bstate.log             | Log file \n",
      "---------------------------------------------------------------------------------------------------------\n",
      "     Options               | Type            | Value                  | Description \n",
      "---------------------------------------------------------------------------------------------------------\n",
      "     -[no]h                | bool            | False                  | Show help message and quit  \n",
      "     -[no]split            | bool            | False                  | Write splitted topologies  \n",
      "                           |                 |                        | for vdw and q morphes \n",
      "     -[no]scale_mass       | bool            | True                   | scale_mass \n",
      "     -[no]dna              | bool            | False                  | generate hybrid residue for  \n",
      "                           |                 |                        | the DNA nucleotides \n",
      "     -[no]rna              | bool            | False                  | generate hybrid residue for  \n",
      "                           |                 |                        | the RNA nucleotides \n",
      "---------------------------------------------------------------------------------------------------------\n",
      "\n",
      "Opening forcefield: /pmx/pmx/data/mutff45/amber99sb-star-ildn-mut.ff\n",
      "Opening forcefield: /pmx/pmx/data/mutff45/amber99sb-star-ildn-mut.ff\n",
      "log_> Reading input .itp file \"/inout/posre_Protein_chain_A.itp\"\"\n",
      "Opening forcefield: /pmx/pmx/data/mutff45/amber99sb-star-ildn-mut.ff\n",
      "log_> Making bonds for state B -> 0 bonds with perturbed atoms\n",
      "log_> Making angles for state B -> 0 angles with perturbed atoms\n",
      "log_> Making dihedrals for state B -> 0 dihedrals with perturbed atoms\n",
      "log_> Removed 0 fake dihedrals\n",
      "log_> Total charge of state A =  0.0\n",
      "log_> Total charge of state B =  0.0\n",
      "\n",
      "making b-states done...........\n",
      "\n",
      "\n",
      "2020-06-10 13:49:05,546 [MainThread  ] [INFO ]  Replace (copy): /home/gbayarri_local/projects/BioBB/tutorials/biobb_wf_pmx_tutorial/biobb_wf_pmx_tutorial/notebooks/61cbc917-f450-46aa-bbf3-2b207a9d3784/posre_Protein_chain_A.itp to: 5a328560-acde-43cc-84da-2243a8518da7/posre_Protein_chain_A.itp\n",
      "2020-06-10 13:49:05,547 [MainThread  ] [INFO ]  Change references for container:\n",
      "2020-06-10 13:49:05,548 [MainThread  ] [INFO ]      unique_dir_output_file: /inout/p2g.top\n",
      "2020-06-10 13:49:05,548 [MainThread  ] [INFO ]  Using Docker image mmbirb/pmx\n",
      "2020-06-10 13:49:06,890 [MainThread  ] [INFO ]  docker run -v /home/gbayarri_local/projects/BioBB/tutorials/biobb_wf_pmx_tutorial/biobb_wf_pmx_tutorial/notebooks/61cbc917-f450-46aa-bbf3-2b207a9d3784:/inout mmbirb/pmx /bin/bash -c \"cli.py gentop -o /inout/p2g.top -ff amber99sb-star-ildn-mut -p /inout/p2g.top\"\n",
      "\n",
      "2020-06-10 13:49:06,892 [MainThread  ] [INFO ]  Exit code 0\n",
      "\n",
      "2020-06-10 13:49:06,892 [MainThread  ] [INFO ]  ---------------------------------------------------------------------------------------------------------\n",
      " Program: gentop | pmx version 2.0+35.gfbfc0c1\n",
      "---------------------------------------------------------------------------------------------------------\n",
      "     File Options          | Type(s)|Mode    | File(s)                | Description \n",
      "---------------------------------------------------------------------------------------------------------\n",
      "     -p !                  | top|r           | /inout/p2g.top         | Input Topology File \n",
      "     -itp                  | itp|r           | topol.itp              | Optional Input ITP  File \n",
      "     -o !                  | top,itp|w       | /inout/p2g.top         | Topology or ITP output file  \n",
      "     -ff !                 | ff|dir          | amber99sb-star-ildn-mut.ff   | Mutation force field  \n",
      "     -log                  | log|w           | bstate.log             | Log file \n",
      "---------------------------------------------------------------------------------------------------------\n",
      "     Options               | Type            | Value                  | Description \n",
      "---------------------------------------------------------------------------------------------------------\n",
      "     -[no]h                | bool            | False                  | Show help message and quit  \n",
      "     -[no]split            | bool            | False                  | Write splitted topologies  \n",
      "                           |                 |                        | for vdw and q morphes \n",
      "     -[no]scale_mass       | bool            | True                   | scale_mass \n",
      "     -[no]dna              | bool            | False                  | generate hybrid residue for  \n",
      "                           |                 |                        | the DNA nucleotides \n",
      "     -[no]rna              | bool            | False                  | generate hybrid residue for  \n",
      "                           |                 |                        | the RNA nucleotides \n",
      "---------------------------------------------------------------------------------------------------------\n",
      "\n",
      "Opening forcefield: /pmx/pmx/data/mutff45/amber99sb-star-ildn-mut.ff\n",
      "Opening forcefield: /pmx/pmx/data/mutff45/amber99sb-star-ildn-mut.ff\n",
      "log_> Reading input .top file \"/inout/p2g.top\"\n",
      "log_> Making bonds for state B -> 0 bonds with perturbed atoms\n",
      "log_> Making angles for state B -> 0 angles with perturbed atoms\n",
      "log_> Making dihedrals for state B -> 0 dihedrals with perturbed atoms\n",
      "log_> Removed 0 fake dihedrals\n",
      "log_> Total charge of state A =  0.0\n",
      "log_> Total charge of state B =  0.0\n",
      "\n",
      "making b-states done...........\n",
      "\n",
      "\n",
      "2020-06-10 13:49:06,894 [MainThread  ] [INFO ]  Replace (copy): /home/gbayarri_local/projects/BioBB/tutorials/biobb_wf_pmx_tutorial/biobb_wf_pmx_tutorial/notebooks/61cbc917-f450-46aa-bbf3-2b207a9d3784/p2g.top to: 5a328560-acde-43cc-84da-2243a8518da7/p2g.top\n",
      "2020-06-10 13:49:06,895 [MainThread  ] [INFO ]  Change references for container:\n",
      "2020-06-10 13:49:06,896 [MainThread  ] [INFO ]      unique_dir_output_file: /inout/p2g_Protein_chain_A.itp\n",
      "2020-06-10 13:49:06,896 [MainThread  ] [INFO ]  Using Docker image mmbirb/pmx\n"
     ]
    },
    {
     "name": "stderr",
     "output_type": "stream",
     "text": [
      "2020-06-10 13:49:11,969 [MainThread  ] [INFO ]  docker run -v /home/gbayarri_local/projects/BioBB/tutorials/biobb_wf_pmx_tutorial/biobb_wf_pmx_tutorial/notebooks/61cbc917-f450-46aa-bbf3-2b207a9d3784:/inout mmbirb/pmx /bin/bash -c \"cli.py gentop -o /inout/p2g_Protein_chain_A.itp -ff amber99sb-star-ildn-mut -itp /inout/p2g_Protein_chain_A.itp\"\n",
      "\n",
      "2020-06-10 13:49:11,971 [MainThread  ] [INFO ]  Exit code 0\n",
      "\n",
      "2020-06-10 13:49:11,973 [MainThread  ] [INFO ]  ---------------------------------------------------------------------------------------------------------\n",
      " Program: gentop | pmx version 2.0+35.gfbfc0c1\n",
      "---------------------------------------------------------------------------------------------------------\n",
      "     File Options          | Type(s)|Mode    | File(s)                | Description \n",
      "---------------------------------------------------------------------------------------------------------\n",
      "     -p                    | top|r           | topol.top              | Input Topology File \n",
      "     -itp !                | itp|r           | /inout/p2g_Protein_chain_A.itp   | Optional Input ITP  File \n",
      "     -o !                  | top,itp|w       | /inout/p2g_Protein_chain_A.itp   | Topology or ITP output file  \n",
      "     -ff !                 | ff|dir          | amber99sb-star-ildn-mut.ff   | Mutation force field  \n",
      "     -log                  | log|w           | bstate.log             | Log file \n",
      "---------------------------------------------------------------------------------------------------------\n",
      "     Options               | Type            | Value                  | Description \n",
      "---------------------------------------------------------------------------------------------------------\n",
      "     -[no]h                | bool            | False                  | Show help message and quit  \n",
      "     -[no]split            | bool            | False                  | Write splitted topologies  \n",
      "                           |                 |                        | for vdw and q morphes \n",
      "     -[no]scale_mass       | bool            | True                   | scale_mass \n",
      "     -[no]dna              | bool            | False                  | generate hybrid residue for  \n",
      "                           |                 |                        | the DNA nucleotides \n",
      "     -[no]rna              | bool            | False                  | generate hybrid residue for  \n",
      "                           |                 |                        | the RNA nucleotides \n",
      "---------------------------------------------------------------------------------------------------------\n",
      "\n",
      "Opening forcefield: /pmx/pmx/data/mutff45/amber99sb-star-ildn-mut.ff\n",
      "Opening forcefield: /pmx/pmx/data/mutff45/amber99sb-star-ildn-mut.ff\n",
      "log_> Reading input .itp file \"/inout/p2g_Protein_chain_A.itp\"\"\n",
      "Opening forcefield: /pmx/pmx/data/mutff45/amber99sb-star-ildn-mut.ff\n",
      "log_> Scanning database for A2I \n",
      "log_> Hybrid Residue -> 10 | A2I \n",
      "log_> Making bonds for state B -> 20 bonds with perturbed atoms\n",
      "log_> Making angles for state B -> 40 angles with perturbed atoms\n",
      "default-star\n",
      "log_> Making dihedrals for state B -> 52 dihedrals with perturbed atoms\n",
      "log_> Removed 0 fake dihedrals\n",
      "log_> Total charge of state A =  10.0\n",
      "log_> Total charge of state B =  10.0\n",
      "pmx.forcefield_> Making target charge 0 for residue A2I\n",
      "pmx.forcefield_> No corrections applied to ensure integer charges\n",
      "\n",
      "making b-states done...........\n",
      "\n",
      "\n",
      "2020-06-10 13:49:11,979 [MainThread  ] [INFO ]  Replace (copy): /home/gbayarri_local/projects/BioBB/tutorials/biobb_wf_pmx_tutorial/biobb_wf_pmx_tutorial/notebooks/61cbc917-f450-46aa-bbf3-2b207a9d3784/p2g_Protein_chain_A.itp to: 5a328560-acde-43cc-84da-2243a8518da7/p2g_Protein_chain_A.itp\n",
      "2020-06-10 13:49:11,981 [MainThread  ] [INFO ]  End of looping throug files\n",
      "2020-06-10 13:49:11,983 [MainThread  ] [INFO ]  Compressing topology to: pmxB_top.zip\n",
      "2020-06-10 13:49:11,987 [MainThread  ] [INFO ]  Ignored file 5a328560-acde-43cc-84da-2243a8518da7/amber99sb-star-ildn-mut.ff/forcefield.itp\n",
      "2020-06-10 13:49:12,004 [MainThread  ] [INFO ]  Ignored file 5a328560-acde-43cc-84da-2243a8518da7/amber99sb-star-ildn-mut.ff/spce.itp\n",
      "2020-06-10 13:49:12,006 [MainThread  ] [INFO ]  Ignored file 5a328560-acde-43cc-84da-2243a8518da7/amber99sb-star-ildn-mut.ff/ions.itp\n",
      "2020-06-10 13:49:12,011 [MainThread  ] [INFO ]  Adding:\n",
      "2020-06-10 13:49:12,012 [MainThread  ] [INFO ]  ['5a328560-acde-43cc-84da-2243a8518da7/p2g.top', '5a328560-acde-43cc-84da-2243a8518da7/p2g_Ion_chain_C.itp', '5a328560-acde-43cc-84da-2243a8518da7/p2g_Protein_chain_A.itp', '5a328560-acde-43cc-84da-2243a8518da7/posre_Ion_chain_C.itp']\n",
      "2020-06-10 13:49:12,013 [MainThread  ] [INFO ]  to: /home/gbayarri_local/projects/BioBB/tutorials/biobb_wf_pmx_tutorial/biobb_wf_pmx_tutorial/notebooks/pmxB_top.zip\n",
      "2020-06-10 13:49:12,014 [MainThread  ] [INFO ]  Removed: ['5a328560-acde-43cc-84da-2243a8518da7', '/home/gbayarri_local/projects/BioBB/tutorials/biobb_wf_pmx_tutorial/biobb_wf_pmx_tutorial/notebooks/61cbc917-f450-46aa-bbf3-2b207a9d3784']\n"
     ]
    },
    {
     "data": {
      "text/plain": [
       "0"
      ]
     },
     "execution_count": 7,
     "metadata": {},
     "output_type": "execute_result"
    }
   ],
   "source": [
    "# pmx gentop: Gentop command (Generate Hybrid Topology) from pmx package\n",
    "\n",
    "# Import module\n",
    "from biobb_pmx.pmx.pmxgentop import Pmxgentop\n",
    "\n",
    "#### State A (WT->Mut) ####\n",
    "\n",
    "# Create prop dict and inputs/outputs\n",
    "output_pmxtopA_top_zip = 'pmxA_top.zip'\n",
    "output_pmxtopA_log = 'pmxA_top.log'\n",
    "  \n",
    "prop = {\n",
    "    'force_field' : 'amber99sb-star-ildn-mut',\n",
    "    'container_path' : 'docker',\n",
    "    'container_image' : 'mmbirb/pmx'\n",
    "    #'pmx_cli_path' : 'PATH/pmx-master/pmx/scripts/cli.py'\n",
    "}\n",
    "\n",
    "#Create and launch bb\n",
    "Pmxgentop(input_top_zip_path=output_pdb2gmxA_top_zip,\n",
    "       output_top_zip_path=output_pmxtopA_top_zip,\n",
    "       output_log_path=output_pmxtopA_log,\n",
    "       properties=prop).launch()\n",
    "\n",
    "#### State B (Mut->WT) ####\n",
    "\n",
    "# Create prop dict and inputs/outputs\n",
    "output_pmxtopB_top_zip = 'pmxB_top.zip'\n",
    "output_pmxtopB_log = 'pmxB_top.log'\n",
    "  \n",
    "prop = {\n",
    "    'force_field' : 'amber99sb-star-ildn-mut',\n",
    "    'container_path' : 'docker',\n",
    "    'container_image' : 'mmbirb/pmx'\n",
    "    #'pmx_cli_path' : 'PATH/pmx-master/pmx/scripts/cli.py'\n",
    "}\n",
    "\n",
    "# Create and launch bb\n",
    "Pmxgentop(input_top_zip_path=output_pdb2gmxB_top_zip,\n",
    "       output_top_zip_path=output_pmxtopB_top_zip,\n",
    "       output_log_path=output_pmxtopB_log,\n",
    "       properties=prop).launch()"
   ]
  },
  {
   "cell_type": "markdown",
   "metadata": {},
   "source": [
    "<a id=\"index\"></a>\n",
    "## Creating an index file for the dummy atoms in the morphed structure\n",
    "\n",
    "Some of the **mutations** done to the protein residues involve the generation of **dummy atoms**, atoms that are **slowly appearing** during the **transition** from the WT to the mutated structure. These **dummy atoms** need to be energy minimized before starting the **thermodynamic integration** step. If there are **no dummy atoms** in the corresponding state, this **energy minimization step can be omitted**.\n",
    "\n",
    "In this particular example, the **WT to mutated protein transition** (Isoleucine to Alanine) is not generating any **dummy atoms**, so it does not need any minimization step. Conversely, the **mutated to WT transition** (Alanine to Isoleucine) is generating 9 **dummy atoms**, so the minimization step is needed for the **reverse transition** (stateB).\n",
    "\n",
    "The **GROMACS** index file is built to **identify the dummy atoms** in the following **energy minimization** step, generating a new **FREEZE group** containing all atoms of the system except the **dummy atoms**. In the minimization process, this group will be **kept frozen**, whereas the **dummy atoms** will be left able to move. \n",
    "***\n",
    "**Building Blocks** used:\n",
    " - [MakeNdx](https://biobb-md.readthedocs.io/en/latest/gromacs.html#module-gromacs.make_ndx) from **biobb_md.gromacs.make_ndx**\n",
    "***"
   ]
  },
  {
   "cell_type": "code",
   "execution_count": 8,
   "metadata": {},
   "outputs": [
    {
     "name": "stderr",
     "output_type": "stream",
     "text": [
      "2020-06-10 13:49:12,064 [MainThread  ] [INFO ]  GROMACS MakeNdx 20190 version detected\n",
      "2020-06-10 13:49:12,066 [MainThread  ] [INFO ]  Not using any container\n",
      "2020-06-10 13:49:12,534 [MainThread  ] [INFO ]  echo -e 'a D*\n",
      "0 & ! 19\n",
      "name 20 FREEZE\\nq' | gmx -nobackup -nocopyright make_ndx -f pdb2gmxB.pdb -o indexB.ndx\n",
      "\n",
      "2020-06-10 13:49:12,535 [MainThread  ] [INFO ]  Exit code 0\n",
      "\n",
      "2020-06-10 13:49:12,535 [MainThread  ] [INFO ]  Going to read 0 old index file(s)\n",
      "Analysing residue names:\n",
      "There are:   135    Protein residues\n",
      "There are:    75      Other residues\n",
      "There are: 10949      Water residues\n",
      "Analysing Protein...\n",
      "Analysing residues not classified as Protein/DNA/RNA/Water and splitting into groups...\n",
      "\n",
      "  0 System              : 35147 atoms\n",
      "  1 Protein             :  2207 atoms\n",
      "  2 Protein-H           :  1084 atoms\n",
      "  3 C-alpha             :   135 atoms\n",
      "  4 Backbone            :   405 atoms\n",
      "  5 MainChain           :   541 atoms\n",
      "  6 MainChain+Cb        :   667 atoms\n",
      "  7 MainChain+H         :   672 atoms\n",
      "  8 SideChain           :  1535 atoms\n",
      "  9 SideChain-H         :   543 atoms\n",
      " 10 Prot-Masses         :  2207 atoms\n",
      " 11 non-Protein         : 32940 atoms\n",
      " 12 Other               :    93 atoms\n",
      " 13 A2I                 :    19 atoms\n",
      " 14 NaJ                 :    32 atoms\n",
      " 15 ClJ                 :    42 atoms\n",
      " 16 Water               : 32847 atoms\n",
      " 17 SOL                 : 32847 atoms\n",
      " 18 non-Water           :  2300 atoms\n",
      "\n",
      " nr : group      '!': not  'name' nr name   'splitch' nr    Enter: list groups\n",
      " 'a': atom       '&': and  'del' nr         'splitres' nr   'l': list residues\n",
      " 't': atom type  '|': or   'keep' nr        'splitat' nr    'h': help\n",
      " 'r': residue              'res' nr         'chain' char\n",
      " \"name\": group             'case': case sensitive           'q': save and quit\n",
      " 'ri': residue index\n",
      "\n",
      "> \n",
      "Found 9 atoms with name D*\n",
      "\n",
      " 19 D*                  :     9 atoms\n",
      "\n",
      "> \n",
      "Copied index group 0 'System'\n",
      "Copied index group 19 'D*'\n",
      "Complemented group: 35138 atoms\n",
      "Merged two groups with AND: 35147 35138 -> 35138\n",
      "\n",
      " 20 System_&_!D*        : 35138 atoms\n",
      "\n",
      "> \n",
      "\n",
      "> \n",
      "\n",
      "2020-06-10 13:49:12,536 [MainThread  ] [INFO ]                        :-) GROMACS - gmx make_ndx, 2019 (-:\n",
      "\n",
      "Executable:   /usr/local/gromacs/bin/gmx\n",
      "Data prefix:  /usr/local/gromacs\n",
      "Working dir:  /home/gbayarri_local/projects/BioBB/tutorials/biobb_wf_pmx_tutorial/biobb_wf_pmx_tutorial/notebooks\n",
      "Command line:\n",
      "  gmx -nobackup -nocopyright make_ndx -f pdb2gmxB.pdb -o indexB.ndx\n",
      "\n",
      "\n",
      "Reading structure file\n",
      "\n",
      "GROMACS reminds you: \"There's a limit to how many times you can read how great you are and what an inspiration you are, but I'm not there yet.\" (Randy Pausch)\n",
      "\n",
      "\n",
      "2020-06-10 13:49:12,536 [MainThread  ] [INFO ]  Removed: []\n"
     ]
    },
    {
     "data": {
      "text/plain": [
       "0"
      ]
     },
     "execution_count": 8,
     "metadata": {},
     "output_type": "execute_result"
    }
   ],
   "source": [
    "# Gromacs make_ndx: GROMACS Make index command from biobb_md package\n",
    "# IMPORTANT: Only needed for stateB\n",
    "\n",
    "# Import module\n",
    "from biobb_md.gromacs.make_ndx import MakeNdx\n",
    "\n",
    "# Create prop dict and inputs/outputs\n",
    "output_ndx = 'indexB.ndx'\n",
    "  \n",
    "prop = {\n",
    "    'selection' : 'a D*\\n0 & ! 19\\nname 20 FREEZE'\n",
    "}\n",
    "\n",
    "# Create and launch bb\n",
    "MakeNdx(input_structure_path=output_pdb2gmxB_gro,\n",
    "        output_ndx_path=output_ndx,\n",
    "        properties=prop).launch()"
   ]
  },
  {
   "cell_type": "markdown",
   "metadata": {},
   "source": [
    "<a id=\"min\"></a>\n",
    "***\n",
    "## Energetically minimize the system\n",
    "Energetically minimize the **mutated protein** till reaching a desired potential energy.\n",
    "- [Step 1](#emStep1): Creating portable binary run file for energy minimization\n",
    "- [Step 2](#emStep2): Energetically minimize the **dummy atoms** till reaching a force of 100 kJ mol-1 nm-1.\n",
    "- [Step 3](#emStep3): Checking **energy minimization** results. Plotting energy by time during the **minimization** process.\n",
    "***\n",
    "**Building Blocks** used:\n",
    " - [Grompp](https://biobb-md.readthedocs.io/en/latest/gromacs.html#module-gromacs.grompp) from **biobb_md.gromacs.grompp** \n",
    " - [Mdrun](https://biobb-md.readthedocs.io/en/latest/gromacs.html#module-gromacs.mdrun) from **biobb_md.gromacs.mdrun** \n",
    " - [GMXEnergy](https://biobb-analysis.readthedocs.io/en/latest/gromacs.html#module-gromacs.gmx_energy) from **biobb_analysis.gromacs.gmx_energy** \n",
    "***"
   ]
  },
  {
   "cell_type": "markdown",
   "metadata": {},
   "source": [
    "<a id=\"emStep1\"></a>\n",
    "### Step 1: Creating portable binary run file for energy minimization\n",
    "\n",
    "Method used to run the **energy minimization** is a **steepest descent**, with a **maximum force of 100 KJ/mol\\*nm^2**, and a minimization **step size of 1fs**. The **maximum number of steps** to perform if the maximum force is not reached is **10,000 steps**. The previously generated **FREEZE** group is used to keep the system frozen except for the **dummy atoms**.\n",
    "\n",
    "Please note that as previously described, for the stateA (forward transition, Isoleucine to Alanine mutation), as there are no dummies, **the energy minimization is omitted** and **the energy minimization step is skipped**. "
   ]
  },
  {
   "cell_type": "code",
   "execution_count": 9,
   "metadata": {
    "scrolled": true
   },
   "outputs": [
    {
     "name": "stderr",
     "output_type": "stream",
     "text": [
      "2020-06-10 13:49:43,840 [MainThread  ] [INFO ]  GROMACS Grompp 20190 version detected\n",
      "2020-06-10 13:49:43,849 [MainThread  ] [INFO ]  Extracting: /home/gbayarri_local/projects/BioBB/tutorials/biobb_wf_pmx_tutorial/biobb_wf_pmx_tutorial/notebooks/pmxB_top.zip\n",
      "2020-06-10 13:49:43,852 [MainThread  ] [INFO ]  to:\n",
      "2020-06-10 13:49:43,853 [MainThread  ] [INFO ]  ['b704a1f5-b905-44cf-aebe-6be99a2068d7/p2g.top', 'b704a1f5-b905-44cf-aebe-6be99a2068d7/p2g_Ion_chain_C.itp', 'b704a1f5-b905-44cf-aebe-6be99a2068d7/p2g_Protein_chain_A.itp', 'b704a1f5-b905-44cf-aebe-6be99a2068d7/posre_Ion_chain_C.itp']\n",
      "2020-06-10 13:49:43,854 [MainThread  ] [INFO ]  Unzipping: \n",
      "2020-06-10 13:49:43,854 [MainThread  ] [INFO ]  pmxB_top.zip\n",
      "2020-06-10 13:49:43,855 [MainThread  ] [INFO ]  To: \n",
      "2020-06-10 13:49:43,856 [MainThread  ] [INFO ]  b704a1f5-b905-44cf-aebe-6be99a2068d7/p2g.top\n",
      "2020-06-10 13:49:43,856 [MainThread  ] [INFO ]  b704a1f5-b905-44cf-aebe-6be99a2068d7/p2g_Ion_chain_C.itp\n",
      "2020-06-10 13:49:43,857 [MainThread  ] [INFO ]  b704a1f5-b905-44cf-aebe-6be99a2068d7/p2g_Protein_chain_A.itp\n",
      "2020-06-10 13:49:43,858 [MainThread  ] [INFO ]  b704a1f5-b905-44cf-aebe-6be99a2068d7/posre_Ion_chain_C.itp\n",
      "2020-06-10 13:49:43,859 [MainThread  ] [INFO ]  Will run a minimization md of 10000 steps\n",
      "2020-06-10 13:49:43,861 [MainThread  ] [INFO ]  Not using any container\n",
      "2020-06-10 13:49:44,203 [MainThread  ] [INFO ]  gmx -nobackup -nocopyright grompp -f 4029ce06-d6dd-4b1b-9151-bc17dcdfacf0/grompp.mdp -c pdb2gmxB.pdb -r pdb2gmxB.pdb -p b704a1f5-b905-44cf-aebe-6be99a2068d7/p2g.top -o em.tpr -po mdout.mdp -maxwarn 10 -n indexB.ndx\n",
      "\n",
      "2020-06-10 13:49:44,205 [MainThread  ] [INFO ]  Exit code 0\n",
      "\n",
      "2020-06-10 13:49:44,205 [MainThread  ] [INFO ]  Calculating fourier grid dimensions for X Y Z\n",
      "Using a fourier grid of 72x72x72, spacing 0.110 0.110 0.110\n",
      "This run will generate roughly 3 Mb of data\n",
      "\n",
      "2020-06-10 13:49:44,206 [MainThread  ] [INFO ]                         :-) GROMACS - gmx grompp, 2019 (-:\n",
      "\n",
      "Executable:   /usr/local/gromacs/bin/gmx\n",
      "Data prefix:  /usr/local/gromacs\n",
      "Working dir:  /home/gbayarri_local/projects/BioBB/tutorials/biobb_wf_pmx_tutorial/biobb_wf_pmx_tutorial/notebooks\n",
      "Command line:\n",
      "  gmx -nobackup -nocopyright grompp -f 4029ce06-d6dd-4b1b-9151-bc17dcdfacf0/grompp.mdp -c pdb2gmxB.pdb -r pdb2gmxB.pdb -p b704a1f5-b905-44cf-aebe-6be99a2068d7/p2g.top -o em.tpr -po mdout.mdp -maxwarn 10 -n indexB.ndx\n",
      "\n",
      "Setting the LD random seed to 1429148942\n",
      "Generated 5253 of the 5253 non-bonded parameter combinations\n",
      "Generating 1-4 interactions: fudge = 0.5\n",
      "Generated 5253 of the 5253 1-4 parameter combinations\n",
      "Excluding 3 bonded neighbours molecule type 'Protein_chain_A'\n",
      "Excluding 3 bonded neighbours molecule type 'Ion_chain_C'\n",
      "Excluding 2 bonded neighbours molecule type 'SOL'\n",
      "Excluding 2 bonded neighbours molecule type 'SOL'\n",
      "Removing all charge groups because cutoff-scheme=Verlet\n",
      "Number of degrees of freedom in T-Coupling group rest is 24.00\n",
      "Estimate for the relative computational load of the PME mesh part: 0.26\n",
      "\n",
      "GROMACS reminds you: \"Check Your Input\" (D. Van Der Spoel)\n",
      "\n",
      "\n",
      "2020-06-10 13:49:44,207 [MainThread  ] [INFO ]  Removed: ['mdout.mdp', 'b704a1f5-b905-44cf-aebe-6be99a2068d7', '4029ce06-d6dd-4b1b-9151-bc17dcdfacf0']\n"
     ]
    },
    {
     "data": {
      "text/plain": [
       "0"
      ]
     },
     "execution_count": 9,
     "metadata": {},
     "output_type": "execute_result"
    }
   ],
   "source": [
    "# Grompp: Creating portable binary run file for dummy atoms energy minimization\n",
    "from biobb_md.gromacs.grompp import Grompp\n",
    "\n",
    "#### State B (Mut->WT) ####\n",
    "\n",
    "# Create prop dict and inputs/outputs\n",
    "output_tpr_min = 'em.tpr'\n",
    "\n",
    "prop = {\n",
    "    'gmxlib' : gmxlib,\n",
    "    'mdp':{\n",
    "        'type': 'minimization',\n",
    "        'integrator' : 'steep',\n",
    "        'emtol': '100',\n",
    "        'dt': '0.001',\n",
    "        'nsteps':'10000',\n",
    "        'nstcomm': '1',\n",
    "        'nstcalcenergy': '1',\n",
    "        'freezegrps' : 'FREEZE',\n",
    "        'freezedim' : \"Y Y Y\"\n",
    "    }\n",
    "}\n",
    "\n",
    "# Create and launch bb\n",
    "Grompp(input_gro_path=output_pdb2gmxB_gro,\n",
    "       input_top_zip_path=output_pmxtopB_top_zip,\n",
    "       input_ndx_path=output_ndx,\n",
    "       output_tpr_path=output_tpr_min,\n",
    "       properties=prop).launch()"
   ]
  },
  {
   "cell_type": "markdown",
   "metadata": {},
   "source": [
    "<a id=\"emStep2\"></a>\n",
    "### Step 2: Running Energy Minimization\n",
    "Running **energy minimization** using the **tpr file** generated in the previous step."
   ]
  },
  {
   "cell_type": "code",
   "execution_count": 10,
   "metadata": {},
   "outputs": [
    {
     "name": "stderr",
     "output_type": "stream",
     "text": [
      "2020-06-10 13:49:48,181 [MainThread  ] [INFO ]  GROMACS Mdrun 20190 version detected\n",
      "2020-06-10 13:49:48,182 [MainThread  ] [INFO ]  Not using any container\n",
      "2020-06-10 13:49:52,736 [MainThread  ] [INFO ]  gmx -nobackup -nocopyright mdrun -s em.tpr -o emout.trr -c emout.gro -e emout.edr -g emout.log -nt 0\n",
      "\n",
      "2020-06-10 13:49:52,737 [MainThread  ] [INFO ]  Exit code 0\n",
      "\n",
      "2020-06-10 13:49:52,738 [MainThread  ] [INFO ]                         :-) GROMACS - gmx mdrun, 2019 (-:\n",
      "\n",
      "Executable:   /usr/local/gromacs/bin/gmx\n",
      "Data prefix:  /usr/local/gromacs\n",
      "Working dir:  /home/gbayarri_local/projects/BioBB/tutorials/biobb_wf_pmx_tutorial/biobb_wf_pmx_tutorial/notebooks\n",
      "Command line:\n",
      "  gmx -nobackup -nocopyright mdrun -s em.tpr -o emout.trr -c emout.gro -e emout.edr -g emout.log -nt 0\n",
      "\n",
      "Reading file em.tpr, VERSION 2019 (single precision)\n",
      "Using 1 MPI thread\n",
      "Using 8 OpenMP threads \n",
      "\n",
      "\n",
      "Steepest Descents:\n",
      "   Tolerance (Fmax)   =  1.00000e+02\n",
      "   Number of steps    =        10000\n",
      "\n",
      "Energy minimization has stopped, but the forces have not converged to the\n",
      "requested precision Fmax < 100 (which may not be possible for your system).\n",
      "It stopped because the algorithm tried to make a new step whose size was too\n",
      "small, or there was no change in the energy since last step. Either way, we\n",
      "regard the minimization as converged to within the available machine\n",
      "precision, given your starting configuration and EM parameters.\n",
      "\n",
      "Double precision normally gives you higher accuracy, but this is often not\n",
      "needed for preparing to run molecular dynamics.\n",
      "You might need to increase your constraint accuracy, or turn\n",
      "off constraints altogether (set constraints = none in mdp file)\n",
      "\n",
      "writing lowest energy coordinates.\n",
      "\n",
      "Steepest Descents converged to machine precision in 96 steps,\n",
      "but did not reach the requested Fmax < 100.\n",
      "Potential Energy  = -5.2575825e+05\n",
      "Maximum force     =  1.5420065e+02 on atom 173\n",
      "Norm of force     =  1.4285149e+00\n",
      "\n",
      "GROMACS reminds you: \"Youth is wasted on the young\" (The Smashing Pumpkins)\n",
      "\n",
      "\n",
      "2020-06-10 13:49:52,738 [MainThread  ] [INFO ]  Removed: []\n"
     ]
    },
    {
     "data": {
      "text/plain": [
       "0"
      ]
     },
     "execution_count": 10,
     "metadata": {},
     "output_type": "execute_result"
    }
   ],
   "source": [
    "# Mdrun: Running minimization\n",
    "from biobb_md.gromacs.mdrun import Mdrun\n",
    "\n",
    "# Create prop dict and inputs/outputs\n",
    "output_min_trr = 'emout.trr'\n",
    "output_min_gro = 'emout.gro'\n",
    "output_min_edr = 'emout.edr'\n",
    "output_min_log = 'emout.log'\n",
    "\n",
    "# Create and launch bb\n",
    "Mdrun(input_tpr_path=output_tpr_min,\n",
    "      output_trr_path=output_min_trr,\n",
    "      output_gro_path=output_min_gro,\n",
    "      output_edr_path=output_min_edr,\n",
    "      output_log_path=output_min_log).launch()"
   ]
  },
  {
   "cell_type": "markdown",
   "metadata": {},
   "source": [
    "<a id=\"emStep3\"></a>\n",
    "### Step 3: Checking Energy Minimization results\n",
    "Checking **energy minimization** results. Plotting **potential energy** by time during the minimization process. "
   ]
  },
  {
   "cell_type": "code",
   "execution_count": 11,
   "metadata": {},
   "outputs": [
    {
     "name": "stderr",
     "output_type": "stream",
     "text": [
      "2020-06-10 13:49:58,856 [MainThread  ] [INFO ]  Not using any container\n",
      "2020-06-10 13:49:58,868 [MainThread  ] [INFO ]  gmx energy -f /home/gbayarri_local/projects/BioBB/tutorials/biobb_wf_pmx_tutorial/biobb_wf_pmx_tutorial/notebooks/emout.edr -o min_ene.xvg -xvg none < be6f85f7-522d-4ceb-81a1-16713311a12a/instructions.in\n",
      "\n",
      "2020-06-10 13:49:58,869 [MainThread  ] [INFO ]  Exit code 0\n",
      "\n",
      "2020-06-10 13:49:58,870 [MainThread  ] [INFO ]  \n",
      "Statistics over 86 steps [ 0.0000 through 85.0000 ps ], 1 data sets\n",
      "All statistics are over 65 points (frames)\n",
      "\n",
      "Energy                      Average   Err.Est.       RMSD  Tot-Drift\n",
      "-------------------------------------------------------------------------------\n",
      "Potential                   -525713         41    162.347   -241.198  (kJ/mol)\n",
      "\n",
      "2020-06-10 13:49:58,871 [MainThread  ] [INFO ]                         :-) GROMACS - gmx energy, 2019 (-:\n",
      "\n",
      "                            GROMACS is written by:\n",
      "     Emile Apol      Rossen Apostolov      Paul Bauer     Herman J.C. Berendsen\n",
      "    Par Bjelkmar      Christian Blau   Viacheslav Bolnykh     Kevin Boyd    \n",
      " Aldert van Buuren   Rudi van Drunen     Anton Feenstra       Alan Gray     \n",
      "  Gerrit Groenhof     Anca Hamuraru    Vincent Hindriksen  M. Eric Irrgang  \n",
      "  Aleksei Iupinov   Christoph Junghans     Joe Jordan     Dimitrios Karkoulis\n",
      "    Peter Kasson        Jiri Kraus      Carsten Kutzner      Per Larsson    \n",
      "  Justin A. Lemkul    Viveca Lindahl    Magnus Lundborg     Erik Marklund   \n",
      "    Pascal Merz     Pieter Meulenhoff    Teemu Murtola       Szilard Pall   \n",
      "    Sander Pronk      Roland Schulz      Michael Shirts    Alexey Shvetsov  \n",
      "   Alfons Sijbers     Peter Tieleman      Jon Vincent      Teemu Virolainen \n",
      " Christian Wennberg    Maarten Wolf   \n",
      "                           and the project leaders:\n",
      "        Mark Abraham, Berk Hess, Erik Lindahl, and David van der Spoel\n",
      "\n",
      "Copyright (c) 1991-2000, University of Groningen, The Netherlands.\n",
      "Copyright (c) 2001-2018, The GROMACS development team at\n",
      "Uppsala University, Stockholm University and\n",
      "the Royal Institute of Technology, Sweden.\n",
      "check out http://www.gromacs.org for more information.\n",
      "\n",
      "GROMACS is free software; you can redistribute it and/or modify it\n",
      "under the terms of the GNU Lesser General Public License\n",
      "as published by the Free Software Foundation; either version 2.1\n",
      "of the License, or (at your option) any later version.\n",
      "\n",
      "GROMACS:      gmx energy, version 2019\n",
      "Executable:   /usr/local/gromacs/bin/gmx\n",
      "Data prefix:  /usr/local/gromacs\n",
      "Working dir:  /home/gbayarri_local/projects/BioBB/tutorials/biobb_wf_pmx_tutorial/biobb_wf_pmx_tutorial/notebooks\n",
      "Command line:\n",
      "  gmx energy -f /home/gbayarri_local/projects/BioBB/tutorials/biobb_wf_pmx_tutorial/biobb_wf_pmx_tutorial/notebooks/emout.edr -o min_ene.xvg -xvg none\n",
      "\n",
      "Opened /home/gbayarri_local/projects/BioBB/tutorials/biobb_wf_pmx_tutorial/biobb_wf_pmx_tutorial/notebooks/emout.edr as single precision energy file\n",
      "\n",
      "Select the terms you want from the following list by\n",
      "selecting either (part of) the name or the number or a combination.\n",
      "End your selection with an empty line or a zero.\n",
      "-------------------------------------------------------------------\n",
      "  1  Bond             2  Angle            3  Proper-Dih.      4  Improper-Dih. \n",
      "  5  LJ-14            6  Coulomb-14       7  LJ-(SR)          8  Coulomb-(SR)  \n",
      "  9  Coul.-recip.    10  Position-Rest.  11  Potential       12  Pressure      \n",
      " 13  Vir-XX          14  Vir-XY          15  Vir-XZ          16  Vir-YX        \n",
      " 17  Vir-YY          18  Vir-YZ          19  Vir-ZX          20  Vir-ZY        \n",
      " 21  Vir-ZZ          22  Pres-XX         23  Pres-XY         24  Pres-XZ       \n",
      " 25  Pres-YX         26  Pres-YY         27  Pres-YZ         28  Pres-ZX       \n",
      " 29  Pres-ZY         30  Pres-ZZ         31  #Surf*SurfTen   32  T-rest        \n",
      "\n",
      "\n",
      "Back Off! I just backed up min_ene.xvg to ./#min_ene.xvg.4#\n",
      "Last energy frame read 64 time   85.000           \n",
      "\n",
      "GROMACS reminds you: \"I Was Born to Have Adventure\" (F. Zappa)\n",
      "\n",
      "\n",
      "2020-06-10 13:49:58,872 [MainThread  ] [INFO ]  Removed: [PurePosixPath('be6f85f7-522d-4ceb-81a1-16713311a12a')]\n"
     ]
    },
    {
     "data": {
      "text/plain": [
       "0"
      ]
     },
     "execution_count": 11,
     "metadata": {},
     "output_type": "execute_result"
    }
   ],
   "source": [
    "# GMXEnergy: Getting system energy by time  \n",
    "from biobb_analysis.gromacs.gmx_energy import GMXEnergy\n",
    "\n",
    "# Create prop dict and inputs/outputs\n",
    "output_min_ene_xvg = 'min_ene.xvg'\n",
    "prop = {\n",
    "    'terms':  [\"Potential\"]\n",
    "}\n",
    "\n",
    "# Create and launch bb\n",
    "GMXEnergy(input_energy_path=output_min_edr, \n",
    "          output_xvg_path=output_min_ene_xvg, \n",
    "          properties=prop).launch()"
   ]
  },
  {
   "cell_type": "code",
   "execution_count": 12,
   "metadata": {},
   "outputs": [
    {
     "data": {
      "text/html": [
       "        <script type=\"text/javascript\">\n",
       "        window.PlotlyConfig = {MathJaxConfig: 'local'};\n",
       "        if (window.MathJax) {MathJax.Hub.Config({SVG: {font: \"STIX-Web\"}});}\n",
       "        if (typeof require !== 'undefined') {\n",
       "        require.undef(\"plotly\");\n",
       "        requirejs.config({\n",
       "            paths: {\n",
       "                'plotly': ['https://cdn.plot.ly/plotly-latest.min']\n",
       "            }\n",
       "        });\n",
       "        require(['plotly'], function(Plotly) {\n",
       "            window._Plotly = Plotly;\n",
       "        });\n",
       "        }\n",
       "        </script>\n",
       "        "
      ]
     },
     "metadata": {},
     "output_type": "display_data"
    },
    {
     "data": {
      "application/vnd.plotly.v1+json": {
       "config": {
        "linkText": "Export to plot.ly",
        "plotlyServerURL": "https://plot.ly",
        "showLink": false
       },
       "data": [
        {
         "type": "scatter",
         "x": [
          0,
          1,
          2,
          3,
          4,
          5,
          7,
          10,
          11,
          13,
          14,
          15,
          17,
          18,
          20,
          22,
          23,
          24,
          25,
          27,
          28,
          30,
          31,
          32,
          33,
          35,
          36,
          38,
          39,
          40,
          41,
          43,
          44,
          45,
          46,
          48,
          49,
          50,
          51,
          53,
          54,
          55,
          56,
          58,
          59,
          60,
          61,
          63,
          64,
          66,
          67,
          68,
          69,
          71,
          72,
          74,
          75,
          76,
          77,
          78,
          79,
          81,
          82,
          84,
          85
         ],
         "y": [
          -524722.9375,
          -525049.9375,
          -525316.0625,
          -525520.625,
          -525667.75,
          -525674.8125,
          -525732.0625,
          -525736.3125,
          -525737.4375,
          -525741.375,
          -525743.0625,
          -525743.875,
          -525746.5,
          -525748.1875,
          -525749,
          -525749.3125,
          -525749.8125,
          -525750.0625,
          -525750.625,
          -525750.8125,
          -525751.25,
          -525751.5,
          -525751.8125,
          -525751.9375,
          -525752.375,
          -525752.5,
          -525752.8125,
          -525752.9375,
          -525753.125,
          -525753.3125,
          -525753.5,
          -525753.6875,
          -525753.875,
          -525754,
          -525754.3125,
          -525754.4375,
          -525754.5625,
          -525754.75,
          -525754.875,
          -525755.0625,
          -525755.125,
          -525755.25,
          -525755.5625,
          -525755.625,
          -525755.8125,
          -525755.875,
          -525756.1875,
          -525756.3125,
          -525756.375,
          -525756.5,
          -525756.625,
          -525756.6875,
          -525756.8125,
          -525756.9375,
          -525757.125,
          -525757.1875,
          -525757.3125,
          -525757.4375,
          -525757.5625,
          -525757.625,
          -525757.6875,
          -525757.875,
          -525757.9375,
          -525758,
          -525758.25
         ]
        }
       ],
       "layout": {
        "template": {
         "data": {
          "bar": [
           {
            "error_x": {
             "color": "#2a3f5f"
            },
            "error_y": {
             "color": "#2a3f5f"
            },
            "marker": {
             "line": {
              "color": "#E5ECF6",
              "width": 0.5
             }
            },
            "type": "bar"
           }
          ],
          "barpolar": [
           {
            "marker": {
             "line": {
              "color": "#E5ECF6",
              "width": 0.5
             }
            },
            "type": "barpolar"
           }
          ],
          "carpet": [
           {
            "aaxis": {
             "endlinecolor": "#2a3f5f",
             "gridcolor": "white",
             "linecolor": "white",
             "minorgridcolor": "white",
             "startlinecolor": "#2a3f5f"
            },
            "baxis": {
             "endlinecolor": "#2a3f5f",
             "gridcolor": "white",
             "linecolor": "white",
             "minorgridcolor": "white",
             "startlinecolor": "#2a3f5f"
            },
            "type": "carpet"
           }
          ],
          "choropleth": [
           {
            "colorbar": {
             "outlinewidth": 0,
             "ticks": ""
            },
            "type": "choropleth"
           }
          ],
          "contour": [
           {
            "colorbar": {
             "outlinewidth": 0,
             "ticks": ""
            },
            "colorscale": [
             [
              0,
              "#0d0887"
             ],
             [
              0.1111111111111111,
              "#46039f"
             ],
             [
              0.2222222222222222,
              "#7201a8"
             ],
             [
              0.3333333333333333,
              "#9c179e"
             ],
             [
              0.4444444444444444,
              "#bd3786"
             ],
             [
              0.5555555555555556,
              "#d8576b"
             ],
             [
              0.6666666666666666,
              "#ed7953"
             ],
             [
              0.7777777777777778,
              "#fb9f3a"
             ],
             [
              0.8888888888888888,
              "#fdca26"
             ],
             [
              1,
              "#f0f921"
             ]
            ],
            "type": "contour"
           }
          ],
          "contourcarpet": [
           {
            "colorbar": {
             "outlinewidth": 0,
             "ticks": ""
            },
            "type": "contourcarpet"
           }
          ],
          "heatmap": [
           {
            "colorbar": {
             "outlinewidth": 0,
             "ticks": ""
            },
            "colorscale": [
             [
              0,
              "#0d0887"
             ],
             [
              0.1111111111111111,
              "#46039f"
             ],
             [
              0.2222222222222222,
              "#7201a8"
             ],
             [
              0.3333333333333333,
              "#9c179e"
             ],
             [
              0.4444444444444444,
              "#bd3786"
             ],
             [
              0.5555555555555556,
              "#d8576b"
             ],
             [
              0.6666666666666666,
              "#ed7953"
             ],
             [
              0.7777777777777778,
              "#fb9f3a"
             ],
             [
              0.8888888888888888,
              "#fdca26"
             ],
             [
              1,
              "#f0f921"
             ]
            ],
            "type": "heatmap"
           }
          ],
          "heatmapgl": [
           {
            "colorbar": {
             "outlinewidth": 0,
             "ticks": ""
            },
            "colorscale": [
             [
              0,
              "#0d0887"
             ],
             [
              0.1111111111111111,
              "#46039f"
             ],
             [
              0.2222222222222222,
              "#7201a8"
             ],
             [
              0.3333333333333333,
              "#9c179e"
             ],
             [
              0.4444444444444444,
              "#bd3786"
             ],
             [
              0.5555555555555556,
              "#d8576b"
             ],
             [
              0.6666666666666666,
              "#ed7953"
             ],
             [
              0.7777777777777778,
              "#fb9f3a"
             ],
             [
              0.8888888888888888,
              "#fdca26"
             ],
             [
              1,
              "#f0f921"
             ]
            ],
            "type": "heatmapgl"
           }
          ],
          "histogram": [
           {
            "marker": {
             "colorbar": {
              "outlinewidth": 0,
              "ticks": ""
             }
            },
            "type": "histogram"
           }
          ],
          "histogram2d": [
           {
            "colorbar": {
             "outlinewidth": 0,
             "ticks": ""
            },
            "colorscale": [
             [
              0,
              "#0d0887"
             ],
             [
              0.1111111111111111,
              "#46039f"
             ],
             [
              0.2222222222222222,
              "#7201a8"
             ],
             [
              0.3333333333333333,
              "#9c179e"
             ],
             [
              0.4444444444444444,
              "#bd3786"
             ],
             [
              0.5555555555555556,
              "#d8576b"
             ],
             [
              0.6666666666666666,
              "#ed7953"
             ],
             [
              0.7777777777777778,
              "#fb9f3a"
             ],
             [
              0.8888888888888888,
              "#fdca26"
             ],
             [
              1,
              "#f0f921"
             ]
            ],
            "type": "histogram2d"
           }
          ],
          "histogram2dcontour": [
           {
            "colorbar": {
             "outlinewidth": 0,
             "ticks": ""
            },
            "colorscale": [
             [
              0,
              "#0d0887"
             ],
             [
              0.1111111111111111,
              "#46039f"
             ],
             [
              0.2222222222222222,
              "#7201a8"
             ],
             [
              0.3333333333333333,
              "#9c179e"
             ],
             [
              0.4444444444444444,
              "#bd3786"
             ],
             [
              0.5555555555555556,
              "#d8576b"
             ],
             [
              0.6666666666666666,
              "#ed7953"
             ],
             [
              0.7777777777777778,
              "#fb9f3a"
             ],
             [
              0.8888888888888888,
              "#fdca26"
             ],
             [
              1,
              "#f0f921"
             ]
            ],
            "type": "histogram2dcontour"
           }
          ],
          "mesh3d": [
           {
            "colorbar": {
             "outlinewidth": 0,
             "ticks": ""
            },
            "type": "mesh3d"
           }
          ],
          "parcoords": [
           {
            "line": {
             "colorbar": {
              "outlinewidth": 0,
              "ticks": ""
             }
            },
            "type": "parcoords"
           }
          ],
          "pie": [
           {
            "automargin": true,
            "type": "pie"
           }
          ],
          "scatter": [
           {
            "marker": {
             "colorbar": {
              "outlinewidth": 0,
              "ticks": ""
             }
            },
            "type": "scatter"
           }
          ],
          "scatter3d": [
           {
            "line": {
             "colorbar": {
              "outlinewidth": 0,
              "ticks": ""
             }
            },
            "marker": {
             "colorbar": {
              "outlinewidth": 0,
              "ticks": ""
             }
            },
            "type": "scatter3d"
           }
          ],
          "scattercarpet": [
           {
            "marker": {
             "colorbar": {
              "outlinewidth": 0,
              "ticks": ""
             }
            },
            "type": "scattercarpet"
           }
          ],
          "scattergeo": [
           {
            "marker": {
             "colorbar": {
              "outlinewidth": 0,
              "ticks": ""
             }
            },
            "type": "scattergeo"
           }
          ],
          "scattergl": [
           {
            "marker": {
             "colorbar": {
              "outlinewidth": 0,
              "ticks": ""
             }
            },
            "type": "scattergl"
           }
          ],
          "scattermapbox": [
           {
            "marker": {
             "colorbar": {
              "outlinewidth": 0,
              "ticks": ""
             }
            },
            "type": "scattermapbox"
           }
          ],
          "scatterpolar": [
           {
            "marker": {
             "colorbar": {
              "outlinewidth": 0,
              "ticks": ""
             }
            },
            "type": "scatterpolar"
           }
          ],
          "scatterpolargl": [
           {
            "marker": {
             "colorbar": {
              "outlinewidth": 0,
              "ticks": ""
             }
            },
            "type": "scatterpolargl"
           }
          ],
          "scatterternary": [
           {
            "marker": {
             "colorbar": {
              "outlinewidth": 0,
              "ticks": ""
             }
            },
            "type": "scatterternary"
           }
          ],
          "surface": [
           {
            "colorbar": {
             "outlinewidth": 0,
             "ticks": ""
            },
            "colorscale": [
             [
              0,
              "#0d0887"
             ],
             [
              0.1111111111111111,
              "#46039f"
             ],
             [
              0.2222222222222222,
              "#7201a8"
             ],
             [
              0.3333333333333333,
              "#9c179e"
             ],
             [
              0.4444444444444444,
              "#bd3786"
             ],
             [
              0.5555555555555556,
              "#d8576b"
             ],
             [
              0.6666666666666666,
              "#ed7953"
             ],
             [
              0.7777777777777778,
              "#fb9f3a"
             ],
             [
              0.8888888888888888,
              "#fdca26"
             ],
             [
              1,
              "#f0f921"
             ]
            ],
            "type": "surface"
           }
          ],
          "table": [
           {
            "cells": {
             "fill": {
              "color": "#EBF0F8"
             },
             "line": {
              "color": "white"
             }
            },
            "header": {
             "fill": {
              "color": "#C8D4E3"
             },
             "line": {
              "color": "white"
             }
            },
            "type": "table"
           }
          ]
         },
         "layout": {
          "annotationdefaults": {
           "arrowcolor": "#2a3f5f",
           "arrowhead": 0,
           "arrowwidth": 1
          },
          "coloraxis": {
           "colorbar": {
            "outlinewidth": 0,
            "ticks": ""
           }
          },
          "colorscale": {
           "diverging": [
            [
             0,
             "#8e0152"
            ],
            [
             0.1,
             "#c51b7d"
            ],
            [
             0.2,
             "#de77ae"
            ],
            [
             0.3,
             "#f1b6da"
            ],
            [
             0.4,
             "#fde0ef"
            ],
            [
             0.5,
             "#f7f7f7"
            ],
            [
             0.6,
             "#e6f5d0"
            ],
            [
             0.7,
             "#b8e186"
            ],
            [
             0.8,
             "#7fbc41"
            ],
            [
             0.9,
             "#4d9221"
            ],
            [
             1,
             "#276419"
            ]
           ],
           "sequential": [
            [
             0,
             "#0d0887"
            ],
            [
             0.1111111111111111,
             "#46039f"
            ],
            [
             0.2222222222222222,
             "#7201a8"
            ],
            [
             0.3333333333333333,
             "#9c179e"
            ],
            [
             0.4444444444444444,
             "#bd3786"
            ],
            [
             0.5555555555555556,
             "#d8576b"
            ],
            [
             0.6666666666666666,
             "#ed7953"
            ],
            [
             0.7777777777777778,
             "#fb9f3a"
            ],
            [
             0.8888888888888888,
             "#fdca26"
            ],
            [
             1,
             "#f0f921"
            ]
           ],
           "sequentialminus": [
            [
             0,
             "#0d0887"
            ],
            [
             0.1111111111111111,
             "#46039f"
            ],
            [
             0.2222222222222222,
             "#7201a8"
            ],
            [
             0.3333333333333333,
             "#9c179e"
            ],
            [
             0.4444444444444444,
             "#bd3786"
            ],
            [
             0.5555555555555556,
             "#d8576b"
            ],
            [
             0.6666666666666666,
             "#ed7953"
            ],
            [
             0.7777777777777778,
             "#fb9f3a"
            ],
            [
             0.8888888888888888,
             "#fdca26"
            ],
            [
             1,
             "#f0f921"
            ]
           ]
          },
          "colorway": [
           "#636efa",
           "#EF553B",
           "#00cc96",
           "#ab63fa",
           "#FFA15A",
           "#19d3f3",
           "#FF6692",
           "#B6E880",
           "#FF97FF",
           "#FECB52"
          ],
          "font": {
           "color": "#2a3f5f"
          },
          "geo": {
           "bgcolor": "white",
           "lakecolor": "white",
           "landcolor": "#E5ECF6",
           "showlakes": true,
           "showland": true,
           "subunitcolor": "white"
          },
          "hoverlabel": {
           "align": "left"
          },
          "hovermode": "closest",
          "mapbox": {
           "style": "light"
          },
          "paper_bgcolor": "white",
          "plot_bgcolor": "#E5ECF6",
          "polar": {
           "angularaxis": {
            "gridcolor": "white",
            "linecolor": "white",
            "ticks": ""
           },
           "bgcolor": "#E5ECF6",
           "radialaxis": {
            "gridcolor": "white",
            "linecolor": "white",
            "ticks": ""
           }
          },
          "scene": {
           "xaxis": {
            "backgroundcolor": "#E5ECF6",
            "gridcolor": "white",
            "gridwidth": 2,
            "linecolor": "white",
            "showbackground": true,
            "ticks": "",
            "zerolinecolor": "white"
           },
           "yaxis": {
            "backgroundcolor": "#E5ECF6",
            "gridcolor": "white",
            "gridwidth": 2,
            "linecolor": "white",
            "showbackground": true,
            "ticks": "",
            "zerolinecolor": "white"
           },
           "zaxis": {
            "backgroundcolor": "#E5ECF6",
            "gridcolor": "white",
            "gridwidth": 2,
            "linecolor": "white",
            "showbackground": true,
            "ticks": "",
            "zerolinecolor": "white"
           }
          },
          "shapedefaults": {
           "line": {
            "color": "#2a3f5f"
           }
          },
          "ternary": {
           "aaxis": {
            "gridcolor": "white",
            "linecolor": "white",
            "ticks": ""
           },
           "baxis": {
            "gridcolor": "white",
            "linecolor": "white",
            "ticks": ""
           },
           "bgcolor": "#E5ECF6",
           "caxis": {
            "gridcolor": "white",
            "linecolor": "white",
            "ticks": ""
           }
          },
          "title": {
           "x": 0.05
          },
          "xaxis": {
           "automargin": true,
           "gridcolor": "white",
           "linecolor": "white",
           "ticks": "",
           "title": {
            "standoff": 15
           },
           "zerolinecolor": "white",
           "zerolinewidth": 2
          },
          "yaxis": {
           "automargin": true,
           "gridcolor": "white",
           "linecolor": "white",
           "ticks": "",
           "title": {
            "standoff": 15
           },
           "zerolinecolor": "white",
           "zerolinewidth": 2
          }
         }
        },
        "title": {
         "text": "Energy Minimization"
        },
        "xaxis": {
         "title": {
          "text": "Energy Minimization Step"
         }
        },
        "yaxis": {
         "title": {
          "text": "Potential Energy KJ/mol-1"
         }
        }
       }
      },
      "text/html": [
       "<div>\n",
       "        \n",
       "        \n",
       "            <div id=\"7c01a9f1-1a4b-473a-a019-177880c2adf2\" class=\"plotly-graph-div\" style=\"height:525px; width:100%;\"></div>\n",
       "            <script type=\"text/javascript\">\n",
       "                require([\"plotly\"], function(Plotly) {\n",
       "                    window.PLOTLYENV=window.PLOTLYENV || {};\n",
       "                    \n",
       "                if (document.getElementById(\"7c01a9f1-1a4b-473a-a019-177880c2adf2\")) {\n",
       "                    Plotly.newPlot(\n",
       "                        '7c01a9f1-1a4b-473a-a019-177880c2adf2',\n",
       "                        [{\"type\": \"scatter\", \"x\": [0.0, 1.0, 2.0, 3.0, 4.0, 5.0, 7.0, 10.0, 11.0, 13.0, 14.0, 15.0, 17.0, 18.0, 20.0, 22.0, 23.0, 24.0, 25.0, 27.0, 28.0, 30.0, 31.0, 32.0, 33.0, 35.0, 36.0, 38.0, 39.0, 40.0, 41.0, 43.0, 44.0, 45.0, 46.0, 48.0, 49.0, 50.0, 51.0, 53.0, 54.0, 55.0, 56.0, 58.0, 59.0, 60.0, 61.0, 63.0, 64.0, 66.0, 67.0, 68.0, 69.0, 71.0, 72.0, 74.0, 75.0, 76.0, 77.0, 78.0, 79.0, 81.0, 82.0, 84.0, 85.0], \"y\": [-524722.9375, -525049.9375, -525316.0625, -525520.625, -525667.75, -525674.8125, -525732.0625, -525736.3125, -525737.4375, -525741.375, -525743.0625, -525743.875, -525746.5, -525748.1875, -525749.0, -525749.3125, -525749.8125, -525750.0625, -525750.625, -525750.8125, -525751.25, -525751.5, -525751.8125, -525751.9375, -525752.375, -525752.5, -525752.8125, -525752.9375, -525753.125, -525753.3125, -525753.5, -525753.6875, -525753.875, -525754.0, -525754.3125, -525754.4375, -525754.5625, -525754.75, -525754.875, -525755.0625, -525755.125, -525755.25, -525755.5625, -525755.625, -525755.8125, -525755.875, -525756.1875, -525756.3125, -525756.375, -525756.5, -525756.625, -525756.6875, -525756.8125, -525756.9375, -525757.125, -525757.1875, -525757.3125, -525757.4375, -525757.5625, -525757.625, -525757.6875, -525757.875, -525757.9375, -525758.0, -525758.25]}],\n",
       "                        {\"template\": {\"data\": {\"bar\": [{\"error_x\": {\"color\": \"#2a3f5f\"}, \"error_y\": {\"color\": \"#2a3f5f\"}, \"marker\": {\"line\": {\"color\": \"#E5ECF6\", \"width\": 0.5}}, \"type\": \"bar\"}], \"barpolar\": [{\"marker\": {\"line\": {\"color\": \"#E5ECF6\", \"width\": 0.5}}, \"type\": \"barpolar\"}], \"carpet\": [{\"aaxis\": {\"endlinecolor\": \"#2a3f5f\", \"gridcolor\": \"white\", \"linecolor\": \"white\", \"minorgridcolor\": \"white\", \"startlinecolor\": \"#2a3f5f\"}, \"baxis\": {\"endlinecolor\": \"#2a3f5f\", \"gridcolor\": \"white\", \"linecolor\": \"white\", \"minorgridcolor\": \"white\", \"startlinecolor\": \"#2a3f5f\"}, \"type\": \"carpet\"}], \"choropleth\": [{\"colorbar\": {\"outlinewidth\": 0, \"ticks\": \"\"}, \"type\": \"choropleth\"}], \"contour\": [{\"colorbar\": {\"outlinewidth\": 0, \"ticks\": \"\"}, \"colorscale\": [[0.0, \"#0d0887\"], [0.1111111111111111, \"#46039f\"], [0.2222222222222222, \"#7201a8\"], [0.3333333333333333, \"#9c179e\"], [0.4444444444444444, \"#bd3786\"], [0.5555555555555556, \"#d8576b\"], [0.6666666666666666, \"#ed7953\"], [0.7777777777777778, \"#fb9f3a\"], [0.8888888888888888, \"#fdca26\"], [1.0, \"#f0f921\"]], \"type\": \"contour\"}], \"contourcarpet\": [{\"colorbar\": {\"outlinewidth\": 0, \"ticks\": \"\"}, \"type\": \"contourcarpet\"}], \"heatmap\": [{\"colorbar\": {\"outlinewidth\": 0, \"ticks\": \"\"}, \"colorscale\": [[0.0, \"#0d0887\"], [0.1111111111111111, \"#46039f\"], [0.2222222222222222, \"#7201a8\"], [0.3333333333333333, \"#9c179e\"], [0.4444444444444444, \"#bd3786\"], [0.5555555555555556, \"#d8576b\"], [0.6666666666666666, \"#ed7953\"], [0.7777777777777778, \"#fb9f3a\"], [0.8888888888888888, \"#fdca26\"], [1.0, \"#f0f921\"]], \"type\": \"heatmap\"}], \"heatmapgl\": [{\"colorbar\": {\"outlinewidth\": 0, \"ticks\": \"\"}, \"colorscale\": [[0.0, \"#0d0887\"], [0.1111111111111111, \"#46039f\"], [0.2222222222222222, \"#7201a8\"], [0.3333333333333333, \"#9c179e\"], [0.4444444444444444, \"#bd3786\"], [0.5555555555555556, \"#d8576b\"], [0.6666666666666666, \"#ed7953\"], [0.7777777777777778, \"#fb9f3a\"], [0.8888888888888888, \"#fdca26\"], [1.0, \"#f0f921\"]], \"type\": \"heatmapgl\"}], \"histogram\": [{\"marker\": {\"colorbar\": {\"outlinewidth\": 0, \"ticks\": \"\"}}, \"type\": \"histogram\"}], \"histogram2d\": [{\"colorbar\": {\"outlinewidth\": 0, \"ticks\": \"\"}, \"colorscale\": [[0.0, \"#0d0887\"], [0.1111111111111111, \"#46039f\"], [0.2222222222222222, \"#7201a8\"], [0.3333333333333333, \"#9c179e\"], [0.4444444444444444, \"#bd3786\"], [0.5555555555555556, \"#d8576b\"], [0.6666666666666666, \"#ed7953\"], [0.7777777777777778, \"#fb9f3a\"], [0.8888888888888888, \"#fdca26\"], [1.0, \"#f0f921\"]], \"type\": \"histogram2d\"}], \"histogram2dcontour\": [{\"colorbar\": {\"outlinewidth\": 0, \"ticks\": \"\"}, \"colorscale\": [[0.0, \"#0d0887\"], [0.1111111111111111, \"#46039f\"], [0.2222222222222222, \"#7201a8\"], [0.3333333333333333, \"#9c179e\"], [0.4444444444444444, \"#bd3786\"], [0.5555555555555556, \"#d8576b\"], [0.6666666666666666, \"#ed7953\"], [0.7777777777777778, \"#fb9f3a\"], [0.8888888888888888, \"#fdca26\"], [1.0, \"#f0f921\"]], \"type\": \"histogram2dcontour\"}], \"mesh3d\": [{\"colorbar\": {\"outlinewidth\": 0, \"ticks\": \"\"}, \"type\": \"mesh3d\"}], \"parcoords\": [{\"line\": {\"colorbar\": {\"outlinewidth\": 0, \"ticks\": \"\"}}, \"type\": \"parcoords\"}], \"pie\": [{\"automargin\": true, \"type\": \"pie\"}], \"scatter\": [{\"marker\": {\"colorbar\": {\"outlinewidth\": 0, \"ticks\": \"\"}}, \"type\": \"scatter\"}], \"scatter3d\": [{\"line\": {\"colorbar\": {\"outlinewidth\": 0, \"ticks\": \"\"}}, \"marker\": {\"colorbar\": {\"outlinewidth\": 0, \"ticks\": \"\"}}, \"type\": \"scatter3d\"}], \"scattercarpet\": [{\"marker\": {\"colorbar\": {\"outlinewidth\": 0, \"ticks\": \"\"}}, \"type\": \"scattercarpet\"}], \"scattergeo\": [{\"marker\": {\"colorbar\": {\"outlinewidth\": 0, \"ticks\": \"\"}}, \"type\": \"scattergeo\"}], \"scattergl\": [{\"marker\": {\"colorbar\": {\"outlinewidth\": 0, \"ticks\": \"\"}}, \"type\": \"scattergl\"}], \"scattermapbox\": [{\"marker\": {\"colorbar\": {\"outlinewidth\": 0, \"ticks\": \"\"}}, \"type\": \"scattermapbox\"}], \"scatterpolar\": [{\"marker\": {\"colorbar\": {\"outlinewidth\": 0, \"ticks\": \"\"}}, \"type\": \"scatterpolar\"}], \"scatterpolargl\": [{\"marker\": {\"colorbar\": {\"outlinewidth\": 0, \"ticks\": \"\"}}, \"type\": \"scatterpolargl\"}], \"scatterternary\": [{\"marker\": {\"colorbar\": {\"outlinewidth\": 0, \"ticks\": \"\"}}, \"type\": \"scatterternary\"}], \"surface\": [{\"colorbar\": {\"outlinewidth\": 0, \"ticks\": \"\"}, \"colorscale\": [[0.0, \"#0d0887\"], [0.1111111111111111, \"#46039f\"], [0.2222222222222222, \"#7201a8\"], [0.3333333333333333, \"#9c179e\"], [0.4444444444444444, \"#bd3786\"], [0.5555555555555556, \"#d8576b\"], [0.6666666666666666, \"#ed7953\"], [0.7777777777777778, \"#fb9f3a\"], [0.8888888888888888, \"#fdca26\"], [1.0, \"#f0f921\"]], \"type\": \"surface\"}], \"table\": [{\"cells\": {\"fill\": {\"color\": \"#EBF0F8\"}, \"line\": {\"color\": \"white\"}}, \"header\": {\"fill\": {\"color\": \"#C8D4E3\"}, \"line\": {\"color\": \"white\"}}, \"type\": \"table\"}]}, \"layout\": {\"annotationdefaults\": {\"arrowcolor\": \"#2a3f5f\", \"arrowhead\": 0, \"arrowwidth\": 1}, \"coloraxis\": {\"colorbar\": {\"outlinewidth\": 0, \"ticks\": \"\"}}, \"colorscale\": {\"diverging\": [[0, \"#8e0152\"], [0.1, \"#c51b7d\"], [0.2, \"#de77ae\"], [0.3, \"#f1b6da\"], [0.4, \"#fde0ef\"], [0.5, \"#f7f7f7\"], [0.6, \"#e6f5d0\"], [0.7, \"#b8e186\"], [0.8, \"#7fbc41\"], [0.9, \"#4d9221\"], [1, \"#276419\"]], \"sequential\": [[0.0, \"#0d0887\"], [0.1111111111111111, \"#46039f\"], [0.2222222222222222, \"#7201a8\"], [0.3333333333333333, \"#9c179e\"], [0.4444444444444444, \"#bd3786\"], [0.5555555555555556, \"#d8576b\"], [0.6666666666666666, \"#ed7953\"], [0.7777777777777778, \"#fb9f3a\"], [0.8888888888888888, \"#fdca26\"], [1.0, \"#f0f921\"]], \"sequentialminus\": [[0.0, \"#0d0887\"], [0.1111111111111111, \"#46039f\"], [0.2222222222222222, \"#7201a8\"], [0.3333333333333333, \"#9c179e\"], [0.4444444444444444, \"#bd3786\"], [0.5555555555555556, \"#d8576b\"], [0.6666666666666666, \"#ed7953\"], [0.7777777777777778, \"#fb9f3a\"], [0.8888888888888888, \"#fdca26\"], [1.0, \"#f0f921\"]]}, \"colorway\": [\"#636efa\", \"#EF553B\", \"#00cc96\", \"#ab63fa\", \"#FFA15A\", \"#19d3f3\", \"#FF6692\", \"#B6E880\", \"#FF97FF\", \"#FECB52\"], \"font\": {\"color\": \"#2a3f5f\"}, \"geo\": {\"bgcolor\": \"white\", \"lakecolor\": \"white\", \"landcolor\": \"#E5ECF6\", \"showlakes\": true, \"showland\": true, \"subunitcolor\": \"white\"}, \"hoverlabel\": {\"align\": \"left\"}, \"hovermode\": \"closest\", \"mapbox\": {\"style\": \"light\"}, \"paper_bgcolor\": \"white\", \"plot_bgcolor\": \"#E5ECF6\", \"polar\": {\"angularaxis\": {\"gridcolor\": \"white\", \"linecolor\": \"white\", \"ticks\": \"\"}, \"bgcolor\": \"#E5ECF6\", \"radialaxis\": {\"gridcolor\": \"white\", \"linecolor\": \"white\", \"ticks\": \"\"}}, \"scene\": {\"xaxis\": {\"backgroundcolor\": \"#E5ECF6\", \"gridcolor\": \"white\", \"gridwidth\": 2, \"linecolor\": \"white\", \"showbackground\": true, \"ticks\": \"\", \"zerolinecolor\": \"white\"}, \"yaxis\": {\"backgroundcolor\": \"#E5ECF6\", \"gridcolor\": \"white\", \"gridwidth\": 2, \"linecolor\": \"white\", \"showbackground\": true, \"ticks\": \"\", \"zerolinecolor\": \"white\"}, \"zaxis\": {\"backgroundcolor\": \"#E5ECF6\", \"gridcolor\": \"white\", \"gridwidth\": 2, \"linecolor\": \"white\", \"showbackground\": true, \"ticks\": \"\", \"zerolinecolor\": \"white\"}}, \"shapedefaults\": {\"line\": {\"color\": \"#2a3f5f\"}}, \"ternary\": {\"aaxis\": {\"gridcolor\": \"white\", \"linecolor\": \"white\", \"ticks\": \"\"}, \"baxis\": {\"gridcolor\": \"white\", \"linecolor\": \"white\", \"ticks\": \"\"}, \"bgcolor\": \"#E5ECF6\", \"caxis\": {\"gridcolor\": \"white\", \"linecolor\": \"white\", \"ticks\": \"\"}}, \"title\": {\"x\": 0.05}, \"xaxis\": {\"automargin\": true, \"gridcolor\": \"white\", \"linecolor\": \"white\", \"ticks\": \"\", \"title\": {\"standoff\": 15}, \"zerolinecolor\": \"white\", \"zerolinewidth\": 2}, \"yaxis\": {\"automargin\": true, \"gridcolor\": \"white\", \"linecolor\": \"white\", \"ticks\": \"\", \"title\": {\"standoff\": 15}, \"zerolinecolor\": \"white\", \"zerolinewidth\": 2}}}, \"title\": {\"text\": \"Energy Minimization\"}, \"xaxis\": {\"title\": {\"text\": \"Energy Minimization Step\"}}, \"yaxis\": {\"title\": {\"text\": \"Potential Energy KJ/mol-1\"}}},\n",
       "                        {\"responsive\": true}\n",
       "                    ).then(function(){\n",
       "                            \n",
       "var gd = document.getElementById('7c01a9f1-1a4b-473a-a019-177880c2adf2');\n",
       "var x = new MutationObserver(function (mutations, observer) {{\n",
       "        var display = window.getComputedStyle(gd).display;\n",
       "        if (!display || display === 'none') {{\n",
       "            console.log([gd, 'removed!']);\n",
       "            Plotly.purge(gd);\n",
       "            observer.disconnect();\n",
       "        }}\n",
       "}});\n",
       "\n",
       "// Listen for the removal of the full notebook cells\n",
       "var notebookContainer = gd.closest('#notebook-container');\n",
       "if (notebookContainer) {{\n",
       "    x.observe(notebookContainer, {childList: true});\n",
       "}}\n",
       "\n",
       "// Listen for the clearing of the current output cell\n",
       "var outputEl = gd.closest('.output');\n",
       "if (outputEl) {{\n",
       "    x.observe(outputEl, {childList: true});\n",
       "}}\n",
       "\n",
       "                        })\n",
       "                };\n",
       "                });\n",
       "            </script>\n",
       "        </div>"
      ]
     },
     "metadata": {},
     "output_type": "display_data"
    }
   ],
   "source": [
    "import plotly\n",
    "import plotly.graph_objs as go\n",
    "\n",
    "# Read data from file and filter energy values higher than 1000 Kj/mol^-1\n",
    "with open(output_min_ene_xvg,'r') as energy_file:\n",
    "    x,y = map(\n",
    "        list,\n",
    "        zip(*[\n",
    "            (float(line.split()[0]),float(line.split()[1]))\n",
    "            for line in energy_file \n",
    "            if not line.startswith((\"#\",\"@\")) \n",
    "            if float(line.split()[1]) < 1000 \n",
    "        ])\n",
    "    )\n",
    "\n",
    "plotly.offline.init_notebook_mode(connected=True)\n",
    "\n",
    "fig = ({\n",
    "    \"data\": [go.Scatter(x=x, y=y)],\n",
    "    \"layout\": go.Layout(title=\"Energy Minimization\",\n",
    "                        xaxis=dict(title = \"Energy Minimization Step\"),\n",
    "                        yaxis=dict(title = \"Potential Energy KJ/mol-1\")\n",
    "                       )\n",
    "})\n",
    "\n",
    "plotly.offline.iplot(fig)"
   ]
  },
  {
   "cell_type": "markdown",
   "metadata": {},
   "source": [
    "<a id=\"npt\"></a>\n",
    "***\n",
    "## Equilibrate the system (NPT)\n",
    "Equilibrate the **protein system** in **NPT** ensemble (constant Number of particles, Pressure and Temperature).\n",
    "- [Step 1](#eqNPTStep1): Creating portable binary run file for system equilibration\n",
    "- [Step 2](#eqNPTStep2): Equilibrate the **protein system** with **NPT** ensemble.\n",
    "- [Step 3](#eqNPTStep3): Checking **NPT Equilibration** results. Plotting **system pressure and density** by time during the **NPT equilibration** process.\n",
    "***\n",
    "**Building Blocks** used:\n",
    " - [Grompp](https://biobb-md.readthedocs.io/en/latest/gromacs.html#module-gromacs.grompp) from **biobb_md.gromacs.grompp** \n",
    " - [Mdrun](https://biobb-md.readthedocs.io/en/latest/gromacs.html#module-gromacs.mdrun) from **biobb_md.gromacs.mdrun** \n",
    " - [GMXEnergy](https://biobb-analysis.readthedocs.io/en/latest/gromacs.html#module-gromacs.gmx_energy) from **biobb_analysis.gromacs.gmx_energy** \n",
    "***"
   ]
  },
  {
   "cell_type": "markdown",
   "metadata": {},
   "source": [
    "<a id=\"eqNPTStep1\"></a>\n",
    "### Step 1: Creating portable binary run file for system equilibration (NPT)\n",
    "\n",
    "The **npt** type of the **molecular dynamics parameters (mdp) property** contains the main default parameters to run an **NPT equilibration** with **protein restraints** (see [GROMACS mdp options](http://manual.gromacs.org/documentation/2018/user-guide/mdp-options.html)):\n",
    "\n",
    "-  integrator               = md\n",
    "-  dt                       = 0.001\n",
    "-  nsteps                   = 10000\n",
    "-  pcoupl = Parrinello-Rahman\n",
    "-  pcoupltype = isotropic\n",
    "-  tau_p = 1.0\n",
    "-  ref_p = 1.0\n",
    "-  compressibility = 4.5e-5\n",
    "-  refcoord_scaling = com\n",
    "-  gen_vel = no\n",
    "\n",
    "In this particular example, the default parameters will be used: **md** integrator algorithm, a **time step** of **2fs**, **5,000 equilibration steps**, and a Parrinello-Rahman **pressure coupling** algorithm.\n",
    "\n",
    "*Please note that for the sake of time this tutorial is only running 10ps of NPT equilibration, whereas in the [original example](http://pmx.mpibpc.mpg.de/sardinia2018_tutorial1/eq.mdp) the simulated time was 100ps.*"
   ]
  },
  {
   "cell_type": "code",
   "execution_count": 15,
   "metadata": {},
   "outputs": [
    {
     "name": "stderr",
     "output_type": "stream",
     "text": [
      "2020-06-10 13:56:53,664 [MainThread  ] [INFO ]  GROMACS Grompp 20190 version detected\n",
      "2020-06-10 13:56:53,668 [MainThread  ] [INFO ]  Extracting: /home/gbayarri_local/projects/BioBB/tutorials/biobb_wf_pmx_tutorial/biobb_wf_pmx_tutorial/notebooks/pmxA_top.zip\n",
      "2020-06-10 13:56:53,669 [MainThread  ] [INFO ]  to:\n",
      "2020-06-10 13:56:53,671 [MainThread  ] [INFO ]  ['0cc9f8fd-ec37-4e96-96b2-f171b69207ec/p2g.top', '0cc9f8fd-ec37-4e96-96b2-f171b69207ec/p2g_Ion_chain_C.itp', '0cc9f8fd-ec37-4e96-96b2-f171b69207ec/p2g_Protein_chain_A.itp', '0cc9f8fd-ec37-4e96-96b2-f171b69207ec/posre_Ion_chain_C.itp']\n",
      "2020-06-10 13:56:53,671 [MainThread  ] [INFO ]  Unzipping: \n",
      "2020-06-10 13:56:53,673 [MainThread  ] [INFO ]  pmxA_top.zip\n",
      "2020-06-10 13:56:53,674 [MainThread  ] [INFO ]  To: \n",
      "2020-06-10 13:56:53,675 [MainThread  ] [INFO ]  0cc9f8fd-ec37-4e96-96b2-f171b69207ec/p2g.top\n",
      "2020-06-10 13:56:53,676 [MainThread  ] [INFO ]  0cc9f8fd-ec37-4e96-96b2-f171b69207ec/p2g_Ion_chain_C.itp\n",
      "2020-06-10 13:56:53,677 [MainThread  ] [INFO ]  0cc9f8fd-ec37-4e96-96b2-f171b69207ec/p2g_Protein_chain_A.itp\n",
      "2020-06-10 13:56:53,678 [MainThread  ] [INFO ]  0cc9f8fd-ec37-4e96-96b2-f171b69207ec/posre_Ion_chain_C.itp\n",
      "2020-06-10 13:56:53,682 [MainThread  ] [INFO ]  Will run a free md of 10.0 pico seconds\n",
      "2020-06-10 13:56:53,684 [MainThread  ] [INFO ]  Not using any container\n",
      "2020-06-10 13:56:53,957 [MainThread  ] [INFO ]  gmx -nobackup -nocopyright grompp -f 1aef659c-b8d8-4012-a536-d547162f2563/grompp.mdp -c pdb2gmxA.pdb -r pdb2gmxA.pdb -p 0cc9f8fd-ec37-4e96-96b2-f171b69207ec/p2g.top -o eqA_20ps.tpr -po mdout.mdp -maxwarn 10\n",
      "\n",
      "2020-06-10 13:56:53,957 [MainThread  ] [INFO ]  Exit code 0\n",
      "\n",
      "2020-06-10 13:56:53,958 [MainThread  ] [INFO ]  turning H bonds into constraints...\n",
      "turning H bonds into constraints...\n",
      "turning H bonds into constraints...\n",
      "Analysing residue names:\n",
      "There are:   136    Protein residues\n",
      "There are:    74        Ion residues\n",
      "There are: 10948      Water residues\n",
      "Analysing Protein...\n",
      "Analysing residues not classified as Protein/DNA/RNA/Water and splitting into groups...\n",
      "Determining Verlet buffer for a tolerance of 0.005 kJ/mol/ps at 300 K\n",
      "Calculated rlist for 1x1 atom pair-list as 1.035 nm, buffer size 0.035 nm\n",
      "Set rlist, assuming 4x4 atom pair-list, to 1.000 nm, buffer size 0.000 nm\n",
      "Note that mdrun will redetermine rlist based on the actual pair-list setup\n",
      "Calculating fourier grid dimensions for X Y Z\n",
      "Using a fourier grid of 72x72x72, spacing 0.110 0.110 0.110\n",
      "This run will generate roughly 5 Mb of data\n",
      "\n",
      "2020-06-10 13:56:53,959 [MainThread  ] [INFO ]                         :-) GROMACS - gmx grompp, 2019 (-:\n",
      "\n",
      "Executable:   /usr/local/gromacs/bin/gmx\n",
      "Data prefix:  /usr/local/gromacs\n",
      "Working dir:  /home/gbayarri_local/projects/BioBB/tutorials/biobb_wf_pmx_tutorial/biobb_wf_pmx_tutorial/notebooks\n",
      "Command line:\n",
      "  gmx -nobackup -nocopyright grompp -f 1aef659c-b8d8-4012-a536-d547162f2563/grompp.mdp -c pdb2gmxA.pdb -r pdb2gmxA.pdb -p 0cc9f8fd-ec37-4e96-96b2-f171b69207ec/p2g.top -o eqA_20ps.tpr -po mdout.mdp -maxwarn 10\n",
      "\n",
      "Setting the LD random seed to -1300892173\n",
      "Generated 5253 of the 5253 non-bonded parameter combinations\n",
      "Generating 1-4 interactions: fudge = 0.5\n",
      "Generated 5253 of the 5253 1-4 parameter combinations\n",
      "Excluding 3 bonded neighbours molecule type 'Protein_chain_A'\n",
      "Excluding 3 bonded neighbours molecule type 'Ion_chain_C'\n",
      "Excluding 2 bonded neighbours molecule type 'SOL'\n",
      "Excluding 2 bonded neighbours molecule type 'SOL'\n",
      "Removing all charge groups because cutoff-scheme=Verlet\n",
      "\n",
      "NOTE 1 [file p2g.top, line 16]:\n",
      "  In moleculetype 'Ion_chain_C' 74 atoms are not bound by a potential or\n",
      "  constraint to any other atom in the same moleculetype. Although\n",
      "  technically this might not cause issues in a simulation, this often means\n",
      "  that the user forgot to add a bond/potential/constraint or put multiple\n",
      "  molecules in the same moleculetype definition by mistake. Run with -v to\n",
      "  get information for each atom.\n",
      "\n",
      "Number of degrees of freedom in T-Coupling group Protein is 5543.77\n",
      "Number of degrees of freedom in T-Coupling group non-Protein is 65907.23\n",
      "Estimate for the relative computational load of the PME mesh part: 0.29\n",
      "\n",
      "There was 1 note\n",
      "\n",
      "GROMACS reminds you: \"Almost without exception, the talented women I have known have believed they had less ability than they actually had. And almost without exception, the talented men I have known believed they had more.\" (Gregory Petsko)\n",
      "\n",
      "\n",
      "2020-06-10 13:56:53,960 [MainThread  ] [INFO ]  Removed: ['mdout.mdp', '0cc9f8fd-ec37-4e96-96b2-f171b69207ec', '1aef659c-b8d8-4012-a536-d547162f2563']\n",
      "2020-06-10 13:56:53,986 [MainThread  ] [INFO ]  GROMACS Grompp 20190 version detected\n",
      "2020-06-10 13:56:53,995 [MainThread  ] [INFO ]  Extracting: /home/gbayarri_local/projects/BioBB/tutorials/biobb_wf_pmx_tutorial/biobb_wf_pmx_tutorial/notebooks/pmxB_top.zip\n",
      "2020-06-10 13:56:53,996 [MainThread  ] [INFO ]  to:\n",
      "2020-06-10 13:56:53,997 [MainThread  ] [INFO ]  ['40916c42-af59-47b0-b488-987a50c3c02e/p2g.top', '40916c42-af59-47b0-b488-987a50c3c02e/p2g_Ion_chain_C.itp', '40916c42-af59-47b0-b488-987a50c3c02e/p2g_Protein_chain_A.itp', '40916c42-af59-47b0-b488-987a50c3c02e/posre_Ion_chain_C.itp']\n",
      "2020-06-10 13:56:53,998 [MainThread  ] [INFO ]  Unzipping: \n",
      "2020-06-10 13:56:53,999 [MainThread  ] [INFO ]  pmxB_top.zip\n",
      "2020-06-10 13:56:54,001 [MainThread  ] [INFO ]  To: \n",
      "2020-06-10 13:56:54,003 [MainThread  ] [INFO ]  40916c42-af59-47b0-b488-987a50c3c02e/p2g.top\n",
      "2020-06-10 13:56:54,004 [MainThread  ] [INFO ]  40916c42-af59-47b0-b488-987a50c3c02e/p2g_Ion_chain_C.itp\n",
      "2020-06-10 13:56:54,005 [MainThread  ] [INFO ]  40916c42-af59-47b0-b488-987a50c3c02e/p2g_Protein_chain_A.itp\n",
      "2020-06-10 13:56:54,006 [MainThread  ] [INFO ]  40916c42-af59-47b0-b488-987a50c3c02e/posre_Ion_chain_C.itp\n",
      "2020-06-10 13:56:54,008 [MainThread  ] [INFO ]  Will run a free md of 10.0 pico seconds\n",
      "2020-06-10 13:56:54,009 [MainThread  ] [INFO ]  Not using any container\n",
      "2020-06-10 13:56:54,293 [MainThread  ] [INFO ]  gmx -nobackup -nocopyright grompp -f 8a57920e-bb52-4801-a04b-685128c2dc9f/grompp.mdp -c emout.gro -r emout.gro -p 40916c42-af59-47b0-b488-987a50c3c02e/p2g.top -o eqB_20ps.tpr -po mdout.mdp -maxwarn 10\n",
      "\n",
      "2020-06-10 13:56:54,294 [MainThread  ] [INFO ]  Exit code 0\n",
      "\n",
      "2020-06-10 13:56:54,295 [MainThread  ] [INFO ]  turning H bonds into constraints...\n",
      "turning H bonds into constraints...\n",
      "turning H bonds into constraints...\n",
      "Analysing residue names:\n",
      "There are:   136    Protein residues\n",
      "There are:    74        Ion residues\n",
      "There are: 10949      Water residues\n",
      "Analysing Protein...\n",
      "Analysing residues not classified as Protein/DNA/RNA/Water and splitting into groups...\n",
      "Determining Verlet buffer for a tolerance of 0.005 kJ/mol/ps at 300 K\n",
      "Calculated rlist for 1x1 atom pair-list as 1.012 nm, buffer size 0.012 nm\n",
      "Set rlist, assuming 4x4 atom pair-list, to 1.000 nm, buffer size 0.000 nm\n",
      "Note that mdrun will redetermine rlist based on the actual pair-list setup\n",
      "Calculating fourier grid dimensions for X Y Z\n",
      "Using a fourier grid of 72x72x72, spacing 0.110 0.110 0.110\n",
      "This run will generate roughly 7 Mb of data\n",
      "\n",
      "2020-06-10 13:56:54,295 [MainThread  ] [INFO ]                         :-) GROMACS - gmx grompp, 2019 (-:\n",
      "\n",
      "Executable:   /usr/local/gromacs/bin/gmx\n",
      "Data prefix:  /usr/local/gromacs\n",
      "Working dir:  /home/gbayarri_local/projects/BioBB/tutorials/biobb_wf_pmx_tutorial/biobb_wf_pmx_tutorial/notebooks\n",
      "Command line:\n",
      "  gmx -nobackup -nocopyright grompp -f 8a57920e-bb52-4801-a04b-685128c2dc9f/grompp.mdp -c emout.gro -r emout.gro -p 40916c42-af59-47b0-b488-987a50c3c02e/p2g.top -o eqB_20ps.tpr -po mdout.mdp -maxwarn 10\n",
      "\n",
      "Setting the LD random seed to 24775698\n",
      "Generated 5253 of the 5253 non-bonded parameter combinations\n",
      "Generating 1-4 interactions: fudge = 0.5\n",
      "Generated 5253 of the 5253 1-4 parameter combinations\n",
      "Excluding 3 bonded neighbours molecule type 'Protein_chain_A'\n",
      "Excluding 3 bonded neighbours molecule type 'Ion_chain_C'\n",
      "Excluding 2 bonded neighbours molecule type 'SOL'\n",
      "Excluding 2 bonded neighbours molecule type 'SOL'\n",
      "Removing all charge groups because cutoff-scheme=Verlet\n",
      "\n",
      "NOTE 1 [file p2g.top, line 16]:\n",
      "  In moleculetype 'Ion_chain_C' 74 atoms are not bound by a potential or\n",
      "  constraint to any other atom in the same moleculetype. Although\n",
      "  technically this might not cause issues in a simulation, this often means\n",
      "  that the user forgot to add a bond/potential/constraint or put multiple\n",
      "  molecules in the same moleculetype definition by mistake. Run with -v to\n",
      "  get information for each atom.\n",
      "\n",
      "\n",
      "NOTE 2 [file p2g.top, line 16]:\n",
      "  The bond in molecule-type Protein_chain_A between atoms 170 DCD1 and 171\n",
      "  DHD1 has an estimated oscillational period of 8.3e-03 ps, which is less\n",
      "  than 10 times the time step of 1.0e-03 ps.\n",
      "  Maybe you forgot to change the constraints mdp option.\n",
      "\n",
      "Number of degrees of freedom in T-Coupling group Protein is 5543.77\n",
      "Number of degrees of freedom in T-Coupling group non-Protein is 65913.23\n",
      "Estimate for the relative computational load of the PME mesh part: 0.29\n",
      "\n",
      "There were 2 notes\n",
      "\n",
      "GROMACS reminds you: \"It's just the way this stuff is done\" (Built to Spill)\n",
      "\n",
      "\n"
     ]
    },
    {
     "name": "stderr",
     "output_type": "stream",
     "text": [
      "2020-06-10 13:56:54,296 [MainThread  ] [INFO ]  Removed: ['mdout.mdp', '40916c42-af59-47b0-b488-987a50c3c02e', '8a57920e-bb52-4801-a04b-685128c2dc9f']\n"
     ]
    },
    {
     "data": {
      "text/plain": [
       "0"
      ]
     },
     "execution_count": 15,
     "metadata": {},
     "output_type": "execute_result"
    }
   ],
   "source": [
    "# Grompp: Creating portable binary run file for system equilibration\n",
    "from biobb_md.gromacs.grompp import Grompp\n",
    "\n",
    "#### State A (WT->Mut) ####\n",
    "\n",
    "\n",
    "cwd = os.getcwd()\n",
    "gmxlib = cwd + \"/pmx_tutorial/mutff45\"\n",
    "\n",
    "# Create prop dict and inputs/outputs\n",
    "output_tprA_eq = 'eqA_20ps.tpr'\n",
    "\n",
    "prop = {\n",
    "    'gmxlib' : gmxlib,\n",
    "    'mdp':{\n",
    "        'type': 'free',\n",
    "        'nsteps':'5000',\n",
    "        'nstcomm' : '1',\n",
    "        'nstcalcenergy' : '1'\n",
    "    }\n",
    "}\n",
    "\n",
    "#Create and launch bb\n",
    "Grompp(input_gro_path=output_pdb2gmxA_gro,\n",
    "       input_top_zip_path=output_pmxtopA_top_zip,\n",
    "       output_tpr_path=output_tprA_eq,\n",
    "       properties=prop).launch()\n",
    "\n",
    "#### State B (Mut->WT) ####\n",
    "\n",
    "# Create prop dict and inputs/outputs\n",
    "output_tprB_eq = 'eqB_20ps.tpr'\n",
    "\n",
    "prop = {\n",
    "    'gmxlib' : gmxlib,\n",
    "    'mdp':{\n",
    "        'type': 'free',\n",
    "        'nsteps':'10000', # 10000 steps x 1fs (timestep) = 10ps \n",
    "        'dt':'0.001', # 1 fs of timestep, to properly equilibrate dummy atoms\n",
    "        'nstcomm' : '1',\n",
    "        'nstcalcenergy' : '1'\n",
    "    }\n",
    "}\n",
    "#Create and launch bb\n",
    "Grompp(input_gro_path=output_min_gro,\n",
    "       input_top_zip_path=output_pmxtopB_top_zip,\n",
    "       output_tpr_path=output_tprB_eq,\n",
    "       properties=prop).launch()\n"
   ]
  },
  {
   "cell_type": "markdown",
   "metadata": {},
   "source": [
    "<a id=\"eqNPTStep2\"></a>\n",
    "### Step 2: Running NPT equilibration"
   ]
  },
  {
   "cell_type": "code",
   "execution_count": 14,
   "metadata": {},
   "outputs": [
    {
     "name": "stderr",
     "output_type": "stream",
     "text": [
      "2020-06-10 13:52:13,480 [MainThread  ] [INFO ]  GROMACS Mdrun 20190 version detected\n",
      "2020-06-10 13:52:13,481 [MainThread  ] [INFO ]  Not using any container\n",
      "2020-06-10 13:53:52,031 [MainThread  ] [INFO ]  gmx -nobackup -nocopyright mdrun -s eqA_20ps.tpr -o eqoutA.trr -c eqoutA.gro -e eqoutA.edr -g eqoutA.log -nt 0\n",
      "\n",
      "2020-06-10 13:53:52,032 [MainThread  ] [INFO ]  Exit code 0\n",
      "\n",
      "2020-06-10 13:53:52,032 [MainThread  ] [INFO ]                         :-) GROMACS - gmx mdrun, 2019 (-:\n",
      "\n",
      "Executable:   /usr/local/gromacs/bin/gmx\n",
      "Data prefix:  /usr/local/gromacs\n",
      "Working dir:  /home/gbayarri_local/projects/BioBB/tutorials/biobb_wf_pmx_tutorial/biobb_wf_pmx_tutorial/notebooks\n",
      "Command line:\n",
      "  gmx -nobackup -nocopyright mdrun -s eqA_20ps.tpr -o eqoutA.trr -c eqoutA.gro -e eqoutA.edr -g eqoutA.log -nt 0\n",
      "\n",
      "Reading file eqA_20ps.tpr, VERSION 2019 (single precision)\n",
      "Changing nstlist from 10 to 50, rlist from 1 to 1.115\n",
      "\n",
      "Using 1 MPI thread\n",
      "Using 8 OpenMP threads \n",
      "\n",
      "starting mdrun 'PMX MODEL'\n",
      "5000 steps,     10.0 ps.\n",
      "\n",
      "Writing final coordinates.\n",
      "\n",
      "               Core t (s)   Wall t (s)        (%)\n",
      "       Time:      770.320       96.293      800.0\n",
      "                 (ns/day)    (hour/ns)\n",
      "Performance:        8.974        2.674\n",
      "\n",
      "GROMACS reminds you: \"You Can Always Go On Ricky Lake\" (Offspring)\n",
      "\n",
      "\n",
      "2020-06-10 13:53:52,033 [MainThread  ] [INFO ]  Removed: []\n",
      "2020-06-10 13:53:52,055 [MainThread  ] [INFO ]  GROMACS Mdrun 20190 version detected\n",
      "2020-06-10 13:53:52,057 [MainThread  ] [INFO ]  Not using any container\n",
      "2020-06-10 13:56:49,826 [MainThread  ] [INFO ]  gmx -nobackup -nocopyright mdrun -s eqB_20ps.tpr -o eqoutB.trr -c eqoutB.gro -e eqoutB.edr -g eqoutB.log -nt 0\n",
      "\n",
      "2020-06-10 13:56:49,827 [MainThread  ] [INFO ]  Exit code 0\n",
      "\n",
      "2020-06-10 13:56:49,827 [MainThread  ] [INFO ]                         :-) GROMACS - gmx mdrun, 2019 (-:\n",
      "\n",
      "Executable:   /usr/local/gromacs/bin/gmx\n",
      "Data prefix:  /usr/local/gromacs\n",
      "Working dir:  /home/gbayarri_local/projects/BioBB/tutorials/biobb_wf_pmx_tutorial/biobb_wf_pmx_tutorial/notebooks\n",
      "Command line:\n",
      "  gmx -nobackup -nocopyright mdrun -s eqB_20ps.tpr -o eqoutB.trr -c eqoutB.gro -e eqoutB.edr -g eqoutB.log -nt 0\n",
      "\n",
      "Reading file eqB_20ps.tpr, VERSION 2019 (single precision)\n",
      "Changing nstlist from 10 to 80, rlist from 1 to 1.097\n",
      "\n",
      "Using 1 MPI thread\n",
      "Using 8 OpenMP threads \n",
      "\n",
      "starting mdrun 'PMX MODEL'\n",
      "10000 steps,     10.0 ps.\n",
      "\n",
      "Writing final coordinates.\n",
      "\n",
      "               Core t (s)   Wall t (s)        (%)\n",
      "       Time:     1402.736      175.342      800.0\n",
      "                 (ns/day)    (hour/ns)\n",
      "Performance:        4.928        4.870\n",
      "\n",
      "GROMACS reminds you: \"Space May Be the Final Frontier, But It's Made in a Hollywood Basement\" (Red Hot Chili Peppers)\n",
      "\n",
      "\n",
      "2020-06-10 13:56:49,828 [MainThread  ] [INFO ]  Removed: []\n"
     ]
    },
    {
     "data": {
      "text/plain": [
       "0"
      ]
     },
     "execution_count": 14,
     "metadata": {},
     "output_type": "execute_result"
    }
   ],
   "source": [
    "# Mdrun: Running equilibration\n",
    "from biobb_md.gromacs.mdrun import Mdrun\n",
    "\n",
    "#### State A (WT->Mut) ####\n",
    "\n",
    "# Create prop dict and inputs/outputs\n",
    "output_eqA_trr = 'eqoutA.trr'\n",
    "output_eqA_gro = 'eqoutA.gro'\n",
    "output_eqA_edr = 'eqoutA.edr'\n",
    "output_eqA_log = 'eqoutA.log'\n",
    "\n",
    "# Create and launch bb\n",
    "Mdrun(input_tpr_path=output_tprA_eq,\n",
    "      output_trr_path=output_eqA_trr,\n",
    "      output_gro_path=output_eqA_gro,\n",
    "      output_edr_path=output_eqA_edr,\n",
    "      output_log_path=output_eqA_log).launch()\n",
    "\n",
    "#### State B (Mut->WT) ####\n",
    "\n",
    "# Create prop dict and inputs/outputs\n",
    "output_eqB_trr = 'eqoutB.trr'\n",
    "output_eqB_gro = 'eqoutB.gro'\n",
    "output_eqB_edr = 'eqoutB.edr'\n",
    "output_eqB_log = 'eqoutB.log'\n",
    "\n",
    "# Create and launch bb\n",
    "Mdrun(input_tpr_path=output_tprB_eq,\n",
    "      output_trr_path=output_eqB_trr,\n",
    "      output_gro_path=output_eqB_gro,\n",
    "      output_edr_path=output_eqB_edr,\n",
    "      output_log_path=output_eqB_log).launch()"
   ]
  },
  {
   "cell_type": "markdown",
   "metadata": {},
   "source": [
    "<a id=\"eqNPTStep3\"></a>\n",
    "### Step 3: Checking NPT Equilibration results\n",
    "Checking **NPT Equilibration** results. Plotting **system pressure and density** by time during the **NPT equilibration** process. "
   ]
  },
  {
   "cell_type": "code",
   "execution_count": 16,
   "metadata": {},
   "outputs": [
    {
     "name": "stderr",
     "output_type": "stream",
     "text": [
      "2020-06-10 13:57:09,933 [MainThread  ] [INFO ]  Not using any container\n",
      "2020-06-10 13:57:09,947 [MainThread  ] [INFO ]  gmx energy -f /home/gbayarri_local/projects/BioBB/tutorials/biobb_wf_pmx_tutorial/biobb_wf_pmx_tutorial/notebooks/eqoutA.edr -o eqA_PD.xvg -xvg none < 111b775e-a11c-4fa4-8fd1-8d5f11e6ac33/instructions.in\n",
      "\n",
      "2020-06-10 13:57:09,949 [MainThread  ] [INFO ]  Exit code 0\n",
      "\n",
      "2020-06-10 13:57:09,951 [MainThread  ] [INFO ]  \n",
      "Statistics over 5001 steps [ 0.0000 through 10.0000 ps ], 2 data sets\n",
      "All statistics are over 5001 points\n",
      "\n",
      "Energy                      Average   Err.Est.       RMSD  Tot-Drift\n",
      "-------------------------------------------------------------------------------\n",
      "Pressure                   -73.8869         --     1197.4   -77206.7  (bar)\n",
      "Density                     1023.39         --    11.1889     9.7898  (kg/m^3)\n",
      "\n",
      "2020-06-10 13:57:09,952 [MainThread  ] [INFO ]                         :-) GROMACS - gmx energy, 2019 (-:\n",
      "\n",
      "                            GROMACS is written by:\n",
      "     Emile Apol      Rossen Apostolov      Paul Bauer     Herman J.C. Berendsen\n",
      "    Par Bjelkmar      Christian Blau   Viacheslav Bolnykh     Kevin Boyd    \n",
      " Aldert van Buuren   Rudi van Drunen     Anton Feenstra       Alan Gray     \n",
      "  Gerrit Groenhof     Anca Hamuraru    Vincent Hindriksen  M. Eric Irrgang  \n",
      "  Aleksei Iupinov   Christoph Junghans     Joe Jordan     Dimitrios Karkoulis\n",
      "    Peter Kasson        Jiri Kraus      Carsten Kutzner      Per Larsson    \n",
      "  Justin A. Lemkul    Viveca Lindahl    Magnus Lundborg     Erik Marklund   \n",
      "    Pascal Merz     Pieter Meulenhoff    Teemu Murtola       Szilard Pall   \n",
      "    Sander Pronk      Roland Schulz      Michael Shirts    Alexey Shvetsov  \n",
      "   Alfons Sijbers     Peter Tieleman      Jon Vincent      Teemu Virolainen \n",
      " Christian Wennberg    Maarten Wolf   \n",
      "                           and the project leaders:\n",
      "        Mark Abraham, Berk Hess, Erik Lindahl, and David van der Spoel\n",
      "\n",
      "Copyright (c) 1991-2000, University of Groningen, The Netherlands.\n",
      "Copyright (c) 2001-2018, The GROMACS development team at\n",
      "Uppsala University, Stockholm University and\n",
      "the Royal Institute of Technology, Sweden.\n",
      "check out http://www.gromacs.org for more information.\n",
      "\n",
      "GROMACS is free software; you can redistribute it and/or modify it\n",
      "under the terms of the GNU Lesser General Public License\n",
      "as published by the Free Software Foundation; either version 2.1\n",
      "of the License, or (at your option) any later version.\n",
      "\n",
      "GROMACS:      gmx energy, version 2019\n",
      "Executable:   /usr/local/gromacs/bin/gmx\n",
      "Data prefix:  /usr/local/gromacs\n",
      "Working dir:  /home/gbayarri_local/projects/BioBB/tutorials/biobb_wf_pmx_tutorial/biobb_wf_pmx_tutorial/notebooks\n",
      "Command line:\n",
      "  gmx energy -f /home/gbayarri_local/projects/BioBB/tutorials/biobb_wf_pmx_tutorial/biobb_wf_pmx_tutorial/notebooks/eqoutA.edr -o eqA_PD.xvg -xvg none\n",
      "\n",
      "Opened /home/gbayarri_local/projects/BioBB/tutorials/biobb_wf_pmx_tutorial/biobb_wf_pmx_tutorial/notebooks/eqoutA.edr as single precision energy file\n",
      "\n",
      "Select the terms you want from the following list by\n",
      "selecting either (part of) the name or the number or a combination.\n",
      "End your selection with an empty line or a zero.\n",
      "-------------------------------------------------------------------\n",
      "  1  Bond             2  Angle            3  Proper-Dih.      4  Improper-Dih. \n",
      "  5  LJ-14            6  Coulomb-14       7  LJ-(SR)          8  Disper.-corr. \n",
      "  9  Coulomb-(SR)    10  Coul.-recip.    11  Potential       12  Kinetic-En.   \n",
      " 13  Total-Energy    14  Conserved-En.   15  Temperature     16  Pres.-DC      \n",
      " 17  Pressure        18  Constr.-rmsd    19  Box-X           20  Box-Y         \n",
      " 21  Box-Z           22  Volume          23  Density         24  pV            \n",
      " 25  Enthalpy        26  Vir-XX          27  Vir-XY          28  Vir-XZ        \n",
      " 29  Vir-YX          30  Vir-YY          31  Vir-YZ          32  Vir-ZX        \n",
      " 33  Vir-ZY          34  Vir-ZZ          35  Pres-XX         36  Pres-XY       \n",
      " 37  Pres-XZ         38  Pres-YX         39  Pres-YY         40  Pres-YZ       \n",
      " 41  Pres-ZX         42  Pres-ZY         43  Pres-ZZ         44  #Surf*SurfTen \n",
      " 45  Box-Vel-XX      46  Box-Vel-YY      47  Box-Vel-ZZ      48  T-Protein     \n",
      " 49  T-non-Protein                       50  Lamb-Protein                      \n",
      " 51  Lamb-non-Protein                  \n",
      "\n",
      "\n",
      "Back Off! I just backed up eqA_PD.xvg to ./#eqA_PD.xvg.4#\n",
      "Last energy frame read 1 time   10.000            \n",
      "\n",
      "GROMACS reminds you: \"As Always Your Logic Is Impeccable\" (Tuvok)\n",
      "\n",
      "\n",
      "2020-06-10 13:57:09,954 [MainThread  ] [INFO ]  Removed: [PurePosixPath('111b775e-a11c-4fa4-8fd1-8d5f11e6ac33')]\n",
      "2020-06-10 13:57:09,971 [MainThread  ] [INFO ]  Not using any container\n",
      "2020-06-10 13:57:09,994 [MainThread  ] [INFO ]  gmx energy -f /home/gbayarri_local/projects/BioBB/tutorials/biobb_wf_pmx_tutorial/biobb_wf_pmx_tutorial/notebooks/eqoutB.edr -o eqB_PD.xvg -xvg none < faa78321-1cf1-4b9f-aad9-9b9134767214/instructions.in\n",
      "\n",
      "2020-06-10 13:57:09,999 [MainThread  ] [INFO ]  Exit code 0\n",
      "\n",
      "2020-06-10 13:57:10,000 [MainThread  ] [INFO ]  \n",
      "Statistics over 10001 steps [ 0.0000 through 10.0000 ps ], 2 data sets\n",
      "All statistics are over 10001 points\n",
      "\n",
      "Energy                      Average   Err.Est.       RMSD  Tot-Drift\n",
      "-------------------------------------------------------------------------------\n",
      "Pressure                    7.26785         --    617.886   -31.0374  (bar)\n",
      "Density                     1027.27         --    7.95141   -9.28202  (kg/m^3)\n",
      "\n",
      "2020-06-10 13:57:10,001 [MainThread  ] [INFO ]                         :-) GROMACS - gmx energy, 2019 (-:\n",
      "\n",
      "                            GROMACS is written by:\n",
      "     Emile Apol      Rossen Apostolov      Paul Bauer     Herman J.C. Berendsen\n",
      "    Par Bjelkmar      Christian Blau   Viacheslav Bolnykh     Kevin Boyd    \n",
      " Aldert van Buuren   Rudi van Drunen     Anton Feenstra       Alan Gray     \n",
      "  Gerrit Groenhof     Anca Hamuraru    Vincent Hindriksen  M. Eric Irrgang  \n",
      "  Aleksei Iupinov   Christoph Junghans     Joe Jordan     Dimitrios Karkoulis\n",
      "    Peter Kasson        Jiri Kraus      Carsten Kutzner      Per Larsson    \n",
      "  Justin A. Lemkul    Viveca Lindahl    Magnus Lundborg     Erik Marklund   \n",
      "    Pascal Merz     Pieter Meulenhoff    Teemu Murtola       Szilard Pall   \n",
      "    Sander Pronk      Roland Schulz      Michael Shirts    Alexey Shvetsov  \n",
      "   Alfons Sijbers     Peter Tieleman      Jon Vincent      Teemu Virolainen \n",
      " Christian Wennberg    Maarten Wolf   \n",
      "                           and the project leaders:\n",
      "        Mark Abraham, Berk Hess, Erik Lindahl, and David van der Spoel\n",
      "\n",
      "Copyright (c) 1991-2000, University of Groningen, The Netherlands.\n",
      "Copyright (c) 2001-2018, The GROMACS development team at\n",
      "Uppsala University, Stockholm University and\n",
      "the Royal Institute of Technology, Sweden.\n",
      "check out http://www.gromacs.org for more information.\n",
      "\n",
      "GROMACS is free software; you can redistribute it and/or modify it\n",
      "under the terms of the GNU Lesser General Public License\n",
      "as published by the Free Software Foundation; either version 2.1\n",
      "of the License, or (at your option) any later version.\n",
      "\n",
      "GROMACS:      gmx energy, version 2019\n",
      "Executable:   /usr/local/gromacs/bin/gmx\n",
      "Data prefix:  /usr/local/gromacs\n",
      "Working dir:  /home/gbayarri_local/projects/BioBB/tutorials/biobb_wf_pmx_tutorial/biobb_wf_pmx_tutorial/notebooks\n",
      "Command line:\n",
      "  gmx energy -f /home/gbayarri_local/projects/BioBB/tutorials/biobb_wf_pmx_tutorial/biobb_wf_pmx_tutorial/notebooks/eqoutB.edr -o eqB_PD.xvg -xvg none\n",
      "\n",
      "Opened /home/gbayarri_local/projects/BioBB/tutorials/biobb_wf_pmx_tutorial/biobb_wf_pmx_tutorial/notebooks/eqoutB.edr as single precision energy file\n",
      "\n",
      "Select the terms you want from the following list by\n",
      "selecting either (part of) the name or the number or a combination.\n",
      "End your selection with an empty line or a zero.\n",
      "-------------------------------------------------------------------\n",
      "  1  Bond             2  Angle            3  Proper-Dih.      4  Improper-Dih. \n",
      "  5  LJ-14            6  Coulomb-14       7  LJ-(SR)          8  Disper.-corr. \n",
      "  9  Coulomb-(SR)    10  Coul.-recip.    11  Potential       12  Kinetic-En.   \n",
      " 13  Total-Energy    14  Conserved-En.   15  Temperature     16  Pres.-DC      \n",
      " 17  Pressure        18  Constr.-rmsd    19  Box-X           20  Box-Y         \n",
      " 21  Box-Z           22  Volume          23  Density         24  pV            \n",
      " 25  Enthalpy        26  Vir-XX          27  Vir-XY          28  Vir-XZ        \n",
      " 29  Vir-YX          30  Vir-YY          31  Vir-YZ          32  Vir-ZX        \n",
      " 33  Vir-ZY          34  Vir-ZZ          35  Pres-XX         36  Pres-XY       \n",
      " 37  Pres-XZ         38  Pres-YX         39  Pres-YY         40  Pres-YZ       \n",
      " 41  Pres-ZX         42  Pres-ZY         43  Pres-ZZ         44  #Surf*SurfTen \n",
      " 45  Box-Vel-XX      46  Box-Vel-YY      47  Box-Vel-ZZ      48  T-Protein     \n",
      " 49  T-non-Protein                       50  Lamb-Protein                      \n",
      " 51  Lamb-non-Protein                  \n",
      "\n",
      "\n",
      "Back Off! I just backed up eqB_PD.xvg to ./#eqB_PD.xvg.4#\n",
      "Last energy frame read 2 time   10.000            \n",
      "\n",
      "GROMACS reminds you: \"The Universe is Somewhere In Here\" (J.G.E.M. Fraaije)\n",
      "\n",
      "\n"
     ]
    },
    {
     "name": "stderr",
     "output_type": "stream",
     "text": [
      "2020-06-10 13:57:10,003 [MainThread  ] [INFO ]  Removed: [PurePosixPath('faa78321-1cf1-4b9f-aad9-9b9134767214')]\n"
     ]
    },
    {
     "data": {
      "text/plain": [
       "0"
      ]
     },
     "execution_count": 16,
     "metadata": {},
     "output_type": "execute_result"
    }
   ],
   "source": [
    "# GMXEnergy: Getting system pressure and density by time during NPT Equilibration  \n",
    "from biobb_analysis.gromacs.gmx_energy import GMXEnergy\n",
    "\n",
    "#### State A (WT->Mut) ####\n",
    "\n",
    "# Create prop dict and inputs/outputs\n",
    "output_eqA_pd_xvg = 'eqA_PD.xvg'\n",
    "prop = {\n",
    "    'terms':  [\"Pressure\",\"Density\"]\n",
    "}\n",
    "\n",
    "# Create and launch bb\n",
    "GMXEnergy(input_energy_path=output_eqA_edr, \n",
    "          output_xvg_path=output_eqA_pd_xvg, \n",
    "          properties=prop).launch()\n",
    "\n",
    "#### State B (Mut->WT) ####\n",
    "\n",
    "# Create prop dict and inputs/outputs\n",
    "output_eqB_pd_xvg = 'eqB_PD.xvg'\n",
    "prop = {\n",
    "    'terms':  [\"Pressure\",\"Density\"]\n",
    "}\n",
    "\n",
    "# Create and launch bb\n",
    "GMXEnergy(input_energy_path=output_eqB_edr, \n",
    "          output_xvg_path=output_eqB_pd_xvg, \n",
    "          properties=prop).launch()"
   ]
  },
  {
   "cell_type": "markdown",
   "metadata": {},
   "source": [
    "Please note the information shown by the next plots **increases with the time simulated**, and are included as a **reference for more complex calculations**.   "
   ]
  },
  {
   "cell_type": "code",
   "execution_count": 17,
   "metadata": {},
   "outputs": [
    {
     "data": {
      "text/html": [
       "        <script type=\"text/javascript\">\n",
       "        window.PlotlyConfig = {MathJaxConfig: 'local'};\n",
       "        if (window.MathJax) {MathJax.Hub.Config({SVG: {font: \"STIX-Web\"}});}\n",
       "        if (typeof require !== 'undefined') {\n",
       "        require.undef(\"plotly\");\n",
       "        requirejs.config({\n",
       "            paths: {\n",
       "                'plotly': ['https://cdn.plot.ly/plotly-latest.min']\n",
       "            }\n",
       "        });\n",
       "        require(['plotly'], function(Plotly) {\n",
       "            window._Plotly = Plotly;\n",
       "        });\n",
       "        }\n",
       "        </script>\n",
       "        "
      ]
     },
     "metadata": {},
     "output_type": "display_data"
    },
    {
     "data": {
      "application/vnd.plotly.v1+json": {
       "config": {
        "linkText": "Export to plot.ly",
        "plotlyServerURL": "https://plot.ly",
        "showLink": false
       },
       "data": [
        {
         "type": "scatter",
         "x": [
          0,
          10
         ],
         "xaxis": "x",
         "y": [
          38529.480469,
          -186.054672
         ],
         "yaxis": "y"
        },
        {
         "type": "scatter",
         "x": [
          0,
          10
         ],
         "xaxis": "x2",
         "y": [
          1018.499023,
          1025.28125
         ],
         "yaxis": "y2"
        }
       ],
       "layout": {
        "showlegend": false,
        "template": {
         "data": {
          "bar": [
           {
            "error_x": {
             "color": "#2a3f5f"
            },
            "error_y": {
             "color": "#2a3f5f"
            },
            "marker": {
             "line": {
              "color": "#E5ECF6",
              "width": 0.5
             }
            },
            "type": "bar"
           }
          ],
          "barpolar": [
           {
            "marker": {
             "line": {
              "color": "#E5ECF6",
              "width": 0.5
             }
            },
            "type": "barpolar"
           }
          ],
          "carpet": [
           {
            "aaxis": {
             "endlinecolor": "#2a3f5f",
             "gridcolor": "white",
             "linecolor": "white",
             "minorgridcolor": "white",
             "startlinecolor": "#2a3f5f"
            },
            "baxis": {
             "endlinecolor": "#2a3f5f",
             "gridcolor": "white",
             "linecolor": "white",
             "minorgridcolor": "white",
             "startlinecolor": "#2a3f5f"
            },
            "type": "carpet"
           }
          ],
          "choropleth": [
           {
            "colorbar": {
             "outlinewidth": 0,
             "ticks": ""
            },
            "type": "choropleth"
           }
          ],
          "contour": [
           {
            "colorbar": {
             "outlinewidth": 0,
             "ticks": ""
            },
            "colorscale": [
             [
              0,
              "#0d0887"
             ],
             [
              0.1111111111111111,
              "#46039f"
             ],
             [
              0.2222222222222222,
              "#7201a8"
             ],
             [
              0.3333333333333333,
              "#9c179e"
             ],
             [
              0.4444444444444444,
              "#bd3786"
             ],
             [
              0.5555555555555556,
              "#d8576b"
             ],
             [
              0.6666666666666666,
              "#ed7953"
             ],
             [
              0.7777777777777778,
              "#fb9f3a"
             ],
             [
              0.8888888888888888,
              "#fdca26"
             ],
             [
              1,
              "#f0f921"
             ]
            ],
            "type": "contour"
           }
          ],
          "contourcarpet": [
           {
            "colorbar": {
             "outlinewidth": 0,
             "ticks": ""
            },
            "type": "contourcarpet"
           }
          ],
          "heatmap": [
           {
            "colorbar": {
             "outlinewidth": 0,
             "ticks": ""
            },
            "colorscale": [
             [
              0,
              "#0d0887"
             ],
             [
              0.1111111111111111,
              "#46039f"
             ],
             [
              0.2222222222222222,
              "#7201a8"
             ],
             [
              0.3333333333333333,
              "#9c179e"
             ],
             [
              0.4444444444444444,
              "#bd3786"
             ],
             [
              0.5555555555555556,
              "#d8576b"
             ],
             [
              0.6666666666666666,
              "#ed7953"
             ],
             [
              0.7777777777777778,
              "#fb9f3a"
             ],
             [
              0.8888888888888888,
              "#fdca26"
             ],
             [
              1,
              "#f0f921"
             ]
            ],
            "type": "heatmap"
           }
          ],
          "heatmapgl": [
           {
            "colorbar": {
             "outlinewidth": 0,
             "ticks": ""
            },
            "colorscale": [
             [
              0,
              "#0d0887"
             ],
             [
              0.1111111111111111,
              "#46039f"
             ],
             [
              0.2222222222222222,
              "#7201a8"
             ],
             [
              0.3333333333333333,
              "#9c179e"
             ],
             [
              0.4444444444444444,
              "#bd3786"
             ],
             [
              0.5555555555555556,
              "#d8576b"
             ],
             [
              0.6666666666666666,
              "#ed7953"
             ],
             [
              0.7777777777777778,
              "#fb9f3a"
             ],
             [
              0.8888888888888888,
              "#fdca26"
             ],
             [
              1,
              "#f0f921"
             ]
            ],
            "type": "heatmapgl"
           }
          ],
          "histogram": [
           {
            "marker": {
             "colorbar": {
              "outlinewidth": 0,
              "ticks": ""
             }
            },
            "type": "histogram"
           }
          ],
          "histogram2d": [
           {
            "colorbar": {
             "outlinewidth": 0,
             "ticks": ""
            },
            "colorscale": [
             [
              0,
              "#0d0887"
             ],
             [
              0.1111111111111111,
              "#46039f"
             ],
             [
              0.2222222222222222,
              "#7201a8"
             ],
             [
              0.3333333333333333,
              "#9c179e"
             ],
             [
              0.4444444444444444,
              "#bd3786"
             ],
             [
              0.5555555555555556,
              "#d8576b"
             ],
             [
              0.6666666666666666,
              "#ed7953"
             ],
             [
              0.7777777777777778,
              "#fb9f3a"
             ],
             [
              0.8888888888888888,
              "#fdca26"
             ],
             [
              1,
              "#f0f921"
             ]
            ],
            "type": "histogram2d"
           }
          ],
          "histogram2dcontour": [
           {
            "colorbar": {
             "outlinewidth": 0,
             "ticks": ""
            },
            "colorscale": [
             [
              0,
              "#0d0887"
             ],
             [
              0.1111111111111111,
              "#46039f"
             ],
             [
              0.2222222222222222,
              "#7201a8"
             ],
             [
              0.3333333333333333,
              "#9c179e"
             ],
             [
              0.4444444444444444,
              "#bd3786"
             ],
             [
              0.5555555555555556,
              "#d8576b"
             ],
             [
              0.6666666666666666,
              "#ed7953"
             ],
             [
              0.7777777777777778,
              "#fb9f3a"
             ],
             [
              0.8888888888888888,
              "#fdca26"
             ],
             [
              1,
              "#f0f921"
             ]
            ],
            "type": "histogram2dcontour"
           }
          ],
          "mesh3d": [
           {
            "colorbar": {
             "outlinewidth": 0,
             "ticks": ""
            },
            "type": "mesh3d"
           }
          ],
          "parcoords": [
           {
            "line": {
             "colorbar": {
              "outlinewidth": 0,
              "ticks": ""
             }
            },
            "type": "parcoords"
           }
          ],
          "pie": [
           {
            "automargin": true,
            "type": "pie"
           }
          ],
          "scatter": [
           {
            "marker": {
             "colorbar": {
              "outlinewidth": 0,
              "ticks": ""
             }
            },
            "type": "scatter"
           }
          ],
          "scatter3d": [
           {
            "line": {
             "colorbar": {
              "outlinewidth": 0,
              "ticks": ""
             }
            },
            "marker": {
             "colorbar": {
              "outlinewidth": 0,
              "ticks": ""
             }
            },
            "type": "scatter3d"
           }
          ],
          "scattercarpet": [
           {
            "marker": {
             "colorbar": {
              "outlinewidth": 0,
              "ticks": ""
             }
            },
            "type": "scattercarpet"
           }
          ],
          "scattergeo": [
           {
            "marker": {
             "colorbar": {
              "outlinewidth": 0,
              "ticks": ""
             }
            },
            "type": "scattergeo"
           }
          ],
          "scattergl": [
           {
            "marker": {
             "colorbar": {
              "outlinewidth": 0,
              "ticks": ""
             }
            },
            "type": "scattergl"
           }
          ],
          "scattermapbox": [
           {
            "marker": {
             "colorbar": {
              "outlinewidth": 0,
              "ticks": ""
             }
            },
            "type": "scattermapbox"
           }
          ],
          "scatterpolar": [
           {
            "marker": {
             "colorbar": {
              "outlinewidth": 0,
              "ticks": ""
             }
            },
            "type": "scatterpolar"
           }
          ],
          "scatterpolargl": [
           {
            "marker": {
             "colorbar": {
              "outlinewidth": 0,
              "ticks": ""
             }
            },
            "type": "scatterpolargl"
           }
          ],
          "scatterternary": [
           {
            "marker": {
             "colorbar": {
              "outlinewidth": 0,
              "ticks": ""
             }
            },
            "type": "scatterternary"
           }
          ],
          "surface": [
           {
            "colorbar": {
             "outlinewidth": 0,
             "ticks": ""
            },
            "colorscale": [
             [
              0,
              "#0d0887"
             ],
             [
              0.1111111111111111,
              "#46039f"
             ],
             [
              0.2222222222222222,
              "#7201a8"
             ],
             [
              0.3333333333333333,
              "#9c179e"
             ],
             [
              0.4444444444444444,
              "#bd3786"
             ],
             [
              0.5555555555555556,
              "#d8576b"
             ],
             [
              0.6666666666666666,
              "#ed7953"
             ],
             [
              0.7777777777777778,
              "#fb9f3a"
             ],
             [
              0.8888888888888888,
              "#fdca26"
             ],
             [
              1,
              "#f0f921"
             ]
            ],
            "type": "surface"
           }
          ],
          "table": [
           {
            "cells": {
             "fill": {
              "color": "#EBF0F8"
             },
             "line": {
              "color": "white"
             }
            },
            "header": {
             "fill": {
              "color": "#C8D4E3"
             },
             "line": {
              "color": "white"
             }
            },
            "type": "table"
           }
          ]
         },
         "layout": {
          "annotationdefaults": {
           "arrowcolor": "#2a3f5f",
           "arrowhead": 0,
           "arrowwidth": 1
          },
          "coloraxis": {
           "colorbar": {
            "outlinewidth": 0,
            "ticks": ""
           }
          },
          "colorscale": {
           "diverging": [
            [
             0,
             "#8e0152"
            ],
            [
             0.1,
             "#c51b7d"
            ],
            [
             0.2,
             "#de77ae"
            ],
            [
             0.3,
             "#f1b6da"
            ],
            [
             0.4,
             "#fde0ef"
            ],
            [
             0.5,
             "#f7f7f7"
            ],
            [
             0.6,
             "#e6f5d0"
            ],
            [
             0.7,
             "#b8e186"
            ],
            [
             0.8,
             "#7fbc41"
            ],
            [
             0.9,
             "#4d9221"
            ],
            [
             1,
             "#276419"
            ]
           ],
           "sequential": [
            [
             0,
             "#0d0887"
            ],
            [
             0.1111111111111111,
             "#46039f"
            ],
            [
             0.2222222222222222,
             "#7201a8"
            ],
            [
             0.3333333333333333,
             "#9c179e"
            ],
            [
             0.4444444444444444,
             "#bd3786"
            ],
            [
             0.5555555555555556,
             "#d8576b"
            ],
            [
             0.6666666666666666,
             "#ed7953"
            ],
            [
             0.7777777777777778,
             "#fb9f3a"
            ],
            [
             0.8888888888888888,
             "#fdca26"
            ],
            [
             1,
             "#f0f921"
            ]
           ],
           "sequentialminus": [
            [
             0,
             "#0d0887"
            ],
            [
             0.1111111111111111,
             "#46039f"
            ],
            [
             0.2222222222222222,
             "#7201a8"
            ],
            [
             0.3333333333333333,
             "#9c179e"
            ],
            [
             0.4444444444444444,
             "#bd3786"
            ],
            [
             0.5555555555555556,
             "#d8576b"
            ],
            [
             0.6666666666666666,
             "#ed7953"
            ],
            [
             0.7777777777777778,
             "#fb9f3a"
            ],
            [
             0.8888888888888888,
             "#fdca26"
            ],
            [
             1,
             "#f0f921"
            ]
           ]
          },
          "colorway": [
           "#636efa",
           "#EF553B",
           "#00cc96",
           "#ab63fa",
           "#FFA15A",
           "#19d3f3",
           "#FF6692",
           "#B6E880",
           "#FF97FF",
           "#FECB52"
          ],
          "font": {
           "color": "#2a3f5f"
          },
          "geo": {
           "bgcolor": "white",
           "lakecolor": "white",
           "landcolor": "#E5ECF6",
           "showlakes": true,
           "showland": true,
           "subunitcolor": "white"
          },
          "hoverlabel": {
           "align": "left"
          },
          "hovermode": "closest",
          "mapbox": {
           "style": "light"
          },
          "paper_bgcolor": "white",
          "plot_bgcolor": "#E5ECF6",
          "polar": {
           "angularaxis": {
            "gridcolor": "white",
            "linecolor": "white",
            "ticks": ""
           },
           "bgcolor": "#E5ECF6",
           "radialaxis": {
            "gridcolor": "white",
            "linecolor": "white",
            "ticks": ""
           }
          },
          "scene": {
           "xaxis": {
            "backgroundcolor": "#E5ECF6",
            "gridcolor": "white",
            "gridwidth": 2,
            "linecolor": "white",
            "showbackground": true,
            "ticks": "",
            "zerolinecolor": "white"
           },
           "yaxis": {
            "backgroundcolor": "#E5ECF6",
            "gridcolor": "white",
            "gridwidth": 2,
            "linecolor": "white",
            "showbackground": true,
            "ticks": "",
            "zerolinecolor": "white"
           },
           "zaxis": {
            "backgroundcolor": "#E5ECF6",
            "gridcolor": "white",
            "gridwidth": 2,
            "linecolor": "white",
            "showbackground": true,
            "ticks": "",
            "zerolinecolor": "white"
           }
          },
          "shapedefaults": {
           "line": {
            "color": "#2a3f5f"
           }
          },
          "ternary": {
           "aaxis": {
            "gridcolor": "white",
            "linecolor": "white",
            "ticks": ""
           },
           "baxis": {
            "gridcolor": "white",
            "linecolor": "white",
            "ticks": ""
           },
           "bgcolor": "#E5ECF6",
           "caxis": {
            "gridcolor": "white",
            "linecolor": "white",
            "ticks": ""
           }
          },
          "title": {
           "x": 0.05
          },
          "xaxis": {
           "automargin": true,
           "gridcolor": "white",
           "linecolor": "white",
           "ticks": "",
           "title": {
            "standoff": 15
           },
           "zerolinecolor": "white",
           "zerolinewidth": 2
          },
          "yaxis": {
           "automargin": true,
           "gridcolor": "white",
           "linecolor": "white",
           "ticks": "",
           "title": {
            "standoff": 15
           },
           "zerolinecolor": "white",
           "zerolinewidth": 2
          }
         }
        },
        "title": {
         "text": "Pressure and Density during NPT Equilibration"
        },
        "xaxis": {
         "anchor": "y",
         "domain": [
          0,
          0.45
         ],
         "title": {
          "text": "Time (ps)"
         }
        },
        "xaxis2": {
         "anchor": "y2",
         "domain": [
          0.55,
          1
         ],
         "title": {
          "text": "Time (ps)"
         }
        },
        "yaxis": {
         "anchor": "x",
         "domain": [
          0,
          1
         ],
         "title": {
          "text": "Pressure (bar)"
         }
        },
        "yaxis2": {
         "anchor": "x2",
         "domain": [
          0,
          1
         ],
         "title": {
          "text": "Density (Kg*m^-3)"
         }
        }
       }
      },
      "text/html": [
       "<div>\n",
       "        \n",
       "        \n",
       "            <div id=\"437b0f5c-becd-46f4-962d-ef19fb3d907b\" class=\"plotly-graph-div\" style=\"height:525px; width:100%;\"></div>\n",
       "            <script type=\"text/javascript\">\n",
       "                require([\"plotly\"], function(Plotly) {\n",
       "                    window.PLOTLYENV=window.PLOTLYENV || {};\n",
       "                    \n",
       "                if (document.getElementById(\"437b0f5c-becd-46f4-962d-ef19fb3d907b\")) {\n",
       "                    Plotly.newPlot(\n",
       "                        '437b0f5c-becd-46f4-962d-ef19fb3d907b',\n",
       "                        [{\"type\": \"scatter\", \"x\": [0.0, 10.0], \"xaxis\": \"x\", \"y\": [38529.480469, -186.054672], \"yaxis\": \"y\"}, {\"type\": \"scatter\", \"x\": [0.0, 10.0], \"xaxis\": \"x2\", \"y\": [1018.499023, 1025.28125], \"yaxis\": \"y2\"}],\n",
       "                        {\"showlegend\": false, \"template\": {\"data\": {\"bar\": [{\"error_x\": {\"color\": \"#2a3f5f\"}, \"error_y\": {\"color\": \"#2a3f5f\"}, \"marker\": {\"line\": {\"color\": \"#E5ECF6\", \"width\": 0.5}}, \"type\": \"bar\"}], \"barpolar\": [{\"marker\": {\"line\": {\"color\": \"#E5ECF6\", \"width\": 0.5}}, \"type\": \"barpolar\"}], \"carpet\": [{\"aaxis\": {\"endlinecolor\": \"#2a3f5f\", \"gridcolor\": \"white\", \"linecolor\": \"white\", \"minorgridcolor\": \"white\", \"startlinecolor\": \"#2a3f5f\"}, \"baxis\": {\"endlinecolor\": \"#2a3f5f\", \"gridcolor\": \"white\", \"linecolor\": \"white\", \"minorgridcolor\": \"white\", \"startlinecolor\": \"#2a3f5f\"}, \"type\": \"carpet\"}], \"choropleth\": [{\"colorbar\": {\"outlinewidth\": 0, \"ticks\": \"\"}, \"type\": \"choropleth\"}], \"contour\": [{\"colorbar\": {\"outlinewidth\": 0, \"ticks\": \"\"}, \"colorscale\": [[0.0, \"#0d0887\"], [0.1111111111111111, \"#46039f\"], [0.2222222222222222, \"#7201a8\"], [0.3333333333333333, \"#9c179e\"], [0.4444444444444444, \"#bd3786\"], [0.5555555555555556, \"#d8576b\"], [0.6666666666666666, \"#ed7953\"], [0.7777777777777778, \"#fb9f3a\"], [0.8888888888888888, \"#fdca26\"], [1.0, \"#f0f921\"]], \"type\": \"contour\"}], \"contourcarpet\": [{\"colorbar\": {\"outlinewidth\": 0, \"ticks\": \"\"}, \"type\": \"contourcarpet\"}], \"heatmap\": [{\"colorbar\": {\"outlinewidth\": 0, \"ticks\": \"\"}, \"colorscale\": [[0.0, \"#0d0887\"], [0.1111111111111111, \"#46039f\"], [0.2222222222222222, \"#7201a8\"], [0.3333333333333333, \"#9c179e\"], [0.4444444444444444, \"#bd3786\"], [0.5555555555555556, \"#d8576b\"], [0.6666666666666666, \"#ed7953\"], [0.7777777777777778, \"#fb9f3a\"], [0.8888888888888888, \"#fdca26\"], [1.0, \"#f0f921\"]], \"type\": \"heatmap\"}], \"heatmapgl\": [{\"colorbar\": {\"outlinewidth\": 0, \"ticks\": \"\"}, \"colorscale\": [[0.0, \"#0d0887\"], [0.1111111111111111, \"#46039f\"], [0.2222222222222222, \"#7201a8\"], [0.3333333333333333, \"#9c179e\"], [0.4444444444444444, \"#bd3786\"], [0.5555555555555556, \"#d8576b\"], [0.6666666666666666, \"#ed7953\"], [0.7777777777777778, \"#fb9f3a\"], [0.8888888888888888, \"#fdca26\"], [1.0, \"#f0f921\"]], \"type\": \"heatmapgl\"}], \"histogram\": [{\"marker\": {\"colorbar\": {\"outlinewidth\": 0, \"ticks\": \"\"}}, \"type\": \"histogram\"}], \"histogram2d\": [{\"colorbar\": {\"outlinewidth\": 0, \"ticks\": \"\"}, \"colorscale\": [[0.0, \"#0d0887\"], [0.1111111111111111, \"#46039f\"], [0.2222222222222222, \"#7201a8\"], [0.3333333333333333, \"#9c179e\"], [0.4444444444444444, \"#bd3786\"], [0.5555555555555556, \"#d8576b\"], [0.6666666666666666, \"#ed7953\"], [0.7777777777777778, \"#fb9f3a\"], [0.8888888888888888, \"#fdca26\"], [1.0, \"#f0f921\"]], \"type\": \"histogram2d\"}], \"histogram2dcontour\": [{\"colorbar\": {\"outlinewidth\": 0, \"ticks\": \"\"}, \"colorscale\": [[0.0, \"#0d0887\"], [0.1111111111111111, \"#46039f\"], [0.2222222222222222, \"#7201a8\"], [0.3333333333333333, \"#9c179e\"], [0.4444444444444444, \"#bd3786\"], [0.5555555555555556, \"#d8576b\"], [0.6666666666666666, \"#ed7953\"], [0.7777777777777778, \"#fb9f3a\"], [0.8888888888888888, \"#fdca26\"], [1.0, \"#f0f921\"]], \"type\": \"histogram2dcontour\"}], \"mesh3d\": [{\"colorbar\": {\"outlinewidth\": 0, \"ticks\": \"\"}, \"type\": \"mesh3d\"}], \"parcoords\": [{\"line\": {\"colorbar\": {\"outlinewidth\": 0, \"ticks\": \"\"}}, \"type\": \"parcoords\"}], \"pie\": [{\"automargin\": true, \"type\": \"pie\"}], \"scatter\": [{\"marker\": {\"colorbar\": {\"outlinewidth\": 0, \"ticks\": \"\"}}, \"type\": \"scatter\"}], \"scatter3d\": [{\"line\": {\"colorbar\": {\"outlinewidth\": 0, \"ticks\": \"\"}}, \"marker\": {\"colorbar\": {\"outlinewidth\": 0, \"ticks\": \"\"}}, \"type\": \"scatter3d\"}], \"scattercarpet\": [{\"marker\": {\"colorbar\": {\"outlinewidth\": 0, \"ticks\": \"\"}}, \"type\": \"scattercarpet\"}], \"scattergeo\": [{\"marker\": {\"colorbar\": {\"outlinewidth\": 0, \"ticks\": \"\"}}, \"type\": \"scattergeo\"}], \"scattergl\": [{\"marker\": {\"colorbar\": {\"outlinewidth\": 0, \"ticks\": \"\"}}, \"type\": \"scattergl\"}], \"scattermapbox\": [{\"marker\": {\"colorbar\": {\"outlinewidth\": 0, \"ticks\": \"\"}}, \"type\": \"scattermapbox\"}], \"scatterpolar\": [{\"marker\": {\"colorbar\": {\"outlinewidth\": 0, \"ticks\": \"\"}}, \"type\": \"scatterpolar\"}], \"scatterpolargl\": [{\"marker\": {\"colorbar\": {\"outlinewidth\": 0, \"ticks\": \"\"}}, \"type\": \"scatterpolargl\"}], \"scatterternary\": [{\"marker\": {\"colorbar\": {\"outlinewidth\": 0, \"ticks\": \"\"}}, \"type\": \"scatterternary\"}], \"surface\": [{\"colorbar\": {\"outlinewidth\": 0, \"ticks\": \"\"}, \"colorscale\": [[0.0, \"#0d0887\"], [0.1111111111111111, \"#46039f\"], [0.2222222222222222, \"#7201a8\"], [0.3333333333333333, \"#9c179e\"], [0.4444444444444444, \"#bd3786\"], [0.5555555555555556, \"#d8576b\"], [0.6666666666666666, \"#ed7953\"], [0.7777777777777778, \"#fb9f3a\"], [0.8888888888888888, \"#fdca26\"], [1.0, \"#f0f921\"]], \"type\": \"surface\"}], \"table\": [{\"cells\": {\"fill\": {\"color\": \"#EBF0F8\"}, \"line\": {\"color\": \"white\"}}, \"header\": {\"fill\": {\"color\": \"#C8D4E3\"}, \"line\": {\"color\": \"white\"}}, \"type\": \"table\"}]}, \"layout\": {\"annotationdefaults\": {\"arrowcolor\": \"#2a3f5f\", \"arrowhead\": 0, \"arrowwidth\": 1}, \"coloraxis\": {\"colorbar\": {\"outlinewidth\": 0, \"ticks\": \"\"}}, \"colorscale\": {\"diverging\": [[0, \"#8e0152\"], [0.1, \"#c51b7d\"], [0.2, \"#de77ae\"], [0.3, \"#f1b6da\"], [0.4, \"#fde0ef\"], [0.5, \"#f7f7f7\"], [0.6, \"#e6f5d0\"], [0.7, \"#b8e186\"], [0.8, \"#7fbc41\"], [0.9, \"#4d9221\"], [1, \"#276419\"]], \"sequential\": [[0.0, \"#0d0887\"], [0.1111111111111111, \"#46039f\"], [0.2222222222222222, \"#7201a8\"], [0.3333333333333333, \"#9c179e\"], [0.4444444444444444, \"#bd3786\"], [0.5555555555555556, \"#d8576b\"], [0.6666666666666666, \"#ed7953\"], [0.7777777777777778, \"#fb9f3a\"], [0.8888888888888888, \"#fdca26\"], [1.0, \"#f0f921\"]], \"sequentialminus\": [[0.0, \"#0d0887\"], [0.1111111111111111, \"#46039f\"], [0.2222222222222222, \"#7201a8\"], [0.3333333333333333, \"#9c179e\"], [0.4444444444444444, \"#bd3786\"], [0.5555555555555556, \"#d8576b\"], [0.6666666666666666, \"#ed7953\"], [0.7777777777777778, \"#fb9f3a\"], [0.8888888888888888, \"#fdca26\"], [1.0, \"#f0f921\"]]}, \"colorway\": [\"#636efa\", \"#EF553B\", \"#00cc96\", \"#ab63fa\", \"#FFA15A\", \"#19d3f3\", \"#FF6692\", \"#B6E880\", \"#FF97FF\", \"#FECB52\"], \"font\": {\"color\": \"#2a3f5f\"}, \"geo\": {\"bgcolor\": \"white\", \"lakecolor\": \"white\", \"landcolor\": \"#E5ECF6\", \"showlakes\": true, \"showland\": true, \"subunitcolor\": \"white\"}, \"hoverlabel\": {\"align\": \"left\"}, \"hovermode\": \"closest\", \"mapbox\": {\"style\": \"light\"}, \"paper_bgcolor\": \"white\", \"plot_bgcolor\": \"#E5ECF6\", \"polar\": {\"angularaxis\": {\"gridcolor\": \"white\", \"linecolor\": \"white\", \"ticks\": \"\"}, \"bgcolor\": \"#E5ECF6\", \"radialaxis\": {\"gridcolor\": \"white\", \"linecolor\": \"white\", \"ticks\": \"\"}}, \"scene\": {\"xaxis\": {\"backgroundcolor\": \"#E5ECF6\", \"gridcolor\": \"white\", \"gridwidth\": 2, \"linecolor\": \"white\", \"showbackground\": true, \"ticks\": \"\", \"zerolinecolor\": \"white\"}, \"yaxis\": {\"backgroundcolor\": \"#E5ECF6\", \"gridcolor\": \"white\", \"gridwidth\": 2, \"linecolor\": \"white\", \"showbackground\": true, \"ticks\": \"\", \"zerolinecolor\": \"white\"}, \"zaxis\": {\"backgroundcolor\": \"#E5ECF6\", \"gridcolor\": \"white\", \"gridwidth\": 2, \"linecolor\": \"white\", \"showbackground\": true, \"ticks\": \"\", \"zerolinecolor\": \"white\"}}, \"shapedefaults\": {\"line\": {\"color\": \"#2a3f5f\"}}, \"ternary\": {\"aaxis\": {\"gridcolor\": \"white\", \"linecolor\": \"white\", \"ticks\": \"\"}, \"baxis\": {\"gridcolor\": \"white\", \"linecolor\": \"white\", \"ticks\": \"\"}, \"bgcolor\": \"#E5ECF6\", \"caxis\": {\"gridcolor\": \"white\", \"linecolor\": \"white\", \"ticks\": \"\"}}, \"title\": {\"x\": 0.05}, \"xaxis\": {\"automargin\": true, \"gridcolor\": \"white\", \"linecolor\": \"white\", \"ticks\": \"\", \"title\": {\"standoff\": 15}, \"zerolinecolor\": \"white\", \"zerolinewidth\": 2}, \"yaxis\": {\"automargin\": true, \"gridcolor\": \"white\", \"linecolor\": \"white\", \"ticks\": \"\", \"title\": {\"standoff\": 15}, \"zerolinecolor\": \"white\", \"zerolinewidth\": 2}}}, \"title\": {\"text\": \"Pressure and Density during NPT Equilibration\"}, \"xaxis\": {\"anchor\": \"y\", \"domain\": [0.0, 0.45], \"title\": {\"text\": \"Time (ps)\"}}, \"xaxis2\": {\"anchor\": \"y2\", \"domain\": [0.55, 1.0], \"title\": {\"text\": \"Time (ps)\"}}, \"yaxis\": {\"anchor\": \"x\", \"domain\": [0.0, 1.0], \"title\": {\"text\": \"Pressure (bar)\"}}, \"yaxis2\": {\"anchor\": \"x2\", \"domain\": [0.0, 1.0], \"title\": {\"text\": \"Density (Kg*m^-3)\"}}},\n",
       "                        {\"responsive\": true}\n",
       "                    ).then(function(){\n",
       "                            \n",
       "var gd = document.getElementById('437b0f5c-becd-46f4-962d-ef19fb3d907b');\n",
       "var x = new MutationObserver(function (mutations, observer) {{\n",
       "        var display = window.getComputedStyle(gd).display;\n",
       "        if (!display || display === 'none') {{\n",
       "            console.log([gd, 'removed!']);\n",
       "            Plotly.purge(gd);\n",
       "            observer.disconnect();\n",
       "        }}\n",
       "}});\n",
       "\n",
       "// Listen for the removal of the full notebook cells\n",
       "var notebookContainer = gd.closest('#notebook-container');\n",
       "if (notebookContainer) {{\n",
       "    x.observe(notebookContainer, {childList: true});\n",
       "}}\n",
       "\n",
       "// Listen for the clearing of the current output cell\n",
       "var outputEl = gd.closest('.output');\n",
       "if (outputEl) {{\n",
       "    x.observe(outputEl, {childList: true});\n",
       "}}\n",
       "\n",
       "                        })\n",
       "                };\n",
       "                });\n",
       "            </script>\n",
       "        </div>"
      ]
     },
     "metadata": {},
     "output_type": "display_data"
    }
   ],
   "source": [
    "import plotly\n",
    "from plotly import subplots\n",
    "import plotly.graph_objs as go\n",
    "\n",
    "# Read pressure and density data from file \n",
    "with open(output_eqA_pd_xvg,'r') as pd_file:\n",
    "    x,y,z = map(\n",
    "        list,\n",
    "        zip(*[\n",
    "            (float(line.split()[0]),float(line.split()[1]),float(line.split()[2]))\n",
    "            for line in pd_file \n",
    "            if not line.startswith((\"#\",\"@\")) \n",
    "        ])\n",
    "    )\n",
    "\n",
    "plotly.offline.init_notebook_mode(connected=True)\n",
    "\n",
    "trace1 = go.Scatter(\n",
    "    x=x,y=y\n",
    ")\n",
    "trace2 = go.Scatter(\n",
    "    x=x,y=z\n",
    ")\n",
    "\n",
    "fig = subplots.make_subplots(rows=1, cols=2, print_grid=False)\n",
    "\n",
    "fig.append_trace(trace1, 1, 1)\n",
    "fig.append_trace(trace2, 1, 2)\n",
    "\n",
    "fig['layout']['xaxis1'].update(title='Time (ps)')\n",
    "fig['layout']['xaxis2'].update(title='Time (ps)')\n",
    "fig['layout']['yaxis1'].update(title='Pressure (bar)')\n",
    "fig['layout']['yaxis2'].update(title='Density (Kg*m^-3)')\n",
    "\n",
    "fig['layout'].update(title='Pressure and Density during NPT Equilibration')\n",
    "fig['layout'].update(showlegend=False)\n",
    "\n",
    "plotly.offline.iplot(fig)"
   ]
  },
  {
   "cell_type": "code",
   "execution_count": 18,
   "metadata": {},
   "outputs": [
    {
     "data": {
      "text/html": [
       "        <script type=\"text/javascript\">\n",
       "        window.PlotlyConfig = {MathJaxConfig: 'local'};\n",
       "        if (window.MathJax) {MathJax.Hub.Config({SVG: {font: \"STIX-Web\"}});}\n",
       "        if (typeof require !== 'undefined') {\n",
       "        require.undef(\"plotly\");\n",
       "        requirejs.config({\n",
       "            paths: {\n",
       "                'plotly': ['https://cdn.plot.ly/plotly-latest.min']\n",
       "            }\n",
       "        });\n",
       "        require(['plotly'], function(Plotly) {\n",
       "            window._Plotly = Plotly;\n",
       "        });\n",
       "        }\n",
       "        </script>\n",
       "        "
      ]
     },
     "metadata": {},
     "output_type": "display_data"
    },
    {
     "data": {
      "application/vnd.plotly.v1+json": {
       "config": {
        "linkText": "Export to plot.ly",
        "plotlyServerURL": "https://plot.ly",
        "showLink": false
       },
       "data": [
        {
         "type": "scatter",
         "x": [
          0,
          5,
          10
         ],
         "xaxis": "x",
         "y": [
          -3410.375977,
          209.400085,
          -215.818665
         ],
         "yaxis": "y"
        },
        {
         "type": "scatter",
         "x": [
          0,
          5,
          10
         ],
         "xaxis": "x2",
         "y": [
          1020.437073,
          1025.582886,
          1024.447632
         ],
         "yaxis": "y2"
        }
       ],
       "layout": {
        "showlegend": false,
        "template": {
         "data": {
          "bar": [
           {
            "error_x": {
             "color": "#2a3f5f"
            },
            "error_y": {
             "color": "#2a3f5f"
            },
            "marker": {
             "line": {
              "color": "#E5ECF6",
              "width": 0.5
             }
            },
            "type": "bar"
           }
          ],
          "barpolar": [
           {
            "marker": {
             "line": {
              "color": "#E5ECF6",
              "width": 0.5
             }
            },
            "type": "barpolar"
           }
          ],
          "carpet": [
           {
            "aaxis": {
             "endlinecolor": "#2a3f5f",
             "gridcolor": "white",
             "linecolor": "white",
             "minorgridcolor": "white",
             "startlinecolor": "#2a3f5f"
            },
            "baxis": {
             "endlinecolor": "#2a3f5f",
             "gridcolor": "white",
             "linecolor": "white",
             "minorgridcolor": "white",
             "startlinecolor": "#2a3f5f"
            },
            "type": "carpet"
           }
          ],
          "choropleth": [
           {
            "colorbar": {
             "outlinewidth": 0,
             "ticks": ""
            },
            "type": "choropleth"
           }
          ],
          "contour": [
           {
            "colorbar": {
             "outlinewidth": 0,
             "ticks": ""
            },
            "colorscale": [
             [
              0,
              "#0d0887"
             ],
             [
              0.1111111111111111,
              "#46039f"
             ],
             [
              0.2222222222222222,
              "#7201a8"
             ],
             [
              0.3333333333333333,
              "#9c179e"
             ],
             [
              0.4444444444444444,
              "#bd3786"
             ],
             [
              0.5555555555555556,
              "#d8576b"
             ],
             [
              0.6666666666666666,
              "#ed7953"
             ],
             [
              0.7777777777777778,
              "#fb9f3a"
             ],
             [
              0.8888888888888888,
              "#fdca26"
             ],
             [
              1,
              "#f0f921"
             ]
            ],
            "type": "contour"
           }
          ],
          "contourcarpet": [
           {
            "colorbar": {
             "outlinewidth": 0,
             "ticks": ""
            },
            "type": "contourcarpet"
           }
          ],
          "heatmap": [
           {
            "colorbar": {
             "outlinewidth": 0,
             "ticks": ""
            },
            "colorscale": [
             [
              0,
              "#0d0887"
             ],
             [
              0.1111111111111111,
              "#46039f"
             ],
             [
              0.2222222222222222,
              "#7201a8"
             ],
             [
              0.3333333333333333,
              "#9c179e"
             ],
             [
              0.4444444444444444,
              "#bd3786"
             ],
             [
              0.5555555555555556,
              "#d8576b"
             ],
             [
              0.6666666666666666,
              "#ed7953"
             ],
             [
              0.7777777777777778,
              "#fb9f3a"
             ],
             [
              0.8888888888888888,
              "#fdca26"
             ],
             [
              1,
              "#f0f921"
             ]
            ],
            "type": "heatmap"
           }
          ],
          "heatmapgl": [
           {
            "colorbar": {
             "outlinewidth": 0,
             "ticks": ""
            },
            "colorscale": [
             [
              0,
              "#0d0887"
             ],
             [
              0.1111111111111111,
              "#46039f"
             ],
             [
              0.2222222222222222,
              "#7201a8"
             ],
             [
              0.3333333333333333,
              "#9c179e"
             ],
             [
              0.4444444444444444,
              "#bd3786"
             ],
             [
              0.5555555555555556,
              "#d8576b"
             ],
             [
              0.6666666666666666,
              "#ed7953"
             ],
             [
              0.7777777777777778,
              "#fb9f3a"
             ],
             [
              0.8888888888888888,
              "#fdca26"
             ],
             [
              1,
              "#f0f921"
             ]
            ],
            "type": "heatmapgl"
           }
          ],
          "histogram": [
           {
            "marker": {
             "colorbar": {
              "outlinewidth": 0,
              "ticks": ""
             }
            },
            "type": "histogram"
           }
          ],
          "histogram2d": [
           {
            "colorbar": {
             "outlinewidth": 0,
             "ticks": ""
            },
            "colorscale": [
             [
              0,
              "#0d0887"
             ],
             [
              0.1111111111111111,
              "#46039f"
             ],
             [
              0.2222222222222222,
              "#7201a8"
             ],
             [
              0.3333333333333333,
              "#9c179e"
             ],
             [
              0.4444444444444444,
              "#bd3786"
             ],
             [
              0.5555555555555556,
              "#d8576b"
             ],
             [
              0.6666666666666666,
              "#ed7953"
             ],
             [
              0.7777777777777778,
              "#fb9f3a"
             ],
             [
              0.8888888888888888,
              "#fdca26"
             ],
             [
              1,
              "#f0f921"
             ]
            ],
            "type": "histogram2d"
           }
          ],
          "histogram2dcontour": [
           {
            "colorbar": {
             "outlinewidth": 0,
             "ticks": ""
            },
            "colorscale": [
             [
              0,
              "#0d0887"
             ],
             [
              0.1111111111111111,
              "#46039f"
             ],
             [
              0.2222222222222222,
              "#7201a8"
             ],
             [
              0.3333333333333333,
              "#9c179e"
             ],
             [
              0.4444444444444444,
              "#bd3786"
             ],
             [
              0.5555555555555556,
              "#d8576b"
             ],
             [
              0.6666666666666666,
              "#ed7953"
             ],
             [
              0.7777777777777778,
              "#fb9f3a"
             ],
             [
              0.8888888888888888,
              "#fdca26"
             ],
             [
              1,
              "#f0f921"
             ]
            ],
            "type": "histogram2dcontour"
           }
          ],
          "mesh3d": [
           {
            "colorbar": {
             "outlinewidth": 0,
             "ticks": ""
            },
            "type": "mesh3d"
           }
          ],
          "parcoords": [
           {
            "line": {
             "colorbar": {
              "outlinewidth": 0,
              "ticks": ""
             }
            },
            "type": "parcoords"
           }
          ],
          "pie": [
           {
            "automargin": true,
            "type": "pie"
           }
          ],
          "scatter": [
           {
            "marker": {
             "colorbar": {
              "outlinewidth": 0,
              "ticks": ""
             }
            },
            "type": "scatter"
           }
          ],
          "scatter3d": [
           {
            "line": {
             "colorbar": {
              "outlinewidth": 0,
              "ticks": ""
             }
            },
            "marker": {
             "colorbar": {
              "outlinewidth": 0,
              "ticks": ""
             }
            },
            "type": "scatter3d"
           }
          ],
          "scattercarpet": [
           {
            "marker": {
             "colorbar": {
              "outlinewidth": 0,
              "ticks": ""
             }
            },
            "type": "scattercarpet"
           }
          ],
          "scattergeo": [
           {
            "marker": {
             "colorbar": {
              "outlinewidth": 0,
              "ticks": ""
             }
            },
            "type": "scattergeo"
           }
          ],
          "scattergl": [
           {
            "marker": {
             "colorbar": {
              "outlinewidth": 0,
              "ticks": ""
             }
            },
            "type": "scattergl"
           }
          ],
          "scattermapbox": [
           {
            "marker": {
             "colorbar": {
              "outlinewidth": 0,
              "ticks": ""
             }
            },
            "type": "scattermapbox"
           }
          ],
          "scatterpolar": [
           {
            "marker": {
             "colorbar": {
              "outlinewidth": 0,
              "ticks": ""
             }
            },
            "type": "scatterpolar"
           }
          ],
          "scatterpolargl": [
           {
            "marker": {
             "colorbar": {
              "outlinewidth": 0,
              "ticks": ""
             }
            },
            "type": "scatterpolargl"
           }
          ],
          "scatterternary": [
           {
            "marker": {
             "colorbar": {
              "outlinewidth": 0,
              "ticks": ""
             }
            },
            "type": "scatterternary"
           }
          ],
          "surface": [
           {
            "colorbar": {
             "outlinewidth": 0,
             "ticks": ""
            },
            "colorscale": [
             [
              0,
              "#0d0887"
             ],
             [
              0.1111111111111111,
              "#46039f"
             ],
             [
              0.2222222222222222,
              "#7201a8"
             ],
             [
              0.3333333333333333,
              "#9c179e"
             ],
             [
              0.4444444444444444,
              "#bd3786"
             ],
             [
              0.5555555555555556,
              "#d8576b"
             ],
             [
              0.6666666666666666,
              "#ed7953"
             ],
             [
              0.7777777777777778,
              "#fb9f3a"
             ],
             [
              0.8888888888888888,
              "#fdca26"
             ],
             [
              1,
              "#f0f921"
             ]
            ],
            "type": "surface"
           }
          ],
          "table": [
           {
            "cells": {
             "fill": {
              "color": "#EBF0F8"
             },
             "line": {
              "color": "white"
             }
            },
            "header": {
             "fill": {
              "color": "#C8D4E3"
             },
             "line": {
              "color": "white"
             }
            },
            "type": "table"
           }
          ]
         },
         "layout": {
          "annotationdefaults": {
           "arrowcolor": "#2a3f5f",
           "arrowhead": 0,
           "arrowwidth": 1
          },
          "coloraxis": {
           "colorbar": {
            "outlinewidth": 0,
            "ticks": ""
           }
          },
          "colorscale": {
           "diverging": [
            [
             0,
             "#8e0152"
            ],
            [
             0.1,
             "#c51b7d"
            ],
            [
             0.2,
             "#de77ae"
            ],
            [
             0.3,
             "#f1b6da"
            ],
            [
             0.4,
             "#fde0ef"
            ],
            [
             0.5,
             "#f7f7f7"
            ],
            [
             0.6,
             "#e6f5d0"
            ],
            [
             0.7,
             "#b8e186"
            ],
            [
             0.8,
             "#7fbc41"
            ],
            [
             0.9,
             "#4d9221"
            ],
            [
             1,
             "#276419"
            ]
           ],
           "sequential": [
            [
             0,
             "#0d0887"
            ],
            [
             0.1111111111111111,
             "#46039f"
            ],
            [
             0.2222222222222222,
             "#7201a8"
            ],
            [
             0.3333333333333333,
             "#9c179e"
            ],
            [
             0.4444444444444444,
             "#bd3786"
            ],
            [
             0.5555555555555556,
             "#d8576b"
            ],
            [
             0.6666666666666666,
             "#ed7953"
            ],
            [
             0.7777777777777778,
             "#fb9f3a"
            ],
            [
             0.8888888888888888,
             "#fdca26"
            ],
            [
             1,
             "#f0f921"
            ]
           ],
           "sequentialminus": [
            [
             0,
             "#0d0887"
            ],
            [
             0.1111111111111111,
             "#46039f"
            ],
            [
             0.2222222222222222,
             "#7201a8"
            ],
            [
             0.3333333333333333,
             "#9c179e"
            ],
            [
             0.4444444444444444,
             "#bd3786"
            ],
            [
             0.5555555555555556,
             "#d8576b"
            ],
            [
             0.6666666666666666,
             "#ed7953"
            ],
            [
             0.7777777777777778,
             "#fb9f3a"
            ],
            [
             0.8888888888888888,
             "#fdca26"
            ],
            [
             1,
             "#f0f921"
            ]
           ]
          },
          "colorway": [
           "#636efa",
           "#EF553B",
           "#00cc96",
           "#ab63fa",
           "#FFA15A",
           "#19d3f3",
           "#FF6692",
           "#B6E880",
           "#FF97FF",
           "#FECB52"
          ],
          "font": {
           "color": "#2a3f5f"
          },
          "geo": {
           "bgcolor": "white",
           "lakecolor": "white",
           "landcolor": "#E5ECF6",
           "showlakes": true,
           "showland": true,
           "subunitcolor": "white"
          },
          "hoverlabel": {
           "align": "left"
          },
          "hovermode": "closest",
          "mapbox": {
           "style": "light"
          },
          "paper_bgcolor": "white",
          "plot_bgcolor": "#E5ECF6",
          "polar": {
           "angularaxis": {
            "gridcolor": "white",
            "linecolor": "white",
            "ticks": ""
           },
           "bgcolor": "#E5ECF6",
           "radialaxis": {
            "gridcolor": "white",
            "linecolor": "white",
            "ticks": ""
           }
          },
          "scene": {
           "xaxis": {
            "backgroundcolor": "#E5ECF6",
            "gridcolor": "white",
            "gridwidth": 2,
            "linecolor": "white",
            "showbackground": true,
            "ticks": "",
            "zerolinecolor": "white"
           },
           "yaxis": {
            "backgroundcolor": "#E5ECF6",
            "gridcolor": "white",
            "gridwidth": 2,
            "linecolor": "white",
            "showbackground": true,
            "ticks": "",
            "zerolinecolor": "white"
           },
           "zaxis": {
            "backgroundcolor": "#E5ECF6",
            "gridcolor": "white",
            "gridwidth": 2,
            "linecolor": "white",
            "showbackground": true,
            "ticks": "",
            "zerolinecolor": "white"
           }
          },
          "shapedefaults": {
           "line": {
            "color": "#2a3f5f"
           }
          },
          "ternary": {
           "aaxis": {
            "gridcolor": "white",
            "linecolor": "white",
            "ticks": ""
           },
           "baxis": {
            "gridcolor": "white",
            "linecolor": "white",
            "ticks": ""
           },
           "bgcolor": "#E5ECF6",
           "caxis": {
            "gridcolor": "white",
            "linecolor": "white",
            "ticks": ""
           }
          },
          "title": {
           "x": 0.05
          },
          "xaxis": {
           "automargin": true,
           "gridcolor": "white",
           "linecolor": "white",
           "ticks": "",
           "title": {
            "standoff": 15
           },
           "zerolinecolor": "white",
           "zerolinewidth": 2
          },
          "yaxis": {
           "automargin": true,
           "gridcolor": "white",
           "linecolor": "white",
           "ticks": "",
           "title": {
            "standoff": 15
           },
           "zerolinecolor": "white",
           "zerolinewidth": 2
          }
         }
        },
        "title": {
         "text": "Pressure and Density during NPT Equilibration"
        },
        "xaxis": {
         "anchor": "y",
         "domain": [
          0,
          0.45
         ],
         "title": {
          "text": "Time (ps)"
         }
        },
        "xaxis2": {
         "anchor": "y2",
         "domain": [
          0.55,
          1
         ],
         "title": {
          "text": "Time (ps)"
         }
        },
        "yaxis": {
         "anchor": "x",
         "domain": [
          0,
          1
         ],
         "title": {
          "text": "Pressure (bar)"
         }
        },
        "yaxis2": {
         "anchor": "x2",
         "domain": [
          0,
          1
         ],
         "title": {
          "text": "Density (Kg*m^-3)"
         }
        }
       }
      },
      "text/html": [
       "<div>\n",
       "        \n",
       "        \n",
       "            <div id=\"0ca40e2e-70c4-4f0f-b69f-3f4adc4fce2f\" class=\"plotly-graph-div\" style=\"height:525px; width:100%;\"></div>\n",
       "            <script type=\"text/javascript\">\n",
       "                require([\"plotly\"], function(Plotly) {\n",
       "                    window.PLOTLYENV=window.PLOTLYENV || {};\n",
       "                    \n",
       "                if (document.getElementById(\"0ca40e2e-70c4-4f0f-b69f-3f4adc4fce2f\")) {\n",
       "                    Plotly.newPlot(\n",
       "                        '0ca40e2e-70c4-4f0f-b69f-3f4adc4fce2f',\n",
       "                        [{\"type\": \"scatter\", \"x\": [0.0, 5.0, 10.0], \"xaxis\": \"x\", \"y\": [-3410.375977, 209.400085, -215.818665], \"yaxis\": \"y\"}, {\"type\": \"scatter\", \"x\": [0.0, 5.0, 10.0], \"xaxis\": \"x2\", \"y\": [1020.437073, 1025.582886, 1024.447632], \"yaxis\": \"y2\"}],\n",
       "                        {\"showlegend\": false, \"template\": {\"data\": {\"bar\": [{\"error_x\": {\"color\": \"#2a3f5f\"}, \"error_y\": {\"color\": \"#2a3f5f\"}, \"marker\": {\"line\": {\"color\": \"#E5ECF6\", \"width\": 0.5}}, \"type\": \"bar\"}], \"barpolar\": [{\"marker\": {\"line\": {\"color\": \"#E5ECF6\", \"width\": 0.5}}, \"type\": \"barpolar\"}], \"carpet\": [{\"aaxis\": {\"endlinecolor\": \"#2a3f5f\", \"gridcolor\": \"white\", \"linecolor\": \"white\", \"minorgridcolor\": \"white\", \"startlinecolor\": \"#2a3f5f\"}, \"baxis\": {\"endlinecolor\": \"#2a3f5f\", \"gridcolor\": \"white\", \"linecolor\": \"white\", \"minorgridcolor\": \"white\", \"startlinecolor\": \"#2a3f5f\"}, \"type\": \"carpet\"}], \"choropleth\": [{\"colorbar\": {\"outlinewidth\": 0, \"ticks\": \"\"}, \"type\": \"choropleth\"}], \"contour\": [{\"colorbar\": {\"outlinewidth\": 0, \"ticks\": \"\"}, \"colorscale\": [[0.0, \"#0d0887\"], [0.1111111111111111, \"#46039f\"], [0.2222222222222222, \"#7201a8\"], [0.3333333333333333, \"#9c179e\"], [0.4444444444444444, \"#bd3786\"], [0.5555555555555556, \"#d8576b\"], [0.6666666666666666, \"#ed7953\"], [0.7777777777777778, \"#fb9f3a\"], [0.8888888888888888, \"#fdca26\"], [1.0, \"#f0f921\"]], \"type\": \"contour\"}], \"contourcarpet\": [{\"colorbar\": {\"outlinewidth\": 0, \"ticks\": \"\"}, \"type\": \"contourcarpet\"}], \"heatmap\": [{\"colorbar\": {\"outlinewidth\": 0, \"ticks\": \"\"}, \"colorscale\": [[0.0, \"#0d0887\"], [0.1111111111111111, \"#46039f\"], [0.2222222222222222, \"#7201a8\"], [0.3333333333333333, \"#9c179e\"], [0.4444444444444444, \"#bd3786\"], [0.5555555555555556, \"#d8576b\"], [0.6666666666666666, \"#ed7953\"], [0.7777777777777778, \"#fb9f3a\"], [0.8888888888888888, \"#fdca26\"], [1.0, \"#f0f921\"]], \"type\": \"heatmap\"}], \"heatmapgl\": [{\"colorbar\": {\"outlinewidth\": 0, \"ticks\": \"\"}, \"colorscale\": [[0.0, \"#0d0887\"], [0.1111111111111111, \"#46039f\"], [0.2222222222222222, \"#7201a8\"], [0.3333333333333333, \"#9c179e\"], [0.4444444444444444, \"#bd3786\"], [0.5555555555555556, \"#d8576b\"], [0.6666666666666666, \"#ed7953\"], [0.7777777777777778, \"#fb9f3a\"], [0.8888888888888888, \"#fdca26\"], [1.0, \"#f0f921\"]], \"type\": \"heatmapgl\"}], \"histogram\": [{\"marker\": {\"colorbar\": {\"outlinewidth\": 0, \"ticks\": \"\"}}, \"type\": \"histogram\"}], \"histogram2d\": [{\"colorbar\": {\"outlinewidth\": 0, \"ticks\": \"\"}, \"colorscale\": [[0.0, \"#0d0887\"], [0.1111111111111111, \"#46039f\"], [0.2222222222222222, \"#7201a8\"], [0.3333333333333333, \"#9c179e\"], [0.4444444444444444, \"#bd3786\"], [0.5555555555555556, \"#d8576b\"], [0.6666666666666666, \"#ed7953\"], [0.7777777777777778, \"#fb9f3a\"], [0.8888888888888888, \"#fdca26\"], [1.0, \"#f0f921\"]], \"type\": \"histogram2d\"}], \"histogram2dcontour\": [{\"colorbar\": {\"outlinewidth\": 0, \"ticks\": \"\"}, \"colorscale\": [[0.0, \"#0d0887\"], [0.1111111111111111, \"#46039f\"], [0.2222222222222222, \"#7201a8\"], [0.3333333333333333, \"#9c179e\"], [0.4444444444444444, \"#bd3786\"], [0.5555555555555556, \"#d8576b\"], [0.6666666666666666, \"#ed7953\"], [0.7777777777777778, \"#fb9f3a\"], [0.8888888888888888, \"#fdca26\"], [1.0, \"#f0f921\"]], \"type\": \"histogram2dcontour\"}], \"mesh3d\": [{\"colorbar\": {\"outlinewidth\": 0, \"ticks\": \"\"}, \"type\": \"mesh3d\"}], \"parcoords\": [{\"line\": {\"colorbar\": {\"outlinewidth\": 0, \"ticks\": \"\"}}, \"type\": \"parcoords\"}], \"pie\": [{\"automargin\": true, \"type\": \"pie\"}], \"scatter\": [{\"marker\": {\"colorbar\": {\"outlinewidth\": 0, \"ticks\": \"\"}}, \"type\": \"scatter\"}], \"scatter3d\": [{\"line\": {\"colorbar\": {\"outlinewidth\": 0, \"ticks\": \"\"}}, \"marker\": {\"colorbar\": {\"outlinewidth\": 0, \"ticks\": \"\"}}, \"type\": \"scatter3d\"}], \"scattercarpet\": [{\"marker\": {\"colorbar\": {\"outlinewidth\": 0, \"ticks\": \"\"}}, \"type\": \"scattercarpet\"}], \"scattergeo\": [{\"marker\": {\"colorbar\": {\"outlinewidth\": 0, \"ticks\": \"\"}}, \"type\": \"scattergeo\"}], \"scattergl\": [{\"marker\": {\"colorbar\": {\"outlinewidth\": 0, \"ticks\": \"\"}}, \"type\": \"scattergl\"}], \"scattermapbox\": [{\"marker\": {\"colorbar\": {\"outlinewidth\": 0, \"ticks\": \"\"}}, \"type\": \"scattermapbox\"}], \"scatterpolar\": [{\"marker\": {\"colorbar\": {\"outlinewidth\": 0, \"ticks\": \"\"}}, \"type\": \"scatterpolar\"}], \"scatterpolargl\": [{\"marker\": {\"colorbar\": {\"outlinewidth\": 0, \"ticks\": \"\"}}, \"type\": \"scatterpolargl\"}], \"scatterternary\": [{\"marker\": {\"colorbar\": {\"outlinewidth\": 0, \"ticks\": \"\"}}, \"type\": \"scatterternary\"}], \"surface\": [{\"colorbar\": {\"outlinewidth\": 0, \"ticks\": \"\"}, \"colorscale\": [[0.0, \"#0d0887\"], [0.1111111111111111, \"#46039f\"], [0.2222222222222222, \"#7201a8\"], [0.3333333333333333, \"#9c179e\"], [0.4444444444444444, \"#bd3786\"], [0.5555555555555556, \"#d8576b\"], [0.6666666666666666, \"#ed7953\"], [0.7777777777777778, \"#fb9f3a\"], [0.8888888888888888, \"#fdca26\"], [1.0, \"#f0f921\"]], \"type\": \"surface\"}], \"table\": [{\"cells\": {\"fill\": {\"color\": \"#EBF0F8\"}, \"line\": {\"color\": \"white\"}}, \"header\": {\"fill\": {\"color\": \"#C8D4E3\"}, \"line\": {\"color\": \"white\"}}, \"type\": \"table\"}]}, \"layout\": {\"annotationdefaults\": {\"arrowcolor\": \"#2a3f5f\", \"arrowhead\": 0, \"arrowwidth\": 1}, \"coloraxis\": {\"colorbar\": {\"outlinewidth\": 0, \"ticks\": \"\"}}, \"colorscale\": {\"diverging\": [[0, \"#8e0152\"], [0.1, \"#c51b7d\"], [0.2, \"#de77ae\"], [0.3, \"#f1b6da\"], [0.4, \"#fde0ef\"], [0.5, \"#f7f7f7\"], [0.6, \"#e6f5d0\"], [0.7, \"#b8e186\"], [0.8, \"#7fbc41\"], [0.9, \"#4d9221\"], [1, \"#276419\"]], \"sequential\": [[0.0, \"#0d0887\"], [0.1111111111111111, \"#46039f\"], [0.2222222222222222, \"#7201a8\"], [0.3333333333333333, \"#9c179e\"], [0.4444444444444444, \"#bd3786\"], [0.5555555555555556, \"#d8576b\"], [0.6666666666666666, \"#ed7953\"], [0.7777777777777778, \"#fb9f3a\"], [0.8888888888888888, \"#fdca26\"], [1.0, \"#f0f921\"]], \"sequentialminus\": [[0.0, \"#0d0887\"], [0.1111111111111111, \"#46039f\"], [0.2222222222222222, \"#7201a8\"], [0.3333333333333333, \"#9c179e\"], [0.4444444444444444, \"#bd3786\"], [0.5555555555555556, \"#d8576b\"], [0.6666666666666666, \"#ed7953\"], [0.7777777777777778, \"#fb9f3a\"], [0.8888888888888888, \"#fdca26\"], [1.0, \"#f0f921\"]]}, \"colorway\": [\"#636efa\", \"#EF553B\", \"#00cc96\", \"#ab63fa\", \"#FFA15A\", \"#19d3f3\", \"#FF6692\", \"#B6E880\", \"#FF97FF\", \"#FECB52\"], \"font\": {\"color\": \"#2a3f5f\"}, \"geo\": {\"bgcolor\": \"white\", \"lakecolor\": \"white\", \"landcolor\": \"#E5ECF6\", \"showlakes\": true, \"showland\": true, \"subunitcolor\": \"white\"}, \"hoverlabel\": {\"align\": \"left\"}, \"hovermode\": \"closest\", \"mapbox\": {\"style\": \"light\"}, \"paper_bgcolor\": \"white\", \"plot_bgcolor\": \"#E5ECF6\", \"polar\": {\"angularaxis\": {\"gridcolor\": \"white\", \"linecolor\": \"white\", \"ticks\": \"\"}, \"bgcolor\": \"#E5ECF6\", \"radialaxis\": {\"gridcolor\": \"white\", \"linecolor\": \"white\", \"ticks\": \"\"}}, \"scene\": {\"xaxis\": {\"backgroundcolor\": \"#E5ECF6\", \"gridcolor\": \"white\", \"gridwidth\": 2, \"linecolor\": \"white\", \"showbackground\": true, \"ticks\": \"\", \"zerolinecolor\": \"white\"}, \"yaxis\": {\"backgroundcolor\": \"#E5ECF6\", \"gridcolor\": \"white\", \"gridwidth\": 2, \"linecolor\": \"white\", \"showbackground\": true, \"ticks\": \"\", \"zerolinecolor\": \"white\"}, \"zaxis\": {\"backgroundcolor\": \"#E5ECF6\", \"gridcolor\": \"white\", \"gridwidth\": 2, \"linecolor\": \"white\", \"showbackground\": true, \"ticks\": \"\", \"zerolinecolor\": \"white\"}}, \"shapedefaults\": {\"line\": {\"color\": \"#2a3f5f\"}}, \"ternary\": {\"aaxis\": {\"gridcolor\": \"white\", \"linecolor\": \"white\", \"ticks\": \"\"}, \"baxis\": {\"gridcolor\": \"white\", \"linecolor\": \"white\", \"ticks\": \"\"}, \"bgcolor\": \"#E5ECF6\", \"caxis\": {\"gridcolor\": \"white\", \"linecolor\": \"white\", \"ticks\": \"\"}}, \"title\": {\"x\": 0.05}, \"xaxis\": {\"automargin\": true, \"gridcolor\": \"white\", \"linecolor\": \"white\", \"ticks\": \"\", \"title\": {\"standoff\": 15}, \"zerolinecolor\": \"white\", \"zerolinewidth\": 2}, \"yaxis\": {\"automargin\": true, \"gridcolor\": \"white\", \"linecolor\": \"white\", \"ticks\": \"\", \"title\": {\"standoff\": 15}, \"zerolinecolor\": \"white\", \"zerolinewidth\": 2}}}, \"title\": {\"text\": \"Pressure and Density during NPT Equilibration\"}, \"xaxis\": {\"anchor\": \"y\", \"domain\": [0.0, 0.45], \"title\": {\"text\": \"Time (ps)\"}}, \"xaxis2\": {\"anchor\": \"y2\", \"domain\": [0.55, 1.0], \"title\": {\"text\": \"Time (ps)\"}}, \"yaxis\": {\"anchor\": \"x\", \"domain\": [0.0, 1.0], \"title\": {\"text\": \"Pressure (bar)\"}}, \"yaxis2\": {\"anchor\": \"x2\", \"domain\": [0.0, 1.0], \"title\": {\"text\": \"Density (Kg*m^-3)\"}}},\n",
       "                        {\"responsive\": true}\n",
       "                    ).then(function(){\n",
       "                            \n",
       "var gd = document.getElementById('0ca40e2e-70c4-4f0f-b69f-3f4adc4fce2f');\n",
       "var x = new MutationObserver(function (mutations, observer) {{\n",
       "        var display = window.getComputedStyle(gd).display;\n",
       "        if (!display || display === 'none') {{\n",
       "            console.log([gd, 'removed!']);\n",
       "            Plotly.purge(gd);\n",
       "            observer.disconnect();\n",
       "        }}\n",
       "}});\n",
       "\n",
       "// Listen for the removal of the full notebook cells\n",
       "var notebookContainer = gd.closest('#notebook-container');\n",
       "if (notebookContainer) {{\n",
       "    x.observe(notebookContainer, {childList: true});\n",
       "}}\n",
       "\n",
       "// Listen for the clearing of the current output cell\n",
       "var outputEl = gd.closest('.output');\n",
       "if (outputEl) {{\n",
       "    x.observe(outputEl, {childList: true});\n",
       "}}\n",
       "\n",
       "                        })\n",
       "                };\n",
       "                });\n",
       "            </script>\n",
       "        </div>"
      ]
     },
     "metadata": {},
     "output_type": "display_data"
    }
   ],
   "source": [
    "import plotly\n",
    "from plotly import subplots\n",
    "import plotly.graph_objs as go\n",
    "\n",
    "# Read pressure and density data from file \n",
    "with open(output_eqB_pd_xvg,'r') as pd_file:\n",
    "    x,y,z = map(\n",
    "        list,\n",
    "        zip(*[\n",
    "            (float(line.split()[0]),float(line.split()[1]),float(line.split()[2]))\n",
    "            for line in pd_file \n",
    "            if not line.startswith((\"#\",\"@\")) \n",
    "        ])\n",
    "    )\n",
    "\n",
    "plotly.offline.init_notebook_mode(connected=True)\n",
    "\n",
    "trace1 = go.Scatter(\n",
    "    x=x,y=y\n",
    ")\n",
    "trace2 = go.Scatter(\n",
    "    x=x,y=z\n",
    ")\n",
    "\n",
    "fig = subplots.make_subplots(rows=1, cols=2, print_grid=False)\n",
    "\n",
    "fig.append_trace(trace1, 1, 1)\n",
    "fig.append_trace(trace2, 1, 2)\n",
    "\n",
    "fig['layout']['xaxis1'].update(title='Time (ps)')\n",
    "fig['layout']['xaxis2'].update(title='Time (ps)')\n",
    "fig['layout']['yaxis1'].update(title='Pressure (bar)')\n",
    "fig['layout']['yaxis2'].update(title='Density (Kg*m^-3)')\n",
    "\n",
    "fig['layout'].update(title='Pressure and Density during NPT Equilibration')\n",
    "fig['layout'].update(showlegend=False)\n",
    "\n",
    "plotly.offline.iplot(fig)"
   ]
  },
  {
   "cell_type": "markdown",
   "metadata": {},
   "source": [
    "<a id=\"free\"></a>\n",
    "***\n",
    "## Free Energy Simulation\n",
    "**Alchemical transition (thermodynamic integration)** free energy estimation approach is used with **GROMACS**: **free energy** is switched on, the **initial lambda** is chosen as zero, and **delta-lambda** (per MD step) is set such that at the end of the simulation **lambda** is at 1 (1 / nsteps). The **dhdl files** (dH/dl) written as a result will contain the **work values** required to perform these **transitions**.\n",
    "\n",
    "- [Step 1](#mdStep1): Creating portable binary run file to run the **free energy simulation**.\n",
    "- [Step 2](#mdStep2): Run short MD simulation of the **protein system**.\n",
    "***\n",
    "**Building Blocks** used:\n",
    " - [Grompp](https://biobb-md.readthedocs.io/en/latest/gromacs.html#module-gromacs.grompp) from **biobb_md.gromacs.grompp** \n",
    " - [Mdrun](https://biobb-md.readthedocs.io/en/latest/gromacs.html#module-gromacs.mdrun) from **biobb_md.gromacs.mdrun** \n",
    "***"
   ]
  },
  {
   "cell_type": "markdown",
   "metadata": {},
   "source": [
    "<a id=\"mdStep1\"></a>\n",
    "### Step 1: Creating portable binary run file to run a free energy simulation\n",
    "\n",
    "The **free_energy** type of the **molecular dynamics parameters (mdp) property** contains the main default parameters to run an **free energy simulation** (see [GROMACS mdp options](http://manual.gromacs.org/documentation/2018/user-guide/mdp-options.html)):\n",
    "\n",
    "-  integrator               = md\n",
    "-  dt                       = 0.002 (ps)\n",
    "-  nsteps                   = 5000\n",
    "-  free_energy              = yes\n",
    "-  init_lambda              = 0\n",
    "-  delta_lambda             = 0.0002\n",
    "-  sc-alpha                 = 0\n",
    "-  sc-sigma                 = 0.3\n",
    "\n",
    "In this particular example, the default parameters will be used: **md** integrator algorithm, a **time step** of **2fs**, a total of **5,000 md steps** (10ps), all with the **free energy** flag turned on, with an **intial lambda** of 0 and a **delta lambda** of 0.00002.\n",
    "\n",
    "*Please note that for the sake of time this tutorial is only running 10ps of NPT equilibration, whereas in the [original example](http://pmx.mpibpc.mpg.de/sardinia2018_tutorial1/eq.mdp) the simulated time was 100ps.*"
   ]
  },
  {
   "cell_type": "code",
   "execution_count": 19,
   "metadata": {},
   "outputs": [
    {
     "name": "stderr",
     "output_type": "stream",
     "text": [
      "2020-06-10 13:57:22,097 [MainThread  ] [INFO ]  GROMACS Grompp 20190 version detected\n",
      "2020-06-10 13:57:22,104 [MainThread  ] [INFO ]  Extracting: /home/gbayarri_local/projects/BioBB/tutorials/biobb_wf_pmx_tutorial/biobb_wf_pmx_tutorial/notebooks/pmxA_top.zip\n",
      "2020-06-10 13:57:22,105 [MainThread  ] [INFO ]  to:\n",
      "2020-06-10 13:57:22,107 [MainThread  ] [INFO ]  ['ce72c7f6-54da-4f78-874a-e925305d7a8a/p2g.top', 'ce72c7f6-54da-4f78-874a-e925305d7a8a/p2g_Ion_chain_C.itp', 'ce72c7f6-54da-4f78-874a-e925305d7a8a/p2g_Protein_chain_A.itp', 'ce72c7f6-54da-4f78-874a-e925305d7a8a/posre_Ion_chain_C.itp']\n",
      "2020-06-10 13:57:22,108 [MainThread  ] [INFO ]  Unzipping: \n",
      "2020-06-10 13:57:22,108 [MainThread  ] [INFO ]  pmxA_top.zip\n",
      "2020-06-10 13:57:22,109 [MainThread  ] [INFO ]  To: \n",
      "2020-06-10 13:57:22,109 [MainThread  ] [INFO ]  ce72c7f6-54da-4f78-874a-e925305d7a8a/p2g.top\n",
      "2020-06-10 13:57:22,110 [MainThread  ] [INFO ]  ce72c7f6-54da-4f78-874a-e925305d7a8a/p2g_Ion_chain_C.itp\n",
      "2020-06-10 13:57:22,110 [MainThread  ] [INFO ]  ce72c7f6-54da-4f78-874a-e925305d7a8a/p2g_Protein_chain_A.itp\n",
      "2020-06-10 13:57:22,111 [MainThread  ] [INFO ]  ce72c7f6-54da-4f78-874a-e925305d7a8a/posre_Ion_chain_C.itp\n",
      "2020-06-10 13:57:22,113 [MainThread  ] [INFO ]  Will run a free md of 10.0 pico seconds\n",
      "2020-06-10 13:57:22,115 [MainThread  ] [INFO ]  Not using any container\n",
      "2020-06-10 13:57:22,418 [MainThread  ] [INFO ]  gmx -nobackup -nocopyright grompp -f f8d59377-b85a-4b96-aa7b-1a01ff11a4f6/grompp.mdp -c eqoutA.gro -r eqoutA.gro -p ce72c7f6-54da-4f78-874a-e925305d7a8a/p2g.top -o tiA.tpr -po mdout.mdp -maxwarn 10\n",
      "\n",
      "2020-06-10 13:57:22,419 [MainThread  ] [INFO ]  Exit code 0\n",
      "\n",
      "2020-06-10 13:57:22,419 [MainThread  ] [INFO ]  turning H bonds into constraints...\n",
      "turning H bonds into constraints...\n",
      "turning H bonds into constraints...\n",
      "Analysing residue names:\n",
      "There are:   136    Protein residues\n",
      "There are:    74        Ion residues\n",
      "There are: 10948      Water residues\n",
      "Analysing Protein...\n",
      "Analysing residues not classified as Protein/DNA/RNA/Water and splitting into groups...\n",
      "Determining Verlet buffer for a tolerance of 0.005 kJ/mol/ps at 300 K\n",
      "Calculated rlist for 1x1 atom pair-list as 1.035 nm, buffer size 0.035 nm\n",
      "Set rlist, assuming 4x4 atom pair-list, to 1.000 nm, buffer size 0.000 nm\n",
      "Note that mdrun will redetermine rlist based on the actual pair-list setup\n",
      "Calculating fourier grid dimensions for X Y Z\n",
      "Using a fourier grid of 72x72x72, spacing 0.110 0.110 0.110\n",
      "This run will generate roughly 5 Mb of data\n",
      "\n",
      "2020-06-10 13:57:22,420 [MainThread  ] [INFO ]                         :-) GROMACS - gmx grompp, 2019 (-:\n",
      "\n",
      "Executable:   /usr/local/gromacs/bin/gmx\n",
      "Data prefix:  /usr/local/gromacs\n",
      "Working dir:  /home/gbayarri_local/projects/BioBB/tutorials/biobb_wf_pmx_tutorial/biobb_wf_pmx_tutorial/notebooks\n",
      "Command line:\n",
      "  gmx -nobackup -nocopyright grompp -f f8d59377-b85a-4b96-aa7b-1a01ff11a4f6/grompp.mdp -c eqoutA.gro -r eqoutA.gro -p ce72c7f6-54da-4f78-874a-e925305d7a8a/p2g.top -o tiA.tpr -po mdout.mdp -maxwarn 10\n",
      "\n",
      "\n",
      "WARNING 1 [file f8d59377-b85a-4b96-aa7b-1a01ff11a4f6/grompp.mdp, line 73]:\n",
      "  You are using soft-core interactions while the Van der Waals interactions\n",
      "  are not decoupled (note that the sc-coul option is only active when using\n",
      "  lambda states). Although this will not lead to errors, you will need much\n",
      "  more sampling than without soft-core interactions. Consider using\n",
      "  sc-alpha=0.\n",
      "\n",
      "\n",
      "NOTE 1 [file f8d59377-b85a-4b96-aa7b-1a01ff11a4f6/grompp.mdp]:\n",
      "  Setting nstcalcenergy (100) equal to nstdhdl (50)\n",
      "\n",
      "\n",
      "NOTE 2 [file f8d59377-b85a-4b96-aa7b-1a01ff11a4f6/grompp.mdp]:\n",
      "  With PME there is a minor soft core effect present at the cut-off,\n",
      "  proportional to (LJsigma/rcoulomb)^6. This could have a minor effect on\n",
      "  energy conservation, but usually other effects dominate. With a common\n",
      "  sigma value of 0.34 nm the fraction of the particle-particle potential at\n",
      "  the cut-off at lambda=0.5 is around 3.9e-05, while ewald-rtol is 1.0e-05.\n",
      "\n",
      "Setting the LD random seed to 1593395424\n",
      "Generated 5253 of the 5253 non-bonded parameter combinations\n",
      "Generating 1-4 interactions: fudge = 0.5\n",
      "Generated 5253 of the 5253 1-4 parameter combinations\n",
      "Excluding 3 bonded neighbours molecule type 'Protein_chain_A'\n",
      "Excluding 3 bonded neighbours molecule type 'Ion_chain_C'\n",
      "Excluding 2 bonded neighbours molecule type 'SOL'\n",
      "Excluding 2 bonded neighbours molecule type 'SOL'\n",
      "Removing all charge groups because cutoff-scheme=Verlet\n",
      "\n",
      "NOTE 3 [file p2g.top, line 16]:\n",
      "  In moleculetype 'Ion_chain_C' 74 atoms are not bound by a potential or\n",
      "  constraint to any other atom in the same moleculetype. Although\n",
      "  technically this might not cause issues in a simulation, this often means\n",
      "  that the user forgot to add a bond/potential/constraint or put multiple\n",
      "  molecules in the same moleculetype definition by mistake. Run with -v to\n",
      "  get information for each atom.\n",
      "\n",
      "Number of degrees of freedom in T-Coupling group Protein is 5543.77\n",
      "Number of degrees of freedom in T-Coupling group non-Protein is 65907.23\n",
      "Estimate for the relative computational load of the PME mesh part: 0.44\n",
      "\n",
      "There were 3 notes\n",
      "\n",
      "There was 1 warning\n",
      "\n",
      "GROMACS reminds you: \"Gabba Gabba Hey!\" (The Ramones)\n",
      "\n",
      "\n",
      "2020-06-10 13:57:22,421 [MainThread  ] [INFO ]  Removed: ['mdout.mdp', 'ce72c7f6-54da-4f78-874a-e925305d7a8a', 'f8d59377-b85a-4b96-aa7b-1a01ff11a4f6']\n",
      "2020-06-10 13:57:22,445 [MainThread  ] [INFO ]  GROMACS Grompp 20190 version detected\n",
      "2020-06-10 13:57:22,456 [MainThread  ] [INFO ]  Extracting: /home/gbayarri_local/projects/BioBB/tutorials/biobb_wf_pmx_tutorial/biobb_wf_pmx_tutorial/notebooks/pmxB_top.zip\n",
      "2020-06-10 13:57:22,457 [MainThread  ] [INFO ]  to:\n",
      "2020-06-10 13:57:22,458 [MainThread  ] [INFO ]  ['582b8235-9f7e-4903-8e0d-fa0380be50cb/p2g.top', '582b8235-9f7e-4903-8e0d-fa0380be50cb/p2g_Ion_chain_C.itp', '582b8235-9f7e-4903-8e0d-fa0380be50cb/p2g_Protein_chain_A.itp', '582b8235-9f7e-4903-8e0d-fa0380be50cb/posre_Ion_chain_C.itp']\n",
      "2020-06-10 13:57:22,460 [MainThread  ] [INFO ]  Unzipping: \n",
      "2020-06-10 13:57:22,461 [MainThread  ] [INFO ]  pmxB_top.zip\n",
      "2020-06-10 13:57:22,464 [MainThread  ] [INFO ]  To: \n",
      "2020-06-10 13:57:22,466 [MainThread  ] [INFO ]  582b8235-9f7e-4903-8e0d-fa0380be50cb/p2g.top\n",
      "2020-06-10 13:57:22,468 [MainThread  ] [INFO ]  582b8235-9f7e-4903-8e0d-fa0380be50cb/p2g_Ion_chain_C.itp\n",
      "2020-06-10 13:57:22,468 [MainThread  ] [INFO ]  582b8235-9f7e-4903-8e0d-fa0380be50cb/p2g_Protein_chain_A.itp\n",
      "2020-06-10 13:57:22,469 [MainThread  ] [INFO ]  582b8235-9f7e-4903-8e0d-fa0380be50cb/posre_Ion_chain_C.itp\n",
      "2020-06-10 13:57:22,470 [MainThread  ] [INFO ]  Will run a free md of 10.0 pico seconds\n",
      "2020-06-10 13:57:22,472 [MainThread  ] [INFO ]  Not using any container\n",
      "2020-06-10 13:57:22,796 [MainThread  ] [INFO ]  gmx -nobackup -nocopyright grompp -f 6fc160ea-70d4-4cf9-a76b-e50b69b553f9/grompp.mdp -c eqoutB.gro -r eqoutB.gro -p 582b8235-9f7e-4903-8e0d-fa0380be50cb/p2g.top -o tiB.tpr -po mdout.mdp -maxwarn 10\n",
      "\n",
      "2020-06-10 13:57:22,797 [MainThread  ] [INFO ]  Exit code 0\n",
      "\n",
      "2020-06-10 13:57:22,798 [MainThread  ] [INFO ]  turning H bonds into constraints...\n",
      "turning H bonds into constraints...\n",
      "turning H bonds into constraints...\n",
      "Analysing residue names:\n",
      "There are:   136    Protein residues\n",
      "There are:    74        Ion residues\n",
      "There are: 10949      Water residues\n",
      "Analysing Protein...\n",
      "Analysing residues not classified as Protein/DNA/RNA/Water and splitting into groups...\n",
      "Determining Verlet buffer for a tolerance of 0.005 kJ/mol/ps at 300 K\n",
      "Calculated rlist for 1x1 atom pair-list as 1.035 nm, buffer size 0.035 nm\n",
      "Set rlist, assuming 4x4 atom pair-list, to 1.000 nm, buffer size 0.000 nm\n",
      "Note that mdrun will redetermine rlist based on the actual pair-list setup\n",
      "Calculating fourier grid dimensions for X Y Z\n",
      "Using a fourier grid of 72x72x72, spacing 0.110 0.110 0.110\n",
      "This run will generate roughly 5 Mb of data\n",
      "\n",
      "2020-06-10 13:57:22,798 [MainThread  ] [INFO ]                         :-) GROMACS - gmx grompp, 2019 (-:\n",
      "\n",
      "Executable:   /usr/local/gromacs/bin/gmx\n",
      "Data prefix:  /usr/local/gromacs\n",
      "Working dir:  /home/gbayarri_local/projects/BioBB/tutorials/biobb_wf_pmx_tutorial/biobb_wf_pmx_tutorial/notebooks\n",
      "Command line:\n",
      "  gmx -nobackup -nocopyright grompp -f 6fc160ea-70d4-4cf9-a76b-e50b69b553f9/grompp.mdp -c eqoutB.gro -r eqoutB.gro -p 582b8235-9f7e-4903-8e0d-fa0380be50cb/p2g.top -o tiB.tpr -po mdout.mdp -maxwarn 10\n",
      "\n",
      "\n",
      "WARNING 1 [file 6fc160ea-70d4-4cf9-a76b-e50b69b553f9/grompp.mdp, line 73]:\n",
      "  You are using soft-core interactions while the Van der Waals interactions\n",
      "  are not decoupled (note that the sc-coul option is only active when using\n",
      "  lambda states). Although this will not lead to errors, you will need much\n",
      "  more sampling than without soft-core interactions. Consider using\n",
      "  sc-alpha=0.\n",
      "\n",
      "\n",
      "NOTE 1 [file 6fc160ea-70d4-4cf9-a76b-e50b69b553f9/grompp.mdp]:\n",
      "  Setting nstcalcenergy (100) equal to nstdhdl (50)\n",
      "\n",
      "\n",
      "NOTE 2 [file 6fc160ea-70d4-4cf9-a76b-e50b69b553f9/grompp.mdp]:\n",
      "  With PME there is a minor soft core effect present at the cut-off,\n",
      "  proportional to (LJsigma/rcoulomb)^6. This could have a minor effect on\n",
      "  energy conservation, but usually other effects dominate. With a common\n",
      "  sigma value of 0.34 nm the fraction of the particle-particle potential at\n",
      "  the cut-off at lambda=0.5 is around 3.9e-05, while ewald-rtol is 1.0e-05.\n",
      "\n",
      "Setting the LD random seed to 660418025\n",
      "Generated 5253 of the 5253 non-bonded parameter combinations\n",
      "Generating 1-4 interactions: fudge = 0.5\n",
      "Generated 5253 of the 5253 1-4 parameter combinations\n",
      "Excluding 3 bonded neighbours molecule type 'Protein_chain_A'\n",
      "Excluding 3 bonded neighbours molecule type 'Ion_chain_C'\n",
      "Excluding 2 bonded neighbours molecule type 'SOL'\n",
      "Excluding 2 bonded neighbours molecule type 'SOL'\n",
      "Removing all charge groups because cutoff-scheme=Verlet\n",
      "\n",
      "NOTE 3 [file p2g.top, line 16]:\n",
      "  In moleculetype 'Ion_chain_C' 74 atoms are not bound by a potential or\n",
      "  constraint to any other atom in the same moleculetype. Although\n",
      "  technically this might not cause issues in a simulation, this often means\n",
      "  that the user forgot to add a bond/potential/constraint or put multiple\n",
      "  molecules in the same moleculetype definition by mistake. Run with -v to\n",
      "  get information for each atom.\n",
      "\n",
      "\n",
      "WARNING 2 [file p2g.top, line 16]:\n",
      "  The bond in molecule-type Protein_chain_A between atoms 170 DCD1 and 171\n",
      "  DHD1 has an estimated oscillational period of 8.3e-03 ps, which is less\n",
      "  than 5 times the time step of 2.0e-03 ps.\n",
      "  Maybe you forgot to change the constraints mdp option.\n",
      "\n",
      "Number of degrees of freedom in T-Coupling group Protein is 5543.77\n",
      "Number of degrees of freedom in T-Coupling group non-Protein is 65913.23\n",
      "Estimate for the relative computational load of the PME mesh part: 0.44\n",
      "\n",
      "There were 3 notes\n",
      "\n",
      "There were 2 warnings\n",
      "\n",
      "GROMACS reminds you: \"Everybody is Smashing Things Down\" (Offspring)\n",
      "\n",
      "\n"
     ]
    },
    {
     "name": "stderr",
     "output_type": "stream",
     "text": [
      "2020-06-10 13:57:22,800 [MainThread  ] [INFO ]  Removed: ['mdout.mdp', '582b8235-9f7e-4903-8e0d-fa0380be50cb', '6fc160ea-70d4-4cf9-a76b-e50b69b553f9']\n"
     ]
    },
    {
     "data": {
      "text/plain": [
       "0"
      ]
     },
     "execution_count": 19,
     "metadata": {},
     "output_type": "execute_result"
    }
   ],
   "source": [
    "# Grompp: Creating portable binary run file for thermodynamic integration (TI)\n",
    "from biobb_md.gromacs.grompp import Grompp\n",
    "\n",
    "#### State A (WT->Mut) ####\n",
    "\n",
    "# Create prop dict and inputs/outputs\n",
    "output_tprA_ti = 'tiA.tpr'\n",
    "\n",
    "prop = {\n",
    "    'gmxlib' : gmxlib,\n",
    "    'mdp':{\n",
    "        'type': 'free',\n",
    "        'nsteps':'5000',\n",
    "        'free_energy' : 'yes',\n",
    "        'init-lambda' : '0',\n",
    "        'delta-lambda' : '2e-4',\n",
    "        'sc-alpha' : '0.3',\n",
    "        'sc-coul' : 'yes',\n",
    "        'sc-sigma' : '0.25'\n",
    "    }\n",
    "}\n",
    "\n",
    "# Create and launch bb\n",
    "Grompp(input_gro_path=output_eqA_gro,\n",
    "       input_top_zip_path=output_pmxtopA_top_zip,\n",
    "       output_tpr_path=output_tprA_ti,\n",
    "       properties=prop).launch()\n",
    "\n",
    "#### State B (Mut->WT) ####\n",
    "\n",
    "# Create prop dict and inputs/outputs\n",
    "output_tprB_ti = 'tiB.tpr'\n",
    "\n",
    "prop = {\n",
    "    'gmxlib' : gmxlib,\n",
    "    'mdp':{\n",
    "        'type': 'free',\n",
    "        'nsteps':'5000',\n",
    "        'free_energy' : 'yes',\n",
    "        'init-lambda' : '0',\n",
    "        'delta-lambda' : '4e-5',\n",
    "        'sc-alpha' : '0.3',\n",
    "        'sc-coul' : 'yes',\n",
    "        'sc-sigma' : '0.25'\n",
    "    }\n",
    "}\n",
    "\n",
    "# Create and launch bb\n",
    "Grompp(input_gro_path=output_eqB_gro,\n",
    "       input_top_zip_path=output_pmxtopB_top_zip,\n",
    "       output_tpr_path=output_tprB_ti,\n",
    "       properties=prop).launch()\n"
   ]
  },
  {
   "cell_type": "markdown",
   "metadata": {},
   "source": [
    "<a id=\"mdStep2\"></a>\n",
    "### Step 2: Running free energy simulation"
   ]
  },
  {
   "cell_type": "code",
   "execution_count": 20,
   "metadata": {},
   "outputs": [
    {
     "name": "stderr",
     "output_type": "stream",
     "text": [
      "2020-06-10 13:57:28,235 [MainThread  ] [INFO ]  GROMACS Mdrun 20190 version detected\n",
      "2020-06-10 13:57:28,237 [MainThread  ] [INFO ]  Not using any container\n",
      "2020-06-10 13:59:11,178 [MainThread  ] [INFO ]  gmx -nobackup -nocopyright mdrun -s tiA.tpr -o tiA.trr -c tiA.gro -e tiA.edr -g tiA.log -nt 0 -dhdl tiA.dhdl\n",
      "\n",
      "2020-06-10 13:59:11,179 [MainThread  ] [INFO ]  Exit code 0\n",
      "\n",
      "2020-06-10 13:59:11,179 [MainThread  ] [INFO ]                         :-) GROMACS - gmx mdrun, 2019 (-:\n",
      "\n",
      "Executable:   /usr/local/gromacs/bin/gmx\n",
      "Data prefix:  /usr/local/gromacs\n",
      "Working dir:  /home/gbayarri_local/projects/BioBB/tutorials/biobb_wf_pmx_tutorial/biobb_wf_pmx_tutorial/notebooks\n",
      "Command line:\n",
      "  gmx -nobackup -nocopyright mdrun -s tiA.tpr -o tiA.trr -c tiA.gro -e tiA.edr -g tiA.log -nt 0 -dhdl tiA.dhdl\n",
      "\n",
      "Reading file tiA.tpr, VERSION 2019 (single precision)\n",
      "Changing nstlist from 10 to 50, rlist from 1 to 1.115\n",
      "\n",
      "Using 1 MPI thread\n",
      "Using 8 OpenMP threads \n",
      "\n",
      "starting mdrun 'PMX MODEL'\n",
      "5000 steps,     10.0 ps.\n",
      "\n",
      "Writing final coordinates.\n",
      "\n",
      "               Core t (s)   Wall t (s)        (%)\n",
      "       Time:      805.891      100.737      800.0\n",
      "                 (ns/day)    (hour/ns)\n",
      "Performance:        8.579        2.798\n",
      "\n",
      "GROMACS reminds you: \"I used to be blond and stupid, but now I dyed it black\" (Miss Li)\n",
      "\n",
      "\n",
      "2020-06-10 13:59:11,180 [MainThread  ] [INFO ]  Removed: []\n",
      "2020-06-10 13:59:11,197 [MainThread  ] [INFO ]  GROMACS Mdrun 20190 version detected\n",
      "2020-06-10 13:59:11,198 [MainThread  ] [INFO ]  Not using any container\n",
      "2020-06-10 13:59:16,983 [MainThread  ] [INFO ]  gmx -nobackup -nocopyright mdrun -s tiB.tpr -o tiB.trr -c tiB.gro -e tiB.edr -g tiB.log -nt 0 -dhdl tiB.dhdl\n",
      "\n",
      "2020-06-10 13:59:16,984 [MainThread  ] [INFO ]  Exit code -11\n",
      "\n",
      "2020-06-10 13:59:16,985 [MainThread  ] [INFO ]                         :-) GROMACS - gmx mdrun, 2019 (-:\n",
      "\n",
      "Executable:   /usr/local/gromacs/bin/gmx\n",
      "Data prefix:  /usr/local/gromacs\n",
      "Working dir:  /home/gbayarri_local/projects/BioBB/tutorials/biobb_wf_pmx_tutorial/biobb_wf_pmx_tutorial/notebooks\n",
      "Command line:\n",
      "  gmx -nobackup -nocopyright mdrun -s tiB.tpr -o tiB.trr -c tiB.gro -e tiB.edr -g tiB.log -nt 0 -dhdl tiB.dhdl\n",
      "\n",
      "Reading file tiB.tpr, VERSION 2019 (single precision)\n",
      "Changing nstlist from 10 to 50, rlist from 1 to 1.115\n",
      "\n",
      "Using 1 MPI thread\n",
      "Using 8 OpenMP threads \n",
      "\n",
      "starting mdrun 'PMX MODEL'\n",
      "5000 steps,     10.0 ps.\n",
      "\n",
      "Step 121, time 0.242 (ps)  LINCS WARNING\n",
      "relative constraint deviation after LINCS:\n",
      "rms 0.000583, max 0.011933 (between atoms 160 and 165)\n",
      "bonds that rotated more than 30 degrees:\n",
      " atom 1 atom 2  angle  previous, current, constraint length\n",
      "    160    170   33.6    0.1525   0.1539      0.1526\n",
      "\n",
      "Step 122, time 0.244 (ps)  LINCS WARNING\n",
      "relative constraint deviation after LINCS:\n",
      "rms 0.000376, max 0.010499 (between atoms 159 and 160)\n",
      "bonds that rotated more than 30 degrees:\n",
      " atom 1 atom 2  angle  previous, current, constraint length\n",
      "\n",
      "Step 135, time 0.27 (ps)  LINCS WARNING\n",
      "relative constraint deviation after LINCS:\n",
      "rms 0.001306, max 0.030111 (between atoms 160 and 165)\n",
      "bonds that rotated more than 30 degrees:\n",
      " atom 1 atom 2  angle  previous, current, constraint length\n",
      "    160    170   52.8    0.1527   0.1490      0.1526\n",
      "\n",
      "Step 137, time 0.274 (ps)  LINCS WARNING\n",
      "relative constraint deviation after LINCS:\n",
      "rms 0.002595, max 0.054527 (between atoms 159 and 160)\n",
      "bonds that rotated more than 30 degrees:\n",
      " atom 1 atom 2  angle  previous, current, constraint length\n",
      "    160    170   58.3    0.1529   0.1479      0.1526\n",
      "\n",
      "Step 138, time 0.276 (ps)  LINCS WARNING\n",
      "relative constraint deviation after LINCS:\n",
      "rms 0.005673, max 0.137869 (between atoms 160 and 165)\n",
      "bonds that rotated more than 30 degrees:\n",
      " atom 1 atom 2  angle  previous, current, constraint length\n",
      "    160    170   89.8    0.1479   0.1664      0.1526\n",
      "\n",
      "Step 139, time 0.278 (ps)  LINCS WARNING\n",
      "relative constraint deviation after LINCS:\n",
      "rms 0.010776, max 0.238892 (between atoms 160 and 170)\n",
      "bonds that rotated more than 30 degrees:\n",
      " atom 1 atom 2  angle  previous, current, constraint length\n",
      "    160    170   89.5    0.1664   0.1891      0.1526\n",
      "\n",
      "Step 140, time 0.28 (ps)  LINCS WARNING\n",
      "relative constraint deviation after LINCS:\n",
      "rms 0.002698, max 0.065020 (between atoms 160 and 166)\n",
      "bonds that rotated more than 30 degrees:\n",
      " atom 1 atom 2  angle  previous, current, constraint length\n",
      "    160    170   35.0    0.1891   0.1581      0.1526\n",
      "\n",
      "Step 141, time 0.282 (ps)  LINCS WARNING\n",
      "relative constraint deviation after LINCS:\n",
      "rms 0.016334, max 0.467792 (between atoms 160 and 170)\n",
      "bonds that rotated more than 30 degrees:\n",
      " atom 1 atom 2  angle  previous, current, constraint length\n",
      "    159    160   42.2    0.1046   0.0910      0.1092\n",
      "    160    165   42.9    0.1058   0.1056      0.1090\n",
      "    160    166   32.0    0.1019   0.1344      0.1090\n",
      "    160    170   87.9    0.1581   0.2240      0.1526\n",
      "\n",
      "Step 142, time 0.284 (ps)  LINCS WARNING\n",
      "relative constraint deviation after LINCS:\n",
      "rms 0.016535, max 0.352945 (between atoms 160 and 170)\n",
      "bonds that rotated more than 30 degrees:\n",
      " atom 1 atom 2  angle  previous, current, constraint length\n",
      "    159    160   79.1    0.0910   0.1106      0.1092\n",
      "    160    165   87.3    0.1056   0.1394      0.1090\n",
      "    160    166   41.2    0.1344   0.1441      0.1090\n",
      "    160    170   50.7    0.2240   0.0987      0.1526\n",
      "\n",
      "Step 143, time 0.286 (ps)  LINCS WARNING\n",
      "relative constraint deviation after LINCS:\n",
      "rms 0.027148, max 0.834320 (between atoms 160 and 165)\n",
      "bonds that rotated more than 30 degrees:\n",
      " atom 1 atom 2  angle  previous, current, constraint length\n",
      "    159    160   32.1    0.1106   0.1269      0.1093\n",
      "    160    165   79.4    0.1394   0.1999      0.1090\n",
      "    160    166   73.9    0.1441   0.1033      0.1090\n",
      "    160    170   92.0    0.0987   0.2034      0.1526\n",
      "Wrote pdb files with previous and current coordinates\n",
      "\n",
      "Step 144, time 0.288 (ps)  LINCS WARNING\n",
      "relative constraint deviation after LINCS:\n",
      "rms 0.011170, max 0.349718 (between atoms 160 and 165)\n",
      "bonds that rotated more than 30 degrees:\n",
      " atom 1 atom 2  angle  previous, current, constraint length\n",
      "    159    160   42.6    0.1269   0.1131      0.1093\n",
      "    160    165   90.3    0.1999   0.1471      0.1090\n",
      "    160    170   57.4    0.2034   0.1726      0.1526\n",
      "\n",
      "Step 145, time 0.29 (ps)  LINCS WARNING\n",
      "relative constraint deviation after LINCS:\n",
      "rms 0.024804, max 0.616056 (between atoms 160 and 165)\n",
      "bonds that rotated more than 30 degrees:\n",
      " atom 1 atom 2  angle  previous, current, constraint length\n",
      "    159    160   48.3    0.1131   0.0959      0.1093\n",
      "    160    165   91.0    0.1471   0.1762      0.1090\n",
      "    160    166   51.1    0.1059   0.1629      0.1090\n",
      "    160    170   87.5    0.1726   0.1896      0.1526\n",
      "Wrote pdb files with previous and current coordinates\n",
      "\n",
      "Step 146, time 0.292 (ps)  LINCS WARNING\n",
      "relative constraint deviation after LINCS:\n",
      "rms 0.026691, max 0.768639 (between atoms 159 and 160)\n",
      "bonds that rotated more than 30 degrees:\n",
      " atom 1 atom 2  angle  previous, current, constraint length\n",
      "    159    160   93.1    0.0959   0.0253      0.1093\n",
      "    160    165   86.9    0.1762   0.1225      0.1090\n",
      "    160    166   61.5    0.1629   0.0815      0.1090\n",
      "    160    170   93.9    0.1896   0.0959      0.1526\n",
      "Wrote pdb files with previous and current coordinates\n",
      "\n",
      "Step 147, time 0.294 (ps)  LINCS WARNING\n",
      "relative constraint deviation after LINCS:\n",
      "rms 0.056824, max 1.553105 (between atoms 159 and 160)\n",
      "bonds that rotated more than 30 degrees:\n",
      " atom 1 atom 2  angle  previous, current, constraint length\n",
      "    159    160  107.6    0.0253   0.2789      0.1093\n",
      "    160    165  128.3    0.1225   0.1561      0.1090\n",
      "    160    166   73.7    0.0815   0.2192      0.1090\n",
      "    160    170  123.6    0.0959   0.1828      0.1526\n",
      "Wrote pdb files with previous and current coordinates\n",
      "\n",
      "Step 148, time 0.296 (ps)  LINCS WARNING\n",
      "relative constraint deviation after LINCS:\n",
      "rms 0.680921, max 13.569003 (between atoms 160 and 166)\n",
      "bonds that rotated more than 30 degrees:\n",
      " atom 1 atom 2  angle  previous, current, constraint length\n",
      "    159    160  178.2    0.2789   1.1597      0.1093\n",
      "    159    161   36.5    0.1099   0.0837      0.1090\n",
      "    160    165   94.1    0.1561   1.5610      0.1090\n",
      "    160    166  151.0    0.2192   1.5880      0.1090\n",
      "    160    170  172.4    0.1828   1.4444      0.1526\n",
      "Wrote pdb files with previous and current coordinates\n",
      "\n",
      "Step 149, time 0.298 (ps)  LINCS WARNING\n",
      "relative constraint deviation after LINCS:\n",
      "rms 2.012473, max 35.982475 (between atoms 160 and 166)\n",
      "bonds that rotated more than 30 degrees:\n",
      " atom 1 atom 2  angle  previous, current, constraint length\n",
      "    159    160  114.9    1.1597   3.9867      0.1093\n",
      "    160    165  118.7    1.5610   3.9857      0.1090\n",
      "    160    166   32.3    1.5880   4.0311      0.1090\n",
      "    160    170  118.5    1.4444   4.0572      0.1526\n",
      "    986    987   90.0    0.1090   0.1200      0.1090\n",
      "    988    989   90.0    0.1090   1.2054      0.1090\n",
      "    988    990   90.0    0.1090   0.3996      0.1090\n",
      "    988    991   90.0    0.1090   0.4648      0.1090\n",
      "Wrote pdb files with previous and current coordinates\n",
      "\n",
      "WARNING: Listed nonbonded interaction between particles 155 and 160\n",
      "at distance 4.075 which is larger than the table limit 2.115 nm.\n",
      "\n",
      "This is likely either a 1,4 interaction, or a listed interaction inside\n",
      "a smaller molecule you are decoupling during a free energy calculation.\n",
      "Since interactions at distances beyond the table cannot be computed,\n",
      "they are skipped until they are inside the table limit again. You will\n",
      "only see this message once, even if it occurs for several interactions.\n",
      "\n",
      "IMPORTANT: This should not happen in a stable simulation, so there is\n",
      "probably something wrong with your system. Only change the table-extension\n",
      "distance in the mdp file if you are really sure that is the reason.\n",
      "\n",
      "\n",
      "\n",
      "Step 150, time 0.3 (ps)  LINCS WARNING\n",
      "relative constraint deviation after LINCS:\n",
      "rms 27250.253906, max 796276.750000 (between atoms 988 and 989)\n",
      "bonds that rotated more than 30 degrees:\n",
      " atom 1 atom 2  angle  previous, current, constraint length\n",
      "    159    160  138.0    3.9867   3.8473      0.1093\n",
      "    159    161   87.1    0.1140   0.1680      0.1090\n",
      "    159    162   74.7    0.0867   0.1597      0.1093\n",
      "    160    165  140.0    3.9857   3.0521      0.1090\n",
      "    160    170  139.2    4.0572   3.0843      0.1526\n",
      "    162    167   35.2    0.1021   0.1326      0.1090\n",
      "    162    168   43.4    0.1080   0.1492      0.1090\n",
      "    162    169   40.0    0.1074   0.1417      0.1090\n",
      "    913    914   88.1    0.1090 49369.5430      0.1090\n",
      "    913    915   90.0    0.1090   3.7091      0.1090\n",
      "    913    916  117.2    0.1090   3.9010      0.1090\n",
      "    986    987   52.6    0.1200   0.1090      0.1090\n",
      "    988    989   38.6    1.2054 86794.2734      0.1090\n",
      "    988    991   84.8    0.4648 4133.6479      0.1090\n",
      "Wrote pdb files with previous and current coordinates\n",
      "\n"
     ]
    },
    {
     "name": "stderr",
     "output_type": "stream",
     "text": [
      "2020-06-10 13:59:16,985 [MainThread  ] [INFO ]  Removed: []\n"
     ]
    },
    {
     "data": {
      "text/plain": [
       "-11"
      ]
     },
     "execution_count": 20,
     "metadata": {},
     "output_type": "execute_result"
    }
   ],
   "source": [
    "# Mdrun: Running equilibration\n",
    "from biobb_md.gromacs.mdrun import Mdrun\n",
    "\n",
    "#### State A (WT->Mut) ####\n",
    "\n",
    "# Create prop dict and inputs/outputs\n",
    "output_tiA_trr = 'tiA.trr'\n",
    "output_tiA_gro = 'tiA.gro'\n",
    "output_tiA_edr = 'tiA.edr'\n",
    "output_tiA_log = 'tiA.log'\n",
    "output_tiA_dhdl = 'tiA.dhdl'\n",
    "\n",
    "# Create and launch bb\n",
    "Mdrun(input_tpr_path=output_tprA_ti,\n",
    "      output_trr_path=output_tiA_trr,\n",
    "      output_gro_path=output_tiA_gro,\n",
    "      output_edr_path=output_tiA_edr,\n",
    "      output_log_path=output_tiA_log,\n",
    "      output_dhdl_path=output_tiA_dhdl).launch()\n",
    "\n",
    "#### State B (Mut->WT) ####\n",
    "\n",
    "# Create prop dict and inputs/outputs\n",
    "output_tiB_trr = 'tiB.trr'\n",
    "output_tiB_gro = 'tiB.gro'\n",
    "output_tiB_edr = 'tiB.edr'\n",
    "output_tiB_log = 'tiB.log'\n",
    "output_tiB_dhdl = 'tiB.dhdl'\n",
    "\n",
    "# Create and launch bb\n",
    "Mdrun(input_tpr_path=output_tprB_ti,\n",
    "      output_trr_path=output_tiB_trr,\n",
    "      output_gro_path=output_tiB_gro,\n",
    "      output_edr_path=output_tiB_edr,\n",
    "      output_log_path=output_tiB_log,\n",
    "      output_dhdl_path=output_tiB_dhdl).launch()"
   ]
  },
  {
   "cell_type": "markdown",
   "metadata": {},
   "source": [
    "<a id=\"post\"></a>\n",
    "***\n",
    "## Free Energy Estimation\n",
    "The **Fast Growth TI** approach relies on **Jarzynski's equality** (when transition is performed in one direction only) or on the **Crooks Fluctuation Theorem** or the **Bennett Acceptance Ratio** (when the transitions are performed in both directions). \n",
    "\n",
    "**Workflow-generated results** should be used if a **minimum number of transitions** are calculated. In this particular case, as the tutorial is just computing 1 transition (forward + reverse), the number of work values computed are **not enough to extract the free energy**. Instead, we will use values taken from a **real run** of the snase example that can be found in the [pmx web page](http://pmx.mpibpc.mpg.de/sardinia2018_tutorial1/index.html).\n",
    "\n",
    "- [Step 1](#tiStep1): Gathering together all the generated **dhdl files** (work values required to perform the transitions).\n",
    "- [Step 2](#tiStep2): Compute the **free energy** using **Jarzynski's equality**, **Crooks Fluctuation Theorem** and  **Bennett Acceptance Ratio** with pmx.\n",
    "\n",
    "*Note:* This tutorial is using a **Docker container** to run **pmx**. To use a local installation of **pmx**, just modify the appropriate properties parameter **pmx_cli_path**. \n",
    "***\n",
    "**Building Blocks** used:\n",
    " - [Pmxanalyse](https://biobb-pmx.readthedocs.io/en/latest/pmx.html#module-pmx.pmxanalyse) from **biobb_pmx.pmx.pmxanalyse** \n",
    "***"
   ]
  },
  {
   "cell_type": "markdown",
   "metadata": {},
   "source": [
    "<a id=\"tiStep1\"></a>\n",
    "### Step 1: Gathering together all the generated **dhdl files**\n",
    "Gathering together all the generated **dhdl files** (work values required to perform the transitions). To be used as input for the final pmx free energy estimation."
   ]
  },
  {
   "cell_type": "code",
   "execution_count": 21,
   "metadata": {},
   "outputs": [],
   "source": [
    "# Gathering together all the generated dhdl files (work values required to perform the transitions) \n",
    "# from the free energy simulations.\n",
    "# To be used as input for the final pmx free energy estimation.\n",
    "\n",
    "#### State A (WT->Mut) ####\n",
    "\n",
    "zf = zipfile.ZipFile('dhdlsA.zip', mode='w')\n",
    "\n",
    "for file in os.listdir(os.getcwd()):\n",
    "    if file.endswith(\"A.dhdl.xvg\"):\n",
    "            zf.write(file)\n",
    "zf.close()\n",
    "\n",
    "#### State B (Mut->WT) ####\n",
    "\n",
    "zf = zipfile.ZipFile('dhdlsB.zip', mode='w')\n",
    "\n",
    "for file in os.listdir(os.getcwd()):\n",
    "    if file.endswith(\"B.dhdl.xvg\"):\n",
    "            zf.write(file)\n",
    "zf.close()"
   ]
  },
  {
   "cell_type": "markdown",
   "metadata": {},
   "source": [
    "<a id=\"tiStep2\"></a>\n",
    "### Step 2: Compute the free energy estimation\n",
    "Compute the **free energy** using **Jarzynski's equality**, **Crooks Fluctuation Theorem** and **Bennett Acceptance Ratio** with pmx."
   ]
  },
  {
   "cell_type": "code",
   "execution_count": 22,
   "metadata": {},
   "outputs": [
    {
     "name": "stderr",
     "output_type": "stream",
     "text": [
      "2020-06-10 14:00:26,711 [MainThread  ] [INFO ]  Extracting: /home/gbayarri_local/projects/BioBB/tutorials/biobb_wf_pmx_tutorial/biobb_wf_pmx_tutorial/notebooks/pmx_tutorial/dhdlA.zip\n",
      "2020-06-10 14:00:26,711 [MainThread  ] [INFO ]  to:\n",
      "2020-06-10 14:00:26,712 [MainThread  ] [INFO ]  ['0239cfbd-f325-47fe-87b2-4cf38db1287a/stateA/frame0/dhdl0.xvg', '0239cfbd-f325-47fe-87b2-4cf38db1287a/stateA/frame1/dhdl1.xvg', '0239cfbd-f325-47fe-87b2-4cf38db1287a/stateA/frame10/dhdl10.xvg', '0239cfbd-f325-47fe-87b2-4cf38db1287a/stateA/frame11/dhdl11.xvg', '0239cfbd-f325-47fe-87b2-4cf38db1287a/stateA/frame12/dhdl12.xvg', '0239cfbd-f325-47fe-87b2-4cf38db1287a/stateA/frame13/dhdl13.xvg', '0239cfbd-f325-47fe-87b2-4cf38db1287a/stateA/frame14/dhdl14.xvg', '0239cfbd-f325-47fe-87b2-4cf38db1287a/stateA/frame15/dhdl15.xvg', '0239cfbd-f325-47fe-87b2-4cf38db1287a/stateA/frame16/dhdl16.xvg', '0239cfbd-f325-47fe-87b2-4cf38db1287a/stateA/frame17/dhdl17.xvg', '0239cfbd-f325-47fe-87b2-4cf38db1287a/stateA/frame18/dhdl18.xvg', '0239cfbd-f325-47fe-87b2-4cf38db1287a/stateA/frame19/dhdl19.xvg', '0239cfbd-f325-47fe-87b2-4cf38db1287a/stateA/frame2/dhdl2.xvg', '0239cfbd-f325-47fe-87b2-4cf38db1287a/stateA/frame20/dhdl20.xvg', '0239cfbd-f325-47fe-87b2-4cf38db1287a/stateA/frame21/dhdl21.xvg', '0239cfbd-f325-47fe-87b2-4cf38db1287a/stateA/frame22/dhdl22.xvg', '0239cfbd-f325-47fe-87b2-4cf38db1287a/stateA/frame23/dhdl23.xvg', '0239cfbd-f325-47fe-87b2-4cf38db1287a/stateA/frame24/dhdl24.xvg', '0239cfbd-f325-47fe-87b2-4cf38db1287a/stateA/frame25/dhdl25.xvg', '0239cfbd-f325-47fe-87b2-4cf38db1287a/stateA/frame26/dhdl26.xvg', '0239cfbd-f325-47fe-87b2-4cf38db1287a/stateA/frame27/dhdl27.xvg', '0239cfbd-f325-47fe-87b2-4cf38db1287a/stateA/frame28/dhdl28.xvg', '0239cfbd-f325-47fe-87b2-4cf38db1287a/stateA/frame29/dhdl29.xvg', '0239cfbd-f325-47fe-87b2-4cf38db1287a/stateA/frame3/dhdl3.xvg', '0239cfbd-f325-47fe-87b2-4cf38db1287a/stateA/frame30/dhdl30.xvg', '0239cfbd-f325-47fe-87b2-4cf38db1287a/stateA/frame31/dhdl31.xvg', '0239cfbd-f325-47fe-87b2-4cf38db1287a/stateA/frame32/dhdl32.xvg', '0239cfbd-f325-47fe-87b2-4cf38db1287a/stateA/frame33/dhdl33.xvg', '0239cfbd-f325-47fe-87b2-4cf38db1287a/stateA/frame34/dhdl34.xvg', '0239cfbd-f325-47fe-87b2-4cf38db1287a/stateA/frame35/dhdl35.xvg', '0239cfbd-f325-47fe-87b2-4cf38db1287a/stateA/frame36/dhdl36.xvg', '0239cfbd-f325-47fe-87b2-4cf38db1287a/stateA/frame37/dhdl37.xvg', '0239cfbd-f325-47fe-87b2-4cf38db1287a/stateA/frame38/dhdl38.xvg', '0239cfbd-f325-47fe-87b2-4cf38db1287a/stateA/frame39/dhdl39.xvg', '0239cfbd-f325-47fe-87b2-4cf38db1287a/stateA/frame4/dhdl4.xvg', '0239cfbd-f325-47fe-87b2-4cf38db1287a/stateA/frame40/dhdl40.xvg', '0239cfbd-f325-47fe-87b2-4cf38db1287a/stateA/frame41/dhdl41.xvg', '0239cfbd-f325-47fe-87b2-4cf38db1287a/stateA/frame42/dhdl42.xvg', '0239cfbd-f325-47fe-87b2-4cf38db1287a/stateA/frame43/dhdl43.xvg', '0239cfbd-f325-47fe-87b2-4cf38db1287a/stateA/frame44/dhdl44.xvg', '0239cfbd-f325-47fe-87b2-4cf38db1287a/stateA/frame45/dhdl45.xvg', '0239cfbd-f325-47fe-87b2-4cf38db1287a/stateA/frame46/dhdl46.xvg', '0239cfbd-f325-47fe-87b2-4cf38db1287a/stateA/frame47/dhdl47.xvg', '0239cfbd-f325-47fe-87b2-4cf38db1287a/stateA/frame48/dhdl48.xvg', '0239cfbd-f325-47fe-87b2-4cf38db1287a/stateA/frame49/dhdl49.xvg', '0239cfbd-f325-47fe-87b2-4cf38db1287a/stateA/frame5/dhdl5.xvg', '0239cfbd-f325-47fe-87b2-4cf38db1287a/stateA/frame50/dhdl50.xvg', '0239cfbd-f325-47fe-87b2-4cf38db1287a/stateA/frame51/dhdl51.xvg', '0239cfbd-f325-47fe-87b2-4cf38db1287a/stateA/frame52/dhdl52.xvg', '0239cfbd-f325-47fe-87b2-4cf38db1287a/stateA/frame53/dhdl53.xvg', '0239cfbd-f325-47fe-87b2-4cf38db1287a/stateA/frame54/dhdl54.xvg', '0239cfbd-f325-47fe-87b2-4cf38db1287a/stateA/frame55/dhdl55.xvg', '0239cfbd-f325-47fe-87b2-4cf38db1287a/stateA/frame56/dhdl56.xvg', '0239cfbd-f325-47fe-87b2-4cf38db1287a/stateA/frame57/dhdl57.xvg', '0239cfbd-f325-47fe-87b2-4cf38db1287a/stateA/frame58/dhdl58.xvg', '0239cfbd-f325-47fe-87b2-4cf38db1287a/stateA/frame59/dhdl59.xvg', '0239cfbd-f325-47fe-87b2-4cf38db1287a/stateA/frame6/dhdl6.xvg', '0239cfbd-f325-47fe-87b2-4cf38db1287a/stateA/frame60/dhdl60.xvg', '0239cfbd-f325-47fe-87b2-4cf38db1287a/stateA/frame61/dhdl61.xvg', '0239cfbd-f325-47fe-87b2-4cf38db1287a/stateA/frame62/dhdl62.xvg', '0239cfbd-f325-47fe-87b2-4cf38db1287a/stateA/frame63/dhdl63.xvg', '0239cfbd-f325-47fe-87b2-4cf38db1287a/stateA/frame64/dhdl64.xvg', '0239cfbd-f325-47fe-87b2-4cf38db1287a/stateA/frame65/dhdl65.xvg', '0239cfbd-f325-47fe-87b2-4cf38db1287a/stateA/frame66/dhdl66.xvg', '0239cfbd-f325-47fe-87b2-4cf38db1287a/stateA/frame67/dhdl67.xvg', '0239cfbd-f325-47fe-87b2-4cf38db1287a/stateA/frame68/dhdl68.xvg', '0239cfbd-f325-47fe-87b2-4cf38db1287a/stateA/frame69/dhdl69.xvg', '0239cfbd-f325-47fe-87b2-4cf38db1287a/stateA/frame7/dhdl7.xvg', '0239cfbd-f325-47fe-87b2-4cf38db1287a/stateA/frame70/dhdl70.xvg', '0239cfbd-f325-47fe-87b2-4cf38db1287a/stateA/frame71/dhdl71.xvg', '0239cfbd-f325-47fe-87b2-4cf38db1287a/stateA/frame72/dhdl72.xvg', '0239cfbd-f325-47fe-87b2-4cf38db1287a/stateA/frame73/dhdl73.xvg', '0239cfbd-f325-47fe-87b2-4cf38db1287a/stateA/frame74/dhdl74.xvg', '0239cfbd-f325-47fe-87b2-4cf38db1287a/stateA/frame75/dhdl75.xvg', '0239cfbd-f325-47fe-87b2-4cf38db1287a/stateA/frame76/dhdl76.xvg', '0239cfbd-f325-47fe-87b2-4cf38db1287a/stateA/frame77/dhdl77.xvg', '0239cfbd-f325-47fe-87b2-4cf38db1287a/stateA/frame78/dhdl78.xvg', '0239cfbd-f325-47fe-87b2-4cf38db1287a/stateA/frame79/dhdl79.xvg', '0239cfbd-f325-47fe-87b2-4cf38db1287a/stateA/frame8/dhdl8.xvg', '0239cfbd-f325-47fe-87b2-4cf38db1287a/stateA/frame80/dhdl80.xvg', '0239cfbd-f325-47fe-87b2-4cf38db1287a/stateA/frame81/dhdl81.xvg', '0239cfbd-f325-47fe-87b2-4cf38db1287a/stateA/frame82/dhdl82.xvg', '0239cfbd-f325-47fe-87b2-4cf38db1287a/stateA/frame83/dhdl83.xvg', '0239cfbd-f325-47fe-87b2-4cf38db1287a/stateA/frame84/dhdl84.xvg', '0239cfbd-f325-47fe-87b2-4cf38db1287a/stateA/frame85/dhdl85.xvg', '0239cfbd-f325-47fe-87b2-4cf38db1287a/stateA/frame86/dhdl86.xvg', '0239cfbd-f325-47fe-87b2-4cf38db1287a/stateA/frame87/dhdl87.xvg', '0239cfbd-f325-47fe-87b2-4cf38db1287a/stateA/frame88/dhdl88.xvg', '0239cfbd-f325-47fe-87b2-4cf38db1287a/stateA/frame89/dhdl89.xvg', '0239cfbd-f325-47fe-87b2-4cf38db1287a/stateA/frame9/dhdl9.xvg', '0239cfbd-f325-47fe-87b2-4cf38db1287a/stateA/frame90/dhdl90.xvg', '0239cfbd-f325-47fe-87b2-4cf38db1287a/stateA/frame91/dhdl91.xvg', '0239cfbd-f325-47fe-87b2-4cf38db1287a/stateA/frame92/dhdl92.xvg', '0239cfbd-f325-47fe-87b2-4cf38db1287a/stateA/frame93/dhdl93.xvg', '0239cfbd-f325-47fe-87b2-4cf38db1287a/stateA/frame94/dhdl94.xvg', '0239cfbd-f325-47fe-87b2-4cf38db1287a/stateA/frame95/dhdl95.xvg', '0239cfbd-f325-47fe-87b2-4cf38db1287a/stateA/frame96/dhdl96.xvg', '0239cfbd-f325-47fe-87b2-4cf38db1287a/stateA/frame97/dhdl97.xvg', '0239cfbd-f325-47fe-87b2-4cf38db1287a/stateA/frame98/dhdl98.xvg', '0239cfbd-f325-47fe-87b2-4cf38db1287a/stateA/frame99/dhdl99.xvg']\n",
      "2020-06-10 14:00:27,104 [MainThread  ] [INFO ]  Extracting: /home/gbayarri_local/projects/BioBB/tutorials/biobb_wf_pmx_tutorial/biobb_wf_pmx_tutorial/notebooks/pmx_tutorial/dhdlB.zip\n",
      "2020-06-10 14:00:27,105 [MainThread  ] [INFO ]  to:\n",
      "2020-06-10 14:00:27,105 [MainThread  ] [INFO ]  ['461c395e-dbc6-4224-9bf2-9c20af99d16d/stateB/frame0/dhdl0.xvg', '461c395e-dbc6-4224-9bf2-9c20af99d16d/stateB/frame1/dhdl1.xvg', '461c395e-dbc6-4224-9bf2-9c20af99d16d/stateB/frame10/dhdl10.xvg', '461c395e-dbc6-4224-9bf2-9c20af99d16d/stateB/frame11/dhdl11.xvg', '461c395e-dbc6-4224-9bf2-9c20af99d16d/stateB/frame12/dhdl12.xvg', '461c395e-dbc6-4224-9bf2-9c20af99d16d/stateB/frame13/dhdl13.xvg', '461c395e-dbc6-4224-9bf2-9c20af99d16d/stateB/frame14/dhdl14.xvg', '461c395e-dbc6-4224-9bf2-9c20af99d16d/stateB/frame15/dhdl15.xvg', '461c395e-dbc6-4224-9bf2-9c20af99d16d/stateB/frame16/dhdl16.xvg', '461c395e-dbc6-4224-9bf2-9c20af99d16d/stateB/frame17/dhdl17.xvg', '461c395e-dbc6-4224-9bf2-9c20af99d16d/stateB/frame18/dhdl18.xvg', '461c395e-dbc6-4224-9bf2-9c20af99d16d/stateB/frame19/dhdl19.xvg', '461c395e-dbc6-4224-9bf2-9c20af99d16d/stateB/frame2/dhdl2.xvg', '461c395e-dbc6-4224-9bf2-9c20af99d16d/stateB/frame20/dhdl20.xvg', '461c395e-dbc6-4224-9bf2-9c20af99d16d/stateB/frame21/dhdl21.xvg', '461c395e-dbc6-4224-9bf2-9c20af99d16d/stateB/frame22/dhdl22.xvg', '461c395e-dbc6-4224-9bf2-9c20af99d16d/stateB/frame23/dhdl23.xvg', '461c395e-dbc6-4224-9bf2-9c20af99d16d/stateB/frame24/dhdl24.xvg', '461c395e-dbc6-4224-9bf2-9c20af99d16d/stateB/frame25/dhdl25.xvg', '461c395e-dbc6-4224-9bf2-9c20af99d16d/stateB/frame26/dhdl26.xvg', '461c395e-dbc6-4224-9bf2-9c20af99d16d/stateB/frame27/dhdl27.xvg', '461c395e-dbc6-4224-9bf2-9c20af99d16d/stateB/frame28/dhdl28.xvg', '461c395e-dbc6-4224-9bf2-9c20af99d16d/stateB/frame29/dhdl29.xvg', '461c395e-dbc6-4224-9bf2-9c20af99d16d/stateB/frame3/dhdl3.xvg', '461c395e-dbc6-4224-9bf2-9c20af99d16d/stateB/frame30/dhdl30.xvg', '461c395e-dbc6-4224-9bf2-9c20af99d16d/stateB/frame31/dhdl31.xvg', '461c395e-dbc6-4224-9bf2-9c20af99d16d/stateB/frame32/dhdl32.xvg', '461c395e-dbc6-4224-9bf2-9c20af99d16d/stateB/frame33/dhdl33.xvg', '461c395e-dbc6-4224-9bf2-9c20af99d16d/stateB/frame34/dhdl34.xvg', '461c395e-dbc6-4224-9bf2-9c20af99d16d/stateB/frame35/dhdl35.xvg', '461c395e-dbc6-4224-9bf2-9c20af99d16d/stateB/frame36/dhdl36.xvg', '461c395e-dbc6-4224-9bf2-9c20af99d16d/stateB/frame37/dhdl37.xvg', '461c395e-dbc6-4224-9bf2-9c20af99d16d/stateB/frame38/dhdl38.xvg', '461c395e-dbc6-4224-9bf2-9c20af99d16d/stateB/frame39/dhdl39.xvg', '461c395e-dbc6-4224-9bf2-9c20af99d16d/stateB/frame4/dhdl4.xvg', '461c395e-dbc6-4224-9bf2-9c20af99d16d/stateB/frame40/dhdl40.xvg', '461c395e-dbc6-4224-9bf2-9c20af99d16d/stateB/frame41/dhdl41.xvg', '461c395e-dbc6-4224-9bf2-9c20af99d16d/stateB/frame42/dhdl42.xvg', '461c395e-dbc6-4224-9bf2-9c20af99d16d/stateB/frame43/dhdl43.xvg', '461c395e-dbc6-4224-9bf2-9c20af99d16d/stateB/frame44/dhdl44.xvg', '461c395e-dbc6-4224-9bf2-9c20af99d16d/stateB/frame45/dhdl45.xvg', '461c395e-dbc6-4224-9bf2-9c20af99d16d/stateB/frame46/dhdl46.xvg', '461c395e-dbc6-4224-9bf2-9c20af99d16d/stateB/frame47/dhdl47.xvg', '461c395e-dbc6-4224-9bf2-9c20af99d16d/stateB/frame48/dhdl48.xvg', '461c395e-dbc6-4224-9bf2-9c20af99d16d/stateB/frame49/dhdl49.xvg', '461c395e-dbc6-4224-9bf2-9c20af99d16d/stateB/frame5/dhdl5.xvg', '461c395e-dbc6-4224-9bf2-9c20af99d16d/stateB/frame50/dhdl50.xvg', '461c395e-dbc6-4224-9bf2-9c20af99d16d/stateB/frame51/dhdl51.xvg', '461c395e-dbc6-4224-9bf2-9c20af99d16d/stateB/frame52/dhdl52.xvg', '461c395e-dbc6-4224-9bf2-9c20af99d16d/stateB/frame53/dhdl53.xvg', '461c395e-dbc6-4224-9bf2-9c20af99d16d/stateB/frame54/dhdl54.xvg', '461c395e-dbc6-4224-9bf2-9c20af99d16d/stateB/frame55/dhdl55.xvg', '461c395e-dbc6-4224-9bf2-9c20af99d16d/stateB/frame56/dhdl56.xvg', '461c395e-dbc6-4224-9bf2-9c20af99d16d/stateB/frame57/dhdl57.xvg', '461c395e-dbc6-4224-9bf2-9c20af99d16d/stateB/frame58/dhdl58.xvg', '461c395e-dbc6-4224-9bf2-9c20af99d16d/stateB/frame59/dhdl59.xvg', '461c395e-dbc6-4224-9bf2-9c20af99d16d/stateB/frame6/dhdl6.xvg', '461c395e-dbc6-4224-9bf2-9c20af99d16d/stateB/frame60/dhdl60.xvg', '461c395e-dbc6-4224-9bf2-9c20af99d16d/stateB/frame61/dhdl61.xvg', '461c395e-dbc6-4224-9bf2-9c20af99d16d/stateB/frame62/dhdl62.xvg', '461c395e-dbc6-4224-9bf2-9c20af99d16d/stateB/frame63/dhdl63.xvg', '461c395e-dbc6-4224-9bf2-9c20af99d16d/stateB/frame64/dhdl64.xvg', '461c395e-dbc6-4224-9bf2-9c20af99d16d/stateB/frame65/dhdl65.xvg', '461c395e-dbc6-4224-9bf2-9c20af99d16d/stateB/frame66/dhdl66.xvg', '461c395e-dbc6-4224-9bf2-9c20af99d16d/stateB/frame67/dhdl67.xvg', '461c395e-dbc6-4224-9bf2-9c20af99d16d/stateB/frame68/dhdl68.xvg', '461c395e-dbc6-4224-9bf2-9c20af99d16d/stateB/frame69/dhdl69.xvg', '461c395e-dbc6-4224-9bf2-9c20af99d16d/stateB/frame7/dhdl7.xvg', '461c395e-dbc6-4224-9bf2-9c20af99d16d/stateB/frame70/dhdl70.xvg', '461c395e-dbc6-4224-9bf2-9c20af99d16d/stateB/frame71/dhdl71.xvg', '461c395e-dbc6-4224-9bf2-9c20af99d16d/stateB/frame72/dhdl72.xvg', '461c395e-dbc6-4224-9bf2-9c20af99d16d/stateB/frame73/dhdl73.xvg', '461c395e-dbc6-4224-9bf2-9c20af99d16d/stateB/frame74/dhdl74.xvg', '461c395e-dbc6-4224-9bf2-9c20af99d16d/stateB/frame75/dhdl75.xvg', '461c395e-dbc6-4224-9bf2-9c20af99d16d/stateB/frame76/dhdl76.xvg', '461c395e-dbc6-4224-9bf2-9c20af99d16d/stateB/frame77/dhdl77.xvg', '461c395e-dbc6-4224-9bf2-9c20af99d16d/stateB/frame78/dhdl78.xvg', '461c395e-dbc6-4224-9bf2-9c20af99d16d/stateB/frame79/dhdl79.xvg', '461c395e-dbc6-4224-9bf2-9c20af99d16d/stateB/frame8/dhdl8.xvg', '461c395e-dbc6-4224-9bf2-9c20af99d16d/stateB/frame80/dhdl80.xvg', '461c395e-dbc6-4224-9bf2-9c20af99d16d/stateB/frame81/dhdl81.xvg', '461c395e-dbc6-4224-9bf2-9c20af99d16d/stateB/frame82/dhdl82.xvg', '461c395e-dbc6-4224-9bf2-9c20af99d16d/stateB/frame83/dhdl83.xvg', '461c395e-dbc6-4224-9bf2-9c20af99d16d/stateB/frame84/dhdl84.xvg', '461c395e-dbc6-4224-9bf2-9c20af99d16d/stateB/frame85/dhdl85.xvg', '461c395e-dbc6-4224-9bf2-9c20af99d16d/stateB/frame86/dhdl86.xvg', '461c395e-dbc6-4224-9bf2-9c20af99d16d/stateB/frame87/dhdl87.xvg', '461c395e-dbc6-4224-9bf2-9c20af99d16d/stateB/frame88/dhdl88.xvg', '461c395e-dbc6-4224-9bf2-9c20af99d16d/stateB/frame89/dhdl89.xvg', '461c395e-dbc6-4224-9bf2-9c20af99d16d/stateB/frame9/dhdl9.xvg', '461c395e-dbc6-4224-9bf2-9c20af99d16d/stateB/frame90/dhdl90.xvg', '461c395e-dbc6-4224-9bf2-9c20af99d16d/stateB/frame91/dhdl91.xvg', '461c395e-dbc6-4224-9bf2-9c20af99d16d/stateB/frame92/dhdl92.xvg', '461c395e-dbc6-4224-9bf2-9c20af99d16d/stateB/frame93/dhdl93.xvg', '461c395e-dbc6-4224-9bf2-9c20af99d16d/stateB/frame94/dhdl94.xvg', '461c395e-dbc6-4224-9bf2-9c20af99d16d/stateB/frame95/dhdl95.xvg', '461c395e-dbc6-4224-9bf2-9c20af99d16d/stateB/frame96/dhdl96.xvg', '461c395e-dbc6-4224-9bf2-9c20af99d16d/stateB/frame97/dhdl97.xvg', '461c395e-dbc6-4224-9bf2-9c20af99d16d/stateB/frame98/dhdl98.xvg', '461c395e-dbc6-4224-9bf2-9c20af99d16d/stateB/frame99/dhdl99.xvg']\n"
     ]
    },
    {
     "name": "stderr",
     "output_type": "stream",
     "text": [
      "2020-06-10 14:00:27,271 [MainThread  ] [INFO ]  Using Docker image mmbirb/pmx\n",
      "2020-06-10 14:01:26,338 [MainThread  ] [INFO ]  docker run -v /home/gbayarri_local/projects/BioBB/tutorials/biobb_wf_pmx_tutorial/biobb_wf_pmx_tutorial/notebooks/91acf367-b8d7-4e92-b151-0eef61558fab:/inout mmbirb/pmx /bin/bash -c \"cli.py analyse -fA /inout/0239cfbd-f325-47fe-87b2-4cf38db1287a/stateA/frame0/dhdl0.xvg /inout/0239cfbd-f325-47fe-87b2-4cf38db1287a/stateA/frame1/dhdl1.xvg /inout/0239cfbd-f325-47fe-87b2-4cf38db1287a/stateA/frame10/dhdl10.xvg /inout/0239cfbd-f325-47fe-87b2-4cf38db1287a/stateA/frame11/dhdl11.xvg /inout/0239cfbd-f325-47fe-87b2-4cf38db1287a/stateA/frame12/dhdl12.xvg /inout/0239cfbd-f325-47fe-87b2-4cf38db1287a/stateA/frame13/dhdl13.xvg /inout/0239cfbd-f325-47fe-87b2-4cf38db1287a/stateA/frame14/dhdl14.xvg /inout/0239cfbd-f325-47fe-87b2-4cf38db1287a/stateA/frame15/dhdl15.xvg /inout/0239cfbd-f325-47fe-87b2-4cf38db1287a/stateA/frame16/dhdl16.xvg /inout/0239cfbd-f325-47fe-87b2-4cf38db1287a/stateA/frame17/dhdl17.xvg /inout/0239cfbd-f325-47fe-87b2-4cf38db1287a/stateA/frame18/dhdl18.xvg /inout/0239cfbd-f325-47fe-87b2-4cf38db1287a/stateA/frame19/dhdl19.xvg /inout/0239cfbd-f325-47fe-87b2-4cf38db1287a/stateA/frame2/dhdl2.xvg /inout/0239cfbd-f325-47fe-87b2-4cf38db1287a/stateA/frame20/dhdl20.xvg /inout/0239cfbd-f325-47fe-87b2-4cf38db1287a/stateA/frame21/dhdl21.xvg /inout/0239cfbd-f325-47fe-87b2-4cf38db1287a/stateA/frame22/dhdl22.xvg /inout/0239cfbd-f325-47fe-87b2-4cf38db1287a/stateA/frame23/dhdl23.xvg /inout/0239cfbd-f325-47fe-87b2-4cf38db1287a/stateA/frame24/dhdl24.xvg /inout/0239cfbd-f325-47fe-87b2-4cf38db1287a/stateA/frame25/dhdl25.xvg /inout/0239cfbd-f325-47fe-87b2-4cf38db1287a/stateA/frame26/dhdl26.xvg /inout/0239cfbd-f325-47fe-87b2-4cf38db1287a/stateA/frame27/dhdl27.xvg /inout/0239cfbd-f325-47fe-87b2-4cf38db1287a/stateA/frame28/dhdl28.xvg /inout/0239cfbd-f325-47fe-87b2-4cf38db1287a/stateA/frame29/dhdl29.xvg /inout/0239cfbd-f325-47fe-87b2-4cf38db1287a/stateA/frame3/dhdl3.xvg /inout/0239cfbd-f325-47fe-87b2-4cf38db1287a/stateA/frame30/dhdl30.xvg /inout/0239cfbd-f325-47fe-87b2-4cf38db1287a/stateA/frame31/dhdl31.xvg /inout/0239cfbd-f325-47fe-87b2-4cf38db1287a/stateA/frame32/dhdl32.xvg /inout/0239cfbd-f325-47fe-87b2-4cf38db1287a/stateA/frame33/dhdl33.xvg /inout/0239cfbd-f325-47fe-87b2-4cf38db1287a/stateA/frame34/dhdl34.xvg /inout/0239cfbd-f325-47fe-87b2-4cf38db1287a/stateA/frame35/dhdl35.xvg /inout/0239cfbd-f325-47fe-87b2-4cf38db1287a/stateA/frame36/dhdl36.xvg /inout/0239cfbd-f325-47fe-87b2-4cf38db1287a/stateA/frame37/dhdl37.xvg /inout/0239cfbd-f325-47fe-87b2-4cf38db1287a/stateA/frame38/dhdl38.xvg /inout/0239cfbd-f325-47fe-87b2-4cf38db1287a/stateA/frame39/dhdl39.xvg /inout/0239cfbd-f325-47fe-87b2-4cf38db1287a/stateA/frame4/dhdl4.xvg /inout/0239cfbd-f325-47fe-87b2-4cf38db1287a/stateA/frame40/dhdl40.xvg /inout/0239cfbd-f325-47fe-87b2-4cf38db1287a/stateA/frame41/dhdl41.xvg /inout/0239cfbd-f325-47fe-87b2-4cf38db1287a/stateA/frame42/dhdl42.xvg /inout/0239cfbd-f325-47fe-87b2-4cf38db1287a/stateA/frame43/dhdl43.xvg /inout/0239cfbd-f325-47fe-87b2-4cf38db1287a/stateA/frame44/dhdl44.xvg /inout/0239cfbd-f325-47fe-87b2-4cf38db1287a/stateA/frame45/dhdl45.xvg /inout/0239cfbd-f325-47fe-87b2-4cf38db1287a/stateA/frame46/dhdl46.xvg /inout/0239cfbd-f325-47fe-87b2-4cf38db1287a/stateA/frame47/dhdl47.xvg /inout/0239cfbd-f325-47fe-87b2-4cf38db1287a/stateA/frame48/dhdl48.xvg /inout/0239cfbd-f325-47fe-87b2-4cf38db1287a/stateA/frame49/dhdl49.xvg /inout/0239cfbd-f325-47fe-87b2-4cf38db1287a/stateA/frame5/dhdl5.xvg /inout/0239cfbd-f325-47fe-87b2-4cf38db1287a/stateA/frame50/dhdl50.xvg /inout/0239cfbd-f325-47fe-87b2-4cf38db1287a/stateA/frame51/dhdl51.xvg /inout/0239cfbd-f325-47fe-87b2-4cf38db1287a/stateA/frame52/dhdl52.xvg /inout/0239cfbd-f325-47fe-87b2-4cf38db1287a/stateA/frame53/dhdl53.xvg /inout/0239cfbd-f325-47fe-87b2-4cf38db1287a/stateA/frame54/dhdl54.xvg /inout/0239cfbd-f325-47fe-87b2-4cf38db1287a/stateA/frame55/dhdl55.xvg /inout/0239cfbd-f325-47fe-87b2-4cf38db1287a/stateA/frame56/dhdl56.xvg /inout/0239cfbd-f325-47fe-87b2-4cf38db1287a/stateA/frame57/dhdl57.xvg /inout/0239cfbd-f325-47fe-87b2-4cf38db1287a/stateA/frame58/dhdl58.xvg /inout/0239cfbd-f325-47fe-87b2-4cf38db1287a/stateA/frame59/dhdl59.xvg /inout/0239cfbd-f325-47fe-87b2-4cf38db1287a/stateA/frame6/dhdl6.xvg /inout/0239cfbd-f325-47fe-87b2-4cf38db1287a/stateA/frame60/dhdl60.xvg /inout/0239cfbd-f325-47fe-87b2-4cf38db1287a/stateA/frame61/dhdl61.xvg /inout/0239cfbd-f325-47fe-87b2-4cf38db1287a/stateA/frame62/dhdl62.xvg /inout/0239cfbd-f325-47fe-87b2-4cf38db1287a/stateA/frame63/dhdl63.xvg /inout/0239cfbd-f325-47fe-87b2-4cf38db1287a/stateA/frame64/dhdl64.xvg /inout/0239cfbd-f325-47fe-87b2-4cf38db1287a/stateA/frame65/dhdl65.xvg /inout/0239cfbd-f325-47fe-87b2-4cf38db1287a/stateA/frame66/dhdl66.xvg /inout/0239cfbd-f325-47fe-87b2-4cf38db1287a/stateA/frame67/dhdl67.xvg /inout/0239cfbd-f325-47fe-87b2-4cf38db1287a/stateA/frame68/dhdl68.xvg /inout/0239cfbd-f325-47fe-87b2-4cf38db1287a/stateA/frame69/dhdl69.xvg /inout/0239cfbd-f325-47fe-87b2-4cf38db1287a/stateA/frame7/dhdl7.xvg /inout/0239cfbd-f325-47fe-87b2-4cf38db1287a/stateA/frame70/dhdl70.xvg /inout/0239cfbd-f325-47fe-87b2-4cf38db1287a/stateA/frame71/dhdl71.xvg /inout/0239cfbd-f325-47fe-87b2-4cf38db1287a/stateA/frame72/dhdl72.xvg /inout/0239cfbd-f325-47fe-87b2-4cf38db1287a/stateA/frame73/dhdl73.xvg /inout/0239cfbd-f325-47fe-87b2-4cf38db1287a/stateA/frame74/dhdl74.xvg /inout/0239cfbd-f325-47fe-87b2-4cf38db1287a/stateA/frame75/dhdl75.xvg /inout/0239cfbd-f325-47fe-87b2-4cf38db1287a/stateA/frame76/dhdl76.xvg /inout/0239cfbd-f325-47fe-87b2-4cf38db1287a/stateA/frame77/dhdl77.xvg /inout/0239cfbd-f325-47fe-87b2-4cf38db1287a/stateA/frame78/dhdl78.xvg /inout/0239cfbd-f325-47fe-87b2-4cf38db1287a/stateA/frame79/dhdl79.xvg /inout/0239cfbd-f325-47fe-87b2-4cf38db1287a/stateA/frame8/dhdl8.xvg /inout/0239cfbd-f325-47fe-87b2-4cf38db1287a/stateA/frame80/dhdl80.xvg /inout/0239cfbd-f325-47fe-87b2-4cf38db1287a/stateA/frame81/dhdl81.xvg /inout/0239cfbd-f325-47fe-87b2-4cf38db1287a/stateA/frame82/dhdl82.xvg /inout/0239cfbd-f325-47fe-87b2-4cf38db1287a/stateA/frame83/dhdl83.xvg /inout/0239cfbd-f325-47fe-87b2-4cf38db1287a/stateA/frame84/dhdl84.xvg /inout/0239cfbd-f325-47fe-87b2-4cf38db1287a/stateA/frame85/dhdl85.xvg /inout/0239cfbd-f325-47fe-87b2-4cf38db1287a/stateA/frame86/dhdl86.xvg /inout/0239cfbd-f325-47fe-87b2-4cf38db1287a/stateA/frame87/dhdl87.xvg /inout/0239cfbd-f325-47fe-87b2-4cf38db1287a/stateA/frame88/dhdl88.xvg /inout/0239cfbd-f325-47fe-87b2-4cf38db1287a/stateA/frame89/dhdl89.xvg /inout/0239cfbd-f325-47fe-87b2-4cf38db1287a/stateA/frame9/dhdl9.xvg /inout/0239cfbd-f325-47fe-87b2-4cf38db1287a/stateA/frame90/dhdl90.xvg /inout/0239cfbd-f325-47fe-87b2-4cf38db1287a/stateA/frame91/dhdl91.xvg /inout/0239cfbd-f325-47fe-87b2-4cf38db1287a/stateA/frame92/dhdl92.xvg /inout/0239cfbd-f325-47fe-87b2-4cf38db1287a/stateA/frame93/dhdl93.xvg /inout/0239cfbd-f325-47fe-87b2-4cf38db1287a/stateA/frame94/dhdl94.xvg /inout/0239cfbd-f325-47fe-87b2-4cf38db1287a/stateA/frame95/dhdl95.xvg /inout/0239cfbd-f325-47fe-87b2-4cf38db1287a/stateA/frame96/dhdl96.xvg /inout/0239cfbd-f325-47fe-87b2-4cf38db1287a/stateA/frame97/dhdl97.xvg /inout/0239cfbd-f325-47fe-87b2-4cf38db1287a/stateA/frame98/dhdl98.xvg /inout/0239cfbd-f325-47fe-87b2-4cf38db1287a/stateA/frame99/dhdl99.xvg -fB /inout/461c395e-dbc6-4224-9bf2-9c20af99d16d/stateB/frame0/dhdl0.xvg /inout/461c395e-dbc6-4224-9bf2-9c20af99d16d/stateB/frame1/dhdl1.xvg /inout/461c395e-dbc6-4224-9bf2-9c20af99d16d/stateB/frame10/dhdl10.xvg /inout/461c395e-dbc6-4224-9bf2-9c20af99d16d/stateB/frame11/dhdl11.xvg /inout/461c395e-dbc6-4224-9bf2-9c20af99d16d/stateB/frame12/dhdl12.xvg /inout/461c395e-dbc6-4224-9bf2-9c20af99d16d/stateB/frame13/dhdl13.xvg /inout/461c395e-dbc6-4224-9bf2-9c20af99d16d/stateB/frame14/dhdl14.xvg /inout/461c395e-dbc6-4224-9bf2-9c20af99d16d/stateB/frame15/dhdl15.xvg /inout/461c395e-dbc6-4224-9bf2-9c20af99d16d/stateB/frame16/dhdl16.xvg /inout/461c395e-dbc6-4224-9bf2-9c20af99d16d/stateB/frame17/dhdl17.xvg /inout/461c395e-dbc6-4224-9bf2-9c20af99d16d/stateB/frame18/dhdl18.xvg /inout/461c395e-dbc6-4224-9bf2-9c20af99d16d/stateB/frame19/dhdl19.xvg /inout/461c395e-dbc6-4224-9bf2-9c20af99d16d/stateB/frame2/dhdl2.xvg /inout/461c395e-dbc6-4224-9bf2-9c20af99d16d/stateB/frame20/dhdl20.xvg /inout/461c395e-dbc6-4224-9bf2-9c20af99d16d/stateB/frame21/dhdl21.xvg /inout/461c395e-dbc6-4224-9bf2-9c20af99d16d/stateB/frame22/dhdl22.xvg /inout/461c395e-dbc6-4224-9bf2-9c20af99d16d/stateB/frame23/dhdl23.xvg /inout/461c395e-dbc6-4224-9bf2-9c20af99d16d/stateB/frame24/dhdl24.xvg /inout/461c395e-dbc6-4224-9bf2-9c20af99d16d/stateB/frame25/dhdl25.xvg /inout/461c395e-dbc6-4224-9bf2-9c20af99d16d/stateB/frame26/dhdl26.xvg /inout/461c395e-dbc6-4224-9bf2-9c20af99d16d/stateB/frame27/dhdl27.xvg /inout/461c395e-dbc6-4224-9bf2-9c20af99d16d/stateB/frame28/dhdl28.xvg /inout/461c395e-dbc6-4224-9bf2-9c20af99d16d/stateB/frame29/dhdl29.xvg /inout/461c395e-dbc6-4224-9bf2-9c20af99d16d/stateB/frame3/dhdl3.xvg /inout/461c395e-dbc6-4224-9bf2-9c20af99d16d/stateB/frame30/dhdl30.xvg /inout/461c395e-dbc6-4224-9bf2-9c20af99d16d/stateB/frame31/dhdl31.xvg /inout/461c395e-dbc6-4224-9bf2-9c20af99d16d/stateB/frame32/dhdl32.xvg /inout/461c395e-dbc6-4224-9bf2-9c20af99d16d/stateB/frame33/dhdl33.xvg /inout/461c395e-dbc6-4224-9bf2-9c20af99d16d/stateB/frame34/dhdl34.xvg /inout/461c395e-dbc6-4224-9bf2-9c20af99d16d/stateB/frame35/dhdl35.xvg /inout/461c395e-dbc6-4224-9bf2-9c20af99d16d/stateB/frame36/dhdl36.xvg /inout/461c395e-dbc6-4224-9bf2-9c20af99d16d/stateB/frame37/dhdl37.xvg /inout/461c395e-dbc6-4224-9bf2-9c20af99d16d/stateB/frame38/dhdl38.xvg /inout/461c395e-dbc6-4224-9bf2-9c20af99d16d/stateB/frame39/dhdl39.xvg /inout/461c395e-dbc6-4224-9bf2-9c20af99d16d/stateB/frame4/dhdl4.xvg /inout/461c395e-dbc6-4224-9bf2-9c20af99d16d/stateB/frame40/dhdl40.xvg /inout/461c395e-dbc6-4224-9bf2-9c20af99d16d/stateB/frame41/dhdl41.xvg /inout/461c395e-dbc6-4224-9bf2-9c20af99d16d/stateB/frame42/dhdl42.xvg /inout/461c395e-dbc6-4224-9bf2-9c20af99d16d/stateB/frame43/dhdl43.xvg /inout/461c395e-dbc6-4224-9bf2-9c20af99d16d/stateB/frame44/dhdl44.xvg /inout/461c395e-dbc6-4224-9bf2-9c20af99d16d/stateB/frame45/dhdl45.xvg /inout/461c395e-dbc6-4224-9bf2-9c20af99d16d/stateB/frame46/dhdl46.xvg /inout/461c395e-dbc6-4224-9bf2-9c20af99d16d/stateB/frame47/dhdl47.xvg /inout/461c395e-dbc6-4224-9bf2-9c20af99d16d/stateB/frame48/dhdl48.xvg /inout/461c395e-dbc6-4224-9bf2-9c20af99d16d/stateB/frame49/dhdl49.xvg /inout/461c395e-dbc6-4224-9bf2-9c20af99d16d/stateB/frame5/dhdl5.xvg /inout/461c395e-dbc6-4224-9bf2-9c20af99d16d/stateB/frame50/dhdl50.xvg /inout/461c395e-dbc6-4224-9bf2-9c20af99d16d/stateB/frame51/dhdl51.xvg /inout/461c395e-dbc6-4224-9bf2-9c20af99d16d/stateB/frame52/dhdl52.xvg /inout/461c395e-dbc6-4224-9bf2-9c20af99d16d/stateB/frame53/dhdl53.xvg /inout/461c395e-dbc6-4224-9bf2-9c20af99d16d/stateB/frame54/dhdl54.xvg /inout/461c395e-dbc6-4224-9bf2-9c20af99d16d/stateB/frame55/dhdl55.xvg /inout/461c395e-dbc6-4224-9bf2-9c20af99d16d/stateB/frame56/dhdl56.xvg /inout/461c395e-dbc6-4224-9bf2-9c20af99d16d/stateB/frame57/dhdl57.xvg /inout/461c395e-dbc6-4224-9bf2-9c20af99d16d/stateB/frame58/dhdl58.xvg /inout/461c395e-dbc6-4224-9bf2-9c20af99d16d/stateB/frame59/dhdl59.xvg /inout/461c395e-dbc6-4224-9bf2-9c20af99d16d/stateB/frame6/dhdl6.xvg /inout/461c395e-dbc6-4224-9bf2-9c20af99d16d/stateB/frame60/dhdl60.xvg /inout/461c395e-dbc6-4224-9bf2-9c20af99d16d/stateB/frame61/dhdl61.xvg /inout/461c395e-dbc6-4224-9bf2-9c20af99d16d/stateB/frame62/dhdl62.xvg /inout/461c395e-dbc6-4224-9bf2-9c20af99d16d/stateB/frame63/dhdl63.xvg /inout/461c395e-dbc6-4224-9bf2-9c20af99d16d/stateB/frame64/dhdl64.xvg /inout/461c395e-dbc6-4224-9bf2-9c20af99d16d/stateB/frame65/dhdl65.xvg /inout/461c395e-dbc6-4224-9bf2-9c20af99d16d/stateB/frame66/dhdl66.xvg /inout/461c395e-dbc6-4224-9bf2-9c20af99d16d/stateB/frame67/dhdl67.xvg /inout/461c395e-dbc6-4224-9bf2-9c20af99d16d/stateB/frame68/dhdl68.xvg /inout/461c395e-dbc6-4224-9bf2-9c20af99d16d/stateB/frame69/dhdl69.xvg /inout/461c395e-dbc6-4224-9bf2-9c20af99d16d/stateB/frame7/dhdl7.xvg /inout/461c395e-dbc6-4224-9bf2-9c20af99d16d/stateB/frame70/dhdl70.xvg /inout/461c395e-dbc6-4224-9bf2-9c20af99d16d/stateB/frame71/dhdl71.xvg /inout/461c395e-dbc6-4224-9bf2-9c20af99d16d/stateB/frame72/dhdl72.xvg /inout/461c395e-dbc6-4224-9bf2-9c20af99d16d/stateB/frame73/dhdl73.xvg /inout/461c395e-dbc6-4224-9bf2-9c20af99d16d/stateB/frame74/dhdl74.xvg /inout/461c395e-dbc6-4224-9bf2-9c20af99d16d/stateB/frame75/dhdl75.xvg /inout/461c395e-dbc6-4224-9bf2-9c20af99d16d/stateB/frame76/dhdl76.xvg /inout/461c395e-dbc6-4224-9bf2-9c20af99d16d/stateB/frame77/dhdl77.xvg /inout/461c395e-dbc6-4224-9bf2-9c20af99d16d/stateB/frame78/dhdl78.xvg /inout/461c395e-dbc6-4224-9bf2-9c20af99d16d/stateB/frame79/dhdl79.xvg /inout/461c395e-dbc6-4224-9bf2-9c20af99d16d/stateB/frame8/dhdl8.xvg /inout/461c395e-dbc6-4224-9bf2-9c20af99d16d/stateB/frame80/dhdl80.xvg /inout/461c395e-dbc6-4224-9bf2-9c20af99d16d/stateB/frame81/dhdl81.xvg /inout/461c395e-dbc6-4224-9bf2-9c20af99d16d/stateB/frame82/dhdl82.xvg /inout/461c395e-dbc6-4224-9bf2-9c20af99d16d/stateB/frame83/dhdl83.xvg /inout/461c395e-dbc6-4224-9bf2-9c20af99d16d/stateB/frame84/dhdl84.xvg /inout/461c395e-dbc6-4224-9bf2-9c20af99d16d/stateB/frame85/dhdl85.xvg /inout/461c395e-dbc6-4224-9bf2-9c20af99d16d/stateB/frame86/dhdl86.xvg /inout/461c395e-dbc6-4224-9bf2-9c20af99d16d/stateB/frame87/dhdl87.xvg /inout/461c395e-dbc6-4224-9bf2-9c20af99d16d/stateB/frame88/dhdl88.xvg /inout/461c395e-dbc6-4224-9bf2-9c20af99d16d/stateB/frame89/dhdl89.xvg /inout/461c395e-dbc6-4224-9bf2-9c20af99d16d/stateB/frame9/dhdl9.xvg /inout/461c395e-dbc6-4224-9bf2-9c20af99d16d/stateB/frame90/dhdl90.xvg /inout/461c395e-dbc6-4224-9bf2-9c20af99d16d/stateB/frame91/dhdl91.xvg /inout/461c395e-dbc6-4224-9bf2-9c20af99d16d/stateB/frame92/dhdl92.xvg /inout/461c395e-dbc6-4224-9bf2-9c20af99d16d/stateB/frame93/dhdl93.xvg /inout/461c395e-dbc6-4224-9bf2-9c20af99d16d/stateB/frame94/dhdl94.xvg /inout/461c395e-dbc6-4224-9bf2-9c20af99d16d/stateB/frame95/dhdl95.xvg /inout/461c395e-dbc6-4224-9bf2-9c20af99d16d/stateB/frame96/dhdl96.xvg /inout/461c395e-dbc6-4224-9bf2-9c20af99d16d/stateB/frame97/dhdl97.xvg /inout/461c395e-dbc6-4224-9bf2-9c20af99d16d/stateB/frame98/dhdl98.xvg /inout/461c395e-dbc6-4224-9bf2-9c20af99d16d/stateB/frame99/dhdl99.xvg -o /inout/pmx.outputs --work_plot /inout/pmx.plots.png --reverseB\"\n",
      "\n"
     ]
    },
    {
     "name": "stderr",
     "output_type": "stream",
     "text": [
      "2020-06-10 14:01:26,341 [MainThread  ] [INFO ]  Exit code 0\n",
      "\n",
      "2020-06-10 14:01:26,343 [MainThread  ] [INFO ]  \n",
      "\n",
      " ========================================================\n",
      "                   PROCESSING THE DATA\n",
      " ========================================================\n",
      "  Forward Data\n",
      "    # data points: 25001\n",
      "    Length of trajectory:   50.000 ps\n",
      "    Delta lambda:  0.00004\n",
      "    Reading /inout/0239cfbd-f325-47fe-87b2-4cf38db1287a/stateA/frame99/dhdl99.xvg\n",
      "\n",
      "  Reverse Data\n",
      "    # data points: 25001\n",
      "    Length of trajectory:   50.000 ps\n",
      "    Delta lambda: -0.00004\n",
      "    Reading /inout/461c395e-dbc6-4224-9bf2-9c20af99d16d/stateB/frame99/dhdl99.xvg\n",
      "\n",
      " ========================================================\n",
      "                       ANALYSIS\n",
      " ========================================================\n",
      "  Number of forward (0->1) trajectories: 100\n",
      "  Number of reverse (1->0) trajectories: 100\n",
      "  Temperature : 298.15 K\n",
      "\n",
      " --------------------------------------------------------\n",
      "             Crooks Gaussian Intersection     \n",
      " --------------------------------------------------------\n",
      "  Calculating Intersection...\n",
      "  Bootstrap (Std Err): iteration 100/100\n",
      "  CGI: Forward Gauss mean =    13.51 kJ/mol std =     4.03 kJ/mol\n",
      "  CGI: Reverse Gauss mean =    -5.40 kJ/mol std =     8.49 kJ/mol\n",
      "  CGI: dG =     6.14 kJ/mol\n",
      "  CGI: Std Err (bootstrap:parametric) =     0.47 kJ/mol\n",
      "  CGI: Std Err (bootstrap) =     0.50 kJ/mol\n",
      "\n",
      "  Running KS-test...\n",
      "    Forward: gaussian quality = 0.41\n",
      "             ---> KS-Test Ok\n",
      "    Reverse: gaussian quality = 0.98\n",
      "             ---> KS-Test Ok\n",
      "\n",
      " --------------------------------------------------------\n",
      "             Bennett Acceptance Ratio     \n",
      " --------------------------------------------------------\n",
      "  Running Nelder-Mead Simplex algorithm... \n",
      "  Bootstrap (Std Err): iteration 100/100\n",
      "  Bootstrap (Conv): iteration 100/100\n",
      "  BAR: dG =     6.17 kJ/mol\n",
      "  BAR: Std Err (analytical) =     0.59 kJ/mol\n",
      "  BAR: Std Err (bootstrap)  =     0.47 kJ/mol\n",
      "  BAR: Conv =     0.15\n",
      "  BAR: Conv Std Err (bootstrap) =     0.08\n",
      "\n",
      " --------------------------------------------------------\n",
      "             Jarzynski estimator     \n",
      " --------------------------------------------------------\n",
      "  Bootstrap (Std Err): iteration 100/100\n",
      "  Bootstrap (Std Err): iteration 100/100\n",
      "  JARZ: dG Forward =    10.24 kJ/mol\n",
      "  JARZ: dG Reverse =     4.34 kJ/mol\n",
      "  JARZ: dG Mean    =     7.29 kJ/mol\n",
      "  JARZ: Std Err Forward (bootstrap) =     0.58 kJ/mol\n",
      "  JARZ: Std Err Reverse (bootstrap) =     1.03 kJ/mol\n",
      "Running Jarzynski Gaussian approximation analysis...\n",
      "  Bootstrap (Std Err): iteration 100/100\n",
      "  Bootstrap (Std Err): iteration 100/100\n",
      "  JARZ_Gauss: dG Forward =    10.19 kJ/mol\n",
      "  JARZ_Gauss: dG Reverse =     9.28 kJ/mol\n",
      "  JARZ_Gauss: dG Mean    =     9.74 kJ/mol\n",
      "  JARZ_Gauss: Std Err (analytical) Forward =     0.62 kJ/mol\n",
      "  JARZ_Gauss: Std Err (analytical) Reverse =     2.25 kJ/mol\n",
      "  JARZ_Gauss: Std Err Forward (bootstrap) =     0.66 kJ/mol\n",
      "  JARZ_Gauss: Std Err Reverse (bootstrap) =     2.09 kJ/mol\n",
      " ========================================================\n",
      "\n",
      "   Plotting histograms......\n",
      "\n",
      "   ......done...........\n",
      "\n",
      "   Execution time = 00:00:15\n",
      "\n",
      "\n",
      "2020-06-10 14:01:26,430 [MainThread  ] [INFO ]  Removed: ['/home/gbayarri_local/projects/BioBB/tutorials/biobb_wf_pmx_tutorial/biobb_wf_pmx_tutorial/notebooks/91acf367-b8d7-4e92-b151-0eef61558fab', '0239cfbd-f325-47fe-87b2-4cf38db1287a', '461c395e-dbc6-4224-9bf2-9c20af99d16d']\n"
     ]
    },
    {
     "data": {
      "text/plain": [
       "0"
      ]
     },
     "execution_count": 22,
     "metadata": {},
     "output_type": "execute_result"
    }
   ],
   "source": [
    "# pmx analyse: analyze_dhdl command from pmx package\n",
    "\n",
    "# Import module\n",
    "from biobb_pmx.pmx.pmxanalyse import Pmxanalyse\n",
    "\n",
    "# Create prop dict and inputs/outputs\n",
    "\n",
    "# Workflow-generated results should be used if a minimum number of transitions are calculated.\n",
    "#state_A_xvg_zip = 'dhdlsA.zip'\n",
    "#state_B_xvg_zip = 'dhdlsB.zip'\n",
    "\n",
    "# In this particular case, as the tutorial is just computing 1 transition (forward + reverse),\n",
    "# values taken from a real run of the snase example will be used instead.\n",
    "state_A_xvg_zip = 'pmx_tutorial/dhdlA.zip'\n",
    "state_B_xvg_zip = 'pmx_tutorial/dhdlB.zip'\n",
    "\n",
    "output_result = 'pmx.outputs'\n",
    "output_work_plot = 'pmx.plots.png'\n",
    "  \n",
    "prop = {\n",
    "    'reverseB' : True,\n",
    "    'container_path' : 'docker',\n",
    "    'container_image' : 'mmbirb/pmx'\n",
    "}\n",
    "\n",
    "#Create and launch bb\n",
    "Pmxanalyse(input_a_xvg_zip_path=state_A_xvg_zip,\n",
    "        input_b_xvg_zip_path=state_B_xvg_zip,\n",
    "        output_result_path=output_result,\n",
    "        output_work_plot_path=output_work_plot,\n",
    "        properties=prop).launch()\n"
   ]
  },
  {
   "cell_type": "markdown",
   "metadata": {},
   "source": [
    "<img src='pmx.plots.png'></img>"
   ]
  },
  {
   "cell_type": "markdown",
   "metadata": {
    "variables": {
     "output_result": "pmx.outputs",
     "output_work_plot": "pmx.plots.png"
    }
   },
   "source": [
    "<a id=\"output\"></a>\n",
    "## Output files\n",
    "\n",
    "Important **Output files** generated:\n",
    " - {{output_result}}: **Final free energy estimation**. Summary of information got applying the different methods.\n",
    " - {{output_work_plot}}: **Final free energy plot** of the **Mutation free energy** pipeline."
   ]
  },
  {
   "cell_type": "markdown",
   "metadata": {},
   "source": [
    "***\n",
    "<a id=\"questions\"></a>\n",
    "\n",
    "## Questions & Comments\n",
    "\n",
    "Questions, issues, suggestions and comments are really welcome!\n",
    "\n",
    "* GitHub issues:\n",
    "    * [https://github.com/bioexcel/biobb](https://github.com/bioexcel/biobb)\n",
    "\n",
    "* BioExcel forum:\n",
    "    * [https://ask.bioexcel.eu/c/BioExcel-Building-Blocks-library](https://ask.bioexcel.eu/c/BioExcel-Building-Blocks-library)\n"
   ]
  }
 ],
 "metadata": {
  "anaconda-cloud": {},
  "kernelspec": {
   "display_name": "Python 3",
   "language": "python",
   "name": "python3"
  },
  "language_info": {
   "codemirror_mode": {
    "name": "ipython",
    "version": 3
   },
   "file_extension": ".py",
   "mimetype": "text/x-python",
   "name": "python",
   "nbconvert_exporter": "python",
   "pygments_lexer": "ipython3",
   "version": "3.7.6"
  }
 },
 "nbformat": 4,
 "nbformat_minor": 2
}
